{
 "cells": [
  {
   "attachments": {},
   "cell_type": "markdown",
   "metadata": {},
   "source": [
    "# Vowel Extractor\n",
    "by Jemar Jude Maranga\n",
    "\n",
    "\n",
    "Given an integer N and a string, your task is to extract N vowels from the given string. The extraction should follow the order in which the vowels appear in the string. If the number of vowels in the string is less than N, you should loop back to the beginning of the string and continue extracting until N vowels have been obtained. Print the result afterward."
   ]
  },
  {
   "cell_type": "code",
   "execution_count": null,
   "metadata": {},
   "outputs": [],
   "source": [
    "n = int(input(\"Enter N: \"))\n",
    "test = input(\"Enter the string: \")\n",
    "vowels = []\n",
    "while len(vowels) != n:\n",
    "    for i in test:\n",
    "        if i.lower() in [\"a\",\"e\",\"i\",\"o\",\"u\"]:\n",
    "            vowels.append(i)\n",
    "            if len(vowels) == n:\n",
    "                break\n",
    "print(*vowels,sep=\"\")"
   ]
  },
  {
   "attachments": {},
   "cell_type": "markdown",
   "metadata": {},
   "source": [
    "# Hexadecimal to Reverse Decimal\n",
    "by Jemar Jude Maranga\n",
    "\n",
    "You have been given the task of implementing a program to convert a hexadecimal number to its reversed decimal equivalent. Hexadecimal numbers are base-16 numbers that use digits ranging from 0 to 9 and letters from A to F, where A represents 10, B represents 11, and so on, up to F representing 15. Your program should take a hexadecimal number as input and output its reversed decimal equivalent.\n",
    "\n",
    "\n",
    "\n",
    "For example, if the input is \"3F\", the expected output is 96, as 3F in hexadecimal represents 63 in decimal, and its reverse is 36. Similarly, if the input is \"A12\", the expected output is 8721, as A12 in hexadecimal represents 2578 in decimal, and its reverse is 8721."
   ]
  },
  {
   "cell_type": "code",
   "execution_count": null,
   "metadata": {},
   "outputs": [],
   "source": [
    "hex = input(\"Enter a hexadecimal number: \")\n",
    "print(f\"Reversed decimal equivalent: {str(int(hex,16))[::-1]}\")"
   ]
  },
  {
   "attachments": {},
   "cell_type": "markdown",
   "metadata": {},
   "source": [
    "# Missing Out\n",
    "by Jemar Jude Maranga\n",
    "\n",
    "You are given an array nums of n integers. Each element nums[i] in the array is within the range of [1, n]. Your task is to find and return an array containing all the integers within the range [1, n] that do not appear in the given array nums.\n",
    "\n",
    "For example, given the array nums = [4, 3, 2, 7, 8, 2, 3, 1], which is of length 8, the expected output is [5, 6]. The numbers 5 and 6 are within the range [1, 8] but do not appear in the nums array.\n",
    "\n"
   ]
  },
  {
   "attachments": {},
   "cell_type": "markdown",
   "metadata": {},
   "source": [
    "size = int(input(\"Enter the size of the array: \"))\n",
    "print(\"Enter the elements of the array: \")\n",
    "list1 = []\n",
    "for i in range(size):\n",
    "    list1.append(input())\n",
    "\n",
    "list1 = [int(i) for i in list1]\n",
    "completed = [i for i in range(1,size+1)]\n",
    "print(\"Missing numbers: \",end=\"\")\n",
    "for i in completed:\n",
    "    if i not in list1 and i <= size:\n",
    "        print(i,end=\" \")"
   ]
  },
  {
   "cell_type": "code",
   "execution_count": null,
   "metadata": {},
   "outputs": [],
   "source": [
    "size = int(input(\"Enter the size of the array: \"))\n",
    "print(\"Enter the elements of the array: \")\n",
    "list1 = []\n",
    "for i in range(size):\n",
    "    list1.append(input())\n",
    "\n",
    "list1 = [int(i) for i in list1]\n",
    "completed = [i for i in range(1,size+1)]\n",
    "print(\"Missing numbers: \",end=\"\")\n",
    "for i in completed:\n",
    "    if i not in list1 and i <= size:\n",
    "        print(i,end=\" \")"
   ]
  },
  {
   "attachments": {},
   "cell_type": "markdown",
   "metadata": {},
   "source": [
    "# Matrix Diagonals Addition\n",
    "by Jemar Jude Maranga\n",
    "\n",
    "You have been assigned the task of writing a program that adds the diagonals of two square matrices of the same size. The program should prompt the user to enter the size of the matrices and their elements, and then display the resulting matrix after adding the diagonals.\n",
    "\n",
    "\n",
    "\n",
    "To perform the addition of diagonals, you need to sum the elements along the main diagonals of each matrix. The resulting matrix will have the same size as the input matrices.\n",
    "\n",
    "\n",
    "\n",
    "Example:\n",
    "\n",
    "Matrix A:\n",
    "\n",
    "1 2 3\n",
    "\n",
    "4 5 6\n",
    "\n",
    "7 8 9\n",
    "\n",
    "\n",
    "\n",
    "Matrix B:\n",
    "\n",
    "9 8 7\n",
    "\n",
    "6 5 4\n",
    "\n",
    "3 2 1\n",
    "\n",
    "\n",
    "\n",
    "Result:\n",
    "\n",
    "10 0 10\n",
    "\n",
    "0 10 0\n",
    "\n",
    "10 0 10"
   ]
  },
  {
   "cell_type": "code",
   "execution_count": null,
   "metadata": {},
   "outputs": [],
   "source": [
    "size = int(input(\"Enter the size of the matrices: \"))\n",
    "print(\"Enter the elements of Matrix A:\")\n",
    "list_A = []\n",
    "list_B = []\n",
    "for i in range(size):\n",
    "    list_A.append([int(i) for i in input().split()])\n",
    "    \n",
    "print(\"Enter the elements of Matrix B:\")\n",
    "for i in range(size):\n",
    "    list_B.append([int(i) for i in input().split()])\n",
    "\n",
    "empty = []\n",
    "for i in range(size):\n",
    "    empty.append([0 for i in range(size)])\n",
    "\n",
    "for i in range(size):\n",
    "    empty[i][i] = list_A[i][i] + list_B[i][i]\n",
    "    empty[i][-1-i] = list_A[i][-1-i] + list_B[i][-1-i]\n",
    "    \n",
    "print(\"Resulting Matrix: \")\n",
    "for i in empty:\n",
    "    for x in i:\n",
    "        print(x,end=\" \")\n",
    "    print()"
   ]
  },
  {
   "attachments": {},
   "cell_type": "markdown",
   "metadata": {},
   "source": [
    "# Superimposition\n",
    "by Jemar Jude Maranga\n",
    "\n",
    "You are required to write a program that finds the sum of the digits of a given number repeatedly until there is only one digit left. The program should prompt the user to enter a positive integer and display the final single-digit sum.\n",
    "\n",
    "To calculate the sum of the digits, add up all the individual digits of the number. If the resulting sum has more than one digit, repeat the process until a single-digit sum is obtained.\n",
    "\n",
    "\n",
    "\n",
    "For example, given the number 12345, the program should calculate the sum as follows:\n",
    "\n",
    "1 + 2 + 3 + 4 + 5 = 15\n",
    "\n",
    "\n",
    "\n",
    "Since the sum is not a single digit, the process continues:\n",
    "\n",
    "1 + 5 = 6\n",
    "\n",
    "\n",
    "\n",
    "Now, the sum is a single digit, and the program should display the final result, which is 6."
   ]
  },
  {
   "cell_type": "code",
   "execution_count": null,
   "metadata": {},
   "outputs": [],
   "source": [
    "nums = input(\"Enter a positive integer: \")\n",
    "sums = str(sum([int(i) for i in nums]))\n",
    "if len(sums) == 1:\n",
    "    print(f\"Final sum: {int(sums)}\")\n",
    "else:\n",
    "    while len(sums) != 1:\n",
    "        sums = str(sum([int(i) for i in sums]))\n",
    "    print(f\"Final sum: {int(sums)}\")"
   ]
  },
  {
   "attachments": {},
   "cell_type": "markdown",
   "metadata": {},
   "source": [
    "# You Only Get Once\n",
    "by Jemar Jude Maranga\n",
    "\n",
    "You are given a non-empty array of integers called nums, where every element appears twice except for one. Your task is to find the unique element that occurs only once in the array.\n",
    "\n",
    "For example, given the array:\n",
    "\n",
    "[2, 1, 3, 2, 1]\n",
    "\n",
    "\n",
    "\n",
    "In this array, all elements except 3 occur twice. Therefore, the program should find and return the unique element, which is 3."
   ]
  },
  {
   "cell_type": "code",
   "execution_count": null,
   "metadata": {},
   "outputs": [],
   "source": [
    "size = int(input(\"Enter the size of the array: \"))\n",
    "print(\"Enter the elements of the array: \")\n",
    "list1 = []\n",
    "for i in range(size):\n",
    "    list1.append(input())\n",
    "\n",
    "uniques = set(list1)\n",
    "for i in uniques:\n",
    "    if list1.count(i) == 1:\n",
    "        print(f\"The unique element: {i}\")"
   ]
  },
  {
   "attachments": {},
   "cell_type": "markdown",
   "metadata": {},
   "source": [
    "# All Prime\n",
    "by Jemar Jude Maranga\n",
    "\n",
    "You are given an array of integers called nums. Your task is to write a program that finds and calculates the sum of all prime numbers present in the array.\n",
    "\n",
    "\n",
    "\n",
    "A prime number is a positive integer greater than 1 that has no positive divisors other than 1 and itself. For example, 2, 3, 5, 7, 11, and 13 are prime numbers.\n",
    "\n",
    "\n",
    "\n",
    "To solve this problem, iterate through each element in the array and determine if it is a prime number. If an element is prime, add it to the running sum. Finally, return the sum of all prime numbers."
   ]
  },
  {
   "cell_type": "code",
   "execution_count": null,
   "metadata": {},
   "outputs": [],
   "source": [
    "def is_prime(n):\n",
    "    if n <= 2:\n",
    "        return True\n",
    "    for i in range(2,int(n**0.5)+1):\n",
    "        if n % i == 0:\n",
    "            return False\n",
    "    return True\n",
    "\n",
    "size = int(input(\"Enter the size of the array: \"))\n",
    "print(\"Enter the elements of the array: \")\n",
    "list1 = []\n",
    "for i in range(size):\n",
    "    list1.append(input())\n",
    "\n",
    "primes = sum([int(i) for i in list1 if is_prime(int(i))])\n",
    "\n",
    "print(f\"Sum: {primes}\")"
   ]
  },
  {
   "attachments": {},
   "cell_type": "markdown",
   "metadata": {},
   "source": [
    "# Time Converter\n",
    "by Jemar Jude Maranga\n",
    "\n",
    "You are given a time in the AM/PM format and your task is to convert it to military time, which follows a 24-hour clock. Write a program that takes a time in the -hour AM/PM format and outputs the equivalent time in the military (24-hour) format.\n",
    "\n",
    "\n",
    "\n",
    "Constraints:\n",
    "\n",
    "The input time will be in the format hh:mm:ssAM or hh:mm:ssPM, where hh represents hours (01 to 12), mm represents minutes (00 to 59), and ss represents seconds (00 to 59).\n",
    "You may assume that the input time is always valid and does not contain any errors.\n",
    "\n",
    "\n",
    "Example 1:\n",
    "\n",
    "Input: \"12:01:00AM\"\n",
    "\n",
    "Output: \"00:01:00\"\n",
    "\n",
    "\n",
    "\n",
    "Example 2:\n",
    "\n",
    "Input: \"12:01:00PM\"\n",
    "\n",
    "Output: \"12:01:00\""
   ]
  },
  {
   "cell_type": "code",
   "execution_count": null,
   "metadata": {},
   "outputs": [],
   "source": [
    "org = input(\"Enter the time in the AM/PM format: \")\n",
    "if org.endswith(\"PM\"):\n",
    "    if org.startswith(\"12\"):\n",
    "        print(f\"Equivalent military time: {org.replace('PM','')}\")\n",
    "    else:\n",
    "        parts = org.split(\":\")\n",
    "        print(f\"Equivalent military time: {int(parts[0])+12}:{parts[1]}:{parts[2].replace('PM','')}\")\n",
    "else:\n",
    "    if org.startswith(\"12\"):\n",
    "        parts = org.split(\":\")\n",
    "        print(f\"Equivalent military time: 00:{parts[1]}:{parts[2].replace('AM','')}\")\n",
    "    else:\n",
    "        print(f\"Equivalent military time: {org.replace('AM','')}\")"
   ]
  }
 ],
 "metadata": {
  "language_info": {
   "name": "python"
  },
  "orig_nbformat": 4
 },
 "nbformat": 4,
 "nbformat_minor": 2
}
