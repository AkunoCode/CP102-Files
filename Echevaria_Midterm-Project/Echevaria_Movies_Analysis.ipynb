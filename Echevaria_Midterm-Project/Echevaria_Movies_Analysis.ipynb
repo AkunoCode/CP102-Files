{
 "cells": [
  {
   "attachments": {},
   "cell_type": "markdown",
   "metadata": {},
   "source": [
    "<font size = 5><center>Midterm Course Outcome Output</center></font><br>\n",
    "<font size = 5><center><strong>Data Wrangling, Data Analysis, and Data Visualization</strong></center></font><br>\n",
    "<font size = 5><center>(25k IMDb Movie Dataset)</center></font><br>\n",
    "<center><font size = 4>John Leo D. Echevaria (A22-34233)</font><br/>College of Computing and Multimedia Studies<br/>Manuel S. Enverga University Foundation</center>"
   ]
  },
  {
   "cell_type": "code",
   "execution_count": 35,
   "metadata": {},
   "outputs": [],
   "source": [
    "import pandas as pd\n",
    "import hvplot.pandas\n",
    "import holoviews as hv"
   ]
  },
  {
   "cell_type": "code",
   "execution_count": 36,
   "metadata": {},
   "outputs": [
    {
     "data": {
      "text/html": [
       "<div>\n",
       "<style scoped>\n",
       "    .dataframe tbody tr th:only-of-type {\n",
       "        vertical-align: middle;\n",
       "    }\n",
       "\n",
       "    .dataframe tbody tr th {\n",
       "        vertical-align: top;\n",
       "    }\n",
       "\n",
       "    .dataframe thead th {\n",
       "        text-align: right;\n",
       "    }\n",
       "</style>\n",
       "<table border=\"1\" class=\"dataframe\">\n",
       "  <thead>\n",
       "    <tr style=\"text-align: right;\">\n",
       "      <th></th>\n",
       "      <th>movie title</th>\n",
       "      <th>Run Time</th>\n",
       "      <th>Rating</th>\n",
       "      <th>User Rating</th>\n",
       "      <th>Generes</th>\n",
       "      <th>Overview</th>\n",
       "      <th>Plot Kyeword</th>\n",
       "      <th>Director</th>\n",
       "      <th>Top 5 Casts</th>\n",
       "      <th>Writer</th>\n",
       "      <th>year</th>\n",
       "      <th>path</th>\n",
       "    </tr>\n",
       "  </thead>\n",
       "  <tbody>\n",
       "    <tr>\n",
       "      <th>0</th>\n",
       "      <td>Top Gun: Maverick</td>\n",
       "      <td>$170,000,000 (estimated)</td>\n",
       "      <td>8.6</td>\n",
       "      <td>187K</td>\n",
       "      <td>['Action', 'Drama']</td>\n",
       "      <td>After more than thirty years of service as one...</td>\n",
       "      <td>['fighter jet', 'sequel', 'u.s. navy', 'fighte...</td>\n",
       "      <td>Joseph Kosinski</td>\n",
       "      <td>['Jack Epps Jr.', 'Peter Craig', 'Tom Cruise',...</td>\n",
       "      <td>Jim Cash</td>\n",
       "      <td>-2022</td>\n",
       "      <td>/title/tt1745960/</td>\n",
       "    </tr>\n",
       "    <tr>\n",
       "      <th>1</th>\n",
       "      <td>Jurassic World Dominion</td>\n",
       "      <td>2 hours 27 minutes</td>\n",
       "      <td>6</td>\n",
       "      <td>56K</td>\n",
       "      <td>['Action', 'Adventure', 'Sci-Fi']</td>\n",
       "      <td>Four years after the destruction of Isla Nubla...</td>\n",
       "      <td>['dinosaur', 'jurassic park', 'tyrannosaurus r...</td>\n",
       "      <td>Colin Trevorrow</td>\n",
       "      <td>['Colin Trevorrow', 'Derek Connolly', 'Chris P...</td>\n",
       "      <td>Emily Carmichael</td>\n",
       "      <td>-2022</td>\n",
       "      <td>/title/tt8041270/</td>\n",
       "    </tr>\n",
       "    <tr>\n",
       "      <th>2</th>\n",
       "      <td>Top Gun</td>\n",
       "      <td>$15,000,000 (estimated)</td>\n",
       "      <td>6.9</td>\n",
       "      <td>380K</td>\n",
       "      <td>['Action', 'Drama']</td>\n",
       "      <td>As students at the United States Navy's elite ...</td>\n",
       "      <td>['pilot', 'male camaraderie', 'u.s. navy', 'gr...</td>\n",
       "      <td>Tony Scott</td>\n",
       "      <td>['Jack Epps Jr.', 'Ehud Yonay', 'Tom Cruise', ...</td>\n",
       "      <td>Jim Cash</td>\n",
       "      <td>-1986</td>\n",
       "      <td>/title/tt0092099/</td>\n",
       "    </tr>\n",
       "    <tr>\n",
       "      <th>3</th>\n",
       "      <td>Lightyear</td>\n",
       "      <td>$71,101,257</td>\n",
       "      <td>5.2</td>\n",
       "      <td>32K</td>\n",
       "      <td>['Animation', 'Action', 'Adventure']</td>\n",
       "      <td>While spending years attempting to return home...</td>\n",
       "      <td>['galaxy', 'spaceship', 'robot', 'rocket', 'sp...</td>\n",
       "      <td>Angus MacLane</td>\n",
       "      <td>['Jason Headley', 'Matthew Aldrich', 'Chris Ev...</td>\n",
       "      <td>Angus MacLane</td>\n",
       "      <td>-2022</td>\n",
       "      <td>/title/tt10298810/</td>\n",
       "    </tr>\n",
       "    <tr>\n",
       "      <th>4</th>\n",
       "      <td>Spiderhead</td>\n",
       "      <td>not-released</td>\n",
       "      <td>5.4</td>\n",
       "      <td>23K</td>\n",
       "      <td>['Action', 'Crime', 'Drama']</td>\n",
       "      <td>In the near future, convicts are offered the c...</td>\n",
       "      <td>['discover', 'medical', 'test', 'reality', 'fi...</td>\n",
       "      <td>Joseph Kosinski</td>\n",
       "      <td>['Rhett Reese', 'Paul Wernick', 'Chris Hemswor...</td>\n",
       "      <td>George Saunders</td>\n",
       "      <td>-2022</td>\n",
       "      <td>/title/tt9783600/</td>\n",
       "    </tr>\n",
       "  </tbody>\n",
       "</table>\n",
       "</div>"
      ],
      "text/plain": [
       "               movie title                  Run Time Rating User Rating  \\\n",
       "0        Top Gun: Maverick  $170,000,000 (estimated)    8.6        187K   \n",
       "1  Jurassic World Dominion        2 hours 27 minutes      6         56K   \n",
       "2                  Top Gun   $15,000,000 (estimated)    6.9        380K   \n",
       "3                Lightyear               $71,101,257    5.2         32K   \n",
       "4               Spiderhead              not-released    5.4         23K   \n",
       "\n",
       "                                Generes  \\\n",
       "0                   ['Action', 'Drama']   \n",
       "1     ['Action', 'Adventure', 'Sci-Fi']   \n",
       "2                   ['Action', 'Drama']   \n",
       "3  ['Animation', 'Action', 'Adventure']   \n",
       "4          ['Action', 'Crime', 'Drama']   \n",
       "\n",
       "                                            Overview  \\\n",
       "0  After more than thirty years of service as one...   \n",
       "1  Four years after the destruction of Isla Nubla...   \n",
       "2  As students at the United States Navy's elite ...   \n",
       "3  While spending years attempting to return home...   \n",
       "4  In the near future, convicts are offered the c...   \n",
       "\n",
       "                                        Plot Kyeword         Director  \\\n",
       "0  ['fighter jet', 'sequel', 'u.s. navy', 'fighte...  Joseph Kosinski   \n",
       "1  ['dinosaur', 'jurassic park', 'tyrannosaurus r...  Colin Trevorrow   \n",
       "2  ['pilot', 'male camaraderie', 'u.s. navy', 'gr...       Tony Scott   \n",
       "3  ['galaxy', 'spaceship', 'robot', 'rocket', 'sp...    Angus MacLane   \n",
       "4  ['discover', 'medical', 'test', 'reality', 'fi...  Joseph Kosinski   \n",
       "\n",
       "                                         Top 5 Casts            Writer   year  \\\n",
       "0  ['Jack Epps Jr.', 'Peter Craig', 'Tom Cruise',...          Jim Cash  -2022   \n",
       "1  ['Colin Trevorrow', 'Derek Connolly', 'Chris P...  Emily Carmichael  -2022   \n",
       "2  ['Jack Epps Jr.', 'Ehud Yonay', 'Tom Cruise', ...          Jim Cash  -1986   \n",
       "3  ['Jason Headley', 'Matthew Aldrich', 'Chris Ev...     Angus MacLane  -2022   \n",
       "4  ['Rhett Reese', 'Paul Wernick', 'Chris Hemswor...   George Saunders  -2022   \n",
       "\n",
       "                 path  \n",
       "0   /title/tt1745960/  \n",
       "1   /title/tt8041270/  \n",
       "2   /title/tt0092099/  \n",
       "3  /title/tt10298810/  \n",
       "4   /title/tt9783600/  "
      ]
     },
     "execution_count": 36,
     "metadata": {},
     "output_type": "execute_result"
    }
   ],
   "source": [
    "df = pd.read_csv('25k IMDb movie Dataset.csv')\n",
    "df.head()"
   ]
  },
  {
   "attachments": {},
   "cell_type": "markdown",
   "metadata": {},
   "source": [
    "# Data Wrangling"
   ]
  },
  {
   "cell_type": "code",
   "execution_count": 37,
   "metadata": {},
   "outputs": [],
   "source": [
    "# Changing the type case for the columns\n",
    "df.columns = [col.title() for col in df.columns]"
   ]
  },
  {
   "cell_type": "code",
   "execution_count": 38,
   "metadata": {},
   "outputs": [],
   "source": [
    "# Fixing the typo on the Genre column\n",
    "df.rename(columns={'Generes':'Genres'},inplace=True)"
   ]
  },
  {
   "cell_type": "code",
   "execution_count": 39,
   "metadata": {},
   "outputs": [],
   "source": [
    "# Removing unnecessary columns\n",
    "df.drop(columns=['Overview','Plot Kyeword','Path'],inplace=True)"
   ]
  },
  {
   "cell_type": "code",
   "execution_count": 40,
   "metadata": {},
   "outputs": [],
   "source": [
    "# Removing the non-digit characters in the year column\n",
    "df['Year'] = df['Year'].str.replace(r'[^\\d]', '',regex=True)"
   ]
  },
  {
   "cell_type": "code",
   "execution_count": 41,
   "metadata": {},
   "outputs": [],
   "source": [
    "# Converting the year column datas into integer and removing rows without datas or NaN.\n",
    "df['Year'] = pd.to_numeric(df['Year'], errors='coerce')\n",
    "df = df.dropna(subset=['Year'])\n",
    "df.Year = df.Year.astype(int)"
   ]
  },
  {
   "cell_type": "code",
   "execution_count": 42,
   "metadata": {},
   "outputs": [],
   "source": [
    "# Converting the rating column into numeric values\n",
    "df['Rating'] = pd.to_numeric(df['Rating'], errors='coerce')"
   ]
  },
  {
   "cell_type": "code",
   "execution_count": 43,
   "metadata": {},
   "outputs": [],
   "source": [
    "# Converting the user rating column into numeric value and multiplying by thousands if 'k' and millions if 'm'\n",
    "def convert_rating_to_number(rating):\n",
    "    if 'k' in rating:\n",
    "        return int(float(rating.replace('k', ''))) * 1000\n",
    "    elif 'm' in rating:\n",
    "        return int(float(rating.replace('m', ''))) * 1000000\n",
    "    else:\n",
    "        return int(float(rating))\n",
    "\n",
    "df['User Rating'] = df['User Rating'].str.lower().apply(convert_rating_to_number)"
   ]
  },
  {
   "cell_type": "code",
   "execution_count": 44,
   "metadata": {},
   "outputs": [],
   "source": [
    "# There are datas beyond 2023 so we'll remove it.\n",
    "df = df.drop(df[df['Year'] > 2022].index)"
   ]
  },
  {
   "cell_type": "code",
   "execution_count": 45,
   "metadata": {},
   "outputs": [],
   "source": [
    "# There are movies included that are not-released.\n",
    "df = df.drop(df[df['Run Time'] == 'not-released'].index)"
   ]
  },
  {
   "cell_type": "code",
   "execution_count": 46,
   "metadata": {},
   "outputs": [],
   "source": [
    "# Dropping Run Time because it seems to have mixed values of data.\n",
    "df.drop(columns=['Run Time'],inplace=True)"
   ]
  },
  {
   "cell_type": "code",
   "execution_count": 47,
   "metadata": {},
   "outputs": [],
   "source": [
    "# Copying the dataframe to a new variable\n",
    "df_exploded_genres = df\n",
    "df_exploded_casts = df"
   ]
  },
  {
   "cell_type": "code",
   "execution_count": 48,
   "metadata": {},
   "outputs": [],
   "source": [
    "# Exploding the list of genres on movies, and assigning it to a new dataframe. (To be used later)\n",
    "df_exploded_genres['Genres'] = df_exploded_genres['Genres'].astype(str)\n",
    "df_exploded_genres['Genres'] = df_exploded_genres['Genres'].str.strip('[]')\n",
    "df_exploded_genres['Genres'] = df_exploded_genres['Genres'].str.split(', ')\n",
    "df_exploded_genres = df_exploded_genres.explode('Genres')"
   ]
  },
  {
   "cell_type": "code",
   "execution_count": 49,
   "metadata": {},
   "outputs": [],
   "source": [
    "# Exploding the list of top 5 casts on movies, and assigning it to a new dataframe. (To be used later)\n",
    "df_exploded_casts['Top 5 Casts'] = df_exploded_casts['Top 5 Casts'].astype(str)\n",
    "df_exploded_casts['Top 5 Casts'] = df_exploded_casts['Top 5 Casts'].str.strip('[]')\n",
    "df_exploded_casts['Top 5 Casts'] = df_exploded_casts['Top 5 Casts'].str.split(', ')\n",
    "df_exploded_casts = df_exploded_casts.explode('Top 5 Casts')"
   ]
  },
  {
   "attachments": {},
   "cell_type": "markdown",
   "metadata": {},
   "source": [
    "# Data Analysis and Visualization"
   ]
  },
  {
   "attachments": {},
   "cell_type": "markdown",
   "metadata": {},
   "source": [
    "### How does the number of movies released each year vary over time?"
   ]
  },
  {
   "cell_type": "code",
   "execution_count": 50,
   "metadata": {},
   "outputs": [
    {
     "data": {},
     "metadata": {},
     "output_type": "display_data"
    },
    {
     "data": {
      "application/vnd.holoviews_exec.v0+json": "",
      "text/html": [
       "<div id='3196'>\n",
       "  <div class=\"bk-root\" id=\"14603f7b-af7b-4845-9e12-05dae4b7010b\" data-root-id=\"3196\"></div>\n",
       "</div>\n",
       "<script type=\"application/javascript\">(function(root) {\n",
       "  function embed_document(root) {\n",
       "    var docs_json = {\"43d5e225-a845-44e6-96a0-b80a792bb337\":{\"defs\":[{\"extends\":null,\"module\":null,\"name\":\"ReactiveHTML1\",\"overrides\":[],\"properties\":[]},{\"extends\":null,\"module\":null,\"name\":\"FlexBox1\",\"overrides\":[],\"properties\":[{\"default\":\"flex-start\",\"kind\":null,\"name\":\"align_content\"},{\"default\":\"flex-start\",\"kind\":null,\"name\":\"align_items\"},{\"default\":\"row\",\"kind\":null,\"name\":\"flex_direction\"},{\"default\":\"wrap\",\"kind\":null,\"name\":\"flex_wrap\"},{\"default\":\"flex-start\",\"kind\":null,\"name\":\"justify_content\"}]},{\"extends\":null,\"module\":null,\"name\":\"GridStack1\",\"overrides\":[],\"properties\":[{\"default\":\"warn\",\"kind\":null,\"name\":\"mode\"},{\"default\":null,\"kind\":null,\"name\":\"ncols\"},{\"default\":null,\"kind\":null,\"name\":\"nrows\"},{\"default\":true,\"kind\":null,\"name\":\"allow_resize\"},{\"default\":true,\"kind\":null,\"name\":\"allow_drag\"},{\"default\":[],\"kind\":null,\"name\":\"state\"}]},{\"extends\":null,\"module\":null,\"name\":\"click1\",\"overrides\":[],\"properties\":[{\"default\":\"\",\"kind\":null,\"name\":\"terminal_output\"},{\"default\":\"\",\"kind\":null,\"name\":\"debug_name\"},{\"default\":0,\"kind\":null,\"name\":\"clears\"}]},{\"extends\":null,\"module\":null,\"name\":\"NotificationAreaBase1\",\"overrides\":[],\"properties\":[{\"default\":\"bottom-right\",\"kind\":null,\"name\":\"position\"},{\"default\":0,\"kind\":null,\"name\":\"_clear\"}]},{\"extends\":null,\"module\":null,\"name\":\"NotificationArea1\",\"overrides\":[],\"properties\":[{\"default\":[],\"kind\":null,\"name\":\"notifications\"},{\"default\":\"bottom-right\",\"kind\":null,\"name\":\"position\"},{\"default\":0,\"kind\":null,\"name\":\"_clear\"},{\"default\":[{\"background\":\"#ffc107\",\"icon\":{\"className\":\"fas fa-exclamation-triangle\",\"color\":\"white\",\"tagName\":\"i\"},\"type\":\"warning\"},{\"background\":\"#007bff\",\"icon\":{\"className\":\"fas fa-info-circle\",\"color\":\"white\",\"tagName\":\"i\"},\"type\":\"info\"}],\"kind\":null,\"name\":\"types\"}]},{\"extends\":null,\"module\":null,\"name\":\"Notification\",\"overrides\":[],\"properties\":[{\"default\":null,\"kind\":null,\"name\":\"background\"},{\"default\":3000,\"kind\":null,\"name\":\"duration\"},{\"default\":null,\"kind\":null,\"name\":\"icon\"},{\"default\":\"\",\"kind\":null,\"name\":\"message\"},{\"default\":null,\"kind\":null,\"name\":\"notification_type\"},{\"default\":false,\"kind\":null,\"name\":\"_destroyed\"}]},{\"extends\":null,\"module\":null,\"name\":\"TemplateActions1\",\"overrides\":[],\"properties\":[{\"default\":0,\"kind\":null,\"name\":\"open_modal\"},{\"default\":0,\"kind\":null,\"name\":\"close_modal\"}]},{\"extends\":null,\"module\":null,\"name\":\"MaterialTemplateActions1\",\"overrides\":[],\"properties\":[{\"default\":0,\"kind\":null,\"name\":\"open_modal\"},{\"default\":0,\"kind\":null,\"name\":\"close_modal\"}]}],\"roots\":{\"references\":[{\"attributes\":{},\"id\":\"3231\",\"type\":\"Selection\"},{\"attributes\":{\"data\":{\"Movie Title\":[1,2,1,1,1,1,1,1,3,4,4,4,6,3,6,10,10,21,13,12,13,21,17,15,40,27,31,32,21,34,33,32,43,36,41,35,42,44,65,65,73,62,56,63,60,47,51,59,51,62,58,66,59,68,59,78,93,90,92,102,83,75,82,104,102,112,121,131,122,141,162,172,203,201,201,185,180,174,201,206,213,233,231,206,217,228,252,272,272,286,290,367,361,389,427,371,405,436,467,501,491,599,606,622,718,512,559,270],\"Movie_Title\":[1,2,1,1,1,1,1,1,3,4,4,4,6,3,6,10,10,21,13,12,13,21,17,15,40,27,31,32,21,34,33,32,43,36,41,35,42,44,65,65,73,62,56,63,60,47,51,59,51,62,58,66,59,68,59,78,93,90,92,102,83,75,82,104,102,112,121,131,122,141,162,172,203,201,201,185,180,174,201,206,213,233,231,206,217,228,252,272,272,286,290,367,361,389,427,371,405,436,467,501,491,599,606,622,718,512,559,270],\"Year\":[1906,1914,1915,1916,1918,1920,1921,1922,1923,1924,1925,1926,1927,1928,1929,1930,1931,1932,1933,1934,1935,1936,1937,1938,1939,1940,1941,1942,1943,1944,1945,1946,1947,1948,1949,1950,1951,1952,1953,1954,1955,1956,1957,1958,1959,1960,1961,1962,1963,1964,1965,1966,1967,1968,1969,1970,1971,1972,1973,1974,1975,1976,1977,1978,1979,1980,1981,1982,1983,1984,1985,1986,1987,1988,1989,1990,1991,1992,1993,1994,1995,1996,1997,1998,1999,2000,2001,2002,2003,2004,2005,2006,2007,2008,2009,2010,2011,2012,2013,2014,2015,2016,2017,2018,2019,2020,2021,2022]},\"selected\":{\"id\":\"3231\"},\"selection_policy\":{\"id\":\"3256\"}},\"id\":\"3230\",\"type\":\"ColumnDataSource\"},{\"attributes\":{\"axis\":{\"id\":\"3209\"},\"coordinates\":null,\"grid_line_color\":null,\"group\":null,\"ticker\":null},\"id\":\"3212\",\"type\":\"Grid\"},{\"attributes\":{\"children\":[{\"id\":\"3200\"}],\"height\":500,\"margin\":[0,0,0,0],\"name\":\"Row06855\",\"sizing_mode\":\"fixed\",\"tags\":[\"embedded\"],\"width\":1000},\"id\":\"3196\",\"type\":\"Row\"},{\"attributes\":{},\"id\":\"3205\",\"type\":\"LinearScale\"},{\"attributes\":{},\"id\":\"3244\",\"type\":\"AllLabels\"},{\"attributes\":{},\"id\":\"3210\",\"type\":\"BasicTicker\"},{\"attributes\":{\"bottom_units\":\"screen\",\"coordinates\":null,\"fill_alpha\":0.5,\"fill_color\":\"lightgrey\",\"group\":null,\"left_units\":\"screen\",\"level\":\"overlay\",\"line_alpha\":1.0,\"line_color\":\"black\",\"line_dash\":[4,4],\"line_width\":2,\"right_units\":\"screen\",\"syncable\":false,\"top_units\":\"screen\"},\"id\":\"3222\",\"type\":\"BoxAnnotation\"},{\"attributes\":{\"line_alpha\":0.1,\"line_color\":\"goldenrod\",\"line_width\":4,\"x\":{\"field\":\"Year\"},\"y\":{\"field\":\"Movie Title\"}},\"id\":\"3234\",\"type\":\"Line\"},{\"attributes\":{},\"id\":\"3214\",\"type\":\"BasicTicker\"},{\"attributes\":{},\"id\":\"3217\",\"type\":\"SaveTool\"},{\"attributes\":{\"coordinates\":null,\"data_source\":{\"id\":\"3230\"},\"glyph\":{\"id\":\"3233\"},\"group\":null,\"hover_glyph\":null,\"muted_glyph\":{\"id\":\"3235\"},\"nonselection_glyph\":{\"id\":\"3234\"},\"selection_glyph\":{\"id\":\"3238\"},\"view\":{\"id\":\"3237\"}},\"id\":\"3236\",\"type\":\"GlyphRenderer\"},{\"attributes\":{\"axis_label\":\"Number of Movies Released\",\"axis_label_text_font_size\":\"12pt\",\"coordinates\":null,\"formatter\":{\"id\":\"3243\"},\"group\":null,\"major_label_policy\":{\"id\":\"3244\"},\"ticker\":{\"id\":\"3214\"}},\"id\":\"3213\",\"type\":\"LinearAxis\"},{\"attributes\":{\"source\":{\"id\":\"3230\"}},\"id\":\"3237\",\"type\":\"CDSView\"},{\"attributes\":{\"line_color\":\"goldenrod\",\"line_width\":4,\"x\":{\"field\":\"Year\"},\"y\":{\"field\":\"Movie Title\"}},\"id\":\"3233\",\"type\":\"Line\"},{\"attributes\":{\"axis_label\":\"Year of Release\",\"axis_label_text_font_size\":\"12pt\",\"coordinates\":null,\"formatter\":{\"id\":\"3240\"},\"group\":null,\"major_label_policy\":{\"id\":\"3241\"},\"ticker\":{\"id\":\"3210\"}},\"id\":\"3209\",\"type\":\"LinearAxis\"},{\"attributes\":{},\"id\":\"3221\",\"type\":\"ResetTool\"},{\"attributes\":{},\"id\":\"3218\",\"type\":\"PanTool\"},{\"attributes\":{},\"id\":\"3240\",\"type\":\"BasicTickFormatter\"},{\"attributes\":{\"coordinates\":null,\"group\":null,\"text\":\"Number of Movies Released Over Time (1906-2022)\",\"text_color\":\"black\",\"text_font_size\":\"16pt\"},\"id\":\"3201\",\"type\":\"Title\"},{\"attributes\":{\"overlay\":{\"id\":\"3222\"}},\"id\":\"3220\",\"type\":\"BoxZoomTool\"},{\"attributes\":{\"axis\":{\"id\":\"3213\"},\"coordinates\":null,\"dimension\":1,\"grid_line_color\":null,\"group\":null,\"ticker\":null},\"id\":\"3216\",\"type\":\"Grid\"},{\"attributes\":{},\"id\":\"3207\",\"type\":\"LinearScale\"},{\"attributes\":{\"active_drag\":{\"id\":\"3218\"},\"active_scroll\":{\"id\":\"3219\"},\"tools\":[{\"id\":\"3199\"},{\"id\":\"3217\"},{\"id\":\"3218\"},{\"id\":\"3219\"},{\"id\":\"3220\"},{\"id\":\"3221\"}]},\"id\":\"3223\",\"type\":\"Toolbar\"},{\"attributes\":{},\"id\":\"3243\",\"type\":\"BasicTickFormatter\"},{\"attributes\":{},\"id\":\"3256\",\"type\":\"UnionRenderers\"},{\"attributes\":{\"callback\":null,\"renderers\":[{\"id\":\"3236\"}],\"tags\":[\"hv_created\"],\"tooltips\":[[\"Year\",\"@{Year}\"],[\"Movie Title\",\"@{Movie_Title}\"]]},\"id\":\"3199\",\"type\":\"HoverTool\"},{\"attributes\":{\"end\":2022.0,\"reset_end\":2022.0,\"reset_start\":1906.0,\"start\":1906.0,\"tags\":[[[\"Year\",\"Year\",null]]]},\"id\":\"3197\",\"type\":\"Range1d\"},{\"attributes\":{\"line_alpha\":0.2,\"line_color\":\"goldenrod\",\"line_width\":4,\"x\":{\"field\":\"Year\"},\"y\":{\"field\":\"Movie Title\"}},\"id\":\"3235\",\"type\":\"Line\"},{\"attributes\":{\"below\":[{\"id\":\"3209\"}],\"center\":[{\"id\":\"3212\"},{\"id\":\"3216\"}],\"height\":500,\"left\":[{\"id\":\"3213\"}],\"margin\":[5,5,5,5],\"min_border_bottom\":10,\"min_border_left\":10,\"min_border_right\":10,\"min_border_top\":10,\"renderers\":[{\"id\":\"3236\"}],\"sizing_mode\":\"fixed\",\"title\":{\"id\":\"3201\"},\"toolbar\":{\"id\":\"3223\"},\"width\":1000,\"x_range\":{\"id\":\"3197\"},\"x_scale\":{\"id\":\"3205\"},\"y_range\":{\"id\":\"3198\"},\"y_scale\":{\"id\":\"3207\"}},\"id\":\"3200\",\"subtype\":\"Figure\",\"type\":\"Plot\"},{\"attributes\":{\"end\":789.7,\"reset_end\":789.7,\"reset_start\":-70.7,\"start\":-70.7,\"tags\":[[[\"Movie Title\",\"Movie Title\",null]]]},\"id\":\"3198\",\"type\":\"Range1d\"},{\"attributes\":{},\"id\":\"3241\",\"type\":\"AllLabels\"},{\"attributes\":{},\"id\":\"3219\",\"type\":\"WheelZoomTool\"},{\"attributes\":{\"line_color\":\"goldenrod\",\"line_width\":4,\"x\":{\"field\":\"Year\"},\"y\":{\"field\":\"Movie Title\"}},\"id\":\"3238\",\"type\":\"Line\"}],\"root_ids\":[\"3196\"]},\"title\":\"Bokeh Application\",\"version\":\"2.4.3\"}};\n",
       "    var render_items = [{\"docid\":\"43d5e225-a845-44e6-96a0-b80a792bb337\",\"root_ids\":[\"3196\"],\"roots\":{\"3196\":\"14603f7b-af7b-4845-9e12-05dae4b7010b\"}}];\n",
       "    root.Bokeh.embed.embed_items_notebook(docs_json, render_items);\n",
       "    for (const render_item of render_items) {\n",
       "      for (const root_id of render_item.root_ids) {\n",
       "\tconst id_el = document.getElementById(root_id)\n",
       "\tif (id_el.children.length && (id_el.children[0].className === 'bk-root')) {\n",
       "\t  const root_el = id_el.children[0]\n",
       "\t  root_el.id = root_el.id + '-rendered'\n",
       "\t}\n",
       "      }\n",
       "    }\n",
       "  }\n",
       "  if (root.Bokeh !== undefined && root.Bokeh.Panel !== undefined) {\n",
       "    embed_document(root);\n",
       "  } else {\n",
       "    var attempts = 0;\n",
       "    var timer = setInterval(function(root) {\n",
       "      if (root.Bokeh !== undefined && root.Bokeh.Panel !== undefined) {\n",
       "        clearInterval(timer);\n",
       "        embed_document(root);\n",
       "      } else if (document.readyState == \"complete\") {\n",
       "        attempts++;\n",
       "        if (attempts > 200) {\n",
       "          clearInterval(timer);\n",
       "          console.log(\"Bokeh: ERROR: Unable to run BokehJS code because BokehJS library is missing\");\n",
       "        }\n",
       "      }\n",
       "    }, 25, root)\n",
       "  }\n",
       "})(window);</script>"
      ],
      "text/plain": [
       ":Curve   [Year]   (Movie Title)"
      ]
     },
     "execution_count": 50,
     "metadata": {
      "application/vnd.holoviews_exec.v0+json": {
       "id": "3196"
      }
     },
     "output_type": "execute_result"
    }
   ],
   "source": [
    "movie_per_year = df.groupby(['Year'])['Movie Title'].count()\n",
    "movie_per_year.hvplot(title='Number of Movies Released Over Time (1906-2022)',\n",
    "                      ylabel='Number of Movies Released', xlabel='Year of Release', color='goldenrod',\n",
    "                      height=500, width=1000, line_width=4, fontsize={'title':16, 'ylabel':12, 'xlabel':12})"
   ]
  },
  {
   "attachments": {},
   "cell_type": "markdown",
   "metadata": {},
   "source": [
    "### How did the advancement in film technology affect the number of films produced over the year?"
   ]
  },
  {
   "attachments": {},
   "cell_type": "markdown",
   "metadata": {},
   "source": [
    "Sound technology: The first synchronized sound feature film, \"The Jazz Singer,\" was released in 1927, marking the beginning of the sound era in cinema.\n",
    "\n",
    "Color technology: Technicolor, the first widely used color film process, was introduced in 1932 with the release of \"Flowers and Trees,\" a Walt Disney animated short.\n",
    "\n",
    "Special effects: Advances in special effects technology began in the early 1950s with films such as \"The Day the Earth Stood Still\" (1951) and \"Forbidden Planet\" (1956), which used innovative techniques to create realistic-looking alien worlds and creatures.\n",
    "\n",
    "Digital technology: The first digital camera specifically designed for movie production, the Sony HDW-F900, was introduced in 1998. Since then, digital filmmaking has become increasingly common, with many filmmakers choosing to shoot and edit their movies entirely on digital platforms."
   ]
  },
  {
   "cell_type": "code",
   "execution_count": 51,
   "metadata": {},
   "outputs": [],
   "source": [
    "# Creating lines to indicate division of film technology eras.\n",
    "vline_sound = hv.VLine(1927).options(color='grey',alpha=0.6).opts(line_dash='dashed')\n",
    "vline_color = hv.VLine(1932).options(color='grey',alpha=0.6).opts(line_dash='dashed')\n",
    "vline_sfx = hv.VLine(1951).options(color='grey',alpha=0.6).opts(line_dash='dashed')\n",
    "vline_digital = hv.VLine(1998).options(color='grey',alpha=0.6).opts(line_dash='dashed')"
   ]
  },
  {
   "cell_type": "code",
   "execution_count": 52,
   "metadata": {},
   "outputs": [
    {
     "data": {},
     "metadata": {},
     "output_type": "display_data"
    },
    {
     "data": {
      "application/vnd.holoviews_exec.v0+json": "",
      "text/html": [
       "<div id='3310'>\n",
       "  <div class=\"bk-root\" id=\"f0c80c60-8d1c-4b58-bbae-5573b62102c2\" data-root-id=\"3310\"></div>\n",
       "</div>\n",
       "<script type=\"application/javascript\">(function(root) {\n",
       "  function embed_document(root) {\n",
       "    var docs_json = {\"36636527-5760-47f5-8adc-546b039ca0b9\":{\"defs\":[{\"extends\":null,\"module\":null,\"name\":\"ReactiveHTML1\",\"overrides\":[],\"properties\":[]},{\"extends\":null,\"module\":null,\"name\":\"FlexBox1\",\"overrides\":[],\"properties\":[{\"default\":\"flex-start\",\"kind\":null,\"name\":\"align_content\"},{\"default\":\"flex-start\",\"kind\":null,\"name\":\"align_items\"},{\"default\":\"row\",\"kind\":null,\"name\":\"flex_direction\"},{\"default\":\"wrap\",\"kind\":null,\"name\":\"flex_wrap\"},{\"default\":\"flex-start\",\"kind\":null,\"name\":\"justify_content\"}]},{\"extends\":null,\"module\":null,\"name\":\"GridStack1\",\"overrides\":[],\"properties\":[{\"default\":\"warn\",\"kind\":null,\"name\":\"mode\"},{\"default\":null,\"kind\":null,\"name\":\"ncols\"},{\"default\":null,\"kind\":null,\"name\":\"nrows\"},{\"default\":true,\"kind\":null,\"name\":\"allow_resize\"},{\"default\":true,\"kind\":null,\"name\":\"allow_drag\"},{\"default\":[],\"kind\":null,\"name\":\"state\"}]},{\"extends\":null,\"module\":null,\"name\":\"click1\",\"overrides\":[],\"properties\":[{\"default\":\"\",\"kind\":null,\"name\":\"terminal_output\"},{\"default\":\"\",\"kind\":null,\"name\":\"debug_name\"},{\"default\":0,\"kind\":null,\"name\":\"clears\"}]},{\"extends\":null,\"module\":null,\"name\":\"NotificationAreaBase1\",\"overrides\":[],\"properties\":[{\"default\":\"bottom-right\",\"kind\":null,\"name\":\"position\"},{\"default\":0,\"kind\":null,\"name\":\"_clear\"}]},{\"extends\":null,\"module\":null,\"name\":\"NotificationArea1\",\"overrides\":[],\"properties\":[{\"default\":[],\"kind\":null,\"name\":\"notifications\"},{\"default\":\"bottom-right\",\"kind\":null,\"name\":\"position\"},{\"default\":0,\"kind\":null,\"name\":\"_clear\"},{\"default\":[{\"background\":\"#ffc107\",\"icon\":{\"className\":\"fas fa-exclamation-triangle\",\"color\":\"white\",\"tagName\":\"i\"},\"type\":\"warning\"},{\"background\":\"#007bff\",\"icon\":{\"className\":\"fas fa-info-circle\",\"color\":\"white\",\"tagName\":\"i\"},\"type\":\"info\"}],\"kind\":null,\"name\":\"types\"}]},{\"extends\":null,\"module\":null,\"name\":\"Notification\",\"overrides\":[],\"properties\":[{\"default\":null,\"kind\":null,\"name\":\"background\"},{\"default\":3000,\"kind\":null,\"name\":\"duration\"},{\"default\":null,\"kind\":null,\"name\":\"icon\"},{\"default\":\"\",\"kind\":null,\"name\":\"message\"},{\"default\":null,\"kind\":null,\"name\":\"notification_type\"},{\"default\":false,\"kind\":null,\"name\":\"_destroyed\"}]},{\"extends\":null,\"module\":null,\"name\":\"TemplateActions1\",\"overrides\":[],\"properties\":[{\"default\":0,\"kind\":null,\"name\":\"open_modal\"},{\"default\":0,\"kind\":null,\"name\":\"close_modal\"}]},{\"extends\":null,\"module\":null,\"name\":\"MaterialTemplateActions1\",\"overrides\":[],\"properties\":[{\"default\":0,\"kind\":null,\"name\":\"open_modal\"},{\"default\":0,\"kind\":null,\"name\":\"close_modal\"}]}],\"roots\":{\"references\":[{\"attributes\":{\"angle\":{\"value\":1.5707963267948966},\"text\":{\"field\":\"text\"},\"text_align\":{\"value\":\"left\"},\"text_alpha\":{\"value\":1.0},\"text_baseline\":{\"value\":\"middle\"},\"text_color\":{\"value\":\"black\"},\"text_font_size\":{\"value\":\"12Pt\"},\"text_font_style\":{\"value\":\"normal\"},\"text_line_height\":{\"value\":1.2},\"x\":{\"field\":\"x\"},\"x_offset\":{\"value\":0},\"y\":{\"field\":\"y\"},\"y_offset\":{\"value\":0}},\"id\":\"3406\",\"type\":\"Text\"},{\"attributes\":{\"source\":{\"id\":\"3374\"}},\"id\":\"3381\",\"type\":\"CDSView\"},{\"attributes\":{\"children\":[{\"id\":\"3314\"}],\"height\":500,\"margin\":[0,0,0,0],\"name\":\"Row07082\",\"sizing_mode\":\"fixed\",\"tags\":[\"embedded\"],\"width\":1000},\"id\":\"3310\",\"type\":\"Row\"},{\"attributes\":{\"coordinates\":null,\"data_source\":{\"id\":\"3374\"},\"glyph\":{\"id\":\"3377\"},\"group\":null,\"hover_glyph\":null,\"muted_glyph\":{\"id\":\"3379\"},\"nonselection_glyph\":{\"id\":\"3378\"},\"selection_glyph\":{\"id\":\"3382\"},\"view\":{\"id\":\"3381\"}},\"id\":\"3380\",\"type\":\"GlyphRenderer\"},{\"attributes\":{\"line_alpha\":0.2,\"line_color\":\"goldenrod\",\"line_width\":4,\"x\":{\"field\":\"Year\"},\"y\":{\"field\":\"Movie Title\"}},\"id\":\"3355\",\"type\":\"Line\"},{\"attributes\":{},\"id\":\"3436\",\"type\":\"UnionRenderers\"},{\"attributes\":{\"coordinates\":null,\"data_source\":{\"id\":\"3398\"},\"glyph\":{\"id\":\"3401\"},\"group\":null,\"hover_glyph\":null,\"muted_glyph\":{\"id\":\"3403\"},\"nonselection_glyph\":{\"id\":\"3402\"},\"selection_glyph\":{\"id\":\"3406\"},\"view\":{\"id\":\"3405\"}},\"id\":\"3404\",\"type\":\"GlyphRenderer\"},{\"attributes\":{\"coordinates\":null,\"data_source\":{\"id\":\"3410\"},\"glyph\":{\"id\":\"3413\"},\"group\":null,\"hover_glyph\":null,\"muted_glyph\":{\"id\":\"3415\"},\"nonselection_glyph\":{\"id\":\"3414\"},\"selection_glyph\":{\"id\":\"3418\"},\"view\":{\"id\":\"3417\"}},\"id\":\"3416\",\"type\":\"GlyphRenderer\"},{\"attributes\":{\"bottom_units\":\"screen\",\"coordinates\":null,\"fill_alpha\":0.5,\"fill_color\":\"lightgrey\",\"group\":null,\"left_units\":\"screen\",\"level\":\"overlay\",\"line_alpha\":1.0,\"line_color\":\"black\",\"line_dash\":[4,4],\"line_width\":2,\"right_units\":\"screen\",\"syncable\":false,\"top_units\":\"screen\"},\"id\":\"3336\",\"type\":\"BoxAnnotation\"},{\"attributes\":{\"source\":{\"id\":\"3386\"}},\"id\":\"3393\",\"type\":\"CDSView\"},{\"attributes\":{\"angle\":{\"value\":1.5707963267948966},\"text_alpha\":{\"value\":0.1},\"text_baseline\":{\"value\":\"middle\"},\"text_color\":{\"value\":\"black\"},\"text_font_size\":{\"value\":\"12Pt\"},\"x\":{\"field\":\"x\"},\"y\":{\"field\":\"y\"}},\"id\":\"3414\",\"type\":\"Text\"},{\"attributes\":{},\"id\":\"3365\",\"type\":\"UnionRenderers\"},{\"attributes\":{\"data\":{\"text\":[\"Start of Color Technology\"],\"x\":[1931],\"y\":[30]},\"selected\":{\"id\":\"3387\"},\"selection_policy\":{\"id\":\"3434\"}},\"id\":\"3386\",\"type\":\"ColumnDataSource\"},{\"attributes\":{\"end\":789.7,\"reset_end\":789.7,\"reset_start\":-70.7,\"start\":-70.7,\"tags\":[[[\"Movie Title\",\"Movie Title\",null]]]},\"id\":\"3312\",\"type\":\"Range1d\"},{\"attributes\":{},\"id\":\"3346\",\"type\":\"AllLabels\"},{\"attributes\":{},\"id\":\"3351\",\"type\":\"Selection\"},{\"attributes\":{\"overlay\":{\"id\":\"3336\"}},\"id\":\"3334\",\"type\":\"BoxZoomTool\"},{\"attributes\":{\"axis_label\":\"Number of Movies Released\",\"axis_label_text_font_size\":\"12pt\",\"coordinates\":null,\"formatter\":{\"id\":\"3348\"},\"group\":null,\"major_label_policy\":{\"id\":\"3349\"},\"ticker\":{\"id\":\"3328\"}},\"id\":\"3327\",\"type\":\"LinearAxis\"},{\"attributes\":{},\"id\":\"3321\",\"type\":\"LinearScale\"},{\"attributes\":{\"source\":{\"id\":\"3410\"}},\"id\":\"3417\",\"type\":\"CDSView\"},{\"attributes\":{},\"id\":\"3411\",\"type\":\"Selection\"},{\"attributes\":{\"angle\":{\"value\":1.5707963267948966},\"text_alpha\":{\"value\":0.2},\"text_baseline\":{\"value\":\"middle\"},\"text_color\":{\"value\":\"black\"},\"text_font_size\":{\"value\":\"12Pt\"},\"x\":{\"field\":\"x\"},\"y\":{\"field\":\"y\"}},\"id\":\"3403\",\"type\":\"Text\"},{\"attributes\":{\"coordinates\":null,\"dimension\":\"height\",\"group\":null,\"level\":\"glyph\",\"line_alpha\":0.6,\"line_color\":\"grey\",\"line_dash\":[6],\"line_width\":3,\"location\":1927},\"id\":\"3373\",\"type\":\"Span\"},{\"attributes\":{\"angle\":{\"value\":1.5707963267948966},\"text_alpha\":{\"value\":0.1},\"text_baseline\":{\"value\":\"middle\"},\"text_color\":{\"value\":\"black\"},\"text_font_size\":{\"value\":\"12Pt\"},\"x\":{\"field\":\"x\"},\"y\":{\"field\":\"y\"}},\"id\":\"3390\",\"type\":\"Text\"},{\"attributes\":{},\"id\":\"3331\",\"type\":\"SaveTool\"},{\"attributes\":{\"line_color\":\"goldenrod\",\"line_width\":4,\"x\":{\"field\":\"Year\"},\"y\":{\"field\":\"Movie Title\"}},\"id\":\"3353\",\"type\":\"Line\"},{\"attributes\":{\"callback\":null,\"renderers\":[{\"id\":\"3356\"}],\"tags\":[\"hv_created\"],\"tooltips\":[[\"Year\",\"@{Year}\"],[\"Movie Title\",\"@{Movie_Title}\"]]},\"id\":\"3313\",\"type\":\"HoverTool\"},{\"attributes\":{\"angle\":{\"value\":1.5707963267948966},\"text_alpha\":{\"value\":0.2},\"text_baseline\":{\"value\":\"middle\"},\"text_color\":{\"value\":\"black\"},\"text_font_size\":{\"value\":\"12Pt\"},\"x\":{\"field\":\"x\"},\"y\":{\"field\":\"y\"}},\"id\":\"3391\",\"type\":\"Text\"},{\"attributes\":{\"source\":{\"id\":\"3398\"}},\"id\":\"3405\",\"type\":\"CDSView\"},{\"attributes\":{},\"id\":\"3333\",\"type\":\"WheelZoomTool\"},{\"attributes\":{\"active_drag\":{\"id\":\"3332\"},\"active_scroll\":{\"id\":\"3333\"},\"tools\":[{\"id\":\"3313\"},{\"id\":\"3331\"},{\"id\":\"3332\"},{\"id\":\"3333\"},{\"id\":\"3334\"},{\"id\":\"3335\"}]},\"id\":\"3337\",\"type\":\"Toolbar\"},{\"attributes\":{\"angle\":{\"value\":1.5707963267948966},\"text_baseline\":{\"value\":\"middle\"},\"text_color\":{\"value\":\"black\"},\"text_font_size\":{\"value\":\"12Pt\"},\"x\":{\"field\":\"x\"},\"y\":{\"field\":\"y\"}},\"id\":\"3401\",\"type\":\"Text\"},{\"attributes\":{},\"id\":\"3348\",\"type\":\"BasicTickFormatter\"},{\"attributes\":{\"coordinates\":null,\"dimension\":\"height\",\"group\":null,\"level\":\"glyph\",\"line_alpha\":0.6,\"line_color\":\"grey\",\"line_dash\":[6],\"line_width\":3,\"location\":1951},\"id\":\"3397\",\"type\":\"Span\"},{\"attributes\":{\"angle\":{\"value\":1.5707963267948966},\"text_alpha\":{\"value\":0.1},\"text_baseline\":{\"value\":\"middle\"},\"text_color\":{\"value\":\"black\"},\"text_font_size\":{\"value\":\"12Pt\"},\"x\":{\"field\":\"x\"},\"y\":{\"field\":\"y\"}},\"id\":\"3402\",\"type\":\"Text\"},{\"attributes\":{\"angle\":{\"value\":1.5707963267948966},\"text_baseline\":{\"value\":\"middle\"},\"text_color\":{\"value\":\"black\"},\"text_font_size\":{\"value\":\"12Pt\"},\"x\":{\"field\":\"x\"},\"y\":{\"field\":\"y\"}},\"id\":\"3389\",\"type\":\"Text\"},{\"attributes\":{},\"id\":\"3324\",\"type\":\"BasicTicker\"},{\"attributes\":{},\"id\":\"3432\",\"type\":\"UnionRenderers\"},{\"attributes\":{},\"id\":\"3399\",\"type\":\"Selection\"},{\"attributes\":{\"coordinates\":null,\"group\":null,\"items\":[]},\"id\":\"3368\",\"type\":\"Legend\"},{\"attributes\":{\"data\":{\"text\":[\"Start of SFX Technology\"],\"x\":[1950],\"y\":[60]},\"selected\":{\"id\":\"3399\"},\"selection_policy\":{\"id\":\"3436\"}},\"id\":\"3398\",\"type\":\"ColumnDataSource\"},{\"attributes\":{\"angle\":{\"value\":1.5707963267948966},\"text_baseline\":{\"value\":\"middle\"},\"text_color\":{\"value\":\"black\"},\"text_font_size\":{\"value\":\"12Pt\"},\"x\":{\"field\":\"x\"},\"y\":{\"field\":\"y\"}},\"id\":\"3413\",\"type\":\"Text\"},{\"attributes\":{},\"id\":\"3434\",\"type\":\"UnionRenderers\"},{\"attributes\":{},\"id\":\"3335\",\"type\":\"ResetTool\"},{\"attributes\":{\"angle\":{\"value\":1.5707963267948966},\"text_alpha\":{\"value\":0.2},\"text_baseline\":{\"value\":\"middle\"},\"text_color\":{\"value\":\"black\"},\"text_font_size\":{\"value\":\"12Pt\"},\"x\":{\"field\":\"x\"},\"y\":{\"field\":\"y\"}},\"id\":\"3379\",\"type\":\"Text\"},{\"attributes\":{\"coordinates\":null,\"group\":null,\"text\":\"Number of Movies Released Over Time and the Advances in Film Technology (1906-2022)\",\"text_color\":\"black\",\"text_font_size\":\"16pt\"},\"id\":\"3315\",\"type\":\"Title\"},{\"attributes\":{\"angle\":{\"value\":1.5707963267948966},\"text\":{\"field\":\"text\"},\"text_align\":{\"value\":\"left\"},\"text_alpha\":{\"value\":1.0},\"text_baseline\":{\"value\":\"middle\"},\"text_color\":{\"value\":\"black\"},\"text_font_size\":{\"value\":\"12Pt\"},\"text_font_style\":{\"value\":\"normal\"},\"text_line_height\":{\"value\":1.2},\"x\":{\"field\":\"x\"},\"x_offset\":{\"value\":0},\"y\":{\"field\":\"y\"},\"y_offset\":{\"value\":0}},\"id\":\"3382\",\"type\":\"Text\"},{\"attributes\":{\"data\":{\"text\":[\"Start of Digital Technology\"],\"x\":[1997],\"y\":[240]},\"selected\":{\"id\":\"3411\"},\"selection_policy\":{\"id\":\"3438\"}},\"id\":\"3410\",\"type\":\"ColumnDataSource\"},{\"attributes\":{},\"id\":\"3349\",\"type\":\"AllLabels\"},{\"attributes\":{},\"id\":\"3345\",\"type\":\"BasicTickFormatter\"},{\"attributes\":{\"angle\":{\"value\":1.5707963267948966},\"text\":{\"field\":\"text\"},\"text_align\":{\"value\":\"left\"},\"text_alpha\":{\"value\":1.0},\"text_baseline\":{\"value\":\"middle\"},\"text_color\":{\"value\":\"black\"},\"text_font_size\":{\"value\":\"12Pt\"},\"text_font_style\":{\"value\":\"normal\"},\"text_line_height\":{\"value\":1.2},\"x\":{\"field\":\"x\"},\"x_offset\":{\"value\":0},\"y\":{\"field\":\"y\"},\"y_offset\":{\"value\":0}},\"id\":\"3394\",\"type\":\"Text\"},{\"attributes\":{\"data\":{\"text\":[\"Start of Sound Technology\"],\"x\":[1926],\"y\":[17]},\"selected\":{\"id\":\"3375\"},\"selection_policy\":{\"id\":\"3432\"}},\"id\":\"3374\",\"type\":\"ColumnDataSource\"},{\"attributes\":{\"below\":[{\"id\":\"3323\"}],\"center\":[{\"id\":\"3326\"},{\"id\":\"3330\"},{\"id\":\"3368\"}],\"height\":500,\"left\":[{\"id\":\"3327\"}],\"margin\":[5,5,5,5],\"min_border_bottom\":10,\"min_border_left\":10,\"min_border_right\":10,\"min_border_top\":10,\"renderers\":[{\"id\":\"3356\"},{\"id\":\"3373\"},{\"id\":\"3380\"},{\"id\":\"3385\"},{\"id\":\"3392\"},{\"id\":\"3397\"},{\"id\":\"3404\"},{\"id\":\"3409\"},{\"id\":\"3416\"}],\"sizing_mode\":\"fixed\",\"title\":{\"id\":\"3315\"},\"toolbar\":{\"id\":\"3337\"},\"width\":1000,\"x_range\":{\"id\":\"3311\"},\"x_scale\":{\"id\":\"3319\"},\"y_range\":{\"id\":\"3312\"},\"y_scale\":{\"id\":\"3321\"}},\"id\":\"3314\",\"subtype\":\"Figure\",\"type\":\"Plot\"},{\"attributes\":{\"data\":{\"Movie Title\":[1,2,1,1,1,1,1,1,3,4,4,4,6,3,6,10,10,21,13,12,13,21,17,15,40,27,31,32,21,34,33,32,43,36,41,35,42,44,65,65,73,62,56,63,60,47,51,59,51,62,58,66,59,68,59,78,93,90,92,102,83,75,82,104,102,112,121,131,122,141,162,172,203,201,201,185,180,174,201,206,213,233,231,206,217,228,252,272,272,286,290,367,361,389,427,371,405,436,467,501,491,599,606,622,718,512,559,270],\"Movie_Title\":[1,2,1,1,1,1,1,1,3,4,4,4,6,3,6,10,10,21,13,12,13,21,17,15,40,27,31,32,21,34,33,32,43,36,41,35,42,44,65,65,73,62,56,63,60,47,51,59,51,62,58,66,59,68,59,78,93,90,92,102,83,75,82,104,102,112,121,131,122,141,162,172,203,201,201,185,180,174,201,206,213,233,231,206,217,228,252,272,272,286,290,367,361,389,427,371,405,436,467,501,491,599,606,622,718,512,559,270],\"Year\":[1906,1914,1915,1916,1918,1920,1921,1922,1923,1924,1925,1926,1927,1928,1929,1930,1931,1932,1933,1934,1935,1936,1937,1938,1939,1940,1941,1942,1943,1944,1945,1946,1947,1948,1949,1950,1951,1952,1953,1954,1955,1956,1957,1958,1959,1960,1961,1962,1963,1964,1965,1966,1967,1968,1969,1970,1971,1972,1973,1974,1975,1976,1977,1978,1979,1980,1981,1982,1983,1984,1985,1986,1987,1988,1989,1990,1991,1992,1993,1994,1995,1996,1997,1998,1999,2000,2001,2002,2003,2004,2005,2006,2007,2008,2009,2010,2011,2012,2013,2014,2015,2016,2017,2018,2019,2020,2021,2022]},\"selected\":{\"id\":\"3351\"},\"selection_policy\":{\"id\":\"3365\"}},\"id\":\"3350\",\"type\":\"ColumnDataSource\"},{\"attributes\":{\"line_alpha\":0.1,\"line_color\":\"goldenrod\",\"line_width\":4,\"x\":{\"field\":\"Year\"},\"y\":{\"field\":\"Movie Title\"}},\"id\":\"3354\",\"type\":\"Line\"},{\"attributes\":{},\"id\":\"3319\",\"type\":\"LinearScale\"},{\"attributes\":{\"coordinates\":null,\"dimension\":\"height\",\"group\":null,\"level\":\"glyph\",\"line_alpha\":0.6,\"line_color\":\"grey\",\"line_dash\":[6],\"line_width\":3,\"location\":1932},\"id\":\"3385\",\"type\":\"Span\"},{\"attributes\":{\"axis\":{\"id\":\"3323\"},\"coordinates\":null,\"grid_line_color\":null,\"group\":null,\"ticker\":null},\"id\":\"3326\",\"type\":\"Grid\"},{\"attributes\":{\"angle\":{\"value\":1.5707963267948966},\"text_alpha\":{\"value\":0.2},\"text_baseline\":{\"value\":\"middle\"},\"text_color\":{\"value\":\"black\"},\"text_font_size\":{\"value\":\"12Pt\"},\"x\":{\"field\":\"x\"},\"y\":{\"field\":\"y\"}},\"id\":\"3415\",\"type\":\"Text\"},{\"attributes\":{},\"id\":\"3438\",\"type\":\"UnionRenderers\"},{\"attributes\":{\"angle\":{\"value\":1.5707963267948966},\"text_baseline\":{\"value\":\"middle\"},\"text_color\":{\"value\":\"black\"},\"text_font_size\":{\"value\":\"12Pt\"},\"x\":{\"field\":\"x\"},\"y\":{\"field\":\"y\"}},\"id\":\"3377\",\"type\":\"Text\"},{\"attributes\":{\"angle\":{\"value\":1.5707963267948966},\"text\":{\"field\":\"text\"},\"text_align\":{\"value\":\"left\"},\"text_alpha\":{\"value\":1.0},\"text_baseline\":{\"value\":\"middle\"},\"text_color\":{\"value\":\"black\"},\"text_font_size\":{\"value\":\"12Pt\"},\"text_font_style\":{\"value\":\"normal\"},\"text_line_height\":{\"value\":1.2},\"x\":{\"field\":\"x\"},\"x_offset\":{\"value\":0},\"y\":{\"field\":\"y\"},\"y_offset\":{\"value\":0}},\"id\":\"3418\",\"type\":\"Text\"},{\"attributes\":{\"line_color\":\"goldenrod\",\"line_width\":4,\"x\":{\"field\":\"Year\"},\"y\":{\"field\":\"Movie Title\"}},\"id\":\"3370\",\"type\":\"Line\"},{\"attributes\":{\"coordinates\":null,\"data_source\":{\"id\":\"3386\"},\"glyph\":{\"id\":\"3389\"},\"group\":null,\"hover_glyph\":null,\"muted_glyph\":{\"id\":\"3391\"},\"nonselection_glyph\":{\"id\":\"3390\"},\"selection_glyph\":{\"id\":\"3394\"},\"view\":{\"id\":\"3393\"}},\"id\":\"3392\",\"type\":\"GlyphRenderer\"},{\"attributes\":{},\"id\":\"3328\",\"type\":\"BasicTicker\"},{\"attributes\":{\"axis\":{\"id\":\"3327\"},\"coordinates\":null,\"dimension\":1,\"grid_line_color\":null,\"group\":null,\"ticker\":null},\"id\":\"3330\",\"type\":\"Grid\"},{\"attributes\":{},\"id\":\"3375\",\"type\":\"Selection\"},{\"attributes\":{\"angle\":{\"value\":1.5707963267948966},\"text_alpha\":{\"value\":0.1},\"text_baseline\":{\"value\":\"middle\"},\"text_color\":{\"value\":\"black\"},\"text_font_size\":{\"value\":\"12Pt\"},\"x\":{\"field\":\"x\"},\"y\":{\"field\":\"y\"}},\"id\":\"3378\",\"type\":\"Text\"},{\"attributes\":{\"coordinates\":null,\"data_source\":{\"id\":\"3350\"},\"glyph\":{\"id\":\"3353\"},\"group\":null,\"hover_glyph\":null,\"muted_glyph\":{\"id\":\"3355\"},\"nonselection_glyph\":{\"id\":\"3354\"},\"selection_glyph\":{\"id\":\"3370\"},\"view\":{\"id\":\"3357\"}},\"id\":\"3356\",\"type\":\"GlyphRenderer\"},{\"attributes\":{\"axis_label\":\"Year of Release\",\"axis_label_text_font_size\":\"12pt\",\"coordinates\":null,\"formatter\":{\"id\":\"3345\"},\"group\":null,\"major_label_policy\":{\"id\":\"3346\"},\"ticker\":{\"id\":\"3324\"}},\"id\":\"3323\",\"type\":\"LinearAxis\"},{\"attributes\":{\"source\":{\"id\":\"3350\"}},\"id\":\"3357\",\"type\":\"CDSView\"},{\"attributes\":{\"end\":2022.0,\"reset_end\":2022.0,\"reset_start\":1906.0,\"start\":1906.0,\"tags\":[[[\"Year\",\"Year\",null]]]},\"id\":\"3311\",\"type\":\"Range1d\"},{\"attributes\":{},\"id\":\"3387\",\"type\":\"Selection\"},{\"attributes\":{\"coordinates\":null,\"dimension\":\"height\",\"group\":null,\"level\":\"glyph\",\"line_alpha\":0.6,\"line_color\":\"grey\",\"line_dash\":[6],\"line_width\":3,\"location\":1998},\"id\":\"3409\",\"type\":\"Span\"},{\"attributes\":{},\"id\":\"3332\",\"type\":\"PanTool\"}],\"root_ids\":[\"3310\"]},\"title\":\"Bokeh Application\",\"version\":\"2.4.3\"}};\n",
       "    var render_items = [{\"docid\":\"36636527-5760-47f5-8adc-546b039ca0b9\",\"root_ids\":[\"3310\"],\"roots\":{\"3310\":\"f0c80c60-8d1c-4b58-bbae-5573b62102c2\"}}];\n",
       "    root.Bokeh.embed.embed_items_notebook(docs_json, render_items);\n",
       "    for (const render_item of render_items) {\n",
       "      for (const root_id of render_item.root_ids) {\n",
       "\tconst id_el = document.getElementById(root_id)\n",
       "\tif (id_el.children.length && (id_el.children[0].className === 'bk-root')) {\n",
       "\t  const root_el = id_el.children[0]\n",
       "\t  root_el.id = root_el.id + '-rendered'\n",
       "\t}\n",
       "      }\n",
       "    }\n",
       "  }\n",
       "  if (root.Bokeh !== undefined && root.Bokeh.Panel !== undefined) {\n",
       "    embed_document(root);\n",
       "  } else {\n",
       "    var attempts = 0;\n",
       "    var timer = setInterval(function(root) {\n",
       "      if (root.Bokeh !== undefined && root.Bokeh.Panel !== undefined) {\n",
       "        clearInterval(timer);\n",
       "        embed_document(root);\n",
       "      } else if (document.readyState == \"complete\") {\n",
       "        attempts++;\n",
       "        if (attempts > 200) {\n",
       "          clearInterval(timer);\n",
       "          console.log(\"Bokeh: ERROR: Unable to run BokehJS code because BokehJS library is missing\");\n",
       "        }\n",
       "      }\n",
       "    }, 25, root)\n",
       "  }\n",
       "})(window);</script>"
      ],
      "text/plain": [
       ":Overlay\n",
       "   .Curve.Movie_Title :Curve   [Year]   (Movie Title)\n",
       "   .VLine.I           :VLine   [x,y]\n",
       "   .Text.I            :Text   [x,y]\n",
       "   .VLine.II          :VLine   [x,y]\n",
       "   .Text.II           :Text   [x,y]\n",
       "   .VLine.III         :VLine   [x,y]\n",
       "   .Text.III          :Text   [x,y]\n",
       "   .VLine.IV          :VLine   [x,y]\n",
       "   .Text.IV           :Text   [x,y]"
      ]
     },
     "execution_count": 52,
     "metadata": {
      "application/vnd.holoviews_exec.v0+json": {
       "id": "3310"
      }
     },
     "output_type": "execute_result"
    }
   ],
   "source": [
    "# Overlay the plot, lines, and texts.\n",
    "movie_per_year.hvplot(title='Number of Movies Released Over Time and the Advances in Film Technology (1906-2022)',\n",
    "                      ylabel='Number of Movies Released', xlabel='Year of Release', color='goldenrod',\n",
    "                      height=500, width=1000, line_width=4, fontsize={'title':16, 'ylabel':12, 'xlabel':12}) * \\\n",
    "                      vline_sound * hv.Text(1926,17,\"Start of Sound Technology\",halign='left',rotation=90) * \\\n",
    "                      vline_color * hv.Text(1931,30,\"Start of Color Technology\",halign='left',rotation=90) * \\\n",
    "                      vline_sfx * hv.Text(1950,60,\"Start of SFX Technology\",halign='left',rotation=90) * \\\n",
    "                      vline_digital * hv.Text(1997,240,\"Start of Digital Technology\",halign='left',rotation=90)\n"
   ]
  },
  {
   "attachments": {},
   "cell_type": "markdown",
   "metadata": {},
   "source": [
    "### What Are The Trend For Each Genre Over Time?"
   ]
  },
  {
   "cell_type": "code",
   "execution_count": 53,
   "metadata": {},
   "outputs": [
    {
     "data": {},
     "metadata": {},
     "output_type": "display_data"
    },
    {
     "data": {
      "application/vnd.holoviews_exec.v0+json": "",
      "text/html": [
       "<div id='3532'>\n",
       "  <div class=\"bk-root\" id=\"b66a8cc5-0670-4876-926d-9ec247ef5efc\" data-root-id=\"3532\"></div>\n",
       "</div>\n",
       "<script type=\"application/javascript\">(function(root) {\n",
       "  function embed_document(root) {\n",
       "    var docs_json = {\"5418b34b-6141-4bdc-9938-e15a6de21d2b\":{\"defs\":[{\"extends\":null,\"module\":null,\"name\":\"ReactiveHTML1\",\"overrides\":[],\"properties\":[]},{\"extends\":null,\"module\":null,\"name\":\"FlexBox1\",\"overrides\":[],\"properties\":[{\"default\":\"flex-start\",\"kind\":null,\"name\":\"align_content\"},{\"default\":\"flex-start\",\"kind\":null,\"name\":\"align_items\"},{\"default\":\"row\",\"kind\":null,\"name\":\"flex_direction\"},{\"default\":\"wrap\",\"kind\":null,\"name\":\"flex_wrap\"},{\"default\":\"flex-start\",\"kind\":null,\"name\":\"justify_content\"}]},{\"extends\":null,\"module\":null,\"name\":\"GridStack1\",\"overrides\":[],\"properties\":[{\"default\":\"warn\",\"kind\":null,\"name\":\"mode\"},{\"default\":null,\"kind\":null,\"name\":\"ncols\"},{\"default\":null,\"kind\":null,\"name\":\"nrows\"},{\"default\":true,\"kind\":null,\"name\":\"allow_resize\"},{\"default\":true,\"kind\":null,\"name\":\"allow_drag\"},{\"default\":[],\"kind\":null,\"name\":\"state\"}]},{\"extends\":null,\"module\":null,\"name\":\"click1\",\"overrides\":[],\"properties\":[{\"default\":\"\",\"kind\":null,\"name\":\"terminal_output\"},{\"default\":\"\",\"kind\":null,\"name\":\"debug_name\"},{\"default\":0,\"kind\":null,\"name\":\"clears\"}]},{\"extends\":null,\"module\":null,\"name\":\"NotificationAreaBase1\",\"overrides\":[],\"properties\":[{\"default\":\"bottom-right\",\"kind\":null,\"name\":\"position\"},{\"default\":0,\"kind\":null,\"name\":\"_clear\"}]},{\"extends\":null,\"module\":null,\"name\":\"NotificationArea1\",\"overrides\":[],\"properties\":[{\"default\":[],\"kind\":null,\"name\":\"notifications\"},{\"default\":\"bottom-right\",\"kind\":null,\"name\":\"position\"},{\"default\":0,\"kind\":null,\"name\":\"_clear\"},{\"default\":[{\"background\":\"#ffc107\",\"icon\":{\"className\":\"fas fa-exclamation-triangle\",\"color\":\"white\",\"tagName\":\"i\"},\"type\":\"warning\"},{\"background\":\"#007bff\",\"icon\":{\"className\":\"fas fa-info-circle\",\"color\":\"white\",\"tagName\":\"i\"},\"type\":\"info\"}],\"kind\":null,\"name\":\"types\"}]},{\"extends\":null,\"module\":null,\"name\":\"Notification\",\"overrides\":[],\"properties\":[{\"default\":null,\"kind\":null,\"name\":\"background\"},{\"default\":3000,\"kind\":null,\"name\":\"duration\"},{\"default\":null,\"kind\":null,\"name\":\"icon\"},{\"default\":\"\",\"kind\":null,\"name\":\"message\"},{\"default\":null,\"kind\":null,\"name\":\"notification_type\"},{\"default\":false,\"kind\":null,\"name\":\"_destroyed\"}]},{\"extends\":null,\"module\":null,\"name\":\"TemplateActions1\",\"overrides\":[],\"properties\":[{\"default\":0,\"kind\":null,\"name\":\"open_modal\"},{\"default\":0,\"kind\":null,\"name\":\"close_modal\"}]},{\"extends\":null,\"module\":null,\"name\":\"MaterialTemplateActions1\",\"overrides\":[],\"properties\":[{\"default\":0,\"kind\":null,\"name\":\"open_modal\"},{\"default\":0,\"kind\":null,\"name\":\"close_modal\"}]}],\"roots\":{\"references\":[{\"attributes\":{\"angle\":{\"value\":1.5707963267948966},\"text_baseline\":{\"value\":\"middle\"},\"text_color\":{\"value\":\"black\"},\"text_font_size\":{\"value\":\"12Pt\"},\"x\":{\"field\":\"x\"},\"y\":{\"field\":\"y\"}},\"id\":\"3636\",\"type\":\"Text\"},{\"attributes\":{},\"id\":\"3677\",\"type\":\"UnionRenderers\"},{\"attributes\":{\"margin\":[5,5,5,5],\"name\":\"HSpacer09534\",\"sizing_mode\":\"stretch_width\"},\"id\":\"3533\",\"type\":\"Spacer\"},{\"attributes\":{\"end\":2022.0,\"reset_end\":2022.0,\"reset_start\":1906.0,\"start\":1906.0,\"tags\":[[[\"Year\",\"Year\",null]]]},\"id\":\"3534\",\"type\":\"Range1d\"},{\"attributes\":{},\"id\":\"3555\",\"type\":\"PanTool\"},{\"attributes\":{\"active_drag\":{\"id\":\"3555\"},\"active_scroll\":{\"id\":\"3556\"},\"tools\":[{\"id\":\"3536\"},{\"id\":\"3554\"},{\"id\":\"3555\"},{\"id\":\"3556\"},{\"id\":\"3557\"},{\"id\":\"3558\"}]},\"id\":\"3560\",\"type\":\"Toolbar\"},{\"attributes\":{},\"id\":\"3572\",\"type\":\"AllLabels\"},{\"attributes\":{\"callback\":null,\"renderers\":[{\"id\":\"3579\"}],\"tags\":[\"hv_created\"],\"tooltips\":[[\"Year\",\"@{Year}\"],[\"Movie Title\",\"@{Movie_Title}\"]]},\"id\":\"3536\",\"type\":\"HoverTool\"},{\"attributes\":{\"source\":{\"id\":\"3597\"}},\"id\":\"3604\",\"type\":\"CDSView\"},{\"attributes\":{},\"id\":\"3544\",\"type\":\"LinearScale\"},{\"attributes\":{},\"id\":\"3634\",\"type\":\"Selection\"},{\"attributes\":{\"coordinates\":null,\"dimension\":\"height\",\"group\":null,\"level\":\"glyph\",\"line_alpha\":0.6,\"line_color\":\"grey\",\"line_dash\":[6],\"line_width\":3,\"location\":1927},\"id\":\"3596\",\"type\":\"Span\"},{\"attributes\":{\"line_color\":\"goldenrod\",\"line_width\":4,\"x\":{\"field\":\"Year\"},\"y\":{\"field\":\"Movie Title\"}},\"id\":\"3593\",\"type\":\"Line\"},{\"attributes\":{\"angle\":{\"value\":1.5707963267948966},\"text_baseline\":{\"value\":\"middle\"},\"text_color\":{\"value\":\"black\"},\"text_font_size\":{\"value\":\"12Pt\"},\"x\":{\"field\":\"x\"},\"y\":{\"field\":\"y\"}},\"id\":\"3600\",\"type\":\"Text\"},{\"attributes\":{},\"id\":\"3679\",\"type\":\"UnionRenderers\"},{\"attributes\":{},\"id\":\"3551\",\"type\":\"BasicTicker\"},{\"attributes\":{\"axis\":{\"id\":\"3546\"},\"coordinates\":null,\"grid_line_color\":null,\"group\":null,\"ticker\":null},\"id\":\"3549\",\"type\":\"Grid\"},{\"attributes\":{\"angle\":{\"value\":1.5707963267948966},\"text\":{\"field\":\"text\"},\"text_align\":{\"value\":\"left\"},\"text_alpha\":{\"value\":1.0},\"text_baseline\":{\"value\":\"middle\"},\"text_color\":{\"value\":\"black\"},\"text_font_size\":{\"value\":\"12Pt\"},\"text_font_style\":{\"value\":\"normal\"},\"text_line_height\":{\"value\":1.2},\"x\":{\"field\":\"x\"},\"x_offset\":{\"value\":0},\"y\":{\"field\":\"y\"},\"y_offset\":{\"value\":0}},\"id\":\"3641\",\"type\":\"Text\"},{\"attributes\":{},\"id\":\"3569\",\"type\":\"AllLabels\"},{\"attributes\":{\"angle\":{\"value\":1.5707963267948966},\"text_alpha\":{\"value\":0.2},\"text_baseline\":{\"value\":\"middle\"},\"text_color\":{\"value\":\"black\"},\"text_font_size\":{\"value\":\"12Pt\"},\"x\":{\"field\":\"x\"},\"y\":{\"field\":\"y\"}},\"id\":\"3638\",\"type\":\"Text\"},{\"attributes\":{\"axis\":{\"id\":\"3550\"},\"coordinates\":null,\"dimension\":1,\"grid_line_color\":null,\"group\":null,\"ticker\":null},\"id\":\"3553\",\"type\":\"Grid\"},{\"attributes\":{\"angle\":{\"value\":1.5707963267948966},\"text\":{\"field\":\"text\"},\"text_align\":{\"value\":\"left\"},\"text_alpha\":{\"value\":1.0},\"text_baseline\":{\"value\":\"middle\"},\"text_color\":{\"value\":\"black\"},\"text_font_size\":{\"value\":\"12Pt\"},\"text_font_style\":{\"value\":\"normal\"},\"text_line_height\":{\"value\":1.2},\"x\":{\"field\":\"x\"},\"x_offset\":{\"value\":0},\"y\":{\"field\":\"y\"},\"y_offset\":{\"value\":0}},\"id\":\"3605\",\"type\":\"Text\"},{\"attributes\":{\"axis_label\":\"\",\"coordinates\":null,\"formatter\":{\"id\":\"3571\"},\"group\":null,\"major_label_policy\":{\"id\":\"3572\"},\"ticker\":{\"id\":\"3551\"}},\"id\":\"3550\",\"type\":\"LinearAxis\"},{\"attributes\":{},\"id\":\"3547\",\"type\":\"BasicTicker\"},{\"attributes\":{},\"id\":\"3542\",\"type\":\"LinearScale\"},{\"attributes\":{\"data\":{\"text\":[\"Sound Technology\"],\"x\":[1926],\"y\":[0]},\"selected\":{\"id\":\"3598\"},\"selection_policy\":{\"id\":\"3675\"}},\"id\":\"3597\",\"type\":\"ColumnDataSource\"},{\"attributes\":{\"coordinates\":null,\"data_source\":{\"id\":\"3633\"},\"glyph\":{\"id\":\"3636\"},\"group\":null,\"hover_glyph\":null,\"muted_glyph\":{\"id\":\"3638\"},\"nonselection_glyph\":{\"id\":\"3637\"},\"selection_glyph\":{\"id\":\"3641\"},\"view\":{\"id\":\"3640\"}},\"id\":\"3639\",\"type\":\"GlyphRenderer\"},{\"attributes\":{\"coordinates\":null,\"group\":null,\"text\":\"Movie Title  Genres: 'Action'\",\"text_color\":\"black\",\"text_font_size\":\"12pt\"},\"id\":\"3538\",\"type\":\"Title\"},{\"attributes\":{\"source\":{\"id\":\"3633\"}},\"id\":\"3640\",\"type\":\"CDSView\"},{\"attributes\":{\"coordinates\":null,\"dimension\":\"height\",\"group\":null,\"level\":\"glyph\",\"line_alpha\":0.6,\"line_color\":\"grey\",\"line_dash\":[6],\"line_width\":3,\"location\":1932},\"id\":\"3608\",\"type\":\"Span\"},{\"attributes\":{\"line_alpha\":0.1,\"line_color\":\"goldenrod\",\"line_width\":4,\"x\":{\"field\":\"Year\"},\"y\":{\"field\":\"Movie Title\"}},\"id\":\"3577\",\"type\":\"Line\"},{\"attributes\":{\"angle\":{\"value\":1.5707963267948966},\"text_alpha\":{\"value\":0.1},\"text_baseline\":{\"value\":\"middle\"},\"text_color\":{\"value\":\"black\"},\"text_font_size\":{\"value\":\"12Pt\"},\"x\":{\"field\":\"x\"},\"y\":{\"field\":\"y\"}},\"id\":\"3613\",\"type\":\"Text\"},{\"attributes\":{},\"id\":\"3681\",\"type\":\"UnionRenderers\"},{\"attributes\":{\"data\":{\"Movie Title\":[1,1,1,1,1,2,2,1,1,1,1,4,2,2,2,2,2,2,7,6,3,8,3,5,3,3,7,7,1,7,9,12,11,8,7,14,8,8,4,2,6,8,4,11,15,9,7,14,15,21,23,25,37,24,22,21,25,25,24,24,28,31,39,49,61,58,53,64,61,45,39,47,55,56,50,68,52,50,52,81,80,86,83,80,95,103,116,140,130,143,147,162,158,170,225,221,212,250,133,182,101],\"Movie_Title\":[1,1,1,1,1,2,2,1,1,1,1,4,2,2,2,2,2,2,7,6,3,8,3,5,3,3,7,7,1,7,9,12,11,8,7,14,8,8,4,2,6,8,4,11,15,9,7,14,15,21,23,25,37,24,22,21,25,25,24,24,28,31,39,49,61,58,53,64,61,45,39,47,55,56,50,68,52,50,52,81,80,86,83,80,95,103,116,140,130,143,147,162,158,170,225,221,212,250,133,182,101],\"Year\":[1906,1914,1916,1918,1923,1924,1926,1928,1929,1930,1931,1932,1933,1934,1935,1936,1937,1938,1939,1940,1941,1942,1943,1944,1946,1947,1948,1949,1950,1951,1952,1953,1954,1955,1956,1957,1958,1959,1960,1961,1962,1963,1964,1965,1966,1967,1968,1969,1970,1971,1972,1973,1974,1975,1976,1977,1978,1979,1980,1981,1982,1983,1984,1985,1986,1987,1988,1989,1990,1991,1992,1993,1994,1995,1996,1997,1998,1999,2000,2001,2002,2003,2004,2005,2006,2007,2008,2009,2010,2011,2012,2013,2014,2015,2016,2017,2018,2019,2020,2021,2022]},\"selected\":{\"id\":\"3574\"},\"selection_policy\":{\"id\":\"3588\"}},\"id\":\"3573\",\"type\":\"ColumnDataSource\"},{\"attributes\":{\"overlay\":{\"id\":\"3559\"}},\"id\":\"3557\",\"type\":\"BoxZoomTool\"},{\"attributes\":{\"data\":{\"text\":[\"SFX Technology\"],\"x\":[1950],\"y\":[0]},\"selected\":{\"id\":\"3622\"},\"selection_policy\":{\"id\":\"3679\"}},\"id\":\"3621\",\"type\":\"ColumnDataSource\"},{\"attributes\":{\"angle\":{\"value\":1.5707963267948966},\"text_alpha\":{\"value\":0.1},\"text_baseline\":{\"value\":\"middle\"},\"text_color\":{\"value\":\"black\"},\"text_font_size\":{\"value\":\"12Pt\"},\"x\":{\"field\":\"x\"},\"y\":{\"field\":\"y\"}},\"id\":\"3625\",\"type\":\"Text\"},{\"attributes\":{},\"id\":\"3588\",\"type\":\"UnionRenderers\"},{\"attributes\":{},\"id\":\"3554\",\"type\":\"SaveTool\"},{\"attributes\":{},\"id\":\"3610\",\"type\":\"Selection\"},{\"attributes\":{\"margin\":[5,5,5,5],\"name\":\"HSpacer09535\",\"sizing_mode\":\"stretch_width\"},\"id\":\"3684\",\"type\":\"Spacer\"},{\"attributes\":{},\"id\":\"3556\",\"type\":\"WheelZoomTool\"},{\"attributes\":{\"angle\":{\"value\":1.5707963267948966},\"text_baseline\":{\"value\":\"middle\"},\"text_color\":{\"value\":\"black\"},\"text_font_size\":{\"value\":\"12Pt\"},\"x\":{\"field\":\"x\"},\"y\":{\"field\":\"y\"}},\"id\":\"3612\",\"type\":\"Text\"},{\"attributes\":{\"bottom_units\":\"screen\",\"coordinates\":null,\"fill_alpha\":0.5,\"fill_color\":\"lightgrey\",\"group\":null,\"left_units\":\"screen\",\"level\":\"overlay\",\"line_alpha\":1.0,\"line_color\":\"black\",\"line_dash\":[4,4],\"line_width\":2,\"right_units\":\"screen\",\"syncable\":false,\"top_units\":\"screen\"},\"id\":\"3559\",\"type\":\"BoxAnnotation\"},{\"attributes\":{\"state\":{\"'Action'\":{\"content\":\"{\\\"events\\\": [{\\\"attr\\\": \\\"start\\\", \\\"hint\\\": null, \\\"kind\\\": \\\"ModelChanged\\\", \\\"model\\\": {\\\"id\\\": \\\"3535\\\"}, \\\"new\\\": -23.900000000000002}, {\\\"attr\\\": \\\"reset_start\\\", \\\"hint\\\": null, \\\"kind\\\": \\\"ModelChanged\\\", \\\"model\\\": {\\\"id\\\": \\\"3535\\\"}, \\\"new\\\": -23.900000000000002}, {\\\"attr\\\": \\\"end\\\", \\\"hint\\\": null, \\\"kind\\\": \\\"ModelChanged\\\", \\\"model\\\": {\\\"id\\\": \\\"3535\\\"}, \\\"new\\\": 274.9}, {\\\"attr\\\": \\\"reset_end\\\", \\\"hint\\\": null, \\\"kind\\\": \\\"ModelChanged\\\", \\\"model\\\": {\\\"id\\\": \\\"3535\\\"}, \\\"new\\\": 274.9}, {\\\"cols\\\": null, \\\"column_source\\\": {\\\"id\\\": \\\"3573\\\"}, \\\"kind\\\": \\\"ColumnDataChanged\\\", \\\"new\\\": {\\\"Movie Title\\\": [1, 1, 1, 1, 1, 2, 2, 1, 1, 1, 1, 4, 2, 2, 2, 2, 2, 2, 7, 6, 3, 8, 3, 5, 3, 3, 7, 7, 1, 7, 9, 12, 11, 8, 7, 14, 8, 8, 4, 2, 6, 8, 4, 11, 15, 9, 7, 14, 15, 21, 23, 25, 37, 24, 22, 21, 25, 25, 24, 24, 28, 31, 39, 49, 61, 58, 53, 64, 61, 45, 39, 47, 55, 56, 50, 68, 52, 50, 52, 81, 80, 86, 83, 80, 95, 103, 116, 140, 130, 143, 147, 162, 158, 170, 225, 221, 212, 250, 133, 182, 101], \\\"Movie_Title\\\": [1, 1, 1, 1, 1, 2, 2, 1, 1, 1, 1, 4, 2, 2, 2, 2, 2, 2, 7, 6, 3, 8, 3, 5, 3, 3, 7, 7, 1, 7, 9, 12, 11, 8, 7, 14, 8, 8, 4, 2, 6, 8, 4, 11, 15, 9, 7, 14, 15, 21, 23, 25, 37, 24, 22, 21, 25, 25, 24, 24, 28, 31, 39, 49, 61, 58, 53, 64, 61, 45, 39, 47, 55, 56, 50, 68, 52, 50, 52, 81, 80, 86, 83, 80, 95, 103, 116, 140, 130, 143, 147, 162, 158, 170, 225, 221, 212, 250, 133, 182, 101], \\\"Year\\\": [1906, 1914, 1916, 1918, 1923, 1924, 1926, 1928, 1929, 1930, 1931, 1932, 1933, 1934, 1935, 1936, 1937, 1938, 1939, 1940, 1941, 1942, 1943, 1944, 1946, 1947, 1948, 1949, 1950, 1951, 1952, 1953, 1954, 1955, 1956, 1957, 1958, 1959, 1960, 1961, 1962, 1963, 1964, 1965, 1966, 1967, 1968, 1969, 1970, 1971, 1972, 1973, 1974, 1975, 1976, 1977, 1978, 1979, 1980, 1981, 1982, 1983, 1984, 1985, 1986, 1987, 1988, 1989, 1990, 1991, 1992, 1993, 1994, 1995, 1996, 1997, 1998, 1999, 2000, 2001, 2002, 2003, 2004, 2005, 2006, 2007, 2008, 2009, 2010, 2011, 2012, 2013, 2014, 2015, 2016, 2017, 2018, 2019, 2020, 2021, 2022]}}, {\\\"cols\\\": null, \\\"column_source\\\": {\\\"id\\\": \\\"3597\\\"}, \\\"kind\\\": \\\"ColumnDataChanged\\\", \\\"new\\\": {\\\"text\\\": [\\\"Sound Technology\\\"], \\\"x\\\": [1926], \\\"y\\\": [0]}}, {\\\"cols\\\": null, \\\"column_source\\\": {\\\"id\\\": \\\"3609\\\"}, \\\"kind\\\": \\\"ColumnDataChanged\\\", \\\"new\\\": {\\\"text\\\": [\\\"Color Technology\\\"], \\\"x\\\": [1931], \\\"y\\\": [0]}}, {\\\"cols\\\": null, \\\"column_source\\\": {\\\"id\\\": \\\"3621\\\"}, \\\"kind\\\": \\\"ColumnDataChanged\\\", \\\"new\\\": {\\\"text\\\": [\\\"SFX Technology\\\"], \\\"x\\\": [1950], \\\"y\\\": [0]}}, {\\\"cols\\\": null, \\\"column_source\\\": {\\\"id\\\": \\\"3633\\\"}, \\\"kind\\\": \\\"ColumnDataChanged\\\", \\\"new\\\": {\\\"text\\\": [\\\"Digital Technology\\\"], \\\"x\\\": [1997], \\\"y\\\": [0]}}, {\\\"attr\\\": \\\"text\\\", \\\"hint\\\": null, \\\"kind\\\": \\\"ModelChanged\\\", \\\"model\\\": {\\\"id\\\": \\\"3538\\\"}, \\\"new\\\": \\\"Movie Title  Genres: 'Action'\\\"}], \\\"references\\\": []}\",\"header\":\"{\\\"msgid\\\": \\\"3987\\\", \\\"msgtype\\\": \\\"PATCH-DOC\\\"}\",\"metadata\":\"{}\"},\"'Adventure'\":{\"content\":\"{\\\"events\\\": [{\\\"attr\\\": \\\"start\\\", \\\"hint\\\": null, \\\"kind\\\": \\\"ModelChanged\\\", \\\"model\\\": {\\\"id\\\": \\\"3534\\\"}, \\\"new\\\": 1906.0}, {\\\"attr\\\": \\\"reset_start\\\", \\\"hint\\\": null, \\\"kind\\\": \\\"ModelChanged\\\", \\\"model\\\": {\\\"id\\\": \\\"3534\\\"}, \\\"new\\\": 1906.0}, {\\\"attr\\\": \\\"start\\\", \\\"hint\\\": null, \\\"kind\\\": \\\"ModelChanged\\\", \\\"model\\\": {\\\"id\\\": \\\"3535\\\"}, \\\"new\\\": -11.3}, {\\\"attr\\\": \\\"reset_start\\\", \\\"hint\\\": null, \\\"kind\\\": \\\"ModelChanged\\\", \\\"model\\\": {\\\"id\\\": \\\"3535\\\"}, \\\"new\\\": -11.3}, {\\\"attr\\\": \\\"end\\\", \\\"hint\\\": null, \\\"kind\\\": \\\"ModelChanged\\\", \\\"model\\\": {\\\"id\\\": \\\"3535\\\"}, \\\"new\\\": 136.3}, {\\\"attr\\\": \\\"reset_end\\\", \\\"hint\\\": null, \\\"kind\\\": \\\"ModelChanged\\\", \\\"model\\\": {\\\"id\\\": \\\"3535\\\"}, \\\"new\\\": 136.3}, {\\\"cols\\\": null, \\\"column_source\\\": {\\\"id\\\": \\\"3573\\\"}, \\\"kind\\\": \\\"ColumnDataChanged\\\", \\\"new\\\": {\\\"Movie Title\\\": [1, 2, 1, 1, 1, 1, 1, 2, 3, 1, 1, 3, 1, 2, 7, 2, 5, 5, 7, 5, 2, 14, 8, 6, 9, 5, 4, 4, 3, 9, 9, 8, 6, 10, 17, 17, 26, 18, 14, 17, 10, 12, 7, 7, 19, 15, 12, 14, 15, 13, 13, 13, 18, 12, 15, 9, 17, 21, 14, 24, 18, 19, 25, 22, 20, 23, 27, 41, 35, 34, 26, 25, 26, 25, 25, 25, 39, 35, 40, 42, 35, 28, 38, 37, 40, 60, 42, 51, 70, 62, 74, 81, 61, 75, 77, 89, 93, 89, 112, 111, 104, 124, 81, 81, 37], \\\"Movie_Title\\\": [1, 2, 1, 1, 1, 1, 1, 2, 3, 1, 1, 3, 1, 2, 7, 2, 5, 5, 7, 5, 2, 14, 8, 6, 9, 5, 4, 4, 3, 9, 9, 8, 6, 10, 17, 17, 26, 18, 14, 17, 10, 12, 7, 7, 19, 15, 12, 14, 15, 13, 13, 13, 18, 12, 15, 9, 17, 21, 14, 24, 18, 19, 25, 22, 20, 23, 27, 41, 35, 34, 26, 25, 26, 25, 25, 25, 39, 35, 40, 42, 35, 28, 38, 37, 40, 60, 42, 51, 70, 62, 74, 81, 61, 75, 77, 89, 93, 89, 112, 111, 104, 124, 81, 81, 37], \\\"Year\\\": [1906, 1914, 1916, 1918, 1921, 1923, 1924, 1925, 1926, 1927, 1928, 1929, 1930, 1931, 1932, 1933, 1934, 1935, 1936, 1937, 1938, 1939, 1940, 1941, 1942, 1943, 1944, 1945, 1946, 1947, 1948, 1949, 1950, 1951, 1952, 1953, 1954, 1955, 1956, 1957, 1958, 1959, 1960, 1961, 1962, 1963, 1964, 1965, 1966, 1967, 1968, 1969, 1970, 1971, 1972, 1973, 1974, 1975, 1976, 1977, 1978, 1979, 1980, 1981, 1982, 1983, 1984, 1985, 1986, 1987, 1988, 1989, 1990, 1991, 1992, 1993, 1994, 1995, 1996, 1997, 1998, 1999, 2000, 2001, 2002, 2003, 2004, 2005, 2006, 2007, 2008, 2009, 2010, 2011, 2012, 2013, 2014, 2015, 2016, 2017, 2018, 2019, 2020, 2021, 2022]}}, {\\\"cols\\\": null, \\\"column_source\\\": {\\\"id\\\": \\\"3597\\\"}, \\\"kind\\\": \\\"ColumnDataChanged\\\", \\\"new\\\": {\\\"text\\\": [\\\"Sound Technology\\\"], \\\"x\\\": [1926], \\\"y\\\": [0]}}, {\\\"cols\\\": null, \\\"column_source\\\": {\\\"id\\\": \\\"3609\\\"}, \\\"kind\\\": \\\"ColumnDataChanged\\\", \\\"new\\\": {\\\"text\\\": [\\\"Color Technology\\\"], \\\"x\\\": [1931], \\\"y\\\": [0]}}, {\\\"cols\\\": null, \\\"column_source\\\": {\\\"id\\\": \\\"3621\\\"}, \\\"kind\\\": \\\"ColumnDataChanged\\\", \\\"new\\\": {\\\"text\\\": [\\\"SFX Technology\\\"], \\\"x\\\": [1950], \\\"y\\\": [0]}}, {\\\"cols\\\": null, \\\"column_source\\\": {\\\"id\\\": \\\"3633\\\"}, \\\"kind\\\": \\\"ColumnDataChanged\\\", \\\"new\\\": {\\\"text\\\": [\\\"Digital Technology\\\"], \\\"x\\\": [1997], \\\"y\\\": [0]}}, {\\\"attr\\\": \\\"text\\\", \\\"hint\\\": null, \\\"kind\\\": \\\"ModelChanged\\\", \\\"model\\\": {\\\"id\\\": \\\"3538\\\"}, \\\"new\\\": \\\"Movie Title  Genres: 'Adventure'\\\"}], \\\"references\\\": []}\",\"header\":\"{\\\"msgid\\\": \\\"3976\\\", \\\"msgtype\\\": \\\"PATCH-DOC\\\"}\",\"metadata\":\"{}\"},\"'Animation'\":{\"content\":\"{\\\"events\\\": [{\\\"attr\\\": \\\"start\\\", \\\"hint\\\": null, \\\"kind\\\": \\\"ModelChanged\\\", \\\"model\\\": {\\\"id\\\": \\\"3534\\\"}, \\\"new\\\": 1927.0}, {\\\"attr\\\": \\\"reset_start\\\", \\\"hint\\\": null, \\\"kind\\\": \\\"ModelChanged\\\", \\\"model\\\": {\\\"id\\\": \\\"3534\\\"}, \\\"new\\\": 1927.0}, {\\\"attr\\\": \\\"start\\\", \\\"hint\\\": null, \\\"kind\\\": \\\"ModelChanged\\\", \\\"model\\\": {\\\"id\\\": \\\"3535\\\"}, \\\"new\\\": -2.8000000000000003}, {\\\"attr\\\": \\\"reset_start\\\", \\\"hint\\\": null, \\\"kind\\\": \\\"ModelChanged\\\", \\\"model\\\": {\\\"id\\\": \\\"3535\\\"}, \\\"new\\\": -2.8000000000000003}, {\\\"attr\\\": \\\"end\\\", \\\"hint\\\": null, \\\"kind\\\": \\\"ModelChanged\\\", \\\"model\\\": {\\\"id\\\": \\\"3535\\\"}, \\\"new\\\": 42.8}, {\\\"attr\\\": \\\"reset_end\\\", \\\"hint\\\": null, \\\"kind\\\": \\\"ModelChanged\\\", \\\"model\\\": {\\\"id\\\": \\\"3535\\\"}, \\\"new\\\": 42.8}, {\\\"cols\\\": null, \\\"column_source\\\": {\\\"id\\\": \\\"3573\\\"}, \\\"kind\\\": \\\"ColumnDataChanged\\\", \\\"new\\\": {\\\"Movie Title\\\": [1, 1, 1, 1, 1, 1, 1, 1, 1, 1, 1, 1, 1, 2, 2, 2, 4, 3, 1, 3, 3, 2, 5, 6, 5, 5, 2, 5, 5, 6, 6, 7, 6, 5, 4, 7, 7, 13, 9, 9, 10, 13, 6, 19, 17, 12, 21, 19, 18, 26, 22, 24, 21, 32, 33, 29, 39, 20, 34, 15], \\\"Movie_Title\\\": [1, 1, 1, 1, 1, 1, 1, 1, 1, 1, 1, 1, 1, 2, 2, 2, 4, 3, 1, 3, 3, 2, 5, 6, 5, 5, 2, 5, 5, 6, 6, 7, 6, 5, 4, 7, 7, 13, 9, 9, 10, 13, 6, 19, 17, 12, 21, 19, 18, 26, 22, 24, 21, 32, 33, 29, 39, 20, 34, 15], \\\"Year\\\": [1927, 1937, 1939, 1940, 1941, 1942, 1946, 1961, 1962, 1964, 1968, 1970, 1971, 1972, 1973, 1974, 1977, 1978, 1980, 1981, 1982, 1983, 1985, 1986, 1987, 1988, 1989, 1990, 1991, 1992, 1993, 1994, 1995, 1996, 1997, 1998, 1999, 2000, 2001, 2002, 2003, 2004, 2005, 2006, 2007, 2008, 2009, 2010, 2011, 2012, 2013, 2014, 2015, 2016, 2017, 2018, 2019, 2020, 2021, 2022]}}, {\\\"cols\\\": null, \\\"column_source\\\": {\\\"id\\\": \\\"3597\\\"}, \\\"kind\\\": \\\"ColumnDataChanged\\\", \\\"new\\\": {\\\"text\\\": [\\\"Sound Technology\\\"], \\\"x\\\": [1926], \\\"y\\\": [0]}}, {\\\"cols\\\": null, \\\"column_source\\\": {\\\"id\\\": \\\"3609\\\"}, \\\"kind\\\": \\\"ColumnDataChanged\\\", \\\"new\\\": {\\\"text\\\": [\\\"Color Technology\\\"], \\\"x\\\": [1931], \\\"y\\\": [0]}}, {\\\"cols\\\": null, \\\"column_source\\\": {\\\"id\\\": \\\"3621\\\"}, \\\"kind\\\": \\\"ColumnDataChanged\\\", \\\"new\\\": {\\\"text\\\": [\\\"SFX Technology\\\"], \\\"x\\\": [1950], \\\"y\\\": [0]}}, {\\\"cols\\\": null, \\\"column_source\\\": {\\\"id\\\": \\\"3633\\\"}, \\\"kind\\\": \\\"ColumnDataChanged\\\", \\\"new\\\": {\\\"text\\\": [\\\"Digital Technology\\\"], \\\"x\\\": [1997], \\\"y\\\": [0]}}, {\\\"attr\\\": \\\"text\\\", \\\"hint\\\": null, \\\"kind\\\": \\\"ModelChanged\\\", \\\"model\\\": {\\\"id\\\": \\\"3538\\\"}, \\\"new\\\": \\\"Movie Title  Genres: 'Animation'\\\"}], \\\"references\\\": []}\",\"header\":\"{\\\"msgid\\\": \\\"3965\\\", \\\"msgtype\\\": \\\"PATCH-DOC\\\"}\",\"metadata\":\"{}\"},\"'Biography'\":{\"content\":\"{\\\"events\\\": [{\\\"attr\\\": \\\"start\\\", \\\"hint\\\": null, \\\"kind\\\": \\\"ModelChanged\\\", \\\"model\\\": {\\\"id\\\": \\\"3534\\\"}, \\\"new\\\": 1906.0}, {\\\"attr\\\": \\\"reset_start\\\", \\\"hint\\\": null, \\\"kind\\\": \\\"ModelChanged\\\", \\\"model\\\": {\\\"id\\\": \\\"3534\\\"}, \\\"new\\\": 1906.0}, {\\\"attr\\\": \\\"start\\\", \\\"hint\\\": null, \\\"kind\\\": \\\"ModelChanged\\\", \\\"model\\\": {\\\"id\\\": \\\"3535\\\"}, \\\"new\\\": -4.5}, {\\\"attr\\\": \\\"reset_start\\\", \\\"hint\\\": null, \\\"kind\\\": \\\"ModelChanged\\\", \\\"model\\\": {\\\"id\\\": \\\"3535\\\"}, \\\"new\\\": -4.5}, {\\\"attr\\\": \\\"end\\\", \\\"hint\\\": null, \\\"kind\\\": \\\"ModelChanged\\\", \\\"model\\\": {\\\"id\\\": \\\"3535\\\"}, \\\"new\\\": 61.5}, {\\\"attr\\\": \\\"reset_end\\\", \\\"hint\\\": null, \\\"kind\\\": \\\"ModelChanged\\\", \\\"model\\\": {\\\"id\\\": \\\"3535\\\"}, \\\"new\\\": 61.5}, {\\\"cols\\\": null, \\\"column_source\\\": {\\\"id\\\": \\\"3573\\\"}, \\\"kind\\\": \\\"ColumnDataChanged\\\", \\\"new\\\": {\\\"Movie Title\\\": [1, 1, 1, 1, 2, 2, 1, 2, 1, 1, 1, 2, 4, 1, 3, 5, 5, 6, 2, 4, 3, 3, 5, 2, 1, 3, 3, 3, 2, 3, 5, 5, 4, 4, 3, 4, 1, 2, 3, 2, 7, 3, 4, 5, 2, 6, 5, 7, 7, 8, 6, 5, 11, 14, 12, 8, 9, 9, 9, 9, 11, 10, 11, 15, 16, 16, 24, 19, 20, 24, 19, 18, 16, 32, 34, 42, 42, 50, 56, 49, 23, 31, 9], \\\"Movie_Title\\\": [1, 1, 1, 1, 2, 2, 1, 2, 1, 1, 1, 2, 4, 1, 3, 5, 5, 6, 2, 4, 3, 3, 5, 2, 1, 3, 3, 3, 2, 3, 5, 5, 4, 4, 3, 4, 1, 2, 3, 2, 7, 3, 4, 5, 2, 6, 5, 7, 7, 8, 6, 5, 11, 14, 12, 8, 9, 9, 9, 9, 11, 10, 11, 15, 16, 16, 24, 19, 20, 24, 19, 18, 16, 32, 34, 42, 42, 50, 56, 49, 23, 31, 9], \\\"Year\\\": [1906, 1933, 1939, 1940, 1941, 1942, 1943, 1945, 1948, 1949, 1950, 1951, 1952, 1953, 1954, 1955, 1956, 1957, 1958, 1959, 1960, 1961, 1962, 1963, 1964, 1965, 1966, 1967, 1968, 1969, 1970, 1971, 1972, 1973, 1974, 1975, 1976, 1977, 1978, 1979, 1980, 1981, 1982, 1983, 1984, 1985, 1986, 1987, 1988, 1989, 1990, 1991, 1992, 1993, 1994, 1995, 1996, 1997, 1998, 1999, 2000, 2001, 2002, 2003, 2004, 2005, 2006, 2007, 2008, 2009, 2010, 2011, 2012, 2013, 2014, 2015, 2016, 2017, 2018, 2019, 2020, 2021, 2022]}}, {\\\"cols\\\": null, \\\"column_source\\\": {\\\"id\\\": \\\"3597\\\"}, \\\"kind\\\": \\\"ColumnDataChanged\\\", \\\"new\\\": {\\\"text\\\": [\\\"Sound Technology\\\"], \\\"x\\\": [1926], \\\"y\\\": [0]}}, {\\\"cols\\\": null, \\\"column_source\\\": {\\\"id\\\": \\\"3609\\\"}, \\\"kind\\\": \\\"ColumnDataChanged\\\", \\\"new\\\": {\\\"text\\\": [\\\"Color Technology\\\"], \\\"x\\\": [1931], \\\"y\\\": [0]}}, {\\\"cols\\\": null, \\\"column_source\\\": {\\\"id\\\": \\\"3621\\\"}, \\\"kind\\\": \\\"ColumnDataChanged\\\", \\\"new\\\": {\\\"text\\\": [\\\"SFX Technology\\\"], \\\"x\\\": [1950], \\\"y\\\": [0]}}, {\\\"cols\\\": null, \\\"column_source\\\": {\\\"id\\\": \\\"3633\\\"}, \\\"kind\\\": \\\"ColumnDataChanged\\\", \\\"new\\\": {\\\"text\\\": [\\\"Digital Technology\\\"], \\\"x\\\": [1997], \\\"y\\\": [0]}}, {\\\"attr\\\": \\\"text\\\", \\\"hint\\\": null, \\\"kind\\\": \\\"ModelChanged\\\", \\\"model\\\": {\\\"id\\\": \\\"3538\\\"}, \\\"new\\\": \\\"Movie Title  Genres: 'Biography'\\\"}], \\\"references\\\": []}\",\"header\":\"{\\\"msgid\\\": \\\"3954\\\", \\\"msgtype\\\": \\\"PATCH-DOC\\\"}\",\"metadata\":\"{}\"},\"'Comedy'\":{\"content\":\"{\\\"events\\\": [{\\\"attr\\\": \\\"start\\\", \\\"hint\\\": null, \\\"kind\\\": \\\"ModelChanged\\\", \\\"model\\\": {\\\"id\\\": \\\"3534\\\"}, \\\"new\\\": 1923.0}, {\\\"attr\\\": \\\"reset_start\\\", \\\"hint\\\": null, \\\"kind\\\": \\\"ModelChanged\\\", \\\"model\\\": {\\\"id\\\": \\\"3534\\\"}, \\\"new\\\": 1923.0}, {\\\"attr\\\": \\\"start\\\", \\\"hint\\\": null, \\\"kind\\\": \\\"ModelChanged\\\", \\\"model\\\": {\\\"id\\\": \\\"3535\\\"}, \\\"new\\\": -18.200000000000003}, {\\\"attr\\\": \\\"reset_start\\\", \\\"hint\\\": null, \\\"kind\\\": \\\"ModelChanged\\\", \\\"model\\\": {\\\"id\\\": \\\"3535\\\"}, \\\"new\\\": -18.200000000000003}, {\\\"attr\\\": \\\"end\\\", \\\"hint\\\": null, \\\"kind\\\": \\\"ModelChanged\\\", \\\"model\\\": {\\\"id\\\": \\\"3535\\\"}, \\\"new\\\": 212.2}, {\\\"attr\\\": \\\"reset_end\\\", \\\"hint\\\": null, \\\"kind\\\": \\\"ModelChanged\\\", \\\"model\\\": {\\\"id\\\": \\\"3535\\\"}, \\\"new\\\": 212.2}, {\\\"cols\\\": null, \\\"column_source\\\": {\\\"id\\\": \\\"3573\\\"}, \\\"kind\\\": \\\"ColumnDataChanged\\\", \\\"new\\\": {\\\"Movie Title\\\": [2, 2, 1, 1, 1, 1, 1, 2, 4, 4, 3, 3, 7, 4, 4, 11, 4, 11, 7, 3, 7, 3, 4, 11, 3, 9, 6, 7, 5, 12, 5, 8, 5, 8, 8, 6, 10, 11, 13, 20, 21, 16, 22, 20, 20, 22, 24, 18, 25, 20, 28, 28, 19, 28, 28, 33, 40, 33, 46, 42, 55, 68, 65, 84, 89, 83, 76, 74, 62, 75, 104, 79, 98, 95, 93, 98, 92, 99, 100, 112, 113, 119, 132, 124, 130, 152, 120, 133, 134, 132, 152, 153, 170, 157, 165, 193, 140, 122, 76], \\\"Movie_Title\\\": [2, 2, 1, 1, 1, 1, 1, 2, 4, 4, 3, 3, 7, 4, 4, 11, 4, 11, 7, 3, 7, 3, 4, 11, 3, 9, 6, 7, 5, 12, 5, 8, 5, 8, 8, 6, 10, 11, 13, 20, 21, 16, 22, 20, 20, 22, 24, 18, 25, 20, 28, 28, 19, 28, 28, 33, 40, 33, 46, 42, 55, 68, 65, 84, 89, 83, 76, 74, 62, 75, 104, 79, 98, 95, 93, 98, 92, 99, 100, 112, 113, 119, 132, 124, 130, 152, 120, 133, 134, 132, 152, 153, 170, 157, 165, 193, 140, 122, 76], \\\"Year\\\": [1923, 1924, 1925, 1926, 1928, 1929, 1930, 1931, 1932, 1933, 1934, 1935, 1936, 1937, 1938, 1939, 1940, 1941, 1942, 1943, 1944, 1945, 1946, 1947, 1948, 1949, 1950, 1951, 1952, 1953, 1954, 1955, 1956, 1957, 1958, 1959, 1960, 1961, 1962, 1963, 1964, 1965, 1966, 1967, 1968, 1969, 1970, 1971, 1972, 1973, 1974, 1975, 1976, 1977, 1978, 1979, 1980, 1981, 1982, 1983, 1984, 1985, 1986, 1987, 1988, 1989, 1990, 1991, 1992, 1993, 1994, 1995, 1996, 1997, 1998, 1999, 2000, 2001, 2002, 2003, 2004, 2005, 2006, 2007, 2008, 2009, 2010, 2011, 2012, 2013, 2014, 2015, 2016, 2017, 2018, 2019, 2020, 2021, 2022]}}, {\\\"cols\\\": null, \\\"column_source\\\": {\\\"id\\\": \\\"3597\\\"}, \\\"kind\\\": \\\"ColumnDataChanged\\\", \\\"new\\\": {\\\"text\\\": [\\\"Sound Technology\\\"], \\\"x\\\": [1926], \\\"y\\\": [0]}}, {\\\"cols\\\": null, \\\"column_source\\\": {\\\"id\\\": \\\"3609\\\"}, \\\"kind\\\": \\\"ColumnDataChanged\\\", \\\"new\\\": {\\\"text\\\": [\\\"Color Technology\\\"], \\\"x\\\": [1931], \\\"y\\\": [0]}}, {\\\"cols\\\": null, \\\"column_source\\\": {\\\"id\\\": \\\"3621\\\"}, \\\"kind\\\": \\\"ColumnDataChanged\\\", \\\"new\\\": {\\\"text\\\": [\\\"SFX Technology\\\"], \\\"x\\\": [1950], \\\"y\\\": [0]}}, {\\\"cols\\\": null, \\\"column_source\\\": {\\\"id\\\": \\\"3633\\\"}, \\\"kind\\\": \\\"ColumnDataChanged\\\", \\\"new\\\": {\\\"text\\\": [\\\"Digital Technology\\\"], \\\"x\\\": [1997], \\\"y\\\": [0]}}, {\\\"attr\\\": \\\"text\\\", \\\"hint\\\": null, \\\"kind\\\": \\\"ModelChanged\\\", \\\"model\\\": {\\\"id\\\": \\\"3538\\\"}, \\\"new\\\": \\\"Movie Title  Genres: 'Comedy'\\\"}], \\\"references\\\": []}\",\"header\":\"{\\\"msgid\\\": \\\"3943\\\", \\\"msgtype\\\": \\\"PATCH-DOC\\\"}\",\"metadata\":\"{}\"},\"'Crime'\":{\"content\":\"{\\\"events\\\": [{\\\"attr\\\": \\\"start\\\", \\\"hint\\\": null, \\\"kind\\\": \\\"ModelChanged\\\", \\\"model\\\": {\\\"id\\\": \\\"3534\\\"}, \\\"new\\\": 1920.0}, {\\\"attr\\\": \\\"reset_start\\\", \\\"hint\\\": null, \\\"kind\\\": \\\"ModelChanged\\\", \\\"model\\\": {\\\"id\\\": \\\"3534\\\"}, \\\"new\\\": 1920.0}, {\\\"attr\\\": \\\"start\\\", \\\"hint\\\": null, \\\"kind\\\": \\\"ModelChanged\\\", \\\"model\\\": {\\\"id\\\": \\\"3535\\\"}, \\\"new\\\": -16.0}, {\\\"attr\\\": \\\"reset_start\\\", \\\"hint\\\": null, \\\"kind\\\": \\\"ModelChanged\\\", \\\"model\\\": {\\\"id\\\": \\\"3535\\\"}, \\\"new\\\": -16.0}, {\\\"attr\\\": \\\"end\\\", \\\"hint\\\": null, \\\"kind\\\": \\\"ModelChanged\\\", \\\"model\\\": {\\\"id\\\": \\\"3535\\\"}, \\\"new\\\": 188.0}, {\\\"attr\\\": \\\"reset_end\\\", \\\"hint\\\": null, \\\"kind\\\": \\\"ModelChanged\\\", \\\"model\\\": {\\\"id\\\": \\\"3535\\\"}, \\\"new\\\": 188.0}, {\\\"cols\\\": null, \\\"column_source\\\": {\\\"id\\\": \\\"3573\\\"}, \\\"kind\\\": \\\"ColumnDataChanged\\\", \\\"new\\\": {\\\"Movie Title\\\": [1, 1, 1, 2, 3, 6, 8, 2, 2, 4, 4, 8, 6, 10, 4, 8, 5, 2, 12, 9, 15, 21, 12, 16, 13, 12, 11, 12, 13, 17, 12, 9, 14, 11, 10, 9, 4, 4, 10, 8, 10, 18, 15, 10, 19, 24, 25, 41, 34, 29, 28, 14, 26, 20, 25, 27, 32, 28, 32, 31, 42, 55, 51, 58, 56, 48, 48, 55, 55, 54, 59, 65, 61, 48, 65, 75, 83, 73, 69, 75, 89, 118, 104, 104, 101, 87, 110, 118, 109, 106, 132, 129, 142, 171, 79, 120, 44], \\\"Movie_Title\\\": [1, 1, 1, 2, 3, 6, 8, 2, 2, 4, 4, 8, 6, 10, 4, 8, 5, 2, 12, 9, 15, 21, 12, 16, 13, 12, 11, 12, 13, 17, 12, 9, 14, 11, 10, 9, 4, 4, 10, 8, 10, 18, 15, 10, 19, 24, 25, 41, 34, 29, 28, 14, 26, 20, 25, 27, 32, 28, 32, 31, 42, 55, 51, 58, 56, 48, 48, 55, 55, 54, 59, 65, 61, 48, 65, 75, 83, 73, 69, 75, 89, 118, 104, 104, 101, 87, 110, 118, 109, 106, 132, 129, 142, 171, 79, 120, 44], \\\"Year\\\": [1920, 1925, 1927, 1929, 1930, 1931, 1932, 1933, 1934, 1935, 1936, 1937, 1938, 1939, 1940, 1941, 1942, 1943, 1944, 1945, 1946, 1947, 1948, 1949, 1950, 1951, 1952, 1953, 1954, 1955, 1956, 1957, 1958, 1959, 1960, 1961, 1962, 1963, 1964, 1965, 1966, 1967, 1968, 1969, 1970, 1971, 1972, 1973, 1974, 1975, 1976, 1977, 1978, 1979, 1980, 1981, 1982, 1983, 1984, 1985, 1986, 1987, 1988, 1989, 1990, 1991, 1992, 1993, 1994, 1995, 1996, 1997, 1998, 1999, 2000, 2001, 2002, 2003, 2004, 2005, 2006, 2007, 2008, 2009, 2010, 2011, 2012, 2013, 2014, 2015, 2016, 2017, 2018, 2019, 2020, 2021, 2022]}}, {\\\"cols\\\": null, \\\"column_source\\\": {\\\"id\\\": \\\"3597\\\"}, \\\"kind\\\": \\\"ColumnDataChanged\\\", \\\"new\\\": {\\\"text\\\": [\\\"Sound Technology\\\"], \\\"x\\\": [1926], \\\"y\\\": [0]}}, {\\\"cols\\\": null, \\\"column_source\\\": {\\\"id\\\": \\\"3609\\\"}, \\\"kind\\\": \\\"ColumnDataChanged\\\", \\\"new\\\": {\\\"text\\\": [\\\"Color Technology\\\"], \\\"x\\\": [1931], \\\"y\\\": [0]}}, {\\\"cols\\\": null, \\\"column_source\\\": {\\\"id\\\": \\\"3621\\\"}, \\\"kind\\\": \\\"ColumnDataChanged\\\", \\\"new\\\": {\\\"text\\\": [\\\"SFX Technology\\\"], \\\"x\\\": [1950], \\\"y\\\": [0]}}, {\\\"cols\\\": null, \\\"column_source\\\": {\\\"id\\\": \\\"3633\\\"}, \\\"kind\\\": \\\"ColumnDataChanged\\\", \\\"new\\\": {\\\"text\\\": [\\\"Digital Technology\\\"], \\\"x\\\": [1997], \\\"y\\\": [0]}}, {\\\"attr\\\": \\\"text\\\", \\\"hint\\\": null, \\\"kind\\\": \\\"ModelChanged\\\", \\\"model\\\": {\\\"id\\\": \\\"3538\\\"}, \\\"new\\\": \\\"Movie Title  Genres: 'Crime'\\\"}], \\\"references\\\": []}\",\"header\":\"{\\\"msgid\\\": \\\"3932\\\", \\\"msgtype\\\": \\\"PATCH-DOC\\\"}\",\"metadata\":\"{}\"},\"'Drama'\":{\"content\":\"{\\\"events\\\": [{\\\"attr\\\": \\\"start\\\", \\\"hint\\\": null, \\\"kind\\\": \\\"ModelChanged\\\", \\\"model\\\": {\\\"id\\\": \\\"3534\\\"}, \\\"new\\\": 1914.0}, {\\\"attr\\\": \\\"reset_start\\\", \\\"hint\\\": null, \\\"kind\\\": \\\"ModelChanged\\\", \\\"model\\\": {\\\"id\\\": \\\"3534\\\"}, \\\"new\\\": 1914.0}, {\\\"attr\\\": \\\"start\\\", \\\"hint\\\": null, \\\"kind\\\": \\\"ModelChanged\\\", \\\"model\\\": {\\\"id\\\": \\\"3535\\\"}, \\\"new\\\": -39.6}, {\\\"attr\\\": \\\"reset_start\\\", \\\"hint\\\": null, \\\"kind\\\": \\\"ModelChanged\\\", \\\"model\\\": {\\\"id\\\": \\\"3535\\\"}, \\\"new\\\": -39.6}, {\\\"attr\\\": \\\"end\\\", \\\"hint\\\": null, \\\"kind\\\": \\\"ModelChanged\\\", \\\"model\\\": {\\\"id\\\": \\\"3535\\\"}, \\\"new\\\": 447.6}, {\\\"attr\\\": \\\"reset_end\\\", \\\"hint\\\": null, \\\"kind\\\": \\\"ModelChanged\\\", \\\"model\\\": {\\\"id\\\": \\\"3535\\\"}, \\\"new\\\": 447.6}, {\\\"cols\\\": null, \\\"column_source\\\": {\\\"id\\\": \\\"3573\\\"}, \\\"kind\\\": \\\"ColumnDataChanged\\\", \\\"new\\\": {\\\"Movie Title\\\": [2, 1, 1, 1, 2, 3, 1, 6, 2, 3, 7, 10, 11, 9, 6, 9, 13, 12, 9, 18, 12, 18, 20, 11, 24, 23, 21, 29, 19, 24, 25, 24, 28, 38, 36, 39, 41, 38, 25, 34, 32, 33, 39, 22, 32, 31, 26, 30, 34, 33, 49, 57, 50, 51, 54, 43, 39, 39, 58, 48, 48, 57, 63, 59, 72, 70, 72, 89, 93, 97, 85, 99, 102, 118, 105, 126, 135, 124, 118, 124, 132, 141, 166, 148, 160, 169, 203, 201, 215, 207, 202, 227, 229, 250, 282, 282, 317, 342, 352, 407, 269, 286, 134], \\\"Movie_Title\\\": [2, 1, 1, 1, 2, 3, 1, 6, 2, 3, 7, 10, 11, 9, 6, 9, 13, 12, 9, 18, 12, 18, 20, 11, 24, 23, 21, 29, 19, 24, 25, 24, 28, 38, 36, 39, 41, 38, 25, 34, 32, 33, 39, 22, 32, 31, 26, 30, 34, 33, 49, 57, 50, 51, 54, 43, 39, 39, 58, 48, 48, 57, 63, 59, 72, 70, 72, 89, 93, 97, 85, 99, 102, 118, 105, 126, 135, 124, 118, 124, 132, 141, 166, 148, 160, 169, 203, 201, 215, 207, 202, 227, 229, 250, 282, 282, 317, 342, 352, 407, 269, 286, 134], \\\"Year\\\": [1914, 1915, 1920, 1921, 1924, 1925, 1926, 1927, 1928, 1929, 1930, 1931, 1932, 1933, 1934, 1935, 1936, 1937, 1938, 1939, 1940, 1941, 1942, 1943, 1944, 1945, 1946, 1947, 1948, 1949, 1950, 1951, 1952, 1953, 1954, 1955, 1956, 1957, 1958, 1959, 1960, 1961, 1962, 1963, 1964, 1965, 1966, 1967, 1968, 1969, 1970, 1971, 1972, 1973, 1974, 1975, 1976, 1977, 1978, 1979, 1980, 1981, 1982, 1983, 1984, 1985, 1986, 1987, 1988, 1989, 1990, 1991, 1992, 1993, 1994, 1995, 1996, 1997, 1998, 1999, 2000, 2001, 2002, 2003, 2004, 2005, 2006, 2007, 2008, 2009, 2010, 2011, 2012, 2013, 2014, 2015, 2016, 2017, 2018, 2019, 2020, 2021, 2022]}}, {\\\"cols\\\": null, \\\"column_source\\\": {\\\"id\\\": \\\"3597\\\"}, \\\"kind\\\": \\\"ColumnDataChanged\\\", \\\"new\\\": {\\\"text\\\": [\\\"Sound Technology\\\"], \\\"x\\\": [1926], \\\"y\\\": [0]}}, {\\\"cols\\\": null, \\\"column_source\\\": {\\\"id\\\": \\\"3609\\\"}, \\\"kind\\\": \\\"ColumnDataChanged\\\", \\\"new\\\": {\\\"text\\\": [\\\"Color Technology\\\"], \\\"x\\\": [1931], \\\"y\\\": [0]}}, {\\\"cols\\\": null, \\\"column_source\\\": {\\\"id\\\": \\\"3621\\\"}, \\\"kind\\\": \\\"ColumnDataChanged\\\", \\\"new\\\": {\\\"text\\\": [\\\"SFX Technology\\\"], \\\"x\\\": [1950], \\\"y\\\": [0]}}, {\\\"cols\\\": null, \\\"column_source\\\": {\\\"id\\\": \\\"3633\\\"}, \\\"kind\\\": \\\"ColumnDataChanged\\\", \\\"new\\\": {\\\"text\\\": [\\\"Digital Technology\\\"], \\\"x\\\": [1997], \\\"y\\\": [0]}}, {\\\"attr\\\": \\\"text\\\", \\\"hint\\\": null, \\\"kind\\\": \\\"ModelChanged\\\", \\\"model\\\": {\\\"id\\\": \\\"3538\\\"}, \\\"new\\\": \\\"Movie Title  Genres: 'Drama'\\\"}], \\\"references\\\": []}\",\"header\":\"{\\\"msgid\\\": \\\"3921\\\", \\\"msgtype\\\": \\\"PATCH-DOC\\\"}\",\"metadata\":\"{}\"},\"'Family'\":{\"content\":\"{\\\"events\\\": [{\\\"attr\\\": \\\"start\\\", \\\"hint\\\": null, \\\"kind\\\": \\\"ModelChanged\\\", \\\"model\\\": {\\\"id\\\": \\\"3534\\\"}, \\\"new\\\": 1934.0}, {\\\"attr\\\": \\\"reset_start\\\", \\\"hint\\\": null, \\\"kind\\\": \\\"ModelChanged\\\", \\\"model\\\": {\\\"id\\\": \\\"3534\\\"}, \\\"new\\\": 1934.0}, {\\\"attr\\\": \\\"start\\\", \\\"hint\\\": null, \\\"kind\\\": \\\"ModelChanged\\\", \\\"model\\\": {\\\"id\\\": \\\"3535\\\"}, \\\"new\\\": -1.7000000000000002}, {\\\"attr\\\": \\\"reset_start\\\", \\\"hint\\\": null, \\\"kind\\\": \\\"ModelChanged\\\", \\\"model\\\": {\\\"id\\\": \\\"3535\\\"}, \\\"new\\\": -1.7000000000000002}, {\\\"attr\\\": \\\"end\\\", \\\"hint\\\": null, \\\"kind\\\": \\\"ModelChanged\\\", \\\"model\\\": {\\\"id\\\": \\\"3535\\\"}, \\\"new\\\": 30.7}, {\\\"attr\\\": \\\"reset_end\\\", \\\"hint\\\": null, \\\"kind\\\": \\\"ModelChanged\\\", \\\"model\\\": {\\\"id\\\": \\\"3535\\\"}, \\\"new\\\": 30.7}, {\\\"cols\\\": null, \\\"column_source\\\": {\\\"id\\\": \\\"3573\\\"}, \\\"kind\\\": \\\"ColumnDataChanged\\\", \\\"new\\\": {\\\"Movie Title\\\": [1, 2, 3, 2, 5, 3, 3, 2, 3, 2, 1, 5, 4, 5, 5, 3, 4, 4, 1, 2, 3, 2, 1, 4, 2, 4, 2, 5, 5, 3, 5, 2, 9, 3, 2, 3, 2, 1, 8, 4, 4, 2, 6, 4, 5, 1, 4, 3, 2, 12, 6, 8, 5, 6, 9, 11, 11, 17, 25, 23, 18, 19, 11, 11, 10, 7, 15, 14, 17, 25, 23, 20, 16, 25, 18, 24, 12, 15, 18, 13, 28, 16, 16, 24, 23, 19, 14], \\\"Movie_Title\\\": [1, 2, 3, 2, 5, 3, 3, 2, 3, 2, 1, 5, 4, 5, 5, 3, 4, 4, 1, 2, 3, 2, 1, 4, 2, 4, 2, 5, 5, 3, 5, 2, 9, 3, 2, 3, 2, 1, 8, 4, 4, 2, 6, 4, 5, 1, 4, 3, 2, 12, 6, 8, 5, 6, 9, 11, 11, 17, 25, 23, 18, 19, 11, 11, 10, 7, 15, 14, 17, 25, 23, 20, 16, 25, 18, 24, 12, 15, 18, 13, 28, 16, 16, 24, 23, 19, 14], \\\"Year\\\": [1934, 1936, 1937, 1938, 1939, 1940, 1941, 1942, 1943, 1944, 1945, 1946, 1947, 1949, 1950, 1951, 1952, 1953, 1954, 1955, 1956, 1957, 1958, 1959, 1960, 1961, 1962, 1963, 1964, 1965, 1966, 1967, 1968, 1969, 1970, 1971, 1972, 1973, 1974, 1975, 1976, 1977, 1978, 1979, 1980, 1981, 1982, 1983, 1984, 1985, 1986, 1987, 1988, 1989, 1990, 1991, 1992, 1993, 1994, 1995, 1996, 1997, 1998, 1999, 2000, 2001, 2002, 2003, 2004, 2005, 2006, 2007, 2008, 2009, 2010, 2011, 2012, 2013, 2014, 2015, 2016, 2017, 2018, 2019, 2020, 2021, 2022]}}, {\\\"cols\\\": null, \\\"column_source\\\": {\\\"id\\\": \\\"3597\\\"}, \\\"kind\\\": \\\"ColumnDataChanged\\\", \\\"new\\\": {\\\"text\\\": [\\\"Sound Technology\\\"], \\\"x\\\": [1926], \\\"y\\\": [0]}}, {\\\"cols\\\": null, \\\"column_source\\\": {\\\"id\\\": \\\"3609\\\"}, \\\"kind\\\": \\\"ColumnDataChanged\\\", \\\"new\\\": {\\\"text\\\": [\\\"Color Technology\\\"], \\\"x\\\": [1931], \\\"y\\\": [0]}}, {\\\"cols\\\": null, \\\"column_source\\\": {\\\"id\\\": \\\"3621\\\"}, \\\"kind\\\": \\\"ColumnDataChanged\\\", \\\"new\\\": {\\\"text\\\": [\\\"SFX Technology\\\"], \\\"x\\\": [1950], \\\"y\\\": [0]}}, {\\\"cols\\\": null, \\\"column_source\\\": {\\\"id\\\": \\\"3633\\\"}, \\\"kind\\\": \\\"ColumnDataChanged\\\", \\\"new\\\": {\\\"text\\\": [\\\"Digital Technology\\\"], \\\"x\\\": [1997], \\\"y\\\": [0]}}, {\\\"attr\\\": \\\"text\\\", \\\"hint\\\": null, \\\"kind\\\": \\\"ModelChanged\\\", \\\"model\\\": {\\\"id\\\": \\\"3538\\\"}, \\\"new\\\": \\\"Movie Title  Genres: 'Family'\\\"}], \\\"references\\\": []}\",\"header\":\"{\\\"msgid\\\": \\\"3910\\\", \\\"msgtype\\\": \\\"PATCH-DOC\\\"}\",\"metadata\":\"{}\"},\"'Fantasy'\":{\"content\":\"{\\\"events\\\": [{\\\"attr\\\": \\\"start\\\", \\\"hint\\\": null, \\\"kind\\\": \\\"ModelChanged\\\", \\\"model\\\": {\\\"id\\\": \\\"3534\\\"}, \\\"new\\\": 1922.0}, {\\\"attr\\\": \\\"reset_start\\\", \\\"hint\\\": null, \\\"kind\\\": \\\"ModelChanged\\\", \\\"model\\\": {\\\"id\\\": \\\"3534\\\"}, \\\"new\\\": 1922.0}, {\\\"attr\\\": \\\"end\\\", \\\"hint\\\": null, \\\"kind\\\": \\\"ModelChanged\\\", \\\"model\\\": {\\\"id\\\": \\\"3534\\\"}, \\\"new\\\": 2022.0}, {\\\"attr\\\": \\\"reset_end\\\", \\\"hint\\\": null, \\\"kind\\\": \\\"ModelChanged\\\", \\\"model\\\": {\\\"id\\\": \\\"3534\\\"}, \\\"new\\\": 2022.0}, {\\\"attr\\\": \\\"start\\\", \\\"hint\\\": null, \\\"kind\\\": \\\"ModelChanged\\\", \\\"model\\\": {\\\"id\\\": \\\"3535\\\"}, \\\"new\\\": -3.2}, {\\\"attr\\\": \\\"reset_start\\\", \\\"hint\\\": null, \\\"kind\\\": \\\"ModelChanged\\\", \\\"model\\\": {\\\"id\\\": \\\"3535\\\"}, \\\"new\\\": -3.2}, {\\\"attr\\\": \\\"end\\\", \\\"hint\\\": null, \\\"kind\\\": \\\"ModelChanged\\\", \\\"model\\\": {\\\"id\\\": \\\"3535\\\"}, \\\"new\\\": 47.2}, {\\\"attr\\\": \\\"reset_end\\\", \\\"hint\\\": null, \\\"kind\\\": \\\"ModelChanged\\\", \\\"model\\\": {\\\"id\\\": \\\"3535\\\"}, \\\"new\\\": 47.2}, {\\\"cols\\\": null, \\\"column_source\\\": {\\\"id\\\": \\\"3573\\\"}, \\\"kind\\\": \\\"ColumnDataChanged\\\", \\\"new\\\": {\\\"Movie Title\\\": [1, 1, 1, 1, 1, 2, 1, 3, 2, 1, 3, 3, 2, 4, 1, 2, 4, 1, 2, 4, 2, 3, 2, 3, 1, 4, 6, 2, 2, 1, 1, 1, 6, 1, 8, 4, 3, 5, 6, 2, 2, 9, 8, 1, 5, 5, 10, 10, 10, 13, 10, 23, 22, 18, 18, 18, 14, 18, 12, 17, 18, 14, 10, 19, 19, 18, 15, 16, 16, 22, 31, 30, 23, 33, 25, 31, 29, 32, 34, 25, 32, 43, 43, 38, 31, 29, 3], \\\"Movie_Title\\\": [1, 1, 1, 1, 1, 2, 1, 3, 2, 1, 3, 3, 2, 4, 1, 2, 4, 1, 2, 4, 2, 3, 2, 3, 1, 4, 6, 2, 2, 1, 1, 1, 6, 1, 8, 4, 3, 5, 6, 2, 2, 9, 8, 1, 5, 5, 10, 10, 10, 13, 10, 23, 22, 18, 18, 18, 14, 18, 12, 17, 18, 14, 10, 19, 19, 18, 15, 16, 16, 22, 31, 30, 23, 33, 25, 31, 29, 32, 34, 25, 32, 43, 43, 38, 31, 29, 3], \\\"Year\\\": [1922, 1925, 1930, 1932, 1935, 1937, 1939, 1940, 1942, 1943, 1944, 1945, 1946, 1947, 1948, 1950, 1951, 1953, 1954, 1955, 1956, 1957, 1958, 1959, 1960, 1961, 1962, 1963, 1964, 1965, 1966, 1967, 1968, 1969, 1970, 1971, 1972, 1973, 1974, 1975, 1976, 1977, 1978, 1979, 1980, 1981, 1982, 1983, 1984, 1985, 1986, 1987, 1988, 1989, 1990, 1991, 1992, 1993, 1994, 1995, 1996, 1997, 1998, 1999, 2000, 2001, 2002, 2003, 2004, 2005, 2006, 2007, 2008, 2009, 2010, 2011, 2012, 2013, 2014, 2015, 2016, 2017, 2018, 2019, 2020, 2021, 2022]}}, {\\\"cols\\\": null, \\\"column_source\\\": {\\\"id\\\": \\\"3597\\\"}, \\\"kind\\\": \\\"ColumnDataChanged\\\", \\\"new\\\": {\\\"text\\\": [\\\"Sound Technology\\\"], \\\"x\\\": [1926], \\\"y\\\": [0]}}, {\\\"cols\\\": null, \\\"column_source\\\": {\\\"id\\\": \\\"3609\\\"}, \\\"kind\\\": \\\"ColumnDataChanged\\\", \\\"new\\\": {\\\"text\\\": [\\\"Color Technology\\\"], \\\"x\\\": [1931], \\\"y\\\": [0]}}, {\\\"cols\\\": null, \\\"column_source\\\": {\\\"id\\\": \\\"3621\\\"}, \\\"kind\\\": \\\"ColumnDataChanged\\\", \\\"new\\\": {\\\"text\\\": [\\\"SFX Technology\\\"], \\\"x\\\": [1950], \\\"y\\\": [0]}}, {\\\"cols\\\": null, \\\"column_source\\\": {\\\"id\\\": \\\"3633\\\"}, \\\"kind\\\": \\\"ColumnDataChanged\\\", \\\"new\\\": {\\\"text\\\": [\\\"Digital Technology\\\"], \\\"x\\\": [1997], \\\"y\\\": [0]}}, {\\\"attr\\\": \\\"text\\\", \\\"hint\\\": null, \\\"kind\\\": \\\"ModelChanged\\\", \\\"model\\\": {\\\"id\\\": \\\"3538\\\"}, \\\"new\\\": \\\"Movie Title  Genres: 'Fantasy'\\\"}], \\\"references\\\": []}\",\"header\":\"{\\\"msgid\\\": \\\"3899\\\", \\\"msgtype\\\": \\\"PATCH-DOC\\\"}\",\"metadata\":\"{}\"},\"'Film-Noir'\":{\"content\":\"{\\\"events\\\": [{\\\"attr\\\": \\\"start\\\", \\\"hint\\\": null, \\\"kind\\\": \\\"ModelChanged\\\", \\\"model\\\": {\\\"id\\\": \\\"3534\\\"}, \\\"new\\\": 1932.0}, {\\\"attr\\\": \\\"reset_start\\\", \\\"hint\\\": null, \\\"kind\\\": \\\"ModelChanged\\\", \\\"model\\\": {\\\"id\\\": \\\"3534\\\"}, \\\"new\\\": 1932.0}, {\\\"attr\\\": \\\"end\\\", \\\"hint\\\": null, \\\"kind\\\": \\\"ModelChanged\\\", \\\"model\\\": {\\\"id\\\": \\\"3534\\\"}, \\\"new\\\": 1958.0}, {\\\"attr\\\": \\\"reset_end\\\", \\\"hint\\\": null, \\\"kind\\\": \\\"ModelChanged\\\", \\\"model\\\": {\\\"id\\\": \\\"3534\\\"}, \\\"new\\\": 1958.0}, {\\\"attr\\\": \\\"start\\\", \\\"hint\\\": null, \\\"kind\\\": \\\"ModelChanged\\\", \\\"model\\\": {\\\"id\\\": \\\"3535\\\"}, \\\"new\\\": -0.20000000000000018}, {\\\"attr\\\": \\\"reset_start\\\", \\\"hint\\\": null, \\\"kind\\\": \\\"ModelChanged\\\", \\\"model\\\": {\\\"id\\\": \\\"3535\\\"}, \\\"new\\\": -0.20000000000000018}, {\\\"attr\\\": \\\"end\\\", \\\"hint\\\": null, \\\"kind\\\": \\\"ModelChanged\\\", \\\"model\\\": {\\\"id\\\": \\\"3535\\\"}, \\\"new\\\": 14.2}, {\\\"attr\\\": \\\"reset_end\\\", \\\"hint\\\": null, \\\"kind\\\": \\\"ModelChanged\\\", \\\"model\\\": {\\\"id\\\": \\\"3535\\\"}, \\\"new\\\": 14.2}, {\\\"cols\\\": null, \\\"column_source\\\": {\\\"id\\\": \\\"3573\\\"}, \\\"kind\\\": \\\"ColumnDataChanged\\\", \\\"new\\\": {\\\"Movie Title\\\": [3, 1, 4, 2, 2, 3, 5, 1, 2, 6, 11, 13, 13, 9, 12, 13, 8, 6, 11, 7, 10, 7, 2, 3], \\\"Movie_Title\\\": [3, 1, 4, 2, 2, 3, 5, 1, 2, 6, 11, 13, 13, 9, 12, 13, 8, 6, 11, 7, 10, 7, 2, 3], \\\"Year\\\": [1932, 1935, 1937, 1938, 1939, 1940, 1941, 1942, 1943, 1944, 1945, 1946, 1947, 1948, 1949, 1950, 1951, 1952, 1953, 1954, 1955, 1956, 1957, 1958]}}, {\\\"cols\\\": null, \\\"column_source\\\": {\\\"id\\\": \\\"3597\\\"}, \\\"kind\\\": \\\"ColumnDataChanged\\\", \\\"new\\\": {\\\"text\\\": [\\\"Sound Technology\\\"], \\\"x\\\": [1926], \\\"y\\\": [0]}}, {\\\"cols\\\": null, \\\"column_source\\\": {\\\"id\\\": \\\"3609\\\"}, \\\"kind\\\": \\\"ColumnDataChanged\\\", \\\"new\\\": {\\\"text\\\": [\\\"Color Technology\\\"], \\\"x\\\": [1931], \\\"y\\\": [0]}}, {\\\"cols\\\": null, \\\"column_source\\\": {\\\"id\\\": \\\"3621\\\"}, \\\"kind\\\": \\\"ColumnDataChanged\\\", \\\"new\\\": {\\\"text\\\": [\\\"SFX Technology\\\"], \\\"x\\\": [1950], \\\"y\\\": [0]}}, {\\\"cols\\\": null, \\\"column_source\\\": {\\\"id\\\": \\\"3633\\\"}, \\\"kind\\\": \\\"ColumnDataChanged\\\", \\\"new\\\": {\\\"text\\\": [\\\"Digital Technology\\\"], \\\"x\\\": [1997], \\\"y\\\": [0]}}, {\\\"attr\\\": \\\"text\\\", \\\"hint\\\": null, \\\"kind\\\": \\\"ModelChanged\\\", \\\"model\\\": {\\\"id\\\": \\\"3538\\\"}, \\\"new\\\": \\\"Movie Title  Genres: 'Film-Noir'\\\"}], \\\"references\\\": []}\",\"header\":\"{\\\"msgid\\\": \\\"3888\\\", \\\"msgtype\\\": \\\"PATCH-DOC\\\"}\",\"metadata\":\"{}\"},\"'History'\":{\"content\":\"{\\\"events\\\": [{\\\"attr\\\": \\\"start\\\", \\\"hint\\\": null, \\\"kind\\\": \\\"ModelChanged\\\", \\\"model\\\": {\\\"id\\\": \\\"3534\\\"}, \\\"new\\\": 1914.0}, {\\\"attr\\\": \\\"reset_start\\\", \\\"hint\\\": null, \\\"kind\\\": \\\"ModelChanged\\\", \\\"model\\\": {\\\"id\\\": \\\"3534\\\"}, \\\"new\\\": 1914.0}, {\\\"attr\\\": \\\"start\\\", \\\"hint\\\": null, \\\"kind\\\": \\\"ModelChanged\\\", \\\"model\\\": {\\\"id\\\": \\\"3535\\\"}, \\\"new\\\": -2.0}, {\\\"attr\\\": \\\"reset_start\\\", \\\"hint\\\": null, \\\"kind\\\": \\\"ModelChanged\\\", \\\"model\\\": {\\\"id\\\": \\\"3535\\\"}, \\\"new\\\": -2.0}, {\\\"attr\\\": \\\"end\\\", \\\"hint\\\": null, \\\"kind\\\": \\\"ModelChanged\\\", \\\"model\\\": {\\\"id\\\": \\\"3535\\\"}, \\\"new\\\": 34.0}, {\\\"attr\\\": \\\"reset_end\\\", \\\"hint\\\": null, \\\"kind\\\": \\\"ModelChanged\\\", \\\"model\\\": {\\\"id\\\": \\\"3535\\\"}, \\\"new\\\": 34.0}, {\\\"cols\\\": null, \\\"column_source\\\": {\\\"id\\\": \\\"3573\\\"}, \\\"kind\\\": \\\"ColumnDataChanged\\\", \\\"new\\\": {\\\"Movie Title\\\": [1, 1, 1, 1, 1, 1, 4, 2, 3, 3, 1, 2, 3, 1, 3, 5, 1, 4, 7, 5, 4, 4, 6, 3, 6, 4, 7, 7, 2, 3, 4, 2, 4, 4, 2, 3, 1, 5, 2, 1, 3, 1, 2, 5, 2, 1, 4, 2, 4, 5, 6, 7, 4, 5, 2, 5, 2, 3, 7, 8, 4, 6, 4, 5, 3, 6, 4, 7, 10, 14, 12, 7, 12, 11, 13, 12, 16, 20, 20, 29, 29, 31, 15, 16, 8], \\\"Movie_Title\\\": [1, 1, 1, 1, 1, 1, 4, 2, 3, 3, 1, 2, 3, 1, 3, 5, 1, 4, 7, 5, 4, 4, 6, 3, 6, 4, 7, 7, 2, 3, 4, 2, 4, 4, 2, 3, 1, 5, 2, 1, 3, 1, 2, 5, 2, 1, 4, 2, 4, 5, 6, 7, 4, 5, 2, 5, 2, 3, 7, 8, 4, 6, 4, 5, 3, 6, 4, 7, 10, 14, 12, 7, 12, 11, 13, 12, 16, 20, 20, 29, 29, 31, 15, 16, 8], \\\"Year\\\": [1914, 1915, 1928, 1929, 1932, 1935, 1939, 1940, 1941, 1943, 1944, 1947, 1949, 1950, 1951, 1952, 1953, 1954, 1955, 1956, 1958, 1959, 1960, 1961, 1962, 1963, 1964, 1965, 1966, 1967, 1968, 1969, 1970, 1971, 1972, 1973, 1974, 1975, 1976, 1977, 1978, 1979, 1980, 1981, 1982, 1983, 1984, 1985, 1986, 1987, 1988, 1989, 1990, 1991, 1992, 1993, 1994, 1995, 1996, 1997, 1998, 1999, 2000, 2001, 2002, 2003, 2004, 2005, 2006, 2007, 2008, 2009, 2010, 2011, 2012, 2013, 2014, 2015, 2016, 2017, 2018, 2019, 2020, 2021, 2022]}}, {\\\"cols\\\": null, \\\"column_source\\\": {\\\"id\\\": \\\"3597\\\"}, \\\"kind\\\": \\\"ColumnDataChanged\\\", \\\"new\\\": {\\\"text\\\": [\\\"Sound Technology\\\"], \\\"x\\\": [1926], \\\"y\\\": [0]}}, {\\\"cols\\\": null, \\\"column_source\\\": {\\\"id\\\": \\\"3609\\\"}, \\\"kind\\\": \\\"ColumnDataChanged\\\", \\\"new\\\": {\\\"text\\\": [\\\"Color Technology\\\"], \\\"x\\\": [1931], \\\"y\\\": [0]}}, {\\\"cols\\\": null, \\\"column_source\\\": {\\\"id\\\": \\\"3621\\\"}, \\\"kind\\\": \\\"ColumnDataChanged\\\", \\\"new\\\": {\\\"text\\\": [\\\"SFX Technology\\\"], \\\"x\\\": [1950], \\\"y\\\": [0]}}, {\\\"cols\\\": null, \\\"column_source\\\": {\\\"id\\\": \\\"3633\\\"}, \\\"kind\\\": \\\"ColumnDataChanged\\\", \\\"new\\\": {\\\"text\\\": [\\\"Digital Technology\\\"], \\\"x\\\": [1997], \\\"y\\\": [0]}}, {\\\"attr\\\": \\\"text\\\", \\\"hint\\\": null, \\\"kind\\\": \\\"ModelChanged\\\", \\\"model\\\": {\\\"id\\\": \\\"3538\\\"}, \\\"new\\\": \\\"Movie Title  Genres: 'History'\\\"}], \\\"references\\\": []}\",\"header\":\"{\\\"msgid\\\": \\\"3877\\\", \\\"msgtype\\\": \\\"PATCH-DOC\\\"}\",\"metadata\":\"{}\"},\"'Horror'\":{\"content\":\"{\\\"events\\\": [{\\\"attr\\\": \\\"start\\\", \\\"hint\\\": null, \\\"kind\\\": \\\"ModelChanged\\\", \\\"model\\\": {\\\"id\\\": \\\"3534\\\"}, \\\"new\\\": 1920.0}, {\\\"attr\\\": \\\"reset_start\\\", \\\"hint\\\": null, \\\"kind\\\": \\\"ModelChanged\\\", \\\"model\\\": {\\\"id\\\": \\\"3534\\\"}, \\\"new\\\": 1920.0}, {\\\"attr\\\": \\\"start\\\", \\\"hint\\\": null, \\\"kind\\\": \\\"ModelChanged\\\", \\\"model\\\": {\\\"id\\\": \\\"3535\\\"}, \\\"new\\\": -9.9}, {\\\"attr\\\": \\\"reset_start\\\", \\\"hint\\\": null, \\\"kind\\\": \\\"ModelChanged\\\", \\\"model\\\": {\\\"id\\\": \\\"3535\\\"}, \\\"new\\\": -9.9}, {\\\"attr\\\": \\\"end\\\", \\\"hint\\\": null, \\\"kind\\\": \\\"ModelChanged\\\", \\\"model\\\": {\\\"id\\\": \\\"3535\\\"}, \\\"new\\\": 120.9}, {\\\"attr\\\": \\\"reset_end\\\", \\\"hint\\\": null, \\\"kind\\\": \\\"ModelChanged\\\", \\\"model\\\": {\\\"id\\\": \\\"3535\\\"}, \\\"new\\\": 120.9}, {\\\"cols\\\": null, \\\"column_source\\\": {\\\"id\\\": \\\"3573\\\"}, \\\"kind\\\": \\\"ColumnDataChanged\\\", \\\"new\\\": {\\\"Movie Title\\\": [1, 1, 1, 1, 6, 3, 1, 1, 2, 2, 2, 2, 3, 3, 4, 2, 2, 2, 2, 5, 5, 8, 11, 11, 14, 15, 8, 7, 7, 7, 5, 3, 8, 2, 9, 1, 8, 13, 18, 20, 9, 9, 14, 17, 17, 12, 26, 28, 32, 20, 20, 19, 31, 34, 41, 32, 34, 14, 20, 17, 15, 21, 14, 17, 23, 17, 19, 20, 21, 18, 28, 40, 46, 50, 50, 64, 51, 53, 71, 64, 61, 62, 90, 88, 88, 110, 102, 89, 29], \\\"Movie_Title\\\": [1, 1, 1, 1, 6, 3, 1, 1, 2, 2, 2, 2, 3, 3, 4, 2, 2, 2, 2, 5, 5, 8, 11, 11, 14, 15, 8, 7, 7, 7, 5, 3, 8, 2, 9, 1, 8, 13, 18, 20, 9, 9, 14, 17, 17, 12, 26, 28, 32, 20, 20, 19, 31, 34, 41, 32, 34, 14, 20, 17, 15, 21, 14, 17, 23, 17, 19, 20, 21, 18, 28, 40, 46, 50, 50, 64, 51, 53, 71, 64, 61, 62, 90, 88, 88, 110, 102, 89, 29], \\\"Year\\\": [1920, 1922, 1927, 1928, 1932, 1933, 1935, 1936, 1939, 1940, 1941, 1942, 1943, 1944, 1945, 1946, 1948, 1949, 1951, 1953, 1954, 1955, 1956, 1957, 1958, 1959, 1960, 1961, 1962, 1963, 1964, 1965, 1966, 1967, 1968, 1969, 1970, 1971, 1972, 1973, 1974, 1975, 1976, 1977, 1978, 1979, 1980, 1981, 1982, 1983, 1984, 1985, 1986, 1987, 1988, 1989, 1990, 1991, 1992, 1993, 1994, 1995, 1996, 1997, 1998, 1999, 2000, 2001, 2002, 2003, 2004, 2005, 2006, 2007, 2008, 2009, 2010, 2011, 2012, 2013, 2014, 2015, 2016, 2017, 2018, 2019, 2020, 2021, 2022]}}, {\\\"cols\\\": null, \\\"column_source\\\": {\\\"id\\\": \\\"3597\\\"}, \\\"kind\\\": \\\"ColumnDataChanged\\\", \\\"new\\\": {\\\"text\\\": [\\\"Sound Technology\\\"], \\\"x\\\": [1926], \\\"y\\\": [0]}}, {\\\"cols\\\": null, \\\"column_source\\\": {\\\"id\\\": \\\"3609\\\"}, \\\"kind\\\": \\\"ColumnDataChanged\\\", \\\"new\\\": {\\\"text\\\": [\\\"Color Technology\\\"], \\\"x\\\": [1931], \\\"y\\\": [0]}}, {\\\"cols\\\": null, \\\"column_source\\\": {\\\"id\\\": \\\"3621\\\"}, \\\"kind\\\": \\\"ColumnDataChanged\\\", \\\"new\\\": {\\\"text\\\": [\\\"SFX Technology\\\"], \\\"x\\\": [1950], \\\"y\\\": [0]}}, {\\\"cols\\\": null, \\\"column_source\\\": {\\\"id\\\": \\\"3633\\\"}, \\\"kind\\\": \\\"ColumnDataChanged\\\", \\\"new\\\": {\\\"text\\\": [\\\"Digital Technology\\\"], \\\"x\\\": [1997], \\\"y\\\": [0]}}, {\\\"attr\\\": \\\"text\\\", \\\"hint\\\": null, \\\"kind\\\": \\\"ModelChanged\\\", \\\"model\\\": {\\\"id\\\": \\\"3538\\\"}, \\\"new\\\": \\\"Movie Title  Genres: 'Horror'\\\"}], \\\"references\\\": []}\",\"header\":\"{\\\"msgid\\\": \\\"3866\\\", \\\"msgtype\\\": \\\"PATCH-DOC\\\"}\",\"metadata\":\"{}\"},\"'Music'\":{\"content\":\"{\\\"events\\\": [{\\\"attr\\\": \\\"start\\\", \\\"hint\\\": null, \\\"kind\\\": \\\"ModelChanged\\\", \\\"model\\\": {\\\"id\\\": \\\"3535\\\"}, \\\"new\\\": -0.5}, {\\\"attr\\\": \\\"reset_start\\\", \\\"hint\\\": null, \\\"kind\\\": \\\"ModelChanged\\\", \\\"model\\\": {\\\"id\\\": \\\"3535\\\"}, \\\"new\\\": -0.5}, {\\\"attr\\\": \\\"end\\\", \\\"hint\\\": null, \\\"kind\\\": \\\"ModelChanged\\\", \\\"model\\\": {\\\"id\\\": \\\"3535\\\"}, \\\"new\\\": 17.5}, {\\\"attr\\\": \\\"reset_end\\\", \\\"hint\\\": null, \\\"kind\\\": \\\"ModelChanged\\\", \\\"model\\\": {\\\"id\\\": \\\"3535\\\"}, \\\"new\\\": 17.5}, {\\\"cols\\\": null, \\\"column_source\\\": {\\\"id\\\": \\\"3573\\\"}, \\\"kind\\\": \\\"ColumnDataChanged\\\", \\\"new\\\": {\\\"Movie Title\\\": [1, 1, 1, 1, 1, 2, 2, 1, 2, 3, 1, 2, 1, 1, 3, 1, 2, 2, 1, 1, 3, 1, 2, 2, 7, 5, 4, 3, 7, 5, 11, 5, 4, 7, 6, 5, 3, 10, 7, 7, 5, 3, 4, 3, 11, 6, 9, 9, 4, 8, 10, 8, 9, 9, 6, 9, 10, 5, 13, 8, 14, 12, 7, 14, 16, 16, 10, 9, 4], \\\"Movie_Title\\\": [1, 1, 1, 1, 1, 2, 2, 1, 2, 3, 1, 2, 1, 1, 3, 1, 2, 2, 1, 1, 3, 1, 2, 2, 7, 5, 4, 3, 7, 5, 11, 5, 4, 7, 6, 5, 3, 10, 7, 7, 5, 3, 4, 3, 11, 6, 9, 9, 4, 8, 10, 8, 9, 9, 6, 9, 10, 5, 13, 8, 14, 12, 7, 14, 16, 16, 10, 9, 4], \\\"Year\\\": [1927, 1930, 1932, 1943, 1944, 1945, 1948, 1951, 1952, 1954, 1955, 1957, 1958, 1959, 1961, 1963, 1964, 1967, 1969, 1970, 1972, 1974, 1975, 1977, 1978, 1979, 1980, 1981, 1982, 1983, 1984, 1985, 1986, 1987, 1988, 1989, 1990, 1991, 1992, 1993, 1994, 1995, 1996, 1997, 1998, 1999, 2000, 2001, 2002, 2003, 2004, 2005, 2006, 2007, 2008, 2009, 2010, 2011, 2012, 2013, 2014, 2015, 2016, 2017, 2018, 2019, 2020, 2021, 2022]}}, {\\\"cols\\\": null, \\\"column_source\\\": {\\\"id\\\": \\\"3597\\\"}, \\\"kind\\\": \\\"ColumnDataChanged\\\", \\\"new\\\": {\\\"text\\\": [\\\"Sound Technology\\\"], \\\"x\\\": [1926], \\\"y\\\": [0]}}, {\\\"cols\\\": null, \\\"column_source\\\": {\\\"id\\\": \\\"3609\\\"}, \\\"kind\\\": \\\"ColumnDataChanged\\\", \\\"new\\\": {\\\"text\\\": [\\\"Color Technology\\\"], \\\"x\\\": [1931], \\\"y\\\": [0]}}, {\\\"cols\\\": null, \\\"column_source\\\": {\\\"id\\\": \\\"3621\\\"}, \\\"kind\\\": \\\"ColumnDataChanged\\\", \\\"new\\\": {\\\"text\\\": [\\\"SFX Technology\\\"], \\\"x\\\": [1950], \\\"y\\\": [0]}}, {\\\"cols\\\": null, \\\"column_source\\\": {\\\"id\\\": \\\"3633\\\"}, \\\"kind\\\": \\\"ColumnDataChanged\\\", \\\"new\\\": {\\\"text\\\": [\\\"Digital Technology\\\"], \\\"x\\\": [1997], \\\"y\\\": [0]}}, {\\\"attr\\\": \\\"text\\\", \\\"hint\\\": null, \\\"kind\\\": \\\"ModelChanged\\\", \\\"model\\\": {\\\"id\\\": \\\"3538\\\"}, \\\"new\\\": \\\"Movie Title  Genres: 'Music'\\\"}], \\\"references\\\": []}\",\"header\":\"{\\\"msgid\\\": \\\"3855\\\", \\\"msgtype\\\": \\\"PATCH-DOC\\\"}\",\"metadata\":\"{}\"},\"'Musical'\":{\"content\":\"{\\\"events\\\": [{\\\"attr\\\": \\\"start\\\", \\\"hint\\\": null, \\\"kind\\\": \\\"ModelChanged\\\", \\\"model\\\": {\\\"id\\\": \\\"3534\\\"}, \\\"new\\\": 1927.0}, {\\\"attr\\\": \\\"reset_start\\\", \\\"hint\\\": null, \\\"kind\\\": \\\"ModelChanged\\\", \\\"model\\\": {\\\"id\\\": \\\"3534\\\"}, \\\"new\\\": 1927.0}, {\\\"attr\\\": \\\"start\\\", \\\"hint\\\": null, \\\"kind\\\": \\\"ModelChanged\\\", \\\"model\\\": {\\\"id\\\": \\\"3535\\\"}, \\\"new\\\": 0.29999999999999993}, {\\\"attr\\\": \\\"reset_start\\\", \\\"hint\\\": null, \\\"kind\\\": \\\"ModelChanged\\\", \\\"model\\\": {\\\"id\\\": \\\"3535\\\"}, \\\"new\\\": 0.29999999999999993}, {\\\"attr\\\": \\\"end\\\", \\\"hint\\\": null, \\\"kind\\\": \\\"ModelChanged\\\", \\\"model\\\": {\\\"id\\\": \\\"3535\\\"}, \\\"new\\\": 8.7}, {\\\"attr\\\": \\\"reset_end\\\", \\\"hint\\\": null, \\\"kind\\\": \\\"ModelChanged\\\", \\\"model\\\": {\\\"id\\\": \\\"3535\\\"}, \\\"new\\\": 8.7}, {\\\"cols\\\": null, \\\"column_source\\\": {\\\"id\\\": \\\"3573\\\"}, \\\"kind\\\": \\\"ColumnDataChanged\\\", \\\"new\\\": {\\\"Movie Title\\\": [1, 2, 1, 3, 1, 1, 1, 1, 1, 1, 2, 2, 1, 2, 3, 2, 2, 4, 1, 4, 6, 3, 5, 2, 3, 1, 1, 2, 3, 3, 8, 4, 2, 3, 5, 3, 1, 3, 2, 1, 2, 2, 1, 3, 3, 5, 3, 4, 1, 1, 2, 1, 4, 2, 1, 1, 2, 2, 1, 2, 4, 4, 6, 5, 5, 3, 3, 4, 4, 1, 3, 2, 3, 3, 5, 2, 3, 3, 3, 5, 3, 8, 2], \\\"Movie_Title\\\": [1, 2, 1, 3, 1, 1, 1, 1, 1, 1, 2, 2, 1, 2, 3, 2, 2, 4, 1, 4, 6, 3, 5, 2, 3, 1, 1, 2, 3, 3, 8, 4, 2, 3, 5, 3, 1, 3, 2, 1, 2, 2, 1, 3, 3, 5, 3, 4, 1, 1, 2, 1, 4, 2, 1, 1, 2, 2, 1, 2, 4, 4, 6, 5, 5, 3, 3, 4, 4, 1, 3, 2, 3, 3, 5, 2, 3, 3, 3, 5, 3, 8, 2], \\\"Year\\\": [1927, 1929, 1930, 1933, 1934, 1935, 1938, 1939, 1941, 1942, 1943, 1945, 1946, 1947, 1948, 1949, 1950, 1951, 1952, 1953, 1954, 1955, 1956, 1957, 1958, 1959, 1960, 1961, 1962, 1963, 1964, 1965, 1966, 1967, 1968, 1969, 1970, 1971, 1972, 1973, 1974, 1975, 1977, 1979, 1980, 1981, 1982, 1983, 1984, 1985, 1986, 1987, 1988, 1989, 1990, 1992, 1993, 1996, 1997, 1998, 2000, 2001, 2002, 2003, 2004, 2005, 2006, 2007, 2008, 2009, 2010, 2011, 2012, 2013, 2014, 2015, 2016, 2017, 2018, 2019, 2020, 2021, 2022]}}, {\\\"cols\\\": null, \\\"column_source\\\": {\\\"id\\\": \\\"3597\\\"}, \\\"kind\\\": \\\"ColumnDataChanged\\\", \\\"new\\\": {\\\"text\\\": [\\\"Sound Technology\\\"], \\\"x\\\": [1926], \\\"y\\\": [0]}}, {\\\"cols\\\": null, \\\"column_source\\\": {\\\"id\\\": \\\"3609\\\"}, \\\"kind\\\": \\\"ColumnDataChanged\\\", \\\"new\\\": {\\\"text\\\": [\\\"Color Technology\\\"], \\\"x\\\": [1931], \\\"y\\\": [0]}}, {\\\"cols\\\": null, \\\"column_source\\\": {\\\"id\\\": \\\"3621\\\"}, \\\"kind\\\": \\\"ColumnDataChanged\\\", \\\"new\\\": {\\\"text\\\": [\\\"SFX Technology\\\"], \\\"x\\\": [1950], \\\"y\\\": [0]}}, {\\\"cols\\\": null, \\\"column_source\\\": {\\\"id\\\": \\\"3633\\\"}, \\\"kind\\\": \\\"ColumnDataChanged\\\", \\\"new\\\": {\\\"text\\\": [\\\"Digital Technology\\\"], \\\"x\\\": [1997], \\\"y\\\": [0]}}, {\\\"attr\\\": \\\"text\\\", \\\"hint\\\": null, \\\"kind\\\": \\\"ModelChanged\\\", \\\"model\\\": {\\\"id\\\": \\\"3538\\\"}, \\\"new\\\": \\\"Movie Title  Genres: 'Musical'\\\"}], \\\"references\\\": []}\",\"header\":\"{\\\"msgid\\\": \\\"3844\\\", \\\"msgtype\\\": \\\"PATCH-DOC\\\"}\",\"metadata\":\"{}\"},\"'Mystery'\":{\"content\":\"{\\\"events\\\": [{\\\"attr\\\": \\\"start\\\", \\\"hint\\\": null, \\\"kind\\\": \\\"ModelChanged\\\", \\\"model\\\": {\\\"id\\\": \\\"3534\\\"}, \\\"new\\\": 1924.0}, {\\\"attr\\\": \\\"reset_start\\\", \\\"hint\\\": null, \\\"kind\\\": \\\"ModelChanged\\\", \\\"model\\\": {\\\"id\\\": \\\"3534\\\"}, \\\"new\\\": 1924.0}, {\\\"attr\\\": \\\"end\\\", \\\"hint\\\": null, \\\"kind\\\": \\\"ModelChanged\\\", \\\"model\\\": {\\\"id\\\": \\\"3534\\\"}, \\\"new\\\": 2022.0}, {\\\"attr\\\": \\\"reset_end\\\", \\\"hint\\\": null, \\\"kind\\\": \\\"ModelChanged\\\", \\\"model\\\": {\\\"id\\\": \\\"3534\\\"}, \\\"new\\\": 2022.0}, {\\\"attr\\\": \\\"start\\\", \\\"hint\\\": null, \\\"kind\\\": \\\"ModelChanged\\\", \\\"model\\\": {\\\"id\\\": \\\"3535\\\"}, \\\"new\\\": -6.6000000000000005}, {\\\"attr\\\": \\\"reset_start\\\", \\\"hint\\\": null, \\\"kind\\\": \\\"ModelChanged\\\", \\\"model\\\": {\\\"id\\\": \\\"3535\\\"}, \\\"new\\\": -6.6000000000000005}, {\\\"attr\\\": \\\"end\\\", \\\"hint\\\": null, \\\"kind\\\": \\\"ModelChanged\\\", \\\"model\\\": {\\\"id\\\": \\\"3535\\\"}, \\\"new\\\": 84.6}, {\\\"attr\\\": \\\"reset_end\\\", \\\"hint\\\": null, \\\"kind\\\": \\\"ModelChanged\\\", \\\"model\\\": {\\\"id\\\": \\\"3535\\\"}, \\\"new\\\": 84.6}, {\\\"cols\\\": null, \\\"column_source\\\": {\\\"id\\\": \\\"3573\\\"}, \\\"kind\\\": \\\"ColumnDataChanged\\\", \\\"new\\\": {\\\"Movie Title\\\": [1, 1, 1, 1, 1, 1, 3, 2, 4, 2, 2, 4, 1, 5, 3, 2, 7, 6, 6, 4, 5, 2, 3, 2, 2, 5, 5, 4, 2, 4, 6, 5, 4, 4, 5, 8, 3, 6, 7, 2, 1, 7, 14, 9, 6, 7, 6, 6, 16, 11, 13, 12, 18, 10, 10, 12, 9, 12, 14, 14, 13, 10, 13, 19, 9, 13, 14, 20, 15, 20, 22, 28, 31, 19, 32, 29, 33, 43, 43, 45, 27, 36, 36, 39, 50, 50, 57, 62, 68, 77, 67, 52, 16], \\\"Movie_Title\\\": [1, 1, 1, 1, 1, 1, 3, 2, 4, 2, 2, 4, 1, 5, 3, 2, 7, 6, 6, 4, 5, 2, 3, 2, 2, 5, 5, 4, 2, 4, 6, 5, 4, 4, 5, 8, 3, 6, 7, 2, 1, 7, 14, 9, 6, 7, 6, 6, 16, 11, 13, 12, 18, 10, 10, 12, 9, 12, 14, 14, 13, 10, 13, 19, 9, 13, 14, 20, 15, 20, 22, 28, 31, 19, 32, 29, 33, 43, 43, 45, 27, 36, 36, 39, 50, 50, 57, 62, 68, 77, 67, 52, 16], \\\"Year\\\": [1924, 1927, 1928, 1929, 1930, 1932, 1933, 1934, 1935, 1936, 1937, 1939, 1940, 1941, 1942, 1943, 1944, 1945, 1946, 1947, 1948, 1949, 1950, 1951, 1953, 1954, 1955, 1956, 1957, 1958, 1959, 1960, 1961, 1962, 1963, 1964, 1965, 1966, 1967, 1968, 1970, 1971, 1972, 1973, 1974, 1975, 1976, 1977, 1978, 1979, 1980, 1981, 1982, 1983, 1984, 1985, 1986, 1987, 1988, 1989, 1990, 1991, 1992, 1993, 1994, 1995, 1996, 1997, 1998, 1999, 2000, 2001, 2002, 2003, 2004, 2005, 2006, 2007, 2008, 2009, 2010, 2011, 2012, 2013, 2014, 2015, 2016, 2017, 2018, 2019, 2020, 2021, 2022]}}, {\\\"cols\\\": null, \\\"column_source\\\": {\\\"id\\\": \\\"3597\\\"}, \\\"kind\\\": \\\"ColumnDataChanged\\\", \\\"new\\\": {\\\"text\\\": [\\\"Sound Technology\\\"], \\\"x\\\": [1926], \\\"y\\\": [0]}}, {\\\"cols\\\": null, \\\"column_source\\\": {\\\"id\\\": \\\"3609\\\"}, \\\"kind\\\": \\\"ColumnDataChanged\\\", \\\"new\\\": {\\\"text\\\": [\\\"Color Technology\\\"], \\\"x\\\": [1931], \\\"y\\\": [0]}}, {\\\"cols\\\": null, \\\"column_source\\\": {\\\"id\\\": \\\"3621\\\"}, \\\"kind\\\": \\\"ColumnDataChanged\\\", \\\"new\\\": {\\\"text\\\": [\\\"SFX Technology\\\"], \\\"x\\\": [1950], \\\"y\\\": [0]}}, {\\\"cols\\\": null, \\\"column_source\\\": {\\\"id\\\": \\\"3633\\\"}, \\\"kind\\\": \\\"ColumnDataChanged\\\", \\\"new\\\": {\\\"text\\\": [\\\"Digital Technology\\\"], \\\"x\\\": [1997], \\\"y\\\": [0]}}, {\\\"attr\\\": \\\"text\\\", \\\"hint\\\": null, \\\"kind\\\": \\\"ModelChanged\\\", \\\"model\\\": {\\\"id\\\": \\\"3538\\\"}, \\\"new\\\": \\\"Movie Title  Genres: 'Mystery'\\\"}], \\\"references\\\": []}\",\"header\":\"{\\\"msgid\\\": \\\"3833\\\", \\\"msgtype\\\": \\\"PATCH-DOC\\\"}\",\"metadata\":\"{}\"},\"'Reality-TV'\":{\"content\":\"{\\\"events\\\": [{\\\"attr\\\": \\\"start\\\", \\\"hint\\\": null, \\\"kind\\\": \\\"ModelChanged\\\", \\\"model\\\": {\\\"id\\\": \\\"3534\\\"}, \\\"new\\\": 2015.0}, {\\\"attr\\\": \\\"reset_start\\\", \\\"hint\\\": null, \\\"kind\\\": \\\"ModelChanged\\\", \\\"model\\\": {\\\"id\\\": \\\"3534\\\"}, \\\"new\\\": 2015.0}, {\\\"attr\\\": \\\"end\\\", \\\"hint\\\": null, \\\"kind\\\": \\\"ModelChanged\\\", \\\"model\\\": {\\\"id\\\": \\\"3534\\\"}, \\\"new\\\": 2017.0}, {\\\"attr\\\": \\\"reset_end\\\", \\\"hint\\\": null, \\\"kind\\\": \\\"ModelChanged\\\", \\\"model\\\": {\\\"id\\\": \\\"3534\\\"}, \\\"new\\\": 2017.0}, {\\\"attr\\\": \\\"start\\\", \\\"hint\\\": null, \\\"kind\\\": \\\"ModelChanged\\\", \\\"model\\\": {\\\"id\\\": \\\"3535\\\"}, \\\"new\\\": -0.2}, {\\\"attr\\\": \\\"reset_start\\\", \\\"hint\\\": null, \\\"kind\\\": \\\"ModelChanged\\\", \\\"model\\\": {\\\"id\\\": \\\"3535\\\"}, \\\"new\\\": -0.2}, {\\\"attr\\\": \\\"end\\\", \\\"hint\\\": null, \\\"kind\\\": \\\"ModelChanged\\\", \\\"model\\\": {\\\"id\\\": \\\"3535\\\"}, \\\"new\\\": 2.2}, {\\\"attr\\\": \\\"reset_end\\\", \\\"hint\\\": null, \\\"kind\\\": \\\"ModelChanged\\\", \\\"model\\\": {\\\"id\\\": \\\"3535\\\"}, \\\"new\\\": 2.2}, {\\\"cols\\\": null, \\\"column_source\\\": {\\\"id\\\": \\\"3573\\\"}, \\\"kind\\\": \\\"ColumnDataChanged\\\", \\\"new\\\": {\\\"Movie Title\\\": [1], \\\"Movie_Title\\\": [1], \\\"Year\\\": [2016]}}, {\\\"cols\\\": null, \\\"column_source\\\": {\\\"id\\\": \\\"3597\\\"}, \\\"kind\\\": \\\"ColumnDataChanged\\\", \\\"new\\\": {\\\"text\\\": [\\\"Sound Technology\\\"], \\\"x\\\": [1926], \\\"y\\\": [0]}}, {\\\"cols\\\": null, \\\"column_source\\\": {\\\"id\\\": \\\"3609\\\"}, \\\"kind\\\": \\\"ColumnDataChanged\\\", \\\"new\\\": {\\\"text\\\": [\\\"Color Technology\\\"], \\\"x\\\": [1931], \\\"y\\\": [0]}}, {\\\"cols\\\": null, \\\"column_source\\\": {\\\"id\\\": \\\"3621\\\"}, \\\"kind\\\": \\\"ColumnDataChanged\\\", \\\"new\\\": {\\\"text\\\": [\\\"SFX Technology\\\"], \\\"x\\\": [1950], \\\"y\\\": [0]}}, {\\\"cols\\\": null, \\\"column_source\\\": {\\\"id\\\": \\\"3633\\\"}, \\\"kind\\\": \\\"ColumnDataChanged\\\", \\\"new\\\": {\\\"text\\\": [\\\"Digital Technology\\\"], \\\"x\\\": [1997], \\\"y\\\": [0]}}, {\\\"attr\\\": \\\"text\\\", \\\"hint\\\": null, \\\"kind\\\": \\\"ModelChanged\\\", \\\"model\\\": {\\\"id\\\": \\\"3538\\\"}, \\\"new\\\": \\\"Movie Title  Genres: 'Reality-TV'\\\"}], \\\"references\\\": []}\",\"header\":\"{\\\"msgid\\\": \\\"3822\\\", \\\"msgtype\\\": \\\"PATCH-DOC\\\"}\",\"metadata\":\"{}\"},\"'Romance'\":{\"content\":\"{\\\"events\\\": [{\\\"attr\\\": \\\"start\\\", \\\"hint\\\": null, \\\"kind\\\": \\\"ModelChanged\\\", \\\"model\\\": {\\\"id\\\": \\\"3534\\\"}, \\\"new\\\": 1921.0}, {\\\"attr\\\": \\\"reset_start\\\", \\\"hint\\\": null, \\\"kind\\\": \\\"ModelChanged\\\", \\\"model\\\": {\\\"id\\\": \\\"3534\\\"}, \\\"new\\\": 1921.0}, {\\\"attr\\\": \\\"start\\\", \\\"hint\\\": null, \\\"kind\\\": \\\"ModelChanged\\\", \\\"model\\\": {\\\"id\\\": \\\"3535\\\"}, \\\"new\\\": -7.1}, {\\\"attr\\\": \\\"reset_start\\\", \\\"hint\\\": null, \\\"kind\\\": \\\"ModelChanged\\\", \\\"model\\\": {\\\"id\\\": \\\"3535\\\"}, \\\"new\\\": -7.1}, {\\\"attr\\\": \\\"end\\\", \\\"hint\\\": null, \\\"kind\\\": \\\"ModelChanged\\\", \\\"model\\\": {\\\"id\\\": \\\"3535\\\"}, \\\"new\\\": 90.1}, {\\\"attr\\\": \\\"reset_end\\\", \\\"hint\\\": null, \\\"kind\\\": \\\"ModelChanged\\\", \\\"model\\\": {\\\"id\\\": \\\"3535\\\"}, \\\"new\\\": 90.1}, {\\\"cols\\\": null, \\\"column_source\\\": {\\\"id\\\": \\\"3573\\\"}, \\\"kind\\\": \\\"ColumnDataChanged\\\", \\\"new\\\": {\\\"Movie Title\\\": [1, 2, 3, 2, 2, 2, 1, 5, 4, 6, 4, 4, 4, 10, 6, 5, 11, 8, 7, 11, 3, 5, 10, 9, 7, 9, 11, 7, 7, 11, 15, 14, 12, 11, 12, 17, 16, 11, 11, 5, 11, 12, 11, 12, 10, 7, 11, 12, 6, 7, 5, 10, 6, 8, 8, 12, 16, 9, 15, 12, 21, 21, 29, 23, 32, 36, 29, 25, 31, 31, 33, 39, 45, 36, 35, 39, 56, 46, 59, 53, 49, 66, 52, 61, 63, 71, 65, 62, 55, 62, 66, 82, 64, 78, 54, 57, 74, 59, 38, 31], \\\"Movie_Title\\\": [1, 2, 3, 2, 2, 2, 1, 5, 4, 6, 4, 4, 4, 10, 6, 5, 11, 8, 7, 11, 3, 5, 10, 9, 7, 9, 11, 7, 7, 11, 15, 14, 12, 11, 12, 17, 16, 11, 11, 5, 11, 12, 11, 12, 10, 7, 11, 12, 6, 7, 5, 10, 6, 8, 8, 12, 16, 9, 15, 12, 21, 21, 29, 23, 32, 36, 29, 25, 31, 31, 33, 39, 45, 36, 35, 39, 56, 46, 59, 53, 49, 66, 52, 61, 63, 71, 65, 62, 55, 62, 66, 82, 64, 78, 54, 57, 74, 59, 38, 31], \\\"Year\\\": [1921, 1923, 1924, 1925, 1926, 1927, 1929, 1930, 1931, 1932, 1933, 1934, 1935, 1936, 1937, 1938, 1939, 1940, 1941, 1942, 1943, 1944, 1945, 1946, 1947, 1948, 1949, 1950, 1951, 1952, 1953, 1954, 1955, 1956, 1957, 1958, 1959, 1960, 1961, 1962, 1963, 1964, 1965, 1966, 1967, 1968, 1969, 1970, 1971, 1972, 1973, 1974, 1975, 1976, 1977, 1978, 1979, 1980, 1981, 1982, 1983, 1984, 1985, 1986, 1987, 1988, 1989, 1990, 1991, 1992, 1993, 1994, 1995, 1996, 1997, 1998, 1999, 2000, 2001, 2002, 2003, 2004, 2005, 2006, 2007, 2008, 2009, 2010, 2011, 2012, 2013, 2014, 2015, 2016, 2017, 2018, 2019, 2020, 2021, 2022]}}, {\\\"cols\\\": null, \\\"column_source\\\": {\\\"id\\\": \\\"3597\\\"}, \\\"kind\\\": \\\"ColumnDataChanged\\\", \\\"new\\\": {\\\"text\\\": [\\\"Sound Technology\\\"], \\\"x\\\": [1926], \\\"y\\\": [0]}}, {\\\"cols\\\": null, \\\"column_source\\\": {\\\"id\\\": \\\"3609\\\"}, \\\"kind\\\": \\\"ColumnDataChanged\\\", \\\"new\\\": {\\\"text\\\": [\\\"Color Technology\\\"], \\\"x\\\": [1931], \\\"y\\\": [0]}}, {\\\"cols\\\": null, \\\"column_source\\\": {\\\"id\\\": \\\"3621\\\"}, \\\"kind\\\": \\\"ColumnDataChanged\\\", \\\"new\\\": {\\\"text\\\": [\\\"SFX Technology\\\"], \\\"x\\\": [1950], \\\"y\\\": [0]}}, {\\\"cols\\\": null, \\\"column_source\\\": {\\\"id\\\": \\\"3633\\\"}, \\\"kind\\\": \\\"ColumnDataChanged\\\", \\\"new\\\": {\\\"text\\\": [\\\"Digital Technology\\\"], \\\"x\\\": [1997], \\\"y\\\": [0]}}, {\\\"attr\\\": \\\"text\\\", \\\"hint\\\": null, \\\"kind\\\": \\\"ModelChanged\\\", \\\"model\\\": {\\\"id\\\": \\\"3538\\\"}, \\\"new\\\": \\\"Movie Title  Genres: 'Romance'\\\"}], \\\"references\\\": []}\",\"header\":\"{\\\"msgid\\\": \\\"3811\\\", \\\"msgtype\\\": \\\"PATCH-DOC\\\"}\",\"metadata\":\"{}\"},\"'Sci-Fi'\":{\"content\":\"{\\\"events\\\": [{\\\"attr\\\": \\\"start\\\", \\\"hint\\\": null, \\\"kind\\\": \\\"ModelChanged\\\", \\\"model\\\": {\\\"id\\\": \\\"3534\\\"}, \\\"new\\\": 1916.0}, {\\\"attr\\\": \\\"reset_start\\\", \\\"hint\\\": null, \\\"kind\\\": \\\"ModelChanged\\\", \\\"model\\\": {\\\"id\\\": \\\"3534\\\"}, \\\"new\\\": 1916.0}, {\\\"attr\\\": \\\"start\\\", \\\"hint\\\": null, \\\"kind\\\": \\\"ModelChanged\\\", \\\"model\\\": {\\\"id\\\": \\\"3535\\\"}, \\\"new\\\": -4.2}, {\\\"attr\\\": \\\"reset_start\\\", \\\"hint\\\": null, \\\"kind\\\": \\\"ModelChanged\\\", \\\"model\\\": {\\\"id\\\": \\\"3535\\\"}, \\\"new\\\": -4.2}, {\\\"attr\\\": \\\"end\\\", \\\"hint\\\": null, \\\"kind\\\": \\\"ModelChanged\\\", \\\"model\\\": {\\\"id\\\": \\\"3535\\\"}, \\\"new\\\": 58.2}, {\\\"attr\\\": \\\"reset_end\\\", \\\"hint\\\": null, \\\"kind\\\": \\\"ModelChanged\\\", \\\"model\\\": {\\\"id\\\": \\\"3535\\\"}, \\\"new\\\": 58.2}, {\\\"cols\\\": null, \\\"column_source\\\": {\\\"id\\\": \\\"3573\\\"}, \\\"kind\\\": \\\"ColumnDataChanged\\\", \\\"new\\\": {\\\"Movie Title\\\": [1, 1, 1, 2, 2, 1, 1, 1, 1, 1, 1, 1, 1, 2, 5, 3, 5, 3, 8, 11, 9, 13, 13, 2, 7, 3, 4, 5, 5, 9, 4, 6, 6, 2, 11, 9, 14, 9, 6, 6, 9, 10, 17, 16, 12, 18, 14, 17, 21, 22, 23, 15, 14, 23, 15, 8, 15, 12, 16, 21, 19, 15, 18, 17, 15, 16, 14, 25, 15, 21, 14, 28, 36, 19, 31, 31, 44, 39, 42, 48, 36, 53, 38, 50, 40, 16], \\\"Movie_Title\\\": [1, 1, 1, 2, 2, 1, 1, 1, 1, 1, 1, 1, 1, 2, 5, 3, 5, 3, 8, 11, 9, 13, 13, 2, 7, 3, 4, 5, 5, 9, 4, 6, 6, 2, 11, 9, 14, 9, 6, 6, 9, 10, 17, 16, 12, 18, 14, 17, 21, 22, 23, 15, 14, 23, 15, 8, 15, 12, 16, 21, 19, 15, 18, 17, 15, 16, 14, 25, 15, 21, 14, 28, 36, 19, 31, 31, 44, 39, 42, 48, 36, 53, 38, 50, 40, 16], \\\"Year\\\": [1916, 1925, 1927, 1932, 1936, 1939, 1940, 1941, 1942, 1943, 1944, 1945, 1949, 1950, 1951, 1952, 1953, 1954, 1955, 1956, 1957, 1958, 1959, 1960, 1961, 1962, 1963, 1964, 1965, 1966, 1967, 1968, 1969, 1970, 1971, 1972, 1973, 1974, 1975, 1976, 1977, 1978, 1979, 1980, 1981, 1982, 1983, 1984, 1985, 1986, 1987, 1988, 1989, 1990, 1991, 1992, 1993, 1994, 1995, 1996, 1997, 1998, 1999, 2000, 2001, 2002, 2003, 2004, 2005, 2006, 2007, 2008, 2009, 2010, 2011, 2012, 2013, 2014, 2015, 2016, 2017, 2018, 2019, 2020, 2021, 2022]}}, {\\\"cols\\\": null, \\\"column_source\\\": {\\\"id\\\": \\\"3597\\\"}, \\\"kind\\\": \\\"ColumnDataChanged\\\", \\\"new\\\": {\\\"text\\\": [\\\"Sound Technology\\\"], \\\"x\\\": [1926], \\\"y\\\": [0]}}, {\\\"cols\\\": null, \\\"column_source\\\": {\\\"id\\\": \\\"3609\\\"}, \\\"kind\\\": \\\"ColumnDataChanged\\\", \\\"new\\\": {\\\"text\\\": [\\\"Color Technology\\\"], \\\"x\\\": [1931], \\\"y\\\": [0]}}, {\\\"cols\\\": null, \\\"column_source\\\": {\\\"id\\\": \\\"3621\\\"}, \\\"kind\\\": \\\"ColumnDataChanged\\\", \\\"new\\\": {\\\"text\\\": [\\\"SFX Technology\\\"], \\\"x\\\": [1950], \\\"y\\\": [0]}}, {\\\"cols\\\": null, \\\"column_source\\\": {\\\"id\\\": \\\"3633\\\"}, \\\"kind\\\": \\\"ColumnDataChanged\\\", \\\"new\\\": {\\\"text\\\": [\\\"Digital Technology\\\"], \\\"x\\\": [1997], \\\"y\\\": [0]}}, {\\\"attr\\\": \\\"text\\\", \\\"hint\\\": null, \\\"kind\\\": \\\"ModelChanged\\\", \\\"model\\\": {\\\"id\\\": \\\"3538\\\"}, \\\"new\\\": \\\"Movie Title  Genres: 'Sci-Fi'\\\"}], \\\"references\\\": []}\",\"header\":\"{\\\"msgid\\\": \\\"3800\\\", \\\"msgtype\\\": \\\"PATCH-DOC\\\"}\",\"metadata\":\"{}\"},\"'Sport'\":{\"content\":\"{\\\"events\\\": [{\\\"attr\\\": \\\"start\\\", \\\"hint\\\": null, \\\"kind\\\": \\\"ModelChanged\\\", \\\"model\\\": {\\\"id\\\": \\\"3534\\\"}, \\\"new\\\": 1944.0}, {\\\"attr\\\": \\\"reset_start\\\", \\\"hint\\\": null, \\\"kind\\\": \\\"ModelChanged\\\", \\\"model\\\": {\\\"id\\\": \\\"3534\\\"}, \\\"new\\\": 1944.0}, {\\\"attr\\\": \\\"start\\\", \\\"hint\\\": null, \\\"kind\\\": \\\"ModelChanged\\\", \\\"model\\\": {\\\"id\\\": \\\"3535\\\"}, \\\"new\\\": -0.30000000000000004}, {\\\"attr\\\": \\\"reset_start\\\", \\\"hint\\\": null, \\\"kind\\\": \\\"ModelChanged\\\", \\\"model\\\": {\\\"id\\\": \\\"3535\\\"}, \\\"new\\\": -0.30000000000000004}, {\\\"attr\\\": \\\"end\\\", \\\"hint\\\": null, \\\"kind\\\": \\\"ModelChanged\\\", \\\"model\\\": {\\\"id\\\": \\\"3535\\\"}, \\\"new\\\": 15.3}, {\\\"attr\\\": \\\"reset_end\\\", \\\"hint\\\": null, \\\"kind\\\": \\\"ModelChanged\\\", \\\"model\\\": {\\\"id\\\": \\\"3535\\\"}, \\\"new\\\": 15.3}, {\\\"cols\\\": null, \\\"column_source\\\": {\\\"id\\\": \\\"3573\\\"}, \\\"kind\\\": \\\"ColumnDataChanged\\\", \\\"new\\\": {\\\"Movie Title\\\": [1, 1, 1, 1, 1, 1, 1, 1, 1, 3, 1, 1, 1, 2, 3, 2, 8, 3, 4, 4, 1, 2, 3, 7, 1, 7, 7, 6, 5, 7, 2, 10, 1, 6, 2, 6, 4, 6, 4, 2, 4, 5, 9, 14, 11, 10, 6, 1, 10, 8, 5, 4, 8, 13, 5, 9, 8, 7, 12, 4], \\\"Movie_Title\\\": [1, 1, 1, 1, 1, 1, 1, 1, 1, 3, 1, 1, 1, 2, 3, 2, 8, 3, 4, 4, 1, 2, 3, 7, 1, 7, 7, 6, 5, 7, 2, 10, 1, 6, 2, 6, 4, 6, 4, 2, 4, 5, 9, 14, 11, 10, 6, 1, 10, 8, 5, 4, 8, 13, 5, 9, 8, 7, 12, 4], \\\"Year\\\": [1944, 1956, 1961, 1962, 1963, 1965, 1966, 1967, 1968, 1969, 1970, 1973, 1974, 1975, 1977, 1978, 1979, 1980, 1981, 1982, 1983, 1984, 1985, 1986, 1987, 1988, 1989, 1990, 1991, 1992, 1993, 1994, 1995, 1996, 1997, 1998, 1999, 2000, 2001, 2002, 2003, 2004, 2005, 2006, 2007, 2008, 2009, 2010, 2011, 2012, 2013, 2014, 2015, 2016, 2017, 2018, 2019, 2020, 2021, 2022]}}, {\\\"cols\\\": null, \\\"column_source\\\": {\\\"id\\\": \\\"3597\\\"}, \\\"kind\\\": \\\"ColumnDataChanged\\\", \\\"new\\\": {\\\"text\\\": [\\\"Sound Technology\\\"], \\\"x\\\": [1926], \\\"y\\\": [0]}}, {\\\"cols\\\": null, \\\"column_source\\\": {\\\"id\\\": \\\"3609\\\"}, \\\"kind\\\": \\\"ColumnDataChanged\\\", \\\"new\\\": {\\\"text\\\": [\\\"Color Technology\\\"], \\\"x\\\": [1931], \\\"y\\\": [0]}}, {\\\"cols\\\": null, \\\"column_source\\\": {\\\"id\\\": \\\"3621\\\"}, \\\"kind\\\": \\\"ColumnDataChanged\\\", \\\"new\\\": {\\\"text\\\": [\\\"SFX Technology\\\"], \\\"x\\\": [1950], \\\"y\\\": [0]}}, {\\\"cols\\\": null, \\\"column_source\\\": {\\\"id\\\": \\\"3633\\\"}, \\\"kind\\\": \\\"ColumnDataChanged\\\", \\\"new\\\": {\\\"text\\\": [\\\"Digital Technology\\\"], \\\"x\\\": [1997], \\\"y\\\": [0]}}, {\\\"attr\\\": \\\"text\\\", \\\"hint\\\": null, \\\"kind\\\": \\\"ModelChanged\\\", \\\"model\\\": {\\\"id\\\": \\\"3538\\\"}, \\\"new\\\": \\\"Movie Title  Genres: 'Sport'\\\"}], \\\"references\\\": []}\",\"header\":\"{\\\"msgid\\\": \\\"3789\\\", \\\"msgtype\\\": \\\"PATCH-DOC\\\"}\",\"metadata\":\"{}\"},\"'Thriller'\":{\"content\":\"{\\\"events\\\": [{\\\"attr\\\": \\\"start\\\", \\\"hint\\\": null, \\\"kind\\\": \\\"ModelChanged\\\", \\\"model\\\": {\\\"id\\\": \\\"3534\\\"}, \\\"new\\\": 1923.0}, {\\\"attr\\\": \\\"reset_start\\\", \\\"hint\\\": null, \\\"kind\\\": \\\"ModelChanged\\\", \\\"model\\\": {\\\"id\\\": \\\"3534\\\"}, \\\"new\\\": 1923.0}, {\\\"attr\\\": \\\"start\\\", \\\"hint\\\": null, \\\"kind\\\": \\\"ModelChanged\\\", \\\"model\\\": {\\\"id\\\": \\\"3535\\\"}, \\\"new\\\": -13.3}, {\\\"attr\\\": \\\"reset_start\\\", \\\"hint\\\": null, \\\"kind\\\": \\\"ModelChanged\\\", \\\"model\\\": {\\\"id\\\": \\\"3535\\\"}, \\\"new\\\": -13.3}, {\\\"attr\\\": \\\"end\\\", \\\"hint\\\": null, \\\"kind\\\": \\\"ModelChanged\\\", \\\"model\\\": {\\\"id\\\": \\\"3535\\\"}, \\\"new\\\": 158.3}, {\\\"attr\\\": \\\"reset_end\\\", \\\"hint\\\": null, \\\"kind\\\": \\\"ModelChanged\\\", \\\"model\\\": {\\\"id\\\": \\\"3535\\\"}, \\\"new\\\": 158.3}, {\\\"cols\\\": null, \\\"column_source\\\": {\\\"id\\\": \\\"3573\\\"}, \\\"kind\\\": \\\"ColumnDataChanged\\\", \\\"new\\\": {\\\"Movie Title\\\": [2, 1, 1, 2, 1, 1, 1, 2, 1, 2, 1, 3, 3, 5, 2, 2, 1, 3, 4, 4, 1, 3, 5, 7, 4, 2, 5, 3, 6, 7, 7, 6, 8, 6, 8, 13, 8, 10, 7, 5, 6, 16, 14, 20, 27, 11, 18, 15, 15, 19, 20, 25, 21, 19, 22, 23, 31, 35, 23, 37, 35, 27, 36, 37, 27, 39, 49, 39, 34, 37, 35, 37, 53, 42, 47, 42, 81, 79, 79, 82, 93, 78, 105, 106, 116, 109, 134, 140, 142, 144, 114, 143, 80], \\\"Movie_Title\\\": [2, 1, 1, 2, 1, 1, 1, 2, 1, 2, 1, 3, 3, 5, 2, 2, 1, 3, 4, 4, 1, 3, 5, 7, 4, 2, 5, 3, 6, 7, 7, 6, 8, 6, 8, 13, 8, 10, 7, 5, 6, 16, 14, 20, 27, 11, 18, 15, 15, 19, 20, 25, 21, 19, 22, 23, 31, 35, 23, 37, 35, 27, 36, 37, 27, 39, 49, 39, 34, 37, 35, 37, 53, 42, 47, 42, 81, 79, 79, 82, 93, 78, 105, 106, 116, 109, 134, 140, 142, 144, 114, 143, 80], \\\"Year\\\": [1923, 1924, 1929, 1930, 1932, 1933, 1935, 1936, 1938, 1939, 1940, 1941, 1942, 1943, 1944, 1945, 1946, 1947, 1948, 1949, 1950, 1951, 1952, 1953, 1954, 1955, 1956, 1957, 1958, 1959, 1960, 1961, 1962, 1963, 1964, 1965, 1966, 1967, 1968, 1969, 1970, 1971, 1972, 1973, 1974, 1975, 1976, 1977, 1978, 1979, 1980, 1981, 1982, 1983, 1984, 1985, 1986, 1987, 1988, 1989, 1990, 1991, 1992, 1993, 1994, 1995, 1996, 1997, 1998, 1999, 2000, 2001, 2002, 2003, 2004, 2005, 2006, 2007, 2008, 2009, 2010, 2011, 2012, 2013, 2014, 2015, 2016, 2017, 2018, 2019, 2020, 2021, 2022]}}, {\\\"cols\\\": null, \\\"column_source\\\": {\\\"id\\\": \\\"3597\\\"}, \\\"kind\\\": \\\"ColumnDataChanged\\\", \\\"new\\\": {\\\"text\\\": [\\\"Sound Technology\\\"], \\\"x\\\": [1926], \\\"y\\\": [0]}}, {\\\"cols\\\": null, \\\"column_source\\\": {\\\"id\\\": \\\"3609\\\"}, \\\"kind\\\": \\\"ColumnDataChanged\\\", \\\"new\\\": {\\\"text\\\": [\\\"Color Technology\\\"], \\\"x\\\": [1931], \\\"y\\\": [0]}}, {\\\"cols\\\": null, \\\"column_source\\\": {\\\"id\\\": \\\"3621\\\"}, \\\"kind\\\": \\\"ColumnDataChanged\\\", \\\"new\\\": {\\\"text\\\": [\\\"SFX Technology\\\"], \\\"x\\\": [1950], \\\"y\\\": [0]}}, {\\\"cols\\\": null, \\\"column_source\\\": {\\\"id\\\": \\\"3633\\\"}, \\\"kind\\\": \\\"ColumnDataChanged\\\", \\\"new\\\": {\\\"text\\\": [\\\"Digital Technology\\\"], \\\"x\\\": [1997], \\\"y\\\": [0]}}, {\\\"attr\\\": \\\"text\\\", \\\"hint\\\": null, \\\"kind\\\": \\\"ModelChanged\\\", \\\"model\\\": {\\\"id\\\": \\\"3538\\\"}, \\\"new\\\": \\\"Movie Title  Genres: 'Thriller'\\\"}], \\\"references\\\": []}\",\"header\":\"{\\\"msgid\\\": \\\"3778\\\", \\\"msgtype\\\": \\\"PATCH-DOC\\\"}\",\"metadata\":\"{}\"},\"'War'\":{\"content\":\"{\\\"events\\\": [{\\\"attr\\\": \\\"start\\\", \\\"hint\\\": null, \\\"kind\\\": \\\"ModelChanged\\\", \\\"model\\\": {\\\"id\\\": \\\"3534\\\"}, \\\"new\\\": 1915.0}, {\\\"attr\\\": \\\"reset_start\\\", \\\"hint\\\": null, \\\"kind\\\": \\\"ModelChanged\\\", \\\"model\\\": {\\\"id\\\": \\\"3534\\\"}, \\\"new\\\": 1915.0}, {\\\"attr\\\": \\\"end\\\", \\\"hint\\\": null, \\\"kind\\\": \\\"ModelChanged\\\", \\\"model\\\": {\\\"id\\\": \\\"3534\\\"}, \\\"new\\\": 2022.0}, {\\\"attr\\\": \\\"reset_end\\\", \\\"hint\\\": null, \\\"kind\\\": \\\"ModelChanged\\\", \\\"model\\\": {\\\"id\\\": \\\"3534\\\"}, \\\"new\\\": 2022.0}, {\\\"attr\\\": \\\"start\\\", \\\"hint\\\": null, \\\"kind\\\": \\\"ModelChanged\\\", \\\"model\\\": {\\\"id\\\": \\\"3535\\\"}, \\\"new\\\": -0.6000000000000001}, {\\\"attr\\\": \\\"reset_start\\\", \\\"hint\\\": null, \\\"kind\\\": \\\"ModelChanged\\\", \\\"model\\\": {\\\"id\\\": \\\"3535\\\"}, \\\"new\\\": -0.6000000000000001}, {\\\"attr\\\": \\\"end\\\", \\\"hint\\\": null, \\\"kind\\\": \\\"ModelChanged\\\", \\\"model\\\": {\\\"id\\\": \\\"3535\\\"}, \\\"new\\\": 18.6}, {\\\"attr\\\": \\\"reset_end\\\", \\\"hint\\\": null, \\\"kind\\\": \\\"ModelChanged\\\", \\\"model\\\": {\\\"id\\\": \\\"3535\\\"}, \\\"new\\\": 18.6}, {\\\"cols\\\": null, \\\"column_source\\\": {\\\"id\\\": \\\"3573\\\"}, \\\"kind\\\": \\\"ColumnDataChanged\\\", \\\"new\\\": {\\\"Movie Title\\\": [1, 1, 1, 2, 1, 1, 1, 5, 3, 1, 7, 6, 7, 1, 2, 2, 4, 4, 2, 8, 5, 6, 4, 7, 7, 4, 1, 1, 7, 2, 6, 11, 2, 2, 7, 4, 6, 3, 1, 3, 2, 4, 4, 6, 4, 5, 2, 3, 4, 2, 5, 4, 4, 2, 5, 2, 3, 2, 2, 5, 3, 3, 5, 2, 4, 4, 7, 2, 3, 3, 5, 4, 8, 3, 4, 5, 6, 4, 10, 11, 9, 17, 9, 12, 13, 7, 3], \\\"Movie_Title\\\": [1, 1, 1, 2, 1, 1, 1, 5, 3, 1, 7, 6, 7, 1, 2, 2, 4, 4, 2, 8, 5, 6, 4, 7, 7, 4, 1, 1, 7, 2, 6, 11, 2, 2, 7, 4, 6, 3, 1, 3, 2, 4, 4, 6, 4, 5, 2, 3, 4, 2, 5, 4, 4, 2, 5, 2, 3, 2, 2, 5, 3, 3, 5, 2, 4, 4, 7, 2, 3, 3, 5, 4, 8, 3, 4, 5, 6, 4, 10, 11, 9, 17, 9, 12, 13, 7, 3], \\\"Year\\\": [1915, 1925, 1927, 1930, 1932, 1935, 1936, 1939, 1940, 1941, 1942, 1943, 1944, 1945, 1946, 1948, 1949, 1951, 1952, 1953, 1954, 1955, 1956, 1957, 1958, 1959, 1960, 1961, 1962, 1963, 1964, 1965, 1966, 1967, 1968, 1969, 1970, 1971, 1972, 1975, 1976, 1977, 1978, 1979, 1980, 1981, 1982, 1983, 1984, 1985, 1986, 1987, 1988, 1989, 1990, 1991, 1992, 1993, 1994, 1995, 1996, 1997, 1998, 1999, 2000, 2001, 2002, 2003, 2004, 2005, 2006, 2007, 2008, 2009, 2010, 2011, 2012, 2013, 2014, 2015, 2016, 2017, 2018, 2019, 2020, 2021, 2022]}}, {\\\"cols\\\": null, \\\"column_source\\\": {\\\"id\\\": \\\"3597\\\"}, \\\"kind\\\": \\\"ColumnDataChanged\\\", \\\"new\\\": {\\\"text\\\": [\\\"Sound Technology\\\"], \\\"x\\\": [1926], \\\"y\\\": [0]}}, {\\\"cols\\\": null, \\\"column_source\\\": {\\\"id\\\": \\\"3609\\\"}, \\\"kind\\\": \\\"ColumnDataChanged\\\", \\\"new\\\": {\\\"text\\\": [\\\"Color Technology\\\"], \\\"x\\\": [1931], \\\"y\\\": [0]}}, {\\\"cols\\\": null, \\\"column_source\\\": {\\\"id\\\": \\\"3621\\\"}, \\\"kind\\\": \\\"ColumnDataChanged\\\", \\\"new\\\": {\\\"text\\\": [\\\"SFX Technology\\\"], \\\"x\\\": [1950], \\\"y\\\": [0]}}, {\\\"cols\\\": null, \\\"column_source\\\": {\\\"id\\\": \\\"3633\\\"}, \\\"kind\\\": \\\"ColumnDataChanged\\\", \\\"new\\\": {\\\"text\\\": [\\\"Digital Technology\\\"], \\\"x\\\": [1997], \\\"y\\\": [0]}}, {\\\"attr\\\": \\\"text\\\", \\\"hint\\\": null, \\\"kind\\\": \\\"ModelChanged\\\", \\\"model\\\": {\\\"id\\\": \\\"3538\\\"}, \\\"new\\\": \\\"Movie Title  Genres: 'War'\\\"}], \\\"references\\\": []}\",\"header\":\"{\\\"msgid\\\": \\\"3767\\\", \\\"msgtype\\\": \\\"PATCH-DOC\\\"}\",\"metadata\":\"{}\"},\"'Western'\":{\"content\":\"{\\\"events\\\": [{\\\"attr\\\": \\\"start\\\", \\\"hint\\\": null, \\\"kind\\\": \\\"ModelChanged\\\", \\\"model\\\": {\\\"id\\\": \\\"3534\\\"}, \\\"new\\\": 1923.0}, {\\\"attr\\\": \\\"reset_start\\\", \\\"hint\\\": null, \\\"kind\\\": \\\"ModelChanged\\\", \\\"model\\\": {\\\"id\\\": \\\"3534\\\"}, \\\"new\\\": 1923.0}, {\\\"attr\\\": \\\"end\\\", \\\"hint\\\": null, \\\"kind\\\": \\\"ModelChanged\\\", \\\"model\\\": {\\\"id\\\": \\\"3534\\\"}, \\\"new\\\": 2021.0}, {\\\"attr\\\": \\\"reset_end\\\", \\\"hint\\\": null, \\\"kind\\\": \\\"ModelChanged\\\", \\\"model\\\": {\\\"id\\\": \\\"3534\\\"}, \\\"new\\\": 2021.0}, {\\\"attr\\\": \\\"start\\\", \\\"hint\\\": null, \\\"kind\\\": \\\"ModelChanged\\\", \\\"model\\\": {\\\"id\\\": \\\"3535\\\"}, \\\"new\\\": -0.30000000000000004}, {\\\"attr\\\": \\\"reset_start\\\", \\\"hint\\\": null, \\\"kind\\\": \\\"ModelChanged\\\", \\\"model\\\": {\\\"id\\\": \\\"3535\\\"}, \\\"new\\\": -0.30000000000000004}, {\\\"attr\\\": \\\"end\\\", \\\"hint\\\": null, \\\"kind\\\": \\\"ModelChanged\\\", \\\"model\\\": {\\\"id\\\": \\\"3535\\\"}, \\\"new\\\": 15.3}, {\\\"attr\\\": \\\"reset_end\\\", \\\"hint\\\": null, \\\"kind\\\": \\\"ModelChanged\\\", \\\"model\\\": {\\\"id\\\": \\\"3535\\\"}, \\\"new\\\": 15.3}, {\\\"cols\\\": null, \\\"column_source\\\": {\\\"id\\\": \\\"3573\\\"}, \\\"kind\\\": \\\"ColumnDataChanged\\\", \\\"new\\\": {\\\"Movie Title\\\": [1, 1, 1, 1, 1, 2, 4, 6, 1, 1, 1, 1, 3, 5, 4, 7, 2, 3, 3, 5, 11, 11, 14, 8, 3, 6, 5, 6, 4, 7, 4, 8, 5, 11, 6, 8, 6, 10, 12, 13, 4, 4, 9, 5, 2, 3, 6, 1, 1, 1, 1, 3, 2, 1, 2, 2, 2, 2, 3, 3, 3, 3, 2, 3, 2, 4, 3, 2, 1, 2, 1, 2, 2, 1, 3, 2, 4, 6, 5, 6, 3, 6, 3, 8, 5, 9], \\\"Movie_Title\\\": [1, 1, 1, 1, 1, 2, 4, 6, 1, 1, 1, 1, 3, 5, 4, 7, 2, 3, 3, 5, 11, 11, 14, 8, 3, 6, 5, 6, 4, 7, 4, 8, 5, 11, 6, 8, 6, 10, 12, 13, 4, 4, 9, 5, 2, 3, 6, 1, 1, 1, 1, 3, 2, 1, 2, 2, 2, 2, 3, 3, 3, 3, 2, 3, 2, 4, 3, 2, 1, 2, 1, 2, 2, 1, 3, 2, 4, 6, 5, 6, 3, 6, 3, 8, 5, 9], \\\"Year\\\": [1923, 1926, 1930, 1931, 1934, 1938, 1939, 1940, 1941, 1942, 1943, 1944, 1945, 1946, 1947, 1948, 1949, 1950, 1951, 1952, 1953, 1954, 1955, 1956, 1957, 1958, 1959, 1960, 1961, 1962, 1963, 1964, 1965, 1966, 1967, 1968, 1969, 1970, 1971, 1972, 1973, 1974, 1975, 1976, 1978, 1979, 1980, 1981, 1982, 1983, 1984, 1985, 1986, 1987, 1988, 1989, 1990, 1991, 1992, 1993, 1994, 1995, 1996, 1998, 1999, 2000, 2001, 2003, 2004, 2005, 2006, 2007, 2008, 2009, 2010, 2011, 2012, 2013, 2014, 2015, 2016, 2017, 2018, 2019, 2020, 2021]}}, {\\\"cols\\\": null, \\\"column_source\\\": {\\\"id\\\": \\\"3597\\\"}, \\\"kind\\\": \\\"ColumnDataChanged\\\", \\\"new\\\": {\\\"text\\\": [\\\"Sound Technology\\\"], \\\"x\\\": [1926], \\\"y\\\": [0]}}, {\\\"cols\\\": null, \\\"column_source\\\": {\\\"id\\\": \\\"3609\\\"}, \\\"kind\\\": \\\"ColumnDataChanged\\\", \\\"new\\\": {\\\"text\\\": [\\\"Color Technology\\\"], \\\"x\\\": [1931], \\\"y\\\": [0]}}, {\\\"cols\\\": null, \\\"column_source\\\": {\\\"id\\\": \\\"3621\\\"}, \\\"kind\\\": \\\"ColumnDataChanged\\\", \\\"new\\\": {\\\"text\\\": [\\\"SFX Technology\\\"], \\\"x\\\": [1950], \\\"y\\\": [0]}}, {\\\"cols\\\": null, \\\"column_source\\\": {\\\"id\\\": \\\"3633\\\"}, \\\"kind\\\": \\\"ColumnDataChanged\\\", \\\"new\\\": {\\\"text\\\": [\\\"Digital Technology\\\"], \\\"x\\\": [1997], \\\"y\\\": [0]}}, {\\\"attr\\\": \\\"text\\\", \\\"hint\\\": null, \\\"kind\\\": \\\"ModelChanged\\\", \\\"model\\\": {\\\"id\\\": \\\"3538\\\"}, \\\"new\\\": \\\"Movie Title  Genres: 'Western'\\\"}], \\\"references\\\": []}\",\"header\":\"{\\\"msgid\\\": \\\"3756\\\", \\\"msgtype\\\": \\\"PATCH-DOC\\\"}\",\"metadata\":\"{}\"}},\"values\":[\"'Action'\"],\"widgets\":{\"3688\":0}},\"id\":\"3708\",\"type\":\"panel.models.state.State\"},{\"attributes\":{\"coordinates\":null,\"data_source\":{\"id\":\"3597\"},\"glyph\":{\"id\":\"3600\"},\"group\":null,\"hover_glyph\":null,\"muted_glyph\":{\"id\":\"3602\"},\"nonselection_glyph\":{\"id\":\"3601\"},\"selection_glyph\":{\"id\":\"3605\"},\"view\":{\"id\":\"3604\"}},\"id\":\"3603\",\"type\":\"GlyphRenderer\"},{\"attributes\":{\"angle\":{\"value\":1.5707963267948966},\"text\":{\"field\":\"text\"},\"text_align\":{\"value\":\"left\"},\"text_alpha\":{\"value\":1.0},\"text_baseline\":{\"value\":\"middle\"},\"text_color\":{\"value\":\"black\"},\"text_font_size\":{\"value\":\"12Pt\"},\"text_font_style\":{\"value\":\"normal\"},\"text_line_height\":{\"value\":1.2},\"x\":{\"field\":\"x\"},\"x_offset\":{\"value\":0},\"y\":{\"field\":\"y\"},\"y_offset\":{\"value\":0}},\"id\":\"3617\",\"type\":\"Text\"},{\"attributes\":{\"angle\":{\"value\":1.5707963267948966},\"text_alpha\":{\"value\":0.2},\"text_baseline\":{\"value\":\"middle\"},\"text_color\":{\"value\":\"black\"},\"text_font_size\":{\"value\":\"12Pt\"},\"x\":{\"field\":\"x\"},\"y\":{\"field\":\"y\"}},\"id\":\"3614\",\"type\":\"Text\"},{\"attributes\":{\"code\":\"\\nvar state = null\\nfor (var root of cb_obj.document.roots()) {\\n  if (root.id == '3708') {\\n    state = root;\\n    break;\\n  }\\n}\\nif (!state) { return; }\\nstate.set_state(cb_obj, cb_obj.value)\\n\"},\"id\":\"3709\",\"type\":\"CustomJS\"},{\"attributes\":{\"coordinates\":null,\"data_source\":{\"id\":\"3609\"},\"glyph\":{\"id\":\"3612\"},\"group\":null,\"hover_glyph\":null,\"muted_glyph\":{\"id\":\"3614\"},\"nonselection_glyph\":{\"id\":\"3613\"},\"selection_glyph\":{\"id\":\"3617\"},\"view\":{\"id\":\"3616\"}},\"id\":\"3615\",\"type\":\"GlyphRenderer\"},{\"attributes\":{\"source\":{\"id\":\"3609\"}},\"id\":\"3616\",\"type\":\"CDSView\"},{\"attributes\":{\"coordinates\":null,\"dimension\":\"height\",\"group\":null,\"level\":\"glyph\",\"line_alpha\":0.6,\"line_color\":\"grey\",\"line_dash\":[6],\"line_width\":3,\"location\":1951},\"id\":\"3620\",\"type\":\"Span\"},{\"attributes\":{\"angle\":{\"value\":1.5707963267948966},\"text_alpha\":{\"value\":0.1},\"text_baseline\":{\"value\":\"middle\"},\"text_color\":{\"value\":\"black\"},\"text_font_size\":{\"value\":\"12Pt\"},\"x\":{\"field\":\"x\"},\"y\":{\"field\":\"y\"}},\"id\":\"3637\",\"type\":\"Text\"},{\"attributes\":{\"line_color\":\"goldenrod\",\"line_width\":4,\"x\":{\"field\":\"Year\"},\"y\":{\"field\":\"Movie Title\"}},\"id\":\"3576\",\"type\":\"Line\"},{\"attributes\":{\"data\":{\"text\":[\"Digital Technology\"],\"x\":[1997],\"y\":[0]},\"selected\":{\"id\":\"3634\"},\"selection_policy\":{\"id\":\"3681\"}},\"id\":\"3633\",\"type\":\"ColumnDataSource\"},{\"attributes\":{\"coordinates\":null,\"group\":null,\"items\":[]},\"id\":\"3591\",\"type\":\"Legend\"},{\"attributes\":{\"children\":[{\"id\":\"3686\"},{\"id\":\"3687\"},{\"id\":\"3689\"}],\"margin\":[0,0,0,0],\"name\":\"Column09533\"},\"id\":\"3685\",\"type\":\"Column\"},{\"attributes\":{\"below\":[{\"id\":\"3546\"}],\"center\":[{\"id\":\"3549\"},{\"id\":\"3553\"},{\"id\":\"3591\"}],\"height\":500,\"left\":[{\"id\":\"3550\"}],\"margin\":[5,5,5,5],\"min_border_bottom\":10,\"min_border_left\":10,\"min_border_right\":10,\"min_border_top\":10,\"renderers\":[{\"id\":\"3579\"},{\"id\":\"3596\"},{\"id\":\"3603\"},{\"id\":\"3608\"},{\"id\":\"3615\"},{\"id\":\"3620\"},{\"id\":\"3627\"},{\"id\":\"3632\"},{\"id\":\"3639\"}],\"sizing_mode\":\"fixed\",\"title\":{\"id\":\"3538\"},\"toolbar\":{\"id\":\"3560\"},\"width\":1000,\"x_range\":{\"id\":\"3534\"},\"x_scale\":{\"id\":\"3542\"},\"y_range\":{\"id\":\"3535\"},\"y_scale\":{\"id\":\"3544\"}},\"id\":\"3537\",\"subtype\":\"Figure\",\"type\":\"Plot\"},{\"attributes\":{},\"id\":\"3571\",\"type\":\"BasicTickFormatter\"},{\"attributes\":{\"source\":{\"id\":\"3573\"}},\"id\":\"3580\",\"type\":\"CDSView\"},{\"attributes\":{},\"id\":\"3622\",\"type\":\"Selection\"},{\"attributes\":{},\"id\":\"3598\",\"type\":\"Selection\"},{\"attributes\":{\"data\":{\"text\":[\"Color Technology\"],\"x\":[1931],\"y\":[0]},\"selected\":{\"id\":\"3610\"},\"selection_policy\":{\"id\":\"3677\"}},\"id\":\"3609\",\"type\":\"ColumnDataSource\"},{\"attributes\":{},\"id\":\"3568\",\"type\":\"BasicTickFormatter\"},{\"attributes\":{\"line_alpha\":0.2,\"line_color\":\"goldenrod\",\"line_width\":4,\"x\":{\"field\":\"Year\"},\"y\":{\"field\":\"Movie Title\"}},\"id\":\"3578\",\"type\":\"Line\"},{\"attributes\":{\"axis_label\":\"Year\",\"coordinates\":null,\"formatter\":{\"id\":\"3568\"},\"group\":null,\"major_label_policy\":{\"id\":\"3569\"},\"ticker\":{\"id\":\"3547\"}},\"id\":\"3546\",\"type\":\"LinearAxis\"},{\"attributes\":{\"children\":[{\"id\":\"3688\"}],\"css_classes\":[\"panel-widget-box\"],\"margin\":[5,5,5,5],\"name\":\"WidgetBox09522\"},\"id\":\"3687\",\"type\":\"Column\"},{\"attributes\":{\"end\":274.9,\"reset_end\":274.9,\"reset_start\":-23.900000000000002,\"start\":-23.900000000000002,\"tags\":[[[\"Movie Title\",\"Movie Title\",null]]]},\"id\":\"3535\",\"type\":\"Range1d\"},{\"attributes\":{\"angle\":{\"value\":1.5707963267948966},\"text_baseline\":{\"value\":\"middle\"},\"text_color\":{\"value\":\"black\"},\"text_font_size\":{\"value\":\"12Pt\"},\"x\":{\"field\":\"x\"},\"y\":{\"field\":\"y\"}},\"id\":\"3624\",\"type\":\"Text\"},{\"attributes\":{},\"id\":\"3574\",\"type\":\"Selection\"},{\"attributes\":{\"margin\":[5,5,5,5],\"name\":\"VSpacer09531\",\"sizing_mode\":\"stretch_height\"},\"id\":\"3686\",\"type\":\"Spacer\"},{\"attributes\":{\"angle\":{\"value\":1.5707963267948966},\"text_alpha\":{\"value\":0.2},\"text_baseline\":{\"value\":\"middle\"},\"text_color\":{\"value\":\"black\"},\"text_font_size\":{\"value\":\"12Pt\"},\"x\":{\"field\":\"x\"},\"y\":{\"field\":\"y\"}},\"id\":\"3626\",\"type\":\"Text\"},{\"attributes\":{},\"id\":\"3675\",\"type\":\"UnionRenderers\"},{\"attributes\":{\"coordinates\":null,\"data_source\":{\"id\":\"3573\"},\"glyph\":{\"id\":\"3576\"},\"group\":null,\"hover_glyph\":null,\"muted_glyph\":{\"id\":\"3578\"},\"nonselection_glyph\":{\"id\":\"3577\"},\"selection_glyph\":{\"id\":\"3593\"},\"view\":{\"id\":\"3580\"}},\"id\":\"3579\",\"type\":\"GlyphRenderer\"},{\"attributes\":{\"angle\":{\"value\":1.5707963267948966},\"text_alpha\":{\"value\":0.1},\"text_baseline\":{\"value\":\"middle\"},\"text_color\":{\"value\":\"black\"},\"text_font_size\":{\"value\":\"12Pt\"},\"x\":{\"field\":\"x\"},\"y\":{\"field\":\"y\"}},\"id\":\"3601\",\"type\":\"Text\"},{\"attributes\":{\"angle\":{\"value\":1.5707963267948966},\"text\":{\"field\":\"text\"},\"text_align\":{\"value\":\"left\"},\"text_alpha\":{\"value\":1.0},\"text_baseline\":{\"value\":\"middle\"},\"text_color\":{\"value\":\"black\"},\"text_font_size\":{\"value\":\"12Pt\"},\"text_font_style\":{\"value\":\"normal\"},\"text_line_height\":{\"value\":1.2},\"x\":{\"field\":\"x\"},\"x_offset\":{\"value\":0},\"y\":{\"field\":\"y\"},\"y_offset\":{\"value\":0}},\"id\":\"3629\",\"type\":\"Text\"},{\"attributes\":{\"margin\":[5,5,5,5],\"name\":\"VSpacer09532\",\"sizing_mode\":\"stretch_height\"},\"id\":\"3689\",\"type\":\"Spacer\"},{\"attributes\":{\"children\":[{\"id\":\"3533\"},{\"id\":\"3537\"},{\"id\":\"3684\"},{\"id\":\"3685\"}],\"height\":500,\"margin\":[0,0,0,0],\"name\":\"Row09521\",\"sizing_mode\":\"fixed\",\"tags\":[\"embedded\"],\"width\":1000},\"id\":\"3532\",\"type\":\"Row\"},{\"attributes\":{\"js_property_callbacks\":{\"change:value\":[{\"id\":\"3709\"}]},\"margin\":[20,20,20,20],\"min_width\":250,\"options\":[\"'Action'\",\"'Adventure'\",\"'Animation'\",\"'Biography'\",\"'Comedy'\",\"'Crime'\",\"'Drama'\",\"'Family'\",\"'Fantasy'\",\"'Film-Noir'\",\"'History'\",\"'Horror'\",\"'Music'\",\"'Musical'\",\"'Mystery'\",\"'Reality-TV'\",\"'Romance'\",\"'Sci-Fi'\",\"'Sport'\",\"'Thriller'\",\"'War'\",\"'Western'\"],\"title\":\"Genres\",\"value\":\"'Action'\",\"width\":250},\"id\":\"3688\",\"type\":\"panel.models.widgets.CustomSelect\"},{\"attributes\":{\"coordinates\":null,\"data_source\":{\"id\":\"3621\"},\"glyph\":{\"id\":\"3624\"},\"group\":null,\"hover_glyph\":null,\"muted_glyph\":{\"id\":\"3626\"},\"nonselection_glyph\":{\"id\":\"3625\"},\"selection_glyph\":{\"id\":\"3629\"},\"view\":{\"id\":\"3628\"}},\"id\":\"3627\",\"type\":\"GlyphRenderer\"},{\"attributes\":{},\"id\":\"3558\",\"type\":\"ResetTool\"},{\"attributes\":{\"source\":{\"id\":\"3621\"}},\"id\":\"3628\",\"type\":\"CDSView\"},{\"attributes\":{\"angle\":{\"value\":1.5707963267948966},\"text_alpha\":{\"value\":0.2},\"text_baseline\":{\"value\":\"middle\"},\"text_color\":{\"value\":\"black\"},\"text_font_size\":{\"value\":\"12Pt\"},\"x\":{\"field\":\"x\"},\"y\":{\"field\":\"y\"}},\"id\":\"3602\",\"type\":\"Text\"},{\"attributes\":{\"coordinates\":null,\"dimension\":\"height\",\"group\":null,\"level\":\"glyph\",\"line_alpha\":0.6,\"line_color\":\"grey\",\"line_dash\":[6],\"line_width\":3,\"location\":1998},\"id\":\"3632\",\"type\":\"Span\"}],\"root_ids\":[\"3532\",\"3708\"]},\"title\":\"Bokeh Application\",\"version\":\"2.4.3\"}};\n",
       "    var render_items = [{\"docid\":\"5418b34b-6141-4bdc-9938-e15a6de21d2b\",\"root_ids\":[\"3532\"],\"roots\":{\"3532\":\"b66a8cc5-0670-4876-926d-9ec247ef5efc\"}}];\n",
       "    root.Bokeh.embed.embed_items_notebook(docs_json, render_items);\n",
       "    for (const render_item of render_items) {\n",
       "      for (const root_id of render_item.root_ids) {\n",
       "\tconst id_el = document.getElementById(root_id)\n",
       "\tif (id_el.children.length && (id_el.children[0].className === 'bk-root')) {\n",
       "\t  const root_el = id_el.children[0]\n",
       "\t  root_el.id = root_el.id + '-rendered'\n",
       "\t}\n",
       "      }\n",
       "    }\n",
       "  }\n",
       "  if (root.Bokeh !== undefined && root.Bokeh.Panel !== undefined) {\n",
       "    embed_document(root);\n",
       "  } else {\n",
       "    var attempts = 0;\n",
       "    var timer = setInterval(function(root) {\n",
       "      if (root.Bokeh !== undefined && root.Bokeh.Panel !== undefined) {\n",
       "        clearInterval(timer);\n",
       "        embed_document(root);\n",
       "      } else if (document.readyState == \"complete\") {\n",
       "        attempts++;\n",
       "        if (attempts > 200) {\n",
       "          clearInterval(timer);\n",
       "          console.log(\"Bokeh: ERROR: Unable to run BokehJS code because BokehJS library is missing\");\n",
       "        }\n",
       "      }\n",
       "    }, 25, root)\n",
       "  }\n",
       "})(window);</script>"
      ],
      "text/plain": [
       ":HoloMap   [Genres]\n",
       "   :Overlay\n",
       "      .Curve.Movie_Title :Curve   [Year]   (Movie Title)\n",
       "      .VLine.I           :VLine   [x,y]\n",
       "      .Text.I            :Text   [x,y]\n",
       "      .VLine.II          :VLine   [x,y]\n",
       "      .Text.II           :Text   [x,y]\n",
       "      .VLine.III         :VLine   [x,y]\n",
       "      .Text.III          :Text   [x,y]\n",
       "      .VLine.IV          :VLine   [x,y]\n",
       "      .Text.IV           :Text   [x,y]"
      ]
     },
     "execution_count": 53,
     "metadata": {
      "application/vnd.holoviews_exec.v0+json": {
       "id": "3532"
      }
     },
     "output_type": "execute_result"
    }
   ],
   "source": [
    "genre_trend = df_exploded_genres.groupby(['Genres','Year'])['Movie Title'].count()\n",
    "\n",
    "genre_trend = genre_trend.hvplot('Year', groupby='Genres', dynamic=False, height=500, width=1000, color='goldenrod', line_width=4) * \\\n",
    "                      vline_sound * hv.Text(1926,0,\"Sound Technology\",halign='left',rotation=90) * \\\n",
    "                      vline_color * hv.Text(1931,0,\"Color Technology\",halign='left',rotation=90) * \\\n",
    "                      vline_sfx * hv.Text(1950,0,\"SFX Technology\",halign='left',rotation=90) * \\\n",
    "                      vline_digital * hv.Text(1997,0,\"Digital Technology\",halign='left',rotation=90)\n",
    "genre_trend"
   ]
  },
  {
   "cell_type": "code",
   "execution_count": 55,
   "metadata": {},
   "outputs": [
    {
     "data": {},
     "metadata": {},
     "output_type": "display_data"
    },
    {
     "data": {
      "application/vnd.holoviews_exec.v0+json": "",
      "text/html": [
       "<div id='4042'>\n",
       "  <div class=\"bk-root\" id=\"6a98e324-ea14-4120-99c8-1ac0ddf6c776\" data-root-id=\"4042\"></div>\n",
       "</div>\n",
       "<script type=\"application/javascript\">(function(root) {\n",
       "  function embed_document(root) {\n",
       "    var docs_json = {\"5eb47172-a87c-4e15-b470-77a96e95bb95\":{\"defs\":[{\"extends\":null,\"module\":null,\"name\":\"ReactiveHTML1\",\"overrides\":[],\"properties\":[]},{\"extends\":null,\"module\":null,\"name\":\"FlexBox1\",\"overrides\":[],\"properties\":[{\"default\":\"flex-start\",\"kind\":null,\"name\":\"align_content\"},{\"default\":\"flex-start\",\"kind\":null,\"name\":\"align_items\"},{\"default\":\"row\",\"kind\":null,\"name\":\"flex_direction\"},{\"default\":\"wrap\",\"kind\":null,\"name\":\"flex_wrap\"},{\"default\":\"flex-start\",\"kind\":null,\"name\":\"justify_content\"}]},{\"extends\":null,\"module\":null,\"name\":\"GridStack1\",\"overrides\":[],\"properties\":[{\"default\":\"warn\",\"kind\":null,\"name\":\"mode\"},{\"default\":null,\"kind\":null,\"name\":\"ncols\"},{\"default\":null,\"kind\":null,\"name\":\"nrows\"},{\"default\":true,\"kind\":null,\"name\":\"allow_resize\"},{\"default\":true,\"kind\":null,\"name\":\"allow_drag\"},{\"default\":[],\"kind\":null,\"name\":\"state\"}]},{\"extends\":null,\"module\":null,\"name\":\"click1\",\"overrides\":[],\"properties\":[{\"default\":\"\",\"kind\":null,\"name\":\"terminal_output\"},{\"default\":\"\",\"kind\":null,\"name\":\"debug_name\"},{\"default\":0,\"kind\":null,\"name\":\"clears\"}]},{\"extends\":null,\"module\":null,\"name\":\"NotificationAreaBase1\",\"overrides\":[],\"properties\":[{\"default\":\"bottom-right\",\"kind\":null,\"name\":\"position\"},{\"default\":0,\"kind\":null,\"name\":\"_clear\"}]},{\"extends\":null,\"module\":null,\"name\":\"NotificationArea1\",\"overrides\":[],\"properties\":[{\"default\":[],\"kind\":null,\"name\":\"notifications\"},{\"default\":\"bottom-right\",\"kind\":null,\"name\":\"position\"},{\"default\":0,\"kind\":null,\"name\":\"_clear\"},{\"default\":[{\"background\":\"#ffc107\",\"icon\":{\"className\":\"fas fa-exclamation-triangle\",\"color\":\"white\",\"tagName\":\"i\"},\"type\":\"warning\"},{\"background\":\"#007bff\",\"icon\":{\"className\":\"fas fa-info-circle\",\"color\":\"white\",\"tagName\":\"i\"},\"type\":\"info\"}],\"kind\":null,\"name\":\"types\"}]},{\"extends\":null,\"module\":null,\"name\":\"Notification\",\"overrides\":[],\"properties\":[{\"default\":null,\"kind\":null,\"name\":\"background\"},{\"default\":3000,\"kind\":null,\"name\":\"duration\"},{\"default\":null,\"kind\":null,\"name\":\"icon\"},{\"default\":\"\",\"kind\":null,\"name\":\"message\"},{\"default\":null,\"kind\":null,\"name\":\"notification_type\"},{\"default\":false,\"kind\":null,\"name\":\"_destroyed\"}]},{\"extends\":null,\"module\":null,\"name\":\"TemplateActions1\",\"overrides\":[],\"properties\":[{\"default\":0,\"kind\":null,\"name\":\"open_modal\"},{\"default\":0,\"kind\":null,\"name\":\"close_modal\"}]},{\"extends\":null,\"module\":null,\"name\":\"MaterialTemplateActions1\",\"overrides\":[],\"properties\":[{\"default\":0,\"kind\":null,\"name\":\"open_modal\"},{\"default\":0,\"kind\":null,\"name\":\"close_modal\"}]}],\"roots\":{\"references\":[{\"attributes\":{\"line_color\":\"goldenrod\",\"line_width\":4,\"x\":{\"field\":\"Year\"},\"y\":{\"field\":\"Movie Title\"}},\"id\":\"4102\",\"type\":\"Line\"},{\"attributes\":{\"line_color\":\"goldenrod\",\"line_width\":4,\"x\":{\"field\":\"Year\"},\"y\":{\"field\":\"Movie Title\"}},\"id\":\"4085\",\"type\":\"Line\"},{\"attributes\":{},\"id\":\"4168\",\"type\":\"UnionRenderers\"},{\"attributes\":{\"data\":{\"text\":[\"Color Technology\"],\"x\":[1931],\"y\":[0]},\"selected\":{\"id\":\"4119\"},\"selection_policy\":{\"id\":\"4166\"}},\"id\":\"4118\",\"type\":\"ColumnDataSource\"},{\"attributes\":{},\"id\":\"4166\",\"type\":\"UnionRenderers\"},{\"attributes\":{},\"id\":\"4143\",\"type\":\"Selection\"},{\"attributes\":{\"angle\":{\"value\":1.5707963267948966},\"text_alpha\":{\"value\":0.2},\"text_baseline\":{\"value\":\"middle\"},\"text_color\":{\"value\":\"black\"},\"text_font_size\":{\"value\":\"12Pt\"},\"x\":{\"field\":\"x\"},\"y\":{\"field\":\"y\"}},\"id\":\"4147\",\"type\":\"Text\"},{\"attributes\":{\"axis_label\":\"Number Of Films\",\"coordinates\":null,\"formatter\":{\"id\":\"4080\"},\"group\":null,\"major_label_policy\":{\"id\":\"4081\"},\"ticker\":{\"id\":\"4060\"}},\"id\":\"4059\",\"type\":\"LinearAxis\"},{\"attributes\":{\"callback\":null,\"renderers\":[{\"id\":\"4088\"}],\"tags\":[\"hv_created\"],\"tooltips\":[[\"Year\",\"@{Year}\"],[\"Movie Title\",\"@{Movie_Title}\"]]},\"id\":\"4045\",\"type\":\"HoverTool\"},{\"attributes\":{\"angle\":{\"value\":1.5707963267948966},\"text\":{\"field\":\"text\"},\"text_align\":{\"value\":\"left\"},\"text_alpha\":{\"value\":1.0},\"text_baseline\":{\"value\":\"middle\"},\"text_color\":{\"value\":\"black\"},\"text_font_size\":{\"value\":\"12Pt\"},\"text_font_style\":{\"value\":\"normal\"},\"text_line_height\":{\"value\":1.2},\"x\":{\"field\":\"x\"},\"x_offset\":{\"value\":0},\"y\":{\"field\":\"y\"},\"y_offset\":{\"value\":0}},\"id\":\"4138\",\"type\":\"Text\"},{\"attributes\":{},\"id\":\"4060\",\"type\":\"BasicTicker\"},{\"attributes\":{\"coordinates\":null,\"dimension\":\"height\",\"group\":null,\"level\":\"glyph\",\"line_alpha\":0.6,\"line_color\":\"grey\",\"line_dash\":[6],\"line_width\":3,\"location\":1927},\"id\":\"4105\",\"type\":\"Span\"},{\"attributes\":{\"line_alpha\":0.1,\"line_color\":\"goldenrod\",\"line_width\":4,\"x\":{\"field\":\"Year\"},\"y\":{\"field\":\"Movie Title\"}},\"id\":\"4086\",\"type\":\"Line\"},{\"attributes\":{},\"id\":\"4107\",\"type\":\"Selection\"},{\"attributes\":{\"angle\":{\"value\":1.5707963267948966},\"text_alpha\":{\"value\":0.1},\"text_baseline\":{\"value\":\"middle\"},\"text_color\":{\"value\":\"black\"},\"text_font_size\":{\"value\":\"12Pt\"},\"x\":{\"field\":\"x\"},\"y\":{\"field\":\"y\"}},\"id\":\"4110\",\"type\":\"Text\"},{\"attributes\":{\"coordinates\":null,\"group\":null,\"items\":[]},\"id\":\"4100\",\"type\":\"Legend\"},{\"attributes\":{\"angle\":{\"value\":1.5707963267948966},\"text\":{\"field\":\"text\"},\"text_align\":{\"value\":\"left\"},\"text_alpha\":{\"value\":1.0},\"text_baseline\":{\"value\":\"middle\"},\"text_color\":{\"value\":\"black\"},\"text_font_size\":{\"value\":\"12Pt\"},\"text_font_style\":{\"value\":\"normal\"},\"text_line_height\":{\"value\":1.2},\"x\":{\"field\":\"x\"},\"x_offset\":{\"value\":0},\"y\":{\"field\":\"y\"},\"y_offset\":{\"value\":0}},\"id\":\"4114\",\"type\":\"Text\"},{\"attributes\":{\"coordinates\":null,\"data_source\":{\"id\":\"4130\"},\"glyph\":{\"id\":\"4133\"},\"group\":null,\"hover_glyph\":null,\"muted_glyph\":{\"id\":\"4135\"},\"nonselection_glyph\":{\"id\":\"4134\"},\"selection_glyph\":{\"id\":\"4138\"},\"view\":{\"id\":\"4137\"}},\"id\":\"4136\",\"type\":\"GlyphRenderer\"},{\"attributes\":{\"line_alpha\":0.2,\"line_color\":\"goldenrod\",\"line_width\":4,\"x\":{\"field\":\"Year\"},\"y\":{\"field\":\"Movie Title\"}},\"id\":\"4087\",\"type\":\"Line\"},{\"attributes\":{\"angle\":{\"value\":1.5707963267948966},\"text_alpha\":{\"value\":0.2},\"text_baseline\":{\"value\":\"middle\"},\"text_color\":{\"value\":\"black\"},\"text_font_size\":{\"value\":\"12Pt\"},\"x\":{\"field\":\"x\"},\"y\":{\"field\":\"y\"}},\"id\":\"4111\",\"type\":\"Text\"},{\"attributes\":{},\"id\":\"4164\",\"type\":\"UnionRenderers\"},{\"attributes\":{},\"id\":\"4077\",\"type\":\"BasicTickFormatter\"},{\"attributes\":{},\"id\":\"4064\",\"type\":\"PanTool\"},{\"attributes\":{},\"id\":\"4065\",\"type\":\"WheelZoomTool\"},{\"attributes\":{\"source\":{\"id\":\"4142\"}},\"id\":\"4149\",\"type\":\"CDSView\"},{\"attributes\":{\"coordinates\":null,\"data_source\":{\"id\":\"4106\"},\"glyph\":{\"id\":\"4109\"},\"group\":null,\"hover_glyph\":null,\"muted_glyph\":{\"id\":\"4111\"},\"nonselection_glyph\":{\"id\":\"4110\"},\"selection_glyph\":{\"id\":\"4114\"},\"view\":{\"id\":\"4113\"}},\"id\":\"4112\",\"type\":\"GlyphRenderer\"},{\"attributes\":{\"axis\":{\"id\":\"4059\"},\"coordinates\":null,\"dimension\":1,\"grid_line_color\":null,\"group\":null,\"ticker\":null},\"id\":\"4062\",\"type\":\"Grid\"},{\"attributes\":{},\"id\":\"4131\",\"type\":\"Selection\"},{\"attributes\":{\"source\":{\"id\":\"4106\"}},\"id\":\"4113\",\"type\":\"CDSView\"},{\"attributes\":{},\"id\":\"4056\",\"type\":\"BasicTicker\"},{\"attributes\":{},\"id\":\"4078\",\"type\":\"AllLabels\"},{\"attributes\":{\"axis\":{\"id\":\"4055\"},\"coordinates\":null,\"grid_line_color\":null,\"group\":null,\"ticker\":null},\"id\":\"4058\",\"type\":\"Grid\"},{\"attributes\":{\"coordinates\":null,\"group\":null,\"text\":\"Number of Drama Films Produced in Relation to Film Technology\",\"text_color\":\"black\",\"text_font_size\":\"12pt\"},\"id\":\"4047\",\"type\":\"Title\"},{\"attributes\":{\"angle\":{\"value\":1.5707963267948966},\"text_baseline\":{\"value\":\"middle\"},\"text_color\":{\"value\":\"black\"},\"text_font_size\":{\"value\":\"12Pt\"},\"x\":{\"field\":\"x\"},\"y\":{\"field\":\"y\"}},\"id\":\"4145\",\"type\":\"Text\"},{\"attributes\":{\"coordinates\":null,\"dimension\":\"height\",\"group\":null,\"level\":\"glyph\",\"line_alpha\":0.6,\"line_color\":\"grey\",\"line_dash\":[6],\"line_width\":3,\"location\":1932},\"id\":\"4117\",\"type\":\"Span\"},{\"attributes\":{},\"id\":\"4097\",\"type\":\"UnionRenderers\"},{\"attributes\":{},\"id\":\"4119\",\"type\":\"Selection\"},{\"attributes\":{\"angle\":{\"value\":1.5707963267948966},\"text\":{\"field\":\"text\"},\"text_align\":{\"value\":\"left\"},\"text_alpha\":{\"value\":1.0},\"text_baseline\":{\"value\":\"middle\"},\"text_color\":{\"value\":\"black\"},\"text_font_size\":{\"value\":\"12Pt\"},\"text_font_style\":{\"value\":\"normal\"},\"text_line_height\":{\"value\":1.2},\"x\":{\"field\":\"x\"},\"x_offset\":{\"value\":0},\"y\":{\"field\":\"y\"},\"y_offset\":{\"value\":0}},\"id\":\"4150\",\"type\":\"Text\"},{\"attributes\":{\"data\":{\"text\":[\"SFX Technology\"],\"x\":[1950],\"y\":[0]},\"selected\":{\"id\":\"4131\"},\"selection_policy\":{\"id\":\"4168\"}},\"id\":\"4130\",\"type\":\"ColumnDataSource\"},{\"attributes\":{\"data\":{\"text\":[\"Sound Technology\"],\"x\":[1926],\"y\":[0]},\"selected\":{\"id\":\"4107\"},\"selection_policy\":{\"id\":\"4164\"}},\"id\":\"4106\",\"type\":\"ColumnDataSource\"},{\"attributes\":{\"bottom_units\":\"screen\",\"coordinates\":null,\"fill_alpha\":0.5,\"fill_color\":\"lightgrey\",\"group\":null,\"left_units\":\"screen\",\"level\":\"overlay\",\"line_alpha\":1.0,\"line_color\":\"black\",\"line_dash\":[4,4],\"line_width\":2,\"right_units\":\"screen\",\"syncable\":false,\"top_units\":\"screen\"},\"id\":\"4068\",\"type\":\"BoxAnnotation\"},{\"attributes\":{\"angle\":{\"value\":1.5707963267948966},\"text_alpha\":{\"value\":0.2},\"text_baseline\":{\"value\":\"middle\"},\"text_color\":{\"value\":\"black\"},\"text_font_size\":{\"value\":\"12Pt\"},\"x\":{\"field\":\"x\"},\"y\":{\"field\":\"y\"}},\"id\":\"4135\",\"type\":\"Text\"},{\"attributes\":{\"below\":[{\"id\":\"4055\"}],\"center\":[{\"id\":\"4058\"},{\"id\":\"4062\"},{\"id\":\"4100\"}],\"height\":500,\"left\":[{\"id\":\"4059\"}],\"margin\":[5,5,5,5],\"min_border_bottom\":10,\"min_border_left\":10,\"min_border_right\":10,\"min_border_top\":10,\"renderers\":[{\"id\":\"4088\"},{\"id\":\"4105\"},{\"id\":\"4112\"},{\"id\":\"4117\"},{\"id\":\"4124\"},{\"id\":\"4129\"},{\"id\":\"4136\"},{\"id\":\"4141\"},{\"id\":\"4148\"}],\"sizing_mode\":\"fixed\",\"title\":{\"id\":\"4047\"},\"toolbar\":{\"id\":\"4069\"},\"width\":1000,\"x_range\":{\"id\":\"4043\"},\"x_scale\":{\"id\":\"4051\"},\"y_range\":{\"id\":\"4044\"},\"y_scale\":{\"id\":\"4053\"}},\"id\":\"4046\",\"subtype\":\"Figure\",\"type\":\"Plot\"},{\"attributes\":{\"angle\":{\"value\":1.5707963267948966},\"text_alpha\":{\"value\":0.1},\"text_baseline\":{\"value\":\"middle\"},\"text_color\":{\"value\":\"black\"},\"text_font_size\":{\"value\":\"12Pt\"},\"x\":{\"field\":\"x\"},\"y\":{\"field\":\"y\"}},\"id\":\"4134\",\"type\":\"Text\"},{\"attributes\":{\"angle\":{\"value\":1.5707963267948966},\"text_baseline\":{\"value\":\"middle\"},\"text_color\":{\"value\":\"black\"},\"text_font_size\":{\"value\":\"12Pt\"},\"x\":{\"field\":\"x\"},\"y\":{\"field\":\"y\"}},\"id\":\"4121\",\"type\":\"Text\"},{\"attributes\":{\"angle\":{\"value\":1.5707963267948966},\"text_alpha\":{\"value\":0.1},\"text_baseline\":{\"value\":\"middle\"},\"text_color\":{\"value\":\"black\"},\"text_font_size\":{\"value\":\"12Pt\"},\"x\":{\"field\":\"x\"},\"y\":{\"field\":\"y\"}},\"id\":\"4122\",\"type\":\"Text\"},{\"attributes\":{\"angle\":{\"value\":1.5707963267948966},\"text\":{\"field\":\"text\"},\"text_align\":{\"value\":\"left\"},\"text_alpha\":{\"value\":1.0},\"text_baseline\":{\"value\":\"middle\"},\"text_color\":{\"value\":\"black\"},\"text_font_size\":{\"value\":\"12Pt\"},\"text_font_style\":{\"value\":\"normal\"},\"text_line_height\":{\"value\":1.2},\"x\":{\"field\":\"x\"},\"x_offset\":{\"value\":0},\"y\":{\"field\":\"y\"},\"y_offset\":{\"value\":0}},\"id\":\"4126\",\"type\":\"Text\"},{\"attributes\":{\"angle\":{\"value\":1.5707963267948966},\"text_alpha\":{\"value\":0.2},\"text_baseline\":{\"value\":\"middle\"},\"text_color\":{\"value\":\"black\"},\"text_font_size\":{\"value\":\"12Pt\"},\"x\":{\"field\":\"x\"},\"y\":{\"field\":\"y\"}},\"id\":\"4123\",\"type\":\"Text\"},{\"attributes\":{\"coordinates\":null,\"data_source\":{\"id\":\"4142\"},\"glyph\":{\"id\":\"4145\"},\"group\":null,\"hover_glyph\":null,\"muted_glyph\":{\"id\":\"4147\"},\"nonselection_glyph\":{\"id\":\"4146\"},\"selection_glyph\":{\"id\":\"4150\"},\"view\":{\"id\":\"4149\"}},\"id\":\"4148\",\"type\":\"GlyphRenderer\"},{\"attributes\":{\"overlay\":{\"id\":\"4068\"}},\"id\":\"4066\",\"type\":\"BoxZoomTool\"},{\"attributes\":{\"coordinates\":null,\"data_source\":{\"id\":\"4118\"},\"glyph\":{\"id\":\"4121\"},\"group\":null,\"hover_glyph\":null,\"muted_glyph\":{\"id\":\"4123\"},\"nonselection_glyph\":{\"id\":\"4122\"},\"selection_glyph\":{\"id\":\"4126\"},\"view\":{\"id\":\"4125\"}},\"id\":\"4124\",\"type\":\"GlyphRenderer\"},{\"attributes\":{\"source\":{\"id\":\"4118\"}},\"id\":\"4125\",\"type\":\"CDSView\"},{\"attributes\":{},\"id\":\"4063\",\"type\":\"SaveTool\"},{\"attributes\":{},\"id\":\"4067\",\"type\":\"ResetTool\"},{\"attributes\":{},\"id\":\"4081\",\"type\":\"AllLabels\"},{\"attributes\":{\"data\":{\"text\":[\"Digital Technology\"],\"x\":[1997],\"y\":[0]},\"selected\":{\"id\":\"4143\"},\"selection_policy\":{\"id\":\"4170\"}},\"id\":\"4142\",\"type\":\"ColumnDataSource\"},{\"attributes\":{\"children\":[{\"id\":\"4046\"}],\"height\":500,\"margin\":[0,0,0,0],\"name\":\"Row11562\",\"sizing_mode\":\"fixed\",\"tags\":[\"embedded\"],\"width\":1000},\"id\":\"4042\",\"type\":\"Row\"},{\"attributes\":{},\"id\":\"4080\",\"type\":\"BasicTickFormatter\"},{\"attributes\":{\"source\":{\"id\":\"4130\"}},\"id\":\"4137\",\"type\":\"CDSView\"},{\"attributes\":{\"angle\":{\"value\":1.5707963267948966},\"text_baseline\":{\"value\":\"middle\"},\"text_color\":{\"value\":\"black\"},\"text_font_size\":{\"value\":\"12Pt\"},\"x\":{\"field\":\"x\"},\"y\":{\"field\":\"y\"}},\"id\":\"4133\",\"type\":\"Text\"},{\"attributes\":{\"source\":{\"id\":\"4082\"}},\"id\":\"4089\",\"type\":\"CDSView\"},{\"attributes\":{\"coordinates\":null,\"dimension\":\"height\",\"group\":null,\"level\":\"glyph\",\"line_alpha\":0.6,\"line_color\":\"grey\",\"line_dash\":[6],\"line_width\":3,\"location\":1951},\"id\":\"4129\",\"type\":\"Span\"},{\"attributes\":{},\"id\":\"4053\",\"type\":\"LinearScale\"},{\"attributes\":{},\"id\":\"4170\",\"type\":\"UnionRenderers\"},{\"attributes\":{\"end\":447.6,\"reset_end\":447.6,\"reset_start\":-39.6,\"start\":-39.6,\"tags\":[[[\"Movie Title\",\"Movie Title\",null]]]},\"id\":\"4044\",\"type\":\"Range1d\"},{\"attributes\":{\"axis_label\":\"Year\",\"coordinates\":null,\"formatter\":{\"id\":\"4077\"},\"group\":null,\"major_label_policy\":{\"id\":\"4078\"},\"ticker\":{\"id\":\"4056\"}},\"id\":\"4055\",\"type\":\"LinearAxis\"},{\"attributes\":{},\"id\":\"4083\",\"type\":\"Selection\"},{\"attributes\":{\"active_drag\":{\"id\":\"4064\"},\"active_scroll\":{\"id\":\"4065\"},\"tools\":[{\"id\":\"4045\"},{\"id\":\"4063\"},{\"id\":\"4064\"},{\"id\":\"4065\"},{\"id\":\"4066\"},{\"id\":\"4067\"}]},\"id\":\"4069\",\"type\":\"Toolbar\"},{\"attributes\":{\"angle\":{\"value\":1.5707963267948966},\"text_alpha\":{\"value\":0.1},\"text_baseline\":{\"value\":\"middle\"},\"text_color\":{\"value\":\"black\"},\"text_font_size\":{\"value\":\"12Pt\"},\"x\":{\"field\":\"x\"},\"y\":{\"field\":\"y\"}},\"id\":\"4146\",\"type\":\"Text\"},{\"attributes\":{\"data\":{\"Movie Title\":[2,1,1,1,2,3,1,6,2,3,7,10,11,9,6,9,13,12,9,18,12,18,20,11,24,23,21,29,19,24,25,24,28,38,36,39,41,38,25,34,32,33,39,22,32,31,26,30,34,33,49,57,50,51,54,43,39,39,58,48,48,57,63,59,72,70,72,89,93,97,85,99,102,118,105,126,135,124,118,124,132,141,166,148,160,169,203,201,215,207,202,227,229,250,282,282,317,342,352,407,269,286,134],\"Movie_Title\":[2,1,1,1,2,3,1,6,2,3,7,10,11,9,6,9,13,12,9,18,12,18,20,11,24,23,21,29,19,24,25,24,28,38,36,39,41,38,25,34,32,33,39,22,32,31,26,30,34,33,49,57,50,51,54,43,39,39,58,48,48,57,63,59,72,70,72,89,93,97,85,99,102,118,105,126,135,124,118,124,132,141,166,148,160,169,203,201,215,207,202,227,229,250,282,282,317,342,352,407,269,286,134],\"Year\":[1914,1915,1920,1921,1924,1925,1926,1927,1928,1929,1930,1931,1932,1933,1934,1935,1936,1937,1938,1939,1940,1941,1942,1943,1944,1945,1946,1947,1948,1949,1950,1951,1952,1953,1954,1955,1956,1957,1958,1959,1960,1961,1962,1963,1964,1965,1966,1967,1968,1969,1970,1971,1972,1973,1974,1975,1976,1977,1978,1979,1980,1981,1982,1983,1984,1985,1986,1987,1988,1989,1990,1991,1992,1993,1994,1995,1996,1997,1998,1999,2000,2001,2002,2003,2004,2005,2006,2007,2008,2009,2010,2011,2012,2013,2014,2015,2016,2017,2018,2019,2020,2021,2022]},\"selected\":{\"id\":\"4083\"},\"selection_policy\":{\"id\":\"4097\"}},\"id\":\"4082\",\"type\":\"ColumnDataSource\"},{\"attributes\":{},\"id\":\"4051\",\"type\":\"LinearScale\"},{\"attributes\":{\"coordinates\":null,\"dimension\":\"height\",\"group\":null,\"level\":\"glyph\",\"line_alpha\":0.6,\"line_color\":\"grey\",\"line_dash\":[6],\"line_width\":3,\"location\":1998},\"id\":\"4141\",\"type\":\"Span\"},{\"attributes\":{\"end\":2022.0,\"reset_end\":2022.0,\"reset_start\":1914.0,\"start\":1914.0,\"tags\":[[[\"Year\",\"Year\",null]]]},\"id\":\"4043\",\"type\":\"Range1d\"},{\"attributes\":{\"coordinates\":null,\"data_source\":{\"id\":\"4082\"},\"glyph\":{\"id\":\"4085\"},\"group\":null,\"hover_glyph\":null,\"muted_glyph\":{\"id\":\"4087\"},\"nonselection_glyph\":{\"id\":\"4086\"},\"selection_glyph\":{\"id\":\"4102\"},\"view\":{\"id\":\"4089\"}},\"id\":\"4088\",\"type\":\"GlyphRenderer\"},{\"attributes\":{\"angle\":{\"value\":1.5707963267948966},\"text_baseline\":{\"value\":\"middle\"},\"text_color\":{\"value\":\"black\"},\"text_font_size\":{\"value\":\"12Pt\"},\"x\":{\"field\":\"x\"},\"y\":{\"field\":\"y\"}},\"id\":\"4109\",\"type\":\"Text\"}],\"root_ids\":[\"4042\"]},\"title\":\"Bokeh Application\",\"version\":\"2.4.3\"}};\n",
       "    var render_items = [{\"docid\":\"5eb47172-a87c-4e15-b470-77a96e95bb95\",\"root_ids\":[\"4042\"],\"roots\":{\"4042\":\"6a98e324-ea14-4120-99c8-1ac0ddf6c776\"}}];\n",
       "    root.Bokeh.embed.embed_items_notebook(docs_json, render_items);\n",
       "    for (const render_item of render_items) {\n",
       "      for (const root_id of render_item.root_ids) {\n",
       "\tconst id_el = document.getElementById(root_id)\n",
       "\tif (id_el.children.length && (id_el.children[0].className === 'bk-root')) {\n",
       "\t  const root_el = id_el.children[0]\n",
       "\t  root_el.id = root_el.id + '-rendered'\n",
       "\t}\n",
       "      }\n",
       "    }\n",
       "  }\n",
       "  if (root.Bokeh !== undefined && root.Bokeh.Panel !== undefined) {\n",
       "    embed_document(root);\n",
       "  } else {\n",
       "    var attempts = 0;\n",
       "    var timer = setInterval(function(root) {\n",
       "      if (root.Bokeh !== undefined && root.Bokeh.Panel !== undefined) {\n",
       "        clearInterval(timer);\n",
       "        embed_document(root);\n",
       "      } else if (document.readyState == \"complete\") {\n",
       "        attempts++;\n",
       "        if (attempts > 200) {\n",
       "          clearInterval(timer);\n",
       "          console.log(\"Bokeh: ERROR: Unable to run BokehJS code because BokehJS library is missing\");\n",
       "        }\n",
       "      }\n",
       "    }, 25, root)\n",
       "  }\n",
       "})(window);</script>"
      ],
      "text/plain": [
       ":Overlay\n",
       "   .Curve.Movie_Title :Curve   [Year]   (Movie Title)\n",
       "   .VLine.I           :VLine   [x,y]\n",
       "   .Text.I            :Text   [x,y]\n",
       "   .VLine.II          :VLine   [x,y]\n",
       "   .Text.II           :Text   [x,y]\n",
       "   .VLine.III         :VLine   [x,y]\n",
       "   .Text.III          :Text   [x,y]\n",
       "   .VLine.IV          :VLine   [x,y]\n",
       "   .Text.IV           :Text   [x,y]"
      ]
     },
     "execution_count": 55,
     "metadata": {
      "application/vnd.holoviews_exec.v0+json": {
       "id": "4042"
      }
     },
     "output_type": "execute_result"
    }
   ],
   "source": [
    "genre_trend[\"'Drama'\"].opts(title='Number of Drama Films Produced in Relation to Film Technology',ylabel='Number Of Films')"
   ]
  },
  {
   "cell_type": "code",
   "execution_count": 56,
   "metadata": {},
   "outputs": [
    {
     "data": {},
     "metadata": {},
     "output_type": "display_data"
    },
    {
     "data": {
      "application/vnd.holoviews_exec.v0+json": "",
      "text/html": [
       "<div id='4264'>\n",
       "  <div class=\"bk-root\" id=\"209df01b-1e8a-4c31-adf6-0e629bbfe299\" data-root-id=\"4264\"></div>\n",
       "</div>\n",
       "<script type=\"application/javascript\">(function(root) {\n",
       "  function embed_document(root) {\n",
       "    var docs_json = {\"fa3e7d6f-c4b6-4d45-808c-0bc436142335\":{\"defs\":[{\"extends\":null,\"module\":null,\"name\":\"ReactiveHTML1\",\"overrides\":[],\"properties\":[]},{\"extends\":null,\"module\":null,\"name\":\"FlexBox1\",\"overrides\":[],\"properties\":[{\"default\":\"flex-start\",\"kind\":null,\"name\":\"align_content\"},{\"default\":\"flex-start\",\"kind\":null,\"name\":\"align_items\"},{\"default\":\"row\",\"kind\":null,\"name\":\"flex_direction\"},{\"default\":\"wrap\",\"kind\":null,\"name\":\"flex_wrap\"},{\"default\":\"flex-start\",\"kind\":null,\"name\":\"justify_content\"}]},{\"extends\":null,\"module\":null,\"name\":\"GridStack1\",\"overrides\":[],\"properties\":[{\"default\":\"warn\",\"kind\":null,\"name\":\"mode\"},{\"default\":null,\"kind\":null,\"name\":\"ncols\"},{\"default\":null,\"kind\":null,\"name\":\"nrows\"},{\"default\":true,\"kind\":null,\"name\":\"allow_resize\"},{\"default\":true,\"kind\":null,\"name\":\"allow_drag\"},{\"default\":[],\"kind\":null,\"name\":\"state\"}]},{\"extends\":null,\"module\":null,\"name\":\"click1\",\"overrides\":[],\"properties\":[{\"default\":\"\",\"kind\":null,\"name\":\"terminal_output\"},{\"default\":\"\",\"kind\":null,\"name\":\"debug_name\"},{\"default\":0,\"kind\":null,\"name\":\"clears\"}]},{\"extends\":null,\"module\":null,\"name\":\"NotificationAreaBase1\",\"overrides\":[],\"properties\":[{\"default\":\"bottom-right\",\"kind\":null,\"name\":\"position\"},{\"default\":0,\"kind\":null,\"name\":\"_clear\"}]},{\"extends\":null,\"module\":null,\"name\":\"NotificationArea1\",\"overrides\":[],\"properties\":[{\"default\":[],\"kind\":null,\"name\":\"notifications\"},{\"default\":\"bottom-right\",\"kind\":null,\"name\":\"position\"},{\"default\":0,\"kind\":null,\"name\":\"_clear\"},{\"default\":[{\"background\":\"#ffc107\",\"icon\":{\"className\":\"fas fa-exclamation-triangle\",\"color\":\"white\",\"tagName\":\"i\"},\"type\":\"warning\"},{\"background\":\"#007bff\",\"icon\":{\"className\":\"fas fa-info-circle\",\"color\":\"white\",\"tagName\":\"i\"},\"type\":\"info\"}],\"kind\":null,\"name\":\"types\"}]},{\"extends\":null,\"module\":null,\"name\":\"Notification\",\"overrides\":[],\"properties\":[{\"default\":null,\"kind\":null,\"name\":\"background\"},{\"default\":3000,\"kind\":null,\"name\":\"duration\"},{\"default\":null,\"kind\":null,\"name\":\"icon\"},{\"default\":\"\",\"kind\":null,\"name\":\"message\"},{\"default\":null,\"kind\":null,\"name\":\"notification_type\"},{\"default\":false,\"kind\":null,\"name\":\"_destroyed\"}]},{\"extends\":null,\"module\":null,\"name\":\"TemplateActions1\",\"overrides\":[],\"properties\":[{\"default\":0,\"kind\":null,\"name\":\"open_modal\"},{\"default\":0,\"kind\":null,\"name\":\"close_modal\"}]},{\"extends\":null,\"module\":null,\"name\":\"MaterialTemplateActions1\",\"overrides\":[],\"properties\":[{\"default\":0,\"kind\":null,\"name\":\"open_modal\"},{\"default\":0,\"kind\":null,\"name\":\"close_modal\"}]}],\"roots\":{\"references\":[{\"attributes\":{\"below\":[{\"id\":\"4277\"}],\"center\":[{\"id\":\"4280\"},{\"id\":\"4284\"},{\"id\":\"4322\"}],\"height\":500,\"left\":[{\"id\":\"4281\"}],\"margin\":[5,5,5,5],\"min_border_bottom\":10,\"min_border_left\":10,\"min_border_right\":10,\"min_border_top\":10,\"renderers\":[{\"id\":\"4310\"},{\"id\":\"4327\"},{\"id\":\"4334\"},{\"id\":\"4339\"},{\"id\":\"4346\"},{\"id\":\"4351\"},{\"id\":\"4358\"},{\"id\":\"4363\"},{\"id\":\"4370\"}],\"sizing_mode\":\"fixed\",\"title\":{\"id\":\"4269\"},\"toolbar\":{\"id\":\"4291\"},\"width\":1000,\"x_range\":{\"id\":\"4265\"},\"x_scale\":{\"id\":\"4273\"},\"y_range\":{\"id\":\"4266\"},\"y_scale\":{\"id\":\"4275\"}},\"id\":\"4268\",\"subtype\":\"Figure\",\"type\":\"Plot\"},{\"attributes\":{\"axis\":{\"id\":\"4277\"},\"coordinates\":null,\"grid_line_color\":null,\"group\":null,\"ticker\":null},\"id\":\"4280\",\"type\":\"Grid\"},{\"attributes\":{\"bottom_units\":\"screen\",\"coordinates\":null,\"fill_alpha\":0.5,\"fill_color\":\"lightgrey\",\"group\":null,\"left_units\":\"screen\",\"level\":\"overlay\",\"line_alpha\":1.0,\"line_color\":\"black\",\"line_dash\":[4,4],\"line_width\":2,\"right_units\":\"screen\",\"syncable\":false,\"top_units\":\"screen\"},\"id\":\"4290\",\"type\":\"BoxAnnotation\"},{\"attributes\":{\"overlay\":{\"id\":\"4290\"}},\"id\":\"4288\",\"type\":\"BoxZoomTool\"},{\"attributes\":{\"coordinates\":null,\"data_source\":{\"id\":\"4328\"},\"glyph\":{\"id\":\"4331\"},\"group\":null,\"hover_glyph\":null,\"muted_glyph\":{\"id\":\"4333\"},\"nonselection_glyph\":{\"id\":\"4332\"},\"selection_glyph\":{\"id\":\"4336\"},\"view\":{\"id\":\"4335\"}},\"id\":\"4334\",\"type\":\"GlyphRenderer\"},{\"attributes\":{},\"id\":\"4286\",\"type\":\"PanTool\"},{\"attributes\":{},\"id\":\"4303\",\"type\":\"AllLabels\"},{\"attributes\":{\"angle\":{\"value\":1.5707963267948966},\"text\":{\"field\":\"text\"},\"text_align\":{\"value\":\"left\"},\"text_alpha\":{\"value\":1.0},\"text_baseline\":{\"value\":\"middle\"},\"text_color\":{\"value\":\"black\"},\"text_font_size\":{\"value\":\"12Pt\"},\"text_font_style\":{\"value\":\"normal\"},\"text_line_height\":{\"value\":1.2},\"x\":{\"field\":\"x\"},\"x_offset\":{\"value\":0},\"y\":{\"field\":\"y\"},\"y_offset\":{\"value\":0}},\"id\":\"4360\",\"type\":\"Text\"},{\"attributes\":{\"data\":{\"Movie Title\":[1,1,1,2,2,1,1,1,1,1,1,1,1,2,5,3,5,3,8,11,9,13,13,2,7,3,4,5,5,9,4,6,6,2,11,9,14,9,6,6,9,10,17,16,12,18,14,17,21,22,23,15,14,23,15,8,15,12,16,21,19,15,18,17,15,16,14,25,15,21,14,28,36,19,31,31,44,39,42,48,36,53,38,50,40,16],\"Movie_Title\":[1,1,1,2,2,1,1,1,1,1,1,1,1,2,5,3,5,3,8,11,9,13,13,2,7,3,4,5,5,9,4,6,6,2,11,9,14,9,6,6,9,10,17,16,12,18,14,17,21,22,23,15,14,23,15,8,15,12,16,21,19,15,18,17,15,16,14,25,15,21,14,28,36,19,31,31,44,39,42,48,36,53,38,50,40,16],\"Year\":[1916,1925,1927,1932,1936,1939,1940,1941,1942,1943,1944,1945,1949,1950,1951,1952,1953,1954,1955,1956,1957,1958,1959,1960,1961,1962,1963,1964,1965,1966,1967,1968,1969,1970,1971,1972,1973,1974,1975,1976,1977,1978,1979,1980,1981,1982,1983,1984,1985,1986,1987,1988,1989,1990,1991,1992,1993,1994,1995,1996,1997,1998,1999,2000,2001,2002,2003,2004,2005,2006,2007,2008,2009,2010,2011,2012,2013,2014,2015,2016,2017,2018,2019,2020,2021,2022]},\"selected\":{\"id\":\"4305\"},\"selection_policy\":{\"id\":\"4319\"}},\"id\":\"4304\",\"type\":\"ColumnDataSource\"},{\"attributes\":{\"angle\":{\"value\":1.5707963267948966},\"text_alpha\":{\"value\":0.2},\"text_baseline\":{\"value\":\"middle\"},\"text_color\":{\"value\":\"black\"},\"text_font_size\":{\"value\":\"12Pt\"},\"x\":{\"field\":\"x\"},\"y\":{\"field\":\"y\"}},\"id\":\"4357\",\"type\":\"Text\"},{\"attributes\":{},\"id\":\"4329\",\"type\":\"Selection\"},{\"attributes\":{\"coordinates\":null,\"dimension\":\"height\",\"group\":null,\"level\":\"glyph\",\"line_alpha\":0.6,\"line_color\":\"grey\",\"line_dash\":[6],\"line_width\":3,\"location\":1932},\"id\":\"4339\",\"type\":\"Span\"},{\"attributes\":{},\"id\":\"4386\",\"type\":\"UnionRenderers\"},{\"attributes\":{},\"id\":\"4353\",\"type\":\"Selection\"},{\"attributes\":{},\"id\":\"4273\",\"type\":\"LinearScale\"},{\"attributes\":{\"source\":{\"id\":\"4352\"}},\"id\":\"4359\",\"type\":\"CDSView\"},{\"attributes\":{\"line_alpha\":0.2,\"line_color\":\"goldenrod\",\"line_width\":4,\"x\":{\"field\":\"Year\"},\"y\":{\"field\":\"Movie Title\"}},\"id\":\"4309\",\"type\":\"Line\"},{\"attributes\":{\"line_alpha\":0.1,\"line_color\":\"goldenrod\",\"line_width\":4,\"x\":{\"field\":\"Year\"},\"y\":{\"field\":\"Movie Title\"}},\"id\":\"4308\",\"type\":\"Line\"},{\"attributes\":{},\"id\":\"4392\",\"type\":\"UnionRenderers\"},{\"attributes\":{\"source\":{\"id\":\"4364\"}},\"id\":\"4371\",\"type\":\"CDSView\"},{\"attributes\":{\"angle\":{\"value\":1.5707963267948966},\"text_alpha\":{\"value\":0.1},\"text_baseline\":{\"value\":\"middle\"},\"text_color\":{\"value\":\"black\"},\"text_font_size\":{\"value\":\"12Pt\"},\"x\":{\"field\":\"x\"},\"y\":{\"field\":\"y\"}},\"id\":\"4344\",\"type\":\"Text\"},{\"attributes\":{\"angle\":{\"value\":1.5707963267948966},\"text\":{\"field\":\"text\"},\"text_align\":{\"value\":\"left\"},\"text_alpha\":{\"value\":1.0},\"text_baseline\":{\"value\":\"middle\"},\"text_color\":{\"value\":\"black\"},\"text_font_size\":{\"value\":\"12Pt\"},\"text_font_style\":{\"value\":\"normal\"},\"text_line_height\":{\"value\":1.2},\"x\":{\"field\":\"x\"},\"x_offset\":{\"value\":0},\"y\":{\"field\":\"y\"},\"y_offset\":{\"value\":0}},\"id\":\"4372\",\"type\":\"Text\"},{\"attributes\":{\"data\":{\"text\":[\"Sound Technology\"],\"x\":[1926],\"y\":[0]},\"selected\":{\"id\":\"4329\"},\"selection_policy\":{\"id\":\"4386\"}},\"id\":\"4328\",\"type\":\"ColumnDataSource\"},{\"attributes\":{\"angle\":{\"value\":1.5707963267948966},\"text_alpha\":{\"value\":0.2},\"text_baseline\":{\"value\":\"middle\"},\"text_color\":{\"value\":\"black\"},\"text_font_size\":{\"value\":\"12Pt\"},\"x\":{\"field\":\"x\"},\"y\":{\"field\":\"y\"}},\"id\":\"4345\",\"type\":\"Text\"},{\"attributes\":{\"angle\":{\"value\":1.5707963267948966},\"text_alpha\":{\"value\":0.2},\"text_baseline\":{\"value\":\"middle\"},\"text_color\":{\"value\":\"black\"},\"text_font_size\":{\"value\":\"12Pt\"},\"x\":{\"field\":\"x\"},\"y\":{\"field\":\"y\"}},\"id\":\"4333\",\"type\":\"Text\"},{\"attributes\":{\"line_color\":\"goldenrod\",\"line_width\":4,\"x\":{\"field\":\"Year\"},\"y\":{\"field\":\"Movie Title\"}},\"id\":\"4307\",\"type\":\"Line\"},{\"attributes\":{\"coordinates\":null,\"data_source\":{\"id\":\"4352\"},\"glyph\":{\"id\":\"4355\"},\"group\":null,\"hover_glyph\":null,\"muted_glyph\":{\"id\":\"4357\"},\"nonselection_glyph\":{\"id\":\"4356\"},\"selection_glyph\":{\"id\":\"4360\"},\"view\":{\"id\":\"4359\"}},\"id\":\"4358\",\"type\":\"GlyphRenderer\"},{\"attributes\":{},\"id\":\"4365\",\"type\":\"Selection\"},{\"attributes\":{\"angle\":{\"value\":1.5707963267948966},\"text_baseline\":{\"value\":\"middle\"},\"text_color\":{\"value\":\"black\"},\"text_font_size\":{\"value\":\"12Pt\"},\"x\":{\"field\":\"x\"},\"y\":{\"field\":\"y\"}},\"id\":\"4367\",\"type\":\"Text\"},{\"attributes\":{\"line_color\":\"goldenrod\",\"line_width\":4,\"x\":{\"field\":\"Year\"},\"y\":{\"field\":\"Movie Title\"}},\"id\":\"4324\",\"type\":\"Line\"},{\"attributes\":{},\"id\":\"4282\",\"type\":\"BasicTicker\"},{\"attributes\":{\"axis_label\":\"Number Of Films\",\"coordinates\":null,\"formatter\":{\"id\":\"4302\"},\"group\":null,\"major_label_policy\":{\"id\":\"4303\"},\"ticker\":{\"id\":\"4282\"}},\"id\":\"4281\",\"type\":\"LinearAxis\"},{\"attributes\":{\"coordinates\":null,\"data_source\":{\"id\":\"4340\"},\"glyph\":{\"id\":\"4343\"},\"group\":null,\"hover_glyph\":null,\"muted_glyph\":{\"id\":\"4345\"},\"nonselection_glyph\":{\"id\":\"4344\"},\"selection_glyph\":{\"id\":\"4348\"},\"view\":{\"id\":\"4347\"}},\"id\":\"4346\",\"type\":\"GlyphRenderer\"},{\"attributes\":{},\"id\":\"4278\",\"type\":\"BasicTicker\"},{\"attributes\":{\"angle\":{\"value\":1.5707963267948966},\"text_alpha\":{\"value\":0.1},\"text_baseline\":{\"value\":\"middle\"},\"text_color\":{\"value\":\"black\"},\"text_font_size\":{\"value\":\"12Pt\"},\"x\":{\"field\":\"x\"},\"y\":{\"field\":\"y\"}},\"id\":\"4368\",\"type\":\"Text\"},{\"attributes\":{\"angle\":{\"value\":1.5707963267948966},\"text_alpha\":{\"value\":0.1},\"text_baseline\":{\"value\":\"middle\"},\"text_color\":{\"value\":\"black\"},\"text_font_size\":{\"value\":\"12Pt\"},\"x\":{\"field\":\"x\"},\"y\":{\"field\":\"y\"}},\"id\":\"4332\",\"type\":\"Text\"},{\"attributes\":{\"angle\":{\"value\":1.5707963267948966},\"text_alpha\":{\"value\":0.2},\"text_baseline\":{\"value\":\"middle\"},\"text_color\":{\"value\":\"black\"},\"text_font_size\":{\"value\":\"12Pt\"},\"x\":{\"field\":\"x\"},\"y\":{\"field\":\"y\"}},\"id\":\"4369\",\"type\":\"Text\"},{\"attributes\":{\"coordinates\":null,\"group\":null,\"text\":\"Number of Sci-Fi Films Produced in Relation to Film Technology\",\"text_color\":\"black\",\"text_font_size\":\"12pt\"},\"id\":\"4269\",\"type\":\"Title\"},{\"attributes\":{\"coordinates\":null,\"dimension\":\"height\",\"group\":null,\"level\":\"glyph\",\"line_alpha\":0.6,\"line_color\":\"grey\",\"line_dash\":[6],\"line_width\":3,\"location\":1951},\"id\":\"4351\",\"type\":\"Span\"},{\"attributes\":{\"coordinates\":null,\"data_source\":{\"id\":\"4364\"},\"glyph\":{\"id\":\"4367\"},\"group\":null,\"hover_glyph\":null,\"muted_glyph\":{\"id\":\"4369\"},\"nonselection_glyph\":{\"id\":\"4368\"},\"selection_glyph\":{\"id\":\"4372\"},\"view\":{\"id\":\"4371\"}},\"id\":\"4370\",\"type\":\"GlyphRenderer\"},{\"attributes\":{\"axis\":{\"id\":\"4281\"},\"coordinates\":null,\"dimension\":1,\"grid_line_color\":null,\"group\":null,\"ticker\":null},\"id\":\"4284\",\"type\":\"Grid\"},{\"attributes\":{\"angle\":{\"value\":1.5707963267948966},\"text_alpha\":{\"value\":0.1},\"text_baseline\":{\"value\":\"middle\"},\"text_color\":{\"value\":\"black\"},\"text_font_size\":{\"value\":\"12Pt\"},\"x\":{\"field\":\"x\"},\"y\":{\"field\":\"y\"}},\"id\":\"4356\",\"type\":\"Text\"},{\"attributes\":{},\"id\":\"4319\",\"type\":\"UnionRenderers\"},{\"attributes\":{\"coordinates\":null,\"data_source\":{\"id\":\"4304\"},\"glyph\":{\"id\":\"4307\"},\"group\":null,\"hover_glyph\":null,\"muted_glyph\":{\"id\":\"4309\"},\"nonselection_glyph\":{\"id\":\"4308\"},\"selection_glyph\":{\"id\":\"4324\"},\"view\":{\"id\":\"4311\"}},\"id\":\"4310\",\"type\":\"GlyphRenderer\"},{\"attributes\":{\"angle\":{\"value\":1.5707963267948966},\"text_baseline\":{\"value\":\"middle\"},\"text_color\":{\"value\":\"black\"},\"text_font_size\":{\"value\":\"12Pt\"},\"x\":{\"field\":\"x\"},\"y\":{\"field\":\"y\"}},\"id\":\"4343\",\"type\":\"Text\"},{\"attributes\":{\"data\":{\"text\":[\"Digital Technology\"],\"x\":[1997],\"y\":[0]},\"selected\":{\"id\":\"4365\"},\"selection_policy\":{\"id\":\"4392\"}},\"id\":\"4364\",\"type\":\"ColumnDataSource\"},{\"attributes\":{\"angle\":{\"value\":1.5707963267948966},\"text\":{\"field\":\"text\"},\"text_align\":{\"value\":\"left\"},\"text_alpha\":{\"value\":1.0},\"text_baseline\":{\"value\":\"middle\"},\"text_color\":{\"value\":\"black\"},\"text_font_size\":{\"value\":\"12Pt\"},\"text_font_style\":{\"value\":\"normal\"},\"text_line_height\":{\"value\":1.2},\"x\":{\"field\":\"x\"},\"x_offset\":{\"value\":0},\"y\":{\"field\":\"y\"},\"y_offset\":{\"value\":0}},\"id\":\"4348\",\"type\":\"Text\"},{\"attributes\":{\"data\":{\"text\":[\"Color Technology\"],\"x\":[1931],\"y\":[0]},\"selected\":{\"id\":\"4341\"},\"selection_policy\":{\"id\":\"4388\"}},\"id\":\"4340\",\"type\":\"ColumnDataSource\"},{\"attributes\":{},\"id\":\"4289\",\"type\":\"ResetTool\"},{\"attributes\":{},\"id\":\"4299\",\"type\":\"BasicTickFormatter\"},{\"attributes\":{\"children\":[{\"id\":\"4268\"}],\"height\":500,\"margin\":[0,0,0,0],\"name\":\"Row11727\",\"sizing_mode\":\"fixed\",\"tags\":[\"embedded\"],\"width\":1000},\"id\":\"4264\",\"type\":\"Row\"},{\"attributes\":{},\"id\":\"4275\",\"type\":\"LinearScale\"},{\"attributes\":{\"data\":{\"text\":[\"SFX Technology\"],\"x\":[1950],\"y\":[0]},\"selected\":{\"id\":\"4353\"},\"selection_policy\":{\"id\":\"4390\"}},\"id\":\"4352\",\"type\":\"ColumnDataSource\"},{\"attributes\":{\"end\":2022.0,\"reset_end\":2022.0,\"reset_start\":1916.0,\"start\":1916.0,\"tags\":[[[\"Year\",\"Year\",null]]]},\"id\":\"4265\",\"type\":\"Range1d\"},{\"attributes\":{\"callback\":null,\"renderers\":[{\"id\":\"4310\"}],\"tags\":[\"hv_created\"],\"tooltips\":[[\"Year\",\"@{Year}\"],[\"Movie Title\",\"@{Movie_Title}\"]]},\"id\":\"4267\",\"type\":\"HoverTool\"},{\"attributes\":{\"angle\":{\"value\":1.5707963267948966},\"text_baseline\":{\"value\":\"middle\"},\"text_color\":{\"value\":\"black\"},\"text_font_size\":{\"value\":\"12Pt\"},\"x\":{\"field\":\"x\"},\"y\":{\"field\":\"y\"}},\"id\":\"4355\",\"type\":\"Text\"},{\"attributes\":{\"coordinates\":null,\"dimension\":\"height\",\"group\":null,\"level\":\"glyph\",\"line_alpha\":0.6,\"line_color\":\"grey\",\"line_dash\":[6],\"line_width\":3,\"location\":1998},\"id\":\"4363\",\"type\":\"Span\"},{\"attributes\":{},\"id\":\"4285\",\"type\":\"SaveTool\"},{\"attributes\":{\"active_drag\":{\"id\":\"4286\"},\"active_scroll\":{\"id\":\"4287\"},\"tools\":[{\"id\":\"4267\"},{\"id\":\"4285\"},{\"id\":\"4286\"},{\"id\":\"4287\"},{\"id\":\"4288\"},{\"id\":\"4289\"}]},\"id\":\"4291\",\"type\":\"Toolbar\"},{\"attributes\":{},\"id\":\"4302\",\"type\":\"BasicTickFormatter\"},{\"attributes\":{\"coordinates\":null,\"dimension\":\"height\",\"group\":null,\"level\":\"glyph\",\"line_alpha\":0.6,\"line_color\":\"grey\",\"line_dash\":[6],\"line_width\":3,\"location\":1927},\"id\":\"4327\",\"type\":\"Span\"},{\"attributes\":{\"axis_label\":\"Year\",\"coordinates\":null,\"formatter\":{\"id\":\"4299\"},\"group\":null,\"major_label_policy\":{\"id\":\"4300\"},\"ticker\":{\"id\":\"4278\"}},\"id\":\"4277\",\"type\":\"LinearAxis\"},{\"attributes\":{},\"id\":\"4341\",\"type\":\"Selection\"},{\"attributes\":{},\"id\":\"4305\",\"type\":\"Selection\"},{\"attributes\":{\"source\":{\"id\":\"4340\"}},\"id\":\"4347\",\"type\":\"CDSView\"},{\"attributes\":{},\"id\":\"4300\",\"type\":\"AllLabels\"},{\"attributes\":{},\"id\":\"4390\",\"type\":\"UnionRenderers\"},{\"attributes\":{\"source\":{\"id\":\"4328\"}},\"id\":\"4335\",\"type\":\"CDSView\"},{\"attributes\":{\"angle\":{\"value\":1.5707963267948966},\"text_baseline\":{\"value\":\"middle\"},\"text_color\":{\"value\":\"black\"},\"text_font_size\":{\"value\":\"12Pt\"},\"x\":{\"field\":\"x\"},\"y\":{\"field\":\"y\"}},\"id\":\"4331\",\"type\":\"Text\"},{\"attributes\":{},\"id\":\"4287\",\"type\":\"WheelZoomTool\"},{\"attributes\":{\"coordinates\":null,\"group\":null,\"items\":[]},\"id\":\"4322\",\"type\":\"Legend\"},{\"attributes\":{\"source\":{\"id\":\"4304\"}},\"id\":\"4311\",\"type\":\"CDSView\"},{\"attributes\":{\"angle\":{\"value\":1.5707963267948966},\"text\":{\"field\":\"text\"},\"text_align\":{\"value\":\"left\"},\"text_alpha\":{\"value\":1.0},\"text_baseline\":{\"value\":\"middle\"},\"text_color\":{\"value\":\"black\"},\"text_font_size\":{\"value\":\"12Pt\"},\"text_font_style\":{\"value\":\"normal\"},\"text_line_height\":{\"value\":1.2},\"x\":{\"field\":\"x\"},\"x_offset\":{\"value\":0},\"y\":{\"field\":\"y\"},\"y_offset\":{\"value\":0}},\"id\":\"4336\",\"type\":\"Text\"},{\"attributes\":{\"end\":58.2,\"reset_end\":58.2,\"reset_start\":-4.2,\"start\":-4.2,\"tags\":[[[\"Movie Title\",\"Movie Title\",null]]]},\"id\":\"4266\",\"type\":\"Range1d\"},{\"attributes\":{},\"id\":\"4388\",\"type\":\"UnionRenderers\"}],\"root_ids\":[\"4264\"]},\"title\":\"Bokeh Application\",\"version\":\"2.4.3\"}};\n",
       "    var render_items = [{\"docid\":\"fa3e7d6f-c4b6-4d45-808c-0bc436142335\",\"root_ids\":[\"4264\"],\"roots\":{\"4264\":\"209df01b-1e8a-4c31-adf6-0e629bbfe299\"}}];\n",
       "    root.Bokeh.embed.embed_items_notebook(docs_json, render_items);\n",
       "    for (const render_item of render_items) {\n",
       "      for (const root_id of render_item.root_ids) {\n",
       "\tconst id_el = document.getElementById(root_id)\n",
       "\tif (id_el.children.length && (id_el.children[0].className === 'bk-root')) {\n",
       "\t  const root_el = id_el.children[0]\n",
       "\t  root_el.id = root_el.id + '-rendered'\n",
       "\t}\n",
       "      }\n",
       "    }\n",
       "  }\n",
       "  if (root.Bokeh !== undefined && root.Bokeh.Panel !== undefined) {\n",
       "    embed_document(root);\n",
       "  } else {\n",
       "    var attempts = 0;\n",
       "    var timer = setInterval(function(root) {\n",
       "      if (root.Bokeh !== undefined && root.Bokeh.Panel !== undefined) {\n",
       "        clearInterval(timer);\n",
       "        embed_document(root);\n",
       "      } else if (document.readyState == \"complete\") {\n",
       "        attempts++;\n",
       "        if (attempts > 200) {\n",
       "          clearInterval(timer);\n",
       "          console.log(\"Bokeh: ERROR: Unable to run BokehJS code because BokehJS library is missing\");\n",
       "        }\n",
       "      }\n",
       "    }, 25, root)\n",
       "  }\n",
       "})(window);</script>"
      ],
      "text/plain": [
       ":Overlay\n",
       "   .Curve.Movie_Title :Curve   [Year]   (Movie Title)\n",
       "   .VLine.I           :VLine   [x,y]\n",
       "   .Text.I            :Text   [x,y]\n",
       "   .VLine.II          :VLine   [x,y]\n",
       "   .Text.II           :Text   [x,y]\n",
       "   .VLine.III         :VLine   [x,y]\n",
       "   .Text.III          :Text   [x,y]\n",
       "   .VLine.IV          :VLine   [x,y]\n",
       "   .Text.IV           :Text   [x,y]"
      ]
     },
     "execution_count": 56,
     "metadata": {
      "application/vnd.holoviews_exec.v0+json": {
       "id": "4264"
      }
     },
     "output_type": "execute_result"
    }
   ],
   "source": [
    "genre_trend[\"'Sci-Fi'\"].opts(title='Number of Sci-Fi Films Produced in Relation to Film Technology',ylabel='Number Of Films')"
   ]
  },
  {
   "attachments": {},
   "cell_type": "markdown",
   "metadata": {},
   "source": [
    "### Which genre were commonly used on films? (Top 10)"
   ]
  },
  {
   "cell_type": "code",
   "execution_count": 57,
   "metadata": {},
   "outputs": [
    {
     "data": {},
     "metadata": {},
     "output_type": "display_data"
    },
    {
     "data": {
      "application/vnd.holoviews_exec.v0+json": "",
      "text/html": [
       "<div id='4486'>\n",
       "  <div class=\"bk-root\" id=\"4143f2e3-525e-40cb-9b8d-d52d6602f44c\" data-root-id=\"4486\"></div>\n",
       "</div>\n",
       "<script type=\"application/javascript\">(function(root) {\n",
       "  function embed_document(root) {\n",
       "    var docs_json = {\"a2ff7eaa-e385-477b-a6cc-402419aad7d7\":{\"defs\":[{\"extends\":null,\"module\":null,\"name\":\"ReactiveHTML1\",\"overrides\":[],\"properties\":[]},{\"extends\":null,\"module\":null,\"name\":\"FlexBox1\",\"overrides\":[],\"properties\":[{\"default\":\"flex-start\",\"kind\":null,\"name\":\"align_content\"},{\"default\":\"flex-start\",\"kind\":null,\"name\":\"align_items\"},{\"default\":\"row\",\"kind\":null,\"name\":\"flex_direction\"},{\"default\":\"wrap\",\"kind\":null,\"name\":\"flex_wrap\"},{\"default\":\"flex-start\",\"kind\":null,\"name\":\"justify_content\"}]},{\"extends\":null,\"module\":null,\"name\":\"GridStack1\",\"overrides\":[],\"properties\":[{\"default\":\"warn\",\"kind\":null,\"name\":\"mode\"},{\"default\":null,\"kind\":null,\"name\":\"ncols\"},{\"default\":null,\"kind\":null,\"name\":\"nrows\"},{\"default\":true,\"kind\":null,\"name\":\"allow_resize\"},{\"default\":true,\"kind\":null,\"name\":\"allow_drag\"},{\"default\":[],\"kind\":null,\"name\":\"state\"}]},{\"extends\":null,\"module\":null,\"name\":\"click1\",\"overrides\":[],\"properties\":[{\"default\":\"\",\"kind\":null,\"name\":\"terminal_output\"},{\"default\":\"\",\"kind\":null,\"name\":\"debug_name\"},{\"default\":0,\"kind\":null,\"name\":\"clears\"}]},{\"extends\":null,\"module\":null,\"name\":\"NotificationAreaBase1\",\"overrides\":[],\"properties\":[{\"default\":\"bottom-right\",\"kind\":null,\"name\":\"position\"},{\"default\":0,\"kind\":null,\"name\":\"_clear\"}]},{\"extends\":null,\"module\":null,\"name\":\"NotificationArea1\",\"overrides\":[],\"properties\":[{\"default\":[],\"kind\":null,\"name\":\"notifications\"},{\"default\":\"bottom-right\",\"kind\":null,\"name\":\"position\"},{\"default\":0,\"kind\":null,\"name\":\"_clear\"},{\"default\":[{\"background\":\"#ffc107\",\"icon\":{\"className\":\"fas fa-exclamation-triangle\",\"color\":\"white\",\"tagName\":\"i\"},\"type\":\"warning\"},{\"background\":\"#007bff\",\"icon\":{\"className\":\"fas fa-info-circle\",\"color\":\"white\",\"tagName\":\"i\"},\"type\":\"info\"}],\"kind\":null,\"name\":\"types\"}]},{\"extends\":null,\"module\":null,\"name\":\"Notification\",\"overrides\":[],\"properties\":[{\"default\":null,\"kind\":null,\"name\":\"background\"},{\"default\":3000,\"kind\":null,\"name\":\"duration\"},{\"default\":null,\"kind\":null,\"name\":\"icon\"},{\"default\":\"\",\"kind\":null,\"name\":\"message\"},{\"default\":null,\"kind\":null,\"name\":\"notification_type\"},{\"default\":false,\"kind\":null,\"name\":\"_destroyed\"}]},{\"extends\":null,\"module\":null,\"name\":\"TemplateActions1\",\"overrides\":[],\"properties\":[{\"default\":0,\"kind\":null,\"name\":\"open_modal\"},{\"default\":0,\"kind\":null,\"name\":\"close_modal\"}]},{\"extends\":null,\"module\":null,\"name\":\"MaterialTemplateActions1\",\"overrides\":[],\"properties\":[{\"default\":0,\"kind\":null,\"name\":\"open_modal\"},{\"default\":0,\"kind\":null,\"name\":\"close_modal\"}]}],\"roots\":{\"references\":[{\"attributes\":{\"overlay\":{\"id\":\"4511\"}},\"id\":\"4509\",\"type\":\"BoxZoomTool\"},{\"attributes\":{},\"id\":\"4510\",\"type\":\"ResetTool\"},{\"attributes\":{\"bottom_units\":\"screen\",\"coordinates\":null,\"fill_alpha\":0.5,\"fill_color\":\"lightgrey\",\"group\":null,\"left_units\":\"screen\",\"level\":\"overlay\",\"line_alpha\":1.0,\"line_color\":\"black\",\"line_dash\":[4,4],\"line_width\":2,\"right_units\":\"screen\",\"syncable\":false,\"top_units\":\"screen\"},\"id\":\"4511\",\"type\":\"BoxAnnotation\"},{\"attributes\":{},\"id\":\"4530\",\"type\":\"AllLabels\"},{\"attributes\":{\"factors\":[\"'Sci-Fi'\",\"'Mystery'\",\"'Horror'\",\"'Romance'\",\"'Adventure'\",\"'Thriller'\",\"'Crime'\",\"'Action'\",\"'Comedy'\",\"'Drama'\"],\"tags\":[[[\"index\",\"index\",null]]]},\"id\":\"4487\",\"type\":\"FactorRange\"},{\"attributes\":{},\"id\":\"4532\",\"type\":\"BasicTickFormatter\"},{\"attributes\":{},\"id\":\"4533\",\"type\":\"AllLabels\"},{\"attributes\":{},\"id\":\"4495\",\"type\":\"CategoricalScale\"},{\"attributes\":{\"active_drag\":{\"id\":\"4507\"},\"active_scroll\":{\"id\":\"4508\"},\"tools\":[{\"id\":\"4489\"},{\"id\":\"4506\"},{\"id\":\"4507\"},{\"id\":\"4508\"},{\"id\":\"4509\"},{\"id\":\"4510\"}]},\"id\":\"4512\",\"type\":\"Toolbar\"},{\"attributes\":{},\"id\":\"4497\",\"type\":\"LinearScale\"},{\"attributes\":{\"fill_alpha\":{\"value\":0.1},\"fill_color\":{\"value\":\"goldenrod\"},\"hatch_alpha\":{\"value\":0.1},\"hatch_color\":{\"value\":\"goldenrod\"},\"line_alpha\":{\"value\":0.1},\"top\":{\"field\":\"Genres\"},\"width\":{\"value\":0.8},\"x\":{\"field\":\"index\"}},\"id\":\"4523\",\"type\":\"VBar\"},{\"attributes\":{\"callback\":null,\"renderers\":[{\"id\":\"4525\"}],\"tags\":[\"hv_created\"],\"tooltips\":[[\"index\",\"@{index}\"],[\"Genres\",\"@{Genres}\"]]},\"id\":\"4489\",\"type\":\"HoverTool\"},{\"attributes\":{},\"id\":\"4520\",\"type\":\"Selection\"},{\"attributes\":{\"fill_alpha\":{\"value\":0.2},\"fill_color\":{\"value\":\"goldenrod\"},\"hatch_alpha\":{\"value\":0.2},\"hatch_color\":{\"value\":\"goldenrod\"},\"line_alpha\":{\"value\":0.2},\"top\":{\"field\":\"Genres\"},\"width\":{\"value\":0.8},\"x\":{\"field\":\"index\"}},\"id\":\"4524\",\"type\":\"VBar\"},{\"attributes\":{\"bottom\":{\"value\":0},\"fill_alpha\":{\"value\":1.0},\"fill_color\":{\"value\":\"goldenrod\"},\"hatch_alpha\":{\"value\":1.0},\"hatch_color\":{\"value\":\"goldenrod\"},\"hatch_scale\":{\"value\":12.0},\"hatch_weight\":{\"value\":1.0},\"line_alpha\":{\"value\":1.0},\"line_cap\":{\"value\":\"butt\"},\"line_color\":{\"value\":\"black\"},\"line_dash\":{\"value\":[]},\"line_dash_offset\":{\"value\":0},\"line_join\":{\"value\":\"bevel\"},\"line_width\":{\"value\":1},\"top\":{\"field\":\"Genres\"},\"width\":{\"value\":0.8},\"x\":{\"field\":\"index\"}},\"id\":\"4527\",\"type\":\"VBar\"},{\"attributes\":{\"coordinates\":null,\"group\":null,\"text\":\"Top 10 Most Common Genres of Movie\",\"text_color\":\"black\",\"text_font_size\":\"16pt\"},\"id\":\"4491\",\"type\":\"Title\"},{\"attributes\":{\"source\":{\"id\":\"4519\"}},\"id\":\"4526\",\"type\":\"CDSView\"},{\"attributes\":{\"below\":[{\"id\":\"4499\"}],\"center\":[{\"id\":\"4501\"},{\"id\":\"4505\"}],\"height\":500,\"left\":[{\"id\":\"4502\"}],\"margin\":[5,5,5,5],\"min_border_bottom\":10,\"min_border_left\":10,\"min_border_right\":10,\"min_border_top\":10,\"renderers\":[{\"id\":\"4525\"}],\"sizing_mode\":\"fixed\",\"title\":{\"id\":\"4491\"},\"toolbar\":{\"id\":\"4512\"},\"width\":1000,\"x_range\":{\"id\":\"4487\"},\"x_scale\":{\"id\":\"4495\"},\"y_range\":{\"id\":\"4488\"},\"y_scale\":{\"id\":\"4497\"}},\"id\":\"4490\",\"subtype\":\"Figure\",\"type\":\"Plot\"},{\"attributes\":{\"axis_label\":\"Genres of Film\",\"axis_label_text_font_size\":\"12pt\",\"coordinates\":null,\"formatter\":{\"id\":\"4529\"},\"group\":null,\"group_text_font_size\":\"12pt\",\"major_label_policy\":{\"id\":\"4530\"},\"major_label_text_font_size\":\"12pt\",\"ticker\":{\"id\":\"4500\"}},\"id\":\"4499\",\"type\":\"CategoricalAxis\"},{\"attributes\":{\"end\":9369.9,\"reset_end\":9369.9,\"reset_start\":0.0,\"tags\":[[[\"Genres\",\"Genres\",null]]]},\"id\":\"4488\",\"type\":\"Range1d\"},{\"attributes\":{\"data\":{\"Genres\":[1253,1456,2093,2429,2862,3021,3877,4588,5088,8632],\"index\":[\"'Sci-Fi'\",\"'Mystery'\",\"'Horror'\",\"'Romance'\",\"'Adventure'\",\"'Thriller'\",\"'Crime'\",\"'Action'\",\"'Comedy'\",\"'Drama'\"]},\"selected\":{\"id\":\"4520\"},\"selection_policy\":{\"id\":\"4545\"}},\"id\":\"4519\",\"type\":\"ColumnDataSource\"},{\"attributes\":{\"coordinates\":null,\"data_source\":{\"id\":\"4519\"},\"glyph\":{\"id\":\"4522\"},\"group\":null,\"hover_glyph\":null,\"muted_glyph\":{\"id\":\"4524\"},\"nonselection_glyph\":{\"id\":\"4523\"},\"selection_glyph\":{\"id\":\"4527\"},\"view\":{\"id\":\"4526\"}},\"id\":\"4525\",\"type\":\"GlyphRenderer\"},{\"attributes\":{\"axis\":{\"id\":\"4499\"},\"coordinates\":null,\"grid_line_color\":null,\"group\":null,\"ticker\":null},\"id\":\"4501\",\"type\":\"Grid\"},{\"attributes\":{},\"id\":\"4507\",\"type\":\"PanTool\"},{\"attributes\":{},\"id\":\"4545\",\"type\":\"UnionRenderers\"},{\"attributes\":{},\"id\":\"4500\",\"type\":\"CategoricalTicker\"},{\"attributes\":{\"fill_color\":{\"value\":\"goldenrod\"},\"hatch_color\":{\"value\":\"goldenrod\"},\"top\":{\"field\":\"Genres\"},\"width\":{\"value\":0.8},\"x\":{\"field\":\"index\"}},\"id\":\"4522\",\"type\":\"VBar\"},{\"attributes\":{\"axis_label\":\"Number of Movies\",\"axis_label_text_font_size\":\"12pt\",\"coordinates\":null,\"formatter\":{\"id\":\"4532\"},\"group\":null,\"major_label_policy\":{\"id\":\"4533\"},\"ticker\":{\"id\":\"4503\"}},\"id\":\"4502\",\"type\":\"LinearAxis\"},{\"attributes\":{\"axis\":{\"id\":\"4502\"},\"coordinates\":null,\"dimension\":1,\"grid_line_color\":null,\"group\":null,\"ticker\":null},\"id\":\"4505\",\"type\":\"Grid\"},{\"attributes\":{},\"id\":\"4503\",\"type\":\"BasicTicker\"},{\"attributes\":{},\"id\":\"4508\",\"type\":\"WheelZoomTool\"},{\"attributes\":{},\"id\":\"4529\",\"type\":\"CategoricalTickFormatter\"},{\"attributes\":{\"children\":[{\"id\":\"4490\"}],\"height\":500,\"margin\":[0,0,0,0],\"name\":\"Row11887\",\"sizing_mode\":\"fixed\",\"tags\":[\"embedded\"],\"width\":1000},\"id\":\"4486\",\"type\":\"Row\"},{\"attributes\":{},\"id\":\"4506\",\"type\":\"SaveTool\"}],\"root_ids\":[\"4486\"]},\"title\":\"Bokeh Application\",\"version\":\"2.4.3\"}};\n",
       "    var render_items = [{\"docid\":\"a2ff7eaa-e385-477b-a6cc-402419aad7d7\",\"root_ids\":[\"4486\"],\"roots\":{\"4486\":\"4143f2e3-525e-40cb-9b8d-d52d6602f44c\"}}];\n",
       "    root.Bokeh.embed.embed_items_notebook(docs_json, render_items);\n",
       "    for (const render_item of render_items) {\n",
       "      for (const root_id of render_item.root_ids) {\n",
       "\tconst id_el = document.getElementById(root_id)\n",
       "\tif (id_el.children.length && (id_el.children[0].className === 'bk-root')) {\n",
       "\t  const root_el = id_el.children[0]\n",
       "\t  root_el.id = root_el.id + '-rendered'\n",
       "\t}\n",
       "      }\n",
       "    }\n",
       "  }\n",
       "  if (root.Bokeh !== undefined && root.Bokeh.Panel !== undefined) {\n",
       "    embed_document(root);\n",
       "  } else {\n",
       "    var attempts = 0;\n",
       "    var timer = setInterval(function(root) {\n",
       "      if (root.Bokeh !== undefined && root.Bokeh.Panel !== undefined) {\n",
       "        clearInterval(timer);\n",
       "        embed_document(root);\n",
       "      } else if (document.readyState == \"complete\") {\n",
       "        attempts++;\n",
       "        if (attempts > 200) {\n",
       "          clearInterval(timer);\n",
       "          console.log(\"Bokeh: ERROR: Unable to run BokehJS code because BokehJS library is missing\");\n",
       "        }\n",
       "      }\n",
       "    }, 25, root)\n",
       "  }\n",
       "})(window);</script>"
      ],
      "text/plain": [
       ":Bars   [index]   (Genres)"
      ]
     },
     "execution_count": 57,
     "metadata": {
      "application/vnd.holoviews_exec.v0+json": {
       "id": "4486"
      }
     },
     "output_type": "execute_result"
    }
   ],
   "source": [
    "# We will be needing to explode the genres because it is in a list form.\n",
    "common_genres = df['Genres'].explode().value_counts().sort_values(ascending=True).tail(10)\n",
    "\n",
    "common_genres.hvplot.bar(title='Top 10 Most Common Genres of Movie',\n",
    "                          ylabel='Number of Movies', xlabel='Genres of Film', color='goldenrod',\n",
    "                          height=500, width=1000, fontsize={'title':16, 'ylabel':12, 'xlabel':12, 'xticks':12})"
   ]
  },
  {
   "attachments": {},
   "cell_type": "markdown",
   "metadata": {},
   "source": [
    "### Top 10 Genres of Movie Based on Average Ratings"
   ]
  },
  {
   "cell_type": "code",
   "execution_count": 58,
   "metadata": {},
   "outputs": [
    {
     "data": {},
     "metadata": {},
     "output_type": "display_data"
    },
    {
     "data": {
      "application/vnd.holoviews_exec.v0+json": "",
      "text/html": [
       "<div id='4599'>\n",
       "  <div class=\"bk-root\" id=\"e3221ba6-7b86-43e1-82fb-346f44428a9b\" data-root-id=\"4599\"></div>\n",
       "</div>\n",
       "<script type=\"application/javascript\">(function(root) {\n",
       "  function embed_document(root) {\n",
       "    var docs_json = {\"c69bb7fd-667b-4bff-b5b4-3525679b0302\":{\"defs\":[{\"extends\":null,\"module\":null,\"name\":\"ReactiveHTML1\",\"overrides\":[],\"properties\":[]},{\"extends\":null,\"module\":null,\"name\":\"FlexBox1\",\"overrides\":[],\"properties\":[{\"default\":\"flex-start\",\"kind\":null,\"name\":\"align_content\"},{\"default\":\"flex-start\",\"kind\":null,\"name\":\"align_items\"},{\"default\":\"row\",\"kind\":null,\"name\":\"flex_direction\"},{\"default\":\"wrap\",\"kind\":null,\"name\":\"flex_wrap\"},{\"default\":\"flex-start\",\"kind\":null,\"name\":\"justify_content\"}]},{\"extends\":null,\"module\":null,\"name\":\"GridStack1\",\"overrides\":[],\"properties\":[{\"default\":\"warn\",\"kind\":null,\"name\":\"mode\"},{\"default\":null,\"kind\":null,\"name\":\"ncols\"},{\"default\":null,\"kind\":null,\"name\":\"nrows\"},{\"default\":true,\"kind\":null,\"name\":\"allow_resize\"},{\"default\":true,\"kind\":null,\"name\":\"allow_drag\"},{\"default\":[],\"kind\":null,\"name\":\"state\"}]},{\"extends\":null,\"module\":null,\"name\":\"click1\",\"overrides\":[],\"properties\":[{\"default\":\"\",\"kind\":null,\"name\":\"terminal_output\"},{\"default\":\"\",\"kind\":null,\"name\":\"debug_name\"},{\"default\":0,\"kind\":null,\"name\":\"clears\"}]},{\"extends\":null,\"module\":null,\"name\":\"NotificationAreaBase1\",\"overrides\":[],\"properties\":[{\"default\":\"bottom-right\",\"kind\":null,\"name\":\"position\"},{\"default\":0,\"kind\":null,\"name\":\"_clear\"}]},{\"extends\":null,\"module\":null,\"name\":\"NotificationArea1\",\"overrides\":[],\"properties\":[{\"default\":[],\"kind\":null,\"name\":\"notifications\"},{\"default\":\"bottom-right\",\"kind\":null,\"name\":\"position\"},{\"default\":0,\"kind\":null,\"name\":\"_clear\"},{\"default\":[{\"background\":\"#ffc107\",\"icon\":{\"className\":\"fas fa-exclamation-triangle\",\"color\":\"white\",\"tagName\":\"i\"},\"type\":\"warning\"},{\"background\":\"#007bff\",\"icon\":{\"className\":\"fas fa-info-circle\",\"color\":\"white\",\"tagName\":\"i\"},\"type\":\"info\"}],\"kind\":null,\"name\":\"types\"}]},{\"extends\":null,\"module\":null,\"name\":\"Notification\",\"overrides\":[],\"properties\":[{\"default\":null,\"kind\":null,\"name\":\"background\"},{\"default\":3000,\"kind\":null,\"name\":\"duration\"},{\"default\":null,\"kind\":null,\"name\":\"icon\"},{\"default\":\"\",\"kind\":null,\"name\":\"message\"},{\"default\":null,\"kind\":null,\"name\":\"notification_type\"},{\"default\":false,\"kind\":null,\"name\":\"_destroyed\"}]},{\"extends\":null,\"module\":null,\"name\":\"TemplateActions1\",\"overrides\":[],\"properties\":[{\"default\":0,\"kind\":null,\"name\":\"open_modal\"},{\"default\":0,\"kind\":null,\"name\":\"close_modal\"}]},{\"extends\":null,\"module\":null,\"name\":\"MaterialTemplateActions1\",\"overrides\":[],\"properties\":[{\"default\":0,\"kind\":null,\"name\":\"open_modal\"},{\"default\":0,\"kind\":null,\"name\":\"close_modal\"}]}],\"roots\":{\"references\":[{\"attributes\":{\"data\":{\"Genres\":[\"'Thriller'\",\"'Sport'\",\"'History'\",\"'Animation'\",\"'Drama'\",\"'Crime'\",\"'Music'\",\"'Biography'\",\"'War'\",\"'Western'\"],\"Rating\":{\"__ndarray__\":\"mpmZmZkJIEAzMzMzMzMgQDMzMzMzMyBAWHzFV3xFIEArtVIrtVIgQOXDuF+XVCBAMzMzMzNzIEAAAAAAAIAgQDMzMzMzsyBAzczMzMzMIEA=\",\"dtype\":\"float64\",\"order\":\"little\",\"shape\":[10]}},\"selected\":{\"id\":\"4633\"},\"selection_policy\":{\"id\":\"4658\"}},\"id\":\"4632\",\"type\":\"ColumnDataSource\"},{\"attributes\":{},\"id\":\"4633\",\"type\":\"Selection\"},{\"attributes\":{\"factors\":[\"'Thriller'\",\"'Sport'\",\"'History'\",\"'Animation'\",\"'Drama'\",\"'Crime'\",\"'Music'\",\"'Biography'\",\"'War'\",\"'Western'\"],\"tags\":[[[\"Genres\",\"Genres\",null]]]},\"id\":\"4601\",\"type\":\"FactorRange\"},{\"attributes\":{\"end\":8.438125,\"reset_end\":8.438125,\"reset_start\":0.0,\"tags\":[[[\"Rating\",\"Rating\",null]]]},\"id\":\"4600\",\"type\":\"Range1d\"},{\"attributes\":{\"children\":[{\"id\":\"4603\"}],\"height\":500,\"margin\":[0,0,0,0],\"name\":\"Row12010\",\"sizing_mode\":\"fixed\",\"tags\":[\"embedded\"],\"width\":1000},\"id\":\"4599\",\"type\":\"Row\"},{\"attributes\":{\"axis_label\":\"Rating\",\"axis_label_text_font_size\":\"12pt\",\"coordinates\":null,\"formatter\":{\"id\":\"4642\"},\"group\":null,\"major_label_policy\":{\"id\":\"4643\"},\"ticker\":{\"id\":\"4613\"}},\"id\":\"4612\",\"type\":\"LinearAxis\"},{\"attributes\":{},\"id\":\"4613\",\"type\":\"BasicTicker\"},{\"attributes\":{\"axis\":{\"id\":\"4612\"},\"coordinates\":null,\"grid_line_color\":null,\"group\":null,\"ticker\":null},\"id\":\"4615\",\"type\":\"Grid\"},{\"attributes\":{\"fill_alpha\":{\"value\":1.0},\"fill_color\":{\"value\":\"goldenrod\"},\"hatch_alpha\":{\"value\":1.0},\"hatch_color\":{\"value\":\"goldenrod\"},\"hatch_scale\":{\"value\":12.0},\"hatch_weight\":{\"value\":1.0},\"height\":{\"value\":0.8},\"left\":{\"value\":0},\"line_alpha\":{\"value\":1.0},\"line_cap\":{\"value\":\"butt\"},\"line_color\":{\"value\":\"black\"},\"line_dash\":{\"value\":[]},\"line_dash_offset\":{\"value\":0},\"line_join\":{\"value\":\"bevel\"},\"line_width\":{\"value\":1},\"right\":{\"field\":\"Rating\"},\"y\":{\"field\":\"Genres\"}},\"id\":\"4640\",\"type\":\"HBar\"},{\"attributes\":{\"below\":[{\"id\":\"4612\"}],\"center\":[{\"id\":\"4615\"},{\"id\":\"4618\"}],\"height\":500,\"left\":[{\"id\":\"4616\"}],\"margin\":[5,5,5,5],\"min_border_bottom\":10,\"min_border_left\":10,\"min_border_right\":10,\"min_border_top\":10,\"renderers\":[{\"id\":\"4638\"}],\"sizing_mode\":\"fixed\",\"title\":{\"id\":\"4604\"},\"toolbar\":{\"id\":\"4625\"},\"width\":1000,\"x_range\":{\"id\":\"4600\"},\"x_scale\":{\"id\":\"4608\"},\"y_range\":{\"id\":\"4601\"},\"y_scale\":{\"id\":\"4610\"}},\"id\":\"4603\",\"subtype\":\"Figure\",\"type\":\"Plot\"},{\"attributes\":{\"source\":{\"id\":\"4632\"}},\"id\":\"4639\",\"type\":\"CDSView\"},{\"attributes\":{\"active_drag\":{\"id\":\"4620\"},\"active_scroll\":{\"id\":\"4621\"},\"tools\":[{\"id\":\"4602\"},{\"id\":\"4619\"},{\"id\":\"4620\"},{\"id\":\"4621\"},{\"id\":\"4622\"},{\"id\":\"4623\"}]},\"id\":\"4625\",\"type\":\"Toolbar\"},{\"attributes\":{},\"id\":\"4646\",\"type\":\"AllLabels\"},{\"attributes\":{\"fill_color\":{\"value\":\"goldenrod\"},\"hatch_color\":{\"value\":\"goldenrod\"},\"height\":{\"value\":0.8},\"right\":{\"field\":\"Rating\"},\"y\":{\"field\":\"Genres\"}},\"id\":\"4635\",\"type\":\"HBar\"},{\"attributes\":{},\"id\":\"4617\",\"type\":\"CategoricalTicker\"},{\"attributes\":{},\"id\":\"4658\",\"type\":\"UnionRenderers\"},{\"attributes\":{},\"id\":\"4642\",\"type\":\"BasicTickFormatter\"},{\"attributes\":{},\"id\":\"4645\",\"type\":\"CategoricalTickFormatter\"},{\"attributes\":{\"coordinates\":null,\"group\":null,\"text\":\"Top 10 Genres Based on Average Ratings\",\"text_color\":\"black\",\"text_font_size\":\"16pt\"},\"id\":\"4604\",\"type\":\"Title\"},{\"attributes\":{},\"id\":\"4621\",\"type\":\"WheelZoomTool\"},{\"attributes\":{\"fill_alpha\":{\"value\":0.1},\"fill_color\":{\"value\":\"goldenrod\"},\"hatch_alpha\":{\"value\":0.1},\"hatch_color\":{\"value\":\"goldenrod\"},\"height\":{\"value\":0.8},\"line_alpha\":{\"value\":0.1},\"right\":{\"field\":\"Rating\"},\"y\":{\"field\":\"Genres\"}},\"id\":\"4636\",\"type\":\"HBar\"},{\"attributes\":{\"callback\":null,\"renderers\":[{\"id\":\"4638\"}],\"tags\":[\"hv_created\"],\"tooltips\":[[\"Genres\",\"@{Genres}\"],[\"Rating\",\"@{Rating}\"]]},\"id\":\"4602\",\"type\":\"HoverTool\"},{\"attributes\":{},\"id\":\"4643\",\"type\":\"AllLabels\"},{\"attributes\":{},\"id\":\"4610\",\"type\":\"CategoricalScale\"},{\"attributes\":{\"axis\":{\"id\":\"4616\"},\"coordinates\":null,\"dimension\":1,\"grid_line_color\":null,\"group\":null,\"ticker\":null},\"id\":\"4618\",\"type\":\"Grid\"},{\"attributes\":{\"overlay\":{\"id\":\"4624\"}},\"id\":\"4622\",\"type\":\"BoxZoomTool\"},{\"attributes\":{\"axis_label\":\"\",\"axis_label_text_font_size\":\"12pt\",\"coordinates\":null,\"formatter\":{\"id\":\"4645\"},\"group\":null,\"group_text_font_size\":\"12pt\",\"major_label_policy\":{\"id\":\"4646\"},\"major_label_text_font_size\":\"12pt\",\"ticker\":{\"id\":\"4617\"}},\"id\":\"4616\",\"type\":\"CategoricalAxis\"},{\"attributes\":{\"coordinates\":null,\"data_source\":{\"id\":\"4632\"},\"glyph\":{\"id\":\"4635\"},\"group\":null,\"hover_glyph\":null,\"muted_glyph\":{\"id\":\"4637\"},\"nonselection_glyph\":{\"id\":\"4636\"},\"selection_glyph\":{\"id\":\"4640\"},\"view\":{\"id\":\"4639\"}},\"id\":\"4638\",\"type\":\"GlyphRenderer\"},{\"attributes\":{\"bottom_units\":\"screen\",\"coordinates\":null,\"fill_alpha\":0.5,\"fill_color\":\"lightgrey\",\"group\":null,\"left_units\":\"screen\",\"level\":\"overlay\",\"line_alpha\":1.0,\"line_color\":\"black\",\"line_dash\":[4,4],\"line_width\":2,\"right_units\":\"screen\",\"syncable\":false,\"top_units\":\"screen\"},\"id\":\"4624\",\"type\":\"BoxAnnotation\"},{\"attributes\":{},\"id\":\"4620\",\"type\":\"PanTool\"},{\"attributes\":{},\"id\":\"4608\",\"type\":\"LinearScale\"},{\"attributes\":{\"fill_alpha\":{\"value\":0.2},\"fill_color\":{\"value\":\"goldenrod\"},\"hatch_alpha\":{\"value\":0.2},\"hatch_color\":{\"value\":\"goldenrod\"},\"height\":{\"value\":0.8},\"line_alpha\":{\"value\":0.2},\"right\":{\"field\":\"Rating\"},\"y\":{\"field\":\"Genres\"}},\"id\":\"4637\",\"type\":\"HBar\"},{\"attributes\":{},\"id\":\"4623\",\"type\":\"ResetTool\"},{\"attributes\":{},\"id\":\"4619\",\"type\":\"SaveTool\"}],\"root_ids\":[\"4599\"]},\"title\":\"Bokeh Application\",\"version\":\"2.4.3\"}};\n",
       "    var render_items = [{\"docid\":\"c69bb7fd-667b-4bff-b5b4-3525679b0302\",\"root_ids\":[\"4599\"],\"roots\":{\"4599\":\"e3221ba6-7b86-43e1-82fb-346f44428a9b\"}}];\n",
       "    root.Bokeh.embed.embed_items_notebook(docs_json, render_items);\n",
       "    for (const render_item of render_items) {\n",
       "      for (const root_id of render_item.root_ids) {\n",
       "\tconst id_el = document.getElementById(root_id)\n",
       "\tif (id_el.children.length && (id_el.children[0].className === 'bk-root')) {\n",
       "\t  const root_el = id_el.children[0]\n",
       "\t  root_el.id = root_el.id + '-rendered'\n",
       "\t}\n",
       "      }\n",
       "    }\n",
       "  }\n",
       "  if (root.Bokeh !== undefined && root.Bokeh.Panel !== undefined) {\n",
       "    embed_document(root);\n",
       "  } else {\n",
       "    var attempts = 0;\n",
       "    var timer = setInterval(function(root) {\n",
       "      if (root.Bokeh !== undefined && root.Bokeh.Panel !== undefined) {\n",
       "        clearInterval(timer);\n",
       "        embed_document(root);\n",
       "      } else if (document.readyState == \"complete\") {\n",
       "        attempts++;\n",
       "        if (attempts > 200) {\n",
       "          clearInterval(timer);\n",
       "          console.log(\"Bokeh: ERROR: Unable to run BokehJS code because BokehJS library is missing\");\n",
       "        }\n",
       "      }\n",
       "    }, 25, root)\n",
       "  }\n",
       "})(window);</script>"
      ],
      "text/plain": [
       ":Bars   [Genres]   (Rating)"
      ]
     },
     "execution_count": 58,
     "metadata": {
      "application/vnd.holoviews_exec.v0+json": {
       "id": "4599"
      }
     },
     "output_type": "execute_result"
    }
   ],
   "source": [
    "# More than half a million user rating to make it more \"accurate\".\n",
    "popular_genres = df_exploded_genres[df_exploded_genres['User Rating'] > 500000].groupby(['Genres'])['Rating'].mean().sort_values(ascending=True).tail(10)\n",
    "\n",
    "popular_genres.hvplot.barh(title='Top 10 Genres Based on Average Ratings', height=500, width=1000, \n",
    "                           color='goldenrod', fontsize={'title':16, 'ylabel':12, 'xlabel':12, 'yticks':12})"
   ]
  },
  {
   "attachments": {},
   "cell_type": "markdown",
   "metadata": {},
   "source": [
    "### Which Director Has Directed the Most Number of Movies? (Top 10)"
   ]
  },
  {
   "cell_type": "code",
   "execution_count": 59,
   "metadata": {},
   "outputs": [
    {
     "data": {},
     "metadata": {},
     "output_type": "display_data"
    },
    {
     "data": {
      "application/vnd.holoviews_exec.v0+json": "",
      "text/html": [
       "<div id='4712'>\n",
       "  <div class=\"bk-root\" id=\"645571f9-9636-4ad1-b6a7-09d64cdf3ffd\" data-root-id=\"4712\"></div>\n",
       "</div>\n",
       "<script type=\"application/javascript\">(function(root) {\n",
       "  function embed_document(root) {\n",
       "    var docs_json = {\"10c86203-2091-4e84-8692-58eafc6a7d23\":{\"defs\":[{\"extends\":null,\"module\":null,\"name\":\"ReactiveHTML1\",\"overrides\":[],\"properties\":[]},{\"extends\":null,\"module\":null,\"name\":\"FlexBox1\",\"overrides\":[],\"properties\":[{\"default\":\"flex-start\",\"kind\":null,\"name\":\"align_content\"},{\"default\":\"flex-start\",\"kind\":null,\"name\":\"align_items\"},{\"default\":\"row\",\"kind\":null,\"name\":\"flex_direction\"},{\"default\":\"wrap\",\"kind\":null,\"name\":\"flex_wrap\"},{\"default\":\"flex-start\",\"kind\":null,\"name\":\"justify_content\"}]},{\"extends\":null,\"module\":null,\"name\":\"GridStack1\",\"overrides\":[],\"properties\":[{\"default\":\"warn\",\"kind\":null,\"name\":\"mode\"},{\"default\":null,\"kind\":null,\"name\":\"ncols\"},{\"default\":null,\"kind\":null,\"name\":\"nrows\"},{\"default\":true,\"kind\":null,\"name\":\"allow_resize\"},{\"default\":true,\"kind\":null,\"name\":\"allow_drag\"},{\"default\":[],\"kind\":null,\"name\":\"state\"}]},{\"extends\":null,\"module\":null,\"name\":\"click1\",\"overrides\":[],\"properties\":[{\"default\":\"\",\"kind\":null,\"name\":\"terminal_output\"},{\"default\":\"\",\"kind\":null,\"name\":\"debug_name\"},{\"default\":0,\"kind\":null,\"name\":\"clears\"}]},{\"extends\":null,\"module\":null,\"name\":\"NotificationAreaBase1\",\"overrides\":[],\"properties\":[{\"default\":\"bottom-right\",\"kind\":null,\"name\":\"position\"},{\"default\":0,\"kind\":null,\"name\":\"_clear\"}]},{\"extends\":null,\"module\":null,\"name\":\"NotificationArea1\",\"overrides\":[],\"properties\":[{\"default\":[],\"kind\":null,\"name\":\"notifications\"},{\"default\":\"bottom-right\",\"kind\":null,\"name\":\"position\"},{\"default\":0,\"kind\":null,\"name\":\"_clear\"},{\"default\":[{\"background\":\"#ffc107\",\"icon\":{\"className\":\"fas fa-exclamation-triangle\",\"color\":\"white\",\"tagName\":\"i\"},\"type\":\"warning\"},{\"background\":\"#007bff\",\"icon\":{\"className\":\"fas fa-info-circle\",\"color\":\"white\",\"tagName\":\"i\"},\"type\":\"info\"}],\"kind\":null,\"name\":\"types\"}]},{\"extends\":null,\"module\":null,\"name\":\"Notification\",\"overrides\":[],\"properties\":[{\"default\":null,\"kind\":null,\"name\":\"background\"},{\"default\":3000,\"kind\":null,\"name\":\"duration\"},{\"default\":null,\"kind\":null,\"name\":\"icon\"},{\"default\":\"\",\"kind\":null,\"name\":\"message\"},{\"default\":null,\"kind\":null,\"name\":\"notification_type\"},{\"default\":false,\"kind\":null,\"name\":\"_destroyed\"}]},{\"extends\":null,\"module\":null,\"name\":\"TemplateActions1\",\"overrides\":[],\"properties\":[{\"default\":0,\"kind\":null,\"name\":\"open_modal\"},{\"default\":0,\"kind\":null,\"name\":\"close_modal\"}]},{\"extends\":null,\"module\":null,\"name\":\"MaterialTemplateActions1\",\"overrides\":[],\"properties\":[{\"default\":0,\"kind\":null,\"name\":\"open_modal\"},{\"default\":0,\"kind\":null,\"name\":\"close_modal\"}]}],\"roots\":{\"references\":[{\"attributes\":{\"data\":{\"Director\":[\"Roger Corman\",\"John Huston\",\"Ron Howard\",\"Steven Soderbergh\",\"Ridley Scott\",\"John Ford\",\"Steven Spielberg\",\"Alfred Hitchcock\",\"Clint Eastwood\",\"Woody Allen\"],\"Movie_Title\":[24,26,26,26,26,27,30,36,39,45]},\"selected\":{\"id\":\"4746\"},\"selection_policy\":{\"id\":\"4771\"}},\"id\":\"4745\",\"type\":\"ColumnDataSource\"},{\"attributes\":{\"fill_alpha\":{\"value\":0.2},\"fill_color\":{\"value\":\"goldenrod\"},\"hatch_alpha\":{\"value\":0.2},\"hatch_color\":{\"value\":\"goldenrod\"},\"height\":{\"value\":0.8},\"line_alpha\":{\"value\":0.2},\"right\":{\"field\":\"Movie_Title\"},\"y\":{\"field\":\"Director\"}},\"id\":\"4750\",\"type\":\"HBar\"},{\"attributes\":{},\"id\":\"4721\",\"type\":\"LinearScale\"},{\"attributes\":{\"coordinates\":null,\"data_source\":{\"id\":\"4745\"},\"glyph\":{\"id\":\"4748\"},\"group\":null,\"hover_glyph\":null,\"muted_glyph\":{\"id\":\"4750\"},\"nonselection_glyph\":{\"id\":\"4749\"},\"selection_glyph\":{\"id\":\"4753\"},\"view\":{\"id\":\"4752\"}},\"id\":\"4751\",\"type\":\"GlyphRenderer\"},{\"attributes\":{\"source\":{\"id\":\"4745\"}},\"id\":\"4752\",\"type\":\"CDSView\"},{\"attributes\":{\"below\":[{\"id\":\"4725\"}],\"center\":[{\"id\":\"4728\"},{\"id\":\"4731\"}],\"height\":500,\"left\":[{\"id\":\"4729\"}],\"margin\":[5,5,5,5],\"min_border_bottom\":10,\"min_border_left\":10,\"min_border_right\":10,\"min_border_top\":10,\"renderers\":[{\"id\":\"4751\"}],\"sizing_mode\":\"fixed\",\"title\":{\"id\":\"4717\"},\"toolbar\":{\"id\":\"4738\"},\"width\":1000,\"x_range\":{\"id\":\"4713\"},\"x_scale\":{\"id\":\"4721\"},\"y_range\":{\"id\":\"4714\"},\"y_scale\":{\"id\":\"4723\"}},\"id\":\"4716\",\"subtype\":\"Figure\",\"type\":\"Plot\"},{\"attributes\":{},\"id\":\"4723\",\"type\":\"CategoricalScale\"},{\"attributes\":{\"fill_alpha\":{\"value\":0.1},\"fill_color\":{\"value\":\"goldenrod\"},\"hatch_alpha\":{\"value\":0.1},\"hatch_color\":{\"value\":\"goldenrod\"},\"height\":{\"value\":0.8},\"line_alpha\":{\"value\":0.1},\"right\":{\"field\":\"Movie_Title\"},\"y\":{\"field\":\"Director\"}},\"id\":\"4749\",\"type\":\"HBar\"},{\"attributes\":{\"callback\":null,\"renderers\":[{\"id\":\"4751\"}],\"tags\":[\"hv_created\"],\"tooltips\":[[\"Director\",\"@{Director}\"],[\"Movie Title\",\"@{Movie_Title}\"]]},\"id\":\"4715\",\"type\":\"HoverTool\"},{\"attributes\":{\"children\":[{\"id\":\"4716\"}],\"height\":500,\"margin\":[0,0,0,0],\"name\":\"Row12133\",\"sizing_mode\":\"fixed\",\"tags\":[\"embedded\"],\"width\":1000},\"id\":\"4712\",\"type\":\"Row\"},{\"attributes\":{},\"id\":\"4755\",\"type\":\"BasicTickFormatter\"},{\"attributes\":{\"coordinates\":null,\"group\":null,\"text\":\"Top 10 Directors Based on the Number of Movies Directed\",\"text_color\":\"black\",\"text_font_size\":\"16pt\"},\"id\":\"4717\",\"type\":\"Title\"},{\"attributes\":{\"fill_color\":{\"value\":\"goldenrod\"},\"hatch_color\":{\"value\":\"goldenrod\"},\"height\":{\"value\":0.8},\"right\":{\"field\":\"Movie_Title\"},\"y\":{\"field\":\"Director\"}},\"id\":\"4748\",\"type\":\"HBar\"},{\"attributes\":{},\"id\":\"4758\",\"type\":\"CategoricalTickFormatter\"},{\"attributes\":{\"axis_label\":\"Number of Movies\",\"axis_label_text_font_size\":\"12pt\",\"coordinates\":null,\"formatter\":{\"id\":\"4755\"},\"group\":null,\"major_label_policy\":{\"id\":\"4756\"},\"ticker\":{\"id\":\"4726\"}},\"id\":\"4725\",\"type\":\"LinearAxis\"},{\"attributes\":{},\"id\":\"4733\",\"type\":\"PanTool\"},{\"attributes\":{\"axis\":{\"id\":\"4725\"},\"coordinates\":null,\"grid_line_color\":null,\"group\":null,\"ticker\":null},\"id\":\"4728\",\"type\":\"Grid\"},{\"attributes\":{},\"id\":\"4726\",\"type\":\"BasicTicker\"},{\"attributes\":{},\"id\":\"4734\",\"type\":\"WheelZoomTool\"},{\"attributes\":{},\"id\":\"4771\",\"type\":\"UnionRenderers\"},{\"attributes\":{\"axis_label\":\"Name of Director\",\"axis_label_text_font_size\":\"12pt\",\"coordinates\":null,\"formatter\":{\"id\":\"4758\"},\"group\":null,\"group_text_font_size\":\"12pt\",\"major_label_policy\":{\"id\":\"4759\"},\"major_label_text_font_size\":\"12pt\",\"ticker\":{\"id\":\"4730\"}},\"id\":\"4729\",\"type\":\"CategoricalAxis\"},{\"attributes\":{\"axis\":{\"id\":\"4729\"},\"coordinates\":null,\"dimension\":1,\"grid_line_color\":null,\"group\":null,\"ticker\":null},\"id\":\"4731\",\"type\":\"Grid\"},{\"attributes\":{},\"id\":\"4730\",\"type\":\"CategoricalTicker\"},{\"attributes\":{},\"id\":\"4746\",\"type\":\"Selection\"},{\"attributes\":{\"factors\":[\"Roger Corman\",\"John Huston\",\"Ron Howard\",\"Steven Soderbergh\",\"Ridley Scott\",\"John Ford\",\"Steven Spielberg\",\"Alfred Hitchcock\",\"Clint Eastwood\",\"Woody Allen\"],\"tags\":[[[\"Director\",\"Director\",null]]]},\"id\":\"4714\",\"type\":\"FactorRange\"},{\"attributes\":{},\"id\":\"4732\",\"type\":\"SaveTool\"},{\"attributes\":{\"overlay\":{\"id\":\"4737\"}},\"id\":\"4735\",\"type\":\"BoxZoomTool\"},{\"attributes\":{},\"id\":\"4736\",\"type\":\"ResetTool\"},{\"attributes\":{\"bottom_units\":\"screen\",\"coordinates\":null,\"fill_alpha\":0.5,\"fill_color\":\"lightgrey\",\"group\":null,\"left_units\":\"screen\",\"level\":\"overlay\",\"line_alpha\":1.0,\"line_color\":\"black\",\"line_dash\":[4,4],\"line_width\":2,\"right_units\":\"screen\",\"syncable\":false,\"top_units\":\"screen\"},\"id\":\"4737\",\"type\":\"BoxAnnotation\"},{\"attributes\":{\"fill_alpha\":{\"value\":1.0},\"fill_color\":{\"value\":\"goldenrod\"},\"hatch_alpha\":{\"value\":1.0},\"hatch_color\":{\"value\":\"goldenrod\"},\"hatch_scale\":{\"value\":12.0},\"hatch_weight\":{\"value\":1.0},\"height\":{\"value\":0.8},\"left\":{\"value\":0},\"line_alpha\":{\"value\":1.0},\"line_cap\":{\"value\":\"butt\"},\"line_color\":{\"value\":\"black\"},\"line_dash\":{\"value\":[]},\"line_dash_offset\":{\"value\":0},\"line_join\":{\"value\":\"bevel\"},\"line_width\":{\"value\":1},\"right\":{\"field\":\"Movie_Title\"},\"y\":{\"field\":\"Director\"}},\"id\":\"4753\",\"type\":\"HBar\"},{\"attributes\":{\"end\":47.1,\"reset_end\":47.1,\"reset_start\":0.0,\"tags\":[[[\"Movie Title\",\"Movie Title\",null]]]},\"id\":\"4713\",\"type\":\"Range1d\"},{\"attributes\":{},\"id\":\"4756\",\"type\":\"AllLabels\"},{\"attributes\":{\"active_drag\":{\"id\":\"4733\"},\"active_scroll\":{\"id\":\"4734\"},\"tools\":[{\"id\":\"4715\"},{\"id\":\"4732\"},{\"id\":\"4733\"},{\"id\":\"4734\"},{\"id\":\"4735\"},{\"id\":\"4736\"}]},\"id\":\"4738\",\"type\":\"Toolbar\"},{\"attributes\":{},\"id\":\"4759\",\"type\":\"AllLabels\"}],\"root_ids\":[\"4712\"]},\"title\":\"Bokeh Application\",\"version\":\"2.4.3\"}};\n",
       "    var render_items = [{\"docid\":\"10c86203-2091-4e84-8692-58eafc6a7d23\",\"root_ids\":[\"4712\"],\"roots\":{\"4712\":\"645571f9-9636-4ad1-b6a7-09d64cdf3ffd\"}}];\n",
       "    root.Bokeh.embed.embed_items_notebook(docs_json, render_items);\n",
       "    for (const render_item of render_items) {\n",
       "      for (const root_id of render_item.root_ids) {\n",
       "\tconst id_el = document.getElementById(root_id)\n",
       "\tif (id_el.children.length && (id_el.children[0].className === 'bk-root')) {\n",
       "\t  const root_el = id_el.children[0]\n",
       "\t  root_el.id = root_el.id + '-rendered'\n",
       "\t}\n",
       "      }\n",
       "    }\n",
       "  }\n",
       "  if (root.Bokeh !== undefined && root.Bokeh.Panel !== undefined) {\n",
       "    embed_document(root);\n",
       "  } else {\n",
       "    var attempts = 0;\n",
       "    var timer = setInterval(function(root) {\n",
       "      if (root.Bokeh !== undefined && root.Bokeh.Panel !== undefined) {\n",
       "        clearInterval(timer);\n",
       "        embed_document(root);\n",
       "      } else if (document.readyState == \"complete\") {\n",
       "        attempts++;\n",
       "        if (attempts > 200) {\n",
       "          clearInterval(timer);\n",
       "          console.log(\"Bokeh: ERROR: Unable to run BokehJS code because BokehJS library is missing\");\n",
       "        }\n",
       "      }\n",
       "    }, 25, root)\n",
       "  }\n",
       "})(window);</script>"
      ],
      "text/plain": [
       ":Bars   [Director]   (Movie Title)"
      ]
     },
     "execution_count": 59,
     "metadata": {
      "application/vnd.holoviews_exec.v0+json": {
       "id": "4712"
      }
     },
     "output_type": "execute_result"
    }
   ],
   "source": [
    "director = df.groupby(['Director'])['Movie Title'].count().sort_values(ascending=True).tail(10)\n",
    "\n",
    "director.hvplot.barh(title='Top 10 Directors Based on the Number of Movies Directed',\n",
    "                     ylabel='Number of Movies',xlabel='Name of Director', color='goldenrod',\n",
    "                     height=500, width=1000, fontsize={'title':16, 'ylabel':12, 'xlabel':12, 'yticks':12})"
   ]
  },
  {
   "attachments": {},
   "cell_type": "markdown",
   "metadata": {},
   "source": [
    "### Which Director Has The Highest Rating on The Films That They Have Produced?"
   ]
  },
  {
   "cell_type": "code",
   "execution_count": 60,
   "metadata": {},
   "outputs": [
    {
     "data": {},
     "metadata": {},
     "output_type": "display_data"
    },
    {
     "data": {
      "application/vnd.holoviews_exec.v0+json": "",
      "text/html": [
       "<div id='4825'>\n",
       "  <div class=\"bk-root\" id=\"4e51b671-203d-4112-b800-5b31687f25b5\" data-root-id=\"4825\"></div>\n",
       "</div>\n",
       "<script type=\"application/javascript\">(function(root) {\n",
       "  function embed_document(root) {\n",
       "    var docs_json = {\"6be04a66-e243-4d91-b9ad-bde79076fb9d\":{\"defs\":[{\"extends\":null,\"module\":null,\"name\":\"ReactiveHTML1\",\"overrides\":[],\"properties\":[]},{\"extends\":null,\"module\":null,\"name\":\"FlexBox1\",\"overrides\":[],\"properties\":[{\"default\":\"flex-start\",\"kind\":null,\"name\":\"align_content\"},{\"default\":\"flex-start\",\"kind\":null,\"name\":\"align_items\"},{\"default\":\"row\",\"kind\":null,\"name\":\"flex_direction\"},{\"default\":\"wrap\",\"kind\":null,\"name\":\"flex_wrap\"},{\"default\":\"flex-start\",\"kind\":null,\"name\":\"justify_content\"}]},{\"extends\":null,\"module\":null,\"name\":\"GridStack1\",\"overrides\":[],\"properties\":[{\"default\":\"warn\",\"kind\":null,\"name\":\"mode\"},{\"default\":null,\"kind\":null,\"name\":\"ncols\"},{\"default\":null,\"kind\":null,\"name\":\"nrows\"},{\"default\":true,\"kind\":null,\"name\":\"allow_resize\"},{\"default\":true,\"kind\":null,\"name\":\"allow_drag\"},{\"default\":[],\"kind\":null,\"name\":\"state\"}]},{\"extends\":null,\"module\":null,\"name\":\"click1\",\"overrides\":[],\"properties\":[{\"default\":\"\",\"kind\":null,\"name\":\"terminal_output\"},{\"default\":\"\",\"kind\":null,\"name\":\"debug_name\"},{\"default\":0,\"kind\":null,\"name\":\"clears\"}]},{\"extends\":null,\"module\":null,\"name\":\"NotificationAreaBase1\",\"overrides\":[],\"properties\":[{\"default\":\"bottom-right\",\"kind\":null,\"name\":\"position\"},{\"default\":0,\"kind\":null,\"name\":\"_clear\"}]},{\"extends\":null,\"module\":null,\"name\":\"NotificationArea1\",\"overrides\":[],\"properties\":[{\"default\":[],\"kind\":null,\"name\":\"notifications\"},{\"default\":\"bottom-right\",\"kind\":null,\"name\":\"position\"},{\"default\":0,\"kind\":null,\"name\":\"_clear\"},{\"default\":[{\"background\":\"#ffc107\",\"icon\":{\"className\":\"fas fa-exclamation-triangle\",\"color\":\"white\",\"tagName\":\"i\"},\"type\":\"warning\"},{\"background\":\"#007bff\",\"icon\":{\"className\":\"fas fa-info-circle\",\"color\":\"white\",\"tagName\":\"i\"},\"type\":\"info\"}],\"kind\":null,\"name\":\"types\"}]},{\"extends\":null,\"module\":null,\"name\":\"Notification\",\"overrides\":[],\"properties\":[{\"default\":null,\"kind\":null,\"name\":\"background\"},{\"default\":3000,\"kind\":null,\"name\":\"duration\"},{\"default\":null,\"kind\":null,\"name\":\"icon\"},{\"default\":\"\",\"kind\":null,\"name\":\"message\"},{\"default\":null,\"kind\":null,\"name\":\"notification_type\"},{\"default\":false,\"kind\":null,\"name\":\"_destroyed\"}]},{\"extends\":null,\"module\":null,\"name\":\"TemplateActions1\",\"overrides\":[],\"properties\":[{\"default\":0,\"kind\":null,\"name\":\"open_modal\"},{\"default\":0,\"kind\":null,\"name\":\"close_modal\"}]},{\"extends\":null,\"module\":null,\"name\":\"MaterialTemplateActions1\",\"overrides\":[],\"properties\":[{\"default\":0,\"kind\":null,\"name\":\"open_modal\"},{\"default\":0,\"kind\":null,\"name\":\"close_modal\"}]}],\"roots\":{\"references\":[{\"attributes\":{\"fill_color\":{\"value\":\"goldenrod\"},\"hatch_color\":{\"value\":\"goldenrod\"},\"height\":{\"value\":0.8},\"right\":{\"field\":\"Rating\"},\"y\":{\"field\":\"Director\"}},\"id\":\"4861\",\"type\":\"HBar\"},{\"attributes\":{},\"id\":\"4871\",\"type\":\"CategoricalTickFormatter\"},{\"attributes\":{\"axis_label\":\"Rating\",\"axis_label_text_font_size\":\"12pt\",\"coordinates\":null,\"formatter\":{\"id\":\"4868\"},\"group\":null,\"major_label_policy\":{\"id\":\"4869\"},\"ticker\":{\"id\":\"4839\"}},\"id\":\"4838\",\"type\":\"LinearAxis\"},{\"attributes\":{},\"id\":\"4846\",\"type\":\"PanTool\"},{\"attributes\":{\"axis\":{\"id\":\"4838\"},\"coordinates\":null,\"grid_line_color\":null,\"group\":null,\"ticker\":null},\"id\":\"4841\",\"type\":\"Grid\"},{\"attributes\":{},\"id\":\"4839\",\"type\":\"BasicTicker\"},{\"attributes\":{},\"id\":\"4847\",\"type\":\"WheelZoomTool\"},{\"attributes\":{\"axis_label\":\"\",\"axis_label_text_font_size\":\"12pt\",\"coordinates\":null,\"formatter\":{\"id\":\"4871\"},\"group\":null,\"group_text_font_size\":\"12pt\",\"major_label_policy\":{\"id\":\"4872\"},\"major_label_text_font_size\":\"12pt\",\"ticker\":{\"id\":\"4843\"}},\"id\":\"4842\",\"type\":\"CategoricalAxis\"},{\"attributes\":{\"axis\":{\"id\":\"4842\"},\"coordinates\":null,\"dimension\":1,\"grid_line_color\":null,\"group\":null,\"ticker\":null},\"id\":\"4844\",\"type\":\"Grid\"},{\"attributes\":{},\"id\":\"4884\",\"type\":\"UnionRenderers\"},{\"attributes\":{},\"id\":\"4843\",\"type\":\"CategoricalTicker\"},{\"attributes\":{},\"id\":\"4859\",\"type\":\"Selection\"},{\"attributes\":{\"factors\":[\"David Fincher\",\"Robert Zemeckis\",\"Christopher Nolan\",\"Quentin Tarantino\",\"Frank Darabont\"],\"tags\":[[[\"Director\",\"Director\",null]]]},\"id\":\"4827\",\"type\":\"FactorRange\"},{\"attributes\":{},\"id\":\"4845\",\"type\":\"SaveTool\"},{\"attributes\":{\"overlay\":{\"id\":\"4850\"}},\"id\":\"4848\",\"type\":\"BoxZoomTool\"},{\"attributes\":{},\"id\":\"4849\",\"type\":\"ResetTool\"},{\"attributes\":{\"bottom_units\":\"screen\",\"coordinates\":null,\"fill_alpha\":0.5,\"fill_color\":\"lightgrey\",\"group\":null,\"left_units\":\"screen\",\"level\":\"overlay\",\"line_alpha\":1.0,\"line_color\":\"black\",\"line_dash\":[4,4],\"line_width\":2,\"right_units\":\"screen\",\"syncable\":false,\"top_units\":\"screen\"},\"id\":\"4850\",\"type\":\"BoxAnnotation\"},{\"attributes\":{\"fill_alpha\":{\"value\":1.0},\"fill_color\":{\"value\":\"goldenrod\"},\"hatch_alpha\":{\"value\":1.0},\"hatch_color\":{\"value\":\"goldenrod\"},\"hatch_scale\":{\"value\":12.0},\"hatch_weight\":{\"value\":1.0},\"height\":{\"value\":0.8},\"left\":{\"value\":0},\"line_alpha\":{\"value\":1.0},\"line_cap\":{\"value\":\"butt\"},\"line_color\":{\"value\":\"black\"},\"line_dash\":{\"value\":[]},\"line_dash_offset\":{\"value\":0},\"line_join\":{\"value\":\"bevel\"},\"line_width\":{\"value\":1},\"right\":{\"field\":\"Rating\"},\"y\":{\"field\":\"Director\"}},\"id\":\"4866\",\"type\":\"HBar\"},{\"attributes\":{\"end\":9.350000000000001,\"reset_end\":9.350000000000001,\"reset_start\":0.0,\"tags\":[[[\"Rating\",\"Rating\",null]]]},\"id\":\"4826\",\"type\":\"Range1d\"},{\"attributes\":{},\"id\":\"4869\",\"type\":\"AllLabels\"},{\"attributes\":{\"active_drag\":{\"id\":\"4846\"},\"active_scroll\":{\"id\":\"4847\"},\"tools\":[{\"id\":\"4828\"},{\"id\":\"4845\"},{\"id\":\"4846\"},{\"id\":\"4847\"},{\"id\":\"4848\"},{\"id\":\"4849\"}]},\"id\":\"4851\",\"type\":\"Toolbar\"},{\"attributes\":{},\"id\":\"4872\",\"type\":\"AllLabels\"},{\"attributes\":{\"data\":{\"Director\":[\"David Fincher\",\"Robert Zemeckis\",\"Christopher Nolan\",\"Quentin Tarantino\",\"Frank Darabont\"],\"Rating\":{\"__ndarray__\":\"mpmZmZmZIUCamZmZmZkhQM3MzMzMzCFAzczMzMzMIUCamZmZmZkiQA==\",\"dtype\":\"float64\",\"order\":\"little\",\"shape\":[5]}},\"selected\":{\"id\":\"4859\"},\"selection_policy\":{\"id\":\"4884\"}},\"id\":\"4858\",\"type\":\"ColumnDataSource\"},{\"attributes\":{\"fill_alpha\":{\"value\":0.2},\"fill_color\":{\"value\":\"goldenrod\"},\"hatch_alpha\":{\"value\":0.2},\"hatch_color\":{\"value\":\"goldenrod\"},\"height\":{\"value\":0.8},\"line_alpha\":{\"value\":0.2},\"right\":{\"field\":\"Rating\"},\"y\":{\"field\":\"Director\"}},\"id\":\"4863\",\"type\":\"HBar\"},{\"attributes\":{},\"id\":\"4834\",\"type\":\"LinearScale\"},{\"attributes\":{\"coordinates\":null,\"data_source\":{\"id\":\"4858\"},\"glyph\":{\"id\":\"4861\"},\"group\":null,\"hover_glyph\":null,\"muted_glyph\":{\"id\":\"4863\"},\"nonselection_glyph\":{\"id\":\"4862\"},\"selection_glyph\":{\"id\":\"4866\"},\"view\":{\"id\":\"4865\"}},\"id\":\"4864\",\"type\":\"GlyphRenderer\"},{\"attributes\":{\"source\":{\"id\":\"4858\"}},\"id\":\"4865\",\"type\":\"CDSView\"},{\"attributes\":{\"below\":[{\"id\":\"4838\"}],\"center\":[{\"id\":\"4841\"},{\"id\":\"4844\"}],\"height\":500,\"left\":[{\"id\":\"4842\"}],\"margin\":[5,5,5,5],\"min_border_bottom\":10,\"min_border_left\":10,\"min_border_right\":10,\"min_border_top\":10,\"renderers\":[{\"id\":\"4864\"}],\"sizing_mode\":\"fixed\",\"title\":{\"id\":\"4830\"},\"toolbar\":{\"id\":\"4851\"},\"width\":1000,\"x_range\":{\"id\":\"4826\"},\"x_scale\":{\"id\":\"4834\"},\"y_range\":{\"id\":\"4827\"},\"y_scale\":{\"id\":\"4836\"}},\"id\":\"4829\",\"subtype\":\"Figure\",\"type\":\"Plot\"},{\"attributes\":{},\"id\":\"4836\",\"type\":\"CategoricalScale\"},{\"attributes\":{\"fill_alpha\":{\"value\":0.1},\"fill_color\":{\"value\":\"goldenrod\"},\"hatch_alpha\":{\"value\":0.1},\"hatch_color\":{\"value\":\"goldenrod\"},\"height\":{\"value\":0.8},\"line_alpha\":{\"value\":0.1},\"right\":{\"field\":\"Rating\"},\"y\":{\"field\":\"Director\"}},\"id\":\"4862\",\"type\":\"HBar\"},{\"attributes\":{\"callback\":null,\"renderers\":[{\"id\":\"4864\"}],\"tags\":[\"hv_created\"],\"tooltips\":[[\"Director\",\"@{Director}\"],[\"Rating\",\"@{Rating}\"]]},\"id\":\"4828\",\"type\":\"HoverTool\"},{\"attributes\":{\"children\":[{\"id\":\"4829\"}],\"height\":500,\"margin\":[0,0,0,0],\"name\":\"Row12256\",\"sizing_mode\":\"fixed\",\"tags\":[\"embedded\"],\"width\":1000},\"id\":\"4825\",\"type\":\"Row\"},{\"attributes\":{},\"id\":\"4868\",\"type\":\"BasicTickFormatter\"},{\"attributes\":{\"coordinates\":null,\"group\":null,\"text\":\"Top Directors with Highest Average Rating on Their Films (1M+ Ratings)\",\"text_color\":\"black\",\"text_font_size\":\"16pt\"},\"id\":\"4830\",\"type\":\"Title\"}],\"root_ids\":[\"4825\"]},\"title\":\"Bokeh Application\",\"version\":\"2.4.3\"}};\n",
       "    var render_items = [{\"docid\":\"6be04a66-e243-4d91-b9ad-bde79076fb9d\",\"root_ids\":[\"4825\"],\"roots\":{\"4825\":\"4e51b671-203d-4112-b800-5b31687f25b5\"}}];\n",
       "    root.Bokeh.embed.embed_items_notebook(docs_json, render_items);\n",
       "    for (const render_item of render_items) {\n",
       "      for (const root_id of render_item.root_ids) {\n",
       "\tconst id_el = document.getElementById(root_id)\n",
       "\tif (id_el.children.length && (id_el.children[0].className === 'bk-root')) {\n",
       "\t  const root_el = id_el.children[0]\n",
       "\t  root_el.id = root_el.id + '-rendered'\n",
       "\t}\n",
       "      }\n",
       "    }\n",
       "  }\n",
       "  if (root.Bokeh !== undefined && root.Bokeh.Panel !== undefined) {\n",
       "    embed_document(root);\n",
       "  } else {\n",
       "    var attempts = 0;\n",
       "    var timer = setInterval(function(root) {\n",
       "      if (root.Bokeh !== undefined && root.Bokeh.Panel !== undefined) {\n",
       "        clearInterval(timer);\n",
       "        embed_document(root);\n",
       "      } else if (document.readyState == \"complete\") {\n",
       "        attempts++;\n",
       "        if (attempts > 200) {\n",
       "          clearInterval(timer);\n",
       "          console.log(\"Bokeh: ERROR: Unable to run BokehJS code because BokehJS library is missing\");\n",
       "        }\n",
       "      }\n",
       "    }, 25, root)\n",
       "  }\n",
       "})(window);</script>"
      ],
      "text/plain": [
       ":Bars   [Director]   (Rating)"
      ]
     },
     "execution_count": 60,
     "metadata": {
      "application/vnd.holoviews_exec.v0+json": {
       "id": "4825"
      }
     },
     "output_type": "execute_result"
    }
   ],
   "source": [
    "# We will be filtering the data frame to only include films that has over 1 Million reviews in order to ensure the quality of the films.\n",
    "director = df[df['User Rating']>1000000].groupby(['Director'])['Rating'].mean().sort_values(ascending=True).dropna()\n",
    "\n",
    "director.hvplot.barh(title='Top Directors with Highest Average Rating on Their Films (1M+ Ratings)', color='goldenrod',\n",
    "                     height=500, width=1000, fontsize={'title':16, 'ylabel':12, 'xlabel':12, 'yticks':12})"
   ]
  },
  {
   "attachments": {},
   "cell_type": "markdown",
   "metadata": {},
   "source": [
    "### Which Writers Has Most Number of Writing Credits? (Top 10)"
   ]
  },
  {
   "cell_type": "code",
   "execution_count": 61,
   "metadata": {},
   "outputs": [
    {
     "data": {},
     "metadata": {},
     "output_type": "display_data"
    },
    {
     "data": {
      "application/vnd.holoviews_exec.v0+json": "",
      "text/html": [
       "<div id='4938'>\n",
       "  <div class=\"bk-root\" id=\"8473f7ec-8fc0-46d6-9185-aae42ca6b1a4\" data-root-id=\"4938\"></div>\n",
       "</div>\n",
       "<script type=\"application/javascript\">(function(root) {\n",
       "  function embed_document(root) {\n",
       "    var docs_json = {\"392bba53-9fb8-426a-8ba4-d29a20be6843\":{\"defs\":[{\"extends\":null,\"module\":null,\"name\":\"ReactiveHTML1\",\"overrides\":[],\"properties\":[]},{\"extends\":null,\"module\":null,\"name\":\"FlexBox1\",\"overrides\":[],\"properties\":[{\"default\":\"flex-start\",\"kind\":null,\"name\":\"align_content\"},{\"default\":\"flex-start\",\"kind\":null,\"name\":\"align_items\"},{\"default\":\"row\",\"kind\":null,\"name\":\"flex_direction\"},{\"default\":\"wrap\",\"kind\":null,\"name\":\"flex_wrap\"},{\"default\":\"flex-start\",\"kind\":null,\"name\":\"justify_content\"}]},{\"extends\":null,\"module\":null,\"name\":\"GridStack1\",\"overrides\":[],\"properties\":[{\"default\":\"warn\",\"kind\":null,\"name\":\"mode\"},{\"default\":null,\"kind\":null,\"name\":\"ncols\"},{\"default\":null,\"kind\":null,\"name\":\"nrows\"},{\"default\":true,\"kind\":null,\"name\":\"allow_resize\"},{\"default\":true,\"kind\":null,\"name\":\"allow_drag\"},{\"default\":[],\"kind\":null,\"name\":\"state\"}]},{\"extends\":null,\"module\":null,\"name\":\"click1\",\"overrides\":[],\"properties\":[{\"default\":\"\",\"kind\":null,\"name\":\"terminal_output\"},{\"default\":\"\",\"kind\":null,\"name\":\"debug_name\"},{\"default\":0,\"kind\":null,\"name\":\"clears\"}]},{\"extends\":null,\"module\":null,\"name\":\"NotificationAreaBase1\",\"overrides\":[],\"properties\":[{\"default\":\"bottom-right\",\"kind\":null,\"name\":\"position\"},{\"default\":0,\"kind\":null,\"name\":\"_clear\"}]},{\"extends\":null,\"module\":null,\"name\":\"NotificationArea1\",\"overrides\":[],\"properties\":[{\"default\":[],\"kind\":null,\"name\":\"notifications\"},{\"default\":\"bottom-right\",\"kind\":null,\"name\":\"position\"},{\"default\":0,\"kind\":null,\"name\":\"_clear\"},{\"default\":[{\"background\":\"#ffc107\",\"icon\":{\"className\":\"fas fa-exclamation-triangle\",\"color\":\"white\",\"tagName\":\"i\"},\"type\":\"warning\"},{\"background\":\"#007bff\",\"icon\":{\"className\":\"fas fa-info-circle\",\"color\":\"white\",\"tagName\":\"i\"},\"type\":\"info\"}],\"kind\":null,\"name\":\"types\"}]},{\"extends\":null,\"module\":null,\"name\":\"Notification\",\"overrides\":[],\"properties\":[{\"default\":null,\"kind\":null,\"name\":\"background\"},{\"default\":3000,\"kind\":null,\"name\":\"duration\"},{\"default\":null,\"kind\":null,\"name\":\"icon\"},{\"default\":\"\",\"kind\":null,\"name\":\"message\"},{\"default\":null,\"kind\":null,\"name\":\"notification_type\"},{\"default\":false,\"kind\":null,\"name\":\"_destroyed\"}]},{\"extends\":null,\"module\":null,\"name\":\"TemplateActions1\",\"overrides\":[],\"properties\":[{\"default\":0,\"kind\":null,\"name\":\"open_modal\"},{\"default\":0,\"kind\":null,\"name\":\"close_modal\"}]},{\"extends\":null,\"module\":null,\"name\":\"MaterialTemplateActions1\",\"overrides\":[],\"properties\":[{\"default\":0,\"kind\":null,\"name\":\"open_modal\"},{\"default\":0,\"kind\":null,\"name\":\"close_modal\"}]}],\"roots\":{\"references\":[{\"attributes\":{\"coordinates\":null,\"data_source\":{\"id\":\"4971\"},\"glyph\":{\"id\":\"4974\"},\"group\":null,\"hover_glyph\":null,\"muted_glyph\":{\"id\":\"4976\"},\"nonselection_glyph\":{\"id\":\"4975\"},\"selection_glyph\":{\"id\":\"4979\"},\"view\":{\"id\":\"4978\"}},\"id\":\"4977\",\"type\":\"GlyphRenderer\"},{\"attributes\":{},\"id\":\"4952\",\"type\":\"BasicTicker\"},{\"attributes\":{},\"id\":\"4960\",\"type\":\"WheelZoomTool\"},{\"attributes\":{\"axis_label\":\"Name of Writer\",\"axis_label_text_font_size\":\"12pt\",\"coordinates\":null,\"formatter\":{\"id\":\"4984\"},\"group\":null,\"group_text_font_size\":\"12pt\",\"major_label_policy\":{\"id\":\"4985\"},\"major_label_text_font_size\":\"12pt\",\"ticker\":{\"id\":\"4956\"}},\"id\":\"4955\",\"type\":\"CategoricalAxis\"},{\"attributes\":{},\"id\":\"4984\",\"type\":\"CategoricalTickFormatter\"},{\"attributes\":{\"axis\":{\"id\":\"4955\"},\"coordinates\":null,\"dimension\":1,\"grid_line_color\":null,\"group\":null,\"ticker\":null},\"id\":\"4957\",\"type\":\"Grid\"},{\"attributes\":{},\"id\":\"4985\",\"type\":\"AllLabels\"},{\"attributes\":{},\"id\":\"4997\",\"type\":\"UnionRenderers\"},{\"attributes\":{},\"id\":\"4956\",\"type\":\"CategoricalTicker\"},{\"attributes\":{},\"id\":\"4947\",\"type\":\"LinearScale\"},{\"attributes\":{},\"id\":\"4972\",\"type\":\"Selection\"},{\"attributes\":{},\"id\":\"4958\",\"type\":\"SaveTool\"},{\"attributes\":{\"overlay\":{\"id\":\"4963\"}},\"id\":\"4961\",\"type\":\"BoxZoomTool\"},{\"attributes\":{},\"id\":\"4962\",\"type\":\"ResetTool\"},{\"attributes\":{\"bottom_units\":\"screen\",\"coordinates\":null,\"fill_alpha\":0.5,\"fill_color\":\"lightgrey\",\"group\":null,\"left_units\":\"screen\",\"level\":\"overlay\",\"line_alpha\":1.0,\"line_color\":\"black\",\"line_dash\":[4,4],\"line_width\":2,\"right_units\":\"screen\",\"syncable\":false,\"top_units\":\"screen\"},\"id\":\"4963\",\"type\":\"BoxAnnotation\"},{\"attributes\":{\"fill_alpha\":{\"value\":1.0},\"fill_color\":{\"value\":\"goldenrod\"},\"hatch_alpha\":{\"value\":1.0},\"hatch_color\":{\"value\":\"goldenrod\"},\"hatch_scale\":{\"value\":12.0},\"hatch_weight\":{\"value\":1.0},\"height\":{\"value\":0.8},\"left\":{\"value\":0},\"line_alpha\":{\"value\":1.0},\"line_cap\":{\"value\":\"butt\"},\"line_color\":{\"value\":\"black\"},\"line_dash\":{\"value\":[]},\"line_dash_offset\":{\"value\":0},\"line_join\":{\"value\":\"bevel\"},\"line_width\":{\"value\":1},\"right\":{\"field\":\"Movie_Title\"},\"y\":{\"field\":\"Writer\"}},\"id\":\"4979\",\"type\":\"HBar\"},{\"attributes\":{\"source\":{\"id\":\"4971\"}},\"id\":\"4978\",\"type\":\"CDSView\"},{\"attributes\":{},\"id\":\"4982\",\"type\":\"AllLabels\"},{\"attributes\":{\"children\":[{\"id\":\"4942\"}],\"height\":500,\"margin\":[0,0,0,0],\"name\":\"Row12379\",\"sizing_mode\":\"fixed\",\"tags\":[\"embedded\"],\"width\":1000},\"id\":\"4938\",\"type\":\"Row\"},{\"attributes\":{\"factors\":[\"Robert Rodriguez\",\"Larry Cohen\",\"Paul Schrader\",\"Tyler Perry\",\"Michael Crichton\",\"David Mamet\",\"John Hughes\",\"Luc Besson\",\"Stephen King\",\"Woody Allen\"],\"tags\":[[[\"Writer\",\"Writer\",null]]]},\"id\":\"4940\",\"type\":\"FactorRange\"},{\"attributes\":{\"data\":{\"Movie_Title\":[13,14,14,17,17,18,23,23,31,45],\"Writer\":[\"Robert Rodriguez\",\"Larry Cohen\",\"Paul Schrader\",\"Tyler Perry\",\"Michael Crichton\",\"David Mamet\",\"John Hughes\",\"Luc Besson\",\"Stephen King\",\"Woody Allen\"]},\"selected\":{\"id\":\"4972\"},\"selection_policy\":{\"id\":\"4997\"}},\"id\":\"4971\",\"type\":\"ColumnDataSource\"},{\"attributes\":{\"active_drag\":{\"id\":\"4959\"},\"active_scroll\":{\"id\":\"4960\"},\"tools\":[{\"id\":\"4941\"},{\"id\":\"4958\"},{\"id\":\"4959\"},{\"id\":\"4960\"},{\"id\":\"4961\"},{\"id\":\"4962\"}]},\"id\":\"4964\",\"type\":\"Toolbar\"},{\"attributes\":{\"below\":[{\"id\":\"4951\"}],\"center\":[{\"id\":\"4954\"},{\"id\":\"4957\"}],\"height\":500,\"left\":[{\"id\":\"4955\"}],\"margin\":[5,5,5,5],\"min_border_bottom\":10,\"min_border_left\":10,\"min_border_right\":10,\"min_border_top\":10,\"renderers\":[{\"id\":\"4977\"}],\"sizing_mode\":\"fixed\",\"title\":{\"id\":\"4943\"},\"toolbar\":{\"id\":\"4964\"},\"width\":1000,\"x_range\":{\"id\":\"4939\"},\"x_scale\":{\"id\":\"4947\"},\"y_range\":{\"id\":\"4940\"},\"y_scale\":{\"id\":\"4949\"}},\"id\":\"4942\",\"subtype\":\"Figure\",\"type\":\"Plot\"},{\"attributes\":{\"fill_alpha\":{\"value\":0.1},\"fill_color\":{\"value\":\"goldenrod\"},\"hatch_alpha\":{\"value\":0.1},\"hatch_color\":{\"value\":\"goldenrod\"},\"height\":{\"value\":0.8},\"line_alpha\":{\"value\":0.1},\"right\":{\"field\":\"Movie_Title\"},\"y\":{\"field\":\"Writer\"}},\"id\":\"4975\",\"type\":\"HBar\"},{\"attributes\":{\"callback\":null,\"renderers\":[{\"id\":\"4977\"}],\"tags\":[\"hv_created\"],\"tooltips\":[[\"Writer\",\"@{Writer}\"],[\"Movie Title\",\"@{Movie_Title}\"]]},\"id\":\"4941\",\"type\":\"HoverTool\"},{\"attributes\":{},\"id\":\"4949\",\"type\":\"CategoricalScale\"},{\"attributes\":{\"coordinates\":null,\"group\":null,\"text\":\"Top 10 Writers Based on the Number of Writing Credits\",\"text_color\":\"black\",\"text_font_size\":\"16pt\"},\"id\":\"4943\",\"type\":\"Title\"},{\"attributes\":{\"fill_alpha\":{\"value\":0.2},\"fill_color\":{\"value\":\"goldenrod\"},\"hatch_alpha\":{\"value\":0.2},\"hatch_color\":{\"value\":\"goldenrod\"},\"height\":{\"value\":0.8},\"line_alpha\":{\"value\":0.2},\"right\":{\"field\":\"Movie_Title\"},\"y\":{\"field\":\"Writer\"}},\"id\":\"4976\",\"type\":\"HBar\"},{\"attributes\":{},\"id\":\"4981\",\"type\":\"BasicTickFormatter\"},{\"attributes\":{\"fill_color\":{\"value\":\"goldenrod\"},\"hatch_color\":{\"value\":\"goldenrod\"},\"height\":{\"value\":0.8},\"right\":{\"field\":\"Movie_Title\"},\"y\":{\"field\":\"Writer\"}},\"id\":\"4974\",\"type\":\"HBar\"},{\"attributes\":{\"axis_label\":\"Numbber of Writing Credits\",\"axis_label_text_font_size\":\"12pt\",\"coordinates\":null,\"formatter\":{\"id\":\"4981\"},\"group\":null,\"major_label_policy\":{\"id\":\"4982\"},\"ticker\":{\"id\":\"4952\"}},\"id\":\"4951\",\"type\":\"LinearAxis\"},{\"attributes\":{\"end\":48.2,\"reset_end\":48.2,\"reset_start\":0.0,\"tags\":[[[\"Movie Title\",\"Movie Title\",null]]]},\"id\":\"4939\",\"type\":\"Range1d\"},{\"attributes\":{},\"id\":\"4959\",\"type\":\"PanTool\"},{\"attributes\":{\"axis\":{\"id\":\"4951\"},\"coordinates\":null,\"grid_line_color\":null,\"group\":null,\"ticker\":null},\"id\":\"4954\",\"type\":\"Grid\"}],\"root_ids\":[\"4938\"]},\"title\":\"Bokeh Application\",\"version\":\"2.4.3\"}};\n",
       "    var render_items = [{\"docid\":\"392bba53-9fb8-426a-8ba4-d29a20be6843\",\"root_ids\":[\"4938\"],\"roots\":{\"4938\":\"8473f7ec-8fc0-46d6-9185-aae42ca6b1a4\"}}];\n",
       "    root.Bokeh.embed.embed_items_notebook(docs_json, render_items);\n",
       "    for (const render_item of render_items) {\n",
       "      for (const root_id of render_item.root_ids) {\n",
       "\tconst id_el = document.getElementById(root_id)\n",
       "\tif (id_el.children.length && (id_el.children[0].className === 'bk-root')) {\n",
       "\t  const root_el = id_el.children[0]\n",
       "\t  root_el.id = root_el.id + '-rendered'\n",
       "\t}\n",
       "      }\n",
       "    }\n",
       "  }\n",
       "  if (root.Bokeh !== undefined && root.Bokeh.Panel !== undefined) {\n",
       "    embed_document(root);\n",
       "  } else {\n",
       "    var attempts = 0;\n",
       "    var timer = setInterval(function(root) {\n",
       "      if (root.Bokeh !== undefined && root.Bokeh.Panel !== undefined) {\n",
       "        clearInterval(timer);\n",
       "        embed_document(root);\n",
       "      } else if (document.readyState == \"complete\") {\n",
       "        attempts++;\n",
       "        if (attempts > 200) {\n",
       "          clearInterval(timer);\n",
       "          console.log(\"Bokeh: ERROR: Unable to run BokehJS code because BokehJS library is missing\");\n",
       "        }\n",
       "      }\n",
       "    }, 25, root)\n",
       "  }\n",
       "})(window);</script>"
      ],
      "text/plain": [
       ":Bars   [Writer]   (Movie Title)"
      ]
     },
     "execution_count": 61,
     "metadata": {
      "application/vnd.holoviews_exec.v0+json": {
       "id": "4938"
      }
     },
     "output_type": "execute_result"
    }
   ],
   "source": [
    "director = df.groupby(['Writer'])['Movie Title'].count().sort_values(ascending=True).tail(10)\n",
    "\n",
    "director.hvplot.barh(title='Top 10 Writers Based on the Number of Writing Credits',\n",
    "                     ylabel='Numbber of Writing Credits',xlabel='Name of Writer', color='goldenrod',\n",
    "                     height=500, width=1000, fontsize={'title':16, 'ylabel':12, 'xlabel':12, 'yticks':12})"
   ]
  },
  {
   "attachments": {},
   "cell_type": "markdown",
   "metadata": {},
   "source": [
    "### Which Writer Has The Highest Rating on The Films That They Have Written?"
   ]
  },
  {
   "cell_type": "code",
   "execution_count": 62,
   "metadata": {},
   "outputs": [
    {
     "data": {},
     "metadata": {},
     "output_type": "display_data"
    },
    {
     "data": {
      "application/vnd.holoviews_exec.v0+json": "",
      "text/html": [
       "<div id='5051'>\n",
       "  <div class=\"bk-root\" id=\"2a58128f-c641-406d-8004-97397d78d86a\" data-root-id=\"5051\"></div>\n",
       "</div>\n",
       "<script type=\"application/javascript\">(function(root) {\n",
       "  function embed_document(root) {\n",
       "    var docs_json = {\"d5acd6a0-1ce1-4ec1-b216-5e52bb603032\":{\"defs\":[{\"extends\":null,\"module\":null,\"name\":\"ReactiveHTML1\",\"overrides\":[],\"properties\":[]},{\"extends\":null,\"module\":null,\"name\":\"FlexBox1\",\"overrides\":[],\"properties\":[{\"default\":\"flex-start\",\"kind\":null,\"name\":\"align_content\"},{\"default\":\"flex-start\",\"kind\":null,\"name\":\"align_items\"},{\"default\":\"row\",\"kind\":null,\"name\":\"flex_direction\"},{\"default\":\"wrap\",\"kind\":null,\"name\":\"flex_wrap\"},{\"default\":\"flex-start\",\"kind\":null,\"name\":\"justify_content\"}]},{\"extends\":null,\"module\":null,\"name\":\"GridStack1\",\"overrides\":[],\"properties\":[{\"default\":\"warn\",\"kind\":null,\"name\":\"mode\"},{\"default\":null,\"kind\":null,\"name\":\"ncols\"},{\"default\":null,\"kind\":null,\"name\":\"nrows\"},{\"default\":true,\"kind\":null,\"name\":\"allow_resize\"},{\"default\":true,\"kind\":null,\"name\":\"allow_drag\"},{\"default\":[],\"kind\":null,\"name\":\"state\"}]},{\"extends\":null,\"module\":null,\"name\":\"click1\",\"overrides\":[],\"properties\":[{\"default\":\"\",\"kind\":null,\"name\":\"terminal_output\"},{\"default\":\"\",\"kind\":null,\"name\":\"debug_name\"},{\"default\":0,\"kind\":null,\"name\":\"clears\"}]},{\"extends\":null,\"module\":null,\"name\":\"NotificationAreaBase1\",\"overrides\":[],\"properties\":[{\"default\":\"bottom-right\",\"kind\":null,\"name\":\"position\"},{\"default\":0,\"kind\":null,\"name\":\"_clear\"}]},{\"extends\":null,\"module\":null,\"name\":\"NotificationArea1\",\"overrides\":[],\"properties\":[{\"default\":[],\"kind\":null,\"name\":\"notifications\"},{\"default\":\"bottom-right\",\"kind\":null,\"name\":\"position\"},{\"default\":0,\"kind\":null,\"name\":\"_clear\"},{\"default\":[{\"background\":\"#ffc107\",\"icon\":{\"className\":\"fas fa-exclamation-triangle\",\"color\":\"white\",\"tagName\":\"i\"},\"type\":\"warning\"},{\"background\":\"#007bff\",\"icon\":{\"className\":\"fas fa-info-circle\",\"color\":\"white\",\"tagName\":\"i\"},\"type\":\"info\"}],\"kind\":null,\"name\":\"types\"}]},{\"extends\":null,\"module\":null,\"name\":\"Notification\",\"overrides\":[],\"properties\":[{\"default\":null,\"kind\":null,\"name\":\"background\"},{\"default\":3000,\"kind\":null,\"name\":\"duration\"},{\"default\":null,\"kind\":null,\"name\":\"icon\"},{\"default\":\"\",\"kind\":null,\"name\":\"message\"},{\"default\":null,\"kind\":null,\"name\":\"notification_type\"},{\"default\":false,\"kind\":null,\"name\":\"_destroyed\"}]},{\"extends\":null,\"module\":null,\"name\":\"TemplateActions1\",\"overrides\":[],\"properties\":[{\"default\":0,\"kind\":null,\"name\":\"open_modal\"},{\"default\":0,\"kind\":null,\"name\":\"close_modal\"}]},{\"extends\":null,\"module\":null,\"name\":\"MaterialTemplateActions1\",\"overrides\":[],\"properties\":[{\"default\":0,\"kind\":null,\"name\":\"open_modal\"},{\"default\":0,\"kind\":null,\"name\":\"close_modal\"}]}],\"roots\":{\"references\":[{\"attributes\":{\"fill_alpha\":{\"value\":0.1},\"fill_color\":{\"value\":\"goldenrod\"},\"hatch_alpha\":{\"value\":0.1},\"hatch_color\":{\"value\":\"goldenrod\"},\"height\":{\"value\":0.8},\"line_alpha\":{\"value\":0.1},\"right\":{\"field\":\"Rating\"},\"y\":{\"field\":\"Writer\"}},\"id\":\"5088\",\"type\":\"HBar\"},{\"attributes\":{},\"id\":\"5095\",\"type\":\"AllLabels\"},{\"attributes\":{},\"id\":\"5094\",\"type\":\"BasicTickFormatter\"},{\"attributes\":{},\"id\":\"5097\",\"type\":\"CategoricalTickFormatter\"},{\"attributes\":{},\"id\":\"5069\",\"type\":\"CategoricalTicker\"},{\"attributes\":{},\"id\":\"5062\",\"type\":\"CategoricalScale\"},{\"attributes\":{},\"id\":\"5085\",\"type\":\"Selection\"},{\"attributes\":{},\"id\":\"5060\",\"type\":\"LinearScale\"},{\"attributes\":{\"end\":9.350000000000001,\"reset_end\":9.350000000000001,\"reset_start\":0.0,\"tags\":[[[\"Rating\",\"Rating\",null]]]},\"id\":\"5052\",\"type\":\"Range1d\"},{\"attributes\":{},\"id\":\"5110\",\"type\":\"UnionRenderers\"},{\"attributes\":{\"coordinates\":null,\"group\":null,\"text\":\"Top Writer with Highest Average Rating on Their Films (1M+ Ratings)\",\"text_color\":\"black\",\"text_font_size\":\"16pt\"},\"id\":\"5056\",\"type\":\"Title\"},{\"attributes\":{\"callback\":null,\"renderers\":[{\"id\":\"5090\"}],\"tags\":[\"hv_created\"],\"tooltips\":[[\"Writer\",\"@{Writer}\"],[\"Rating\",\"@{Rating}\"]]},\"id\":\"5054\",\"type\":\"HoverTool\"},{\"attributes\":{\"axis_label\":\"\",\"axis_label_text_font_size\":\"12pt\",\"coordinates\":null,\"formatter\":{\"id\":\"5097\"},\"group\":null,\"group_text_font_size\":\"12pt\",\"major_label_policy\":{\"id\":\"5098\"},\"major_label_text_font_size\":\"12pt\",\"ticker\":{\"id\":\"5069\"}},\"id\":\"5068\",\"type\":\"CategoricalAxis\"},{\"attributes\":{},\"id\":\"5065\",\"type\":\"BasicTicker\"},{\"attributes\":{\"axis_label\":\"Rating\",\"axis_label_text_font_size\":\"12pt\",\"coordinates\":null,\"formatter\":{\"id\":\"5094\"},\"group\":null,\"major_label_policy\":{\"id\":\"5095\"},\"ticker\":{\"id\":\"5065\"}},\"id\":\"5064\",\"type\":\"LinearAxis\"},{\"attributes\":{},\"id\":\"5075\",\"type\":\"ResetTool\"},{\"attributes\":{},\"id\":\"5073\",\"type\":\"WheelZoomTool\"},{\"attributes\":{\"bottom_units\":\"screen\",\"coordinates\":null,\"fill_alpha\":0.5,\"fill_color\":\"lightgrey\",\"group\":null,\"left_units\":\"screen\",\"level\":\"overlay\",\"line_alpha\":1.0,\"line_color\":\"black\",\"line_dash\":[4,4],\"line_width\":2,\"right_units\":\"screen\",\"syncable\":false,\"top_units\":\"screen\"},\"id\":\"5076\",\"type\":\"BoxAnnotation\"},{\"attributes\":{\"axis\":{\"id\":\"5064\"},\"coordinates\":null,\"grid_line_color\":null,\"group\":null,\"ticker\":null},\"id\":\"5067\",\"type\":\"Grid\"},{\"attributes\":{\"children\":[{\"id\":\"5055\"}],\"height\":500,\"margin\":[0,0,0,0],\"name\":\"Row12502\",\"sizing_mode\":\"fixed\",\"tags\":[\"embedded\"],\"width\":1000},\"id\":\"5051\",\"type\":\"Row\"},{\"attributes\":{\"below\":[{\"id\":\"5064\"}],\"center\":[{\"id\":\"5067\"},{\"id\":\"5070\"}],\"height\":500,\"left\":[{\"id\":\"5068\"}],\"margin\":[5,5,5,5],\"min_border_bottom\":10,\"min_border_left\":10,\"min_border_right\":10,\"min_border_top\":10,\"renderers\":[{\"id\":\"5090\"}],\"sizing_mode\":\"fixed\",\"title\":{\"id\":\"5056\"},\"toolbar\":{\"id\":\"5077\"},\"width\":1000,\"x_range\":{\"id\":\"5052\"},\"x_scale\":{\"id\":\"5060\"},\"y_range\":{\"id\":\"5053\"},\"y_scale\":{\"id\":\"5062\"}},\"id\":\"5055\",\"subtype\":\"Figure\",\"type\":\"Plot\"},{\"attributes\":{\"active_drag\":{\"id\":\"5072\"},\"active_scroll\":{\"id\":\"5073\"},\"tools\":[{\"id\":\"5054\"},{\"id\":\"5071\"},{\"id\":\"5072\"},{\"id\":\"5073\"},{\"id\":\"5074\"},{\"id\":\"5075\"}]},\"id\":\"5077\",\"type\":\"Toolbar\"},{\"attributes\":{\"fill_alpha\":{\"value\":0.2},\"fill_color\":{\"value\":\"goldenrod\"},\"hatch_alpha\":{\"value\":0.2},\"hatch_color\":{\"value\":\"goldenrod\"},\"height\":{\"value\":0.8},\"line_alpha\":{\"value\":0.2},\"right\":{\"field\":\"Rating\"},\"y\":{\"field\":\"Writer\"}},\"id\":\"5089\",\"type\":\"HBar\"},{\"attributes\":{\"fill_color\":{\"value\":\"goldenrod\"},\"hatch_color\":{\"value\":\"goldenrod\"},\"height\":{\"value\":0.8},\"right\":{\"field\":\"Rating\"},\"y\":{\"field\":\"Writer\"}},\"id\":\"5087\",\"type\":\"HBar\"},{\"attributes\":{\"source\":{\"id\":\"5084\"}},\"id\":\"5091\",\"type\":\"CDSView\"},{\"attributes\":{\"factors\":[\"Christopher Nolan\",\"Chuck Palahniuk\",\"Winston Groom\",\"Quentin Tarantino\",\"Jonathan Nolan\",\"Stephen King\"],\"tags\":[[[\"Writer\",\"Writer\",null]]]},\"id\":\"5053\",\"type\":\"FactorRange\"},{\"attributes\":{},\"id\":\"5098\",\"type\":\"AllLabels\"},{\"attributes\":{\"data\":{\"Rating\":{\"__ndarray__\":\"mpmZmZmZIUCamZmZmZkhQJqZmZmZmSFAzczMzMzMIUAAAAAAAAAiQJqZmZmZmSJA\",\"dtype\":\"float64\",\"order\":\"little\",\"shape\":[6]},\"Writer\":[\"Christopher Nolan\",\"Chuck Palahniuk\",\"Winston Groom\",\"Quentin Tarantino\",\"Jonathan Nolan\",\"Stephen King\"]},\"selected\":{\"id\":\"5085\"},\"selection_policy\":{\"id\":\"5110\"}},\"id\":\"5084\",\"type\":\"ColumnDataSource\"},{\"attributes\":{\"fill_alpha\":{\"value\":1.0},\"fill_color\":{\"value\":\"goldenrod\"},\"hatch_alpha\":{\"value\":1.0},\"hatch_color\":{\"value\":\"goldenrod\"},\"hatch_scale\":{\"value\":12.0},\"hatch_weight\":{\"value\":1.0},\"height\":{\"value\":0.8},\"left\":{\"value\":0},\"line_alpha\":{\"value\":1.0},\"line_cap\":{\"value\":\"butt\"},\"line_color\":{\"value\":\"black\"},\"line_dash\":{\"value\":[]},\"line_dash_offset\":{\"value\":0},\"line_join\":{\"value\":\"bevel\"},\"line_width\":{\"value\":1},\"right\":{\"field\":\"Rating\"},\"y\":{\"field\":\"Writer\"}},\"id\":\"5092\",\"type\":\"HBar\"},{\"attributes\":{\"axis\":{\"id\":\"5068\"},\"coordinates\":null,\"dimension\":1,\"grid_line_color\":null,\"group\":null,\"ticker\":null},\"id\":\"5070\",\"type\":\"Grid\"},{\"attributes\":{\"coordinates\":null,\"data_source\":{\"id\":\"5084\"},\"glyph\":{\"id\":\"5087\"},\"group\":null,\"hover_glyph\":null,\"muted_glyph\":{\"id\":\"5089\"},\"nonselection_glyph\":{\"id\":\"5088\"},\"selection_glyph\":{\"id\":\"5092\"},\"view\":{\"id\":\"5091\"}},\"id\":\"5090\",\"type\":\"GlyphRenderer\"},{\"attributes\":{\"overlay\":{\"id\":\"5076\"}},\"id\":\"5074\",\"type\":\"BoxZoomTool\"},{\"attributes\":{},\"id\":\"5071\",\"type\":\"SaveTool\"},{\"attributes\":{},\"id\":\"5072\",\"type\":\"PanTool\"}],\"root_ids\":[\"5051\"]},\"title\":\"Bokeh Application\",\"version\":\"2.4.3\"}};\n",
       "    var render_items = [{\"docid\":\"d5acd6a0-1ce1-4ec1-b216-5e52bb603032\",\"root_ids\":[\"5051\"],\"roots\":{\"5051\":\"2a58128f-c641-406d-8004-97397d78d86a\"}}];\n",
       "    root.Bokeh.embed.embed_items_notebook(docs_json, render_items);\n",
       "    for (const render_item of render_items) {\n",
       "      for (const root_id of render_item.root_ids) {\n",
       "\tconst id_el = document.getElementById(root_id)\n",
       "\tif (id_el.children.length && (id_el.children[0].className === 'bk-root')) {\n",
       "\t  const root_el = id_el.children[0]\n",
       "\t  root_el.id = root_el.id + '-rendered'\n",
       "\t}\n",
       "      }\n",
       "    }\n",
       "  }\n",
       "  if (root.Bokeh !== undefined && root.Bokeh.Panel !== undefined) {\n",
       "    embed_document(root);\n",
       "  } else {\n",
       "    var attempts = 0;\n",
       "    var timer = setInterval(function(root) {\n",
       "      if (root.Bokeh !== undefined && root.Bokeh.Panel !== undefined) {\n",
       "        clearInterval(timer);\n",
       "        embed_document(root);\n",
       "      } else if (document.readyState == \"complete\") {\n",
       "        attempts++;\n",
       "        if (attempts > 200) {\n",
       "          clearInterval(timer);\n",
       "          console.log(\"Bokeh: ERROR: Unable to run BokehJS code because BokehJS library is missing\");\n",
       "        }\n",
       "      }\n",
       "    }, 25, root)\n",
       "  }\n",
       "})(window);</script>"
      ],
      "text/plain": [
       ":Bars   [Writer]   (Rating)"
      ]
     },
     "execution_count": 62,
     "metadata": {
      "application/vnd.holoviews_exec.v0+json": {
       "id": "5051"
      }
     },
     "output_type": "execute_result"
    }
   ],
   "source": [
    "# We will be filtering the data frame to only include films that has over 1 Million reviews in order to ensure the quality of the films.\n",
    "writer = df[df['User Rating']>1000000].groupby(['Writer'])['Rating'].mean().sort_values(ascending=True).dropna()\n",
    "\n",
    "writer.hvplot.barh(title='Top Writer with Highest Average Rating on Their Films (1M+ Ratings)', color='goldenrod',\n",
    "                   height=500, width=1000, fontsize={'title':16, 'ylabel':12, 'xlabel':12, 'yticks':12})"
   ]
  },
  {
   "attachments": {},
   "cell_type": "markdown",
   "metadata": {},
   "source": [
    "### Which Actors/Actresses Appeared In Most Number of Films (Top 10)"
   ]
  },
  {
   "cell_type": "code",
   "execution_count": 63,
   "metadata": {},
   "outputs": [
    {
     "data": {},
     "metadata": {},
     "output_type": "display_data"
    },
    {
     "data": {
      "application/vnd.holoviews_exec.v0+json": "",
      "text/html": [
       "<div id='5164'>\n",
       "  <div class=\"bk-root\" id=\"4fad6d74-71d6-4554-919d-96ae5c3e21ff\" data-root-id=\"5164\"></div>\n",
       "</div>\n",
       "<script type=\"application/javascript\">(function(root) {\n",
       "  function embed_document(root) {\n",
       "    var docs_json = {\"bae4f04c-1a25-4795-a5a7-fde6b1fbad82\":{\"defs\":[{\"extends\":null,\"module\":null,\"name\":\"ReactiveHTML1\",\"overrides\":[],\"properties\":[]},{\"extends\":null,\"module\":null,\"name\":\"FlexBox1\",\"overrides\":[],\"properties\":[{\"default\":\"flex-start\",\"kind\":null,\"name\":\"align_content\"},{\"default\":\"flex-start\",\"kind\":null,\"name\":\"align_items\"},{\"default\":\"row\",\"kind\":null,\"name\":\"flex_direction\"},{\"default\":\"wrap\",\"kind\":null,\"name\":\"flex_wrap\"},{\"default\":\"flex-start\",\"kind\":null,\"name\":\"justify_content\"}]},{\"extends\":null,\"module\":null,\"name\":\"GridStack1\",\"overrides\":[],\"properties\":[{\"default\":\"warn\",\"kind\":null,\"name\":\"mode\"},{\"default\":null,\"kind\":null,\"name\":\"ncols\"},{\"default\":null,\"kind\":null,\"name\":\"nrows\"},{\"default\":true,\"kind\":null,\"name\":\"allow_resize\"},{\"default\":true,\"kind\":null,\"name\":\"allow_drag\"},{\"default\":[],\"kind\":null,\"name\":\"state\"}]},{\"extends\":null,\"module\":null,\"name\":\"click1\",\"overrides\":[],\"properties\":[{\"default\":\"\",\"kind\":null,\"name\":\"terminal_output\"},{\"default\":\"\",\"kind\":null,\"name\":\"debug_name\"},{\"default\":0,\"kind\":null,\"name\":\"clears\"}]},{\"extends\":null,\"module\":null,\"name\":\"NotificationAreaBase1\",\"overrides\":[],\"properties\":[{\"default\":\"bottom-right\",\"kind\":null,\"name\":\"position\"},{\"default\":0,\"kind\":null,\"name\":\"_clear\"}]},{\"extends\":null,\"module\":null,\"name\":\"NotificationArea1\",\"overrides\":[],\"properties\":[{\"default\":[],\"kind\":null,\"name\":\"notifications\"},{\"default\":\"bottom-right\",\"kind\":null,\"name\":\"position\"},{\"default\":0,\"kind\":null,\"name\":\"_clear\"},{\"default\":[{\"background\":\"#ffc107\",\"icon\":{\"className\":\"fas fa-exclamation-triangle\",\"color\":\"white\",\"tagName\":\"i\"},\"type\":\"warning\"},{\"background\":\"#007bff\",\"icon\":{\"className\":\"fas fa-info-circle\",\"color\":\"white\",\"tagName\":\"i\"},\"type\":\"info\"}],\"kind\":null,\"name\":\"types\"}]},{\"extends\":null,\"module\":null,\"name\":\"Notification\",\"overrides\":[],\"properties\":[{\"default\":null,\"kind\":null,\"name\":\"background\"},{\"default\":3000,\"kind\":null,\"name\":\"duration\"},{\"default\":null,\"kind\":null,\"name\":\"icon\"},{\"default\":\"\",\"kind\":null,\"name\":\"message\"},{\"default\":null,\"kind\":null,\"name\":\"notification_type\"},{\"default\":false,\"kind\":null,\"name\":\"_destroyed\"}]},{\"extends\":null,\"module\":null,\"name\":\"TemplateActions1\",\"overrides\":[],\"properties\":[{\"default\":0,\"kind\":null,\"name\":\"open_modal\"},{\"default\":0,\"kind\":null,\"name\":\"close_modal\"}]},{\"extends\":null,\"module\":null,\"name\":\"MaterialTemplateActions1\",\"overrides\":[],\"properties\":[{\"default\":0,\"kind\":null,\"name\":\"open_modal\"},{\"default\":0,\"kind\":null,\"name\":\"close_modal\"}]}],\"roots\":{\"references\":[{\"attributes\":{\"coordinates\":null,\"group\":null,\"text\":\"Top 10 Actors/Actresses with the Most Film Appearances\",\"text_color\":\"black\",\"text_font_size\":\"16pt\"},\"id\":\"5169\",\"type\":\"Title\"},{\"attributes\":{\"fill_color\":{\"value\":\"goldenrod\"},\"hatch_color\":{\"value\":\"goldenrod\"},\"height\":{\"value\":0.8},\"right\":{\"field\":\"Movie_Title\"},\"y\":{\"field\":\"Top_5_Casts\"}},\"id\":\"5200\",\"type\":\"HBar\"},{\"attributes\":{},\"id\":\"5210\",\"type\":\"CategoricalTickFormatter\"},{\"attributes\":{\"axis_label\":\"Number of Movie Appearances\",\"axis_label_text_font_size\":\"12pt\",\"coordinates\":null,\"formatter\":{\"id\":\"5207\"},\"group\":null,\"major_label_policy\":{\"id\":\"5208\"},\"ticker\":{\"id\":\"5178\"}},\"id\":\"5177\",\"type\":\"LinearAxis\"},{\"attributes\":{\"end\":115.7,\"reset_end\":115.7,\"reset_start\":0.0,\"tags\":[[[\"Movie Title\",\"Movie Title\",null]]]},\"id\":\"5165\",\"type\":\"Range1d\"},{\"attributes\":{},\"id\":\"5185\",\"type\":\"PanTool\"},{\"attributes\":{\"axis\":{\"id\":\"5177\"},\"coordinates\":null,\"grid_line_color\":null,\"group\":null,\"ticker\":null},\"id\":\"5180\",\"type\":\"Grid\"},{\"attributes\":{},\"id\":\"5178\",\"type\":\"BasicTicker\"},{\"attributes\":{},\"id\":\"5186\",\"type\":\"WheelZoomTool\"},{\"attributes\":{\"axis_label\":\"Name\",\"axis_label_text_font_size\":\"12pt\",\"coordinates\":null,\"formatter\":{\"id\":\"5210\"},\"group\":null,\"group_text_font_size\":\"12pt\",\"major_label_policy\":{\"id\":\"5211\"},\"major_label_text_font_size\":\"12pt\",\"ticker\":{\"id\":\"5182\"}},\"id\":\"5181\",\"type\":\"CategoricalAxis\"},{\"attributes\":{},\"id\":\"5223\",\"type\":\"UnionRenderers\"},{\"attributes\":{\"axis\":{\"id\":\"5181\"},\"coordinates\":null,\"dimension\":1,\"grid_line_color\":null,\"group\":null,\"ticker\":null},\"id\":\"5183\",\"type\":\"Grid\"},{\"attributes\":{},\"id\":\"5182\",\"type\":\"CategoricalTicker\"},{\"attributes\":{},\"id\":\"5173\",\"type\":\"LinearScale\"},{\"attributes\":{},\"id\":\"5198\",\"type\":\"Selection\"},{\"attributes\":{},\"id\":\"5184\",\"type\":\"SaveTool\"},{\"attributes\":{\"overlay\":{\"id\":\"5189\"}},\"id\":\"5187\",\"type\":\"BoxZoomTool\"},{\"attributes\":{},\"id\":\"5188\",\"type\":\"ResetTool\"},{\"attributes\":{\"factors\":[\"'Michael Caine'\",\"'Tom Hanks'\",\"'Samuel L. Jackson'\",\"'John Wayne'\",\"'Sylvester Stallone'\",\"'Clint Eastwood'\",\"'Bruce Willis'\",\"'Robert De Niro'\",\"'Nicolas Cage'\",\"'Woody Allen'\"],\"tags\":[[[\"Top 5 Casts\",\"Top 5 Casts\",null]]]},\"id\":\"5166\",\"type\":\"FactorRange\"},{\"attributes\":{\"bottom_units\":\"screen\",\"coordinates\":null,\"fill_alpha\":0.5,\"fill_color\":\"lightgrey\",\"group\":null,\"left_units\":\"screen\",\"level\":\"overlay\",\"line_alpha\":1.0,\"line_color\":\"black\",\"line_dash\":[4,4],\"line_width\":2,\"right_units\":\"screen\",\"syncable\":false,\"top_units\":\"screen\"},\"id\":\"5189\",\"type\":\"BoxAnnotation\"},{\"attributes\":{\"fill_alpha\":{\"value\":1.0},\"fill_color\":{\"value\":\"goldenrod\"},\"hatch_alpha\":{\"value\":1.0},\"hatch_color\":{\"value\":\"goldenrod\"},\"hatch_scale\":{\"value\":12.0},\"hatch_weight\":{\"value\":1.0},\"height\":{\"value\":0.8},\"left\":{\"value\":0},\"line_alpha\":{\"value\":1.0},\"line_cap\":{\"value\":\"butt\"},\"line_color\":{\"value\":\"black\"},\"line_dash\":{\"value\":[]},\"line_dash_offset\":{\"value\":0},\"line_join\":{\"value\":\"bevel\"},\"line_width\":{\"value\":1},\"right\":{\"field\":\"Movie_Title\"},\"y\":{\"field\":\"Top_5_Casts\"}},\"id\":\"5205\",\"type\":\"HBar\"},{\"attributes\":{},\"id\":\"5208\",\"type\":\"AllLabels\"},{\"attributes\":{\"active_drag\":{\"id\":\"5185\"},\"active_scroll\":{\"id\":\"5186\"},\"tools\":[{\"id\":\"5167\"},{\"id\":\"5184\"},{\"id\":\"5185\"},{\"id\":\"5186\"},{\"id\":\"5187\"},{\"id\":\"5188\"}]},\"id\":\"5190\",\"type\":\"Toolbar\"},{\"attributes\":{},\"id\":\"5211\",\"type\":\"AllLabels\"},{\"attributes\":{\"data\":{\"Movie_Title\":[53,54,60,60,69,70,70,73,81,110],\"Top_5_Casts\":[\"'Michael Caine'\",\"'Tom Hanks'\",\"'Samuel L. Jackson'\",\"'John Wayne'\",\"'Sylvester Stallone'\",\"'Clint Eastwood'\",\"'Bruce Willis'\",\"'Robert De Niro'\",\"'Nicolas Cage'\",\"'Woody Allen'\"]},\"selected\":{\"id\":\"5198\"},\"selection_policy\":{\"id\":\"5223\"}},\"id\":\"5197\",\"type\":\"ColumnDataSource\"},{\"attributes\":{\"fill_alpha\":{\"value\":0.2},\"fill_color\":{\"value\":\"goldenrod\"},\"hatch_alpha\":{\"value\":0.2},\"hatch_color\":{\"value\":\"goldenrod\"},\"height\":{\"value\":0.8},\"line_alpha\":{\"value\":0.2},\"right\":{\"field\":\"Movie_Title\"},\"y\":{\"field\":\"Top_5_Casts\"}},\"id\":\"5202\",\"type\":\"HBar\"},{\"attributes\":{\"coordinates\":null,\"data_source\":{\"id\":\"5197\"},\"glyph\":{\"id\":\"5200\"},\"group\":null,\"hover_glyph\":null,\"muted_glyph\":{\"id\":\"5202\"},\"nonselection_glyph\":{\"id\":\"5201\"},\"selection_glyph\":{\"id\":\"5205\"},\"view\":{\"id\":\"5204\"}},\"id\":\"5203\",\"type\":\"GlyphRenderer\"},{\"attributes\":{\"source\":{\"id\":\"5197\"}},\"id\":\"5204\",\"type\":\"CDSView\"},{\"attributes\":{\"children\":[{\"id\":\"5168\"}],\"height\":500,\"margin\":[0,0,0,0],\"name\":\"Row12625\",\"sizing_mode\":\"fixed\",\"tags\":[\"embedded\"],\"width\":1000},\"id\":\"5164\",\"type\":\"Row\"},{\"attributes\":{\"below\":[{\"id\":\"5177\"}],\"center\":[{\"id\":\"5180\"},{\"id\":\"5183\"}],\"height\":500,\"left\":[{\"id\":\"5181\"}],\"margin\":[5,5,5,5],\"min_border_bottom\":10,\"min_border_left\":10,\"min_border_right\":10,\"min_border_top\":10,\"renderers\":[{\"id\":\"5203\"}],\"sizing_mode\":\"fixed\",\"title\":{\"id\":\"5169\"},\"toolbar\":{\"id\":\"5190\"},\"width\":1000,\"x_range\":{\"id\":\"5165\"},\"x_scale\":{\"id\":\"5173\"},\"y_range\":{\"id\":\"5166\"},\"y_scale\":{\"id\":\"5175\"}},\"id\":\"5168\",\"subtype\":\"Figure\",\"type\":\"Plot\"},{\"attributes\":{},\"id\":\"5175\",\"type\":\"CategoricalScale\"},{\"attributes\":{\"fill_alpha\":{\"value\":0.1},\"fill_color\":{\"value\":\"goldenrod\"},\"hatch_alpha\":{\"value\":0.1},\"hatch_color\":{\"value\":\"goldenrod\"},\"height\":{\"value\":0.8},\"line_alpha\":{\"value\":0.1},\"right\":{\"field\":\"Movie_Title\"},\"y\":{\"field\":\"Top_5_Casts\"}},\"id\":\"5201\",\"type\":\"HBar\"},{\"attributes\":{\"callback\":null,\"renderers\":[{\"id\":\"5203\"}],\"tags\":[\"hv_created\"],\"tooltips\":[[\"Top 5 Casts\",\"@{Top_5_Casts}\"],[\"Movie Title\",\"@{Movie_Title}\"]]},\"id\":\"5167\",\"type\":\"HoverTool\"},{\"attributes\":{},\"id\":\"5207\",\"type\":\"BasicTickFormatter\"}],\"root_ids\":[\"5164\"]},\"title\":\"Bokeh Application\",\"version\":\"2.4.3\"}};\n",
       "    var render_items = [{\"docid\":\"bae4f04c-1a25-4795-a5a7-fde6b1fbad82\",\"root_ids\":[\"5164\"],\"roots\":{\"5164\":\"4fad6d74-71d6-4554-919d-96ae5c3e21ff\"}}];\n",
       "    root.Bokeh.embed.embed_items_notebook(docs_json, render_items);\n",
       "    for (const render_item of render_items) {\n",
       "      for (const root_id of render_item.root_ids) {\n",
       "\tconst id_el = document.getElementById(root_id)\n",
       "\tif (id_el.children.length && (id_el.children[0].className === 'bk-root')) {\n",
       "\t  const root_el = id_el.children[0]\n",
       "\t  root_el.id = root_el.id + '-rendered'\n",
       "\t}\n",
       "      }\n",
       "    }\n",
       "  }\n",
       "  if (root.Bokeh !== undefined && root.Bokeh.Panel !== undefined) {\n",
       "    embed_document(root);\n",
       "  } else {\n",
       "    var attempts = 0;\n",
       "    var timer = setInterval(function(root) {\n",
       "      if (root.Bokeh !== undefined && root.Bokeh.Panel !== undefined) {\n",
       "        clearInterval(timer);\n",
       "        embed_document(root);\n",
       "      } else if (document.readyState == \"complete\") {\n",
       "        attempts++;\n",
       "        if (attempts > 200) {\n",
       "          clearInterval(timer);\n",
       "          console.log(\"Bokeh: ERROR: Unable to run BokehJS code because BokehJS library is missing\");\n",
       "        }\n",
       "      }\n",
       "    }, 25, root)\n",
       "  }\n",
       "})(window);</script>"
      ],
      "text/plain": [
       ":Bars   [Top 5 Casts]   (Movie Title)"
      ]
     },
     "execution_count": 63,
     "metadata": {
      "application/vnd.holoviews_exec.v0+json": {
       "id": "5164"
      }
     },
     "output_type": "execute_result"
    }
   ],
   "source": [
    "top_actors = df_exploded_casts.groupby(['Top 5 Casts'])['Movie Title'].count().sort_values().tail(10)\n",
    "top_actors.hvplot.barh(title='Top 10 Actors/Actresses with the Most Film Appearances',\n",
    "                       ylabel='Number of Movie Appearances',xlabel='Name', color='goldenrod',\n",
    "                       height=500, width=1000, fontsize={'title':16, 'ylabel':12, 'xlabel':12, 'yticks':12})"
   ]
  },
  {
   "attachments": {},
   "cell_type": "markdown",
   "metadata": {},
   "source": [
    "### Actors/Actresses that Starred on High Rated Films"
   ]
  },
  {
   "cell_type": "code",
   "execution_count": 64,
   "metadata": {},
   "outputs": [
    {
     "data": {},
     "metadata": {},
     "output_type": "display_data"
    },
    {
     "data": {
      "application/vnd.holoviews_exec.v0+json": "",
      "text/html": [
       "<div id='5277'>\n",
       "  <div class=\"bk-root\" id=\"93622e65-450f-45d1-9e97-e8c1b0bb29cf\" data-root-id=\"5277\"></div>\n",
       "</div>\n",
       "<script type=\"application/javascript\">(function(root) {\n",
       "  function embed_document(root) {\n",
       "    var docs_json = {\"feeeede8-de2c-41fc-aa56-92920d42e6c7\":{\"defs\":[{\"extends\":null,\"module\":null,\"name\":\"ReactiveHTML1\",\"overrides\":[],\"properties\":[]},{\"extends\":null,\"module\":null,\"name\":\"FlexBox1\",\"overrides\":[],\"properties\":[{\"default\":\"flex-start\",\"kind\":null,\"name\":\"align_content\"},{\"default\":\"flex-start\",\"kind\":null,\"name\":\"align_items\"},{\"default\":\"row\",\"kind\":null,\"name\":\"flex_direction\"},{\"default\":\"wrap\",\"kind\":null,\"name\":\"flex_wrap\"},{\"default\":\"flex-start\",\"kind\":null,\"name\":\"justify_content\"}]},{\"extends\":null,\"module\":null,\"name\":\"GridStack1\",\"overrides\":[],\"properties\":[{\"default\":\"warn\",\"kind\":null,\"name\":\"mode\"},{\"default\":null,\"kind\":null,\"name\":\"ncols\"},{\"default\":null,\"kind\":null,\"name\":\"nrows\"},{\"default\":true,\"kind\":null,\"name\":\"allow_resize\"},{\"default\":true,\"kind\":null,\"name\":\"allow_drag\"},{\"default\":[],\"kind\":null,\"name\":\"state\"}]},{\"extends\":null,\"module\":null,\"name\":\"click1\",\"overrides\":[],\"properties\":[{\"default\":\"\",\"kind\":null,\"name\":\"terminal_output\"},{\"default\":\"\",\"kind\":null,\"name\":\"debug_name\"},{\"default\":0,\"kind\":null,\"name\":\"clears\"}]},{\"extends\":null,\"module\":null,\"name\":\"NotificationAreaBase1\",\"overrides\":[],\"properties\":[{\"default\":\"bottom-right\",\"kind\":null,\"name\":\"position\"},{\"default\":0,\"kind\":null,\"name\":\"_clear\"}]},{\"extends\":null,\"module\":null,\"name\":\"NotificationArea1\",\"overrides\":[],\"properties\":[{\"default\":[],\"kind\":null,\"name\":\"notifications\"},{\"default\":\"bottom-right\",\"kind\":null,\"name\":\"position\"},{\"default\":0,\"kind\":null,\"name\":\"_clear\"},{\"default\":[{\"background\":\"#ffc107\",\"icon\":{\"className\":\"fas fa-exclamation-triangle\",\"color\":\"white\",\"tagName\":\"i\"},\"type\":\"warning\"},{\"background\":\"#007bff\",\"icon\":{\"className\":\"fas fa-info-circle\",\"color\":\"white\",\"tagName\":\"i\"},\"type\":\"info\"}],\"kind\":null,\"name\":\"types\"}]},{\"extends\":null,\"module\":null,\"name\":\"Notification\",\"overrides\":[],\"properties\":[{\"default\":null,\"kind\":null,\"name\":\"background\"},{\"default\":3000,\"kind\":null,\"name\":\"duration\"},{\"default\":null,\"kind\":null,\"name\":\"icon\"},{\"default\":\"\",\"kind\":null,\"name\":\"message\"},{\"default\":null,\"kind\":null,\"name\":\"notification_type\"},{\"default\":false,\"kind\":null,\"name\":\"_destroyed\"}]},{\"extends\":null,\"module\":null,\"name\":\"TemplateActions1\",\"overrides\":[],\"properties\":[{\"default\":0,\"kind\":null,\"name\":\"open_modal\"},{\"default\":0,\"kind\":null,\"name\":\"close_modal\"}]},{\"extends\":null,\"module\":null,\"name\":\"MaterialTemplateActions1\",\"overrides\":[],\"properties\":[{\"default\":0,\"kind\":null,\"name\":\"open_modal\"},{\"default\":0,\"kind\":null,\"name\":\"close_modal\"}]}],\"roots\":{\"references\":[{\"attributes\":{\"callback\":null,\"renderers\":[{\"id\":\"5316\"}],\"tags\":[\"hv_created\"],\"tooltips\":[[\"Top 5 Casts\",\"@{Top_5_Casts}\"],[\"Rating\",\"@{Rating}\"]]},\"id\":\"5280\",\"type\":\"HoverTool\"},{\"attributes\":{\"coordinates\":null,\"group\":null,\"text\":\"Top 10 Actors/Actresses in High Rated Films\",\"text_color\":\"black\",\"text_font_size\":\"16pt\"},\"id\":\"5282\",\"type\":\"Title\"},{\"attributes\":{\"fill_color\":{\"value\":\"goldenrod\"},\"hatch_color\":{\"value\":\"goldenrod\"},\"height\":{\"value\":0.8},\"right\":{\"field\":\"Rating\"},\"y\":{\"field\":\"Top_5_Casts\"}},\"id\":\"5313\",\"type\":\"HBar\"},{\"attributes\":{\"axis_label\":\"Number of Movie Appearances\",\"axis_label_text_font_size\":\"12pt\",\"coordinates\":null,\"formatter\":{\"id\":\"5320\"},\"group\":null,\"major_label_policy\":{\"id\":\"5321\"},\"ticker\":{\"id\":\"5291\"}},\"id\":\"5290\",\"type\":\"LinearAxis\"},{\"attributes\":{\"end\":9.33,\"reset_end\":9.33,\"reset_start\":0.0,\"tags\":[[[\"Rating\",\"Rating\",null]]]},\"id\":\"5278\",\"type\":\"Range1d\"},{\"attributes\":{},\"id\":\"5298\",\"type\":\"PanTool\"},{\"attributes\":{\"axis\":{\"id\":\"5290\"},\"coordinates\":null,\"grid_line_color\":null,\"group\":null,\"ticker\":null},\"id\":\"5293\",\"type\":\"Grid\"},{\"attributes\":{},\"id\":\"5336\",\"type\":\"UnionRenderers\"},{\"attributes\":{},\"id\":\"5291\",\"type\":\"BasicTicker\"},{\"attributes\":{},\"id\":\"5299\",\"type\":\"WheelZoomTool\"},{\"attributes\":{\"axis_label\":\"Name\",\"axis_label_text_font_size\":\"12pt\",\"coordinates\":null,\"formatter\":{\"id\":\"5323\"},\"group\":null,\"group_text_font_size\":\"12pt\",\"major_label_policy\":{\"id\":\"5324\"},\"major_label_text_font_size\":\"12pt\",\"ticker\":{\"id\":\"5295\"}},\"id\":\"5294\",\"type\":\"CategoricalAxis\"},{\"attributes\":{},\"id\":\"5320\",\"type\":\"BasicTickFormatter\"},{\"attributes\":{\"axis\":{\"id\":\"5294\"},\"coordinates\":null,\"dimension\":1,\"grid_line_color\":null,\"group\":null,\"ticker\":null},\"id\":\"5296\",\"type\":\"Grid\"},{\"attributes\":{},\"id\":\"5295\",\"type\":\"CategoricalTicker\"},{\"attributes\":{},\"id\":\"5286\",\"type\":\"LinearScale\"},{\"attributes\":{},\"id\":\"5311\",\"type\":\"Selection\"},{\"attributes\":{\"children\":[{\"id\":\"5281\"}],\"height\":500,\"margin\":[0,0,0,0],\"name\":\"Row12748\",\"sizing_mode\":\"fixed\",\"tags\":[\"embedded\"],\"width\":1000},\"id\":\"5277\",\"type\":\"Row\"},{\"attributes\":{},\"id\":\"5297\",\"type\":\"SaveTool\"},{\"attributes\":{\"overlay\":{\"id\":\"5302\"}},\"id\":\"5300\",\"type\":\"BoxZoomTool\"},{\"attributes\":{},\"id\":\"5301\",\"type\":\"ResetTool\"},{\"attributes\":{\"source\":{\"id\":\"5310\"}},\"id\":\"5317\",\"type\":\"CDSView\"},{\"attributes\":{\"bottom_units\":\"screen\",\"coordinates\":null,\"fill_alpha\":0.5,\"fill_color\":\"lightgrey\",\"group\":null,\"left_units\":\"screen\",\"level\":\"overlay\",\"line_alpha\":1.0,\"line_color\":\"black\",\"line_dash\":[4,4],\"line_width\":2,\"right_units\":\"screen\",\"syncable\":false,\"top_units\":\"screen\"},\"id\":\"5302\",\"type\":\"BoxAnnotation\"},{\"attributes\":{\"fill_alpha\":{\"value\":1.0},\"fill_color\":{\"value\":\"goldenrod\"},\"hatch_alpha\":{\"value\":1.0},\"hatch_color\":{\"value\":\"goldenrod\"},\"hatch_scale\":{\"value\":12.0},\"hatch_weight\":{\"value\":1.0},\"height\":{\"value\":0.8},\"left\":{\"value\":0},\"line_alpha\":{\"value\":1.0},\"line_cap\":{\"value\":\"butt\"},\"line_color\":{\"value\":\"black\"},\"line_dash\":{\"value\":[]},\"line_dash_offset\":{\"value\":0},\"line_join\":{\"value\":\"bevel\"},\"line_width\":{\"value\":1},\"right\":{\"field\":\"Rating\"},\"y\":{\"field\":\"Top_5_Casts\"}},\"id\":\"5318\",\"type\":\"HBar\"},{\"attributes\":{},\"id\":\"5321\",\"type\":\"AllLabels\"},{\"attributes\":{\"data\":{\"Rating\":{\"__ndarray__\":\"AAAAAAAAIkAAAAAAAAAiQAAAAAAAACJAAAAAAAAAIkAzMzMzMzMiQERERERERCJAZmZmZmZmIkBmZmZmZmYiQJqZmZmZmSJAmpmZmZmZIkA=\",\"dtype\":\"float64\",\"order\":\"little\",\"shape\":[10]},\"Top_5_Casts\":[\"'Liam Neeson'\",\"'Aaron Eckhart'\",\"'Steven Zaillian'\",\"'Ben Kingsley'\",\"'Al Pacino'\",\"'Francis Ford Coppola'\",\"'James Caan'\",\"'Marlon Brando'\",\"'Tim Robbins'\",\"'Bob Gunton'\"]},\"selected\":{\"id\":\"5311\"},\"selection_policy\":{\"id\":\"5336\"}},\"id\":\"5310\",\"type\":\"ColumnDataSource\"},{\"attributes\":{\"active_drag\":{\"id\":\"5298\"},\"active_scroll\":{\"id\":\"5299\"},\"tools\":[{\"id\":\"5280\"},{\"id\":\"5297\"},{\"id\":\"5298\"},{\"id\":\"5299\"},{\"id\":\"5300\"},{\"id\":\"5301\"}]},\"id\":\"5303\",\"type\":\"Toolbar\"},{\"attributes\":{\"coordinates\":null,\"data_source\":{\"id\":\"5310\"},\"glyph\":{\"id\":\"5313\"},\"group\":null,\"hover_glyph\":null,\"muted_glyph\":{\"id\":\"5315\"},\"nonselection_glyph\":{\"id\":\"5314\"},\"selection_glyph\":{\"id\":\"5318\"},\"view\":{\"id\":\"5317\"}},\"id\":\"5316\",\"type\":\"GlyphRenderer\"},{\"attributes\":{\"fill_alpha\":{\"value\":0.2},\"fill_color\":{\"value\":\"goldenrod\"},\"hatch_alpha\":{\"value\":0.2},\"hatch_color\":{\"value\":\"goldenrod\"},\"height\":{\"value\":0.8},\"line_alpha\":{\"value\":0.2},\"right\":{\"field\":\"Rating\"},\"y\":{\"field\":\"Top_5_Casts\"}},\"id\":\"5315\",\"type\":\"HBar\"},{\"attributes\":{\"below\":[{\"id\":\"5290\"}],\"center\":[{\"id\":\"5293\"},{\"id\":\"5296\"}],\"height\":500,\"left\":[{\"id\":\"5294\"}],\"margin\":[5,5,5,5],\"min_border_bottom\":10,\"min_border_left\":10,\"min_border_right\":10,\"min_border_top\":10,\"renderers\":[{\"id\":\"5316\"}],\"sizing_mode\":\"fixed\",\"title\":{\"id\":\"5282\"},\"toolbar\":{\"id\":\"5303\"},\"width\":1000,\"x_range\":{\"id\":\"5278\"},\"x_scale\":{\"id\":\"5286\"},\"y_range\":{\"id\":\"5279\"},\"y_scale\":{\"id\":\"5288\"}},\"id\":\"5281\",\"subtype\":\"Figure\",\"type\":\"Plot\"},{\"attributes\":{},\"id\":\"5323\",\"type\":\"CategoricalTickFormatter\"},{\"attributes\":{},\"id\":\"5324\",\"type\":\"AllLabels\"},{\"attributes\":{\"factors\":[\"'Liam Neeson'\",\"'Aaron Eckhart'\",\"'Steven Zaillian'\",\"'Ben Kingsley'\",\"'Al Pacino'\",\"'Francis Ford Coppola'\",\"'James Caan'\",\"'Marlon Brando'\",\"'Tim Robbins'\",\"'Bob Gunton'\"],\"tags\":[[[\"Top 5 Casts\",\"Top 5 Casts\",null]]]},\"id\":\"5279\",\"type\":\"FactorRange\"},{\"attributes\":{},\"id\":\"5288\",\"type\":\"CategoricalScale\"},{\"attributes\":{\"fill_alpha\":{\"value\":0.1},\"fill_color\":{\"value\":\"goldenrod\"},\"hatch_alpha\":{\"value\":0.1},\"hatch_color\":{\"value\":\"goldenrod\"},\"height\":{\"value\":0.8},\"line_alpha\":{\"value\":0.1},\"right\":{\"field\":\"Rating\"},\"y\":{\"field\":\"Top_5_Casts\"}},\"id\":\"5314\",\"type\":\"HBar\"}],\"root_ids\":[\"5277\"]},\"title\":\"Bokeh Application\",\"version\":\"2.4.3\"}};\n",
       "    var render_items = [{\"docid\":\"feeeede8-de2c-41fc-aa56-92920d42e6c7\",\"root_ids\":[\"5277\"],\"roots\":{\"5277\":\"93622e65-450f-45d1-9e97-e8c1b0bb29cf\"}}];\n",
       "    root.Bokeh.embed.embed_items_notebook(docs_json, render_items);\n",
       "    for (const render_item of render_items) {\n",
       "      for (const root_id of render_item.root_ids) {\n",
       "\tconst id_el = document.getElementById(root_id)\n",
       "\tif (id_el.children.length && (id_el.children[0].className === 'bk-root')) {\n",
       "\t  const root_el = id_el.children[0]\n",
       "\t  root_el.id = root_el.id + '-rendered'\n",
       "\t}\n",
       "      }\n",
       "    }\n",
       "  }\n",
       "  if (root.Bokeh !== undefined && root.Bokeh.Panel !== undefined) {\n",
       "    embed_document(root);\n",
       "  } else {\n",
       "    var attempts = 0;\n",
       "    var timer = setInterval(function(root) {\n",
       "      if (root.Bokeh !== undefined && root.Bokeh.Panel !== undefined) {\n",
       "        clearInterval(timer);\n",
       "        embed_document(root);\n",
       "      } else if (document.readyState == \"complete\") {\n",
       "        attempts++;\n",
       "        if (attempts > 200) {\n",
       "          clearInterval(timer);\n",
       "          console.log(\"Bokeh: ERROR: Unable to run BokehJS code because BokehJS library is missing\");\n",
       "        }\n",
       "      }\n",
       "    }, 25, root)\n",
       "  }\n",
       "})(window);</script>"
      ],
      "text/plain": [
       ":Bars   [Top 5 Casts]   (Rating)"
      ]
     },
     "execution_count": 64,
     "metadata": {
      "application/vnd.holoviews_exec.v0+json": {
       "id": "5277"
      }
     },
     "output_type": "execute_result"
    }
   ],
   "source": [
    "rated_actors = df_exploded_casts[df_exploded_casts['User Rating'] >= 1000000].groupby(['Top 5 Casts'])['Rating'].mean().sort_values().dropna().tail(10)\n",
    "\n",
    "rated_actors.hvplot.barh(title='Top 10 Actors/Actresses in High Rated Films',\n",
    "                       ylabel='Number of Movie Appearances',xlabel='Name', color='goldenrod',\n",
    "                       height=500, width=1000, fontsize={'title':16, 'ylabel':12, 'xlabel':12, 'yticks':12})"
   ]
  }
 ],
 "metadata": {
  "kernelspec": {
   "display_name": "Python 3",
   "language": "python",
   "name": "python3"
  },
  "language_info": {
   "codemirror_mode": {
    "name": "ipython",
    "version": 3
   },
   "file_extension": ".py",
   "mimetype": "text/x-python",
   "name": "python",
   "nbconvert_exporter": "python",
   "pygments_lexer": "ipython3",
   "version": "3.10.6"
  },
  "orig_nbformat": 4
 },
 "nbformat": 4,
 "nbformat_minor": 2
}
