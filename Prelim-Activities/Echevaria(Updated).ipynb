{
 "cells": [
  {
   "cell_type": "code",
   "execution_count": 8,
   "metadata": {},
   "outputs": [
    {
     "name": "stdout",
     "output_type": "stream",
     "text": [
      "Python include the following:\n",
      "Python is a high-level language intended to be relatively\n",
      "Python is an interpreter and when we are running Python interactively, \n",
      "Python program to count the words than it would be to manually \n",
      "Python takes our perfectly written programs and rejects them as \n",
      "Python is much more like a dog, loving you unconditionally, having a few\n",
      "Python does its best to point right at the line and character where \n",
      "\n",
      "The sum of all numbers is 445833\n",
      "The highest number is 9795\n",
      "The total vowel count is 8361\n",
      "Python word count is 103\n"
     ]
    }
   ],
   "source": [
    "#Echevaria, John leo D. \n",
    "\n",
    "# Updated into opening the file once only.\n",
    "import re\n",
    "with open('regex_sum_42.txt','r') as text_file:\n",
    "    text = text_file.readlines() # List of lines\n",
    "    pattern = re.compile(r'^Python')\n",
    "    lines = \"\"\n",
    "    for line in text:\n",
    "        lines += line\n",
    "        if re.search(pattern, line):\n",
    "            print(line, end=\"\")\n",
    "    print()\n",
    "\n",
    "    pattern = re.compile(r'\\d+')\n",
    "    matches = re.findall(pattern, lines)\n",
    "    matches = [int(i) for i in matches]\n",
    "    print(f\"The sum of all numbers is {sum(matches)}\")\n",
    "    print(f\"The highest number is {max(matches)}\")\n",
    "    pattern = re.compile(r'[aeiouAEIOU]')\n",
    "    matches = re.findall(pattern, lines)\n",
    "    print(f\"The total vowel count is {len(matches)}\")\n",
    "    pattern = re.compile(r'Python')\n",
    "    matches = re.findall(pattern, lines)\n",
    "    print(f\"Python word count is {len(matches)}\")"
   ]
  }
 ],
 "metadata": {
  "kernelspec": {
   "display_name": "Python 3",
   "language": "python",
   "name": "python3"
  },
  "language_info": {
   "codemirror_mode": {
    "name": "ipython",
    "version": 3
   },
   "file_extension": ".py",
   "mimetype": "text/x-python",
   "name": "python",
   "nbconvert_exporter": "python",
   "pygments_lexer": "ipython3",
   "version": "3.10.6 (tags/v3.10.6:9c7b4bd, Aug  1 2022, 21:53:49) [MSC v.1932 64 bit (AMD64)]"
  },
  "orig_nbformat": 4,
  "vscode": {
   "interpreter": {
    "hash": "52634da84371cba311ea128a5ea7cdc41ff074b781779e754b270ff9f8153cee"
   }
  }
 },
 "nbformat": 4,
 "nbformat_minor": 2
}
