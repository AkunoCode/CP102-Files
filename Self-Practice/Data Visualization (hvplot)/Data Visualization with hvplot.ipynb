{
 "cells": [
  {
   "cell_type": "markdown",
   "metadata": {},
   "source": [
    "<font size = 5><center>Introduction to Python for Data Science</center></font><br>\n",
    "<font size = 5><center><strong>Data Visualization</strong></center></font><br>\n",
    "<font size = 5><center>(Interactive Data Visualization with hvplot)</center></font><br>\n",
    "<center><font size = 4>Rodrigo C. Belleza Jr.</font><br/>College of Computing and Multimedia Studies<br/>Manuel S. Enverga University Foundation</center>"
   ]
  },
  {
   "cell_type": "markdown",
   "metadata": {},
   "source": [
    "#### Intalling hvplot package\n",
    "\n",
    "Execute **pip install hvplot** in the Anaconda prompt\n",
    "\n",
    "**Documentation**\n",
    "\n",
    "https://hvplot.holoviz.org/"
   ]
  },
  {
   "cell_type": "markdown",
   "metadata": {},
   "source": [
    "#### Import the Pandas and Numpy packages"
   ]
  },
  {
   "cell_type": "code",
   "execution_count": 1,
   "metadata": {},
   "outputs": [],
   "source": [
    "import pandas as pd"
   ]
  },
  {
   "cell_type": "markdown",
   "metadata": {},
   "source": [
    "#### Open the diseases.csv file and display the first 5 rows"
   ]
  },
  {
   "cell_type": "code",
   "execution_count": 4,
   "metadata": {},
   "outputs": [
    {
     "data": {
      "text/html": [
       "<div>\n",
       "<style scoped>\n",
       "    .dataframe tbody tr th:only-of-type {\n",
       "        vertical-align: middle;\n",
       "    }\n",
       "\n",
       "    .dataframe tbody tr th {\n",
       "        vertical-align: top;\n",
       "    }\n",
       "\n",
       "    .dataframe thead th {\n",
       "        text-align: right;\n",
       "    }\n",
       "</style>\n",
       "<table border=\"1\" class=\"dataframe\">\n",
       "  <thead>\n",
       "    <tr style=\"text-align: right;\">\n",
       "      <th></th>\n",
       "      <th>Year</th>\n",
       "      <th>Week</th>\n",
       "      <th>State</th>\n",
       "      <th>measles</th>\n",
       "      <th>pertussis</th>\n",
       "    </tr>\n",
       "  </thead>\n",
       "  <tbody>\n",
       "    <tr>\n",
       "      <th>0</th>\n",
       "      <td>1928</td>\n",
       "      <td>1</td>\n",
       "      <td>Alabama</td>\n",
       "      <td>3.67</td>\n",
       "      <td>NaN</td>\n",
       "    </tr>\n",
       "    <tr>\n",
       "      <th>1</th>\n",
       "      <td>1928</td>\n",
       "      <td>2</td>\n",
       "      <td>Alabama</td>\n",
       "      <td>6.25</td>\n",
       "      <td>NaN</td>\n",
       "    </tr>\n",
       "    <tr>\n",
       "      <th>2</th>\n",
       "      <td>1928</td>\n",
       "      <td>3</td>\n",
       "      <td>Alabama</td>\n",
       "      <td>7.95</td>\n",
       "      <td>NaN</td>\n",
       "    </tr>\n",
       "    <tr>\n",
       "      <th>3</th>\n",
       "      <td>1928</td>\n",
       "      <td>4</td>\n",
       "      <td>Alabama</td>\n",
       "      <td>12.58</td>\n",
       "      <td>NaN</td>\n",
       "    </tr>\n",
       "    <tr>\n",
       "      <th>4</th>\n",
       "      <td>1928</td>\n",
       "      <td>5</td>\n",
       "      <td>Alabama</td>\n",
       "      <td>8.03</td>\n",
       "      <td>NaN</td>\n",
       "    </tr>\n",
       "  </tbody>\n",
       "</table>\n",
       "</div>"
      ],
      "text/plain": [
       "   Year  Week    State  measles  pertussis\n",
       "0  1928     1  Alabama     3.67        NaN\n",
       "1  1928     2  Alabama     6.25        NaN\n",
       "2  1928     3  Alabama     7.95        NaN\n",
       "3  1928     4  Alabama    12.58        NaN\n",
       "4  1928     5  Alabama     8.03        NaN"
      ]
     },
     "execution_count": 4,
     "metadata": {},
     "output_type": "execute_result"
    }
   ],
   "source": [
    "diseases_data = pd.read_csv('diseases.csv')\n",
    "diseases_data.head()"
   ]
  },
  {
   "cell_type": "markdown",
   "metadata": {},
   "source": [
    "#### Group according to year, apply sum to measles column"
   ]
  },
  {
   "cell_type": "code",
   "execution_count": 5,
   "metadata": {},
   "outputs": [],
   "source": [
    "diseases_by_year = diseases_data[[\"Year\",\"measles\"]].groupby(\"Year\").sum()"
   ]
  },
  {
   "cell_type": "code",
   "execution_count": 6,
   "metadata": {},
   "outputs": [
    {
     "data": {
      "text/html": [
       "<div>\n",
       "<style scoped>\n",
       "    .dataframe tbody tr th:only-of-type {\n",
       "        vertical-align: middle;\n",
       "    }\n",
       "\n",
       "    .dataframe tbody tr th {\n",
       "        vertical-align: top;\n",
       "    }\n",
       "\n",
       "    .dataframe thead th {\n",
       "        text-align: right;\n",
       "    }\n",
       "</style>\n",
       "<table border=\"1\" class=\"dataframe\">\n",
       "  <thead>\n",
       "    <tr style=\"text-align: right;\">\n",
       "      <th></th>\n",
       "      <th>measles</th>\n",
       "    </tr>\n",
       "    <tr>\n",
       "      <th>Year</th>\n",
       "      <th></th>\n",
       "    </tr>\n",
       "  </thead>\n",
       "  <tbody>\n",
       "    <tr>\n",
       "      <th>1928</th>\n",
       "      <td>16924.34</td>\n",
       "    </tr>\n",
       "    <tr>\n",
       "      <th>1929</th>\n",
       "      <td>12060.96</td>\n",
       "    </tr>\n",
       "    <tr>\n",
       "      <th>1930</th>\n",
       "      <td>14575.11</td>\n",
       "    </tr>\n",
       "    <tr>\n",
       "      <th>1931</th>\n",
       "      <td>15427.67</td>\n",
       "    </tr>\n",
       "    <tr>\n",
       "      <th>1932</th>\n",
       "      <td>14481.11</td>\n",
       "    </tr>\n",
       "  </tbody>\n",
       "</table>\n",
       "</div>"
      ],
      "text/plain": [
       "       measles\n",
       "Year          \n",
       "1928  16924.34\n",
       "1929  12060.96\n",
       "1930  14575.11\n",
       "1931  15427.67\n",
       "1932  14481.11"
      ]
     },
     "execution_count": 6,
     "metadata": {},
     "output_type": "execute_result"
    }
   ],
   "source": [
    "diseases_by_year.head()"
   ]
  },
  {
   "cell_type": "markdown",
   "metadata": {},
   "source": [
    "### <font color = 'blue'>PART III : Interactive Data Visualization with hvplot</font>"
   ]
  },
  {
   "cell_type": "markdown",
   "metadata": {},
   "source": [
    "#### Import the hvplot package and display a curve plot.\n",
    "\n",
    "Using the hvplot produce an interactive plot (pan, hover or zoom functionalities) compared to matplotlib which produce a static plot. The hvplot return a HoloViews object (here HoloViews Curve) which displays as Bokeh plot. Holoviews plots are much richer and make it easy to capture your understanding while exploring the data."
   ]
  },
  {
   "cell_type": "code",
   "execution_count": 8,
   "metadata": {},
   "outputs": [],
   "source": [
    "import hvplot.pandas"
   ]
  },
  {
   "cell_type": "markdown",
   "metadata": {},
   "source": [
    "**Visualize using line chart**"
   ]
  },
  {
   "cell_type": "code",
   "execution_count": 9,
   "metadata": {},
   "outputs": [
    {
     "data": {},
     "metadata": {},
     "output_type": "display_data"
    },
    {
     "data": {
      "application/vnd.holoviews_exec.v0+json": "",
      "text/html": [
       "<div id='1002'>\n",
       "\n",
       "\n",
       "\n",
       "\n",
       "\n",
       "  <div class=\"bk-root\" id=\"3e8ad8e1-2162-4917-862e-82fd6039cb60\" data-root-id=\"1002\"></div>\n",
       "</div>\n",
       "<script type=\"application/javascript\">(function(root) {\n",
       "  function embed_document(root) {\n",
       "    var docs_json = {\"31b6f539-b4d8-4042-8892-8b060245e26a\":{\"defs\":[{\"extends\":null,\"module\":null,\"name\":\"ReactiveHTML1\",\"overrides\":[],\"properties\":[]},{\"extends\":null,\"module\":null,\"name\":\"FlexBox1\",\"overrides\":[],\"properties\":[{\"default\":\"flex-start\",\"kind\":null,\"name\":\"align_content\"},{\"default\":\"flex-start\",\"kind\":null,\"name\":\"align_items\"},{\"default\":\"row\",\"kind\":null,\"name\":\"flex_direction\"},{\"default\":\"wrap\",\"kind\":null,\"name\":\"flex_wrap\"},{\"default\":\"flex-start\",\"kind\":null,\"name\":\"justify_content\"}]},{\"extends\":null,\"module\":null,\"name\":\"TemplateActions1\",\"overrides\":[],\"properties\":[{\"default\":0,\"kind\":null,\"name\":\"open_modal\"},{\"default\":0,\"kind\":null,\"name\":\"close_modal\"}]},{\"extends\":null,\"module\":null,\"name\":\"MaterialTemplateActions1\",\"overrides\":[],\"properties\":[{\"default\":0,\"kind\":null,\"name\":\"open_modal\"},{\"default\":0,\"kind\":null,\"name\":\"close_modal\"}]}],\"roots\":{\"references\":[{\"attributes\":{\"axis_label\":\"measles\",\"coordinates\":null,\"formatter\":{\"id\":\"1050\"},\"group\":null,\"major_label_policy\":{\"id\":\"1051\"},\"ticker\":{\"id\":\"1021\"}},\"id\":\"1020\",\"type\":\"LinearAxis\"},{\"attributes\":{},\"id\":\"1021\",\"type\":\"BasicTicker\"},{\"attributes\":{},\"id\":\"1026\",\"type\":\"WheelZoomTool\"},{\"attributes\":{\"line_color\":\"#30a2da\",\"line_width\":2,\"x\":{\"field\":\"Year\"},\"y\":{\"field\":\"measles\"}},\"id\":\"1045\",\"type\":\"Line\"},{\"attributes\":{},\"id\":\"1024\",\"type\":\"SaveTool\"},{\"attributes\":{},\"id\":\"1025\",\"type\":\"PanTool\"},{\"attributes\":{\"data\":{\"Year\":[1928,1929,1930,1931,1932,1933,1934,1935,1936,1937,1938,1939,1940,1941,1942,1943,1944,1945,1946,1947,1948,1949,1950,1951,1952,1953,1954,1955,1956,1957,1958,1959,1960,1961,1962,1963,1964,1965,1966,1967,1968,1969,1970,1971,1972,1973,1974,1975,1976,1977,1978,1979,1980,1981,1982,1983,1984,1985,1986,1987,1988,1989,1990,1991,1992,1993,1994,1995,1996,1997,1998,1999,2000,2001,2002,2003,2004,2005,2006,2007,2008,2009,2010,2011],\"measles\":{\"__ndarray__\":\"KVyPwhWH0EAUrkfheo7HQEjhehSOd8xAKVyPwtUhzkBI4XoUjkjMQBSuR+Ea/cZASOF6FN643UAK16NwvX7YQJqZmZn5U8hAhetRuF7cxUCPwvUoDM7ZQOxRuB7lc9RAzczMzGxJyUAAAAAAgM7VQK5H4XoUeNRAUrgehUur1kDD9ShcHxbTQDMzMzNzTbVAAAAAAEAl00CkcD0K927CQMP1KFwPQs5A9ihcj1KB1UBSuB6F63LCQBSuR+F6YNFAzczMzHxB0kCF61G4nnDLQFyPwvU4BtRAMzMzM1MJ0kBmZmZmZnzSQOF6FK5nwNBAhetRuN761ECF61G4XovKQFyPwvUo5MpAmpmZmfmyxkD2KFyPIhvNQIXrUbh+ucVA16NwPSq0yUDsUbgepZ/CQBSuR+F6JLVAH4XrUbhhnUDsUbgehbd+QClcj8L1TIJAzczMzMxbkUAzMzMzM6qdQHE9CtejiohAj8L1KFzVhkBSuB6F6yl6QClcj8L15oRACtejcD2ikEDXo3A9CgqRQGZmZmZmSoNAXI/C9ShscEAzMzMzM8txQDMzMzMzcz9Aw/UoXI9CMUApXI/C9SgvQB+F61G4XkdAZ2ZmZmbmT0DD9Shcj/JYQK5H4XoUnlNAKVyPwvXISUBxPQrXo9BnQBWuR+F6TG1AAAAAAADIYEAK16NwPco8QB+F61G4niFAhetRuB6FM0AAAAAAAAAVQFyPwvUonDhApHA9CtejO0CF61G4HoUJQHE9CtejcO0/ZmZmZmZm+j+kcD0K16P4P9ejcD0K19M/AAAAAAAAAAAAAAAAAAAAAAAAAAAAAAAAAAAAAAAAAAAAAAAAAAAAAAAAAAAAAAAAAAAAAAAAAAAAAAAAAAAAAAAAAAAAAAAA\",\"dtype\":\"float64\",\"order\":\"little\",\"shape\":[84]}},\"selected\":{\"id\":\"1038\"},\"selection_policy\":{\"id\":\"1059\"}},\"id\":\"1037\",\"type\":\"ColumnDataSource\"},{\"attributes\":{\"overlay\":{\"id\":\"1029\"}},\"id\":\"1027\",\"type\":\"BoxZoomTool\"},{\"attributes\":{},\"id\":\"1028\",\"type\":\"ResetTool\"},{\"attributes\":{\"margin\":[5,5,5,5],\"name\":\"HSpacer01630\",\"sizing_mode\":\"stretch_width\"},\"id\":\"1003\",\"type\":\"Spacer\"},{\"attributes\":{\"bottom_units\":\"screen\",\"coordinates\":null,\"fill_alpha\":0.5,\"fill_color\":\"lightgrey\",\"group\":null,\"left_units\":\"screen\",\"level\":\"overlay\",\"line_alpha\":1.0,\"line_color\":\"black\",\"line_dash\":[4,4],\"line_width\":2,\"right_units\":\"screen\",\"syncable\":false,\"top_units\":\"screen\"},\"id\":\"1029\",\"type\":\"BoxAnnotation\"},{\"attributes\":{},\"id\":\"1047\",\"type\":\"BasicTickFormatter\"},{\"attributes\":{},\"id\":\"1048\",\"type\":\"AllLabels\"},{\"attributes\":{},\"id\":\"1038\",\"type\":\"Selection\"},{\"attributes\":{},\"id\":\"1050\",\"type\":\"BasicTickFormatter\"},{\"attributes\":{},\"id\":\"1051\",\"type\":\"AllLabels\"},{\"attributes\":{},\"id\":\"1059\",\"type\":\"UnionRenderers\"},{\"attributes\":{\"line_alpha\":0.2,\"line_color\":\"#30a2da\",\"line_width\":2,\"x\":{\"field\":\"Year\"},\"y\":{\"field\":\"measles\"}},\"id\":\"1042\",\"type\":\"Line\"},{\"attributes\":{},\"id\":\"1014\",\"type\":\"LinearScale\"},{\"attributes\":{\"margin\":[5,5,5,5],\"name\":\"HSpacer01631\",\"sizing_mode\":\"stretch_width\"},\"id\":\"1072\",\"type\":\"Spacer\"},{\"attributes\":{\"line_alpha\":0.1,\"line_color\":\"#30a2da\",\"line_width\":2,\"x\":{\"field\":\"Year\"},\"y\":{\"field\":\"measles\"}},\"id\":\"1041\",\"type\":\"Line\"},{\"attributes\":{\"line_color\":\"#30a2da\",\"line_width\":2,\"x\":{\"field\":\"Year\"},\"y\":{\"field\":\"measles\"}},\"id\":\"1040\",\"type\":\"Line\"},{\"attributes\":{\"coordinates\":null,\"data_source\":{\"id\":\"1037\"},\"glyph\":{\"id\":\"1040\"},\"group\":null,\"hover_glyph\":null,\"muted_glyph\":{\"id\":\"1042\"},\"nonselection_glyph\":{\"id\":\"1041\"},\"selection_glyph\":{\"id\":\"1045\"},\"view\":{\"id\":\"1044\"}},\"id\":\"1043\",\"type\":\"GlyphRenderer\"},{\"attributes\":{\"coordinates\":null,\"group\":null,\"text_color\":\"black\",\"text_font_size\":\"12pt\"},\"id\":\"1008\",\"type\":\"Title\"},{\"attributes\":{\"source\":{\"id\":\"1037\"}},\"id\":\"1044\",\"type\":\"CDSView\"},{\"attributes\":{\"end\":33479.017,\"reset_end\":33479.017,\"reset_start\":-3043.5470000000005,\"start\":-3043.5470000000005,\"tags\":[[[\"measles\",\"measles\",null]]]},\"id\":\"1005\",\"type\":\"Range1d\"},{\"attributes\":{\"tools\":[{\"id\":\"1006\"},{\"id\":\"1024\"},{\"id\":\"1025\"},{\"id\":\"1026\"},{\"id\":\"1027\"},{\"id\":\"1028\"}]},\"id\":\"1030\",\"type\":\"Toolbar\"},{\"attributes\":{\"children\":[{\"id\":\"1003\"},{\"id\":\"1007\"},{\"id\":\"1072\"}],\"margin\":[0,0,0,0],\"name\":\"Row01626\",\"tags\":[\"embedded\"]},\"id\":\"1002\",\"type\":\"Row\"},{\"attributes\":{\"end\":2011.0,\"reset_end\":2011.0,\"reset_start\":1928.0,\"start\":1928.0,\"tags\":[[[\"Year\",\"Year\",null]]]},\"id\":\"1004\",\"type\":\"Range1d\"},{\"attributes\":{\"axis\":{\"id\":\"1016\"},\"coordinates\":null,\"grid_line_color\":null,\"group\":null,\"ticker\":null},\"id\":\"1019\",\"type\":\"Grid\"},{\"attributes\":{},\"id\":\"1012\",\"type\":\"LinearScale\"},{\"attributes\":{\"callback\":null,\"renderers\":[{\"id\":\"1043\"}],\"tags\":[\"hv_created\"],\"tooltips\":[[\"Year\",\"@{Year}\"],[\"measles\",\"@{measles}\"]]},\"id\":\"1006\",\"type\":\"HoverTool\"},{\"attributes\":{\"axis\":{\"id\":\"1020\"},\"coordinates\":null,\"dimension\":1,\"grid_line_color\":null,\"group\":null,\"ticker\":null},\"id\":\"1023\",\"type\":\"Grid\"},{\"attributes\":{\"below\":[{\"id\":\"1016\"}],\"center\":[{\"id\":\"1019\"},{\"id\":\"1023\"}],\"height\":300,\"left\":[{\"id\":\"1020\"}],\"margin\":[5,5,5,5],\"min_border_bottom\":10,\"min_border_left\":10,\"min_border_right\":10,\"min_border_top\":10,\"renderers\":[{\"id\":\"1043\"}],\"sizing_mode\":\"fixed\",\"title\":{\"id\":\"1008\"},\"toolbar\":{\"id\":\"1030\"},\"width\":700,\"x_range\":{\"id\":\"1004\"},\"x_scale\":{\"id\":\"1012\"},\"y_range\":{\"id\":\"1005\"},\"y_scale\":{\"id\":\"1014\"}},\"id\":\"1007\",\"subtype\":\"Figure\",\"type\":\"Plot\"},{\"attributes\":{\"axis_label\":\"Year\",\"coordinates\":null,\"formatter\":{\"id\":\"1047\"},\"group\":null,\"major_label_policy\":{\"id\":\"1048\"},\"ticker\":{\"id\":\"1017\"}},\"id\":\"1016\",\"type\":\"LinearAxis\"},{\"attributes\":{},\"id\":\"1017\",\"type\":\"BasicTicker\"}],\"root_ids\":[\"1002\"]},\"title\":\"Bokeh Application\",\"version\":\"2.4.1\"}};\n",
       "    var render_items = [{\"docid\":\"31b6f539-b4d8-4042-8892-8b060245e26a\",\"root_ids\":[\"1002\"],\"roots\":{\"1002\":\"3e8ad8e1-2162-4917-862e-82fd6039cb60\"}}];\n",
       "    root.Bokeh.embed.embed_items_notebook(docs_json, render_items);\n",
       "  }\n",
       "  if (root.Bokeh !== undefined && root.Bokeh.Panel !== undefined) {\n",
       "    embed_document(root);\n",
       "  } else {\n",
       "    var attempts = 0;\n",
       "    var timer = setInterval(function(root) {\n",
       "      if (root.Bokeh !== undefined && root.Bokeh.Panel !== undefined) {\n",
       "        clearInterval(timer);\n",
       "        embed_document(root);\n",
       "      } else if (document.readyState == \"complete\") {\n",
       "        attempts++;\n",
       "        if (attempts > 200) {\n",
       "          clearInterval(timer);\n",
       "          console.log(\"Bokeh: ERROR: Unable to run BokehJS code because BokehJS library is missing\");\n",
       "        }\n",
       "      }\n",
       "    }, 25, root)\n",
       "  }\n",
       "})(window);</script>"
      ],
      "text/plain": [
       ":Curve   [Year]   (measles)"
      ]
     },
     "execution_count": 9,
     "metadata": {
      "application/vnd.holoviews_exec.v0+json": {
       "id": "1002"
      }
     },
     "output_type": "execute_result"
    }
   ],
   "source": [
    "diseases_by_year.hvplot()"
   ]
  },
  {
   "cell_type": "code",
   "execution_count": 11,
   "metadata": {},
   "outputs": [
    {
     "data": {},
     "metadata": {},
     "output_type": "display_data"
    },
    {
     "data": {
      "application/vnd.holoviews_exec.v0+json": "",
      "text/html": [
       "<div id='1246'>\n",
       "\n",
       "\n",
       "\n",
       "\n",
       "\n",
       "  <div class=\"bk-root\" id=\"148a222a-f134-4010-8066-01fd43d8625d\" data-root-id=\"1246\"></div>\n",
       "</div>\n",
       "<script type=\"application/javascript\">(function(root) {\n",
       "  function embed_document(root) {\n",
       "    var docs_json = {\"bbf24917-4f34-4a6a-b8e5-ede45729e208\":{\"defs\":[{\"extends\":null,\"module\":null,\"name\":\"ReactiveHTML1\",\"overrides\":[],\"properties\":[]},{\"extends\":null,\"module\":null,\"name\":\"FlexBox1\",\"overrides\":[],\"properties\":[{\"default\":\"flex-start\",\"kind\":null,\"name\":\"align_content\"},{\"default\":\"flex-start\",\"kind\":null,\"name\":\"align_items\"},{\"default\":\"row\",\"kind\":null,\"name\":\"flex_direction\"},{\"default\":\"wrap\",\"kind\":null,\"name\":\"flex_wrap\"},{\"default\":\"flex-start\",\"kind\":null,\"name\":\"justify_content\"}]},{\"extends\":null,\"module\":null,\"name\":\"TemplateActions1\",\"overrides\":[],\"properties\":[{\"default\":0,\"kind\":null,\"name\":\"open_modal\"},{\"default\":0,\"kind\":null,\"name\":\"close_modal\"}]},{\"extends\":null,\"module\":null,\"name\":\"MaterialTemplateActions1\",\"overrides\":[],\"properties\":[{\"default\":0,\"kind\":null,\"name\":\"open_modal\"},{\"default\":0,\"kind\":null,\"name\":\"close_modal\"}]}],\"roots\":{\"references\":[{\"attributes\":{},\"id\":\"1268\",\"type\":\"SaveTool\"},{\"attributes\":{\"line_color\":\"red\",\"line_width\":3,\"x\":{\"field\":\"Year\"},\"y\":{\"field\":\"measles\"}},\"id\":\"1289\",\"type\":\"Line\"},{\"attributes\":{\"overlay\":{\"id\":\"1273\"}},\"id\":\"1271\",\"type\":\"BoxZoomTool\"},{\"attributes\":{\"coordinates\":null,\"data_source\":{\"id\":\"1281\"},\"glyph\":{\"id\":\"1284\"},\"group\":null,\"hover_glyph\":null,\"muted_glyph\":{\"id\":\"1286\"},\"nonselection_glyph\":{\"id\":\"1285\"},\"selection_glyph\":{\"id\":\"1289\"},\"view\":{\"id\":\"1288\"}},\"id\":\"1287\",\"type\":\"GlyphRenderer\"},{\"attributes\":{},\"id\":\"1272\",\"type\":\"ResetTool\"},{\"attributes\":{\"source\":{\"id\":\"1281\"}},\"id\":\"1288\",\"type\":\"CDSView\"},{\"attributes\":{},\"id\":\"1303\",\"type\":\"UnionRenderers\"},{\"attributes\":{\"bottom_units\":\"screen\",\"coordinates\":null,\"fill_alpha\":0.5,\"fill_color\":\"lightgrey\",\"group\":null,\"left_units\":\"screen\",\"level\":\"overlay\",\"line_alpha\":1.0,\"line_color\":\"black\",\"line_dash\":[4,4],\"line_width\":2,\"right_units\":\"screen\",\"syncable\":false,\"top_units\":\"screen\"},\"id\":\"1273\",\"type\":\"BoxAnnotation\"},{\"attributes\":{},\"id\":\"1258\",\"type\":\"LinearScale\"},{\"attributes\":{},\"id\":\"1291\",\"type\":\"BasicTickFormatter\"},{\"attributes\":{\"tools\":[{\"id\":\"1250\"},{\"id\":\"1268\"},{\"id\":\"1269\"},{\"id\":\"1270\"},{\"id\":\"1271\"},{\"id\":\"1272\"}]},\"id\":\"1274\",\"type\":\"Toolbar\"},{\"attributes\":{\"margin\":[5,5,5,5],\"name\":\"HSpacer01984\",\"sizing_mode\":\"stretch_width\"},\"id\":\"1247\",\"type\":\"Spacer\"},{\"attributes\":{\"children\":[{\"id\":\"1247\"},{\"id\":\"1251\"},{\"id\":\"1316\"}],\"margin\":[0,0,0,0],\"name\":\"Row01980\",\"tags\":[\"embedded\"]},\"id\":\"1246\",\"type\":\"Row\"},{\"attributes\":{},\"id\":\"1256\",\"type\":\"LinearScale\"},{\"attributes\":{\"data\":{\"Year\":[1928,1929,1930,1931,1932,1933,1934,1935,1936,1937,1938,1939,1940,1941,1942,1943,1944,1945,1946,1947,1948,1949,1950,1951,1952,1953,1954,1955,1956,1957,1958,1959,1960,1961,1962,1963,1964,1965,1966,1967,1968,1969,1970,1971,1972,1973,1974,1975,1976,1977,1978,1979,1980,1981,1982,1983,1984,1985,1986,1987,1988,1989,1990,1991,1992,1993,1994,1995,1996,1997,1998,1999,2000,2001,2002,2003,2004,2005,2006,2007,2008,2009,2010,2011],\"measles\":{\"__ndarray__\":\"KVyPwhWH0EAUrkfheo7HQEjhehSOd8xAKVyPwtUhzkBI4XoUjkjMQBSuR+Ea/cZASOF6FN643UAK16NwvX7YQJqZmZn5U8hAhetRuF7cxUCPwvUoDM7ZQOxRuB7lc9RAzczMzGxJyUAAAAAAgM7VQK5H4XoUeNRAUrgehUur1kDD9ShcHxbTQDMzMzNzTbVAAAAAAEAl00CkcD0K927CQMP1KFwPQs5A9ihcj1KB1UBSuB6F63LCQBSuR+F6YNFAzczMzHxB0kCF61G4nnDLQFyPwvU4BtRAMzMzM1MJ0kBmZmZmZnzSQOF6FK5nwNBAhetRuN761ECF61G4XovKQFyPwvUo5MpAmpmZmfmyxkD2KFyPIhvNQIXrUbh+ucVA16NwPSq0yUDsUbgepZ/CQBSuR+F6JLVAH4XrUbhhnUDsUbgehbd+QClcj8L1TIJAzczMzMxbkUAzMzMzM6qdQHE9CtejiohAj8L1KFzVhkBSuB6F6yl6QClcj8L15oRACtejcD2ikEDXo3A9CgqRQGZmZmZmSoNAXI/C9ShscEAzMzMzM8txQDMzMzMzcz9Aw/UoXI9CMUApXI/C9SgvQB+F61G4XkdAZ2ZmZmbmT0DD9Shcj/JYQK5H4XoUnlNAKVyPwvXISUBxPQrXo9BnQBWuR+F6TG1AAAAAAADIYEAK16NwPco8QB+F61G4niFAhetRuB6FM0AAAAAAAAAVQFyPwvUonDhApHA9CtejO0CF61G4HoUJQHE9CtejcO0/ZmZmZmZm+j+kcD0K16P4P9ejcD0K19M/AAAAAAAAAAAAAAAAAAAAAAAAAAAAAAAAAAAAAAAAAAAAAAAAAAAAAAAAAAAAAAAAAAAAAAAAAAAAAAAAAAAAAAAAAAAAAAAA\",\"dtype\":\"float64\",\"order\":\"little\",\"shape\":[84]}},\"selected\":{\"id\":\"1282\"},\"selection_policy\":{\"id\":\"1303\"}},\"id\":\"1281\",\"type\":\"ColumnDataSource\"},{\"attributes\":{\"line_alpha\":0.1,\"line_color\":\"red\",\"line_width\":3,\"x\":{\"field\":\"Year\"},\"y\":{\"field\":\"measles\"}},\"id\":\"1285\",\"type\":\"Line\"},{\"attributes\":{},\"id\":\"1292\",\"type\":\"AllLabels\"},{\"attributes\":{\"callback\":null,\"renderers\":[{\"id\":\"1287\"}],\"tags\":[\"hv_created\"],\"tooltips\":[[\"Year\",\"@{Year}\"],[\"measles\",\"@{measles}\"]]},\"id\":\"1250\",\"type\":\"HoverTool\"},{\"attributes\":{\"line_color\":\"red\",\"line_width\":3,\"x\":{\"field\":\"Year\"},\"y\":{\"field\":\"measles\"}},\"id\":\"1284\",\"type\":\"Line\"},{\"attributes\":{\"end\":2011.0,\"reset_end\":2011.0,\"reset_start\":1928.0,\"start\":1928.0,\"tags\":[[[\"Year\",\"Year\",null]]]},\"id\":\"1248\",\"type\":\"Range1d\"},{\"attributes\":{\"margin\":[5,5,5,5],\"name\":\"HSpacer01985\",\"sizing_mode\":\"stretch_width\"},\"id\":\"1316\",\"type\":\"Spacer\"},{\"attributes\":{},\"id\":\"1282\",\"type\":\"Selection\"},{\"attributes\":{\"axis\":{\"id\":\"1260\"},\"coordinates\":null,\"grid_line_color\":null,\"group\":null,\"ticker\":null},\"id\":\"1263\",\"type\":\"Grid\"},{\"attributes\":{\"end\":33479.017,\"reset_end\":33479.017,\"reset_start\":-3043.5470000000005,\"start\":-3043.5470000000005,\"tags\":[[[\"measles\",\"measles\",null]]]},\"id\":\"1249\",\"type\":\"Range1d\"},{\"attributes\":{},\"id\":\"1294\",\"type\":\"BasicTickFormatter\"},{\"attributes\":{},\"id\":\"1261\",\"type\":\"BasicTicker\"},{\"attributes\":{\"coordinates\":null,\"group\":null,\"text\":\"Measles Cases from 1928-2011\",\"text_color\":\"black\",\"text_font_size\":\"16pt\"},\"id\":\"1252\",\"type\":\"Title\"},{\"attributes\":{},\"id\":\"1295\",\"type\":\"AllLabels\"},{\"attributes\":{\"below\":[{\"id\":\"1260\"}],\"center\":[{\"id\":\"1263\"},{\"id\":\"1267\"}],\"height\":500,\"left\":[{\"id\":\"1264\"}],\"margin\":[5,5,5,5],\"min_border_bottom\":10,\"min_border_left\":10,\"min_border_right\":10,\"min_border_top\":10,\"renderers\":[{\"id\":\"1287\"}],\"sizing_mode\":\"fixed\",\"title\":{\"id\":\"1252\"},\"toolbar\":{\"id\":\"1274\"},\"width\":800,\"x_range\":{\"id\":\"1248\"},\"x_scale\":{\"id\":\"1256\"},\"y_range\":{\"id\":\"1249\"},\"y_scale\":{\"id\":\"1258\"}},\"id\":\"1251\",\"subtype\":\"Figure\",\"type\":\"Plot\"},{\"attributes\":{\"line_alpha\":0.2,\"line_color\":\"red\",\"line_width\":3,\"x\":{\"field\":\"Year\"},\"y\":{\"field\":\"measles\"}},\"id\":\"1286\",\"type\":\"Line\"},{\"attributes\":{\"axis\":{\"id\":\"1264\"},\"coordinates\":null,\"dimension\":1,\"grid_line_color\":null,\"group\":null,\"ticker\":null},\"id\":\"1267\",\"type\":\"Grid\"},{\"attributes\":{\"axis_label\":\"Year\",\"axis_label_text_font_size\":\"12pt\",\"coordinates\":null,\"formatter\":{\"id\":\"1291\"},\"group\":null,\"major_label_policy\":{\"id\":\"1292\"},\"major_label_text_font_size\":\"11pt\",\"ticker\":{\"id\":\"1261\"}},\"id\":\"1260\",\"type\":\"LinearAxis\"},{\"attributes\":{},\"id\":\"1269\",\"type\":\"PanTool\"},{\"attributes\":{\"axis_label\":\"No. of Measles Cases\",\"axis_label_text_font_size\":\"12pt\",\"coordinates\":null,\"formatter\":{\"id\":\"1294\"},\"group\":null,\"major_label_policy\":{\"id\":\"1295\"},\"major_label_text_font_size\":\"11pt\",\"ticker\":{\"id\":\"1265\"}},\"id\":\"1264\",\"type\":\"LinearAxis\"},{\"attributes\":{},\"id\":\"1265\",\"type\":\"BasicTicker\"},{\"attributes\":{},\"id\":\"1270\",\"type\":\"WheelZoomTool\"}],\"root_ids\":[\"1246\"]},\"title\":\"Bokeh Application\",\"version\":\"2.4.1\"}};\n",
       "    var render_items = [{\"docid\":\"bbf24917-4f34-4a6a-b8e5-ede45729e208\",\"root_ids\":[\"1246\"],\"roots\":{\"1246\":\"148a222a-f134-4010-8066-01fd43d8625d\"}}];\n",
       "    root.Bokeh.embed.embed_items_notebook(docs_json, render_items);\n",
       "  }\n",
       "  if (root.Bokeh !== undefined && root.Bokeh.Panel !== undefined) {\n",
       "    embed_document(root);\n",
       "  } else {\n",
       "    var attempts = 0;\n",
       "    var timer = setInterval(function(root) {\n",
       "      if (root.Bokeh !== undefined && root.Bokeh.Panel !== undefined) {\n",
       "        clearInterval(timer);\n",
       "        embed_document(root);\n",
       "      } else if (document.readyState == \"complete\") {\n",
       "        attempts++;\n",
       "        if (attempts > 200) {\n",
       "          clearInterval(timer);\n",
       "          console.log(\"Bokeh: ERROR: Unable to run BokehJS code because BokehJS library is missing\");\n",
       "        }\n",
       "      }\n",
       "    }, 25, root)\n",
       "  }\n",
       "})(window);</script>"
      ],
      "text/plain": [
       ":Curve   [Year]   (measles)"
      ]
     },
     "execution_count": 11,
     "metadata": {
      "application/vnd.holoviews_exec.v0+json": {
       "id": "1246"
      }
     },
     "output_type": "execute_result"
    }
   ],
   "source": [
    "diseases_by_year.hvplot(line_color = 'red', line_width = 3, title = 'Measles Cases from 1928-2011', \n",
    "                       ylabel = 'No. of Measles Cases', width = 800, height = 500, \n",
    "                       fontsize={'xticks':11,'yticks':11,'ylabel':12,'xlabel':12,'title':16})    "
   ]
  },
  {
   "cell_type": "code",
   "execution_count": 12,
   "metadata": {},
   "outputs": [
    {
     "data": {},
     "metadata": {},
     "output_type": "display_data"
    },
    {
     "data": {
      "application/vnd.holoviews_exec.v0+json": "",
      "text/html": [
       "<div id='1368'>\n",
       "\n",
       "\n",
       "\n",
       "\n",
       "\n",
       "  <div class=\"bk-root\" id=\"96f78bc8-8350-4d8f-8df0-a2646d6f8f39\" data-root-id=\"1368\"></div>\n",
       "</div>\n",
       "<script type=\"application/javascript\">(function(root) {\n",
       "  function embed_document(root) {\n",
       "    var docs_json = {\"3613b2bd-18bf-4265-be77-032f0ee295b9\":{\"defs\":[{\"extends\":null,\"module\":null,\"name\":\"ReactiveHTML1\",\"overrides\":[],\"properties\":[]},{\"extends\":null,\"module\":null,\"name\":\"FlexBox1\",\"overrides\":[],\"properties\":[{\"default\":\"flex-start\",\"kind\":null,\"name\":\"align_content\"},{\"default\":\"flex-start\",\"kind\":null,\"name\":\"align_items\"},{\"default\":\"row\",\"kind\":null,\"name\":\"flex_direction\"},{\"default\":\"wrap\",\"kind\":null,\"name\":\"flex_wrap\"},{\"default\":\"flex-start\",\"kind\":null,\"name\":\"justify_content\"}]},{\"extends\":null,\"module\":null,\"name\":\"TemplateActions1\",\"overrides\":[],\"properties\":[{\"default\":0,\"kind\":null,\"name\":\"open_modal\"},{\"default\":0,\"kind\":null,\"name\":\"close_modal\"}]},{\"extends\":null,\"module\":null,\"name\":\"MaterialTemplateActions1\",\"overrides\":[],\"properties\":[{\"default\":0,\"kind\":null,\"name\":\"open_modal\"},{\"default\":0,\"kind\":null,\"name\":\"close_modal\"}]}],\"roots\":{\"references\":[{\"attributes\":{\"coordinates\":null,\"data_source\":{\"id\":\"1403\"},\"glyph\":{\"id\":\"1406\"},\"group\":null,\"hover_glyph\":null,\"muted_glyph\":{\"id\":\"1408\"},\"nonselection_glyph\":{\"id\":\"1407\"},\"selection_glyph\":{\"id\":\"1411\"},\"view\":{\"id\":\"1410\"}},\"id\":\"1409\",\"type\":\"GlyphRenderer\"},{\"attributes\":{},\"id\":\"1425\",\"type\":\"UnionRenderers\"},{\"attributes\":{\"margin\":[5,5,5,5],\"name\":\"HSpacer02205\",\"sizing_mode\":\"stretch_width\"},\"id\":\"1369\",\"type\":\"Spacer\"},{\"attributes\":{},\"id\":\"1380\",\"type\":\"LinearScale\"},{\"attributes\":{},\"id\":\"1413\",\"type\":\"BasicTickFormatter\"},{\"attributes\":{\"line_alpha\":0.2,\"line_color\":\"red\",\"line_width\":2,\"x\":{\"field\":\"Year\"},\"y\":{\"field\":\"measles\"}},\"id\":\"1408\",\"type\":\"Line\"},{\"attributes\":{},\"id\":\"1414\",\"type\":\"AllLabels\"},{\"attributes\":{\"children\":[{\"id\":\"1369\"},{\"id\":\"1373\"},{\"id\":\"1438\"}],\"margin\":[0,0,0,0],\"name\":\"Row02201\",\"tags\":[\"embedded\"]},\"id\":\"1368\",\"type\":\"Row\"},{\"attributes\":{},\"id\":\"1378\",\"type\":\"LinearScale\"},{\"attributes\":{\"data\":{\"Year\":[1928,1929,1930,1931,1932,1933,1934,1935,1936,1937,1938,1939,1940,1941,1942,1943,1944,1945,1946,1947,1948,1949,1950,1951,1952,1953,1954,1955,1956,1957,1958,1959,1960,1961,1962,1963,1964,1965,1966,1967,1968,1969,1970,1971,1972,1973,1974,1975,1976,1977,1978,1979,1980,1981,1982,1983,1984,1985,1986,1987,1988,1989,1990,1991,1992,1993,1994,1995,1996,1997,1998,1999,2000,2001,2002,2003,2004,2005,2006,2007,2008,2009,2010,2011],\"measles\":{\"__ndarray__\":\"KVyPwhWH0EAUrkfheo7HQEjhehSOd8xAKVyPwtUhzkBI4XoUjkjMQBSuR+Ea/cZASOF6FN643UAK16NwvX7YQJqZmZn5U8hAhetRuF7cxUCPwvUoDM7ZQOxRuB7lc9RAzczMzGxJyUAAAAAAgM7VQK5H4XoUeNRAUrgehUur1kDD9ShcHxbTQDMzMzNzTbVAAAAAAEAl00CkcD0K927CQMP1KFwPQs5A9ihcj1KB1UBSuB6F63LCQBSuR+F6YNFAzczMzHxB0kCF61G4nnDLQFyPwvU4BtRAMzMzM1MJ0kBmZmZmZnzSQOF6FK5nwNBAhetRuN761ECF61G4XovKQFyPwvUo5MpAmpmZmfmyxkD2KFyPIhvNQIXrUbh+ucVA16NwPSq0yUDsUbgepZ/CQBSuR+F6JLVAH4XrUbhhnUDsUbgehbd+QClcj8L1TIJAzczMzMxbkUAzMzMzM6qdQHE9CtejiohAj8L1KFzVhkBSuB6F6yl6QClcj8L15oRACtejcD2ikEDXo3A9CgqRQGZmZmZmSoNAXI/C9ShscEAzMzMzM8txQDMzMzMzcz9Aw/UoXI9CMUApXI/C9SgvQB+F61G4XkdAZ2ZmZmbmT0DD9Shcj/JYQK5H4XoUnlNAKVyPwvXISUBxPQrXo9BnQBWuR+F6TG1AAAAAAADIYEAK16NwPco8QB+F61G4niFAhetRuB6FM0AAAAAAAAAVQFyPwvUonDhApHA9CtejO0CF61G4HoUJQHE9CtejcO0/ZmZmZmZm+j+kcD0K16P4P9ejcD0K19M/AAAAAAAAAAAAAAAAAAAAAAAAAAAAAAAAAAAAAAAAAAAAAAAAAAAAAAAAAAAAAAAAAAAAAAAAAAAAAAAAAAAAAAAAAAAAAAAA\",\"dtype\":\"float64\",\"order\":\"little\",\"shape\":[84]}},\"selected\":{\"id\":\"1404\"},\"selection_policy\":{\"id\":\"1425\"}},\"id\":\"1403\",\"type\":\"ColumnDataSource\"},{\"attributes\":{\"line_color\":\"red\",\"line_width\":2,\"x\":{\"field\":\"Year\"},\"y\":{\"field\":\"measles\"}},\"id\":\"1411\",\"type\":\"Line\"},{\"attributes\":{\"callback\":null,\"renderers\":[{\"id\":\"1409\"}],\"tags\":[\"hv_created\"],\"tooltips\":[[\"Year\",\"@{Year}\"],[\"measles\",\"@{measles}\"]]},\"id\":\"1372\",\"type\":\"HoverTool\"},{\"attributes\":{\"end\":2011.0,\"reset_end\":2011.0,\"reset_start\":1928.0,\"start\":1928.0,\"tags\":[[[\"Year\",\"Year\",null]]]},\"id\":\"1370\",\"type\":\"Range1d\"},{\"attributes\":{\"axis\":{\"id\":\"1382\"},\"coordinates\":null,\"grid_line_color\":null,\"group\":null,\"ticker\":null},\"id\":\"1385\",\"type\":\"Grid\"},{\"attributes\":{},\"id\":\"1404\",\"type\":\"Selection\"},{\"attributes\":{\"end\":33479.017,\"reset_end\":33479.017,\"reset_start\":-3043.5470000000005,\"start\":-3043.5470000000005,\"tags\":[[[\"measles\",\"measles\",null]]]},\"id\":\"1371\",\"type\":\"Range1d\"},{\"attributes\":{},\"id\":\"1416\",\"type\":\"BasicTickFormatter\"},{\"attributes\":{\"tools\":[{\"id\":\"1372\"},{\"id\":\"1390\"},{\"id\":\"1391\"},{\"id\":\"1392\"},{\"id\":\"1393\"},{\"id\":\"1394\"}]},\"id\":\"1396\",\"type\":\"Toolbar\"},{\"attributes\":{},\"id\":\"1417\",\"type\":\"AllLabels\"},{\"attributes\":{},\"id\":\"1383\",\"type\":\"BasicTicker\"},{\"attributes\":{\"coordinates\":null,\"group\":null,\"text\":\"Measles Cases\",\"text_color\":\"black\",\"text_font_size\":\"16pt\"},\"id\":\"1374\",\"type\":\"Title\"},{\"attributes\":{\"below\":[{\"id\":\"1382\"}],\"center\":[{\"id\":\"1385\"},{\"id\":\"1389\"}],\"height\":500,\"left\":[{\"id\":\"1386\"}],\"margin\":[5,5,5,5],\"min_border_bottom\":10,\"min_border_left\":10,\"min_border_right\":10,\"min_border_top\":10,\"renderers\":[{\"id\":\"1409\"}],\"sizing_mode\":\"fixed\",\"title\":{\"id\":\"1374\"},\"toolbar\":{\"id\":\"1396\"},\"width\":800,\"x_range\":{\"id\":\"1370\"},\"x_scale\":{\"id\":\"1378\"},\"y_range\":{\"id\":\"1371\"},\"y_scale\":{\"id\":\"1380\"}},\"id\":\"1373\",\"subtype\":\"Figure\",\"type\":\"Plot\"},{\"attributes\":{\"axis\":{\"id\":\"1386\"},\"coordinates\":null,\"dimension\":1,\"grid_line_color\":null,\"group\":null,\"ticker\":null},\"id\":\"1389\",\"type\":\"Grid\"},{\"attributes\":{\"axis_label\":\"Year\",\"axis_label_text_color\":\"blue\",\"axis_label_text_font_size\":\"14pt\",\"axis_label_text_font_style\":\"normal\",\"coordinates\":null,\"formatter\":{\"id\":\"1413\"},\"group\":null,\"major_label_policy\":{\"id\":\"1414\"},\"major_label_text_font_size\":\"12pt\",\"ticker\":{\"id\":\"1383\"}},\"id\":\"1382\",\"type\":\"LinearAxis\"},{\"attributes\":{},\"id\":\"1391\",\"type\":\"PanTool\"},{\"attributes\":{\"axis_label\":\"No. of Measles Cases\",\"axis_label_text_color\":\"blue\",\"axis_label_text_font_size\":\"14pt\",\"axis_label_text_font_style\":\"normal\",\"coordinates\":null,\"formatter\":{\"id\":\"1416\"},\"group\":null,\"major_label_policy\":{\"id\":\"1417\"},\"major_label_text_font_size\":\"12pt\",\"ticker\":{\"id\":\"1387\"}},\"id\":\"1386\",\"type\":\"LinearAxis\"},{\"attributes\":{\"line_alpha\":0.1,\"line_color\":\"red\",\"line_width\":2,\"x\":{\"field\":\"Year\"},\"y\":{\"field\":\"measles\"}},\"id\":\"1407\",\"type\":\"Line\"},{\"attributes\":{},\"id\":\"1387\",\"type\":\"BasicTicker\"},{\"attributes\":{},\"id\":\"1392\",\"type\":\"WheelZoomTool\"},{\"attributes\":{},\"id\":\"1390\",\"type\":\"SaveTool\"},{\"attributes\":{\"line_color\":\"red\",\"line_width\":2,\"x\":{\"field\":\"Year\"},\"y\":{\"field\":\"measles\"}},\"id\":\"1406\",\"type\":\"Line\"},{\"attributes\":{\"overlay\":{\"id\":\"1395\"}},\"id\":\"1393\",\"type\":\"BoxZoomTool\"},{\"attributes\":{},\"id\":\"1394\",\"type\":\"ResetTool\"},{\"attributes\":{\"bottom_units\":\"screen\",\"coordinates\":null,\"fill_alpha\":0.5,\"fill_color\":\"lightgrey\",\"group\":null,\"left_units\":\"screen\",\"level\":\"overlay\",\"line_alpha\":1.0,\"line_color\":\"black\",\"line_dash\":[4,4],\"line_width\":2,\"right_units\":\"screen\",\"syncable\":false,\"top_units\":\"screen\"},\"id\":\"1395\",\"type\":\"BoxAnnotation\"},{\"attributes\":{\"margin\":[5,5,5,5],\"name\":\"HSpacer02206\",\"sizing_mode\":\"stretch_width\"},\"id\":\"1438\",\"type\":\"Spacer\"},{\"attributes\":{\"source\":{\"id\":\"1403\"}},\"id\":\"1410\",\"type\":\"CDSView\"}],\"root_ids\":[\"1368\"]},\"title\":\"Bokeh Application\",\"version\":\"2.4.1\"}};\n",
       "    var render_items = [{\"docid\":\"3613b2bd-18bf-4265-be77-032f0ee295b9\",\"root_ids\":[\"1368\"],\"roots\":{\"1368\":\"96f78bc8-8350-4d8f-8df0-a2646d6f8f39\"}}];\n",
       "    root.Bokeh.embed.embed_items_notebook(docs_json, render_items);\n",
       "  }\n",
       "  if (root.Bokeh !== undefined && root.Bokeh.Panel !== undefined) {\n",
       "    embed_document(root);\n",
       "  } else {\n",
       "    var attempts = 0;\n",
       "    var timer = setInterval(function(root) {\n",
       "      if (root.Bokeh !== undefined && root.Bokeh.Panel !== undefined) {\n",
       "        clearInterval(timer);\n",
       "        embed_document(root);\n",
       "      } else if (document.readyState == \"complete\") {\n",
       "        attempts++;\n",
       "        if (attempts > 200) {\n",
       "          clearInterval(timer);\n",
       "          console.log(\"Bokeh: ERROR: Unable to run BokehJS code because BokehJS library is missing\");\n",
       "        }\n",
       "      }\n",
       "    }, 25, root)\n",
       "  }\n",
       "})(window);</script>"
      ],
      "text/plain": [
       ":Curve   [Year]   (measles)"
      ]
     },
     "execution_count": 12,
     "metadata": {
      "application/vnd.holoviews_exec.v0+json": {
       "id": "1368"
      }
     },
     "output_type": "execute_result"
    }
   ],
   "source": [
    "def hook(plot,element):\n",
    "    plot.handles['xaxis'].axis_label_text_font_style = 'normal'\n",
    "    plot.handles['xaxis'].axis_label_text_color = 'blue'\n",
    "    plot.handles['yaxis'].axis_label_text_font_style = 'normal'\n",
    "    plot.handles['yaxis'].axis_label_text_color = 'blue'\n",
    "\n",
    "diseases_by_year.hvplot(line_color = 'red', line_width = 2, title = 'Measles Cases', \n",
    "                       ylabel = 'No. of Measles Cases', width = 800, height = 500, \n",
    "                       fontsize={'xticks':12,'yticks':12,'ylabel':14,'xlabel':14,'title':16}).opts(hooks=[hook])    "
   ]
  },
  {
   "cell_type": "markdown",
   "metadata": {},
   "source": [
    "**Visualize using Table**"
   ]
  },
  {
   "cell_type": "code",
   "execution_count": 18,
   "metadata": {},
   "outputs": [
    {
     "data": {
      "text/html": [
       "<div>\n",
       "<style scoped>\n",
       "    .dataframe tbody tr th:only-of-type {\n",
       "        vertical-align: middle;\n",
       "    }\n",
       "\n",
       "    .dataframe tbody tr th {\n",
       "        vertical-align: top;\n",
       "    }\n",
       "\n",
       "    .dataframe thead th {\n",
       "        text-align: right;\n",
       "    }\n",
       "</style>\n",
       "<table border=\"1\" class=\"dataframe\">\n",
       "  <thead>\n",
       "    <tr style=\"text-align: right;\">\n",
       "      <th></th>\n",
       "      <th>measles</th>\n",
       "    </tr>\n",
       "    <tr>\n",
       "      <th>Year</th>\n",
       "      <th></th>\n",
       "    </tr>\n",
       "  </thead>\n",
       "  <tbody>\n",
       "    <tr>\n",
       "      <th>1928</th>\n",
       "      <td>16924.34</td>\n",
       "    </tr>\n",
       "    <tr>\n",
       "      <th>1929</th>\n",
       "      <td>12060.96</td>\n",
       "    </tr>\n",
       "    <tr>\n",
       "      <th>1930</th>\n",
       "      <td>14575.11</td>\n",
       "    </tr>\n",
       "    <tr>\n",
       "      <th>1931</th>\n",
       "      <td>15427.67</td>\n",
       "    </tr>\n",
       "    <tr>\n",
       "      <th>1932</th>\n",
       "      <td>14481.11</td>\n",
       "    </tr>\n",
       "    <tr>\n",
       "      <th>...</th>\n",
       "      <td>...</td>\n",
       "    </tr>\n",
       "    <tr>\n",
       "      <th>2007</th>\n",
       "      <td>0.00</td>\n",
       "    </tr>\n",
       "    <tr>\n",
       "      <th>2008</th>\n",
       "      <td>0.00</td>\n",
       "    </tr>\n",
       "    <tr>\n",
       "      <th>2009</th>\n",
       "      <td>0.00</td>\n",
       "    </tr>\n",
       "    <tr>\n",
       "      <th>2010</th>\n",
       "      <td>0.00</td>\n",
       "    </tr>\n",
       "    <tr>\n",
       "      <th>2011</th>\n",
       "      <td>0.00</td>\n",
       "    </tr>\n",
       "  </tbody>\n",
       "</table>\n",
       "<p>84 rows × 1 columns</p>\n",
       "</div>"
      ],
      "text/plain": [
       "       measles\n",
       "Year          \n",
       "1928  16924.34\n",
       "1929  12060.96\n",
       "1930  14575.11\n",
       "1931  15427.67\n",
       "1932  14481.11\n",
       "...        ...\n",
       "2007      0.00\n",
       "2008      0.00\n",
       "2009      0.00\n",
       "2010      0.00\n",
       "2011      0.00\n",
       "\n",
       "[84 rows x 1 columns]"
      ]
     },
     "execution_count": 18,
     "metadata": {},
     "output_type": "execute_result"
    }
   ],
   "source": [
    "data = diseases_data[[\"Year\",\"measles\"]].groupby(\"Year\").sum()\n",
    "data"
   ]
  },
  {
   "cell_type": "code",
   "execution_count": 17,
   "metadata": {},
   "outputs": [
    {
     "data": {},
     "metadata": {},
     "output_type": "display_data"
    },
    {
     "data": {
      "application/vnd.holoviews_exec.v0+json": "",
      "text/html": [
       "<div id='1538'>\n",
       "\n",
       "\n",
       "\n",
       "\n",
       "\n",
       "  <div class=\"bk-root\" id=\"e3dda5b9-0535-4c39-88c1-1a83a4fe5abe\" data-root-id=\"1538\"></div>\n",
       "</div>\n",
       "<script type=\"application/javascript\">(function(root) {\n",
       "  function embed_document(root) {\n",
       "    var docs_json = {\"95d7ff17-034f-4355-b1a3-35eadb3a8db2\":{\"defs\":[{\"extends\":null,\"module\":null,\"name\":\"ReactiveHTML1\",\"overrides\":[],\"properties\":[]},{\"extends\":null,\"module\":null,\"name\":\"FlexBox1\",\"overrides\":[],\"properties\":[{\"default\":\"flex-start\",\"kind\":null,\"name\":\"align_content\"},{\"default\":\"flex-start\",\"kind\":null,\"name\":\"align_items\"},{\"default\":\"row\",\"kind\":null,\"name\":\"flex_direction\"},{\"default\":\"wrap\",\"kind\":null,\"name\":\"flex_wrap\"},{\"default\":\"flex-start\",\"kind\":null,\"name\":\"justify_content\"}]},{\"extends\":null,\"module\":null,\"name\":\"TemplateActions1\",\"overrides\":[],\"properties\":[{\"default\":0,\"kind\":null,\"name\":\"open_modal\"},{\"default\":0,\"kind\":null,\"name\":\"close_modal\"}]},{\"extends\":null,\"module\":null,\"name\":\"MaterialTemplateActions1\",\"overrides\":[],\"properties\":[{\"default\":0,\"kind\":null,\"name\":\"open_modal\"},{\"default\":0,\"kind\":null,\"name\":\"close_modal\"}]}],\"roots\":{\"references\":[{\"attributes\":{\"editor\":{\"id\":\"1543\"},\"field\":\"measles\",\"formatter\":{\"id\":\"1542\"},\"title\":\"measles\"},\"id\":\"1544\",\"type\":\"TableColumn\"},{\"attributes\":{\"data\":{\"measles\":{\"__ndarray__\":\"KVyPwhWH0EAUrkfheo7HQEjhehSOd8xAKVyPwtUhzkBI4XoUjkjMQBSuR+Ea/cZASOF6FN643UAK16NwvX7YQJqZmZn5U8hAhetRuF7cxUCPwvUoDM7ZQOxRuB7lc9RAzczMzGxJyUAAAAAAgM7VQK5H4XoUeNRAUrgehUur1kDD9ShcHxbTQDMzMzNzTbVAAAAAAEAl00CkcD0K927CQMP1KFwPQs5A9ihcj1KB1UBSuB6F63LCQBSuR+F6YNFAzczMzHxB0kCF61G4nnDLQFyPwvU4BtRAMzMzM1MJ0kBmZmZmZnzSQOF6FK5nwNBAhetRuN761ECF61G4XovKQFyPwvUo5MpAmpmZmfmyxkD2KFyPIhvNQIXrUbh+ucVA16NwPSq0yUDsUbgepZ/CQBSuR+F6JLVAH4XrUbhhnUDsUbgehbd+QClcj8L1TIJAzczMzMxbkUAzMzMzM6qdQHE9CtejiohAj8L1KFzVhkBSuB6F6yl6QClcj8L15oRACtejcD2ikEDXo3A9CgqRQGZmZmZmSoNAXI/C9ShscEAzMzMzM8txQDMzMzMzcz9Aw/UoXI9CMUApXI/C9SgvQB+F61G4XkdAZ2ZmZmbmT0DD9Shcj/JYQK5H4XoUnlNAKVyPwvXISUBxPQrXo9BnQBWuR+F6TG1AAAAAAADIYEAK16NwPco8QB+F61G4niFAhetRuB6FM0AAAAAAAAAVQFyPwvUonDhApHA9CtejO0CF61G4HoUJQHE9CtejcO0/ZmZmZmZm+j+kcD0K16P4P9ejcD0K19M/AAAAAAAAAAAAAAAAAAAAAAAAAAAAAAAAAAAAAAAAAAAAAAAAAAAAAAAAAAAAAAAAAAAAAAAAAAAAAAAAAAAAAAAAAAAAAAAA\",\"dtype\":\"float64\",\"order\":\"little\",\"shape\":[84]}},\"selected\":{\"id\":\"1541\"},\"selection_policy\":{\"id\":\"1550\"}},\"id\":\"1540\",\"type\":\"ColumnDataSource\"},{\"attributes\":{\"format\":\"0,0.0[00000]\"},\"id\":\"1542\",\"type\":\"NumberFormatter\"},{\"attributes\":{},\"id\":\"1541\",\"type\":\"Selection\"},{\"attributes\":{\"columns\":[{\"id\":\"1544\"}],\"height\":300,\"reorderable\":false,\"source\":{\"id\":\"1540\"},\"view\":{\"id\":\"1549\"},\"width\":700},\"id\":\"1547\",\"type\":\"DataTable\"},{\"attributes\":{\"margin\":[5,5,5,5],\"name\":\"HSpacer02464\",\"sizing_mode\":\"stretch_width\"},\"id\":\"1539\",\"type\":\"Spacer\"},{\"attributes\":{\"margin\":[5,5,5,5],\"name\":\"HSpacer02465\",\"sizing_mode\":\"stretch_width\"},\"id\":\"1554\",\"type\":\"Spacer\"},{\"attributes\":{\"children\":[{\"id\":\"1539\"},{\"id\":\"1547\"},{\"id\":\"1554\"}],\"margin\":[0,0,0,0],\"name\":\"Row02460\",\"tags\":[\"embedded\"]},\"id\":\"1538\",\"type\":\"Row\"},{\"attributes\":{},\"id\":\"1543\",\"type\":\"NumberEditor\"},{\"attributes\":{},\"id\":\"1550\",\"type\":\"UnionRenderers\"},{\"attributes\":{\"source\":{\"id\":\"1540\"}},\"id\":\"1549\",\"type\":\"CDSView\"}],\"root_ids\":[\"1538\"]},\"title\":\"Bokeh Application\",\"version\":\"2.4.1\"}};\n",
       "    var render_items = [{\"docid\":\"95d7ff17-034f-4355-b1a3-35eadb3a8db2\",\"root_ids\":[\"1538\"],\"roots\":{\"1538\":\"e3dda5b9-0535-4c39-88c1-1a83a4fe5abe\"}}];\n",
       "    root.Bokeh.embed.embed_items_notebook(docs_json, render_items);\n",
       "  }\n",
       "  if (root.Bokeh !== undefined && root.Bokeh.Panel !== undefined) {\n",
       "    embed_document(root);\n",
       "  } else {\n",
       "    var attempts = 0;\n",
       "    var timer = setInterval(function(root) {\n",
       "      if (root.Bokeh !== undefined && root.Bokeh.Panel !== undefined) {\n",
       "        clearInterval(timer);\n",
       "        embed_document(root);\n",
       "      } else if (document.readyState == \"complete\") {\n",
       "        attempts++;\n",
       "        if (attempts > 200) {\n",
       "          clearInterval(timer);\n",
       "          console.log(\"Bokeh: ERROR: Unable to run BokehJS code because BokehJS library is missing\");\n",
       "        }\n",
       "      }\n",
       "    }, 25, root)\n",
       "  }\n",
       "})(window);</script>"
      ],
      "text/plain": [
       ":Table   [measles]"
      ]
     },
     "execution_count": 17,
     "metadata": {
      "application/vnd.holoviews_exec.v0+json": {
       "id": "1538"
      }
     },
     "output_type": "execute_result"
    }
   ],
   "source": [
    "data.hvplot.table()"
   ]
  },
  {
   "cell_type": "code",
   "execution_count": 19,
   "metadata": {},
   "outputs": [
    {
     "data": {
      "text/html": [
       "<div>\n",
       "<style scoped>\n",
       "    .dataframe tbody tr th:only-of-type {\n",
       "        vertical-align: middle;\n",
       "    }\n",
       "\n",
       "    .dataframe tbody tr th {\n",
       "        vertical-align: top;\n",
       "    }\n",
       "\n",
       "    .dataframe thead th {\n",
       "        text-align: right;\n",
       "    }\n",
       "</style>\n",
       "<table border=\"1\" class=\"dataframe\">\n",
       "  <thead>\n",
       "    <tr style=\"text-align: right;\">\n",
       "      <th></th>\n",
       "      <th>Year</th>\n",
       "      <th>measles</th>\n",
       "    </tr>\n",
       "  </thead>\n",
       "  <tbody>\n",
       "    <tr>\n",
       "      <th>0</th>\n",
       "      <td>1928</td>\n",
       "      <td>16924.34</td>\n",
       "    </tr>\n",
       "    <tr>\n",
       "      <th>1</th>\n",
       "      <td>1929</td>\n",
       "      <td>12060.96</td>\n",
       "    </tr>\n",
       "    <tr>\n",
       "      <th>2</th>\n",
       "      <td>1930</td>\n",
       "      <td>14575.11</td>\n",
       "    </tr>\n",
       "    <tr>\n",
       "      <th>3</th>\n",
       "      <td>1931</td>\n",
       "      <td>15427.67</td>\n",
       "    </tr>\n",
       "    <tr>\n",
       "      <th>4</th>\n",
       "      <td>1932</td>\n",
       "      <td>14481.11</td>\n",
       "    </tr>\n",
       "    <tr>\n",
       "      <th>...</th>\n",
       "      <td>...</td>\n",
       "      <td>...</td>\n",
       "    </tr>\n",
       "    <tr>\n",
       "      <th>79</th>\n",
       "      <td>2007</td>\n",
       "      <td>0.00</td>\n",
       "    </tr>\n",
       "    <tr>\n",
       "      <th>80</th>\n",
       "      <td>2008</td>\n",
       "      <td>0.00</td>\n",
       "    </tr>\n",
       "    <tr>\n",
       "      <th>81</th>\n",
       "      <td>2009</td>\n",
       "      <td>0.00</td>\n",
       "    </tr>\n",
       "    <tr>\n",
       "      <th>82</th>\n",
       "      <td>2010</td>\n",
       "      <td>0.00</td>\n",
       "    </tr>\n",
       "    <tr>\n",
       "      <th>83</th>\n",
       "      <td>2011</td>\n",
       "      <td>0.00</td>\n",
       "    </tr>\n",
       "  </tbody>\n",
       "</table>\n",
       "<p>84 rows × 2 columns</p>\n",
       "</div>"
      ],
      "text/plain": [
       "    Year   measles\n",
       "0   1928  16924.34\n",
       "1   1929  12060.96\n",
       "2   1930  14575.11\n",
       "3   1931  15427.67\n",
       "4   1932  14481.11\n",
       "..   ...       ...\n",
       "79  2007      0.00\n",
       "80  2008      0.00\n",
       "81  2009      0.00\n",
       "82  2010      0.00\n",
       "83  2011      0.00\n",
       "\n",
       "[84 rows x 2 columns]"
      ]
     },
     "execution_count": 19,
     "metadata": {},
     "output_type": "execute_result"
    }
   ],
   "source": [
    "by_year = diseases_data[[\"Year\",\"measles\"]].groupby(\"Year\",as_index=False).sum()\n",
    "by_year"
   ]
  },
  {
   "cell_type": "code",
   "execution_count": 20,
   "metadata": {},
   "outputs": [
    {
     "data": {},
     "metadata": {},
     "output_type": "display_data"
    },
    {
     "data": {
      "application/vnd.holoviews_exec.v0+json": "",
      "text/html": [
       "<div id='1566'>\n",
       "\n",
       "\n",
       "\n",
       "\n",
       "\n",
       "  <div class=\"bk-root\" id=\"8d9ae0d3-92cb-4e98-916c-60cd3c7a351b\" data-root-id=\"1566\"></div>\n",
       "</div>\n",
       "<script type=\"application/javascript\">(function(root) {\n",
       "  function embed_document(root) {\n",
       "    var docs_json = {\"553378e4-05f7-4b55-b39e-21ba1faab7a6\":{\"defs\":[{\"extends\":null,\"module\":null,\"name\":\"ReactiveHTML1\",\"overrides\":[],\"properties\":[]},{\"extends\":null,\"module\":null,\"name\":\"FlexBox1\",\"overrides\":[],\"properties\":[{\"default\":\"flex-start\",\"kind\":null,\"name\":\"align_content\"},{\"default\":\"flex-start\",\"kind\":null,\"name\":\"align_items\"},{\"default\":\"row\",\"kind\":null,\"name\":\"flex_direction\"},{\"default\":\"wrap\",\"kind\":null,\"name\":\"flex_wrap\"},{\"default\":\"flex-start\",\"kind\":null,\"name\":\"justify_content\"}]},{\"extends\":null,\"module\":null,\"name\":\"TemplateActions1\",\"overrides\":[],\"properties\":[{\"default\":0,\"kind\":null,\"name\":\"open_modal\"},{\"default\":0,\"kind\":null,\"name\":\"close_modal\"}]},{\"extends\":null,\"module\":null,\"name\":\"MaterialTemplateActions1\",\"overrides\":[],\"properties\":[{\"default\":0,\"kind\":null,\"name\":\"open_modal\"},{\"default\":0,\"kind\":null,\"name\":\"close_modal\"}]}],\"roots\":{\"references\":[{\"attributes\":{\"children\":[{\"id\":\"1567\"},{\"id\":\"1580\"},{\"id\":\"1587\"}],\"margin\":[0,0,0,0],\"name\":\"Row02553\",\"tags\":[\"embedded\"]},\"id\":\"1566\",\"type\":\"Row\"},{\"attributes\":{},\"id\":\"1569\",\"type\":\"Selection\"},{\"attributes\":{\"editor\":{\"id\":\"1576\"},\"field\":\"measles\",\"formatter\":{\"id\":\"1575\"},\"title\":\"measles\"},\"id\":\"1577\",\"type\":\"TableColumn\"},{\"attributes\":{},\"id\":\"1571\",\"type\":\"IntEditor\"},{\"attributes\":{\"source\":{\"id\":\"1568\"}},\"id\":\"1582\",\"type\":\"CDSView\"},{\"attributes\":{\"margin\":[5,5,5,5],\"name\":\"HSpacer02557\",\"sizing_mode\":\"stretch_width\"},\"id\":\"1567\",\"type\":\"Spacer\"},{\"attributes\":{},\"id\":\"1570\",\"type\":\"NumberFormatter\"},{\"attributes\":{},\"id\":\"1583\",\"type\":\"UnionRenderers\"},{\"attributes\":{\"data\":{\"Year\":[1928,1929,1930,1931,1932,1933,1934,1935,1936,1937,1938,1939,1940,1941,1942,1943,1944,1945,1946,1947,1948,1949,1950,1951,1952,1953,1954,1955,1956,1957,1958,1959,1960,1961,1962,1963,1964,1965,1966,1967,1968,1969,1970,1971,1972,1973,1974,1975,1976,1977,1978,1979,1980,1981,1982,1983,1984,1985,1986,1987,1988,1989,1990,1991,1992,1993,1994,1995,1996,1997,1998,1999,2000,2001,2002,2003,2004,2005,2006,2007,2008,2009,2010,2011],\"measles\":{\"__ndarray__\":\"KVyPwhWH0EAUrkfheo7HQEjhehSOd8xAKVyPwtUhzkBI4XoUjkjMQBSuR+Ea/cZASOF6FN643UAK16NwvX7YQJqZmZn5U8hAhetRuF7cxUCPwvUoDM7ZQOxRuB7lc9RAzczMzGxJyUAAAAAAgM7VQK5H4XoUeNRAUrgehUur1kDD9ShcHxbTQDMzMzNzTbVAAAAAAEAl00CkcD0K927CQMP1KFwPQs5A9ihcj1KB1UBSuB6F63LCQBSuR+F6YNFAzczMzHxB0kCF61G4nnDLQFyPwvU4BtRAMzMzM1MJ0kBmZmZmZnzSQOF6FK5nwNBAhetRuN761ECF61G4XovKQFyPwvUo5MpAmpmZmfmyxkD2KFyPIhvNQIXrUbh+ucVA16NwPSq0yUDsUbgepZ/CQBSuR+F6JLVAH4XrUbhhnUDsUbgehbd+QClcj8L1TIJAzczMzMxbkUAzMzMzM6qdQHE9CtejiohAj8L1KFzVhkBSuB6F6yl6QClcj8L15oRACtejcD2ikEDXo3A9CgqRQGZmZmZmSoNAXI/C9ShscEAzMzMzM8txQDMzMzMzcz9Aw/UoXI9CMUApXI/C9SgvQB+F61G4XkdAZ2ZmZmbmT0DD9Shcj/JYQK5H4XoUnlNAKVyPwvXISUBxPQrXo9BnQBWuR+F6TG1AAAAAAADIYEAK16NwPco8QB+F61G4niFAhetRuB6FM0AAAAAAAAAVQFyPwvUonDhApHA9CtejO0CF61G4HoUJQHE9CtejcO0/ZmZmZmZm+j+kcD0K16P4P9ejcD0K19M/AAAAAAAAAAAAAAAAAAAAAAAAAAAAAAAAAAAAAAAAAAAAAAAAAAAAAAAAAAAAAAAAAAAAAAAAAAAAAAAAAAAAAAAAAAAAAAAA\",\"dtype\":\"float64\",\"order\":\"little\",\"shape\":[84]}},\"selected\":{\"id\":\"1569\"},\"selection_policy\":{\"id\":\"1583\"}},\"id\":\"1568\",\"type\":\"ColumnDataSource\"},{\"attributes\":{\"margin\":[5,5,5,5],\"name\":\"HSpacer02558\",\"sizing_mode\":\"stretch_width\"},\"id\":\"1587\",\"type\":\"Spacer\"},{\"attributes\":{},\"id\":\"1576\",\"type\":\"NumberEditor\"},{\"attributes\":{\"format\":\"0,0.0[00000]\"},\"id\":\"1575\",\"type\":\"NumberFormatter\"},{\"attributes\":{\"editor\":{\"id\":\"1571\"},\"field\":\"Year\",\"formatter\":{\"id\":\"1570\"},\"title\":\"Year\"},\"id\":\"1572\",\"type\":\"TableColumn\"},{\"attributes\":{\"columns\":[{\"id\":\"1572\"},{\"id\":\"1577\"}],\"height\":300,\"reorderable\":false,\"source\":{\"id\":\"1568\"},\"view\":{\"id\":\"1582\"},\"width\":700},\"id\":\"1580\",\"type\":\"DataTable\"}],\"root_ids\":[\"1566\"]},\"title\":\"Bokeh Application\",\"version\":\"2.4.1\"}};\n",
       "    var render_items = [{\"docid\":\"553378e4-05f7-4b55-b39e-21ba1faab7a6\",\"root_ids\":[\"1566\"],\"roots\":{\"1566\":\"8d9ae0d3-92cb-4e98-916c-60cd3c7a351b\"}}];\n",
       "    root.Bokeh.embed.embed_items_notebook(docs_json, render_items);\n",
       "  }\n",
       "  if (root.Bokeh !== undefined && root.Bokeh.Panel !== undefined) {\n",
       "    embed_document(root);\n",
       "  } else {\n",
       "    var attempts = 0;\n",
       "    var timer = setInterval(function(root) {\n",
       "      if (root.Bokeh !== undefined && root.Bokeh.Panel !== undefined) {\n",
       "        clearInterval(timer);\n",
       "        embed_document(root);\n",
       "      } else if (document.readyState == \"complete\") {\n",
       "        attempts++;\n",
       "        if (attempts > 200) {\n",
       "          clearInterval(timer);\n",
       "          console.log(\"Bokeh: ERROR: Unable to run BokehJS code because BokehJS library is missing\");\n",
       "        }\n",
       "      }\n",
       "    }, 25, root)\n",
       "  }\n",
       "})(window);</script>"
      ],
      "text/plain": [
       ":Table   [Year,measles]"
      ]
     },
     "execution_count": 20,
     "metadata": {
      "application/vnd.holoviews_exec.v0+json": {
       "id": "1566"
      }
     },
     "output_type": "execute_result"
    }
   ],
   "source": [
    "by_year.hvplot.table()"
   ]
  },
  {
   "cell_type": "markdown",
   "metadata": {},
   "source": [
    "#### Placing vertical line and text\n",
    "\n",
    "The following example captures important points on the plot itself by placing vertical line and text annotation. 1963 was import with respect to measles and how about we record this point on the graph itself. This will also help us to compare the number of measles cases before and afer the vaccine introduction."
   ]
  },
  {
   "cell_type": "code",
   "execution_count": 21,
   "metadata": {},
   "outputs": [
    {
     "data": {},
     "metadata": {},
     "output_type": "display_data"
    },
    {
     "data": {
      "application/vnd.holoviews_exec.v0+json": "",
      "text/html": [
       "<div id='1599'>\n",
       "\n",
       "\n",
       "\n",
       "\n",
       "\n",
       "  <div class=\"bk-root\" id=\"9063d832-98ce-4773-af3b-dac2539e1195\" data-root-id=\"1599\"></div>\n",
       "</div>\n",
       "<script type=\"application/javascript\">(function(root) {\n",
       "  function embed_document(root) {\n",
       "    var docs_json = {\"48100b2d-fe36-48e1-b222-730169503a0a\":{\"defs\":[{\"extends\":null,\"module\":null,\"name\":\"ReactiveHTML1\",\"overrides\":[],\"properties\":[]},{\"extends\":null,\"module\":null,\"name\":\"FlexBox1\",\"overrides\":[],\"properties\":[{\"default\":\"flex-start\",\"kind\":null,\"name\":\"align_content\"},{\"default\":\"flex-start\",\"kind\":null,\"name\":\"align_items\"},{\"default\":\"row\",\"kind\":null,\"name\":\"flex_direction\"},{\"default\":\"wrap\",\"kind\":null,\"name\":\"flex_wrap\"},{\"default\":\"flex-start\",\"kind\":null,\"name\":\"justify_content\"}]},{\"extends\":null,\"module\":null,\"name\":\"TemplateActions1\",\"overrides\":[],\"properties\":[{\"default\":0,\"kind\":null,\"name\":\"open_modal\"},{\"default\":0,\"kind\":null,\"name\":\"close_modal\"}]},{\"extends\":null,\"module\":null,\"name\":\"MaterialTemplateActions1\",\"overrides\":[],\"properties\":[{\"default\":0,\"kind\":null,\"name\":\"open_modal\"},{\"default\":0,\"kind\":null,\"name\":\"close_modal\"}]}],\"roots\":{\"references\":[{\"attributes\":{},\"id\":\"1622\",\"type\":\"PanTool\"},{\"attributes\":{\"margin\":[5,5,5,5],\"name\":\"HSpacer02706\",\"sizing_mode\":\"stretch_width\"},\"id\":\"1796\",\"type\":\"Spacer\"},{\"attributes\":{\"data\":{\"text\":[\"Measles Vaccine Introduced\"],\"x\":[1964],\"y\":[27000]},\"selected\":{\"id\":\"1653\"},\"selection_policy\":{\"id\":\"1679\"}},\"id\":\"1652\",\"type\":\"ColumnDataSource\"},{\"attributes\":{\"text_alpha\":{\"value\":0.2},\"text_baseline\":{\"value\":\"middle\"},\"text_color\":{\"value\":\"black\"},\"text_font_size\":{\"value\":\"12Pt\"},\"x\":{\"field\":\"x\"},\"y\":{\"field\":\"y\"}},\"id\":\"1666\",\"type\":\"Text\"},{\"attributes\":{},\"id\":\"1623\",\"type\":\"WheelZoomTool\"},{\"attributes\":{},\"id\":\"1653\",\"type\":\"Selection\"},{\"attributes\":{\"text_alpha\":{\"value\":0.2},\"text_baseline\":{\"value\":\"middle\"},\"text_color\":{\"value\":\"black\"},\"text_font_size\":{\"value\":\"12Pt\"},\"x\":{\"field\":\"x\"},\"y\":{\"field\":\"y\"}},\"id\":\"1657\",\"type\":\"Text\"},{\"attributes\":{\"data\":{\"Year\":[1928,1929,1930,1931,1932,1933,1934,1935,1936,1937,1938,1939,1940,1941,1942,1943,1944,1945,1946,1947,1948,1949,1950,1951,1952,1953,1954,1955,1956,1957,1958,1959,1960,1961,1962,1963,1964,1965,1966,1967,1968,1969,1970,1971,1972,1973,1974,1975,1976,1977,1978,1979,1980,1981,1982,1983,1984,1985,1986,1987,1988,1989,1990,1991,1992,1993,1994,1995,1996,1997,1998,1999,2000,2001,2002,2003,2004,2005,2006,2007,2008,2009,2010,2011],\"measles\":{\"__ndarray__\":\"KVyPwhWH0EAUrkfheo7HQEjhehSOd8xAKVyPwtUhzkBI4XoUjkjMQBSuR+Ea/cZASOF6FN643UAK16NwvX7YQJqZmZn5U8hAhetRuF7cxUCPwvUoDM7ZQOxRuB7lc9RAzczMzGxJyUAAAAAAgM7VQK5H4XoUeNRAUrgehUur1kDD9ShcHxbTQDMzMzNzTbVAAAAAAEAl00CkcD0K927CQMP1KFwPQs5A9ihcj1KB1UBSuB6F63LCQBSuR+F6YNFAzczMzHxB0kCF61G4nnDLQFyPwvU4BtRAMzMzM1MJ0kBmZmZmZnzSQOF6FK5nwNBAhetRuN761ECF61G4XovKQFyPwvUo5MpAmpmZmfmyxkD2KFyPIhvNQIXrUbh+ucVA16NwPSq0yUDsUbgepZ/CQBSuR+F6JLVAH4XrUbhhnUDsUbgehbd+QClcj8L1TIJAzczMzMxbkUAzMzMzM6qdQHE9CtejiohAj8L1KFzVhkBSuB6F6yl6QClcj8L15oRACtejcD2ikEDXo3A9CgqRQGZmZmZmSoNAXI/C9ShscEAzMzMzM8txQDMzMzMzcz9Aw/UoXI9CMUApXI/C9SgvQB+F61G4XkdAZ2ZmZmbmT0DD9Shcj/JYQK5H4XoUnlNAKVyPwvXISUBxPQrXo9BnQBWuR+F6TG1AAAAAAADIYEAK16NwPco8QB+F61G4niFAhetRuB6FM0AAAAAAAAAVQFyPwvUonDhApHA9CtejO0CF61G4HoUJQHE9CtejcO0/ZmZmZmZm+j+kcD0K16P4P9ejcD0K19M/AAAAAAAAAAAAAAAAAAAAAAAAAAAAAAAAAAAAAAAAAAAAAAAAAAAAAAAAAAAAAAAAAAAAAAAAAAAAAAAAAAAAAAAAAAAAAAAA\",\"dtype\":\"float64\",\"order\":\"little\",\"shape\":[84]}},\"selected\":{\"id\":\"1641\"},\"selection_policy\":{\"id\":\"1677\"}},\"id\":\"1640\",\"type\":\"ColumnDataSource\"},{\"attributes\":{},\"id\":\"1621\",\"type\":\"SaveTool\"},{\"attributes\":{\"overlay\":{\"id\":\"1626\"}},\"id\":\"1624\",\"type\":\"BoxZoomTool\"},{\"attributes\":{\"coordinates\":null,\"group\":null,\"text\":\"Measles Cases from 1928-2011\",\"text_color\":\"black\",\"text_font_size\":\"16pt\"},\"id\":\"1605\",\"type\":\"Title\"},{\"attributes\":{\"data\":{\"text\":[\"Result to decline in measles cases\"],\"x\":[1964],\"y\":[25000]},\"selected\":{\"id\":\"1662\"},\"selection_policy\":{\"id\":\"1681\"}},\"id\":\"1661\",\"type\":\"ColumnDataSource\"},{\"attributes\":{\"children\":[{\"id\":\"1600\"},{\"id\":\"1604\"},{\"id\":\"1796\"}],\"margin\":[0,0,0,0],\"name\":\"Row02701\",\"tags\":[\"embedded\"]},\"id\":\"1599\",\"type\":\"Row\"},{\"attributes\":{},\"id\":\"1625\",\"type\":\"ResetTool\"},{\"attributes\":{\"text_baseline\":{\"value\":\"middle\"},\"text_color\":{\"value\":\"black\"},\"text_font_size\":{\"value\":\"12Pt\"},\"x\":{\"field\":\"x\"},\"y\":{\"field\":\"y\"}},\"id\":\"1655\",\"type\":\"Text\"},{\"attributes\":{\"angle\":{\"value\":0.0},\"text\":{\"field\":\"text\"},\"text_align\":{\"value\":\"left\"},\"text_alpha\":{\"value\":1.0},\"text_baseline\":{\"value\":\"middle\"},\"text_color\":{\"value\":\"black\"},\"text_font_size\":{\"value\":\"12Pt\"},\"text_font_style\":{\"value\":\"normal\"},\"text_line_height\":{\"value\":1.2},\"x\":{\"field\":\"x\"},\"x_offset\":{\"value\":0},\"y\":{\"field\":\"y\"},\"y_offset\":{\"value\":0}},\"id\":\"1660\",\"type\":\"Text\"},{\"attributes\":{\"bottom_units\":\"screen\",\"coordinates\":null,\"fill_alpha\":0.5,\"fill_color\":\"lightgrey\",\"group\":null,\"left_units\":\"screen\",\"level\":\"overlay\",\"line_alpha\":1.0,\"line_color\":\"black\",\"line_dash\":[4,4],\"line_width\":2,\"right_units\":\"screen\",\"syncable\":false,\"top_units\":\"screen\"},\"id\":\"1626\",\"type\":\"BoxAnnotation\"},{\"attributes\":{\"angle\":{\"value\":0.0},\"text\":{\"field\":\"text\"},\"text_align\":{\"value\":\"left\"},\"text_alpha\":{\"value\":1.0},\"text_baseline\":{\"value\":\"middle\"},\"text_color\":{\"value\":\"black\"},\"text_font_size\":{\"value\":\"12Pt\"},\"text_font_style\":{\"value\":\"normal\"},\"text_line_height\":{\"value\":1.2},\"x\":{\"field\":\"x\"},\"x_offset\":{\"value\":0},\"y\":{\"field\":\"y\"},\"y_offset\":{\"value\":0}},\"id\":\"1669\",\"type\":\"Text\"},{\"attributes\":{},\"id\":\"1639\",\"type\":\"AllLabels\"},{\"attributes\":{\"text_alpha\":{\"value\":0.1},\"text_baseline\":{\"value\":\"middle\"},\"text_color\":{\"value\":\"black\"},\"text_font_size\":{\"value\":\"12Pt\"},\"x\":{\"field\":\"x\"},\"y\":{\"field\":\"y\"}},\"id\":\"1656\",\"type\":\"Text\"},{\"attributes\":{\"coordinates\":null,\"data_source\":{\"id\":\"1652\"},\"glyph\":{\"id\":\"1655\"},\"group\":null,\"hover_glyph\":null,\"muted_glyph\":{\"id\":\"1657\"},\"nonselection_glyph\":{\"id\":\"1656\"},\"selection_glyph\":{\"id\":\"1660\"},\"view\":{\"id\":\"1659\"}},\"id\":\"1658\",\"type\":\"GlyphRenderer\"},{\"attributes\":{\"text_baseline\":{\"value\":\"middle\"},\"text_color\":{\"value\":\"black\"},\"text_font_size\":{\"value\":\"12Pt\"},\"x\":{\"field\":\"x\"},\"y\":{\"field\":\"y\"}},\"id\":\"1664\",\"type\":\"Text\"},{\"attributes\":{},\"id\":\"1677\",\"type\":\"UnionRenderers\"},{\"attributes\":{\"source\":{\"id\":\"1652\"}},\"id\":\"1659\",\"type\":\"CDSView\"},{\"attributes\":{\"line_alpha\":0.1,\"line_color\":\"red\",\"line_width\":2,\"x\":{\"field\":\"Year\"},\"y\":{\"field\":\"measles\"}},\"id\":\"1644\",\"type\":\"Line\"},{\"attributes\":{\"end\":33479.017,\"reset_end\":33479.017,\"reset_start\":-3043.5470000000005,\"start\":-3043.5470000000005,\"tags\":[[[\"measles\",\"measles\",null]]]},\"id\":\"1602\",\"type\":\"Range1d\"},{\"attributes\":{\"end\":2011.0,\"reset_end\":2011.0,\"reset_start\":1928.0,\"start\":1928.0,\"tags\":[[[\"Year\",\"Year\",null]]]},\"id\":\"1601\",\"type\":\"Range1d\"},{\"attributes\":{\"tools\":[{\"id\":\"1603\"},{\"id\":\"1621\"},{\"id\":\"1622\"},{\"id\":\"1623\"},{\"id\":\"1624\"},{\"id\":\"1625\"}]},\"id\":\"1627\",\"type\":\"Toolbar\"},{\"attributes\":{},\"id\":\"1618\",\"type\":\"BasicTicker\"},{\"attributes\":{\"text_alpha\":{\"value\":0.1},\"text_baseline\":{\"value\":\"middle\"},\"text_color\":{\"value\":\"black\"},\"text_font_size\":{\"value\":\"12Pt\"},\"x\":{\"field\":\"x\"},\"y\":{\"field\":\"y\"}},\"id\":\"1665\",\"type\":\"Text\"},{\"attributes\":{\"margin\":[5,5,5,5],\"name\":\"HSpacer02705\",\"sizing_mode\":\"stretch_width\"},\"id\":\"1600\",\"type\":\"Spacer\"},{\"attributes\":{\"callback\":null,\"renderers\":[{\"id\":\"1646\"}],\"tags\":[\"hv_created\"],\"tooltips\":[[\"Year\",\"@{Year}\"],[\"measles\",\"@{measles}\"]]},\"id\":\"1603\",\"type\":\"HoverTool\"},{\"attributes\":{},\"id\":\"1679\",\"type\":\"UnionRenderers\"},{\"attributes\":{},\"id\":\"1609\",\"type\":\"LinearScale\"},{\"attributes\":{\"line_color\":\"red\",\"line_width\":2,\"x\":{\"field\":\"Year\"},\"y\":{\"field\":\"measles\"}},\"id\":\"1643\",\"type\":\"Line\"},{\"attributes\":{},\"id\":\"1636\",\"type\":\"AllLabels\"},{\"attributes\":{\"below\":[{\"id\":\"1613\"}],\"center\":[{\"id\":\"1616\"},{\"id\":\"1620\"}],\"height\":500,\"left\":[{\"id\":\"1617\"}],\"margin\":[5,5,5,5],\"min_border_bottom\":10,\"min_border_left\":10,\"min_border_right\":10,\"min_border_top\":10,\"renderers\":[{\"id\":\"1646\"},{\"id\":\"1651\"},{\"id\":\"1658\"},{\"id\":\"1667\"}],\"sizing_mode\":\"fixed\",\"title\":{\"id\":\"1605\"},\"toolbar\":{\"id\":\"1627\"},\"width\":800,\"x_range\":{\"id\":\"1601\"},\"x_scale\":{\"id\":\"1609\"},\"y_range\":{\"id\":\"1602\"},\"y_scale\":{\"id\":\"1611\"}},\"id\":\"1604\",\"subtype\":\"Figure\",\"type\":\"Plot\"},{\"attributes\":{},\"id\":\"1641\",\"type\":\"Selection\"},{\"attributes\":{\"axis_label\":\"No. of Measles Cases\",\"axis_label_text_font_size\":\"12pt\",\"coordinates\":null,\"formatter\":{\"id\":\"1638\"},\"group\":null,\"major_label_policy\":{\"id\":\"1639\"},\"major_label_text_font_size\":\"11pt\",\"ticker\":{\"id\":\"1618\"}},\"id\":\"1617\",\"type\":\"LinearAxis\"},{\"attributes\":{\"source\":{\"id\":\"1640\"}},\"id\":\"1647\",\"type\":\"CDSView\"},{\"attributes\":{},\"id\":\"1662\",\"type\":\"Selection\"},{\"attributes\":{},\"id\":\"1611\",\"type\":\"LinearScale\"},{\"attributes\":{},\"id\":\"1638\",\"type\":\"BasicTickFormatter\"},{\"attributes\":{\"axis\":{\"id\":\"1613\"},\"coordinates\":null,\"grid_line_color\":null,\"group\":null,\"ticker\":null},\"id\":\"1616\",\"type\":\"Grid\"},{\"attributes\":{\"line_alpha\":0.2,\"line_color\":\"red\",\"line_width\":2,\"x\":{\"field\":\"Year\"},\"y\":{\"field\":\"measles\"}},\"id\":\"1645\",\"type\":\"Line\"},{\"attributes\":{\"axis_label\":\"Year\",\"axis_label_text_font_size\":\"12pt\",\"coordinates\":null,\"formatter\":{\"id\":\"1635\"},\"group\":null,\"major_label_policy\":{\"id\":\"1636\"},\"major_label_text_font_size\":\"11pt\",\"ticker\":{\"id\":\"1614\"}},\"id\":\"1613\",\"type\":\"LinearAxis\"},{\"attributes\":{\"line_color\":\"red\",\"line_width\":2,\"x\":{\"field\":\"Year\"},\"y\":{\"field\":\"measles\"}},\"id\":\"1648\",\"type\":\"Line\"},{\"attributes\":{\"source\":{\"id\":\"1661\"}},\"id\":\"1668\",\"type\":\"CDSView\"},{\"attributes\":{},\"id\":\"1614\",\"type\":\"BasicTicker\"},{\"attributes\":{},\"id\":\"1681\",\"type\":\"UnionRenderers\"},{\"attributes\":{},\"id\":\"1635\",\"type\":\"BasicTickFormatter\"},{\"attributes\":{\"coordinates\":null,\"dimension\":\"height\",\"group\":null,\"level\":\"glyph\",\"line_color\":\"green\",\"line_width\":3,\"location\":1963},\"id\":\"1651\",\"type\":\"Span\"},{\"attributes\":{\"coordinates\":null,\"data_source\":{\"id\":\"1661\"},\"glyph\":{\"id\":\"1664\"},\"group\":null,\"hover_glyph\":null,\"muted_glyph\":{\"id\":\"1666\"},\"nonselection_glyph\":{\"id\":\"1665\"},\"selection_glyph\":{\"id\":\"1669\"},\"view\":{\"id\":\"1668\"}},\"id\":\"1667\",\"type\":\"GlyphRenderer\"},{\"attributes\":{\"axis\":{\"id\":\"1617\"},\"coordinates\":null,\"dimension\":1,\"grid_line_color\":null,\"group\":null,\"ticker\":null},\"id\":\"1620\",\"type\":\"Grid\"},{\"attributes\":{\"coordinates\":null,\"data_source\":{\"id\":\"1640\"},\"glyph\":{\"id\":\"1643\"},\"group\":null,\"hover_glyph\":null,\"muted_glyph\":{\"id\":\"1645\"},\"nonselection_glyph\":{\"id\":\"1644\"},\"selection_glyph\":{\"id\":\"1648\"},\"view\":{\"id\":\"1647\"}},\"id\":\"1646\",\"type\":\"GlyphRenderer\"}],\"root_ids\":[\"1599\"]},\"title\":\"Bokeh Application\",\"version\":\"2.4.1\"}};\n",
       "    var render_items = [{\"docid\":\"48100b2d-fe36-48e1-b222-730169503a0a\",\"root_ids\":[\"1599\"],\"roots\":{\"1599\":\"9063d832-98ce-4773-af3b-dac2539e1195\"}}];\n",
       "    root.Bokeh.embed.embed_items_notebook(docs_json, render_items);\n",
       "  }\n",
       "  if (root.Bokeh !== undefined && root.Bokeh.Panel !== undefined) {\n",
       "    embed_document(root);\n",
       "  } else {\n",
       "    var attempts = 0;\n",
       "    var timer = setInterval(function(root) {\n",
       "      if (root.Bokeh !== undefined && root.Bokeh.Panel !== undefined) {\n",
       "        clearInterval(timer);\n",
       "        embed_document(root);\n",
       "      } else if (document.readyState == \"complete\") {\n",
       "        attempts++;\n",
       "        if (attempts > 200) {\n",
       "          clearInterval(timer);\n",
       "          console.log(\"Bokeh: ERROR: Unable to run BokehJS code because BokehJS library is missing\");\n",
       "        }\n",
       "      }\n",
       "    }, 25, root)\n",
       "  }\n",
       "})(window);</script>"
      ],
      "text/plain": [
       ":Overlay\n",
       "   .Curve.I :Curve   [Year]   (measles)\n",
       "   .VLine.I :VLine   [x,y]\n",
       "   .Text.I  :Text   [x,y]\n",
       "   .Text.II :Text   [x,y]"
      ]
     },
     "execution_count": 21,
     "metadata": {
      "application/vnd.holoviews_exec.v0+json": {
       "id": "1599"
      }
     },
     "output_type": "execute_result"
    }
   ],
   "source": [
    "import holoviews as hv\n",
    "\n",
    "vaccination_introduced = diseases_by_year.hvplot(line_color = 'red', line_width = 2, title = 'Measles Cases from 1928-2011', \n",
    "                       ylabel = 'No. of Measles Cases', width = 800, height = 500, \n",
    "                       fontsize={'xticks':11,'yticks':11,'ylabel':12,'xlabel':12,'title':16}) * \\\n",
    "hv.VLine(1963).options(color='green') * \\\n",
    "hv.Text(1964, 27000, \"Measles Vaccine Introduced\", halign='left') * \\\n",
    "hv.Text(1964, 25000, \"Result to decline in measles cases\", halign='left') \n",
    "\n",
    "\n",
    "vaccination_introduced"
   ]
  },
  {
   "cell_type": "markdown",
   "metadata": {},
   "source": [
    "#### Integrating Filter (dropdown) in the Plot\n",
    "\n",
    "Here we were able to use data that was used for making the plot. Also, it is now very easy to break data in many different ways."
   ]
  },
  {
   "cell_type": "code",
   "execution_count": 22,
   "metadata": {},
   "outputs": [
    {
     "data": {
      "text/html": [
       "<div>\n",
       "<style scoped>\n",
       "    .dataframe tbody tr th:only-of-type {\n",
       "        vertical-align: middle;\n",
       "    }\n",
       "\n",
       "    .dataframe tbody tr th {\n",
       "        vertical-align: top;\n",
       "    }\n",
       "\n",
       "    .dataframe thead th {\n",
       "        text-align: right;\n",
       "    }\n",
       "</style>\n",
       "<table border=\"1\" class=\"dataframe\">\n",
       "  <thead>\n",
       "    <tr style=\"text-align: right;\">\n",
       "      <th></th>\n",
       "      <th></th>\n",
       "      <th>measles</th>\n",
       "    </tr>\n",
       "    <tr>\n",
       "      <th>Year</th>\n",
       "      <th>State</th>\n",
       "      <th></th>\n",
       "    </tr>\n",
       "  </thead>\n",
       "  <tbody>\n",
       "    <tr>\n",
       "      <th rowspan=\"5\" valign=\"top\">1928</th>\n",
       "      <th>Alabama</th>\n",
       "      <td>334.99</td>\n",
       "    </tr>\n",
       "    <tr>\n",
       "      <th>Alaska</th>\n",
       "      <td>0.00</td>\n",
       "    </tr>\n",
       "    <tr>\n",
       "      <th>Arizona</th>\n",
       "      <td>200.75</td>\n",
       "    </tr>\n",
       "    <tr>\n",
       "      <th>Arkansas</th>\n",
       "      <td>481.77</td>\n",
       "    </tr>\n",
       "    <tr>\n",
       "      <th>California</th>\n",
       "      <td>69.22</td>\n",
       "    </tr>\n",
       "    <tr>\n",
       "      <th>...</th>\n",
       "      <th>...</th>\n",
       "      <td>...</td>\n",
       "    </tr>\n",
       "    <tr>\n",
       "      <th rowspan=\"5\" valign=\"top\">2011</th>\n",
       "      <th>Virginia</th>\n",
       "      <td>0.00</td>\n",
       "    </tr>\n",
       "    <tr>\n",
       "      <th>Washington</th>\n",
       "      <td>0.00</td>\n",
       "    </tr>\n",
       "    <tr>\n",
       "      <th>West Virginia</th>\n",
       "      <td>0.00</td>\n",
       "    </tr>\n",
       "    <tr>\n",
       "      <th>Wisconsin</th>\n",
       "      <td>0.00</td>\n",
       "    </tr>\n",
       "    <tr>\n",
       "      <th>Wyoming</th>\n",
       "      <td>0.00</td>\n",
       "    </tr>\n",
       "  </tbody>\n",
       "</table>\n",
       "<p>4284 rows × 1 columns</p>\n",
       "</div>"
      ],
      "text/plain": [
       "                    measles\n",
       "Year State                 \n",
       "1928 Alabama         334.99\n",
       "     Alaska            0.00\n",
       "     Arizona         200.75\n",
       "     Arkansas        481.77\n",
       "     California       69.22\n",
       "...                     ...\n",
       "2011 Virginia          0.00\n",
       "     Washington        0.00\n",
       "     West Virginia     0.00\n",
       "     Wisconsin         0.00\n",
       "     Wyoming           0.00\n",
       "\n",
       "[4284 rows x 1 columns]"
      ]
     },
     "execution_count": 22,
     "metadata": {},
     "output_type": "execute_result"
    }
   ],
   "source": [
    "measles_agg = diseases_data.groupby(['Year', 'State'])[['measles']].sum()\n",
    "measles_agg"
   ]
  },
  {
   "cell_type": "code",
   "execution_count": 23,
   "metadata": {},
   "outputs": [
    {
     "data": {},
     "metadata": {},
     "output_type": "display_data"
    },
    {
     "data": {
      "application/vnd.holoviews_exec.v0+json": "",
      "text/html": [
       "<div id='1868'>\n",
       "\n",
       "\n",
       "\n",
       "\n",
       "\n",
       "  <div class=\"bk-root\" id=\"bfa538d3-d2d4-4b1b-92ce-eee5ae0bcf59\" data-root-id=\"1868\"></div>\n",
       "</div>\n",
       "<script type=\"application/javascript\">(function(root) {\n",
       "  function embed_document(root) {\n",
       "    var docs_json = {\"30e201c6-4f7a-43d4-9e4b-1b7f19a5f477\":{\"defs\":[{\"extends\":null,\"module\":null,\"name\":\"ReactiveHTML1\",\"overrides\":[],\"properties\":[]},{\"extends\":null,\"module\":null,\"name\":\"FlexBox1\",\"overrides\":[],\"properties\":[{\"default\":\"flex-start\",\"kind\":null,\"name\":\"align_content\"},{\"default\":\"flex-start\",\"kind\":null,\"name\":\"align_items\"},{\"default\":\"row\",\"kind\":null,\"name\":\"flex_direction\"},{\"default\":\"wrap\",\"kind\":null,\"name\":\"flex_wrap\"},{\"default\":\"flex-start\",\"kind\":null,\"name\":\"justify_content\"}]},{\"extends\":null,\"module\":null,\"name\":\"TemplateActions1\",\"overrides\":[],\"properties\":[{\"default\":0,\"kind\":null,\"name\":\"open_modal\"},{\"default\":0,\"kind\":null,\"name\":\"close_modal\"}]},{\"extends\":null,\"module\":null,\"name\":\"MaterialTemplateActions1\",\"overrides\":[],\"properties\":[{\"default\":0,\"kind\":null,\"name\":\"open_modal\"},{\"default\":0,\"kind\":null,\"name\":\"close_modal\"}]}],\"roots\":{\"references\":[{\"attributes\":{\"children\":[{\"id\":\"1869\"},{\"id\":\"1873\"},{\"id\":\"1950\"},{\"id\":\"1951\"}],\"margin\":[0,0,0,0],\"name\":\"Row06648\",\"tags\":[\"embedded\"]},\"id\":\"1868\",\"type\":\"Row\"},{\"attributes\":{},\"id\":\"1880\",\"type\":\"LinearScale\"},{\"attributes\":{\"line_alpha\":0.1,\"line_color\":\"#30a2da\",\"line_width\":2,\"x\":{\"field\":\"Year\"},\"y\":{\"field\":\"measles\"}},\"id\":\"1907\",\"type\":\"Line\"},{\"attributes\":{},\"id\":\"1904\",\"type\":\"Selection\"},{\"attributes\":{\"source\":{\"id\":\"1903\"}},\"id\":\"1910\",\"type\":\"CDSView\"},{\"attributes\":{\"callback\":null,\"renderers\":[{\"id\":\"1909\"}],\"tags\":[\"hv_created\"],\"tooltips\":[[\"Year\",\"@{Year}\"],[\"measles\",\"@{measles}\"]]},\"id\":\"1872\",\"type\":\"HoverTool\"},{\"attributes\":{},\"id\":\"1937\",\"type\":\"UnionRenderers\"},{\"attributes\":{\"line_color\":\"#30a2da\",\"line_width\":2,\"x\":{\"field\":\"Year\"},\"y\":{\"field\":\"measles\"}},\"id\":\"1906\",\"type\":\"Line\"},{\"attributes\":{\"children\":[{\"id\":\"1954\"}],\"css_classes\":[\"panel-widget-box\"],\"margin\":[5,5,5,5],\"name\":\"WidgetBox06649\"},\"id\":\"1953\",\"type\":\"Column\"},{\"attributes\":{\"line_alpha\":0.2,\"line_color\":\"#30a2da\",\"line_width\":2,\"x\":{\"field\":\"Year\"},\"y\":{\"field\":\"measles\"}},\"id\":\"1908\",\"type\":\"Line\"},{\"attributes\":{\"end\":2011.0,\"reset_end\":2011.0,\"reset_start\":1928.0,\"start\":1928.0,\"tags\":[[[\"Year\",\"Year\",null]]]},\"id\":\"1870\",\"type\":\"Range1d\"},{\"attributes\":{\"state\":{\"Alabama\":{\"content\":\"{\\\"events\\\": [{\\\"attr\\\": \\\"start\\\", \\\"hint\\\": null, \\\"kind\\\": \\\"ModelChanged\\\", \\\"model\\\": {\\\"id\\\": \\\"1871\\\"}, \\\"new\\\": -59.027}, {\\\"attr\\\": \\\"reset_start\\\", \\\"hint\\\": null, \\\"kind\\\": \\\"ModelChanged\\\", \\\"model\\\": {\\\"id\\\": \\\"1871\\\"}, \\\"new\\\": -59.027}, {\\\"attr\\\": \\\"end\\\", \\\"hint\\\": null, \\\"kind\\\": \\\"ModelChanged\\\", \\\"model\\\": {\\\"id\\\": \\\"1871\\\"}, \\\"new\\\": 649.297}, {\\\"attr\\\": \\\"reset_end\\\", \\\"hint\\\": null, \\\"kind\\\": \\\"ModelChanged\\\", \\\"model\\\": {\\\"id\\\": \\\"1871\\\"}, \\\"new\\\": 649.297}, {\\\"attr\\\": \\\"text\\\", \\\"hint\\\": null, \\\"kind\\\": \\\"ModelChanged\\\", \\\"model\\\": {\\\"id\\\": \\\"1874\\\"}, \\\"new\\\": \\\"State: Alabama\\\"}, {\\\"cols\\\": null, \\\"column_source\\\": {\\\"id\\\": \\\"1903\\\"}, \\\"kind\\\": \\\"ColumnDataChanged\\\", \\\"new\\\": {\\\"Year\\\": [1928, 1929, 1930, 1931, 1932, 1933, 1934, 1935, 1936, 1937, 1938, 1939, 1940, 1941, 1942, 1943, 1944, 1945, 1946, 1947, 1948, 1949, 1950, 1951, 1952, 1953, 1954, 1955, 1956, 1957, 1958, 1959, 1960, 1961, 1962, 1963, 1964, 1965, 1966, 1967, 1968, 1969, 1970, 1971, 1972, 1973, 1974, 1975, 1976, 1977, 1978, 1979, 1980, 1981, 1982, 1983, 1984, 1985, 1986, 1987, 1988, 1989, 1990, 1991, 1992, 1993, 1994, 1995, 1996, 1997, 1998, 1999, 2000, 2001, 2002, 2003, 2004, 2005, 2006, 2007, 2008, 2009, 2010, 2011], \\\"measles\\\": {\\\"__ndarray__\\\": \\\"pHA9CtfvdEDsUbgehftbQAAAAAAAoGNAcT0K16MUdUDsUbgehWskQK5H4XoUTlBAXI/C9ShygkA9CtejcJVwQEjhehSuxzRA9ihcj8J1NkDXo3A9Cgd/QBSuR+F61GZASOF6FK7HXEDsUbgehZdyQJqZmZmZiV9ACtejcD1aYECkcD0K15tvQBWuR+F6VDtAAAAAAACwX0BxPQrXo9BfQPYoXI/CRVFAzczMzMwMd0AzMzMzM3NJQI/C9Shcz1lA7FG4HoX7dUCPwvUoXH9XQArXo3A9hnFA7FG4HoVrUUAAAAAAAPhsQHE9CtejvHJAexSuR+FKbkBcj8L1KAxbQArXo3A9qk9AcT0K16OAU0CF61G4HuVRQB+F61G4XkFAPQrXo3CtgEDNzMzMzAxRQHE9CtejMEpAPQrXo3B9Q0CamZmZmZkSQArXo3A9Ctc/4XoUrkfhK0AfhetRuJ5LQBWuR+F6FBBA4XoUrkfh2j+QwvUoXI/iP6RwPQrXo8A/AAAAAAAAAAB7FK5H4XoAQHA9CtejcAtAzczMzMzMCkA9CtejcD3iPwAAAAAAAAAAmpmZmZmZqT+4HoXrUbiePwAAAAAAAAAAAAAAAAAAAAB7FK5H4XqUPwvXo3A9Crc/exSuR+F6lD9cj8L1KFz3P83MzMzMzOQ/exSuR+F6lD8AAAAAAAAAAHsUrkfhepQ/AAAAAAAAAAAAAAAAAAAAAAAAAAAAAAAA7FG4HoXrwT8AAAAAAAAAAAAAAAAAAAAAAAAAAAAAAAAAAAAAAAAAAHsUrkfhesQ/AAAAAAAAAAAAAAAAAAAAAAAAAAAAAAAAAAAAAAAAAAAAAAAAAAAAAAAAAAAAAAAAAAAAAAAAAAAAAAAAAAAAAAAAAAAAAAAA\\\", \\\"dtype\\\": \\\"float64\\\", \\\"order\\\": \\\"little\\\", \\\"shape\\\": [84]}}}], \\\"references\\\": []}\",\"header\":\"{\\\"msgid\\\": \\\"2344\\\", \\\"msgtype\\\": \\\"PATCH-DOC\\\"}\",\"metadata\":\"{}\"},\"Alaska\":{\"content\":\"{\\\"events\\\": [{\\\"attr\\\": \\\"start\\\", \\\"hint\\\": null, \\\"kind\\\": \\\"ModelChanged\\\", \\\"model\\\": {\\\"id\\\": \\\"1871\\\"}, \\\"new\\\": -112.09800000000001}, {\\\"attr\\\": \\\"reset_start\\\", \\\"hint\\\": null, \\\"kind\\\": \\\"ModelChanged\\\", \\\"model\\\": {\\\"id\\\": \\\"1871\\\"}, \\\"new\\\": -112.09800000000001}, {\\\"attr\\\": \\\"end\\\", \\\"hint\\\": null, \\\"kind\\\": \\\"ModelChanged\\\", \\\"model\\\": {\\\"id\\\": \\\"1871\\\"}, \\\"new\\\": 1233.078}, {\\\"attr\\\": \\\"reset_end\\\", \\\"hint\\\": null, \\\"kind\\\": \\\"ModelChanged\\\", \\\"model\\\": {\\\"id\\\": \\\"1871\\\"}, \\\"new\\\": 1233.078}, {\\\"attr\\\": \\\"text\\\", \\\"hint\\\": null, \\\"kind\\\": \\\"ModelChanged\\\", \\\"model\\\": {\\\"id\\\": \\\"1874\\\"}, \\\"new\\\": \\\"State: Alaska\\\"}, {\\\"cols\\\": null, \\\"column_source\\\": {\\\"id\\\": \\\"1903\\\"}, \\\"kind\\\": \\\"ColumnDataChanged\\\", \\\"new\\\": {\\\"Year\\\": [1928, 1929, 1930, 1931, 1932, 1933, 1934, 1935, 1936, 1937, 1938, 1939, 1940, 1941, 1942, 1943, 1944, 1945, 1946, 1947, 1948, 1949, 1950, 1951, 1952, 1953, 1954, 1955, 1956, 1957, 1958, 1959, 1960, 1961, 1962, 1963, 1964, 1965, 1966, 1967, 1968, 1969, 1970, 1971, 1972, 1973, 1974, 1975, 1976, 1977, 1978, 1979, 1980, 1981, 1982, 1983, 1984, 1985, 1986, 1987, 1988, 1989, 1990, 1991, 1992, 1993, 1994, 1995, 1996, 1997, 1998, 1999, 2000, 2001, 2002, 2003, 2004, 2005, 2006, 2007, 2008, 2009, 2010, 2011], \\\"measles\\\": {\\\"__ndarray__\\\": \\\"AAAAAAAAAAAAAAAAAAAAAAAAAAAAAAAAAAAAAAAAAAAAAAAAAAAAAAAAAAAAAAAAAAAAAAAAAAAAAAAAAAAAAAAAAAAAAAAAAAAAAAAAAAAAAAAAAAAAAAAAAAAAAAAAAAAAAAAAAAAAAAAAAAAAAAAAAAAAAAAAAAAAAAAAAAAAAAAAAAAAAAAAAAAAAAAAAAAAAAAAAAAAAAAAAAAAAAAAAAAAAAAAAAAAAAAAAAAAAAAAAAAAAAAAAAAAAAAAAAAAAAAAAAAAAAAAAAAAAI/C9ShcnYVApHA9Ctc7bkBSuB6F64ORQDMzMzMz63lAFK5H4XqQgUBmZmZmZoSJQLgehetR3oNAj8L1KFxPekC4HoXrUdyBQFyPwvUokoZACtejcD1+e0C4HoXrUdhTQArXo3A9km1Aw/UoXI+iSkDiehSuR+EOQBWuR+F6FBtArkfhehTOQEDsUbgehWszQIXrUbgehQ9AhetRuB6F9z9I4XoUrkfRPwAAAAAAAAAA16NwPQrXBUCkcD0K1yMuQAAAAAAAAOA/7FG4HoXrEUAK16NwPQr3PwAAAAAAAAAAmpmZmZmZyT8AAAAAAAAAAAAAAAAAAAAAAAAAAAAAAAAAAAAAAAAAAAAAAAAAAAAACtejcD0Kxz8AAAAAAAAAAHE9CtejcBNACtejcD0Kxz/D9Shcj8LlPwAAAAAAAAAAXI/C9ShcBUAAAAAAAAAAAFK4HoXrUSZAexSuR+F6xD+kcD0K16MEQAAAAAAAAAAAexSuR+F6xD8AAAAAAAAAAAAAAAAAAAAAAAAAAAAAAAAAAAAAAAAAAAAAAAAAAAAAAAAAAAAAAAAAAAAAAAAAAAAAAAAAAAAAAAAAAAAAAAAAAAAAAAAAAAAAAAAAAAAA\\\", \\\"dtype\\\": \\\"float64\\\", \\\"order\\\": \\\"little\\\", \\\"shape\\\": [84]}}}], \\\"references\\\": []}\",\"header\":\"{\\\"msgid\\\": \\\"2337\\\", \\\"msgtype\\\": \\\"PATCH-DOC\\\"}\",\"metadata\":\"{}\"},\"Arizona\":{\"content\":\"{\\\"events\\\": [{\\\"attr\\\": \\\"start\\\", \\\"hint\\\": null, \\\"kind\\\": \\\"ModelChanged\\\", \\\"model\\\": {\\\"id\\\": \\\"1871\\\"}, \\\"new\\\": -135.149}, {\\\"attr\\\": \\\"reset_start\\\", \\\"hint\\\": null, \\\"kind\\\": \\\"ModelChanged\\\", \\\"model\\\": {\\\"id\\\": \\\"1871\\\"}, \\\"new\\\": -135.149}, {\\\"attr\\\": \\\"end\\\", \\\"hint\\\": null, \\\"kind\\\": \\\"ModelChanged\\\", \\\"model\\\": {\\\"id\\\": \\\"1871\\\"}, \\\"new\\\": 1486.6390000000001}, {\\\"attr\\\": \\\"reset_end\\\", \\\"hint\\\": null, \\\"kind\\\": \\\"ModelChanged\\\", \\\"model\\\": {\\\"id\\\": \\\"1871\\\"}, \\\"new\\\": 1486.6390000000001}, {\\\"attr\\\": \\\"text\\\", \\\"hint\\\": null, \\\"kind\\\": \\\"ModelChanged\\\", \\\"model\\\": {\\\"id\\\": \\\"1874\\\"}, \\\"new\\\": \\\"State: Arizona\\\"}, {\\\"cols\\\": null, \\\"column_source\\\": {\\\"id\\\": \\\"1903\\\"}, \\\"kind\\\": \\\"ColumnDataChanged\\\", \\\"new\\\": {\\\"Year\\\": [1928, 1929, 1930, 1931, 1932, 1933, 1934, 1935, 1936, 1937, 1938, 1939, 1940, 1941, 1942, 1943, 1944, 1945, 1946, 1947, 1948, 1949, 1950, 1951, 1952, 1953, 1954, 1955, 1956, 1957, 1958, 1959, 1960, 1961, 1962, 1963, 1964, 1965, 1966, 1967, 1968, 1969, 1970, 1971, 1972, 1973, 1974, 1975, 1976, 1977, 1978, 1979, 1980, 1981, 1982, 1983, 1984, 1985, 1986, 1987, 1988, 1989, 1990, 1991, 1992, 1993, 1994, 1995, 1996, 1997, 1998, 1999, 2000, 2001, 2002, 2003, 2004, 2005, 2006, 2007, 2008, 2009, 2010, 2011], \\\"measles\\\": {\\\"__ndarray__\\\": \\\"AAAAAAAYaUBwPQrXo3BLQClcj8L1JH1A16NwPQobf0Bcj8L1KBw0QFyPwvUogHJAUrgehevZbUBxPQrXo+BgQAAAAAAAbIBAZmZmZmYqikB7FK5H4apiQHA9CtejAGJAKVyPwvUwdUC4HoXrUTqDQHE9CtejJodArkfhehSOZUBI4XoUrgWHQI/C9Shcb1dA16NwPQorf0BI4XoUrg9sQNejcD0Ke4NASOF6FK6bgEAzMzMzM79zQClcj8L1HZVAPQrXo3CJekDhehSuR2+BQK5H4XoUnIBAhetRuB4AkEDD9ShcjyKEQPYoXI/C54VAPQrXo3DJiUBcj8L1KHiGQMP1KFyPXnRA9ihcj8J5gUCkcD0K1/t6QI/C9ShcPYJAcT0K16NYeUBmZmZmZiZZQGZmZmZmDnVACtejcD0KT0C4HoXrUTgtQPYoXI/CNT9AZmZmZmaGSkCkcD0K12M5QArXo3A9akRA61G4HoXr8T97FK5H4XrsPz4K16NwPQxAAQAAAAAAJEDsUbgehWshQClcj8L1KARAAAAAAAAACkDD9Shcj0InQArXo3A9Ctc/9ihcj8L14D8AAAAAAAAAAAAAAAAAAAAA9ihcj8L1HUDNzMzMzMwdQAAAAAAAAPA/exSuR+F6tD+uR+F6FK4PQOF6FK5H4R5AFa5H4XoUIkAAAAAAAAAAALgehetRuK4/mpmZmZmZyT9I4XoUrkfRP8L1KFyPwsU/CtejcD0Kxz+amZmZmZnJP3sUrkfhepQ/AAAAAAAAAAB7FK5H4XqUPwAAAAAAAAAAAAAAAAAAAAAAAAAAAAAAAAAAAAAAAAAAAAAAAAAAAAAAAAAAAAAAAAAAAAAAAAAAAAAAAAAAAAAAAAAAAAAAAAAAAAAAAAAA\\\", \\\"dtype\\\": \\\"float64\\\", \\\"order\\\": \\\"little\\\", \\\"shape\\\": [84]}}}], \\\"references\\\": []}\",\"header\":\"{\\\"msgid\\\": \\\"2330\\\", \\\"msgtype\\\": \\\"PATCH-DOC\\\"}\",\"metadata\":\"{}\"},\"Arkansas\":{\"content\":\"{\\\"events\\\": [{\\\"attr\\\": \\\"start\\\", \\\"hint\\\": null, \\\"kind\\\": \\\"ModelChanged\\\", \\\"model\\\": {\\\"id\\\": \\\"1871\\\"}, \\\"new\\\": -72.741}, {\\\"attr\\\": \\\"reset_start\\\", \\\"hint\\\": null, \\\"kind\\\": \\\"ModelChanged\\\", \\\"model\\\": {\\\"id\\\": \\\"1871\\\"}, \\\"new\\\": -72.741}, {\\\"attr\\\": \\\"end\\\", \\\"hint\\\": null, \\\"kind\\\": \\\"ModelChanged\\\", \\\"model\\\": {\\\"id\\\": \\\"1871\\\"}, \\\"new\\\": 800.151}, {\\\"attr\\\": \\\"reset_end\\\", \\\"hint\\\": null, \\\"kind\\\": \\\"ModelChanged\\\", \\\"model\\\": {\\\"id\\\": \\\"1871\\\"}, \\\"new\\\": 800.151}, {\\\"attr\\\": \\\"text\\\", \\\"hint\\\": null, \\\"kind\\\": \\\"ModelChanged\\\", \\\"model\\\": {\\\"id\\\": \\\"1874\\\"}, \\\"new\\\": \\\"State: Arkansas\\\"}, {\\\"cols\\\": null, \\\"column_source\\\": {\\\"id\\\": \\\"1903\\\"}, \\\"kind\\\": \\\"ColumnDataChanged\\\", \\\"new\\\": {\\\"Year\\\": [1928, 1929, 1930, 1931, 1932, 1933, 1934, 1935, 1936, 1937, 1938, 1939, 1940, 1941, 1942, 1943, 1944, 1945, 1946, 1947, 1948, 1949, 1950, 1951, 1952, 1953, 1954, 1955, 1956, 1957, 1958, 1959, 1960, 1961, 1962, 1963, 1964, 1965, 1966, 1967, 1968, 1969, 1970, 1971, 1972, 1973, 1974, 1975, 1976, 1977, 1978, 1979, 1980, 1981, 1982, 1983, 1984, 1985, 1986, 1987, 1988, 1989, 1990, 1991, 1992, 1993, 1994, 1995, 1996, 1997, 1998, 1999, 2000, 2001, 2002, 2003, 2004, 2005, 2006, 2007, 2008, 2009, 2010, 2011], \\\"measles\\\": {\\\"__ndarray__\\\": \\\"uB6F61EcfkCuR+F6FM5QQLgehetRuEpAFa5H4Xr0RkBSuB6F61EVQIXrUbgeVXJAhetRuB4JeECF61G4HhVUQKRwPQrXoxZAexSuR+H6MEBI4XoUrkt2QHE9Ctej4F5AAAAAAAAAUkAK16NwPR5xQGdmZmZmFm1AMzMzMzNTZEC4HoXrUfBpQAAAAAAAYFFA16NwPQoPZUDsUbgehVNgQJqZmZmZCWpA9ihcj8LdhEBI4XoUrsdWQD4K16NwEXlAmpmZmZmRZ0DhehSuR7uGQClcj8L14GJA4XoUrkexZUD2KFyPwq1/QArXo3A9mlNAZmZmZma+ZUAfhetRuD5HQI/C9ShcT1ZAcT0K16NQV0DXo3A9CmdTQAAAAAAAYFNApHA9CtcjTUAK16NwPYpPQJDC9ShcH1JAcT0K16OwUEA0MzMzMzPDPypcj8L1KPg/kML1KFyP+j8pXI/C9eg1QM3MzMzMzOQ/rkfhehSuDUAfhetRuB7lP5qZmZmZmbk/H4XrUbge7T9SuB6F61EAQLgehetRuO4/FK5H4XoU3j9SuB6F61HoP+J6FK5H4eI/AAAAAAAAAAB7FK5H4XqkP1K4HoXrUdg/AAAAAAAAAADsUbgehWsoQAAAAAAAAAAAAAAAAAAAAADiehSuR+HKP9ejcD0K1/s/AAAAAAAAAAAAAAAAAAAAAAAAAAAAAAAAAAAAAAAAAAB7FK5H4Xq0PwAAAAAAAAAAuB6F61G4vj8AAAAAAAAAAHsUrkfhesQ/exSuR+F6pD8AAAAAAAAAAAAAAAAAAAAAAAAAAAAAAAAAAAAAAAAAAAAAAAAAAAAAAAAAAAAAAAAAAAAAAAAAAAAAAAAAAAAAAAAAAAAAAAAAAAAAAAAAAAAAAAAAAAAA\\\", \\\"dtype\\\": \\\"float64\\\", \\\"order\\\": \\\"little\\\", \\\"shape\\\": [84]}}}], \\\"references\\\": []}\",\"header\":\"{\\\"msgid\\\": \\\"2323\\\", \\\"msgtype\\\": \\\"PATCH-DOC\\\"}\",\"metadata\":\"{}\"},\"California\":{\"content\":\"{\\\"events\\\": [{\\\"attr\\\": \\\"start\\\", \\\"hint\\\": null, \\\"kind\\\": \\\"ModelChanged\\\", \\\"model\\\": {\\\"id\\\": \\\"1871\\\"}, \\\"new\\\": -122.20100000000001}, {\\\"attr\\\": \\\"reset_start\\\", \\\"hint\\\": null, \\\"kind\\\": \\\"ModelChanged\\\", \\\"model\\\": {\\\"id\\\": \\\"1871\\\"}, \\\"new\\\": -122.20100000000001}, {\\\"attr\\\": \\\"end\\\", \\\"hint\\\": null, \\\"kind\\\": \\\"ModelChanged\\\", \\\"model\\\": {\\\"id\\\": \\\"1871\\\"}, \\\"new\\\": 1344.211}, {\\\"attr\\\": \\\"reset_end\\\", \\\"hint\\\": null, \\\"kind\\\": \\\"ModelChanged\\\", \\\"model\\\": {\\\"id\\\": \\\"1871\\\"}, \\\"new\\\": 1344.211}, {\\\"attr\\\": \\\"text\\\", \\\"hint\\\": null, \\\"kind\\\": \\\"ModelChanged\\\", \\\"model\\\": {\\\"id\\\": \\\"1874\\\"}, \\\"new\\\": \\\"State: California\\\"}, {\\\"cols\\\": null, \\\"column_source\\\": {\\\"id\\\": \\\"1903\\\"}, \\\"kind\\\": \\\"ColumnDataChanged\\\", \\\"new\\\": {\\\"Year\\\": [1928, 1929, 1930, 1931, 1932, 1933, 1934, 1935, 1936, 1937, 1938, 1939, 1940, 1941, 1942, 1943, 1944, 1945, 1946, 1947, 1948, 1949, 1950, 1951, 1952, 1953, 1954, 1955, 1956, 1957, 1958, 1959, 1960, 1961, 1962, 1963, 1964, 1965, 1966, 1967, 1968, 1969, 1970, 1971, 1972, 1973, 1974, 1975, 1976, 1977, 1978, 1979, 1980, 1981, 1982, 1983, 1984, 1985, 1986, 1987, 1988, 1989, 1990, 1991, 1992, 1993, 1994, 1995, 1996, 1997, 1998, 1999, 2000, 2001, 2002, 2003, 2004, 2005, 2006, 2007, 2008, 2009, 2010, 2011], \\\"measles\\\": {\\\"__ndarray__\\\": \\\"rkfhehROUUAzMzMzMzNSQFK4HoXrwYdASOF6FK7XfUDD9Shcj8JqQBSuR+F61HtAXI/C9Sh0ekCuR+F6FCZ9QLgehetRLIhAcT0K16OQU0CF61G4HmVxQKRwPQrXW41A16NwPQqHd0A9CtejcM1lQNejcD0KGJNAKVyPwvVAdUD2KFyPwr+CQNejcD0KN3VA4XoUrkf5gUAfhetRuL5SQML1KFyPfn5AhetRuB4NdEA+CtejcD1hQHsUrkfhIoFAAAAAAAD0dEDD9Shcj257QM3MzMzMkH1ASOF6FK4LgEAfhetRuGZtQJqZmZmZFXZA16NwPQp3bUAK16NwPXpvQClcj8L1gGFAPgrXo3Dta0DsUbgehZtkQNejcD0KV1xAzczMzMx8ZkBmZmZmZqZSQPYoXI/CJVRAMzMzMzNzO0B7FK5H4fogQEjhehSuRxJAmpmZmZkZI0DD9Shcj8IrQFyPwvUo3C5Aj8L1KFyPDkCPwvUoXI8UQEjhehSuxzdAUrgehevRJEAAAAAAAGBBQHsUrkfhegZAUrgehetREEAzMzMzMzMNQGdmZmZmZvY/SOF6FK5HCUDhehSuR+HiPzMzMzMzM/M/cT0K16Nw7T9SuB6F61H4P3E9CtejcAVA16NwPQrXA0Bcj8L1KFwdQD4K16Nw/T9A9ihcj8L1GUBSuB6F61HIPwrXo3A9Csc/UrgehetRyD8K16NwPQq3Pylcj8L1KLw/CtejcD0Ktz8AAAAAAAAAALgehetRuK4/uR6F61G4nj8pXI/C9Si8PwAAAAAAAAAAAAAAAAAAAAAAAAAAAAAAAAAAAAAAAAAAAAAAAAAAAAAAAAAAAAAAAAAAAAAAAAAAAAAAAAAAAAAAAAAAAAAAAAAAAAAAAAAA\\\", \\\"dtype\\\": \\\"float64\\\", \\\"order\\\": \\\"little\\\", \\\"shape\\\": [84]}}}], \\\"references\\\": []}\",\"header\":\"{\\\"msgid\\\": \\\"2316\\\", \\\"msgtype\\\": \\\"PATCH-DOC\\\"}\",\"metadata\":\"{}\"},\"Colorado\":{\"content\":\"{\\\"events\\\": [{\\\"attr\\\": \\\"start\\\", \\\"hint\\\": null, \\\"kind\\\": \\\"ModelChanged\\\", \\\"model\\\": {\\\"id\\\": \\\"1871\\\"}, \\\"new\\\": -120.42500000000001}, {\\\"attr\\\": \\\"reset_start\\\", \\\"hint\\\": null, \\\"kind\\\": \\\"ModelChanged\\\", \\\"model\\\": {\\\"id\\\": \\\"1871\\\"}, \\\"new\\\": -120.42500000000001}, {\\\"attr\\\": \\\"end\\\", \\\"hint\\\": null, \\\"kind\\\": \\\"ModelChanged\\\", \\\"model\\\": {\\\"id\\\": \\\"1871\\\"}, \\\"new\\\": 1324.675}, {\\\"attr\\\": \\\"reset_end\\\", \\\"hint\\\": null, \\\"kind\\\": \\\"ModelChanged\\\", \\\"model\\\": {\\\"id\\\": \\\"1871\\\"}, \\\"new\\\": 1324.675}, {\\\"attr\\\": \\\"text\\\", \\\"hint\\\": null, \\\"kind\\\": \\\"ModelChanged\\\", \\\"model\\\": {\\\"id\\\": \\\"1874\\\"}, \\\"new\\\": \\\"State: Colorado\\\"}, {\\\"cols\\\": null, \\\"column_source\\\": {\\\"id\\\": \\\"1903\\\"}, \\\"kind\\\": \\\"ColumnDataChanged\\\", \\\"new\\\": {\\\"Year\\\": [1928, 1929, 1930, 1931, 1932, 1933, 1934, 1935, 1936, 1937, 1938, 1939, 1940, 1941, 1942, 1943, 1944, 1945, 1946, 1947, 1948, 1949, 1950, 1951, 1952, 1953, 1954, 1955, 1956, 1957, 1958, 1959, 1960, 1961, 1962, 1963, 1964, 1965, 1966, 1967, 1968, 1969, 1970, 1971, 1972, 1973, 1974, 1975, 1976, 1977, 1978, 1979, 1980, 1981, 1982, 1983, 1984, 1985, 1986, 1987, 1988, 1989, 1990, 1991, 1992, 1993, 1994, 1995, 1996, 1997, 1998, 1999, 2000, 2001, 2002, 2003, 2004, 2005, 2006, 2007, 2008, 2009, 2010, 2011], \\\"measles\\\": {\\\"__ndarray__\\\": \\\"j8L1KFzfaUCQwvUoXI9SQNejcD0Ks5FAuR6F61FUfEDNzMzMzNxrQHE9CtejsDtAAAAAAADRkkDhehSuR4iSQB+F61G4XktAAAAAAABAV0BI4XoUrr2JQEjhehSuaYBAmpmZmZn5bEAAAAAAAK6EQKRwPQrXl39A9ihcj8KHjkBSuB6F62OBQArXo3A9+ldAUrgehesFj0D2KFyPwt1hQArXo3A9moZAexSuR+FsgUBSuB6F67V4QFyPwvUoMI1AHoXrUbgueEAAAAAAAGCFQArXo3A96l9A4XoUrkfRc0D2KFyPwkmLQNejcD0Kr2VAexSuR+GwgUAAAAAAALh5QEjhehSuC3hAMzMzMzNLakAAAAAAAKB9QBSuR+F6VHRA9ihcj8KNZEAzMzMzM+tyQAAAAAAAAFJAKVyPwvXoU0AK16NwPYo3QLgehetRuBlAUrgehevRJED2KFyPwpVCQOF6FK5H4TRAMzMzMzMzGkCF61G4HoUYQLgehetROEZA61G4HoWrMEBnZmZmZmYvQM3MzMzMzPw/16NwPQrXA0CkcD0K16PoPwAAAAAAANA/KVyPwvUozD8AAAAAAAAAAAAAAAAAAAAASOF6FK5H0T8zMzMzMzPDP0jhehSuR9E/PQrXo3A9DEApXI/C9SgIQK5H4XoUrhBAHoXrUbge1T97FK5H4XrkPwAAAAAAAAAASOF6FK5H4T/C9Shcj8LlP+F6FK5H4co/CtejcD0K5z8AAAAAAAAAAAAAAAAAAAAAuB6F61G4rj8AAAAAAAAAAAAAAAAAAAAAAAAAAAAAAAAAAAAAAAAAAAAAAAAAAAAAAAAAAAAAAAAAAAAAAAAAAAAAAAAAAAAAAAAAAAAAAAAAAAAAAAAAAAAAAAAAAAAA\\\", \\\"dtype\\\": \\\"float64\\\", \\\"order\\\": \\\"little\\\", \\\"shape\\\": [84]}}}], \\\"references\\\": []}\",\"header\":\"{\\\"msgid\\\": \\\"2309\\\", \\\"msgtype\\\": \\\"PATCH-DOC\\\"}\",\"metadata\":\"{}\"},\"Connecticut\":{\"content\":\"{\\\"events\\\": [{\\\"attr\\\": \\\"start\\\", \\\"hint\\\": null, \\\"kind\\\": \\\"ModelChanged\\\", \\\"model\\\": {\\\"id\\\": \\\"1871\\\"}, \\\"new\\\": -144.949}, {\\\"attr\\\": \\\"reset_start\\\", \\\"hint\\\": null, \\\"kind\\\": \\\"ModelChanged\\\", \\\"model\\\": {\\\"id\\\": \\\"1871\\\"}, \\\"new\\\": -144.949}, {\\\"attr\\\": \\\"end\\\", \\\"hint\\\": null, \\\"kind\\\": \\\"ModelChanged\\\", \\\"model\\\": {\\\"id\\\": \\\"1871\\\"}, \\\"new\\\": 1594.439}, {\\\"attr\\\": \\\"reset_end\\\", \\\"hint\\\": null, \\\"kind\\\": \\\"ModelChanged\\\", \\\"model\\\": {\\\"id\\\": \\\"1871\\\"}, \\\"new\\\": 1594.439}, {\\\"attr\\\": \\\"text\\\", \\\"hint\\\": null, \\\"kind\\\": \\\"ModelChanged\\\", \\\"model\\\": {\\\"id\\\": \\\"1874\\\"}, \\\"new\\\": \\\"State: Connecticut\\\"}, {\\\"cols\\\": null, \\\"column_source\\\": {\\\"id\\\": \\\"1903\\\"}, \\\"kind\\\": \\\"ColumnDataChanged\\\", \\\"new\\\": {\\\"Year\\\": [1928, 1929, 1930, 1931, 1932, 1933, 1934, 1935, 1936, 1937, 1938, 1939, 1940, 1941, 1942, 1943, 1944, 1945, 1946, 1947, 1948, 1949, 1950, 1951, 1952, 1953, 1954, 1955, 1956, 1957, 1958, 1959, 1960, 1961, 1962, 1963, 1964, 1965, 1966, 1967, 1968, 1969, 1970, 1971, 1972, 1973, 1974, 1975, 1976, 1977, 1978, 1979, 1980, 1981, 1982, 1983, 1984, 1985, 1986, 1987, 1988, 1989, 1990, 1991, 1992, 1993, 1994, 1995, 1996, 1997, 1998, 1999, 2000, 2001, 2002, 2003, 2004, 2005, 2006, 2007, 2008, 2009, 2010, 2011], \\\"measles\\\": {\\\"__ndarray__\\\": \\\"mpmZmZnXg0DC9ShcjzaDQB+F61G4DlxASOF6FK6ziEC4HoXrUcR1QMP1KFyPqnRAmpmZmZmlcUApXI/C9aWWQNejcD0Kn2xArkfhehT2gkCkcD0K1+NaQLgehetRTI1AuB6F61GId0CF61G4Hsl2QNejcD0KX4JA16NwPQozgUAAAAAAANh+QGdmZmZmRmVAw/UoXI/eeECPwvUoXHeJQKRwPQrXk2FA16NwPQo9jUBmZmZmZq5oQPYoXI/CbWxA16NwPQpskkCQwvUoXP9YQNejcD0K72tA7FG4HoWik0A+CtejcB1dQKRwPQrXn3lAMzMzMzMthEBI4XoUriOAQFK4HoXrKXtAXI/C9ShccEAUrkfhegCFQFK4HoXr2WpAKVyPwvWgZ0AK16NwPS50QOF6FK5HQUBAkML1KFyPDEBSuB6F69E3QKRwPQrXYzVAkML1KFyPDkAUrkfhenRDQArXo3A9CklA9ihcj8KVTUBnZmZmZmYWQKRwPQrXoxBAkML1KFyPHkCF61G4HgU5QArXo3A9CjFAuB6F61G4vj8zMzMzMzPrP0jhehSuR9E/uB6F61G4zj8AAAAAAAAAANejcD0K19M/CtejcD0Kxz9I4XoUrkfRPx6F61G4HuU/UrgehetR4D8fhetRuB4aQM3MzMzMzBZAFK5H4XoU5j+4HoXrUbiuPwrXo3A9Csc/uB6F61G4vj+4HoXrUbieP7gehetRuJ4/AAAAAAAAAAAAAAAAAAAAAAAAAAAAAAAAAAAAAAAAAAAAAAAAAAAAAAAAAAAAAAAAAAAAAAAAAAAAAAAAAAAAAAAAAAAAAAAAAAAAAAAAAAAAAAAAAAAAAAAAAAAAAAAAAAAAAAAAAAAAAAAAAAAAAAAAAAAAAAAA\\\", \\\"dtype\\\": \\\"float64\\\", \\\"order\\\": \\\"little\\\", \\\"shape\\\": [84]}}}], \\\"references\\\": []}\",\"header\":\"{\\\"msgid\\\": \\\"2302\\\", \\\"msgtype\\\": \\\"PATCH-DOC\\\"}\",\"metadata\":\"{}\"},\"Delaware\":{\"content\":\"{\\\"events\\\": [{\\\"attr\\\": \\\"start\\\", \\\"hint\\\": null, \\\"kind\\\": \\\"ModelChanged\\\", \\\"model\\\": {\\\"id\\\": \\\"1871\\\"}, \\\"new\\\": -126.835}, {\\\"attr\\\": \\\"reset_start\\\", \\\"hint\\\": null, \\\"kind\\\": \\\"ModelChanged\\\", \\\"model\\\": {\\\"id\\\": \\\"1871\\\"}, \\\"new\\\": -126.835}, {\\\"attr\\\": \\\"end\\\", \\\"hint\\\": null, \\\"kind\\\": \\\"ModelChanged\\\", \\\"model\\\": {\\\"id\\\": \\\"1871\\\"}, \\\"new\\\": 1395.185}, {\\\"attr\\\": \\\"reset_end\\\", \\\"hint\\\": null, \\\"kind\\\": \\\"ModelChanged\\\", \\\"model\\\": {\\\"id\\\": \\\"1871\\\"}, \\\"new\\\": 1395.185}, {\\\"attr\\\": \\\"text\\\", \\\"hint\\\": null, \\\"kind\\\": \\\"ModelChanged\\\", \\\"model\\\": {\\\"id\\\": \\\"1874\\\"}, \\\"new\\\": \\\"State: Delaware\\\"}, {\\\"cols\\\": null, \\\"column_source\\\": {\\\"id\\\": \\\"1903\\\"}, \\\"kind\\\": \\\"ColumnDataChanged\\\", \\\"new\\\": {\\\"Year\\\": [1928, 1929, 1930, 1931, 1932, 1933, 1934, 1935, 1936, 1937, 1938, 1939, 1940, 1941, 1942, 1943, 1944, 1945, 1946, 1947, 1948, 1949, 1950, 1951, 1952, 1953, 1954, 1955, 1956, 1957, 1958, 1959, 1960, 1961, 1962, 1963, 1964, 1965, 1966, 1967, 1968, 1969, 1970, 1971, 1972, 1973, 1974, 1975, 1976, 1977, 1978, 1979, 1980, 1981, 1982, 1983, 1984, 1985, 1986, 1987, 1988, 1989, 1990, 1991, 1992, 1993, 1994, 1995, 1996, 1997, 1998, 1999, 2000, 2001, 2002, 2003, 2004, 2005, 2006, 2007, 2008, 2009, 2010, 2011], \\\"measles\\\": {\\\"__ndarray__\\\": \\\"uB6F61EAcEAK16NwPfptQAAAAAAAUFtACtejcD1aj0D1KFyPwvUvQOxRuB6Fq1RAzczMzMwkk0AzMzMzM8t5QEjhehSuX4FAzczMzMwYhkBxPQrXo4BtQLgehetRqFdAhetRuB4FQkBmZmZmZtGTQArXo3A9ilZAZmZmZmakgUDNzMzMzExhQNejcD0KN1hAkML1KFzfaEApXI/C9WgzQK5H4XoU0nRAKVyPwvVQbUBmZmZmZlZoQD4K16NwDWpA9ihcj8LVXUC4HoXrUfhcQI/C9ShcfYBAexSuR+H6OkBSuB6F64lqQLgehetRiFNAmpmZmZm5XUBmZmZmZnZhQD0K16NwnWpAmpmZmZkFd0A9CtejcC1gQK5H4XoUFm9AcT0K16PQU0C4HoXrUZhZQFK4HoXrkUlASOF6FK5HJUAK16NwPQoSQB+F61G4bldAexSuR+G6R0AUrkfhehQdQFK4HoXrUSNAXY/C9Shc+z/D9Shcj8IFQMP1KFyPwhdAzczMzMzMMkDiehSuR+HyP+xRuB6F6/0/w/UoXI/CxT/D9Shcj8LlPwAAAAAAAAAAAAAAAAAAAAAAAAAAAAAAAAAAAAAAAAAAAAAAAAAAAAB7FK5H4XrEP7gehetRuAhAAAAAAAAAAACZmZmZmZkVQJmZmZmZmfU/exSuR+F6BkDiehSuR+HaP+xRuB6F69E/AAAAAAAAAAAAAAAAAAAAAKRwPQrXo8A/AAAAAAAAAAAAAAAAAAAAAAAAAAAAAAAAAAAAAAAAAAAAAAAAAAAAAAAAAAAAAAAAAAAAAAAAAAAAAAAAAAAAAAAAAAAAAAAAAAAAAAAAAAAAAAAAAAAAAAAAAAAAAAAAAAAAAAAAAAAAAAAAAAAAAAAAAAAAAAAA\\\", \\\"dtype\\\": \\\"float64\\\", \\\"order\\\": \\\"little\\\", \\\"shape\\\": [84]}}}], \\\"references\\\": []}\",\"header\":\"{\\\"msgid\\\": \\\"2295\\\", \\\"msgtype\\\": \\\"PATCH-DOC\\\"}\",\"metadata\":\"{}\"},\"District of Columbia\":{\"content\":\"{\\\"events\\\": [{\\\"attr\\\": \\\"start\\\", \\\"hint\\\": null, \\\"kind\\\": \\\"ModelChanged\\\", \\\"model\\\": {\\\"id\\\": \\\"1871\\\"}, \\\"new\\\": -113.74900000000001}, {\\\"attr\\\": \\\"reset_start\\\", \\\"hint\\\": null, \\\"kind\\\": \\\"ModelChanged\\\", \\\"model\\\": {\\\"id\\\": \\\"1871\\\"}, \\\"new\\\": -113.74900000000001}, {\\\"attr\\\": \\\"end\\\", \\\"hint\\\": null, \\\"kind\\\": \\\"ModelChanged\\\", \\\"model\\\": {\\\"id\\\": \\\"1871\\\"}, \\\"new\\\": 1251.239}, {\\\"attr\\\": \\\"reset_end\\\", \\\"hint\\\": null, \\\"kind\\\": \\\"ModelChanged\\\", \\\"model\\\": {\\\"id\\\": \\\"1871\\\"}, \\\"new\\\": 1251.239}, {\\\"attr\\\": \\\"text\\\", \\\"hint\\\": null, \\\"kind\\\": \\\"ModelChanged\\\", \\\"model\\\": {\\\"id\\\": \\\"1874\\\"}, \\\"new\\\": \\\"State: District of Columbia\\\"}, {\\\"cols\\\": null, \\\"column_source\\\": {\\\"id\\\": \\\"1903\\\"}, \\\"kind\\\": \\\"ColumnDataChanged\\\", \\\"new\\\": {\\\"Year\\\": [1928, 1929, 1930, 1931, 1932, 1933, 1934, 1935, 1936, 1937, 1938, 1939, 1940, 1941, 1942, 1943, 1944, 1945, 1946, 1947, 1948, 1949, 1950, 1951, 1952, 1953, 1954, 1955, 1956, 1957, 1958, 1959, 1960, 1961, 1962, 1963, 1964, 1965, 1966, 1967, 1968, 1969, 1970, 1971, 1972, 1973, 1974, 1975, 1976, 1977, 1978, 1979, 1980, 1981, 1982, 1983, 1984, 1985, 1986, 1987, 1988, 1989, 1990, 1991, 1992, 1993, 1994, 1995, 1996, 1997, 1998, 1999, 2000, 2001, 2002, 2003, 2004, 2005, 2006, 2007, 2008, 2009, 2010, 2011], \\\"measles\\\": {\\\"__ndarray__\\\": \\\"16NwPQq9gEDNzMzMzIxXQDMzMzMzw2ZAUrgehesHikBSuB6F65FKQDMzMzMzM1lAKVyPwvXFkUCPwvUoXBdjQD0K16Nw+XRAuB6F61HUdED2KFyPwuVcQB+F61G4Fn9Aj8L1KFy/X0DXo3A9CoN+QLgehetR2GdAcT0K16NIbUA9CtejcGFzQOxRuB6Fy0NAH4XrUbgefUAzMzMzMxNOQM3MzMzMEHNAKVyPwvVocUC4HoXrUbBqQIXrUbgeJWdAH4XrUbjicUBmZmZmZgZGQM3MzMzM9HdAuB6F61HYTEApXI/C9UhqQBWuR+F6tFxACtejcD1yZ0D2KFyPwhVKQIXrUbgexWNA7FG4HoWLR0DNzMzMzExWQML1KFyPwjtAUrgeheuRRUDC9Shcj8IzQGZmZmZmpkhArkfhehSuC0D2KFyPwvXoP4/C9ShcjxdAAAAAAAAAR0D2KFyPwvUAQEjhehSuR9E/Z2ZmZmZm9j/sUbgehevBP+xRuB6F69E/CtejcD0K/z/NzMzMzMwAQDMzMzMzM9M/exSuR+F6xD9I4XoUrkfpP3sUrkfhetQ/exSuR+F6xD8AAAAAAAAAAAAAAAAAAAAAkML1KFyPEUAAAAAAAAAAAAAAAAAAAAAAAAAAAAAAAAD2KFyPwvUaQEfhehSuRw1AAAAAAAAAAAAfhetRuB7VPwAAAAAAAAAAAAAAAAAAAAAAAAAAAAAAAAAAAAAAAAAAZmZmZmZm1j8AAAAAAAAAAAAAAAAAAAAAAAAAAAAAAAAAAAAAAAAAAAAAAAAAAAAAAAAAAAAAAAAAAAAAAAAAAAAAAAAAAAAAAAAAAAAAAAAAAAAAAAAAAAAAAAAAAAAAAAAAAAAAAAAAAAAAAAAAAAAAAAAAAAAA\\\", \\\"dtype\\\": \\\"float64\\\", \\\"order\\\": \\\"little\\\", \\\"shape\\\": [84]}}}], \\\"references\\\": []}\",\"header\":\"{\\\"msgid\\\": \\\"2288\\\", \\\"msgtype\\\": \\\"PATCH-DOC\\\"}\",\"metadata\":\"{}\"},\"Florida\":{\"content\":\"{\\\"events\\\": [{\\\"attr\\\": \\\"start\\\", \\\"hint\\\": null, \\\"kind\\\": \\\"ModelChanged\\\", \\\"model\\\": {\\\"id\\\": \\\"1871\\\"}, \\\"new\\\": -51.78300000000001}, {\\\"attr\\\": \\\"reset_start\\\", \\\"hint\\\": null, \\\"kind\\\": \\\"ModelChanged\\\", \\\"model\\\": {\\\"id\\\": \\\"1871\\\"}, \\\"new\\\": -51.78300000000001}, {\\\"attr\\\": \\\"end\\\", \\\"hint\\\": null, \\\"kind\\\": \\\"ModelChanged\\\", \\\"model\\\": {\\\"id\\\": \\\"1871\\\"}, \\\"new\\\": 569.613}, {\\\"attr\\\": \\\"reset_end\\\", \\\"hint\\\": null, \\\"kind\\\": \\\"ModelChanged\\\", \\\"model\\\": {\\\"id\\\": \\\"1871\\\"}, \\\"new\\\": 569.613}, {\\\"attr\\\": \\\"text\\\", \\\"hint\\\": null, \\\"kind\\\": \\\"ModelChanged\\\", \\\"model\\\": {\\\"id\\\": \\\"1874\\\"}, \\\"new\\\": \\\"State: Florida\\\"}, {\\\"cols\\\": null, \\\"column_source\\\": {\\\"id\\\": \\\"1903\\\"}, \\\"kind\\\": \\\"ColumnDataChanged\\\", \\\"new\\\": {\\\"Year\\\": [1928, 1929, 1930, 1931, 1932, 1933, 1934, 1935, 1936, 1937, 1938, 1939, 1940, 1941, 1942, 1943, 1944, 1945, 1946, 1947, 1948, 1949, 1950, 1951, 1952, 1953, 1954, 1955, 1956, 1957, 1958, 1959, 1960, 1961, 1962, 1963, 1964, 1965, 1966, 1967, 1968, 1969, 1970, 1971, 1972, 1973, 1974, 1975, 1976, 1977, 1978, 1979, 1980, 1981, 1982, 1983, 1984, 1985, 1986, 1987, 1988, 1989, 1990, 1991, 1992, 1993, 1994, 1995, 1996, 1997, 1998, 1999, 2000, 2001, 2002, 2003, 2004, 2005, 2006, 2007, 2008, 2009, 2010, 2011], \\\"measles\\\": {\\\"__ndarray__\\\": \\\"hetRuB7lXUBxPQrXo4BTQD4K16NwSXZAcT0K16NMcEDD9Shcj0IrQNejcD0K909AZmZmZmaaf0DhehSuRzFSQLgehetRODJAFK5H4XoUN0BxPQrXoy6AQClcj8L1sGNAXI/C9SiMXEBcj8L1KLx8QOtRuB6Fs2dAFK5H4XokUUBI4XoUrrdnQHE9Ctej0ENAKVyPwvU4XUDNzMzMzIxKQBSuR+F6DGNAKVyPwvUAYkDrUbgehdtUQD4K16NwDVNAj8L1KFx/W0AAAAAAAEBDQLgehetRhHNAhetRuB4FQ0AfhetRuM5fQNejcD0KF15AH4XrUbiqcEDsUbgehatSQD0K16NwnVJAXI/C9SjsX0D2KFyPwgVTQFyPwvUorFBAMzMzMzNjXkCF61G4HiVPQLgehetRGFBA61G4HoXrPEDhehSuR+EhQArXo3A9iiJAcT0K16MwNEAVrkfhetQ+QKRwPQrXozFAzczMzMzMEkCamZmZmZkFQBWuR+F6FO4/PgrXo3A9DkBmZmZmZmYKQDMzMzMzMydAzczMzMzMGEApXI/C9SgQQB+F61G4HgdAFa5H4XoUAECuR+F6FK73P3sUrkfhesQ/rkfhehSu7z8K16NwPQoLQArXo3A9Cuc/H4XrUbge9T+amZmZmZn5P/YoXI/C9QZArkfhehSuAUAzMzMzMzPTP5mZmZmZmck/exSuR+F6xD+5HoXrUbiuPwAAAAAAAAAAuR6F61G4rj97FK5H4XqEP3sUrkfheoQ/exSuR+F6lD8AAAAAAAAAAHsUrkfheoQ/AAAAAAAAAAAAAAAAAAAAAAAAAAAAAAAAAAAAAAAAAAAAAAAAAAAAAAAAAAAAAAAAAAAAAAAAAAAAAAAAAAAAAAAAAAAAAAAA\\\", \\\"dtype\\\": \\\"float64\\\", \\\"order\\\": \\\"little\\\", \\\"shape\\\": [84]}}}], \\\"references\\\": []}\",\"header\":\"{\\\"msgid\\\": \\\"2281\\\", \\\"msgtype\\\": \\\"PATCH-DOC\\\"}\",\"metadata\":\"{}\"},\"Georgia\":{\"content\":\"{\\\"events\\\": [{\\\"attr\\\": \\\"start\\\", \\\"hint\\\": null, \\\"kind\\\": \\\"ModelChanged\\\", \\\"model\\\": {\\\"id\\\": \\\"1871\\\"}, \\\"new\\\": -77.47800000000001}, {\\\"attr\\\": \\\"reset_start\\\", \\\"hint\\\": null, \\\"kind\\\": \\\"ModelChanged\\\", \\\"model\\\": {\\\"id\\\": \\\"1871\\\"}, \\\"new\\\": -77.47800000000001}, {\\\"attr\\\": \\\"end\\\", \\\"hint\\\": null, \\\"kind\\\": \\\"ModelChanged\\\", \\\"model\\\": {\\\"id\\\": \\\"1871\\\"}, \\\"new\\\": 852.258}, {\\\"attr\\\": \\\"reset_end\\\", \\\"hint\\\": null, \\\"kind\\\": \\\"ModelChanged\\\", \\\"model\\\": {\\\"id\\\": \\\"1871\\\"}, \\\"new\\\": 852.258}, {\\\"attr\\\": \\\"text\\\", \\\"hint\\\": null, \\\"kind\\\": \\\"ModelChanged\\\", \\\"model\\\": {\\\"id\\\": \\\"1874\\\"}, \\\"new\\\": \\\"State: Georgia\\\"}, {\\\"cols\\\": null, \\\"column_source\\\": {\\\"id\\\": \\\"1903\\\"}, \\\"kind\\\": \\\"ColumnDataChanged\\\", \\\"new\\\": {\\\"Year\\\": [1928, 1929, 1930, 1931, 1932, 1933, 1934, 1935, 1936, 1937, 1938, 1939, 1940, 1941, 1942, 1943, 1944, 1945, 1946, 1947, 1948, 1949, 1950, 1951, 1952, 1953, 1954, 1955, 1956, 1957, 1958, 1959, 1960, 1961, 1962, 1963, 1964, 1965, 1966, 1967, 1968, 1969, 1970, 1971, 1972, 1973, 1974, 1975, 1976, 1977, 1978, 1979, 1980, 1981, 1982, 1983, 1984, 1985, 1986, 1987, 1988, 1989, 1990, 1991, 1992, 1993, 1994, 1995, 1996, 1997, 1998, 1999, 2000, 2001, 2002, 2003, 2004, 2005, 2006, 2007, 2008, 2009, 2010, 2011], \\\"measles\\\": {\\\"__ndarray__\\\": \\\"j8L1KFz3Y0BwPQrXo1BEQB+F61G4JmNAKVyPwvUYWkCuR+F6FC5BQFyPwvUonGNACtejcD02iEDNzMzMzMzwP0jhehSuR9E/AAAAAAAAAAAfhetRuL5yQM3MzMzM/FxA9ihcj8J1V0BSuB6F62FyQEjhehSuF2VAzczMzMycX0C4HoXrUXBlQEjhehSuhztA16NwPQpHXUApXI/C9ZhZQGZmZmZm5kJAMzMzMzMLckD2KFyPwjVPQClcj8L1oGpAPgrXo3AtbECPwvUoXJ9VQOF6FK5HgWdA7FG4HoULUUDNzMzMzBxgQIXrUbgedWNA9ihcj8LlZUAUrkfhehQnQB+F61G4HhZAexSuR+F6JEDhehSuR2EkQB+F61G4HhNArkfhehSuE0AzMzMzMzMuQFyPwvUoXBZAuR6F61G47j97FK5H4Xq0P3sUrkfheqQ/CtejcD0K1z/Xo3A9Cpc3QHsUrkfhegxAUrgehetR8D+4HoXrUbiuP/YoXI/C9eg/mpmZmZmZuT9SuB6F69EsQPYoXI/C9fA/R+F6FK5HJEDiehSuR2EuQDMzMzMzM/8/AAAAAAAAAADsUbgehevBP7gehetRuK4/pHA9CtejwD/Xo3A9Ctf3PzMzMzMzM8M/AAAAAAAAAABI4XoUrkfRPwAAAAAAABZAcD0K16NwzT97FK5H4XqkP3sUrkfheoQ/uB6F61G4nj+4HoXrUbiuP3sUrkfheoQ/AAAAAAAAAAB7FK5H4XqEPwAAAAAAAAAAAAAAAAAAAAB7FK5H4XqEP3sUrkfheoQ/AAAAAAAAAAAAAAAAAAAAAAAAAAAAAAAAAAAAAAAAAAAAAAAAAAAAAAAAAAAAAAAAAAAAAAAAAAAAAAAAAAAAAAAAAAAAAAAA\\\", \\\"dtype\\\": \\\"float64\\\", \\\"order\\\": \\\"little\\\", \\\"shape\\\": [84]}}}], \\\"references\\\": []}\",\"header\":\"{\\\"msgid\\\": \\\"2274\\\", \\\"msgtype\\\": \\\"PATCH-DOC\\\"}\",\"metadata\":\"{}\"},\"Hawaii\":{\"content\":\"{\\\"events\\\": [{\\\"attr\\\": \\\"start\\\", \\\"hint\\\": null, \\\"kind\\\": \\\"ModelChanged\\\", \\\"model\\\": {\\\"id\\\": \\\"1871\\\"}, \\\"new\\\": -118.644}, {\\\"attr\\\": \\\"reset_start\\\", \\\"hint\\\": null, \\\"kind\\\": \\\"ModelChanged\\\", \\\"model\\\": {\\\"id\\\": \\\"1871\\\"}, \\\"new\\\": -118.644}, {\\\"attr\\\": \\\"end\\\", \\\"hint\\\": null, \\\"kind\\\": \\\"ModelChanged\\\", \\\"model\\\": {\\\"id\\\": \\\"1871\\\"}, \\\"new\\\": 1305.084}, {\\\"attr\\\": \\\"reset_end\\\", \\\"hint\\\": null, \\\"kind\\\": \\\"ModelChanged\\\", \\\"model\\\": {\\\"id\\\": \\\"1871\\\"}, \\\"new\\\": 1305.084}, {\\\"attr\\\": \\\"text\\\", \\\"hint\\\": null, \\\"kind\\\": \\\"ModelChanged\\\", \\\"model\\\": {\\\"id\\\": \\\"1874\\\"}, \\\"new\\\": \\\"State: Hawaii\\\"}, {\\\"cols\\\": null, \\\"column_source\\\": {\\\"id\\\": \\\"1903\\\"}, \\\"kind\\\": \\\"ColumnDataChanged\\\", \\\"new\\\": {\\\"Year\\\": [1928, 1929, 1930, 1931, 1932, 1933, 1934, 1935, 1936, 1937, 1938, 1939, 1940, 1941, 1942, 1943, 1944, 1945, 1946, 1947, 1948, 1949, 1950, 1951, 1952, 1953, 1954, 1955, 1956, 1957, 1958, 1959, 1960, 1961, 1962, 1963, 1964, 1965, 1966, 1967, 1968, 1969, 1970, 1971, 1972, 1973, 1974, 1975, 1976, 1977, 1978, 1979, 1980, 1981, 1982, 1983, 1984, 1985, 1986, 1987, 1988, 1989, 1990, 1991, 1992, 1993, 1994, 1995, 1996, 1997, 1998, 1999, 2000, 2001, 2002, 2003, 2004, 2005, 2006, 2007, 2008, 2009, 2010, 2011], \\\"measles\\\": {\\\"__ndarray__\\\": \\\"AAAAAAAAAAAAAAAAAAAAAAAAAAAAAAAAAAAAAAAAAAAAAAAAAAAAAAAAAAAAAAAAAAAAAAAAAAAAAAAAAAAAAAAAAAAAAAAAAAAAAAAAAAAAAAAAAAAAAAAAAAAAAAAAAAAAAAAAAAAAAAAAAAAAAAAAAAAAAAAAAAAAAAAAAAAAAAAAAAAAAAAAAAAAAAAAAAAAAAAAAAAAAAAAAAAAAAAAAAAAAAAAAAAAAAAAAABxPQrXo3AqQFK4HoXr2Y1AAAAAAAAAAAAAAAAAAAAAANejcD0K91hA9ihcj8KJkkBcj8L1KNCMQFK4HoXrEYtAhetRuB7FV0DNzMzMzISCQAAAAAAA6IlAH4XrUbiePUBxPQrXozR4QHE9CtejToBA61G4HoXLXkBmZmZmZv6BQFyPwvUoXDRA9ihcj8J1OEA0MzMzMzMUQBWuR+F6FBxAXI/C9SjcN0CkcD0K14NNQHsUrkfheiZAKVyPwvUoDEBnZmZmZmYcQK5H4XoUrhxAMzMzMzMz8z/sUbgehesSQFyPwvUoXAFAzczMzMzMH0DNzMzMzMzsP5qZmZmZmek/AAAAAAAA4D+amZmZmZm5P6RwPQrXozBApHA9CtejAkA+CtejcD0GQArXo3A9Csc/9ihcj8L1/D9SuB6F61EGQIXrUbgehQ1AMzMzMzMz/z/2KFyPwvUQQM3MzMzMzPQ/AAAAAAAAAAAAAAAAAAAAAHsUrkfhegZAXY/C9Shc3z8AAAAAAAAAAHsUrkfherQ/exSuR+F6xD89CtejcD3iP3sUrkfherQ/AAAAAAAAAAAAAAAAAAAAAAAAAAAAAAAAAAAAAAAAAAAAAAAAAAAAAAAAAAAAAAAAAAAAAAAAAAAAAAAAAAAAAAAAAAAAAAAA\\\", \\\"dtype\\\": \\\"float64\\\", \\\"order\\\": \\\"little\\\", \\\"shape\\\": [84]}}}], \\\"references\\\": []}\",\"header\":\"{\\\"msgid\\\": \\\"2267\\\", \\\"msgtype\\\": \\\"PATCH-DOC\\\"}\",\"metadata\":\"{}\"},\"Idaho\":{\"content\":\"{\\\"events\\\": [{\\\"attr\\\": \\\"start\\\", \\\"hint\\\": null, \\\"kind\\\": \\\"ModelChanged\\\", \\\"model\\\": {\\\"id\\\": \\\"1871\\\"}, \\\"new\\\": -73.417}, {\\\"attr\\\": \\\"reset_start\\\", \\\"hint\\\": null, \\\"kind\\\": \\\"ModelChanged\\\", \\\"model\\\": {\\\"id\\\": \\\"1871\\\"}, \\\"new\\\": -73.417}, {\\\"attr\\\": \\\"end\\\", \\\"hint\\\": null, \\\"kind\\\": \\\"ModelChanged\\\", \\\"model\\\": {\\\"id\\\": \\\"1871\\\"}, \\\"new\\\": 807.587}, {\\\"attr\\\": \\\"reset_end\\\", \\\"hint\\\": null, \\\"kind\\\": \\\"ModelChanged\\\", \\\"model\\\": {\\\"id\\\": \\\"1871\\\"}, \\\"new\\\": 807.587}, {\\\"attr\\\": \\\"text\\\", \\\"hint\\\": null, \\\"kind\\\": \\\"ModelChanged\\\", \\\"model\\\": {\\\"id\\\": \\\"1874\\\"}, \\\"new\\\": \\\"State: Idaho\\\"}, {\\\"cols\\\": null, \\\"column_source\\\": {\\\"id\\\": \\\"1903\\\"}, \\\"kind\\\": \\\"ColumnDataChanged\\\", \\\"new\\\": {\\\"Year\\\": [1928, 1929, 1930, 1931, 1932, 1933, 1934, 1935, 1936, 1937, 1938, 1939, 1940, 1941, 1942, 1943, 1944, 1945, 1946, 1947, 1948, 1949, 1950, 1951, 1952, 1953, 1954, 1955, 1956, 1957, 1958, 1959, 1960, 1961, 1962, 1963, 1964, 1965, 1966, 1967, 1968, 1969, 1970, 1971, 1972, 1973, 1974, 1975, 1976, 1977, 1978, 1979, 1980, 1981, 1982, 1983, 1984, 1985, 1986, 1987, 1988, 1989, 1990, 1991, 1992, 1993, 1994, 1995, 1996, 1997, 1998, 1999, 2000, 2001, 2002, 2003, 2004, 2005, 2006, 2007, 2008, 2009, 2010, 2011], \\\"measles\\\": {\\\"__ndarray__\\\": \\\"16NwPQqXM0CkcD0K1wtkQIXrUbgelWhAuB6F61H4OUCF61G4HoUhQHsUrkfhMmhA9ihcj8KNb0DD9Shcj8pmQFK4HoXraXBAzczMzMxkbkAfhetRuJp6QDMzMzMzsYVAFK5H4XoYdUBSuB6F64FZQOF6FK5HsXhAMzMzMzNXhEB7FK5H4cpmQHsUrkfhPnBAmZmZmZkZe0BwPQrXo5BJQDMzMzMzM3FAFK5H4Xrwf0DNzMzMzEB0QIXrUbgeYXZACtejcD2CaEA+CtejcEV0QI/C9Shc8YZAcT0K16NwXEApXI/C9dhzQGZmZmZmbn5A7FG4HoV/gkBmZmZmZuZuQB+F61G4XnpAAAAAAACccUCkcD0K10NtQKRwPQrX44FA16NwPQoDdUDD9Shcj2p8QPYoXI/C3W5AZmZmZmYGTkAAAAAAAAAIQHoUrkfheilApHA9CtejKkAzMzMzM/NBQK5H4XoULixA9ihcj8K1P0DrUbgehesZQM3MzMzMzAJAwvUoXI8KbECQwvUoXI8yQIXrUbgehds/uB6F61G4AkAAAAAAAAAAAJqZmZmZmck/AAAAAAAAAACamZmZmZm5PwAAAAAAAAAAAAAAAAAAGUCamZmZmZm5PwAAAAAAAAAAAAAAAAAAAACamZmZmZnpP4XrUbgehQFAMzMzMzMTRUAAAAAAAAAAAAAAAAAAAAAACtejcD0Kxz8fhetRuB7VP3sUrkfhesQ/XI/C9ShcGkB7FK5H4Xq0PwAAAAAAAAAAAAAAAAAAAAB7FK5H4XrEPwAAAAAAAAAAAAAAAAAAAAAAAAAAAAAAAAAAAAAAAAAAAAAAAAAAAAAAAAAAAAAAAAAAAAAAAAAAAAAAAAAAAAAAAAAAAAAAAAAAAAAAAAAA\\\", \\\"dtype\\\": \\\"float64\\\", \\\"order\\\": \\\"little\\\", \\\"shape\\\": [84]}}}], \\\"references\\\": []}\",\"header\":\"{\\\"msgid\\\": \\\"2260\\\", \\\"msgtype\\\": \\\"PATCH-DOC\\\"}\",\"metadata\":\"{}\"},\"Illinois\":{\"content\":\"{\\\"events\\\": [{\\\"attr\\\": \\\"start\\\", \\\"hint\\\": null, \\\"kind\\\": \\\"ModelChanged\\\", \\\"model\\\": {\\\"id\\\": \\\"1871\\\"}, \\\"new\\\": -114.51600000000002}, {\\\"attr\\\": \\\"reset_start\\\", \\\"hint\\\": null, \\\"kind\\\": \\\"ModelChanged\\\", \\\"model\\\": {\\\"id\\\": \\\"1871\\\"}, \\\"new\\\": -114.51600000000002}, {\\\"attr\\\": \\\"end\\\", \\\"hint\\\": null, \\\"kind\\\": \\\"ModelChanged\\\", \\\"model\\\": {\\\"id\\\": \\\"1871\\\"}, \\\"new\\\": 1259.6760000000002}, {\\\"attr\\\": \\\"reset_end\\\", \\\"hint\\\": null, \\\"kind\\\": \\\"ModelChanged\\\", \\\"model\\\": {\\\"id\\\": \\\"1871\\\"}, \\\"new\\\": 1259.6760000000002}, {\\\"attr\\\": \\\"text\\\", \\\"hint\\\": null, \\\"kind\\\": \\\"ModelChanged\\\", \\\"model\\\": {\\\"id\\\": \\\"1874\\\"}, \\\"new\\\": \\\"State: Illinois\\\"}, {\\\"cols\\\": null, \\\"column_source\\\": {\\\"id\\\": \\\"1903\\\"}, \\\"kind\\\": \\\"ColumnDataChanged\\\", \\\"new\\\": {\\\"Year\\\": [1928, 1929, 1930, 1931, 1932, 1933, 1934, 1935, 1936, 1937, 1938, 1939, 1940, 1941, 1942, 1943, 1944, 1945, 1946, 1947, 1948, 1949, 1950, 1951, 1952, 1953, 1954, 1955, 1956, 1957, 1958, 1959, 1960, 1961, 1962, 1963, 1964, 1965, 1966, 1967, 1968, 1969, 1970, 1971, 1972, 1973, 1974, 1975, 1976, 1977, 1978, 1979, 1980, 1981, 1982, 1983, 1984, 1985, 1986, 1987, 1988, 1989, 1990, 1991, 1992, 1993, 1994, 1995, 1996, 1997, 1998, 1999, 2000, 2001, 2002, 2003, 2004, 2005, 2006, 2007, 2008, 2009, 2010, 2011], \\\"measles\\\": {\\\"__ndarray__\\\": \\\"j8L1KFyPWEB7FK5H4aJ/QArXo3A9AmtA9ihcj8IngEBSuB6F6wlqQM3MzMzMdGNAH4XrUbj2gUAUrkfhelaHQFyPwvUo3C5AZmZmZmZeYkBxPQrXo+SRQEjhehSuB1lAKVyPwvUIVUCF61G4HimDQK5H4XoUlmBAMzMzMzOHdEDhehSuR/ltQAAAAAAA0FlAUrgeheuhckDNzMzMzNxWQKRwPQrXr3pAexSuR+F6UEAzMzMzMwtpQIXrUbgedWdAuB6F61FockAfhetRuLZlQKRwPQrXa3ZAzczMzMwUYkCkcD0K1597QOF6FK5HEVlAexSuR+EibUAK16NwPQpYQIXrUbgeFWxAAAAAAADgY0CkcD0K12tkQDMzMzMzo1hAw/UoXI+qYkDXo3A9CldFQKRwPQrXk1pAXI/C9SjcJ0AK16NwPQorQFK4HoXrUSRA4XoUrkdhPUAK16NwPQo9QFyPwvUoHERAexSuR+F6M0B7FK5H4boyQD4K16NwfTBAXI/C9SjcMUCPwvUoXI8wQOxRuB6F6xtAMzMzMzMzJ0DD9Shcj8IHQKRwPQrXo9A/uB6F61G4zj+F61G4HoX7P8P1KFyPwvU/cT0K16NwA0Bcj8L1KFwNQDMzMzMzM/s/FK5H4XoU3j9SuB6F61E2QJqZmZmZGSJAmpmZmZmZqT8K16NwPQq3P3sUrkfheqQ/MzMzMzMzwz97FK5H4XqkP3sUrkfhepQ/exSuR+F6tD97FK5H4XqEPwAAAAAAAAAAexSuR+F6pD97FK5H4XqEPwAAAAAAAAAAAAAAAAAAAAAAAAAAAAAAAAAAAAAAAAAAAAAAAAAAAAAAAAAAAAAAAAAAAAAAAAAAAAAAAAAAAAAAAAAAAAAAAAAAAAAAAAAA\\\", \\\"dtype\\\": \\\"float64\\\", \\\"order\\\": \\\"little\\\", \\\"shape\\\": [84]}}}], \\\"references\\\": []}\",\"header\":\"{\\\"msgid\\\": \\\"2253\\\", \\\"msgtype\\\": \\\"PATCH-DOC\\\"}\",\"metadata\":\"{}\"},\"Indiana\":{\"content\":\"{\\\"events\\\": [{\\\"attr\\\": \\\"start\\\", \\\"hint\\\": null, \\\"kind\\\": \\\"ModelChanged\\\", \\\"model\\\": {\\\"id\\\": \\\"1871\\\"}, \\\"new\\\": -63.103}, {\\\"attr\\\": \\\"reset_start\\\", \\\"hint\\\": null, \\\"kind\\\": \\\"ModelChanged\\\", \\\"model\\\": {\\\"id\\\": \\\"1871\\\"}, \\\"new\\\": -63.103}, {\\\"attr\\\": \\\"end\\\", \\\"hint\\\": null, \\\"kind\\\": \\\"ModelChanged\\\", \\\"model\\\": {\\\"id\\\": \\\"1871\\\"}, \\\"new\\\": 694.1329999999999}, {\\\"attr\\\": \\\"reset_end\\\", \\\"hint\\\": null, \\\"kind\\\": \\\"ModelChanged\\\", \\\"model\\\": {\\\"id\\\": \\\"1871\\\"}, \\\"new\\\": 694.1329999999999}, {\\\"attr\\\": \\\"text\\\", \\\"hint\\\": null, \\\"kind\\\": \\\"ModelChanged\\\", \\\"model\\\": {\\\"id\\\": \\\"1874\\\"}, \\\"new\\\": \\\"State: Indiana\\\"}, {\\\"cols\\\": null, \\\"column_source\\\": {\\\"id\\\": \\\"1903\\\"}, \\\"kind\\\": \\\"ColumnDataChanged\\\", \\\"new\\\": {\\\"Year\\\": [1928, 1929, 1930, 1931, 1932, 1933, 1934, 1935, 1936, 1937, 1938, 1939, 1940, 1941, 1942, 1943, 1944, 1945, 1946, 1947, 1948, 1949, 1950, 1951, 1952, 1953, 1954, 1955, 1956, 1957, 1958, 1959, 1960, 1961, 1962, 1963, 1964, 1965, 1966, 1967, 1968, 1969, 1970, 1971, 1972, 1973, 1974, 1975, 1976, 1977, 1978, 1979, 1980, 1981, 1982, 1983, 1984, 1985, 1986, 1987, 1988, 1989, 1990, 1991, 1992, 1993, 1994, 1995, 1996, 1997, 1998, 1999, 2000, 2001, 2002, 2003, 2004, 2005, 2006, 2007, 2008, 2009, 2010, 2011], \\\"measles\\\": {\\\"__ndarray__\\\": \\\"H4XrUbh6cECamZmZmSF0QB+F61G4Ll5ASOF6FK7pgEBSuB6F6zFWQOF6FK5HAVtACtejcD24g0BSuB6F67FyQGZmZmZmJjVApHA9CtdDakA9CtejcFmAQIXrUbge5U1AZmZmZmamMECuR+F6FNp3QI/C9Shcv1dAAAAAAABwcEDsUbgehaNiQOF6FK5HwUBAzczMzMxQckDXo3A9CndOQHE9Ctej6HZAKVyPwvUIWUCF61G4Hi1lQAAAAAAAgFlA7FG4HoVjZkDD9Shcj1JkQClcj8L1KIBA16NwPQqXVUAfhetRuAJ3QFK4HoXriWZAzczMzMzIeEApXI/C9ehYQMP1KFyP4mtAXI/C9SgsX0DhehSuRzlkQNejcD0Kl15AKVyPwvWsfEBI4XoUrgdIQPYoXI/CFV1A7FG4HoXrKkCamZmZmRkvQIXrUbgeBSVAAAAAAAAAFkA+CtejcB1NQM3MzMzMzDdACtejcD2KKkBxPQrXo3ATQNejcD0KVyNArkfhehT+U0CamZmZmclRQJqZmZmZmQ9AXI/C9ShcDUAUrkfhehQAQML1KFyPwtU/uB6F61G4rj8fhetRuB4bQHsUrkfheqQ/uR6F61G4rj9nZmZmZmbmPwAAAAAAAAAApHA9Ctej8D8pXI/C9SgAQPYoXI/C9RFACtejcD0Ktz8qXI/C9SjMP3sUrkfhepQ/exSuR+F6lD8AAAAAAAAAAAAAAAAAAAAAAAAAAAAAAAC4HoXrUbieP3sUrkfhepQ/AAAAAAAAAAC4HoXrUbieP3sUrkfhepQ/AAAAAAAAAAAAAAAAAAAAAAAAAAAAAAAAAAAAAAAAAAAAAAAAAAAAAAAAAAAAAAAAAAAAAAAAAAAAAAAAAAAAAAAAAAAAAAAA\\\", \\\"dtype\\\": \\\"float64\\\", \\\"order\\\": \\\"little\\\", \\\"shape\\\": [84]}}}], \\\"references\\\": []}\",\"header\":\"{\\\"msgid\\\": \\\"2246\\\", \\\"msgtype\\\": \\\"PATCH-DOC\\\"}\",\"metadata\":\"{}\"},\"Iowa\":{\"content\":\"{\\\"events\\\": [{\\\"attr\\\": \\\"start\\\", \\\"hint\\\": null, \\\"kind\\\": \\\"ModelChanged\\\", \\\"model\\\": {\\\"id\\\": \\\"1871\\\"}, \\\"new\\\": -86.565}, {\\\"attr\\\": \\\"reset_start\\\", \\\"hint\\\": null, \\\"kind\\\": \\\"ModelChanged\\\", \\\"model\\\": {\\\"id\\\": \\\"1871\\\"}, \\\"new\\\": -86.565}, {\\\"attr\\\": \\\"end\\\", \\\"hint\\\": null, \\\"kind\\\": \\\"ModelChanged\\\", \\\"model\\\": {\\\"id\\\": \\\"1871\\\"}, \\\"new\\\": 952.2149999999999}, {\\\"attr\\\": \\\"reset_end\\\", \\\"hint\\\": null, \\\"kind\\\": \\\"ModelChanged\\\", \\\"model\\\": {\\\"id\\\": \\\"1871\\\"}, \\\"new\\\": 952.2149999999999}, {\\\"attr\\\": \\\"text\\\", \\\"hint\\\": null, \\\"kind\\\": \\\"ModelChanged\\\", \\\"model\\\": {\\\"id\\\": \\\"1874\\\"}, \\\"new\\\": \\\"State: Iowa\\\"}, {\\\"cols\\\": null, \\\"column_source\\\": {\\\"id\\\": \\\"1903\\\"}, \\\"kind\\\": \\\"ColumnDataChanged\\\", \\\"new\\\": {\\\"Year\\\": [1928, 1929, 1930, 1931, 1932, 1933, 1934, 1935, 1936, 1937, 1938, 1939, 1940, 1941, 1942, 1943, 1944, 1945, 1946, 1947, 1948, 1949, 1950, 1951, 1952, 1953, 1954, 1955, 1956, 1957, 1958, 1959, 1960, 1961, 1962, 1963, 1964, 1965, 1966, 1967, 1968, 1969, 1970, 1971, 1972, 1973, 1974, 1975, 1976, 1977, 1978, 1979, 1980, 1981, 1982, 1983, 1984, 1985, 1986, 1987, 1988, 1989, 1990, 1991, 1992, 1993, 1994, 1995, 1996, 1997, 1998, 1999, 2000, 2001, 2002, 2003, 2004, 2005, 2006, 2007, 2008, 2009, 2010, 2011], \\\"measles\\\": {\\\"__ndarray__\\\": \\\"4XoUrkehPEDNzMzMzLxUQD4K16NwuXhAAAAAAAAgQUBI4XoUrkcZQOF6FK5HgUBACtejcD2mdUAzMzMzMw2LQAAAAAAAACBAhetRuB6FJUA+CtejcOVrQFyPwvUoJGpAMzMzMzOTakCkcD0K17toQOF6FK5H2W9AmpmZmZlZbkBcj8L1KCxpQDMzMzMzs05ArkfhehQOZEAUrkfhejxmQFyPwvUoBHZAUrgehevBVUCkcD0K1/d4QFK4HoXr8VlA9ihcj8I1XkAUrkfhetx5QArXo3A90n1ACtejcD3qcUDD9ShcjzZzQAAAAAAArHRAhetRuB79fEAAAAAAAER6QAAAAAAAAFBAKVyPwvUQaECuR+F6FJp4QIXrUbgegXFAwvUoXI+eiUBxPQrXozh1QBSuR+F6rGhAmpmZmZmZPUBSuB6F61EaQPYoXI/C9SNA61G4HoVrP0DD9Shcj7JXQMP1KFyPokBAPgrXo3A9JEBmZmZmZmYSQFyPwvUoHDhAZmZmZmZm9j+uR+F6FO5eQK5H4XoUrgdA9ihcj8L14D+4HoXrUbiuP7gehetRuJ4/AAAAAAAAAAAAAAAAAAAAAAAAAAAAAAAAAAAAAAAAAABmZmZmZmYUQAAAAAAAAAAAAAAAAAAAAADNzMzMzMzcP7gehetRuO4/4XoUrkfh4j8AAAAAAAAAAAAAAAAAAAAAAAAAAAAA0D8AAAAAAAAAAAAAAAAAAAAA7FG4HoXr0T+4HoXrUbiePwAAAAAAAAAAuB6F61G4rj8AAAAAAAAAAAAAAAAAAAAAAAAAAAAAAAAAAAAAAAAAAAAAAAAAAAAAAAAAAAAAAAAAAAAAAAAAAAAAAAAAAAAAAAAAAAAAAAAAAAAAAAAAAAAAAAAAAAAA\\\", \\\"dtype\\\": \\\"float64\\\", \\\"order\\\": \\\"little\\\", \\\"shape\\\": [84]}}}], \\\"references\\\": []}\",\"header\":\"{\\\"msgid\\\": \\\"2239\\\", \\\"msgtype\\\": \\\"PATCH-DOC\\\"}\",\"metadata\":\"{}\"},\"Kansas\":{\"content\":\"{\\\"events\\\": [{\\\"attr\\\": \\\"start\\\", \\\"hint\\\": null, \\\"kind\\\": \\\"ModelChanged\\\", \\\"model\\\": {\\\"id\\\": \\\"1871\\\"}, \\\"new\\\": -139.901}, {\\\"attr\\\": \\\"reset_start\\\", \\\"hint\\\": null, \\\"kind\\\": \\\"ModelChanged\\\", \\\"model\\\": {\\\"id\\\": \\\"1871\\\"}, \\\"new\\\": -139.901}, {\\\"attr\\\": \\\"end\\\", \\\"hint\\\": null, \\\"kind\\\": \\\"ModelChanged\\\", \\\"model\\\": {\\\"id\\\": \\\"1871\\\"}, \\\"new\\\": 1538.911}, {\\\"attr\\\": \\\"reset_end\\\", \\\"hint\\\": null, \\\"kind\\\": \\\"ModelChanged\\\", \\\"model\\\": {\\\"id\\\": \\\"1871\\\"}, \\\"new\\\": 1538.911}, {\\\"attr\\\": \\\"text\\\", \\\"hint\\\": null, \\\"kind\\\": \\\"ModelChanged\\\", \\\"model\\\": {\\\"id\\\": \\\"1874\\\"}, \\\"new\\\": \\\"State: Kansas\\\"}, {\\\"cols\\\": null, \\\"column_source\\\": {\\\"id\\\": \\\"1903\\\"}, \\\"kind\\\": \\\"ColumnDataChanged\\\", \\\"new\\\": {\\\"Year\\\": [1928, 1929, 1930, 1931, 1932, 1933, 1934, 1935, 1936, 1937, 1938, 1939, 1940, 1941, 1942, 1943, 1944, 1945, 1946, 1947, 1948, 1949, 1950, 1951, 1952, 1953, 1954, 1955, 1956, 1957, 1958, 1959, 1960, 1961, 1962, 1963, 1964, 1965, 1966, 1967, 1968, 1969, 1970, 1971, 1972, 1973, 1974, 1975, 1976, 1977, 1978, 1979, 1980, 1981, 1982, 1983, 1984, 1985, 1986, 1987, 1988, 1989, 1990, 1991, 1992, 1993, 1994, 1995, 1996, 1997, 1998, 1999, 2000, 2001, 2002, 2003, 2004, 2005, 2006, 2007, 2008, 2009, 2010, 2011], \\\"measles\\\": {\\\"__ndarray__\\\": \\\"PQrXo3AdYUDsUbgehVuBQEjhehSu1YRArkfhehReV0AK16NwPWp0QOF6FK5H8XRAH4XrUbjWgEDXo3A9CtyVQOtRuB6FKzdArkfhehQORUAUrkfhejiCQB+F61G4xmNAzczMzMwkfED2KFyPwuOHQKRwPQrXuYBAH4XrUbgegUApXI/C9TyBQB+F61G4/ldAj8L1KFyRhECPwvUoXA9IQEjhehSuJ01AFK5H4XqSi0B7FK5H4UpXQOtRuB6F4YFAhetRuB5hdEApXI/C9XaHQArXo3A9mlBAUrgehesxYkApXI/C9RhpQNejcD0K1+M/kML1KFyPCkAAAAAAAAAAAAAAAAAAAAAAAAAAAAAAAAAAAAAAAAAAAAAAAAAAAAAAAAAAAAAAAAAAAAAAAAAAAAAAAAAAAAAAw/UoXI/CEUC4HoXrUbjuP1K4HoXrUdg/zczMzMzMCkD2KFyPwjVPQIXrUbgehfs/CtejcD0K8z8AAAAAAIAgQDMzMzMzU1dA9ihcj8IVQEA+CtejcJ1OQAAAAAAAABJAH4XrUbgeCUDhehSuR+EIQHsUrkfheqQ/HoXrUbge/T8AAAAAAAAAAAAAAAAAAAAAexSuR+F6pD8pXI/C9SgQQAAAAAAAAAAAexSuR+F6pD8AAAAAAAATQOxRuB6F6yJACtejcD0K1z97FK5H4Xq0PwAAAAAAAAAAexSuR+F6pD97FK5H4XqkP3sUrkfheqQ/AAAAAAAAAAAAAAAAAAAAAAAAAAAAAAAAexSuR+F6tD97FK5H4XqkPwAAAAAAAAAAAAAAAAAAAAAAAAAAAAAAAAAAAAAAAAAAAAAAAAAAAAAAAAAAAAAAAAAAAAAAAAAAAAAAAAAAAAAAAAAAAAAAAAAAAAAAAAAA\\\", \\\"dtype\\\": \\\"float64\\\", \\\"order\\\": \\\"little\\\", \\\"shape\\\": [84]}}}], \\\"references\\\": []}\",\"header\":\"{\\\"msgid\\\": \\\"2232\\\", \\\"msgtype\\\": \\\"PATCH-DOC\\\"}\",\"metadata\":\"{}\"},\"Kentucky\":{\"content\":\"{\\\"events\\\": [{\\\"attr\\\": \\\"start\\\", \\\"hint\\\": null, \\\"kind\\\": \\\"ModelChanged\\\", \\\"model\\\": {\\\"id\\\": \\\"1871\\\"}, \\\"new\\\": -102.60000000000001}, {\\\"attr\\\": \\\"reset_start\\\", \\\"hint\\\": null, \\\"kind\\\": \\\"ModelChanged\\\", \\\"model\\\": {\\\"id\\\": \\\"1871\\\"}, \\\"new\\\": -102.60000000000001}, {\\\"attr\\\": \\\"end\\\", \\\"hint\\\": null, \\\"kind\\\": \\\"ModelChanged\\\", \\\"model\\\": {\\\"id\\\": \\\"1871\\\"}, \\\"new\\\": 1128.6}, {\\\"attr\\\": \\\"reset_end\\\", \\\"hint\\\": null, \\\"kind\\\": \\\"ModelChanged\\\", \\\"model\\\": {\\\"id\\\": \\\"1871\\\"}, \\\"new\\\": 1128.6}, {\\\"attr\\\": \\\"text\\\", \\\"hint\\\": null, \\\"kind\\\": \\\"ModelChanged\\\", \\\"model\\\": {\\\"id\\\": \\\"1874\\\"}, \\\"new\\\": \\\"State: Kentucky\\\"}, {\\\"cols\\\": null, \\\"column_source\\\": {\\\"id\\\": \\\"1903\\\"}, \\\"kind\\\": \\\"ColumnDataChanged\\\", \\\"new\\\": {\\\"Year\\\": [1928, 1929, 1930, 1931, 1932, 1933, 1934, 1935, 1936, 1937, 1938, 1939, 1940, 1941, 1942, 1943, 1944, 1945, 1946, 1947, 1948, 1949, 1950, 1951, 1952, 1953, 1954, 1955, 1956, 1957, 1958, 1959, 1960, 1961, 1962, 1963, 1964, 1965, 1966, 1967, 1968, 1969, 1970, 1971, 1972, 1973, 1974, 1975, 1976, 1977, 1978, 1979, 1980, 1981, 1982, 1983, 1984, 1985, 1986, 1987, 1988, 1989, 1990, 1991, 1992, 1993, 1994, 1995, 1996, 1997, 1998, 1999, 2000, 2001, 2002, 2003, 2004, 2005, 2006, 2007, 2008, 2009, 2010, 2011], \\\"measles\\\": {\\\"__ndarray__\\\": \\\"uB6F61EIa0D2KFyPwpVFQJqZmZmZiVFA4XoUrkehZkCPwvUoXD9SQK5H4XoU7kxAzczMzMxoekBcj8L1KK6AQArXo3A96lNAAAAAAAC4bkCkcD0K15d4QFK4HoXr8VNASOF6FK5nWEAAAAAAABSDQIXrUbgeBVVAcT0K16P8d0AAAAAAAKBVQHE9CtejkE5ArkfhehTacEAehetRuB4+QK5H4XoU/l9A9ihcj8JpckDNzMzMzFRkQI/C9ShcL3JA61G4HoWvdkC4HoXrUdBgQAAAAAAACJBA9ihcj8IFU0C4HoXrURKDQK5H4XoUboFAhetRuB5dg0DNzMzMzLRrQEjhehSuD3ZAexSuR+EKd0DhehSuR0lpQK5H4XoUznFAPQrXo3AdfkCkcD0K10NeQB+F61G4RmNACtejcD1qR0B7FK5H4XoRQK5H4XoUrgFAUrgehesxQEA9CtejcN1bQF2PwvUo3CxAwvUoXI/CKEAUrkfhehQWQDMzMzMzMxJA4XoUrkfhNUCF61G4HoVAQM3MzMzMzApAFK5H4XoU+j8AAAAAAAD8P7gehetRuJ4/uB6F61G4rj8AAAAAAAAAALgehetRuJ4/mpmZmZmZqT97FK5H4Xq0PwAAAAAAAAAAZmZmZmZm7j+4HoXrUbjyPz4K16NwPfI/Fa5H4XoU5j/Xo3A9CtcdQAAAAAAAAAAAAAAAAAAAAAAAAAAAAAAAAAAAAAAAAAAAAAAAAAAAAAAAAAAAAAAAAAAAAAAAAAAAAAAAAAAAAACamZmZmZmpPwAAAAAAAAAAAAAAAAAAAAAAAAAAAAAAAAAAAAAAAAAAAAAAAAAAAAAAAAAAAAAAAAAAAAAAAAAAAAAAAAAAAAAAAAAAAAAAAAAAAAAAAAAA\\\", \\\"dtype\\\": \\\"float64\\\", \\\"order\\\": \\\"little\\\", \\\"shape\\\": [84]}}}], \\\"references\\\": []}\",\"header\":\"{\\\"msgid\\\": \\\"2225\\\", \\\"msgtype\\\": \\\"PATCH-DOC\\\"}\",\"metadata\":\"{}\"},\"Louisiana\":{\"content\":\"{\\\"events\\\": [{\\\"attr\\\": \\\"start\\\", \\\"hint\\\": null, \\\"kind\\\": \\\"ModelChanged\\\", \\\"model\\\": {\\\"id\\\": \\\"1871\\\"}, \\\"new\\\": -26.033}, {\\\"attr\\\": \\\"reset_start\\\", \\\"hint\\\": null, \\\"kind\\\": \\\"ModelChanged\\\", \\\"model\\\": {\\\"id\\\": \\\"1871\\\"}, \\\"new\\\": -26.033}, {\\\"attr\\\": \\\"end\\\", \\\"hint\\\": null, \\\"kind\\\": \\\"ModelChanged\\\", \\\"model\\\": {\\\"id\\\": \\\"1871\\\"}, \\\"new\\\": 286.363}, {\\\"attr\\\": \\\"reset_end\\\", \\\"hint\\\": null, \\\"kind\\\": \\\"ModelChanged\\\", \\\"model\\\": {\\\"id\\\": \\\"1871\\\"}, \\\"new\\\": 286.363}, {\\\"attr\\\": \\\"text\\\", \\\"hint\\\": null, \\\"kind\\\": \\\"ModelChanged\\\", \\\"model\\\": {\\\"id\\\": \\\"1874\\\"}, \\\"new\\\": \\\"State: Louisiana\\\"}, {\\\"cols\\\": null, \\\"column_source\\\": {\\\"id\\\": \\\"1903\\\"}, \\\"kind\\\": \\\"ColumnDataChanged\\\", \\\"new\\\": {\\\"Year\\\": [1928, 1929, 1930, 1931, 1932, 1933, 1934, 1935, 1936, 1937, 1938, 1939, 1940, 1941, 1942, 1943, 1944, 1945, 1946, 1947, 1948, 1949, 1950, 1951, 1952, 1953, 1954, 1955, 1956, 1957, 1958, 1959, 1960, 1961, 1962, 1963, 1964, 1965, 1966, 1967, 1968, 1969, 1970, 1971, 1972, 1973, 1974, 1975, 1976, 1977, 1978, 1979, 1980, 1981, 1982, 1983, 1984, 1985, 1986, 1987, 1988, 1989, 1990, 1991, 1992, 1993, 1994, 1995, 1996, 1997, 1998, 1999, 2000, 2001, 2002, 2003, 2004, 2005, 2006, 2007, 2008, 2009, 2010, 2011], \\\"measles\\\": {\\\"__ndarray__\\\": \\\"4XoUrkdFcEDD9ShcjzJWQMP1KFyPklVAcT0K16PwJkBcj8L1KNxQQMP1KFyPYkVAH4XrUbiea0CuR+F6FE5dQPYoXI/C1UxA9ihcj8K1NEDD9Shcj2JGQClcj8L1oGNApHA9CtfjR0DhehSuR4FBQJDC9Shc715AXI/C9SicWkAAAAAAAABaQDMzMzMzk0RAFa5H4XqUX0B7FK5H4fpIQHE9Ctej0ExAj8L1KFzPSUBSuB6F65E8QB+F61G4rlNAuB6F61H4N0AVrkfhenxjQD0K16NwPVpApHA9CtejFkApXI/C9WhRQFK4HoXrUUFAmpmZmZkZIkCkcD0K16MAQNejcD0K1x1ArkfhehSu8z+ZmZmZmZkbQArXo3A9ChFAhetRuB6FC0DNzMzMzMwOQClcj8L1KAhA16NwPQrXEUBH4XoUrkfpP65H4XoUrgtArkfhehSuIEC4HoXrURhFQBWuR+F6FApA9ihcj8L1AkBSuB6F61HYPwrXo3A9Crc/CtejcD0KH0CamZmZmZkBQAAAAAAAQDVAzczMzMzMGECF61G4HoXbP5qZmZmZmbk/w/UoXI/C1T8L16NwPQq3PwrXo3A9Csc/Z2ZmZmZm7j97FK5H4Xq0PwAAAAAAAAAAAAAAAAAAAABSuB6F61EGQAAAAAAAAAAAAAAAAAAAAAAAAAAAAAAAAHsUrkfhepQ/exSuR+F6lD/hehSuR+HaPwAAAAAAAAAAAAAAAAAAAAB7FK5H4XqUPwAAAAAAAAAAAAAAAAAAAAAAAAAAAAAAAAAAAAAAAAAAAAAAAAAAAAAAAAAAAAAAAAAAAAAAAAAAAAAAAAAAAAAAAAAAAAAAAAAAAAAAAAAAAAAAAAAAAAAAAAAAAAAAAAAAAAAAAAAA\\\", \\\"dtype\\\": \\\"float64\\\", \\\"order\\\": \\\"little\\\", \\\"shape\\\": [84]}}}], \\\"references\\\": []}\",\"header\":\"{\\\"msgid\\\": \\\"2218\\\", \\\"msgtype\\\": \\\"PATCH-DOC\\\"}\",\"metadata\":\"{}\"},\"Maine\":{\"content\":\"{\\\"events\\\": [{\\\"attr\\\": \\\"start\\\", \\\"hint\\\": null, \\\"kind\\\": \\\"ModelChanged\\\", \\\"model\\\": {\\\"id\\\": \\\"1871\\\"}, \\\"new\\\": -110.887}, {\\\"attr\\\": \\\"reset_start\\\", \\\"hint\\\": null, \\\"kind\\\": \\\"ModelChanged\\\", \\\"model\\\": {\\\"id\\\": \\\"1871\\\"}, \\\"new\\\": -110.887}, {\\\"attr\\\": \\\"end\\\", \\\"hint\\\": null, \\\"kind\\\": \\\"ModelChanged\\\", \\\"model\\\": {\\\"id\\\": \\\"1871\\\"}, \\\"new\\\": 1219.7569999999998}, {\\\"attr\\\": \\\"reset_end\\\", \\\"hint\\\": null, \\\"kind\\\": \\\"ModelChanged\\\", \\\"model\\\": {\\\"id\\\": \\\"1871\\\"}, \\\"new\\\": 1219.7569999999998}, {\\\"attr\\\": \\\"text\\\", \\\"hint\\\": null, \\\"kind\\\": \\\"ModelChanged\\\", \\\"model\\\": {\\\"id\\\": \\\"1874\\\"}, \\\"new\\\": \\\"State: Maine\\\"}, {\\\"cols\\\": null, \\\"column_source\\\": {\\\"id\\\": \\\"1903\\\"}, \\\"kind\\\": \\\"ColumnDataChanged\\\", \\\"new\\\": {\\\"Year\\\": [1928, 1929, 1930, 1931, 1932, 1933, 1934, 1935, 1936, 1937, 1938, 1939, 1940, 1941, 1942, 1943, 1944, 1945, 1946, 1947, 1948, 1949, 1950, 1951, 1952, 1953, 1954, 1955, 1956, 1957, 1958, 1959, 1960, 1961, 1962, 1963, 1964, 1965, 1966, 1967, 1968, 1969, 1970, 1971, 1972, 1973, 1974, 1975, 1976, 1977, 1978, 1979, 1980, 1981, 1982, 1983, 1984, 1985, 1986, 1987, 1988, 1989, 1990, 1991, 1992, 1993, 1994, 1995, 1996, 1997, 1998, 1999, 2000, 2001, 2002, 2003, 2004, 2005, 2006, 2007, 2008, 2009, 2010, 2011], \\\"measles\\\": {\\\"__ndarray__\\\": \\\"j8L1KFwfeUCPwvUoXHmGQFyPwvUo3GhAmpmZmZkle0CF61G4HvmQQEfhehSuxypA4XoUrkeBU0CuR+F6FM6KQIXrUbge34tAMzMzMzPLYEAfhetRuNp/QD0K16Nw8XBAUrgehestikCamZmZmW2BQHsUrkfh5IBApHA9CtefckDC9ShcjxiDQIXrUbgepU5AAAAAAAAQgkDhehSuR4l/QFyPwvUo8HRAFK5H4XpTkUCamZmZmYlaQJmZmZmZIWhA9ihcj8LdjkCamZmZmbFmQAAAAAAAloNApHA9CtczhkApXI/C9dhcQK5H4XoU7n1APQrXo3DpfEDD9Shcj+ZwQM3MzMzM0HlA4XoUrkdxcUCuR+F6FHCGQB+F61G4PkhAw/UoXI9ed0AAAAAAAHxyQDMzMzMzsz1A4XoUrkehOEAVrkfhehQMQJqZmZmZmek/PQrXo3C9REDhehSuRxFeQHsUrkfh+jRASOF6FK5HFUCF61G4HoULQArXo3A9Cvc/zczMzMzM7D9SuB6F69EvQFK4HoXrcV1APgrXo3A9/j/hehSuR+EQQMzMzMzMzNw/AAAAAAAAAAAAAAAAAAAAAAAAAAAAAAAAAAAAAAAAAAApXI/C9Sj0PwAAAAAAANA/H4XrUbge5T8AAAAAAAAAAHsUrkfhetQ/7FG4HoXr4T+4HoXrUbjOP3sUrkfhesQ/uB6F61G4zj8AAAAAAAAAAAAAAAAAAAAAexSuR+F61D8AAAAAAAAAAAAAAAAAAAAAAAAAAAAAAAAAAAAAAAAAAAAAAAAAAAAAAAAAAAAAAAAAAAAAAAAAAAAAAAAAAAAAAAAAAAAAAAAAAAAAAAAAAAAAAAAAAAAAAAAAAAAAAAAAAAAAAAAAAAAAAAAAAAAA\\\", \\\"dtype\\\": \\\"float64\\\", \\\"order\\\": \\\"little\\\", \\\"shape\\\": [84]}}}], \\\"references\\\": []}\",\"header\":\"{\\\"msgid\\\": \\\"2211\\\", \\\"msgtype\\\": \\\"PATCH-DOC\\\"}\",\"metadata\":\"{}\"},\"Maryland\":{\"content\":\"{\\\"events\\\": [{\\\"attr\\\": \\\"start\\\", \\\"hint\\\": null, \\\"kind\\\": \\\"ModelChanged\\\", \\\"model\\\": {\\\"id\\\": \\\"1871\\\"}, \\\"new\\\": -157.591}, {\\\"attr\\\": \\\"reset_start\\\", \\\"hint\\\": null, \\\"kind\\\": \\\"ModelChanged\\\", \\\"model\\\": {\\\"id\\\": \\\"1871\\\"}, \\\"new\\\": -157.591}, {\\\"attr\\\": \\\"end\\\", \\\"hint\\\": null, \\\"kind\\\": \\\"ModelChanged\\\", \\\"model\\\": {\\\"id\\\": \\\"1871\\\"}, \\\"new\\\": 1733.5010000000002}, {\\\"attr\\\": \\\"reset_end\\\", \\\"hint\\\": null, \\\"kind\\\": \\\"ModelChanged\\\", \\\"model\\\": {\\\"id\\\": \\\"1871\\\"}, \\\"new\\\": 1733.5010000000002}, {\\\"attr\\\": \\\"text\\\", \\\"hint\\\": null, \\\"kind\\\": \\\"ModelChanged\\\", \\\"model\\\": {\\\"id\\\": \\\"1874\\\"}, \\\"new\\\": \\\"State: Maryland\\\"}, {\\\"cols\\\": null, \\\"column_source\\\": {\\\"id\\\": \\\"1903\\\"}, \\\"kind\\\": \\\"ColumnDataChanged\\\", \\\"new\\\": {\\\"Year\\\": [1928, 1929, 1930, 1931, 1932, 1933, 1934, 1935, 1936, 1937, 1938, 1939, 1940, 1941, 1942, 1943, 1944, 1945, 1946, 1947, 1948, 1949, 1950, 1951, 1952, 1953, 1954, 1955, 1956, 1957, 1958, 1959, 1960, 1961, 1962, 1963, 1964, 1965, 1966, 1967, 1968, 1969, 1970, 1971, 1972, 1973, 1974, 1975, 1976, 1977, 1978, 1979, 1980, 1981, 1982, 1983, 1984, 1985, 1986, 1987, 1988, 1989, 1990, 1991, 1992, 1993, 1994, 1995, 1996, 1997, 1998, 1999, 2000, 2001, 2002, 2003, 2004, 2005, 2006, 2007, 2008, 2009, 2010, 2011], \\\"measles\\\": {\\\"__ndarray__\\\": \\\"wvUoXI8FkUDD9Shcj4JfQClcj8L1eFJAZmZmZmbDk0B7FK5H4UpQQNejcD0Kl0RAcT0K16OfmEA9CtejcKVgQBSuR+F6VHlAj8L1KFzRhUBSuB6F6+FjQJDC9Shcp4pAexSuR+E6bUDhehSuRwV4QOxRuB6FuYBAKVyPwvWYaEAK16NwPS6DQJqZmZmZ2VVAexSuR+GGfkBxPQrXo3BJQFK4HoXrNXtAXI/C9Sgih0Bcj8L1KNxOQIXrUbge0XBAcT0K16PAdUA+CtejcN1TQPYoXI/CHXtAcT0K16PgVEBxPQrXo2xzQOxRuB6F61NAwvUoXI9aakCF61G4HgVTQB6F61G4HlpAKVyPwvVIYEBI4XoUridYQArXo3A9Ck5AcT0K16NgVkDD9Shcj8JBQMP1KFyP4kxAcT0K16NwE0AAAAAAAAAGQM3MzMzMzARArkfhehROQUAzMzMzMzMrQEjhehSuR9E/exSuR+F61D89CtejcD3iP6RwPQrXo/g/ZmZmZmbmM0D2KFyPwvUgQK5H4XoUrvM/UrgehetR2D+uR+F6FK7/Pylcj8L1KLw/mpmZmZmZuT/C9Shcj8LFPzQzMzMzM9M/PgrXo3A9BEBSuB6F61HoPylcj8L1KMw/MzMzMzMz0z/Xo3A9CtcDQPYoXI/C9RBASOF6FK5HDUApXI/C9SjMP3sUrkfhepQ/mpmZmZmZuT8AAAAAAAAAAHsUrkfherQ/AAAAAAAA4D8AAAAAAAAAAAAAAAAAAAAAAAAAAAAAAAC4HoXrUbiuPwAAAAAAAAAAAAAAAAAAAAAAAAAAAAAAAAAAAAAAAAAAAAAAAAAAAAAAAAAAAAAAAAAAAAAAAAAAAAAAAAAAAAAAAAAAAAAAAAAAAAAAAAAA\\\", \\\"dtype\\\": \\\"float64\\\", \\\"order\\\": \\\"little\\\", \\\"shape\\\": [84]}}}], \\\"references\\\": []}\",\"header\":\"{\\\"msgid\\\": \\\"2204\\\", \\\"msgtype\\\": \\\"PATCH-DOC\\\"}\",\"metadata\":\"{}\"},\"Massachusetts\":{\"content\":\"{\\\"events\\\": [{\\\"attr\\\": \\\"start\\\", \\\"hint\\\": null, \\\"kind\\\": \\\"ModelChanged\\\", \\\"model\\\": {\\\"id\\\": \\\"1871\\\"}, \\\"new\\\": -103.94900000000001}, {\\\"attr\\\": \\\"reset_start\\\", \\\"hint\\\": null, \\\"kind\\\": \\\"ModelChanged\\\", \\\"model\\\": {\\\"id\\\": \\\"1871\\\"}, \\\"new\\\": -103.94900000000001}, {\\\"attr\\\": \\\"end\\\", \\\"hint\\\": null, \\\"kind\\\": \\\"ModelChanged\\\", \\\"model\\\": {\\\"id\\\": \\\"1871\\\"}, \\\"new\\\": 1143.439}, {\\\"attr\\\": \\\"reset_end\\\", \\\"hint\\\": null, \\\"kind\\\": \\\"ModelChanged\\\", \\\"model\\\": {\\\"id\\\": \\\"1871\\\"}, \\\"new\\\": 1143.439}, {\\\"attr\\\": \\\"text\\\", \\\"hint\\\": null, \\\"kind\\\": \\\"ModelChanged\\\", \\\"model\\\": {\\\"id\\\": \\\"1874\\\"}, \\\"new\\\": \\\"State: Massachusetts\\\"}, {\\\"cols\\\": null, \\\"column_source\\\": {\\\"id\\\": \\\"1903\\\"}, \\\"kind\\\": \\\"ColumnDataChanged\\\", \\\"new\\\": {\\\"Year\\\": [1928, 1929, 1930, 1931, 1932, 1933, 1934, 1935, 1936, 1937, 1938, 1939, 1940, 1941, 1942, 1943, 1944, 1945, 1946, 1947, 1948, 1949, 1950, 1951, 1952, 1953, 1954, 1955, 1956, 1957, 1958, 1959, 1960, 1961, 1962, 1963, 1964, 1965, 1966, 1967, 1968, 1969, 1970, 1971, 1972, 1973, 1974, 1975, 1976, 1977, 1978, 1979, 1980, 1981, 1982, 1983, 1984, 1985, 1986, 1987, 1988, 1989, 1990, 1991, 1992, 1993, 1994, 1995, 1996, 1997, 1998, 1999, 2000, 2001, 2002, 2003, 2004, 2005, 2006, 2007, 2008, 2009, 2010, 2011], \\\"measles\\\": {\\\"__ndarray__\\\": \\\"Fa5H4XqojkAfhetRuPZ1QLgehetRsoNAFK5H4XoseEDXo3A9CvN8QPYoXI/C/XVAKVyPwvU9kEBI4XoUrutxQBWuR+F6LoNAhetRuB7lfUDXo3A9Cr9sQOtRuB6FEYFA7FG4HoUrf0Bcj8L1KKB9QIXrUbgep4FAj8L1KFyBh0CuR+F6FBZ7QIXrUbgeVWdAexSuR+HyiEBmZmZmZpZvQAAAAAAAGIVA16NwPQpngUDsUbgehYtwQHE9CtejeHNAw/UoXI9gjUBSuB6F6xFRQM3MzMzMsH1AAAAAAADsjUAAAAAAAABSQJqZmZmZwWtASOF6FK5XhkCuR+F6FM5eQOF6FK5HSXpA16NwPQoHekDhehSuR/V/QGZmZmZmBlVAPQrXo3D9YECkcD0K1yd2QArXo3A9Ci5A4noUrkfhHUCuR+F6FK4jQFyPwvUoXBpAAAAAAACAL0CkcD0K1yMgQPYoXI/C9TVASOF6FK5HUUBSuB6F61EcQIXrUbgehQVArkfhehSu5z+amZmZmZkoQM3MzMzMzBVAXI/C9Shc3z9cj8L1KFzvP83MzMzMzPA/mpmZmZmZuT8zMzMzMzPDP1yPwvUoXPc/7FG4HoXr9T8pXI/C9SjkP3E9CtejcPE/CtejcD0Ktz+kcD0K16P8P0jhehSuR+E/CtejcD0K5z9mZmZmZmbWP9ejcD0K19M/uB6F61G4vj97FK5H4Xq0P5qZmZmZmck/KVyPwvUo7D97FK5H4XqUP3sUrkfheqQ/AAAAAAAAAAAAAAAAAAAAAAAAAAAAAAAAAAAAAAAAAAAAAAAAAAAAAAAAAAAAAAAAAAAAAAAAAAAAAAAAAAAAAAAAAAAAAAAAAAAAAAAAAAAAAAAAAAAAAAAAAAAAAAAA\\\", \\\"dtype\\\": \\\"float64\\\", \\\"order\\\": \\\"little\\\", \\\"shape\\\": [84]}}}], \\\"references\\\": []}\",\"header\":\"{\\\"msgid\\\": \\\"2197\\\", \\\"msgtype\\\": \\\"PATCH-DOC\\\"}\",\"metadata\":\"{}\"},\"Michigan\":{\"content\":\"{\\\"events\\\": [{\\\"attr\\\": \\\"start\\\", \\\"hint\\\": null, \\\"kind\\\": \\\"ModelChanged\\\", \\\"model\\\": {\\\"id\\\": \\\"1871\\\"}, \\\"new\\\": -160.08800000000002}, {\\\"attr\\\": \\\"reset_start\\\", \\\"hint\\\": null, \\\"kind\\\": \\\"ModelChanged\\\", \\\"model\\\": {\\\"id\\\": \\\"1871\\\"}, \\\"new\\\": -160.08800000000002}, {\\\"attr\\\": \\\"end\\\", \\\"hint\\\": null, \\\"kind\\\": \\\"ModelChanged\\\", \\\"model\\\": {\\\"id\\\": \\\"1871\\\"}, \\\"new\\\": 1760.968}, {\\\"attr\\\": \\\"reset_end\\\", \\\"hint\\\": null, \\\"kind\\\": \\\"ModelChanged\\\", \\\"model\\\": {\\\"id\\\": \\\"1871\\\"}, \\\"new\\\": 1760.968}, {\\\"attr\\\": \\\"text\\\", \\\"hint\\\": null, \\\"kind\\\": \\\"ModelChanged\\\", \\\"model\\\": {\\\"id\\\": \\\"1874\\\"}, \\\"new\\\": \\\"State: Michigan\\\"}, {\\\"cols\\\": null, \\\"column_source\\\": {\\\"id\\\": \\\"1903\\\"}, \\\"kind\\\": \\\"ColumnDataChanged\\\", \\\"new\\\": {\\\"Year\\\": [1928, 1929, 1930, 1931, 1932, 1933, 1934, 1935, 1936, 1937, 1938, 1939, 1940, 1941, 1942, 1943, 1944, 1945, 1946, 1947, 1948, 1949, 1950, 1951, 1952, 1953, 1954, 1955, 1956, 1957, 1958, 1959, 1960, 1961, 1962, 1963, 1964, 1965, 1966, 1967, 1968, 1969, 1970, 1971, 1972, 1973, 1974, 1975, 1976, 1977, 1978, 1979, 1980, 1981, 1982, 1983, 1984, 1985, 1986, 1987, 1988, 1989, 1990, 1991, 1992, 1993, 1994, 1995, 1996, 1997, 1998, 1999, 2000, 2001, 2002, 2003, 2004, 2005, 2006, 2007, 2008, 2009, 2010, 2011], \\\"measles\\\": {\\\"__ndarray__\\\": \\\"ZmZmZmYcgUCPwvUoXId3QClcj8L1PIJAj8L1KFyvYEAfhetRuIiLQArXo3A94nxAj8L1KFyPYEDsUbgehQOZQFyPwvUo3EdA9ihcj8LlXEAAAAAAAIaXQB+F61G4gnRAMzMzMzO7ckAAAAAAAH6RQDMzMzMzC2VAPQrXo3Dph0DXo3A9Ci99QI/C9ShcT15APgrXo3Cfg0BSuB6F64FiQMP1KFyPiIFAmpmZmZmBc0C4HoXrUfqBQDMzMzMzu2tApHA9Ctd3eUBI4XoUri90QHsUrkfhxIFArkfhehRSc0CF61G4HuGAQDMzMzMzW21A16NwPQqTgECuR+F6FHZiQD0K16NwOXxAw/UoXI/WdUAzMzMzM+9zQDMzMzMzJYBASOF6FK4ndkBI4XoUrg91QOF6FK5HAWZAmpmZmZmZKkAfhetRuB4QQNejcD0K1xFASOF6FK5HNECkcD0K1+M8QLgehetRuDlAMzMzMzNTR0CPwvUoXA85QMP1KFyPokFAKVyPwvVoUEAAAAAAAAArQK5H4XoUjlRAXI/C9SjcIkApXI/C9SgIQGZmZmZmZtY/MzMzMzMz4z+4HoXrUbieP2ZmZmZmZgpAAAAAAAAA6D+PwvUoXI/yPzMzMzMzM9M/exSuR+F61D/sUbgehesQQClcj8L1KBBACtejcD0K1z/rUbgehevBP+xRuB6F67E/MzMzMzMzwz97FK5H4XqkP3sUrkfhepQ/exSuR+F6tD8L16NwPQq3PwAAAAAAAAAAexSuR+F6lD8AAAAAAAAAAAAAAAAAAAAAAAAAAAAAAAAAAAAAAAAAAAAAAAAAAAAAAAAAAAAAAAAAAAAAAAAAAAAAAAAAAAAAAAAAAAAAAAAAAAAAAAAAAAAAAAAAAAAA\\\", \\\"dtype\\\": \\\"float64\\\", \\\"order\\\": \\\"little\\\", \\\"shape\\\": [84]}}}], \\\"references\\\": []}\",\"header\":\"{\\\"msgid\\\": \\\"2190\\\", \\\"msgtype\\\": \\\"PATCH-DOC\\\"}\",\"metadata\":\"{}\"},\"Minnesota\":{\"content\":\"{\\\"events\\\": [{\\\"attr\\\": \\\"start\\\", \\\"hint\\\": null, \\\"kind\\\": \\\"ModelChanged\\\", \\\"model\\\": {\\\"id\\\": \\\"1871\\\"}, \\\"new\\\": -106.2}, {\\\"attr\\\": \\\"reset_start\\\", \\\"hint\\\": null, \\\"kind\\\": \\\"ModelChanged\\\", \\\"model\\\": {\\\"id\\\": \\\"1871\\\"}, \\\"new\\\": -106.2}, {\\\"attr\\\": \\\"end\\\", \\\"hint\\\": null, \\\"kind\\\": \\\"ModelChanged\\\", \\\"model\\\": {\\\"id\\\": \\\"1871\\\"}, \\\"new\\\": 1168.2}, {\\\"attr\\\": \\\"reset_end\\\", \\\"hint\\\": null, \\\"kind\\\": \\\"ModelChanged\\\", \\\"model\\\": {\\\"id\\\": \\\"1871\\\"}, \\\"new\\\": 1168.2}, {\\\"attr\\\": \\\"text\\\", \\\"hint\\\": null, \\\"kind\\\": \\\"ModelChanged\\\", \\\"model\\\": {\\\"id\\\": \\\"1874\\\"}, \\\"new\\\": \\\"State: Minnesota\\\"}, {\\\"cols\\\": null, \\\"column_source\\\": {\\\"id\\\": \\\"1903\\\"}, \\\"kind\\\": \\\"ColumnDataChanged\\\", \\\"new\\\": {\\\"Year\\\": [1928, 1929, 1930, 1931, 1932, 1933, 1934, 1935, 1936, 1937, 1938, 1939, 1940, 1941, 1942, 1943, 1944, 1945, 1946, 1947, 1948, 1949, 1950, 1951, 1952, 1953, 1954, 1955, 1956, 1957, 1958, 1959, 1960, 1961, 1962, 1963, 1964, 1965, 1966, 1967, 1968, 1969, 1970, 1971, 1972, 1973, 1974, 1975, 1976, 1977, 1978, 1979, 1980, 1981, 1982, 1983, 1984, 1985, 1986, 1987, 1988, 1989, 1990, 1991, 1992, 1993, 1994, 1995, 1996, 1997, 1998, 1999, 2000, 2001, 2002, 2003, 2004, 2005, 2006, 2007, 2008, 2009, 2010, 2011], \\\"measles\\\": {\\\"__ndarray__\\\": \\\"uB6F61HIU0D2KFyPwsV+QEjhehSuX2tAUrgehevhXkDXo3A9CsdXQHE9CtejgodAmpmZmZmZc0AAAAAAAJiQQBSuR+F6sHFAH4XrUbgeOUAzMzMzMwNwQD0K16NwfYRAKVyPwvXEckDsUbgehatBQKRwPQrXvYFAXI/C9SjgeEAK16NwPRSIQHsUrkfhek9AhetRuB5lRkCamZmZmfVzQM3MzMzM5HFArkfhehSeXEAK16NwPUpfQNejcD0KV1dAH4XrUbg+WEDXo3A9CgdhQOxRuB6FO1dAcD0K16MobEAfhetRuF5EQMP1KFyPqmxACtejcD3qQkCkcD0K1wNUQDMzMzMzk19AmpmZmZmZNEDXo3A9CrdHQFK4HoXrMVNA9ihcj8J1I0D2KFyPwnU6QEjhehSuR0dAFa5H4XoUDkCkcD0K16PgPwAAAAAAAOg/pHA9Ctej9D97FK5H4XoAQFyPwvUoXOc/zczMzMzM5D+uR+F6FK4BQFK4HoXrURdAKVyPwvWoJUCkcD0K1wNRQLgehetRuABAmpmZmZnZPUAfhetRuN46QMP1KFyPwsU/AAAAAAAAAAAAAAAAAAAAAEjhehSuR/E/AAAAAAAAAADiehSuR+HqP83MzMzMzOQ/uR6F61G43j97FK5H4XrEP+xRuB6FayJAKVyPwvUo5D+amZmZmZnJPwAAAAAAAAAAAAAAAAAAAAAAAAAAAAAAAK5H4XoUrtc/ZmZmZmZm1j8AAAAAAAAAAAAAAAAAAAAAexSuR+F6lD97FK5H4XqkPwAAAAAAAAAAAAAAAAAAAAAAAAAAAAAAAAAAAAAAAAAAAAAAAAAAAAAAAAAAAAAAAAAAAAAAAAAAAAAAAAAAAAAAAAAAAAAAAAAAAAAAAAAA\\\", \\\"dtype\\\": \\\"float64\\\", \\\"order\\\": \\\"little\\\", \\\"shape\\\": [84]}}}], \\\"references\\\": []}\",\"header\":\"{\\\"msgid\\\": \\\"2183\\\", \\\"msgtype\\\": \\\"PATCH-DOC\\\"}\",\"metadata\":\"{}\"},\"Mississippi\":{\"content\":\"{\\\"events\\\": [{\\\"attr\\\": \\\"start\\\", \\\"hint\\\": null, \\\"kind\\\": \\\"ModelChanged\\\", \\\"model\\\": {\\\"id\\\": \\\"1871\\\"}, \\\"new\\\": -26.146000000000004}, {\\\"attr\\\": \\\"reset_start\\\", \\\"hint\\\": null, \\\"kind\\\": \\\"ModelChanged\\\", \\\"model\\\": {\\\"id\\\": \\\"1871\\\"}, \\\"new\\\": -26.146000000000004}, {\\\"attr\\\": \\\"end\\\", \\\"hint\\\": null, \\\"kind\\\": \\\"ModelChanged\\\", \\\"model\\\": {\\\"id\\\": \\\"1871\\\"}, \\\"new\\\": 287.60600000000005}, {\\\"attr\\\": \\\"reset_end\\\", \\\"hint\\\": null, \\\"kind\\\": \\\"ModelChanged\\\", \\\"model\\\": {\\\"id\\\": \\\"1871\\\"}, \\\"new\\\": 287.60600000000005}, {\\\"attr\\\": \\\"text\\\", \\\"hint\\\": null, \\\"kind\\\": \\\"ModelChanged\\\", \\\"model\\\": {\\\"id\\\": \\\"1874\\\"}, \\\"new\\\": \\\"State: Mississippi\\\"}, {\\\"cols\\\": null, \\\"column_source\\\": {\\\"id\\\": \\\"1903\\\"}, \\\"kind\\\": \\\"ColumnDataChanged\\\", \\\"new\\\": {\\\"Year\\\": [1928, 1929, 1930, 1931, 1932, 1933, 1934, 1935, 1936, 1937, 1938, 1939, 1940, 1941, 1942, 1943, 1944, 1945, 1946, 1947, 1948, 1949, 1950, 1951, 1952, 1953, 1954, 1955, 1956, 1957, 1958, 1959, 1960, 1961, 1962, 1963, 1964, 1965, 1966, 1967, 1968, 1969, 1970, 1971, 1972, 1973, 1974, 1975, 1976, 1977, 1978, 1979, 1980, 1981, 1982, 1983, 1984, 1985, 1986, 1987, 1988, 1989, 1990, 1991, 1992, 1993, 1994, 1995, 1996, 1997, 1998, 1999, 2000, 2001, 2002, 2003, 2004, 2005, 2006, 2007, 2008, 2009, 2010, 2011], \\\"measles\\\": {\\\"__ndarray__\\\": \\\"AAAAAAAAAAAAAAAAAAAAAAAAAAAAAAAAAAAAAAAAAAAAAAAAAAAAAAAAAAAAAAAAAAAAAAAAAAAAAAAAAAAAAAAAAAAAAAAAAAAAAAAAAAAAAAAAAAAAAAAAAAAAAAAAAAAAAAAAAAAAAAAAAAAAAAAAAAAAAAAAAAAAAAAAAAAAAAAAAAAAAAAAAAAAAAAAAAAAAAAAAADrUbgehestQOF6FK5HIU1AkML1KFyvWkCPwvUoXN9YQAAAAAAA0FZASOF6FK4nUEA9CtejcN1cQK5H4XoUPmJAAAAAAAAwUkCkcD0K1/NaQJqZmZmZuU5AAAAAAADgUEDrUbgehZtQQGZmZmZmFlNAmpmZmZk5UUDC9Shcj8JdQJqZmZmZ2T1AkML1KFxXcEAzMzMzM5NJQB+F61G4fkxA16NwPQpXPkBSuB6F69ElQJqZmZmZmfE/SOF6FK5HGEAzMzMzM7NQQJqZmZmZGSJArkfhehSuBUCG61G4HoXjP4XrUbgehfc/XI/C9Shc5z+kcD0K16MAQPYoXI/CNT9ASOF6FK5H8T9I4XoUrkcPQAAAAAAAAAAAexSuR+F6xD97FK5H4Xq0PwAAAAAAAAAAexSuR+F6pD+amZmZmZnZP3sUrkfhesQ/UrgehetR9D97FK5H4XqkPwAAAAAAAOA/AAAAAAAAAAB7FK5H4XqkPwAAAAAAAAAAAAAAAAAAAAAAAAAAAAAAAAAAAAAAAAAA7FG4HoXrwT8AAAAAAAAAAAAAAAAAAAAAAAAAAAAAAAAAAAAAAAAAAAAAAAAAAAAAAAAAAAAAAAAAAAAAAAAAAAAAAAAAAAAAAAAAAAAAAAAAAAAAAAAAAAAAAAAAAAAAAAAAAAAAAAAAAAAAAAAAAAAAAAAAAAAA\\\", \\\"dtype\\\": \\\"float64\\\", \\\"order\\\": \\\"little\\\", \\\"shape\\\": [84]}}}], \\\"references\\\": []}\",\"header\":\"{\\\"msgid\\\": \\\"2176\\\", \\\"msgtype\\\": \\\"PATCH-DOC\\\"}\",\"metadata\":\"{}\"},\"Missouri\":{\"content\":\"{\\\"events\\\": [{\\\"attr\\\": \\\"start\\\", \\\"hint\\\": null, \\\"kind\\\": \\\"ModelChanged\\\", \\\"model\\\": {\\\"id\\\": \\\"1871\\\"}, \\\"new\\\": -53.94800000000001}, {\\\"attr\\\": \\\"reset_start\\\", \\\"hint\\\": null, \\\"kind\\\": \\\"ModelChanged\\\", \\\"model\\\": {\\\"id\\\": \\\"1871\\\"}, \\\"new\\\": -53.94800000000001}, {\\\"attr\\\": \\\"end\\\", \\\"hint\\\": null, \\\"kind\\\": \\\"ModelChanged\\\", \\\"model\\\": {\\\"id\\\": \\\"1871\\\"}, \\\"new\\\": 593.428}, {\\\"attr\\\": \\\"reset_end\\\", \\\"hint\\\": null, \\\"kind\\\": \\\"ModelChanged\\\", \\\"model\\\": {\\\"id\\\": \\\"1871\\\"}, \\\"new\\\": 593.428}, {\\\"attr\\\": \\\"text\\\", \\\"hint\\\": null, \\\"kind\\\": \\\"ModelChanged\\\", \\\"model\\\": {\\\"id\\\": \\\"1874\\\"}, \\\"new\\\": \\\"State: Missouri\\\"}, {\\\"cols\\\": null, \\\"column_source\\\": {\\\"id\\\": \\\"1903\\\"}, \\\"kind\\\": \\\"ColumnDataChanged\\\", \\\"new\\\": {\\\"Year\\\": [1928, 1929, 1930, 1931, 1932, 1933, 1934, 1935, 1936, 1937, 1938, 1939, 1940, 1941, 1942, 1943, 1944, 1945, 1946, 1947, 1948, 1949, 1950, 1951, 1952, 1953, 1954, 1955, 1956, 1957, 1958, 1959, 1960, 1961, 1962, 1963, 1964, 1965, 1966, 1967, 1968, 1969, 1970, 1971, 1972, 1973, 1974, 1975, 1976, 1977, 1978, 1979, 1980, 1981, 1982, 1983, 1984, 1985, 1986, 1987, 1988, 1989, 1990, 1991, 1992, 1993, 1994, 1995, 1996, 1997, 1998, 1999, 2000, 2001, 2002, 2003, 2004, 2005, 2006, 2007, 2008, 2009, 2010, 2011], \\\"measles\\\": {\\\"__ndarray__\\\": \\\"XI/C9SjUaEAfhetRuO5mQFK4HoXruWJAuB6F61Ecd0AVrkfhepRFQB+F61G4HmNApHA9CtfbgEDXo3A9CpN1QB+F61G4XjFAZmZmZmZOZ0D2KFyPwmuAQNejcD0KJ1NAmZmZmZkZL0A9CtejcOVlQB+F61G4VmZAw/UoXI+CaEAfhetRuH5jQLkehetROD5A9ihcj8LdZEBnZmZmZsZAQD0K16NwxWJAmpmZmZl5aUDC9ShcjwJNQClcj8L1kGdAH4XrUbh+TkB7FK5H4VprQHE9Ctej8EJA4XoUrkchWEC4HoXrUThfQM3MzMzMjFlACtejcD2aVEA9CtejcC1VQJqZmZmZWTFA9ihcj8KFWUB7FK5H4bo/QDMzMzMzA1BAw/UoXI9COECamZmZmRlOQBSuR+F6FClA4XoUrkfhHUAVrkfhehTmPx+F61G4Hvk/MzMzMzNzMEBI4XoUrmdFQJqZmZmZmQ1AZ2ZmZmZm8j/2KFyPwvUVQKRwPQrXoxVAMzMzMzMzE0BSuB6F65EyQD4K16NwPQxAcT0K16NwI0AAAAAAAADwP3sUrkfhepQ/exSuR+F6pD97FK5H4XqkP7gehetRuL4/exSuR+F6lD/Xo3A9CtfjPxSuR+F6FA5APgrXo3A92j9wPQrXo/AjQKRwPQrXo/A/AAAAAAAAAAB7FK5H4XqUPwAAAAAAAAAA61G4HoXr6T8AAAAAAAAAAHsUrkfheqQ/uB6F61G4rj8AAAAAAAAAAHsUrkfhepQ/AAAAAAAAAAB7FK5H4XqUP3sUrkfhepQ/AAAAAAAAAAAAAAAAAAAAAAAAAAAAAAAAAAAAAAAAAAAAAAAAAAAAAAAAAAAAAAAAAAAAAAAAAAAAAAAAAAAAAAAAAAAAAAAA\\\", \\\"dtype\\\": \\\"float64\\\", \\\"order\\\": \\\"little\\\", \\\"shape\\\": [84]}}}], \\\"references\\\": []}\",\"header\":\"{\\\"msgid\\\": \\\"2169\\\", \\\"msgtype\\\": \\\"PATCH-DOC\\\"}\",\"metadata\":\"{}\"},\"Montana\":{\"content\":\"{\\\"events\\\": [{\\\"attr\\\": \\\"start\\\", \\\"hint\\\": null, \\\"kind\\\": \\\"ModelChanged\\\", \\\"model\\\": {\\\"id\\\": \\\"1871\\\"}, \\\"new\\\": -197.332}, {\\\"attr\\\": \\\"reset_start\\\", \\\"hint\\\": null, \\\"kind\\\": \\\"ModelChanged\\\", \\\"model\\\": {\\\"id\\\": \\\"1871\\\"}, \\\"new\\\": -197.332}, {\\\"attr\\\": \\\"end\\\", \\\"hint\\\": null, \\\"kind\\\": \\\"ModelChanged\\\", \\\"model\\\": {\\\"id\\\": \\\"1871\\\"}, \\\"new\\\": 2170.652}, {\\\"attr\\\": \\\"reset_end\\\", \\\"hint\\\": null, \\\"kind\\\": \\\"ModelChanged\\\", \\\"model\\\": {\\\"id\\\": \\\"1871\\\"}, \\\"new\\\": 2170.652}, {\\\"attr\\\": \\\"text\\\", \\\"hint\\\": null, \\\"kind\\\": \\\"ModelChanged\\\", \\\"model\\\": {\\\"id\\\": \\\"1874\\\"}, \\\"new\\\": \\\"State: Montana\\\"}, {\\\"cols\\\": null, \\\"column_source\\\": {\\\"id\\\": \\\"1903\\\"}, \\\"kind\\\": \\\"ColumnDataChanged\\\", \\\"new\\\": {\\\"Year\\\": [1928, 1929, 1930, 1931, 1932, 1933, 1934, 1935, 1936, 1937, 1938, 1939, 1940, 1941, 1942, 1943, 1944, 1945, 1946, 1947, 1948, 1949, 1950, 1951, 1952, 1953, 1954, 1955, 1956, 1957, 1958, 1959, 1960, 1961, 1962, 1963, 1964, 1965, 1966, 1967, 1968, 1969, 1970, 1971, 1972, 1973, 1974, 1975, 1976, 1977, 1978, 1979, 1980, 1981, 1982, 1983, 1984, 1985, 1986, 1987, 1988, 1989, 1990, 1991, 1992, 1993, 1994, 1995, 1996, 1997, 1998, 1999, 2000, 2001, 2002, 2003, 2004, 2005, 2006, 2007, 2008, 2009, 2010, 2011], \\\"measles\\\": {\\\"__ndarray__\\\": \\\"7FG4HoV7YUCuR+F6FI6JQOF6FK5HYV1AmpmZmZnNcUD2KFyPwn+PQIXrUbgeOXpAH4XrUbg+dkDhehSuRzqWQBSuR+F6ZFRAPgrXo3DtW0DXo3A9Cn+RQOF6FK5H1Z5ASOF6FK7HfUAfhetRuCZkQKRwPQrXY4JACtejcD2IkUC4HoXrUYaGQOF6FK5H6WVAZmZmZmZqekB7FK5H4VqKQJqZmZmZWXVAKVyPwvUghUBmZmZmZsJyQFK4HoXrCXpAj8L1KFwfhEC4HoXrUZR/QKRwPQrXb4dAhetRuB4dfEB7FK5H4cSPQIXrUbgehYBA9ihcj8KlkEAfhetRuIyDQKRwPQrXn3NAZmZmZmZidEA9CtejcHWSQMP1KFyPJn5AH4XrUbgcgkApXI/C9WKBQNejcD0KC3FAexSuR+F6SEDhehSuR2EjQOF6FK5HITFAw/UoXI8CMEAfhetRuD5cQM3MzMzMzAJAcT0K16NQSECZmZmZmRlHQOxRuB6F6xtAKVyPwvV4UECamZmZmeldQLgehetRuCtAexSuR+F6H0CkcD0K16PQPwAAAAAAAAAAAAAAAAAAAAAAAAAAAAAAAAAAAAAAAAAAhetRuB6FNEC4HoXrUbjOP1yPwvUoHDFAUrgehetRI0AUrkfhehT6PwAAAAAAAAAAAAAAAAAAAAAAAAAAAAAAAAAAAAAAAAAAAAAAAAAAAAAAAAAAAAAAAAAAAAAAAAAAAAAAAAAAAAAAAAAAAAAAAAAAAAAAAAAAAAAAAAAAAAAAAAAAAAAAAAAAAAAAAAAAAAAAAAAAAAAAAAAAAAAAAAAAAAAAAAAAAAAAAAAAAAAAAAAAAAAAAAAAAAAAAAAAAAAAAAAAAAAAAAAAAAAAAAAAAAAAAAAA\\\", \\\"dtype\\\": \\\"float64\\\", \\\"order\\\": \\\"little\\\", \\\"shape\\\": [84]}}}], \\\"references\\\": []}\",\"header\":\"{\\\"msgid\\\": \\\"2162\\\", \\\"msgtype\\\": \\\"PATCH-DOC\\\"}\",\"metadata\":\"{}\"},\"Nebraska\":{\"content\":\"{\\\"events\\\": [{\\\"attr\\\": \\\"start\\\", \\\"hint\\\": null, \\\"kind\\\": \\\"ModelChanged\\\", \\\"model\\\": {\\\"id\\\": \\\"1871\\\"}, \\\"new\\\": -74.53200000000001}, {\\\"attr\\\": \\\"reset_start\\\", \\\"hint\\\": null, \\\"kind\\\": \\\"ModelChanged\\\", \\\"model\\\": {\\\"id\\\": \\\"1871\\\"}, \\\"new\\\": -74.53200000000001}, {\\\"attr\\\": \\\"end\\\", \\\"hint\\\": null, \\\"kind\\\": \\\"ModelChanged\\\", \\\"model\\\": {\\\"id\\\": \\\"1871\\\"}, \\\"new\\\": 819.8520000000001}, {\\\"attr\\\": \\\"reset_end\\\", \\\"hint\\\": null, \\\"kind\\\": \\\"ModelChanged\\\", \\\"model\\\": {\\\"id\\\": \\\"1871\\\"}, \\\"new\\\": 819.8520000000001}, {\\\"attr\\\": \\\"text\\\", \\\"hint\\\": null, \\\"kind\\\": \\\"ModelChanged\\\", \\\"model\\\": {\\\"id\\\": \\\"1874\\\"}, \\\"new\\\": \\\"State: Nebraska\\\"}, {\\\"cols\\\": null, \\\"column_source\\\": {\\\"id\\\": \\\"1903\\\"}, \\\"kind\\\": \\\"ColumnDataChanged\\\", \\\"new\\\": {\\\"Year\\\": [1928, 1929, 1930, 1931, 1932, 1933, 1934, 1935, 1936, 1937, 1938, 1939, 1940, 1941, 1942, 1943, 1944, 1945, 1946, 1947, 1948, 1949, 1950, 1951, 1952, 1953, 1954, 1955, 1956, 1957, 1958, 1959, 1960, 1961, 1962, 1963, 1964, 1965, 1966, 1967, 1968, 1969, 1970, 1971, 1972, 1973, 1974, 1975, 1976, 1977, 1978, 1979, 1980, 1981, 1982, 1983, 1984, 1985, 1986, 1987, 1988, 1989, 1990, 1991, 1992, 1993, 1994, 1995, 1996, 1997, 1998, 1999, 2000, 2001, 2002, 2003, 2004, 2005, 2006, 2007, 2008, 2009, 2010, 2011], \\\"measles\\\": {\\\"__ndarray__\\\": \\\"zczMzMy8U0AVrkfhevByQMP1KFyPSodAKVyPwvXoOEBcj8L1KJw/QGZmZmZmVl1AFK5H4XqwdECamZmZmf2DQPYoXI/ClVVAexSuR+E6QUBSuB6F6yFqQFyPwvUoQHFA4XoUrkchYEDNzMzMzExBQM3MzMzMyHpAuB6F61EQeUBcj8L1KERnQBSuR+F65FFAZmZmZma6eEAzMzMzM7NCQBSuR+F6dHBASOF6FK7/aUCF61G4HjVxQAAAAAAA4ERAKVyPwvXAakAAAAAAAPhmQDMzMzMz82dApHA9CtcjKEDD9Shcj1JmQArXo3A9yjBAw/UoXI8yW0BSuB6F61E9QB+F61G4ni1AuB6F61EYRkDD9Shcj0IgQLkehetRuC9AcT0K16NQS0A+CtejcP0/QEjhehSuRydApHA9CtdDQkBcj8L1KFwSQJDC9Shcb0ZAKVyPwvUoSkCF61G4HoUTQMP1KFyPwvk/rkfhehSu1z9SuB6F61EYQArXo3A9ijlAKVyPwvUoDEDiehSuR2ErQFK4HoXrUeA/CtejcD0KEUC5HoXrUbgTQAAAAAAAANA/UrgehetRyD8AAAAAAAAAAAAAAAAAAAAAAAAAAAAAAAAAAAAAAAAAAAAAAAAAAAAAAAAAAAAAAACamZmZmZkaQAAAAAAAABRAAAAAAAAAAAAAAAAAAAAAAAAAAAAAAAAAAAAAAAAAAAAAAAAAAAAAAAAAAAAAAAAAuB6F61G4rj8AAAAAAAAAAAAAAAAAAAAAAAAAAAAAAAAAAAAAAAAAAAAAAAAAAAAAAAAAAAAAAAAAAAAAAAAAAAAAAAAAAAAAAAAAAAAAAAAAAAAAAAAAAAAAAAAAAAAAAAAAAAAAAAAAAAAAAAAAAAAAAAAAAAAA\\\", \\\"dtype\\\": \\\"float64\\\", \\\"order\\\": \\\"little\\\", \\\"shape\\\": [84]}}}], \\\"references\\\": []}\",\"header\":\"{\\\"msgid\\\": \\\"2155\\\", \\\"msgtype\\\": \\\"PATCH-DOC\\\"}\",\"metadata\":\"{}\"},\"Nevada\":{\"content\":\"{\\\"events\\\": [{\\\"attr\\\": \\\"start\\\", \\\"hint\\\": null, \\\"kind\\\": \\\"ModelChanged\\\", \\\"model\\\": {\\\"id\\\": \\\"1871\\\"}, \\\"new\\\": -81.16900000000001}, {\\\"attr\\\": \\\"reset_start\\\", \\\"hint\\\": null, \\\"kind\\\": \\\"ModelChanged\\\", \\\"model\\\": {\\\"id\\\": \\\"1871\\\"}, \\\"new\\\": -81.16900000000001}, {\\\"attr\\\": \\\"end\\\", \\\"hint\\\": null, \\\"kind\\\": \\\"ModelChanged\\\", \\\"model\\\": {\\\"id\\\": \\\"1871\\\"}, \\\"new\\\": 892.859}, {\\\"attr\\\": \\\"reset_end\\\", \\\"hint\\\": null, \\\"kind\\\": \\\"ModelChanged\\\", \\\"model\\\": {\\\"id\\\": \\\"1871\\\"}, \\\"new\\\": 892.859}, {\\\"attr\\\": \\\"text\\\", \\\"hint\\\": null, \\\"kind\\\": \\\"ModelChanged\\\", \\\"model\\\": {\\\"id\\\": \\\"1874\\\"}, \\\"new\\\": \\\"State: Nevada\\\"}, {\\\"cols\\\": null, \\\"column_source\\\": {\\\"id\\\": \\\"1903\\\"}, \\\"kind\\\": \\\"ColumnDataChanged\\\", \\\"new\\\": {\\\"Year\\\": [1928, 1929, 1930, 1931, 1932, 1933, 1934, 1935, 1936, 1937, 1938, 1939, 1940, 1941, 1942, 1943, 1944, 1945, 1946, 1947, 1948, 1949, 1950, 1951, 1952, 1953, 1954, 1955, 1956, 1957, 1958, 1959, 1960, 1961, 1962, 1963, 1964, 1965, 1966, 1967, 1968, 1969, 1970, 1971, 1972, 1973, 1974, 1975, 1976, 1977, 1978, 1979, 1980, 1981, 1982, 1983, 1984, 1985, 1986, 1987, 1988, 1989, 1990, 1991, 1992, 1993, 1994, 1995, 1996, 1997, 1998, 1999, 2000, 2001, 2002, 2003, 2004, 2005, 2006, 2007, 2008, 2009, 2010, 2011], \\\"measles\\\": {\\\"__ndarray__\\\": \\\"AAAAAAAAAAAAAAAAAAAAAAAAAAAAAAAAAAAAAAAAAAAAAAAAAAAAAAAAAAAAAAAAAAAAAAAAAAAAAAAAAAAAAAAAAAAAAAAAAAAAAAAAAAAAAAAAAAAAAAAAAAAAAAAAAAAAAAAAAAA+CtejcD1xQOxRuB6FXYlAhetRuB7VeED1KFyPwo1uQDMzMzMz81FAmpmZmZl5X0AzMzMzM3MyQI/C9ShcD0NApHA9CtdDTkCamZmZmflQQI/C9Shcb2VAKVyPwvXUcUAzMzMzM5NZQK5H4XoUxmZApHA9CterZECamZmZmZlLQBSuR+F6goJAZmZmZmZmUkB7FK5H4YJrQArXo3A9bnBAR+F6FK63aEDXo3A9Cu9nQI/C9Shc71BAcT0K16M4bUB7FK5H4VpJQK5H4XoUrixAMzMzMzPzTUDXo3A9Ctf7P+F6FK5H4co/H4XrUbgeEEB7FK5H4Xr0PwrXo3A9Csc/w/UoXI/CxT/D9Shcj8I6QDMzMzMzMxFAzczMzMzMKEA+CtejcL0lQM3MzMzMzARA4XoUrkfhBEDhehSuR+H2P0jhehSuR/k/AAAAAAAAAAApXI/C9SjMPwAAAAAAAAAAAAAAAAAAAAA0MzMzMzPTP1K4HoXrUcg/AAAAAAAAAACuR+F6FK7vP/YoXI/CtTFAhetRuB6F9z/sUbgeheuxP+xRuB6F67E/AAAAAAAAAAC4HoXrUbiuP7gehetRuM4/uB6F61G4rj8AAAAAAAAAAAAAAAAAAAAAZ2ZmZmZm1j8AAAAAAAAAAAAAAAAAAAAAAAAAAAAAAAAAAAAAAAAAAAAAAAAAAAAAAAAAAAAAAAAAAAAAAAAAAAAAAAAAAAAAAAAAAAAAAAAAAAAAAAAAAAAAAAAAAAAA\\\", \\\"dtype\\\": \\\"float64\\\", \\\"order\\\": \\\"little\\\", \\\"shape\\\": [84]}}}], \\\"references\\\": []}\",\"header\":\"{\\\"msgid\\\": \\\"2148\\\", \\\"msgtype\\\": \\\"PATCH-DOC\\\"}\",\"metadata\":\"{}\"},\"New Hampshire\":{\"content\":\"{\\\"events\\\": [{\\\"attr\\\": \\\"start\\\", \\\"hint\\\": null, \\\"kind\\\": \\\"ModelChanged\\\", \\\"model\\\": {\\\"id\\\": \\\"1871\\\"}, \\\"new\\\": -84.67000000000002}, {\\\"attr\\\": \\\"reset_start\\\", \\\"hint\\\": null, \\\"kind\\\": \\\"ModelChanged\\\", \\\"model\\\": {\\\"id\\\": \\\"1871\\\"}, \\\"new\\\": -84.67000000000002}, {\\\"attr\\\": \\\"end\\\", \\\"hint\\\": null, \\\"kind\\\": \\\"ModelChanged\\\", \\\"model\\\": {\\\"id\\\": \\\"1871\\\"}, \\\"new\\\": 931.3700000000001}, {\\\"attr\\\": \\\"reset_end\\\", \\\"hint\\\": null, \\\"kind\\\": \\\"ModelChanged\\\", \\\"model\\\": {\\\"id\\\": \\\"1871\\\"}, \\\"new\\\": 931.3700000000001}, {\\\"attr\\\": \\\"text\\\", \\\"hint\\\": null, \\\"kind\\\": \\\"ModelChanged\\\", \\\"model\\\": {\\\"id\\\": \\\"1874\\\"}, \\\"new\\\": \\\"State: New Hampshire\\\"}, {\\\"cols\\\": null, \\\"column_source\\\": {\\\"id\\\": \\\"1903\\\"}, \\\"kind\\\": \\\"ColumnDataChanged\\\", \\\"new\\\": {\\\"Year\\\": [1928, 1929, 1930, 1931, 1932, 1933, 1934, 1935, 1936, 1937, 1938, 1939, 1940, 1941, 1942, 1943, 1944, 1945, 1946, 1947, 1948, 1949, 1950, 1951, 1952, 1953, 1954, 1955, 1956, 1957, 1958, 1959, 1960, 1961, 1962, 1963, 1964, 1965, 1966, 1967, 1968, 1969, 1970, 1971, 1972, 1973, 1974, 1975, 1976, 1977, 1978, 1979, 1980, 1981, 1982, 1983, 1984, 1985, 1986, 1987, 1988, 1989, 1990, 1991, 1992, 1993, 1994, 1995, 1996, 1997, 1998, 1999, 2000, 2001, 2002, 2003, 2004, 2005, 2006, 2007, 2008, 2009, 2010, 2011], \\\"measles\\\": {\\\"__ndarray__\\\": \\\"ZmZmZmYCcUAUrkfheoh1QLgehetRmF9AZmZmZmayckC4HoXrUehiQJDC9ShcT2tAmpmZmZl1ikBxPQrXo5BLQBSuR+F6LGdArkfhehSSeEA9CtejcFV1QEjhehSuv2BAhetRuB51YkCQwvUoXD9pQBWuR+F65GRA9ihcj8JlakBxPQrXo4BfQDMzMzMz80BAH4XrUbhWbECF61G4HoVOQML1KFyPYlNAMzMzMzPTbEAzMzMzMzNBQK5H4XoUjmhAuB6F61H0e0B7FK5H4VpJQB+F61G4BmVA7FG4HoX7iUDsUbgehatBQHE9CtejQFFAXI/C9SgAd0DhehSuRyFTQOtRuB6FS2dAFK5H4XpUbUCkcD0K13NkQMP1KFyPwhlAzczMzMzUYECkcD0K14NLQK5H4XoULidA4XoUrkfhDkDD9ShcjwI1QJqZmZmZGTtAzczMzMzMIEBmZmZmZqY6QD4K16NwvVhA9ihcj8KVVkDC9Shcj0I0QB6F61G4HgNAFa5H4XoU8j/NzMzMzAw9QJqZmZmZmRxAcT0K16NwCUBxPQrXo7A6QFyPwvUoXO8/AAAAAAAA4D8AAAAAAAAAAGZmZmZmZgpAAAAAAAAAAAD2KFyPwvUEQD0K16NwPTBA9ihcj8J1JEAK16NwPQr3PwAAAAAAAAAAAAAAAAAAAAAK16NwPQr3PwrXo3A9Csc/AAAAAAAAAAAAAAAAAAAAAAAAAAAAAAAA4XoUrkfh/j8AAAAAAAAAAAAAAAAAAAAAuB6F61G4zj8AAAAAAAAAAAAAAAAAAAAAAAAAAAAAAAAAAAAAAAAAAAAAAAAAAAAAAAAAAAAAAAAAAAAAAAAAAAAAAAAAAAAAAAAAAAAAAAAAAAAAAAAAAAAAAAAAAAAA\\\", \\\"dtype\\\": \\\"float64\\\", \\\"order\\\": \\\"little\\\", \\\"shape\\\": [84]}}}], \\\"references\\\": []}\",\"header\":\"{\\\"msgid\\\": \\\"2141\\\", \\\"msgtype\\\": \\\"PATCH-DOC\\\"}\",\"metadata\":\"{}\"},\"New Jersey\":{\"content\":\"{\\\"events\\\": [{\\\"attr\\\": \\\"start\\\", \\\"hint\\\": null, \\\"kind\\\": \\\"ModelChanged\\\", \\\"model\\\": {\\\"id\\\": \\\"1871\\\"}, \\\"new\\\": -128.27}, {\\\"attr\\\": \\\"reset_start\\\", \\\"hint\\\": null, \\\"kind\\\": \\\"ModelChanged\\\", \\\"model\\\": {\\\"id\\\": \\\"1871\\\"}, \\\"new\\\": -128.27}, {\\\"attr\\\": \\\"end\\\", \\\"hint\\\": null, \\\"kind\\\": \\\"ModelChanged\\\", \\\"model\\\": {\\\"id\\\": \\\"1871\\\"}, \\\"new\\\": 1410.97}, {\\\"attr\\\": \\\"reset_end\\\", \\\"hint\\\": null, \\\"kind\\\": \\\"ModelChanged\\\", \\\"model\\\": {\\\"id\\\": \\\"1871\\\"}, \\\"new\\\": 1410.97}, {\\\"attr\\\": \\\"text\\\", \\\"hint\\\": null, \\\"kind\\\": \\\"ModelChanged\\\", \\\"model\\\": {\\\"id\\\": \\\"1874\\\"}, \\\"new\\\": \\\"State: New Jersey\\\"}, {\\\"cols\\\": null, \\\"column_source\\\": {\\\"id\\\": \\\"1903\\\"}, \\\"kind\\\": \\\"ColumnDataChanged\\\", \\\"new\\\": {\\\"Year\\\": [1928, 1929, 1930, 1931, 1932, 1933, 1934, 1935, 1936, 1937, 1938, 1939, 1940, 1941, 1942, 1943, 1944, 1945, 1946, 1947, 1948, 1949, 1950, 1951, 1952, 1953, 1954, 1955, 1956, 1957, 1958, 1959, 1960, 1961, 1962, 1963, 1964, 1965, 1966, 1967, 1968, 1969, 1970, 1971, 1972, 1973, 1974, 1975, 1976, 1977, 1978, 1979, 1980, 1981, 1982, 1983, 1984, 1985, 1986, 1987, 1988, 1989, 1990, 1991, 1992, 1993, 1994, 1995, 1996, 1997, 1998, 1999, 2000, 2001, 2002, 2003, 2004, 2005, 2006, 2007, 2008, 2009, 2010, 2011], \\\"measles\\\": {\\\"__ndarray__\\\": \\\"hetRuB7piEDrUbgehbtmQClcj8L11oJA16NwPQrjfkCPwvUoXF93QOtRuB6Ft4ZAH4XrUbh+dkDhehSuR8eIQFK4HoXr4WpA9ihcj8JTkUCkcD0K12eGQIXrUbgeNVpApHA9CtffckBcj8L1KFKQQJqZmZmZIXRAhetRuB75jEDhehSuR5WEQEjhehSut1NAAAAAAAD/kUAfhetRuFZvQJqZmZmZW4ZAcT0K16MIhkA9CtejcM2CQFyPwvUosHhAzczMzMwKlEA+CtejcE1UQHE9Ctej3HtAzczMzMxIjUBSuB6F60V1QJqZmZmZoXxA4XoUrkfRekCPwvUoXGN/QHE9Ctej6GVAPQrXo3BZckDXo3A9CuN/QKRwPQrXE2RAXI/C9SgMZkDXo3A9CpdOQKRwPQrXYz1AmpmZmZmZIUB7FK5H4XojQOxRuB6F6ypA9ihcj8J1N0CkcD0K12MxQI/C9ShcjxZAMzMzMzMzJEBSuB6F68FSQOxRuB6F6xlAH4XrUbgeIUBcj8L1KFwFQClcj8L1KPA/H4XrUbge5T/Xo3A9CtchQKRwPQrXo+g/exSuR+F6tD8K16NwPQrXP+xRuB6F67E/16NwPQrX0z8zMzMzMzMnQAAAAAAAAOA/AAAAAAAAEUAfhetRuB4VQMP1KFyPwgNAmpmZmZkZKkCamZmZmZnZP7gehetRuK4/4XoUrkfh+j97FK5H4XqkPwAAAAAAAAAAexSuR+F6lD97FK5H4Xq0PwAAAAAAAAAAAAAAAAAAAAB7FK5H4XqEPwAAAAAAAAAAAAAAAAAAAAAAAAAAAAAAAAAAAAAAAAAAAAAAAAAAAAAAAAAAAAAAAAAAAAAAAAAAAAAAAAAAAAAAAAAAAAAAAAAAAAAAAAAA\\\", \\\"dtype\\\": \\\"float64\\\", \\\"order\\\": \\\"little\\\", \\\"shape\\\": [84]}}}], \\\"references\\\": []}\",\"header\":\"{\\\"msgid\\\": \\\"2134\\\", \\\"msgtype\\\": \\\"PATCH-DOC\\\"}\",\"metadata\":\"{}\"},\"New Mexico\":{\"content\":\"{\\\"events\\\": [{\\\"attr\\\": \\\"start\\\", \\\"hint\\\": null, \\\"kind\\\": \\\"ModelChanged\\\", \\\"model\\\": {\\\"id\\\": \\\"1871\\\"}, \\\"new\\\": -91.217}, {\\\"attr\\\": \\\"reset_start\\\", \\\"hint\\\": null, \\\"kind\\\": \\\"ModelChanged\\\", \\\"model\\\": {\\\"id\\\": \\\"1871\\\"}, \\\"new\\\": -91.217}, {\\\"attr\\\": \\\"end\\\", \\\"hint\\\": null, \\\"kind\\\": \\\"ModelChanged\\\", \\\"model\\\": {\\\"id\\\": \\\"1871\\\"}, \\\"new\\\": 1003.387}, {\\\"attr\\\": \\\"reset_end\\\", \\\"hint\\\": null, \\\"kind\\\": \\\"ModelChanged\\\", \\\"model\\\": {\\\"id\\\": \\\"1871\\\"}, \\\"new\\\": 1003.387}, {\\\"attr\\\": \\\"text\\\", \\\"hint\\\": null, \\\"kind\\\": \\\"ModelChanged\\\", \\\"model\\\": {\\\"id\\\": \\\"1874\\\"}, \\\"new\\\": \\\"State: New Mexico\\\"}, {\\\"cols\\\": null, \\\"column_source\\\": {\\\"id\\\": \\\"1903\\\"}, \\\"kind\\\": \\\"ColumnDataChanged\\\", \\\"new\\\": {\\\"Year\\\": [1928, 1929, 1930, 1931, 1932, 1933, 1934, 1935, 1936, 1937, 1938, 1939, 1940, 1941, 1942, 1943, 1944, 1945, 1946, 1947, 1948, 1949, 1950, 1951, 1952, 1953, 1954, 1955, 1956, 1957, 1958, 1959, 1960, 1961, 1962, 1963, 1964, 1965, 1966, 1967, 1968, 1969, 1970, 1971, 1972, 1973, 1974, 1975, 1976, 1977, 1978, 1979, 1980, 1981, 1982, 1983, 1984, 1985, 1986, 1987, 1988, 1989, 1990, 1991, 1992, 1993, 1994, 1995, 1996, 1997, 1998, 1999, 2000, 2001, 2002, 2003, 2004, 2005, 2006, 2007, 2008, 2009, 2010, 2011], \\\"measles\\\": {\\\"__ndarray__\\\": \\\"4XoUrke7hECkcD0K12NLQKRwPQrXiYBAhetRuB5JdEBmZmZmZv5wQJqZmZmZmWJAMzMzMzPfhkDXo3A9Cn9iQK5H4XoUXm1AuB6F61F0fkCF61G4HqeDQJqZmZmZwXNAXI/C9SgUa0DNzMzMzFCIQArXo3A9unNAPgrXo3BtWkBI4XoUrvtyQJqZmZmZ+VBAhetRuB7takApXI/C9VhsQBSuR+F61GVA7FG4HoX7hEBxPQrXowBhQFyPwvUomHJAXI/C9ShUakCF61G4HreEQKRwPQrXP3ZAAAAAAABug0CF61G4HvV+QHE9CtejWodAj8L1KFyBjEAUrkfhekB+QD0K16NwPRtAj8L1KFyPAEAAAAAAAAAAAAAAAAAAAAAAmpmZmZnJW0D2KFyPwiVRQBWuR+F6lF9AmpmZmZmZTkCkcD0K16MxQM3MzMzMTDxA16NwPQqXPEDD9Shcj6JCQKRwPQrXIyhAj8L1KFwPLEBmZmZmZmYVQKRwPQrXIyJAzczMzMzM9D+4HoXrUbj+PwAAAAAAAAAAMzMzMzMzCUCuR+F6FK7vP5qZmZmZmfE/AAAAAAAAAAAAAAAAAAAAAFyPwvUoXBRA7FG4HoXr0T/NzMzMzMwEQJqZmZmZGSVAAAAAAAAAAABnZmZmZmb2P6RwPQrXoxpArkfhehSuE0C4HoXrUbiuPwAAAAAAAAAAAAAAAAAAAAAfhetRuB79P7gehetRuO4/mpmZmZmZ2T8AAAAAAAAAAAAAAAAAAAAAAAAAAAAAAAAAAAAAAAAAAAAAAAAAAAAAAAAAAAAAAAAAAAAAAAAAAAAAAAAAAAAAAAAAAAAAAAAAAAAAAAAAAAAAAAAAAAAAAAAAAAAAAAAAAAAAAAAAAAAAAAAAAAAA\\\", \\\"dtype\\\": \\\"float64\\\", \\\"order\\\": \\\"little\\\", \\\"shape\\\": [84]}}}], \\\"references\\\": []}\",\"header\":\"{\\\"msgid\\\": \\\"2127\\\", \\\"msgtype\\\": \\\"PATCH-DOC\\\"}\",\"metadata\":\"{}\"},\"New York\":{\"content\":\"{\\\"events\\\": [{\\\"attr\\\": \\\"start\\\", \\\"hint\\\": null, \\\"kind\\\": \\\"ModelChanged\\\", \\\"model\\\": {\\\"id\\\": \\\"1871\\\"}, \\\"new\\\": -78.95100000000001}, {\\\"attr\\\": \\\"reset_start\\\", \\\"hint\\\": null, \\\"kind\\\": \\\"ModelChanged\\\", \\\"model\\\": {\\\"id\\\": \\\"1871\\\"}, \\\"new\\\": -78.95100000000001}, {\\\"attr\\\": \\\"end\\\", \\\"hint\\\": null, \\\"kind\\\": \\\"ModelChanged\\\", \\\"model\\\": {\\\"id\\\": \\\"1871\\\"}, \\\"new\\\": 868.461}, {\\\"attr\\\": \\\"reset_end\\\", \\\"hint\\\": null, \\\"kind\\\": \\\"ModelChanged\\\", \\\"model\\\": {\\\"id\\\": \\\"1871\\\"}, \\\"new\\\": 868.461}, {\\\"attr\\\": \\\"text\\\", \\\"hint\\\": null, \\\"kind\\\": \\\"ModelChanged\\\", \\\"model\\\": {\\\"id\\\": \\\"1874\\\"}, \\\"new\\\": \\\"State: New York\\\"}, {\\\"cols\\\": null, \\\"column_source\\\": {\\\"id\\\": \\\"1903\\\"}, \\\"kind\\\": \\\"ColumnDataChanged\\\", \\\"new\\\": {\\\"Year\\\": [1928, 1929, 1930, 1931, 1932, 1933, 1934, 1935, 1936, 1937, 1938, 1939, 1940, 1941, 1942, 1943, 1944, 1945, 1946, 1947, 1948, 1949, 1950, 1951, 1952, 1953, 1954, 1955, 1956, 1957, 1958, 1959, 1960, 1961, 1962, 1963, 1964, 1965, 1966, 1967, 1968, 1969, 1970, 1971, 1972, 1973, 1974, 1975, 1976, 1977, 1978, 1979, 1980, 1981, 1982, 1983, 1984, 1985, 1986, 1987, 1988, 1989, 1990, 1991, 1992, 1993, 1994, 1995, 1996, 1997, 1998, 1999, 2000, 2001, 2002, 2003, 2004, 2005, 2006, 2007, 2008, 2009, 2010, 2011], \\\"measles\\\": {\\\"__ndarray__\\\": \\\"9ihcj8JPhEB7FK5H4SJvQArXo3A9tnNA61G4HoVzekApXI/C9RB9QAAAAAAAKIFArkfhehQicEA9CtejcCOAQEjhehSu131AUrgehetZaUAfhetRuDaAQPYoXI/CtXRAj8L1KFyHakCuR+F6FKyIQEjhehSu52dAexSuR+HifUCamZmZme10QBSuR+F6NEpAw/UoXI/GgkAAAAAAAABbQMP1KFyPrnRAPQrXo3ARdkDD9ShcjyppQFyPwvUoFG5APQrXo3BJf0ApXI/C9YhSQClcj8L1IoFArkfhehQubkAVrkfhekhzQFyPwvUoNG1AZmZmZmbCdkAfhetRuIZhQLgehetRVHFA4XoUrkfpaUAAAAAAABBxQD0K16Nw7VpAPQrXo3CdY0CPwvUoXC9KQEjhehSuh05AuB6F61G4GkBSuB6F6xE1QHsUrkfhej5ApHA9CtcjIUDsUbgehes3QOF6FK5H4QxAFa5H4XqUI0BSuB6F61EfQFK4HoXrURtA4XoUrkdhMUBxPQrXozA6QOF6FK5H4SRA4XoUrkfhIUCF61G4HgUmQIXrUbgehf8/cT0K16Nw8T/iehSuR+HKP+F6FK5H4eo/cT0K16Nw7T8+CtejcD0VQMP1KFyPwgNASOF6FK5H4T8UrkfhehT6P+xRuB6F6xFAMzMzMzMzH0DXo3A9CtfjPwAAAAAAAAAAw/UoXI/C1T97FK5H4XqUPwAAAAAAAAAA7FG4HoXrwT8AAAAAAAAAAAAAAAAAAAAAexSuR+F6lD8AAAAAAAAAAHsUrkfheoQ/AAAAAAAAAAAAAAAAAAAAAAAAAAAAAAAAAAAAAAAAAAAAAAAAAAAAAAAAAAAAAAAAAAAAAAAAAAAAAAAAAAAAAAAAAAAAAAAA\\\", \\\"dtype\\\": \\\"float64\\\", \\\"order\\\": \\\"little\\\", \\\"shape\\\": [84]}}}], \\\"references\\\": []}\",\"header\":\"{\\\"msgid\\\": \\\"2120\\\", \\\"msgtype\\\": \\\"PATCH-DOC\\\"}\",\"metadata\":\"{}\"},\"North Carolina\":{\"content\":\"{\\\"events\\\": [{\\\"attr\\\": \\\"start\\\", \\\"hint\\\": null, \\\"kind\\\": \\\"ModelChanged\\\", \\\"model\\\": {\\\"id\\\": \\\"1871\\\"}, \\\"new\\\": -182.36900000000003}, {\\\"attr\\\": \\\"reset_start\\\", \\\"hint\\\": null, \\\"kind\\\": \\\"ModelChanged\\\", \\\"model\\\": {\\\"id\\\": \\\"1871\\\"}, \\\"new\\\": -182.36900000000003}, {\\\"attr\\\": \\\"end\\\", \\\"hint\\\": null, \\\"kind\\\": \\\"ModelChanged\\\", \\\"model\\\": {\\\"id\\\": \\\"1871\\\"}, \\\"new\\\": 2006.0590000000002}, {\\\"attr\\\": \\\"reset_end\\\", \\\"hint\\\": null, \\\"kind\\\": \\\"ModelChanged\\\", \\\"model\\\": {\\\"id\\\": \\\"1871\\\"}, \\\"new\\\": 2006.0590000000002}, {\\\"attr\\\": \\\"text\\\", \\\"hint\\\": null, \\\"kind\\\": \\\"ModelChanged\\\", \\\"model\\\": {\\\"id\\\": \\\"1874\\\"}, \\\"new\\\": \\\"State: North Carolina\\\"}, {\\\"cols\\\": null, \\\"column_source\\\": {\\\"id\\\": \\\"1903\\\"}, \\\"kind\\\": \\\"ColumnDataChanged\\\", \\\"new\\\": {\\\"Year\\\": [1928, 1929, 1930, 1931, 1932, 1933, 1934, 1935, 1936, 1937, 1938, 1939, 1940, 1941, 1942, 1943, 1944, 1945, 1946, 1947, 1948, 1949, 1950, 1951, 1952, 1953, 1954, 1955, 1956, 1957, 1958, 1959, 1960, 1961, 1962, 1963, 1964, 1965, 1966, 1967, 1968, 1969, 1970, 1971, 1972, 1973, 1974, 1975, 1976, 1977, 1978, 1979, 1980, 1981, 1982, 1983, 1984, 1985, 1986, 1987, 1988, 1989, 1990, 1991, 1992, 1993, 1994, 1995, 1996, 1997, 1998, 1999, 2000, 2001, 2002, 2003, 2004, 2005, 2006, 2007, 2008, 2009, 2010, 2011], \\\"measles\\\": {\\\"__ndarray__\\\": \\\"9ihcj8J+nEAfhetRuD5DQPYoXI/ClURASOF6FK4HfkBxPQrXo3B6QD0K16Nw+X5Aj8L1KFxVmkBSuB6F6z10QGZmZmZmJkRACtejcD1CbEAUrkfhep2VQAAAAAAAxIRAcT0K16NIakAzMzMzM5OEQHsUrkfhpoFAH4XrUbi+ZECkcD0K1/uEQAAAAAAAIFJAhetRuB4lbEC4HoXrUehfQLgehetR+DpAj8L1KFyne0BI4XoUrrddQEjhehSuV1RAAAAAAABgV0CuR+F6FN5cQArXo3A9qmxArkfhehSuPUCamZmZmVlmQFK4HoXr0UVAH4XrUbhuV0BI4XoUrkdSQI/C9ShcDztAzczMzMysW0CF61G4HkUzQEjhehSuhz5AUrgehetROkCuR+F6FC4hQML1KFyPwi9ASOF6FK4HM0DrUbgehesZQNejcD0K1x1AuB6F61F4M0BSuB6F6/FBQLkehetRuOY/uB6F61G4vj+4HoXrUbi+P7gehetRuK4/ZmZmZmZm1j/D9Shcj8LtPzMzMzMzMwFAhetRuB6F/z+uR+F6FK4BQJqZmZmZmbk/exSuR+F6pD8AAAAAAAAAAAAAAAAAAAAA7FG4HoXrwT/sUbgeheuxP3E9CtejcM0/uB6F61G4nj/sUbgehesHQLgehetRuOY/exSuR+F65D8K16NwPQrXPwAAAAAAAAAAexSuR+F6pD8AAAAAAAAAAJqZmZmZmak/exSuR+F6lD8AAAAAAAAAAAAAAAAAAAAAAAAAAAAAAAAAAAAAAAAAAAAAAAAAAAAAAAAAAAAAAAAAAAAAAAAAAAAAAAAAAAAAAAAAAAAAAAAAAAAAAAAAAAAAAAAAAAAAAAAAAAAAAAAAAAAAAAAAAAAAAAAAAAAA\\\", \\\"dtype\\\": \\\"float64\\\", \\\"order\\\": \\\"little\\\", \\\"shape\\\": [84]}}}], \\\"references\\\": []}\",\"header\":\"{\\\"msgid\\\": \\\"2113\\\", \\\"msgtype\\\": \\\"PATCH-DOC\\\"}\",\"metadata\":\"{}\"},\"North Dakota\":{\"content\":\"{\\\"events\\\": [{\\\"attr\\\": \\\"start\\\", \\\"hint\\\": null, \\\"kind\\\": \\\"ModelChanged\\\", \\\"model\\\": {\\\"id\\\": \\\"1871\\\"}, \\\"new\\\": -89.95400000000001}, {\\\"attr\\\": \\\"reset_start\\\", \\\"hint\\\": null, \\\"kind\\\": \\\"ModelChanged\\\", \\\"model\\\": {\\\"id\\\": \\\"1871\\\"}, \\\"new\\\": -89.95400000000001}, {\\\"attr\\\": \\\"end\\\", \\\"hint\\\": null, \\\"kind\\\": \\\"ModelChanged\\\", \\\"model\\\": {\\\"id\\\": \\\"1871\\\"}, \\\"new\\\": 989.4939999999999}, {\\\"attr\\\": \\\"reset_end\\\", \\\"hint\\\": null, \\\"kind\\\": \\\"ModelChanged\\\", \\\"model\\\": {\\\"id\\\": \\\"1871\\\"}, \\\"new\\\": 989.4939999999999}, {\\\"attr\\\": \\\"text\\\", \\\"hint\\\": null, \\\"kind\\\": \\\"ModelChanged\\\", \\\"model\\\": {\\\"id\\\": \\\"1874\\\"}, \\\"new\\\": \\\"State: North Dakota\\\"}, {\\\"cols\\\": null, \\\"column_source\\\": {\\\"id\\\": \\\"1903\\\"}, \\\"kind\\\": \\\"ColumnDataChanged\\\", \\\"new\\\": {\\\"Year\\\": [1928, 1929, 1930, 1931, 1932, 1933, 1934, 1935, 1936, 1937, 1938, 1939, 1940, 1941, 1942, 1943, 1944, 1945, 1946, 1947, 1948, 1949, 1950, 1951, 1952, 1953, 1954, 1955, 1956, 1957, 1958, 1959, 1960, 1961, 1962, 1963, 1964, 1965, 1966, 1967, 1968, 1969, 1970, 1971, 1972, 1973, 1974, 1975, 1976, 1977, 1978, 1979, 1980, 1981, 1982, 1983, 1984, 1985, 1986, 1987, 1988, 1989, 1990, 1991, 1992, 1993, 1994, 1995, 1996, 1997, 1998, 1999, 2000, 2001, 2002, 2003, 2004, 2005, 2006, 2007, 2008, 2009, 2010, 2011], \\\"measles\\\": {\\\"__ndarray__\\\": \\\"PQrXo3DdS0DXo3A9CjN1QAAAAAAAQF1AUrgehevBYUCF61G4HuFzQArXo3A9WndA16NwPQqNhEAzMzMzMydyQIXrUbgehTBAzczMzMzMIECamZmZmfuKQEjhehSuWYpAmpmZmZmhYkBmZmZmZuZrQOF6FK5HIXFACtejcD30iEB7FK5H4SKEQNejcD0KB1BA61G4HoVrREDD9Shcj4JtQGZmZmZmzmpAZ2ZmZma+bkCPwvUoXM9PQEjhehSur3pACtejcD0Ce0D2KFyPws1vQHsUrkfhYnxAKVyPwvV8eUDsUbgehad2QAAAAAAAqoNAcT0K16NUhkC4HoXrURyMQClcj8L1aHhAAAAAAABwe0D2KFyPwjmCQKRwPQrXL4VApHA9CtdpiUCuR+F6FHqDQBSuR+F6lGpAhetRuB7lYUAUrkfhetQ2QJDC9ShcDypAAAAAAACgSUD2KFyPwhVCQHsUrkfh+iJAcT0K16NwJkBI4XoUrkcXQKRwPQrXe2BAcT0K16Nw3T/2KFyPwvUSQHA9CtejcDtAzczMzMzMBEAAAAAAAAAAAAAAAAAAAAAAAAAAAAAAAAAAAAAAAAAAAAAAAAAAAAAAMzMzMzMzwz9cj8L1KFwJQAAAAAAAAAAAAAAAAAAAAAAAAAAAAAAAAAAAAAAAAAAAAAAAAAAAAAAAAAAAAAAAAAAAAAAAAAAAAAAAAAAAAAAAAAAAAAAAAAAAAAAAAAAAMzMzMzMzwz8AAAAAAAAAAAAAAAAAAAAAAAAAAAAAAAAAAAAAAAAAAAAAAAAAAAAAAAAAAAAAAAAAAAAAAAAAAAAAAAAAAAAAAAAAAAAAAAAAAAAAAAAAAAAAAAAAAAAAAAAAAAAAAAAAAAAAAAAAAAAAAAAAAAAA\\\", \\\"dtype\\\": \\\"float64\\\", \\\"order\\\": \\\"little\\\", \\\"shape\\\": [84]}}}], \\\"references\\\": []}\",\"header\":\"{\\\"msgid\\\": \\\"2106\\\", \\\"msgtype\\\": \\\"PATCH-DOC\\\"}\",\"metadata\":\"{}\"},\"Ohio\":{\"content\":\"{\\\"events\\\": [{\\\"attr\\\": \\\"start\\\", \\\"hint\\\": null, \\\"kind\\\": \\\"ModelChanged\\\", \\\"model\\\": {\\\"id\\\": \\\"1871\\\"}, \\\"new\\\": -113.277}, {\\\"attr\\\": \\\"reset_start\\\", \\\"hint\\\": null, \\\"kind\\\": \\\"ModelChanged\\\", \\\"model\\\": {\\\"id\\\": \\\"1871\\\"}, \\\"new\\\": -113.277}, {\\\"attr\\\": \\\"end\\\", \\\"hint\\\": null, \\\"kind\\\": \\\"ModelChanged\\\", \\\"model\\\": {\\\"id\\\": \\\"1871\\\"}, \\\"new\\\": 1246.047}, {\\\"attr\\\": \\\"reset_end\\\", \\\"hint\\\": null, \\\"kind\\\": \\\"ModelChanged\\\", \\\"model\\\": {\\\"id\\\": \\\"1871\\\"}, \\\"new\\\": 1246.047}, {\\\"attr\\\": \\\"text\\\", \\\"hint\\\": null, \\\"kind\\\": \\\"ModelChanged\\\", \\\"model\\\": {\\\"id\\\": \\\"1874\\\"}, \\\"new\\\": \\\"State: Ohio\\\"}, {\\\"cols\\\": null, \\\"column_source\\\": {\\\"id\\\": \\\"1903\\\"}, \\\"kind\\\": \\\"ColumnDataChanged\\\", \\\"new\\\": {\\\"Year\\\": [1928, 1929, 1930, 1931, 1932, 1933, 1934, 1935, 1936, 1937, 1938, 1939, 1940, 1941, 1942, 1943, 1944, 1945, 1946, 1947, 1948, 1949, 1950, 1951, 1952, 1953, 1954, 1955, 1956, 1957, 1958, 1959, 1960, 1961, 1962, 1963, 1964, 1965, 1966, 1967, 1968, 1969, 1970, 1971, 1972, 1973, 1974, 1975, 1976, 1977, 1978, 1979, 1980, 1981, 1982, 1983, 1984, 1985, 1986, 1987, 1988, 1989, 1990, 1991, 1992, 1993, 1994, 1995, 1996, 1997, 1998, 1999, 2000, 2001, 2002, 2003, 2004, 2005, 2006, 2007, 2008, 2009, 2010, 2011], \\\"measles\\\": {\\\"__ndarray__\\\": \\\"H4XrUbg+dkCF61G4HomBQJqZmZmZWXFAhetRuB41ckAfhetRuNqAQD0K16NwNW1AAAAAAACoeUC4HoXrUQaBQClcj8L1EGFAUrgehevldkBcj8L1KLKFQAAAAAAAgFJAZmZmZmZmNkCuR+F6FLORQIXrUbgexV9AwvUoXI9GcUA9CtejcG+BQClcj8L16EhA9ihcj8INaUBmZmZmZu5tQIXrUbgepXFAcT0K16PEcEB7FK5H4TpkQFyPwvUofHJAAAAAAAAAb0CPwvUoXK9zQHE9CtejJHRAUrgehetJZUBxPQrXo9R9QFyPwvUovFVAFa5H4XqMc0ApXI/C9RhfQM3MzMzM5GdAj8L1KFwXakA9CtejcJ1dQFyPwvUoVGJAzczMzMzkZ0A+CtejcL1WQIXrUbgehU9AexSuR+F6J0AAAAAAAAAKQIXrUbgehRVAmpmZmZnZQkApXI/C9YhCQI/C9ShcjwZAKVyPwvUoDkBxPQrXo3A7QJqZmZmZmfE/CtejcD0KG0AK16NwPUoxQK5H4XoUrhJAKVyPwvUoCEBSuB6F61EMQJqZmZmZmck/uB6F61G4nj+QwvUoXI/qP5qZmZmZmbk/AAAAAAAAAAAAAAAAAAAAAHsUrkfheoQ/KVyPwvUo7D/Xo3A9Chc5QOJ6FK5H4RRAKlyPwvUovD+amZmZmZmpPylcj8L1KLw/exSuR+F6pD97FK5H4XqUP7gehetRuK4/MzMzMzMz0z8AAAAAAAAAAAAAAAAAAAAAuB6F61G4nj97FK5H4XqEPwAAAAAAAAAAAAAAAAAAAAAAAAAAAAAAAAAAAAAAAAAAAAAAAAAAAAAAAAAAAAAAAAAAAAAAAAAAAAAAAAAAAAAAAAAAAAAAAAAAAAAAAAAA\\\", \\\"dtype\\\": \\\"float64\\\", \\\"order\\\": \\\"little\\\", \\\"shape\\\": [84]}}}], \\\"references\\\": []}\",\"header\":\"{\\\"msgid\\\": \\\"2099\\\", \\\"msgtype\\\": \\\"PATCH-DOC\\\"}\",\"metadata\":\"{}\"},\"Oklahoma\":{\"content\":\"{\\\"events\\\": [{\\\"attr\\\": \\\"start\\\", \\\"hint\\\": null, \\\"kind\\\": \\\"ModelChanged\\\", \\\"model\\\": {\\\"id\\\": \\\"1871\\\"}, \\\"new\\\": -44.045}, {\\\"attr\\\": \\\"reset_start\\\", \\\"hint\\\": null, \\\"kind\\\": \\\"ModelChanged\\\", \\\"model\\\": {\\\"id\\\": \\\"1871\\\"}, \\\"new\\\": -44.045}, {\\\"attr\\\": \\\"end\\\", \\\"hint\\\": null, \\\"kind\\\": \\\"ModelChanged\\\", \\\"model\\\": {\\\"id\\\": \\\"1871\\\"}, \\\"new\\\": 484.495}, {\\\"attr\\\": \\\"reset_end\\\", \\\"hint\\\": null, \\\"kind\\\": \\\"ModelChanged\\\", \\\"model\\\": {\\\"id\\\": \\\"1871\\\"}, \\\"new\\\": 484.495}, {\\\"attr\\\": \\\"text\\\", \\\"hint\\\": null, \\\"kind\\\": \\\"ModelChanged\\\", \\\"model\\\": {\\\"id\\\": \\\"1874\\\"}, \\\"new\\\": \\\"State: Oklahoma\\\"}, {\\\"cols\\\": null, \\\"column_source\\\": {\\\"id\\\": \\\"1903\\\"}, \\\"kind\\\": \\\"ColumnDataChanged\\\", \\\"new\\\": {\\\"Year\\\": [1928, 1929, 1930, 1931, 1932, 1933, 1934, 1935, 1936, 1937, 1938, 1939, 1940, 1941, 1942, 1943, 1944, 1945, 1946, 1947, 1948, 1949, 1950, 1951, 1952, 1953, 1954, 1955, 1956, 1957, 1958, 1959, 1960, 1961, 1962, 1963, 1964, 1965, 1966, 1967, 1968, 1969, 1970, 1971, 1972, 1973, 1974, 1975, 1976, 1977, 1978, 1979, 1980, 1981, 1982, 1983, 1984, 1985, 1986, 1987, 1988, 1989, 1990, 1991, 1992, 1993, 1994, 1995, 1996, 1997, 1998, 1999, 2000, 2001, 2002, 2003, 2004, 2005, 2006, 2007, 2008, 2009, 2010, 2011], \\\"measles\\\": {\\\"__ndarray__\\\": \\\"j8L1KFzLcEC4HoXrURhHQPYoXI/CnWRA9ihcj8IVQED2KFyPwpVFQEjhehSud1lA4XoUrkehd0AL16NwPbpZQHE9CtejcC5Aj8L1KFzPRkBI4XoUriddQK5H4XoUTmhAMzMzMzMzTkBSuB6F6zFWQB+F61G4TnBApHA9CtcDU0CamZmZmdlkQHA9CtejkElA16NwPQqfZ0AVrkfhepQlQOF6FK5HgVBAhetRuB4hdkCuR+F6FG47QNejcD0Kf3ZAUrgehesBV0B7FK5H4aJlQPYoXI/CBWNAcT0K16OIYEAzMzMzM4d7QGZmZmZmhlBArkfhehTec0BmZmZmZiY9QFyPwvUo3ElAUrgehesROUA9CtejcJ1VQNejcD0KVyxAFa5H4Xo0RUBxPQrXo/AjQAAAAAAAQDlAzczMzMwsQEDXo3A9CtcTQIXrUbgehRZA4XoUrkehPkCPwvUoXA85QAAAAAAAAOA/rkfhehSuA0CamZmZmZnxP0jhehSuRyNAexSuR+H6I0CF61G4HoX7Px+F61G4Hu0/MjMzMzMz6z8pXI/C9ag2QLgehetRuM4/rkfhehSu7z+4HoXrUbieP0jhehSuR9E/AAAAAAAAAACuR+F6FK7vP7gehetRuL4/AAAAAAAA0D8fhetRuB4QQGdmZmZmZhZAAAAAAAAAAAAAAAAAAADQPwAAAAAAAAAAAAAAAAAAAAAAAAAAAAAAAAAAAAAAAAAAAAAAAAAAAAAAAAAAAAAAAAAAAAAAAAAAAAAAAAAAAAAAAAAAAAAAAAAAAAAAAAAAAAAAAAAAAAAAAAAAAAAAAAAAAAAAAAAAAAAAAAAAAAAAAAAAAAAAAAAAAAAAAAAAAAAAAAAAAAAAAAAAAAAAAAAAAAAAAAAA\\\", \\\"dtype\\\": \\\"float64\\\", \\\"order\\\": \\\"little\\\", \\\"shape\\\": [84]}}}], \\\"references\\\": []}\",\"header\":\"{\\\"msgid\\\": \\\"2092\\\", \\\"msgtype\\\": \\\"PATCH-DOC\\\"}\",\"metadata\":\"{}\"},\"Oregon\":{\"content\":\"{\\\"events\\\": [{\\\"attr\\\": \\\"start\\\", \\\"hint\\\": null, \\\"kind\\\": \\\"ModelChanged\\\", \\\"model\\\": {\\\"id\\\": \\\"1871\\\"}, \\\"new\\\": -91.915}, {\\\"attr\\\": \\\"reset_start\\\", \\\"hint\\\": null, \\\"kind\\\": \\\"ModelChanged\\\", \\\"model\\\": {\\\"id\\\": \\\"1871\\\"}, \\\"new\\\": -91.915}, {\\\"attr\\\": \\\"end\\\", \\\"hint\\\": null, \\\"kind\\\": \\\"ModelChanged\\\", \\\"model\\\": {\\\"id\\\": \\\"1871\\\"}, \\\"new\\\": 1011.0649999999999}, {\\\"attr\\\": \\\"reset_end\\\", \\\"hint\\\": null, \\\"kind\\\": \\\"ModelChanged\\\", \\\"model\\\": {\\\"id\\\": \\\"1871\\\"}, \\\"new\\\": 1011.0649999999999}, {\\\"attr\\\": \\\"text\\\", \\\"hint\\\": null, \\\"kind\\\": \\\"ModelChanged\\\", \\\"model\\\": {\\\"id\\\": \\\"1874\\\"}, \\\"new\\\": \\\"State: Oregon\\\"}, {\\\"cols\\\": null, \\\"column_source\\\": {\\\"id\\\": \\\"1903\\\"}, \\\"kind\\\": \\\"ColumnDataChanged\\\", \\\"new\\\": {\\\"Year\\\": [1928, 1929, 1930, 1931, 1932, 1933, 1934, 1935, 1936, 1937, 1938, 1939, 1940, 1941, 1942, 1943, 1944, 1945, 1946, 1947, 1948, 1949, 1950, 1951, 1952, 1953, 1954, 1955, 1956, 1957, 1958, 1959, 1960, 1961, 1962, 1963, 1964, 1965, 1966, 1967, 1968, 1969, 1970, 1971, 1972, 1973, 1974, 1975, 1976, 1977, 1978, 1979, 1980, 1981, 1982, 1983, 1984, 1985, 1986, 1987, 1988, 1989, 1990, 1991, 1992, 1993, 1994, 1995, 1996, 1997, 1998, 1999, 2000, 2001, 2002, 2003, 2004, 2005, 2006, 2007, 2008, 2009, 2010, 2011], \\\"measles\\\": {\\\"__ndarray__\\\": \\\"exSuR+Hia0CF61G4HsV+QPYoXI/CRXFAUrgehetRbkCamZmZmRGAQKRwPQrXy2xAAAAAAAAwaEA9CtejcAuGQDMzMzMzuYxAuB6F61EYQ0ApXI/C9XheQJqZmZmZeWtAKVyPwvX4hECuR+F6FPyCQArXo3A9Mn9AmpmZmZmvhUCkcD0K1/ttQArXo3A9imNAUrgehetVfEAK16NwPfpRQJqZmZmZ+XZA16NwPQpjhUBxPQrXo7BIQB+F61G4ToNAj8L1KFw3akCF61G4HnGBQKRwPQrXi25Aw/UoXI9yckBxPQrXo+BgQAAAAAAAeotAXI/C9SiIgECF61G4Hvl7QOtRuB6Fh4NAzczMzMwgdECkcD0K1/GHQM3MzMzMJHBAXI/C9ShQfEBI4XoUrrdmQArXo3A9ul9ArkfhehSuVUAzMzMzM7M+QClcj8L1qCNAZmZmZmYmNUBxPQrXo/AvQGZmZmZm5iFAhetRuB6FM0B7FK5H4XrwP1yPwvUo3CBAexSuR+F6HEAK16NwPYopQBSuR+F6lDRAPQrXo3A9BkB7FK5H4Xq0P5qZmZmZmck/CtejcD0K5z+amZmZmZnZPwAAAAAAAAAAUrgehetRyD+kcD0K16PQPxWuR+F6FAhAzczMzMzM9D8zMzMzMzP3P5qZmZmZmfU/PgrXo3A9BkCQwvUoXI/SPwAAAAAAAAAAAAAAAAAAAAAK16NwPQq3Px6F61G4HtU/CtejcD0Ktz8AAAAAAAAAADMzMzMzM8M/AAAAAAAAAAAK16NwPQrHPwAAAAAAAAAAAAAAAAAAAAAAAAAAAAAAAAAAAAAAAAAAAAAAAAAAAAAAAAAAAAAAAAAAAAAAAAAAAAAAAAAAAAAAAAAAAAAAAAAAAAAAAAAA\\\", \\\"dtype\\\": \\\"float64\\\", \\\"order\\\": \\\"little\\\", \\\"shape\\\": [84]}}}], \\\"references\\\": []}\",\"header\":\"{\\\"msgid\\\": \\\"2085\\\", \\\"msgtype\\\": \\\"PATCH-DOC\\\"}\",\"metadata\":\"{}\"},\"Pennsylvania\":{\"content\":\"{\\\"events\\\": [{\\\"attr\\\": \\\"start\\\", \\\"hint\\\": null, \\\"kind\\\": \\\"ModelChanged\\\", \\\"model\\\": {\\\"id\\\": \\\"1871\\\"}, \\\"new\\\": -132.975}, {\\\"attr\\\": \\\"reset_start\\\", \\\"hint\\\": null, \\\"kind\\\": \\\"ModelChanged\\\", \\\"model\\\": {\\\"id\\\": \\\"1871\\\"}, \\\"new\\\": -132.975}, {\\\"attr\\\": \\\"end\\\", \\\"hint\\\": null, \\\"kind\\\": \\\"ModelChanged\\\", \\\"model\\\": {\\\"id\\\": \\\"1871\\\"}, \\\"new\\\": 1462.725}, {\\\"attr\\\": \\\"reset_end\\\", \\\"hint\\\": null, \\\"kind\\\": \\\"ModelChanged\\\", \\\"model\\\": {\\\"id\\\": \\\"1871\\\"}, \\\"new\\\": 1462.725}, {\\\"attr\\\": \\\"text\\\", \\\"hint\\\": null, \\\"kind\\\": \\\"ModelChanged\\\", \\\"model\\\": {\\\"id\\\": \\\"1874\\\"}, \\\"new\\\": \\\"State: Pennsylvania\\\"}, {\\\"cols\\\": null, \\\"column_source\\\": {\\\"id\\\": \\\"1903\\\"}, \\\"kind\\\": \\\"ColumnDataChanged\\\", \\\"new\\\": {\\\"Year\\\": [1928, 1929, 1930, 1931, 1932, 1933, 1934, 1935, 1936, 1937, 1938, 1939, 1940, 1941, 1942, 1943, 1944, 1945, 1946, 1947, 1948, 1949, 1950, 1951, 1952, 1953, 1954, 1955, 1956, 1957, 1958, 1959, 1960, 1961, 1962, 1963, 1964, 1965, 1966, 1967, 1968, 1969, 1970, 1971, 1972, 1973, 1974, 1975, 1976, 1977, 1978, 1979, 1980, 1981, 1982, 1983, 1984, 1985, 1986, 1987, 1988, 1989, 1990, 1991, 1992, 1993, 1994, 1995, 1996, 1997, 1998, 1999, 2000, 2001, 2002, 2003, 2004, 2005, 2006, 2007, 2008, 2009, 2010, 2011], \\\"measles\\\": {\\\"__ndarray__\\\": \\\"mpmZmZk/gkApXI/C9Zh+QClcj8L1SHZAzczMzMysiUDXo3A9Cmt9QK5H4XoUBnVAexSuR+GAikB7FK5H4aqMQClcj8L1cG5ACtejcD1ueEAAAAAAAMeUQArXo3A9UmdApHA9CteTYkDD9Shcj5qPQB+F61G4xndAcT0K16OYgUApXI/C9QhwQKRwPQrX019A9ihcj8Ibg0AK16NwPVpcQNejcD0KK3NAj8L1KFw/fkCuR+F6FK5kQPYoXI/CvXJAAAAAAABodkD2KFyPwkViQD0K16Nw/XVA9ihcj8JNZUAzMzMzM994QPYoXI/CRV1AexSuR+Eyc0BxPQrXo/BuQJqZmZmZ2U1A61G4HoVDbECF61G4HsVUQLgehetRiFpAZmZmZmZ2WUB7FK5H4ZpMQBWuR+F6lEdAPQrXo3A9G0BSuB6F61EEQFK4HoXrUSVAZ2ZmZmamMUDC9Shcj0IvQIXrUbgeheM/hetRuB6FC0D2KFyPwvUeQB+F61G4HhNAAAAAAACAPEDXo3A9Chc7QHsUrkfhegZAPgrXo3A94j97FK5H4foiQFK4HoXrURFA7FG4HoXrsT8AAAAAAAAAAHsUrkfheqQ/H4XrUbge1T8AAAAAAADQP6RwPQrXo9A/mpmZmZmZEUAAAAAAAAAAQClcj8L1KA5AcT0K16NwJ0B7FK5H4Xq0PwAAAAAAAAAA7FG4HoXrsT97FK5H4XqEP5qZmZmZmbk/pHA9CtejwD+4HoXrUbiePwAAAAAAAAAAAAAAAAAAAACamZmZmZmpPwAAAAAAAAAAAAAAAAAAAAAAAAAAAAAAAAAAAAAAAAAAAAAAAAAAAAAAAAAAAAAAAAAAAAAAAAAAAAAAAAAAAAAAAAAAAAAAAAAAAAAAAAAA\\\", \\\"dtype\\\": \\\"float64\\\", \\\"order\\\": \\\"little\\\", \\\"shape\\\": [84]}}}], \\\"references\\\": []}\",\"header\":\"{\\\"msgid\\\": \\\"2078\\\", \\\"msgtype\\\": \\\"PATCH-DOC\\\"}\",\"metadata\":\"{}\"},\"Rhode Island\":{\"content\":\"{\\\"events\\\": [{\\\"attr\\\": \\\"start\\\", \\\"hint\\\": null, \\\"kind\\\": \\\"ModelChanged\\\", \\\"model\\\": {\\\"id\\\": \\\"1871\\\"}, \\\"new\\\": -147.269}, {\\\"attr\\\": \\\"reset_start\\\", \\\"hint\\\": null, \\\"kind\\\": \\\"ModelChanged\\\", \\\"model\\\": {\\\"id\\\": \\\"1871\\\"}, \\\"new\\\": -147.269}, {\\\"attr\\\": \\\"end\\\", \\\"hint\\\": null, \\\"kind\\\": \\\"ModelChanged\\\", \\\"model\\\": {\\\"id\\\": \\\"1871\\\"}, \\\"new\\\": 1619.959}, {\\\"attr\\\": \\\"reset_end\\\", \\\"hint\\\": null, \\\"kind\\\": \\\"ModelChanged\\\", \\\"model\\\": {\\\"id\\\": \\\"1871\\\"}, \\\"new\\\": 1619.959}, {\\\"attr\\\": \\\"text\\\", \\\"hint\\\": null, \\\"kind\\\": \\\"ModelChanged\\\", \\\"model\\\": {\\\"id\\\": \\\"1874\\\"}, \\\"new\\\": \\\"State: Rhode Island\\\"}, {\\\"cols\\\": null, \\\"column_source\\\": {\\\"id\\\": \\\"1903\\\"}, \\\"kind\\\": \\\"ColumnDataChanged\\\", \\\"new\\\": {\\\"Year\\\": [1928, 1929, 1930, 1931, 1932, 1933, 1934, 1935, 1936, 1937, 1938, 1939, 1940, 1941, 1942, 1943, 1944, 1945, 1946, 1947, 1948, 1949, 1950, 1951, 1952, 1953, 1954, 1955, 1956, 1957, 1958, 1959, 1960, 1961, 1962, 1963, 1964, 1965, 1966, 1967, 1968, 1969, 1970, 1971, 1972, 1973, 1974, 1975, 1976, 1977, 1978, 1979, 1980, 1981, 1982, 1983, 1984, 1985, 1986, 1987, 1988, 1989, 1990, 1991, 1992, 1993, 1994, 1995, 1996, 1997, 1998, 1999, 2000, 2001, 2002, 2003, 2004, 2005, 2006, 2007, 2008, 2009, 2010, 2011], \\\"measles\\\": {\\\"__ndarray__\\\": \\\"w/UoXI/6hkBSuB6F6+lwQD4K16NwnUNAZmZmZmbIhED2KFyPwgKXQLgehetRuCJAw/UoXI9yUEBnZmZmZhCPQNejcD0KC3dA9ihcj8I5hUCamZmZmflBQJqZmZmZDXpA61G4HoU7fUD2KFyPwtVMQAAAAAAACoNACtejcD2GckBSuB6F67+AQIXrUbgexUtA7FG4HoUTZEA9CtejcLV/QNejcD0KN0hAexSuR+GMgUCuR+F6FK4+QDMzMzMzU1xACtejcD3OhEBcj8L1KPxOQD0K16Nw9WtASOF6FK6JhECuR+F6FG42QHsUrkfhKlJAPQrXo3ANf0D2KFyPwvVBQHsUrkfhemxAexSuR+Hwh0DsUbgeha93QDMzMzMzc2FAhetRuB51cUCF61G4Hs17QAAAAAAAgCNASOF6FK5HG0AfhetRuB4dQDMzMzMzMwdAzczMzMzMJkC4HoXrUbg4QAAAAAAAIEpA9ihcj8IFUUBSuB6F61EaQEjhehSuR+E/16NwPQrXAUAK16NwPQobQDMzMzMzM+s/w/UoXI/CJUCamZmZmZnJPwAAAAAAAAAAAAAAAAAAAAAAAAAAAAAAAAAAAAAAAAAAAAAAAAAAAACamZmZmZnJP5qZmZmZmck/AAAAAAAAAAA0MzMzMzMPQOxRuB6F6wdAmpmZmZmZ2T8+CtejcD0CQJqZmZmZmbk/Z2ZmZmZm5j9cj8L1KFzfPwAAAAAAAAAAXI/C9Shc3z8AAAAAAAAAAAAAAAAAAAAAAAAAAAAAAAAAAAAAAAAAAAAAAAAAAAAAAAAAAAAAAAAAAAAAAAAAAAAAAAAAAAAAAAAAAAAAAAAAAAAAAAAAAAAAAAAAAAAAAAAAAAAAAAAAAAAAAAAAAAAAAAAAAAAA\\\", \\\"dtype\\\": \\\"float64\\\", \\\"order\\\": \\\"little\\\", \\\"shape\\\": [84]}}}], \\\"references\\\": []}\",\"header\":\"{\\\"msgid\\\": \\\"2071\\\", \\\"msgtype\\\": \\\"PATCH-DOC\\\"}\",\"metadata\":\"{}\"},\"South Carolina\":{\"content\":\"{\\\"events\\\": [{\\\"attr\\\": \\\"start\\\", \\\"hint\\\": null, \\\"kind\\\": \\\"ModelChanged\\\", \\\"model\\\": {\\\"id\\\": \\\"1871\\\"}, \\\"new\\\": -113.849}, {\\\"attr\\\": \\\"reset_start\\\", \\\"hint\\\": null, \\\"kind\\\": \\\"ModelChanged\\\", \\\"model\\\": {\\\"id\\\": \\\"1871\\\"}, \\\"new\\\": -113.849}, {\\\"attr\\\": \\\"end\\\", \\\"hint\\\": null, \\\"kind\\\": \\\"ModelChanged\\\", \\\"model\\\": {\\\"id\\\": \\\"1871\\\"}, \\\"new\\\": 1252.339}, {\\\"attr\\\": \\\"reset_end\\\", \\\"hint\\\": null, \\\"kind\\\": \\\"ModelChanged\\\", \\\"model\\\": {\\\"id\\\": \\\"1871\\\"}, \\\"new\\\": 1252.339}, {\\\"attr\\\": \\\"text\\\", \\\"hint\\\": null, \\\"kind\\\": \\\"ModelChanged\\\", \\\"model\\\": {\\\"id\\\": \\\"1874\\\"}, \\\"new\\\": \\\"State: South Carolina\\\"}, {\\\"cols\\\": null, \\\"column_source\\\": {\\\"id\\\": \\\"1903\\\"}, \\\"kind\\\": \\\"ColumnDataChanged\\\", \\\"new\\\": {\\\"Year\\\": [1928, 1929, 1930, 1931, 1932, 1933, 1934, 1935, 1936, 1937, 1938, 1939, 1940, 1941, 1942, 1943, 1944, 1945, 1946, 1947, 1948, 1949, 1950, 1951, 1952, 1953, 1954, 1955, 1956, 1957, 1958, 1959, 1960, 1961, 1962, 1963, 1964, 1965, 1966, 1967, 1968, 1969, 1970, 1971, 1972, 1973, 1974, 1975, 1976, 1977, 1978, 1979, 1980, 1981, 1982, 1983, 1984, 1985, 1986, 1987, 1988, 1989, 1990, 1991, 1992, 1993, 1994, 1995, 1996, 1997, 1998, 1999, 2000, 2001, 2002, 2003, 2004, 2005, 2006, 2007, 2008, 2009, 2010, 2011], \\\"measles\\\": {\\\"__ndarray__\\\": \\\"KVyPwvXJkUBmZmZmZmYoQGZmZmZm5ixAZmZmZma+Z0DD9Shcj9JmQArXo3A9inZAexSuR+Hsg0DhehSuRyFHQB+F61G4HkhA7FG4HoXLWEBmZmZmZlZ3QOxRuB6FK05AKVyPwvUoQEDrUbgehR9+QI/C9ShcR2tAhetRuB41Y0CamZmZmbl2QArXo3A9ulNA16NwPQpjdkDrUbgehTtkQJqZmZmZKV5A4XoUrkdRfEBI4XoUrqdWQEjhehSuJ0FAXI/C9ShsVEC4HoXrUVhWQIXrUbge3W9ACtejcD2qSkCkcD0K1wt4QNejcD0KB29AexSuR+GCfUAK16NwPbpUQNejcD0K10pAXI/C9SgUYUAzMzMzMzNDQAAAAAAA8FdApHA9CtczZEBmZmZmZkZJQI/C9ShcTzpAcT0K16NwNEBSuB6F61H4P1yPwvUoXBVAw/UoXI8COEDC9Shcj2JAQIXrUbgehR5A4noUrkfhBkBdj8L1KFz/Pz0K16NwPeI/MzMzMzMzwz89CtejcD0KQMP1KFyPwhlAzczMzMzMCkAUrkfhehQUQAAAAAAAAAAAAAAAAAAAAAAAAAAAAAAAAAAAAAAAAAAAuB6F61G4nj8pXI/C9SgeQLgehetRuK4/AAAAAAAAAACkcD0K16PgP7gehetRuL4/rkfhehSu1z+amZmZmZnpPwAAAAAAAAAAAAAAAAAAAAAAAAAAAAAAAAAAAAAAAAAAmpmZmZmZqT8AAAAAAAAAAAAAAAAAAAAAAAAAAAAAAAAAAAAAAAAAAAAAAAAAAAAAAAAAAAAAAAAAAAAAAAAAAAAAAAAAAAAAAAAAAAAAAAAAAAAAAAAAAAAAAAAAAAAAAAAAAAAAAAAAAAAAAAAAAAAAAAAAAAAA\\\", \\\"dtype\\\": \\\"float64\\\", \\\"order\\\": \\\"little\\\", \\\"shape\\\": [84]}}}], \\\"references\\\": []}\",\"header\":\"{\\\"msgid\\\": \\\"2064\\\", \\\"msgtype\\\": \\\"PATCH-DOC\\\"}\",\"metadata\":\"{}\"},\"South Dakota\":{\"content\":\"{\\\"events\\\": [{\\\"attr\\\": \\\"start\\\", \\\"hint\\\": null, \\\"kind\\\": \\\"ModelChanged\\\", \\\"model\\\": {\\\"id\\\": \\\"1871\\\"}, \\\"new\\\": -137.394}, {\\\"attr\\\": \\\"reset_start\\\", \\\"hint\\\": null, \\\"kind\\\": \\\"ModelChanged\\\", \\\"model\\\": {\\\"id\\\": \\\"1871\\\"}, \\\"new\\\": -137.394}, {\\\"attr\\\": \\\"end\\\", \\\"hint\\\": null, \\\"kind\\\": \\\"ModelChanged\\\", \\\"model\\\": {\\\"id\\\": \\\"1871\\\"}, \\\"new\\\": 1511.334}, {\\\"attr\\\": \\\"reset_end\\\", \\\"hint\\\": null, \\\"kind\\\": \\\"ModelChanged\\\", \\\"model\\\": {\\\"id\\\": \\\"1871\\\"}, \\\"new\\\": 1511.334}, {\\\"attr\\\": \\\"text\\\", \\\"hint\\\": null, \\\"kind\\\": \\\"ModelChanged\\\", \\\"model\\\": {\\\"id\\\": \\\"1874\\\"}, \\\"new\\\": \\\"State: South Dakota\\\"}, {\\\"cols\\\": null, \\\"column_source\\\": {\\\"id\\\": \\\"1903\\\"}, \\\"kind\\\": \\\"ColumnDataChanged\\\", \\\"new\\\": {\\\"Year\\\": [1928, 1929, 1930, 1931, 1932, 1933, 1934, 1935, 1936, 1937, 1938, 1939, 1940, 1941, 1942, 1943, 1944, 1945, 1946, 1947, 1948, 1949, 1950, 1951, 1952, 1953, 1954, 1955, 1956, 1957, 1958, 1959, 1960, 1961, 1962, 1963, 1964, 1965, 1966, 1967, 1968, 1969, 1970, 1971, 1972, 1973, 1974, 1975, 1976, 1977, 1978, 1979, 1980, 1981, 1982, 1983, 1984, 1985, 1986, 1987, 1988, 1989, 1990, 1991, 1992, 1993, 1994, 1995, 1996, 1997, 1998, 1999, 2000, 2001, 2002, 2003, 2004, 2005, 2006, 2007, 2008, 2009, 2010, 2011], \\\"measles\\\": {\\\"__ndarray__\\\": \\\"hetRuB4FZEBxPQrXo/hkQClcj8L1pHVA7FG4HoWLakBI4XoUrhdYQOF6FK5HsXJA9ihcj8J3lUAAAAAAAOhkQM3MzMzMzEBArkfhehSuI0AfhetRuI5qQIXrUbgeV5JAw/UoXI+6b0DrUbgehatOQHsUrkfh4mFAKVyPwvW0f0BI4XoUritwQLgehetRKFlArkfhehS2Z0CamZmZmUlrQLgehetRiGFAFK5H4XqsY0D2KFyPwqVZQK5H4XoUrlpAcT0K16PQXECkcD0K1zNRQFK4HoXr4V5A61G4HoXLT0AAAAAAALBVQI/C9ShcX1RAKVyPwvVoMkCkcD0K1yNgQNejcD0KlzFAuB6F61G4NUAAAAAAABBQQJDC9ShcDylAuB6F61G4I0B7FK5H4bowQHsUrkfhehdA16NwPQpXIUAzMzMzMzPjP5DC9Shcjx5AFa5H4XqUL0DXo3A9Clc/QHsUrkfhevw/KFyPwvUo3D97FK5H4XoQQHE9Ctej8ElArkfhehSu5z89CtejcD0lQAAAAAAAAAAA7FG4HoXr0T8AAAAAAAAAAAAAAAAAAAAAAAAAAAAAAAAAAAAAAAAAAAAAAAAAAAAAAAAAAAAAAAAAAAAAAAAAAAAAAAAAAAAAAAAAAAAAAAAAAAAAAAAAAFK4HoXrUQJAAAAAAAAAAAAAAAAAAAAAAAAAAAAAAAAAAAAAAAAAAAAAAAAAAAAAAAAAAAAAAAAAMzMzMzMz8z8AAAAAAAAAAAAAAAAAAAAAAAAAAAAAAAAAAAAAAAAAAAAAAAAAAAAAAAAAAAAAAAAAAAAAAAAAAAAAAAAAAAAAAAAAAAAAAAAAAAAAAAAAAAAAAAAAAAAAAAAAAAAAAAAAAAAAAAAAAAAAAAAAAAAA\\\", \\\"dtype\\\": \\\"float64\\\", \\\"order\\\": \\\"little\\\", \\\"shape\\\": [84]}}}], \\\"references\\\": []}\",\"header\":\"{\\\"msgid\\\": \\\"2057\\\", \\\"msgtype\\\": \\\"PATCH-DOC\\\"}\",\"metadata\":\"{}\"},\"Tennessee\":{\"content\":\"{\\\"events\\\": [{\\\"attr\\\": \\\"start\\\", \\\"hint\\\": null, \\\"kind\\\": \\\"ModelChanged\\\", \\\"model\\\": {\\\"id\\\": \\\"1871\\\"}, \\\"new\\\": -79.355}, {\\\"attr\\\": \\\"reset_start\\\", \\\"hint\\\": null, \\\"kind\\\": \\\"ModelChanged\\\", \\\"model\\\": {\\\"id\\\": \\\"1871\\\"}, \\\"new\\\": -79.355}, {\\\"attr\\\": \\\"end\\\", \\\"hint\\\": null, \\\"kind\\\": \\\"ModelChanged\\\", \\\"model\\\": {\\\"id\\\": \\\"1871\\\"}, \\\"new\\\": 872.905}, {\\\"attr\\\": \\\"reset_end\\\", \\\"hint\\\": null, \\\"kind\\\": \\\"ModelChanged\\\", \\\"model\\\": {\\\"id\\\": \\\"1871\\\"}, \\\"new\\\": 872.905}, {\\\"attr\\\": \\\"text\\\", \\\"hint\\\": null, \\\"kind\\\": \\\"ModelChanged\\\", \\\"model\\\": {\\\"id\\\": \\\"1874\\\"}, \\\"new\\\": \\\"State: Tennessee\\\"}, {\\\"cols\\\": null, \\\"column_source\\\": {\\\"id\\\": \\\"1903\\\"}, \\\"kind\\\": \\\"ColumnDataChanged\\\", \\\"new\\\": {\\\"Year\\\": [1928, 1929, 1930, 1931, 1932, 1933, 1934, 1935, 1936, 1937, 1938, 1939, 1940, 1941, 1942, 1943, 1944, 1945, 1946, 1947, 1948, 1949, 1950, 1951, 1952, 1953, 1954, 1955, 1956, 1957, 1958, 1959, 1960, 1961, 1962, 1963, 1964, 1965, 1966, 1967, 1968, 1969, 1970, 1971, 1972, 1973, 1974, 1975, 1976, 1977, 1978, 1979, 1980, 1981, 1982, 1983, 1984, 1985, 1986, 1987, 1988, 1989, 1990, 1991, 1992, 1993, 1994, 1995, 1996, 1997, 1998, 1999, 2000, 2001, 2002, 2003, 2004, 2005, 2006, 2007, 2008, 2009, 2010, 2011], \\\"measles\\\": {\\\"__ndarray__\\\": \\\"exSuR+G2c0CF61G4HoVAQIXrUbgefWZA4XoUrkfZYECPwvUoXD9RQI/C9Shcr2BAzczMzMw+hEBI4XoUrqdJQNejcD0KF0lACtejcD2aWkBmZmZmZjp5QOxRuB6FG1tAexSuR+HKV0CuR+F6FGJxQPYoXI/ClVpAZ2ZmZmZeaEBcj8L1KAxnQDMzMzMzc1BA16NwPQrPYkAAAAAAAIBOQML1KFyP4l9AuB6F61GYb0BmZmZmZgZaQClcj8L1KFRAj8L1KFwPaUAfhetRuC5VQGZmZmZmBnpACtejcD2CZUAAAAAAAEiDQKRwPQrXf3xAZmZmZmbMiEBI4XoUrj9xQDMzMzMzv4BAmpmZmZkxeUDC9Shcj9KEQJqZmZmZ8WZAPQrXo3Crg0CkcD0K18NtQKRwPQrXy3RAj8L1KFzPSkCuR+F6FK77P/YoXI/C9eA/j8L1KFwPK0BxPQrXo7A4QKRwPQrXoxJAMzMzMzMzD0CkcD0K16P0P1yPwvUoXBBAMzMzMzMzE0AAAAAAAIAvQMP1KFyPQjZArkfhehSu+z+kcD0K16MOQHsUrkfherQ/uB6F61G4vj97FK5H4XqUPwAAAAAAAAAAAAAAAAAAAAAzMzMzMzPzPwAAAAAAAAAAexSuR+F6lD/NzMzMzMwGQOF6FK5H4f4/mpmZmZmZyT8AAAAAAAAAAAAAAAAAAAAA9ihcj8L14D8AAAAAAAAAAHsUrkfheqQ/mpmZmZmZqT8AAAAAAAAAAAAAAAAAAAAAAAAAAAAAAAAAAAAAAAAAAAAAAAAAAAAAAAAAAAAAAAAAAAAAAAAAAAAAAAAAAAAAAAAAAAAAAAAAAAAAAAAAAAAAAAAAAAAAAAAAAAAAAAAAAAAAAAAAAAAAAAAAAAAA\\\", \\\"dtype\\\": \\\"float64\\\", \\\"order\\\": \\\"little\\\", \\\"shape\\\": [84]}}}], \\\"references\\\": []}\",\"header\":\"{\\\"msgid\\\": \\\"2050\\\", \\\"msgtype\\\": \\\"PATCH-DOC\\\"}\",\"metadata\":\"{}\"},\"Texas\":{\"content\":\"{\\\"events\\\": [{\\\"attr\\\": \\\"start\\\", \\\"hint\\\": null, \\\"kind\\\": \\\"ModelChanged\\\", \\\"model\\\": {\\\"id\\\": \\\"1871\\\"}, \\\"new\\\": -90.61200000000001}, {\\\"attr\\\": \\\"reset_start\\\", \\\"hint\\\": null, \\\"kind\\\": \\\"ModelChanged\\\", \\\"model\\\": {\\\"id\\\": \\\"1871\\\"}, \\\"new\\\": -90.61200000000001}, {\\\"attr\\\": \\\"end\\\", \\\"hint\\\": null, \\\"kind\\\": \\\"ModelChanged\\\", \\\"model\\\": {\\\"id\\\": \\\"1871\\\"}, \\\"new\\\": 996.732}, {\\\"attr\\\": \\\"reset_end\\\", \\\"hint\\\": null, \\\"kind\\\": \\\"ModelChanged\\\", \\\"model\\\": {\\\"id\\\": \\\"1871\\\"}, \\\"new\\\": 996.732}, {\\\"attr\\\": \\\"text\\\", \\\"hint\\\": null, \\\"kind\\\": \\\"ModelChanged\\\", \\\"model\\\": {\\\"id\\\": \\\"1874\\\"}, \\\"new\\\": \\\"State: Texas\\\"}, {\\\"cols\\\": null, \\\"column_source\\\": {\\\"id\\\": \\\"1903\\\"}, \\\"kind\\\": \\\"ColumnDataChanged\\\", \\\"new\\\": {\\\"Year\\\": [1928, 1929, 1930, 1931, 1932, 1933, 1934, 1935, 1936, 1937, 1938, 1939, 1940, 1941, 1942, 1943, 1944, 1945, 1946, 1947, 1948, 1949, 1950, 1951, 1952, 1953, 1954, 1955, 1956, 1957, 1958, 1959, 1960, 1961, 1962, 1963, 1964, 1965, 1966, 1967, 1968, 1969, 1970, 1971, 1972, 1973, 1974, 1975, 1976, 1977, 1978, 1979, 1980, 1981, 1982, 1983, 1984, 1985, 1986, 1987, 1988, 1989, 1990, 1991, 1992, 1993, 1994, 1995, 1996, 1997, 1998, 1999, 2000, 2001, 2002, 2003, 2004, 2005, 2006, 2007, 2008, 2009, 2010, 2011], \\\"measles\\\": {\\\"__ndarray__\\\": \\\"ZmZmZmZWWEBSuB6F69FRQEjhehSuR1JASOF6FK7HQ0CF61G4HiVTQGZmZmZmlnZAw/UoXI+qfkAUrkfhegRQQIXrUbgeZV9AFa5H4XpkbUD2KFyPwtVXQB+F61G4/lxAXI/C9Sg8b0A9CtejcEVzQKRwPQrXKYBAPQrXo3AtbUCamZmZmfGAQOtRuB6Fm2dArkfhehSieUAfhetRuF5bQNejcD0KP4JApHA9Ctdrh0DNzMzMzPRlQArXo3A9RolAXI/C9Si0cUDC9Shcj66LQClcj8L1UIxASOF6FK57fEBSuB6F65mHQFK4HoXrfX1ACtejcD3Mi0BmZmZmZop2QOxRuB6FIYBACtejcD2CZEB7FK5H4cyEQOxRuB6Fi2RAexSuR+Hyd0CF61G4HsVxQGZmZmZm/m1AFK5H4XpUX0AK16NwPcpHQI/C9Shcb0ZAZmZmZmYWUkAK16NwPVpTQNejcD0KVypAPgrXo3A9EEDhehSuR+H2P9ejcD0K1wFAUrgehetRAEB7FK5H4forQClcj8L1KB5AKVyPwvUoEkBxPQrXo3D1Px+F61G4HhhAZmZmZmZm8j+5HoXrUbjOP6RwPQrXowpAexSuR+F6BEApXI/C9SgCQBSuR+F6FARACtejcD0Ktz+uR+F6FG4yQFyPwvUo3DZArkfhehSu8z+uR+F6FK4WQLgehetRuK4/mpmZmZmZuT8K16NwPQq3PwvXo3A9Csc/7FG4HoXrsT8AAAAAAAAAAHsUrkfheoQ/AAAAAAAAAAAAAAAAAAAAAAAAAAAAAAAAAAAAAAAAAAAAAAAAAAAAAAAAAAAAAAAAAAAAAAAAAAAAAAAAAAAAAAAAAAAAAAAAAAAAAAAAAAAAAAAAAAAAAAAAAAAAAAAA\\\", \\\"dtype\\\": \\\"float64\\\", \\\"order\\\": \\\"little\\\", \\\"shape\\\": [84]}}}], \\\"references\\\": []}\",\"header\":\"{\\\"msgid\\\": \\\"2043\\\", \\\"msgtype\\\": \\\"PATCH-DOC\\\"}\",\"metadata\":\"{}\"},\"Utah\":{\"content\":\"{\\\"events\\\": [{\\\"attr\\\": \\\"start\\\", \\\"hint\\\": null, \\\"kind\\\": \\\"ModelChanged\\\", \\\"model\\\": {\\\"id\\\": \\\"1871\\\"}, \\\"new\\\": -258.906}, {\\\"attr\\\": \\\"reset_start\\\", \\\"hint\\\": null, \\\"kind\\\": \\\"ModelChanged\\\", \\\"model\\\": {\\\"id\\\": \\\"1871\\\"}, \\\"new\\\": -258.906}, {\\\"attr\\\": \\\"end\\\", \\\"hint\\\": null, \\\"kind\\\": \\\"ModelChanged\\\", \\\"model\\\": {\\\"id\\\": \\\"1871\\\"}, \\\"new\\\": 2847.966}, {\\\"attr\\\": \\\"reset_end\\\", \\\"hint\\\": null, \\\"kind\\\": \\\"ModelChanged\\\", \\\"model\\\": {\\\"id\\\": \\\"1871\\\"}, \\\"new\\\": 2847.966}, {\\\"attr\\\": \\\"text\\\", \\\"hint\\\": null, \\\"kind\\\": \\\"ModelChanged\\\", \\\"model\\\": {\\\"id\\\": \\\"1874\\\"}, \\\"new\\\": \\\"State: Utah\\\"}, {\\\"cols\\\": null, \\\"column_source\\\": {\\\"id\\\": \\\"1903\\\"}, \\\"kind\\\": \\\"ColumnDataChanged\\\", \\\"new\\\": {\\\"Year\\\": [1928, 1929, 1930, 1931, 1932, 1933, 1934, 1935, 1936, 1937, 1938, 1939, 1940, 1941, 1942, 1943, 1944, 1945, 1946, 1947, 1948, 1949, 1950, 1951, 1952, 1953, 1954, 1955, 1956, 1957, 1958, 1959, 1960, 1961, 1962, 1963, 1964, 1965, 1966, 1967, 1968, 1969, 1970, 1971, 1972, 1973, 1974, 1975, 1976, 1977, 1978, 1979, 1980, 1981, 1982, 1983, 1984, 1985, 1986, 1987, 1988, 1989, 1990, 1991, 1992, 1993, 1994, 1995, 1996, 1997, 1998, 1999, 2000, 2001, 2002, 2003, 2004, 2005, 2006, 2007, 2008, 2009, 2010, 2011], \\\"measles\\\": {\\\"__ndarray__\\\": \\\"Fa5H4XrUMECamZmZmTlRQFyPwvUoU5BAuB6F61G4PUBSuB6F69ErQJqZmZmZIXlACtejcL0RoUAUrkfhehRJQClcj8L1eF1AcT0K16PMeEA9CtejcEOcQKRwPQrXUY9AexSuR+FMlUA+CtejcJFxQIXrUbgeOqRArkfhehTtkkA9CtejcBVpQM3MzMzMUIdA4XoUrkdyk0CPwvUoXM9YQOxRuB6Fd4xAuB6F61F0gECamZmZmXmLQGZmZmZmtnRArkfhehRkhEDhehSuRzuIQD0K16NwT5BAMzMzMzNDWUAfhetRuMJxQMP1KFyPV5tA4XoUrketfECF61G4HveEQFyPwvUoPoFAMzMzMzNzZkCF61G4Hul6QEjhehSuw3NAAAAAAABMcED2KFyPws17QM3MzMzMDFFASOF6FK7nQkBSuB6F61EAQHE9CtejcPE/KVyPwvUoDEAK16NwPQo+QOtRuB6FaytAexSuR+F6JUBcj8L1KFzzP5qZmZmZ2TtAuB6F61HQZEAAAAAAAAD8P+xRuB6F6wlAUrgehetR+D/Xo3A9CtcHQAAAAAAAAAAAUrgehetRyD+F61G4HoXjPwrXo3A9Cvs/AAAAAAAAAAD2KFyPwvXoPwAAAAAAAAAAAAAAAAAAAACZmZmZmZkbQAAAAAAAACFAuR6F61G4KEAAAAAAAAAAAAAAAAAAAAAAMzMzMzMzH0AAAAAAAAAAABSuR+F6FBdAmpmZmZmZqT8AAAAAAAAAAJqZmZmZmbk/pHA9CtejwD8AAAAAAAAAAAAAAAAAAAAAAAAAAAAAAAAAAAAAAAAAAAAAAAAAAAAAAAAAAAAAAAAAAAAAAAAAAAAAAAAAAAAAAAAAAAAAAAAAAAAAAAAAAAAAAAAAAAAA\\\", \\\"dtype\\\": \\\"float64\\\", \\\"order\\\": \\\"little\\\", \\\"shape\\\": [84]}}}], \\\"references\\\": []}\",\"header\":\"{\\\"msgid\\\": \\\"2036\\\", \\\"msgtype\\\": \\\"PATCH-DOC\\\"}\",\"metadata\":\"{}\"},\"Vermont\":{\"content\":\"{\\\"events\\\": [{\\\"attr\\\": \\\"start\\\", \\\"hint\\\": null, \\\"kind\\\": \\\"ModelChanged\\\", \\\"model\\\": {\\\"id\\\": \\\"1871\\\"}, \\\"new\\\": -297.479}, {\\\"attr\\\": \\\"reset_start\\\", \\\"hint\\\": null, \\\"kind\\\": \\\"ModelChanged\\\", \\\"model\\\": {\\\"id\\\": \\\"1871\\\"}, \\\"new\\\": -297.479}, {\\\"attr\\\": \\\"end\\\", \\\"hint\\\": null, \\\"kind\\\": \\\"ModelChanged\\\", \\\"model\\\": {\\\"id\\\": \\\"1871\\\"}, \\\"new\\\": 3272.269}, {\\\"attr\\\": \\\"reset_end\\\", \\\"hint\\\": null, \\\"kind\\\": \\\"ModelChanged\\\", \\\"model\\\": {\\\"id\\\": \\\"1871\\\"}, \\\"new\\\": 3272.269}, {\\\"attr\\\": \\\"text\\\", \\\"hint\\\": null, \\\"kind\\\": \\\"ModelChanged\\\", \\\"model\\\": {\\\"id\\\": \\\"1874\\\"}, \\\"new\\\": \\\"State: Vermont\\\"}, {\\\"cols\\\": null, \\\"column_source\\\": {\\\"id\\\": \\\"1903\\\"}, \\\"kind\\\": \\\"ColumnDataChanged\\\", \\\"new\\\": {\\\"Year\\\": [1928, 1929, 1930, 1931, 1932, 1933, 1934, 1935, 1936, 1937, 1938, 1939, 1940, 1941, 1942, 1943, 1944, 1945, 1946, 1947, 1948, 1949, 1950, 1951, 1952, 1953, 1954, 1955, 1956, 1957, 1958, 1959, 1960, 1961, 1962, 1963, 1964, 1965, 1966, 1967, 1968, 1969, 1970, 1971, 1972, 1973, 1974, 1975, 1976, 1977, 1978, 1979, 1980, 1981, 1982, 1983, 1984, 1985, 1986, 1987, 1988, 1989, 1990, 1991, 1992, 1993, 1994, 1995, 1996, 1997, 1998, 1999, 2000, 2001, 2002, 2003, 2004, 2005, 2006, 2007, 2008, 2009, 2010, 2011], \\\"measles\\\": {\\\"__ndarray__\\\": \\\"zczMzMzsdECkcD0K11NaQK5H4XoUlm1AZmZmZmbmc0C4HoXrUeiRQOF6FK5HiXNAw/UoXI/Kd0DNzMzMzFR4QK5H4XqUPadAKVyPwvUUckDC9Shcj9KZQPYoXI/CFJBACtejcD0ibkAK16NwPQp4QFyPwvUovZBAKVyPwnUnokBI4XoUrnuHQB+F61G4fmZA16NwPQrVikC4HoXrUROVQFK4HoXrcXlAFK5H4Xq9mkDXo3A9Cq9jQB+F61G4q5FA4XoUrkfVlUD2KFyPwp1iQEjhehSuwYdA9ihcj8KbnUD2KFyPwk11QEjhehSuy4dAmpmZmZkpgUAfhetRuGyAQML1KFyP6otArkfhehR+ckDC9ShcjzKAQM3MzMzMXHlAXI/C9SimgkDD9Shcj4p2QArXo3A9ylNA61G4HoXrI0CZmZmZmZn9PxWuR+F6FOY/rkfhehSu/z+amZmZmZk6QFK4HoXrETFAUrgeheuROUDC9Shcj8InQJDC9Shcjy5Aj8L1KFwvQUAUrkfhepRHQArXo3A9CiVAj8L1KFxPN0BxPQrXo/BEQFK4HoXrUdg/UrgehetR2D8AAAAAAAAAAFK4HoXrUeg/AAAAAAAAAAAAAAAAAAAAAOxRuB6F6w9AAAAAAAAAAAAK16NwPQrHPwAAAAAAAAAAuB6F61G45j8AAAAAAAAAAHE9CtejcBVAw/UoXI/CxT8AAAAAAAAAAMP1KFyPwsU/w/UoXI/CI0AAAAAAAAAAAAAAAAAAAAAAexSuR+F6xD97FK5H4XrEPwAAAAAAAAAAAAAAAAAAAAAAAAAAAAAAAAAAAAAAAAAAAAAAAAAAAAAAAAAAAAAAAAAAAAAAAAAAAAAAAAAAAAAAAAAAAAAAAAAAAAAAAAAA\\\", \\\"dtype\\\": \\\"float64\\\", \\\"order\\\": \\\"little\\\", \\\"shape\\\": [84]}}}], \\\"references\\\": []}\",\"header\":\"{\\\"msgid\\\": \\\"2029\\\", \\\"msgtype\\\": \\\"PATCH-DOC\\\"}\",\"metadata\":\"{}\"},\"Virginia\":{\"content\":\"{\\\"events\\\": [{\\\"attr\\\": \\\"start\\\", \\\"hint\\\": null, \\\"kind\\\": \\\"ModelChanged\\\", \\\"model\\\": {\\\"id\\\": \\\"1871\\\"}, \\\"new\\\": -115.876}, {\\\"attr\\\": \\\"reset_start\\\", \\\"hint\\\": null, \\\"kind\\\": \\\"ModelChanged\\\", \\\"model\\\": {\\\"id\\\": \\\"1871\\\"}, \\\"new\\\": -115.876}, {\\\"attr\\\": \\\"end\\\", \\\"hint\\\": null, \\\"kind\\\": \\\"ModelChanged\\\", \\\"model\\\": {\\\"id\\\": \\\"1871\\\"}, \\\"new\\\": 1274.636}, {\\\"attr\\\": \\\"reset_end\\\", \\\"hint\\\": null, \\\"kind\\\": \\\"ModelChanged\\\", \\\"model\\\": {\\\"id\\\": \\\"1871\\\"}, \\\"new\\\": 1274.636}, {\\\"attr\\\": \\\"text\\\", \\\"hint\\\": null, \\\"kind\\\": \\\"ModelChanged\\\", \\\"model\\\": {\\\"id\\\": \\\"1874\\\"}, \\\"new\\\": \\\"State: Virginia\\\"}, {\\\"cols\\\": null, \\\"column_source\\\": {\\\"id\\\": \\\"1903\\\"}, \\\"kind\\\": \\\"ColumnDataChanged\\\", \\\"new\\\": {\\\"Year\\\": [1928, 1929, 1930, 1931, 1932, 1933, 1934, 1935, 1936, 1937, 1938, 1939, 1940, 1941, 1942, 1943, 1944, 1945, 1946, 1947, 1948, 1949, 1950, 1951, 1952, 1953, 1954, 1955, 1956, 1957, 1958, 1959, 1960, 1961, 1962, 1963, 1964, 1965, 1966, 1967, 1968, 1969, 1970, 1971, 1972, 1973, 1974, 1975, 1976, 1977, 1978, 1979, 1980, 1981, 1982, 1983, 1984, 1985, 1986, 1987, 1988, 1989, 1990, 1991, 1992, 1993, 1994, 1995, 1996, 1997, 1998, 1999, 2000, 2001, 2002, 2003, 2004, 2005, 2006, 2007, 2008, 2009, 2010, 2011], \\\"measles\\\": {\\\"__ndarray__\\\": \\\"AAAAAAAAAAAAAAAAAAAAAAAAAAAAAAAAAAAAAAAAAAAzMzMzM7NKQK5H4XoU/nVA16NwPQobkkDNzMzMzLqGQIXrUbge9V9ACtejcD0WdUApXI/C9bx9QKRwPQrXo3hAexSuR+F6aUCF61G4Hi2QQHsUrkfhMmZAPQrXo3BVdUAfhetRuLZ9QM3MzMzMHFBA4XoUrkcdeED2KFyPwkVuQJqZmZmZ6WdAFK5H4XpKhEB7FK5H4VpVQI/C9Shci3lAuB6F61GId0AfhetRuF5hQBSuR+F6DIVAZmZmZmYGXkAK16NwPdSDQD0K16NwFWBAMzMzMzMxgUBxPQrXo9R1QDMzMzMzM2dAMzMzMzPfcUB7FK5H4eJsQGZmZmZmjmVAKVyPwvUscUAVrkfhelRXQArXo3A9SklAH4XrUbj+SUB7FK5H4foiQMP1KFyPQjRAFK5H4Xr0SUCPwvUoXC9AQKRwPQrXo/g/exSuR+F6IUCF61G4HoXrPzMzMzMzM+s/PQrXo3B9MECF61G4HmVJQFK4HoXr8UhACtejcD0KGEBI4XoUrkcaQLgehetRuM4/NDMzMzMzwz+uR+F6FK7XP+xRuB6F67E/Fa5H4XoU3j8zMzMzMzPrP3sUrkfhepQ/16NwPQrXC0DiehSuR+HaP4XrUbgehfM/CtejcD0K1z8AAAAAAADQPwAAAAAAAAAAexSuR+F6pD8AAAAAAAAAAHsUrkfheoQ/uB6F61G4nj8AAAAAAAAAAAAAAAAAANA/uB6F61G4nj97FK5H4XqEPwAAAAAAAAAAAAAAAAAAAAAAAAAAAAAAAAAAAAAAAAAAAAAAAAAAAAAAAAAAAAAAAAAAAAAAAAAAAAAAAAAAAAAAAAAAAAAAAAAAAAAAAAAA\\\", \\\"dtype\\\": \\\"float64\\\", \\\"order\\\": \\\"little\\\", \\\"shape\\\": [84]}}}], \\\"references\\\": []}\",\"header\":\"{\\\"msgid\\\": \\\"2022\\\", \\\"msgtype\\\": \\\"PATCH-DOC\\\"}\",\"metadata\":\"{}\"},\"Washington\":{\"content\":\"{\\\"events\\\": [{\\\"attr\\\": \\\"start\\\", \\\"hint\\\": null, \\\"kind\\\": \\\"ModelChanged\\\", \\\"model\\\": {\\\"id\\\": \\\"1871\\\"}, \\\"new\\\": -115.81600000000002}, {\\\"attr\\\": \\\"reset_start\\\", \\\"hint\\\": null, \\\"kind\\\": \\\"ModelChanged\\\", \\\"model\\\": {\\\"id\\\": \\\"1871\\\"}, \\\"new\\\": -115.81600000000002}, {\\\"attr\\\": \\\"end\\\", \\\"hint\\\": null, \\\"kind\\\": \\\"ModelChanged\\\", \\\"model\\\": {\\\"id\\\": \\\"1871\\\"}, \\\"new\\\": 1273.976}, {\\\"attr\\\": \\\"reset_end\\\", \\\"hint\\\": null, \\\"kind\\\": \\\"ModelChanged\\\", \\\"model\\\": {\\\"id\\\": \\\"1871\\\"}, \\\"new\\\": 1273.976}, {\\\"attr\\\": \\\"text\\\", \\\"hint\\\": null, \\\"kind\\\": \\\"ModelChanged\\\", \\\"model\\\": {\\\"id\\\": \\\"1874\\\"}, \\\"new\\\": \\\"State: Washington\\\"}, {\\\"cols\\\": null, \\\"column_source\\\": {\\\"id\\\": \\\"1903\\\"}, \\\"kind\\\": \\\"ColumnDataChanged\\\", \\\"new\\\": {\\\"Year\\\": [1928, 1929, 1930, 1931, 1932, 1933, 1934, 1935, 1936, 1937, 1938, 1939, 1940, 1941, 1942, 1943, 1944, 1945, 1946, 1947, 1948, 1949, 1950, 1951, 1952, 1953, 1954, 1955, 1956, 1957, 1958, 1959, 1960, 1961, 1962, 1963, 1964, 1965, 1966, 1967, 1968, 1969, 1970, 1971, 1972, 1973, 1974, 1975, 1976, 1977, 1978, 1979, 1980, 1981, 1982, 1983, 1984, 1985, 1986, 1987, 1988, 1989, 1990, 1991, 1992, 1993, 1994, 1995, 1996, 1997, 1998, 1999, 2000, 2001, 2002, 2003, 2004, 2005, 2006, 2007, 2008, 2009, 2010, 2011], \\\"measles\\\": {\\\"__ndarray__\\\": \\\"hetRuB6NdUAzMzMzMxNvQIXrUbgevYNA9ihcj8KtaEA+CtejcL+DQHsUrkfhemNAPQrXo3CdfUD2KFyPwmuAQKRwPQrX+3xA9ihcj8LVWUAfhetRuA5cQHE9CtejGJJAH4XrUbi8jEAfhetRuI5dQIXrUbgeLYRAw/UoXI/oh0BxPQrXo4BwQHsUrkfhOnJAexSuR+EMgEApXI/C9ehPQHE9CtejJH5AmpmZmZk5gUDsUbgehdNhQMP1KFyP6oZAKVyPwvV4bkBmZmZmZpJ9QPYoXI/Cy4pAFK5H4XqQekDNzMzMzBR+QClcj8L1MoNAexSuR+ECeED2KFyPwgOAQDMzMzMzg3xAhetRuB7VckDC9ShcjwCGQK5H4XoU3mRA61G4HoUVhUBmZmZmZvZvQD0K16Nw1WRAzczMzMxcZkAAAAAAAEAyQOF6FK5H4fo/9ihcj8K1M0AzMzMzM5NAQB+F61G4XjxASOF6FK4HOUDD9Shcj8IBQEfhehSuRyBAhetRuB6FJEBSuB6F69EoQD4K16NwPSVAZmZmZmYmOUAzMzMzMzMQQJqZmZmZmbk/MzMzMzMz6z9mZmZmZmbmP0jhehSuRw9A16NwPQrX/z/Xo3A9CtcSQClcj8L1KPA/NDMzMzMzwz/2KFyPwvXwP9ejcD0K1xpAehSuR+F6+D8AAAAAAAAAAAAAAAAAAAAAAAAAAAAAAAD2KFyPwvXYP3E9CtejcO0/SOF6FK5H0T8AAAAAAAAAAAAAAAAAAAAAAAAAAAAAAAAAAAAAAAAAAAAAAAAAAAAAAAAAAAAAAAAAAAAAAAAAAAAAAAAAAAAAAAAAAAAAAAAAAAAAAAAAAAAAAAAAAAAAAAAAAAAAAAAAAAAAAAAAAAAAAAAAAAAA\\\", \\\"dtype\\\": \\\"float64\\\", \\\"order\\\": \\\"little\\\", \\\"shape\\\": [84]}}}], \\\"references\\\": []}\",\"header\":\"{\\\"msgid\\\": \\\"2015\\\", \\\"msgtype\\\": \\\"PATCH-DOC\\\"}\",\"metadata\":\"{}\"},\"West Virginia\":{\"content\":\"{\\\"events\\\": [{\\\"attr\\\": \\\"start\\\", \\\"hint\\\": null, \\\"kind\\\": \\\"ModelChanged\\\", \\\"model\\\": {\\\"id\\\": \\\"1871\\\"}, \\\"new\\\": -83.269}, {\\\"attr\\\": \\\"reset_start\\\", \\\"hint\\\": null, \\\"kind\\\": \\\"ModelChanged\\\", \\\"model\\\": {\\\"id\\\": \\\"1871\\\"}, \\\"new\\\": -83.269}, {\\\"attr\\\": \\\"end\\\", \\\"hint\\\": null, \\\"kind\\\": \\\"ModelChanged\\\", \\\"model\\\": {\\\"id\\\": \\\"1871\\\"}, \\\"new\\\": 915.9590000000001}, {\\\"attr\\\": \\\"reset_end\\\", \\\"hint\\\": null, \\\"kind\\\": \\\"ModelChanged\\\", \\\"model\\\": {\\\"id\\\": \\\"1871\\\"}, \\\"new\\\": 915.9590000000001}, {\\\"attr\\\": \\\"text\\\", \\\"hint\\\": null, \\\"kind\\\": \\\"ModelChanged\\\", \\\"model\\\": {\\\"id\\\": \\\"1874\\\"}, \\\"new\\\": \\\"State: West Virginia\\\"}, {\\\"cols\\\": null, \\\"column_source\\\": {\\\"id\\\": \\\"1903\\\"}, \\\"kind\\\": \\\"ColumnDataChanged\\\", \\\"new\\\": {\\\"Year\\\": [1928, 1929, 1930, 1931, 1932, 1933, 1934, 1935, 1936, 1937, 1938, 1939, 1940, 1941, 1942, 1943, 1944, 1945, 1946, 1947, 1948, 1949, 1950, 1951, 1952, 1953, 1954, 1955, 1956, 1957, 1958, 1959, 1960, 1961, 1962, 1963, 1964, 1965, 1966, 1967, 1968, 1969, 1970, 1971, 1972, 1973, 1974, 1975, 1976, 1977, 1978, 1979, 1980, 1981, 1982, 1983, 1984, 1985, 1986, 1987, 1988, 1989, 1990, 1991, 1992, 1993, 1994, 1995, 1996, 1997, 1998, 1999, 2000, 2001, 2002, 2003, 2004, 2005, 2006, 2007, 2008, 2009, 2010, 2011], \\\"measles\\\": {\\\"__ndarray__\\\": \\\"j8L1KFx/aEAK16NwPcJ3QGZmZmZmtmNArkfhehQ2ckAzMzMzM72CQD4K16Nw9XJAmpmZmZn5bEAzMzMzM++CQOF6FK5HoU9Aw/UoXI+CW0DhehSuR5mCQBSuR+F6xFhACtejcD3KPUBSuB6F64GCQHE9Ctej/HJAAAAAAAC4YEDsUbgehRN/QClcj8L16FNAUrgeheuRYUCkcD0K1/NhQBSuR+F6eHJAZmZmZmaOZ0DXo3A9ClNyQEjhehSuZ2xAAAAAAADgcEApXI/C9VhzQK5H4XoUAIBA16NwPQqHaUAfhetRuFiCQOxRuB6FI2dAmZmZmZmJhEAK16NwPWZ5QBWuR+F6zGdAXI/C9SjQekApXI/C9TiBQLgehetRwoVAmpmZmZk1gEDsUbgehQWKQDMzMzMzl3NAFa5H4XokVUAAAAAAAIA0QKRwPQrXoytAexSuR+G6M0A+CtejcP0/QIbrUbgeBS9AKVyPwvUoKUBcj8L1KFwpQPYoXI/CdSdAhetRuB4FJkA9CtejcL0rQGdmZmZmxkZAKVyPwvUoEkAAAAAAAAD8PzMzMzMzM+M/mpmZmZmZuT+amZmZmZmpPwAAAAAAAAAAFa5H4XoUBEApXI/C9Si8PwAAAAAAAAAAH4XrUbge1T+amZmZmZkHQB+F61G4HtU/AAAAAAAAAAAAAAAAAAAAAAAAAAAAAAAArkfhehSu/z8AAAAAAAAAAAAAAAAAAAAAmpmZmZmZqT8AAAAAAAAAAAAAAAAAAAAAAAAAAAAAAAAAAAAAAAAAAAAAAAAAAAAAAAAAAAAAAAAAAAAAAAAAAAAAAAAAAAAAAAAAAAAAAAAAAAAAAAAAAAAAAAAAAAAAAAAAAAAAAAAAAAAAAAAAAAAAAAAAAAAA\\\", \\\"dtype\\\": \\\"float64\\\", \\\"order\\\": \\\"little\\\", \\\"shape\\\": [84]}}}], \\\"references\\\": []}\",\"header\":\"{\\\"msgid\\\": \\\"2008\\\", \\\"msgtype\\\": \\\"PATCH-DOC\\\"}\",\"metadata\":\"{}\"},\"Wisconsin\":{\"content\":\"{\\\"events\\\": [{\\\"attr\\\": \\\"start\\\", \\\"hint\\\": null, \\\"kind\\\": \\\"ModelChanged\\\", \\\"model\\\": {\\\"id\\\": \\\"1871\\\"}, \\\"new\\\": -234.80500000000004}, {\\\"attr\\\": \\\"reset_start\\\", \\\"hint\\\": null, \\\"kind\\\": \\\"ModelChanged\\\", \\\"model\\\": {\\\"id\\\": \\\"1871\\\"}, \\\"new\\\": -234.80500000000004}, {\\\"attr\\\": \\\"end\\\", \\\"hint\\\": null, \\\"kind\\\": \\\"ModelChanged\\\", \\\"model\\\": {\\\"id\\\": \\\"1871\\\"}, \\\"new\\\": 2582.855}, {\\\"attr\\\": \\\"reset_end\\\", \\\"hint\\\": null, \\\"kind\\\": \\\"ModelChanged\\\", \\\"model\\\": {\\\"id\\\": \\\"1871\\\"}, \\\"new\\\": 2582.855}, {\\\"attr\\\": \\\"text\\\", \\\"hint\\\": null, \\\"kind\\\": \\\"ModelChanged\\\", \\\"model\\\": {\\\"id\\\": \\\"1874\\\"}, \\\"new\\\": \\\"State: Wisconsin\\\"}, {\\\"cols\\\": null, \\\"column_source\\\": {\\\"id\\\": \\\"1903\\\"}, \\\"kind\\\": \\\"ColumnDataChanged\\\", \\\"new\\\": {\\\"Year\\\": [1928, 1929, 1930, 1931, 1932, 1933, 1934, 1935, 1936, 1937, 1938, 1939, 1940, 1941, 1942, 1943, 1944, 1945, 1946, 1947, 1948, 1949, 1950, 1951, 1952, 1953, 1954, 1955, 1956, 1957, 1958, 1959, 1960, 1961, 1962, 1963, 1964, 1965, 1966, 1967, 1968, 1969, 1970, 1971, 1972, 1973, 1974, 1975, 1976, 1977, 1978, 1979, 1980, 1981, 1982, 1983, 1984, 1985, 1986, 1987, 1988, 1989, 1990, 1991, 1992, 1993, 1994, 1995, 1996, 1997, 1998, 1999, 2000, 2001, 2002, 2003, 2004, 2005, 2006, 2007, 2008, 2009, 2010, 2011], \\\"measles\\\": {\\\"__ndarray__\\\": \\\"16NwPQonX0C4HoXrUcSPQHE9CtejZIdAhetRuB6pf0AUrkfhejqNQEjhehSu13NAj8L1KFzTlEDsUbgehR2WQBWuR+F6pF9AMzMzMzOjUECamZmZGViiQLgehetRAIhAmpmZmZnjg0DC9ShcjwiPQLgehetRbohAXI/C9SgqlEBxPQrXo/+VQHE9CtejsGRAZmZmZmbWlEAK16NwPfJ3QDMzMzMz8YxA4XoUrkdMkkBI4XoUrhWBQML1KFyP8I1AuB6F61HTkUCPwvUoXDuSQIXrUbgeGXJAMzMzMzO0lUBSuB6F612GQK5H4XoUpo5AFa5H4XoFmkC4HoXrUQx4QHE9CtejCJFAPQrXo3AnjUA+CtejcNV2QOF6FK5HFJZAmpmZmZkld0DsUbgehSN+QMP1KFyPAIdApHA9CtfDSECkcD0K1+M/QClcj8L1qC5AhetRuB4FP0BSuB6F6+FVQPYoXI/CFVNAuB6F61H4PUDNzMzMzMwrQKRwPQrXA0BAw/UoXI8iVkDNzMzMzKxGQMP1KFyPokBAhetRuB6FK0AK16NwPUo/QLgehetRuL4/exSuR+F6lD8AAAAAAAAAAM3MzMzMzOQ/MzMzMzMz8z9mZmZmZmYXQClcj8L1KAhAAAAAAAAAAADC9Shcj8IZQEjhehSuxypA7FG4HoXrwT8AAAAAAAAAAAAAAAAAAAAAexSuR+F6pD8AAAAAAAAAAHsUrkfhepQ/AAAAAAAAAAAAAAAAAAAAAAAAAAAAAAAAAAAAAAAAAAAAAAAAAAAAAAAAAAAAAAAAAAAAAAAAAAAAAAAAAAAAAAAAAAAAAAAAAAAAAAAAAAAAAAAAAAAAAAAAAAAAAAAAAAAAAAAAAAAAAAAAAAAAAAAAAAAAAAAA\\\", \\\"dtype\\\": \\\"float64\\\", \\\"order\\\": \\\"little\\\", \\\"shape\\\": [84]}}}], \\\"references\\\": []}\",\"header\":\"{\\\"msgid\\\": \\\"2001\\\", \\\"msgtype\\\": \\\"PATCH-DOC\\\"}\",\"metadata\":\"{}\"},\"Wyoming\":{\"content\":\"{\\\"events\\\": [{\\\"attr\\\": \\\"start\\\", \\\"hint\\\": null, \\\"kind\\\": \\\"ModelChanged\\\", \\\"model\\\": {\\\"id\\\": \\\"1871\\\"}, \\\"new\\\": -139.234}, {\\\"attr\\\": \\\"reset_start\\\", \\\"hint\\\": null, \\\"kind\\\": \\\"ModelChanged\\\", \\\"model\\\": {\\\"id\\\": \\\"1871\\\"}, \\\"new\\\": -139.234}, {\\\"attr\\\": \\\"end\\\", \\\"hint\\\": null, \\\"kind\\\": \\\"ModelChanged\\\", \\\"model\\\": {\\\"id\\\": \\\"1871\\\"}, \\\"new\\\": 1531.5739999999998}, {\\\"attr\\\": \\\"reset_end\\\", \\\"hint\\\": null, \\\"kind\\\": \\\"ModelChanged\\\", \\\"model\\\": {\\\"id\\\": \\\"1871\\\"}, \\\"new\\\": 1531.5739999999998}, {\\\"attr\\\": \\\"text\\\", \\\"hint\\\": null, \\\"kind\\\": \\\"ModelChanged\\\", \\\"model\\\": {\\\"id\\\": \\\"1874\\\"}, \\\"new\\\": \\\"State: Wyoming\\\"}, {\\\"cols\\\": null, \\\"column_source\\\": {\\\"id\\\": \\\"1903\\\"}, \\\"kind\\\": \\\"ColumnDataChanged\\\", \\\"new\\\": {\\\"Year\\\": [1928, 1929, 1930, 1931, 1932, 1933, 1934, 1935, 1936, 1937, 1938, 1939, 1940, 1941, 1942, 1943, 1944, 1945, 1946, 1947, 1948, 1949, 1950, 1951, 1952, 1953, 1954, 1955, 1956, 1957, 1958, 1959, 1960, 1961, 1962, 1963, 1964, 1965, 1966, 1967, 1968, 1969, 1970, 1971, 1972, 1973, 1974, 1975, 1976, 1977, 1978, 1979, 1980, 1981, 1982, 1983, 1984, 1985, 1986, 1987, 1988, 1989, 1990, 1991, 1992, 1993, 1994, 1995, 1996, 1997, 1998, 1999, 2000, 2001, 2002, 2003, 2004, 2005, 2006, 2007, 2008, 2009, 2010, 2011], \\\"measles\\\": {\\\"__ndarray__\\\": \\\"AAAAAABgbEDC9Shcj4JzQM3MzMzMWHVAuB6F61FYTkAzMzMzM0NuQFK4HoXrIW9A61G4HoU7jkCQwvUoXDuNQML1KFyPwkxACtejcD16UUA9CtejcIl2QI/C9ShcwZVAmZmZmZmZeEBI4XoUrtt3QFyPwvUo2oNAPQrXo3ACkUBxPQrXo8CGQMP1KFyPsmNAPQrXo3DZeECuR+F6FEZlQOF6FK5HK4lAPQrXo3AtaUBI4XoUrj9qQHE9CtejjIdAAAAAAAD4bEBxPQrXoxh/QHE9CtejfHhAwvUoXI+aZkDrUbgehQWEQD4K16NwXVFAKVyPwvUUe0AzMzMzM5NxQFyPwvUoNGpAzczMzMz0YUD2KFyPwt1hQHsUrkfhelhAw/UoXI8SVUDNzMzMzERsQML1KFyPMlJA4XoUrkcRUEAAAAAAAAAxQHE9CtejcANA16NwPQrXCUA9CtejcH04QMzMzMzMzCxArkfhehSuM0DXo3A9CtcRQAAAAAAAAOg/CtejcD0K7z8UrkfhehQXQAAAAAAAAAAAhetRuB6F2z8AAAAAAAAAAJqZmZmZmck/AAAAAAAAAAAAAAAAAAAAAAAAAAAAAAAAKVyPwvUo8D8AAAAAAAAAAAAAAAAAAAAAAAAAAAAAAAAAAAAAAAAAAAAAAAAAAAAAzczMzMzM5D/hehSuR+HKPwAAAAAAAAAAAAAAAAAAAAAAAAAAAAAAAJqZmZmZmck/hetRuB6F4z8AAAAAAAAAAAAAAAAAAAAAAAAAAAAAAAAAAAAAAAAAAAAAAAAAAAAAAAAAAAAAAAAAAAAAAAAAAAAAAAAAAAAAAAAAAAAAAAAAAAAAAAAAAAAAAAAAAAAAAAAAAAAAAAAAAAAAAAAAAAAAAAAAAAAA\\\", \\\"dtype\\\": \\\"float64\\\", \\\"order\\\": \\\"little\\\", \\\"shape\\\": [84]}}}], \\\"references\\\": []}\",\"header\":\"{\\\"msgid\\\": \\\"1994\\\", \\\"msgtype\\\": \\\"PATCH-DOC\\\"}\",\"metadata\":\"{}\"}},\"values\":[\"Alabama\"],\"widgets\":{\"1954\":0}},\"id\":\"1966\",\"type\":\"panel.models.state.State\"},{\"attributes\":{\"code\":\"\\nvar state = null\\nfor (var root of cb_obj.document.roots()) {\\n  if (root.id == '1966') {\\n    state = root;\\n    break;\\n  }\\n}\\nif (!state) { return; }\\nstate.set_state(cb_obj, cb_obj.value)\\n\"},\"id\":\"1967\",\"type\":\"CustomJS\"},{\"attributes\":{\"line_color\":\"#30a2da\",\"line_width\":2,\"x\":{\"field\":\"Year\"},\"y\":{\"field\":\"measles\"}},\"id\":\"1911\",\"type\":\"Line\"},{\"attributes\":{\"margin\":[5,5,5,5],\"name\":\"HSpacer06660\",\"sizing_mode\":\"stretch_width\"},\"id\":\"1950\",\"type\":\"Spacer\"},{\"attributes\":{\"coordinates\":null,\"data_source\":{\"id\":\"1903\"},\"glyph\":{\"id\":\"1906\"},\"group\":null,\"hover_glyph\":null,\"muted_glyph\":{\"id\":\"1908\"},\"nonselection_glyph\":{\"id\":\"1907\"},\"selection_glyph\":{\"id\":\"1911\"},\"view\":{\"id\":\"1910\"}},\"id\":\"1909\",\"type\":\"GlyphRenderer\"},{\"attributes\":{\"children\":[{\"id\":\"1952\"},{\"id\":\"1953\"},{\"id\":\"1955\"}],\"margin\":[0,0,0,0],\"name\":\"Column06658\"},\"id\":\"1951\",\"type\":\"Column\"},{\"attributes\":{},\"id\":\"1913\",\"type\":\"BasicTickFormatter\"},{\"attributes\":{\"js_property_callbacks\":{\"change:value\":[{\"id\":\"1967\"}]},\"margin\":[20,20,20,20],\"min_width\":250,\"options\":[\"Alabama\",\"Alaska\",\"Arizona\",\"Arkansas\",\"California\",\"Colorado\",\"Connecticut\",\"Delaware\",\"District of Columbia\",\"Florida\",\"Georgia\",\"Hawaii\",\"Idaho\",\"Illinois\",\"Indiana\",\"Iowa\",\"Kansas\",\"Kentucky\",\"Louisiana\",\"Maine\",\"Maryland\",\"Massachusetts\",\"Michigan\",\"Minnesota\",\"Mississippi\",\"Missouri\",\"Montana\",\"Nebraska\",\"Nevada\",\"New Hampshire\",\"New Jersey\",\"New Mexico\",\"New York\",\"North Carolina\",\"North Dakota\",\"Ohio\",\"Oklahoma\",\"Oregon\",\"Pennsylvania\",\"Rhode Island\",\"South Carolina\",\"South Dakota\",\"Tennessee\",\"Texas\",\"Utah\",\"Vermont\",\"Virginia\",\"Washington\",\"West Virginia\",\"Wisconsin\",\"Wyoming\"],\"title\":\"State\",\"value\":\"Alabama\",\"width\":250},\"id\":\"1954\",\"type\":\"Select\"},{\"attributes\":{},\"id\":\"1917\",\"type\":\"AllLabels\"},{\"attributes\":{},\"id\":\"1894\",\"type\":\"ResetTool\"},{\"attributes\":{\"margin\":[5,5,5,5],\"name\":\"VSpacer06657\",\"sizing_mode\":\"stretch_height\"},\"id\":\"1955\",\"type\":\"Spacer\"},{\"attributes\":{\"overlay\":{\"id\":\"1895\"}},\"id\":\"1893\",\"type\":\"BoxZoomTool\"},{\"attributes\":{},\"id\":\"1890\",\"type\":\"SaveTool\"},{\"attributes\":{},\"id\":\"1914\",\"type\":\"AllLabels\"},{\"attributes\":{},\"id\":\"1892\",\"type\":\"WheelZoomTool\"},{\"attributes\":{},\"id\":\"1887\",\"type\":\"BasicTicker\"},{\"attributes\":{\"axis_label\":\"measles\",\"coordinates\":null,\"formatter\":{\"id\":\"1916\"},\"group\":null,\"major_label_policy\":{\"id\":\"1917\"},\"ticker\":{\"id\":\"1887\"}},\"id\":\"1886\",\"type\":\"LinearAxis\"},{\"attributes\":{\"margin\":[5,5,5,5],\"name\":\"HSpacer06659\",\"sizing_mode\":\"stretch_width\"},\"id\":\"1869\",\"type\":\"Spacer\"},{\"attributes\":{},\"id\":\"1891\",\"type\":\"PanTool\"},{\"attributes\":{\"tools\":[{\"id\":\"1872\"},{\"id\":\"1890\"},{\"id\":\"1891\"},{\"id\":\"1892\"},{\"id\":\"1893\"},{\"id\":\"1894\"}]},\"id\":\"1896\",\"type\":\"Toolbar\"},{\"attributes\":{\"bottom_units\":\"screen\",\"coordinates\":null,\"fill_alpha\":0.5,\"fill_color\":\"lightgrey\",\"group\":null,\"left_units\":\"screen\",\"level\":\"overlay\",\"line_alpha\":1.0,\"line_color\":\"black\",\"line_dash\":[4,4],\"line_width\":2,\"right_units\":\"screen\",\"syncable\":false,\"top_units\":\"screen\"},\"id\":\"1895\",\"type\":\"BoxAnnotation\"},{\"attributes\":{\"axis\":{\"id\":\"1886\"},\"coordinates\":null,\"dimension\":1,\"grid_line_color\":null,\"group\":null,\"ticker\":null},\"id\":\"1889\",\"type\":\"Grid\"},{\"attributes\":{\"axis_label\":\"Year\",\"coordinates\":null,\"formatter\":{\"id\":\"1913\"},\"group\":null,\"major_label_policy\":{\"id\":\"1914\"},\"ticker\":{\"id\":\"1883\"}},\"id\":\"1882\",\"type\":\"LinearAxis\"},{\"attributes\":{},\"id\":\"1916\",\"type\":\"BasicTickFormatter\"},{\"attributes\":{},\"id\":\"1883\",\"type\":\"BasicTicker\"},{\"attributes\":{\"data\":{\"Year\":[1928,1929,1930,1931,1932,1933,1934,1935,1936,1937,1938,1939,1940,1941,1942,1943,1944,1945,1946,1947,1948,1949,1950,1951,1952,1953,1954,1955,1956,1957,1958,1959,1960,1961,1962,1963,1964,1965,1966,1967,1968,1969,1970,1971,1972,1973,1974,1975,1976,1977,1978,1979,1980,1981,1982,1983,1984,1985,1986,1987,1988,1989,1990,1991,1992,1993,1994,1995,1996,1997,1998,1999,2000,2001,2002,2003,2004,2005,2006,2007,2008,2009,2010,2011],\"measles\":{\"__ndarray__\":\"pHA9CtfvdEDsUbgehftbQAAAAAAAoGNAcT0K16MUdUDsUbgehWskQK5H4XoUTlBAXI/C9ShygkA9CtejcJVwQEjhehSuxzRA9ihcj8J1NkDXo3A9Cgd/QBSuR+F61GZASOF6FK7HXEDsUbgehZdyQJqZmZmZiV9ACtejcD1aYECkcD0K15tvQBWuR+F6VDtAAAAAAACwX0BxPQrXo9BfQPYoXI/CRVFAzczMzMwMd0AzMzMzM3NJQI/C9Shcz1lA7FG4HoX7dUCPwvUoXH9XQArXo3A9hnFA7FG4HoVrUUAAAAAAAPhsQHE9CtejvHJAexSuR+FKbkBcj8L1KAxbQArXo3A9qk9AcT0K16OAU0CF61G4HuVRQB+F61G4XkFAPQrXo3CtgEDNzMzMzAxRQHE9CtejMEpAPQrXo3B9Q0CamZmZmZkSQArXo3A9Ctc/4XoUrkfhK0AfhetRuJ5LQBWuR+F6FBBA4XoUrkfh2j+QwvUoXI/iP6RwPQrXo8A/AAAAAAAAAAB7FK5H4XoAQHA9CtejcAtAzczMzMzMCkA9CtejcD3iPwAAAAAAAAAAmpmZmZmZqT+4HoXrUbiePwAAAAAAAAAAAAAAAAAAAAB7FK5H4XqUPwvXo3A9Crc/exSuR+F6lD9cj8L1KFz3P83MzMzMzOQ/exSuR+F6lD8AAAAAAAAAAHsUrkfhepQ/AAAAAAAAAAAAAAAAAAAAAAAAAAAAAAAA7FG4HoXrwT8AAAAAAAAAAAAAAAAAAAAAAAAAAAAAAAAAAAAAAAAAAHsUrkfhesQ/AAAAAAAAAAAAAAAAAAAAAAAAAAAAAAAAAAAAAAAAAAAAAAAAAAAAAAAAAAAAAAAAAAAAAAAAAAAAAAAAAAAAAAAAAAAAAAAA\",\"dtype\":\"float64\",\"order\":\"little\",\"shape\":[84]}},\"selected\":{\"id\":\"1904\"},\"selection_policy\":{\"id\":\"1937\"}},\"id\":\"1903\",\"type\":\"ColumnDataSource\"},{\"attributes\":{\"axis\":{\"id\":\"1882\"},\"coordinates\":null,\"grid_line_color\":null,\"group\":null,\"ticker\":null},\"id\":\"1885\",\"type\":\"Grid\"},{\"attributes\":{\"coordinates\":null,\"group\":null,\"text\":\"State: Alabama\",\"text_color\":\"black\",\"text_font_size\":\"12pt\"},\"id\":\"1874\",\"type\":\"Title\"},{\"attributes\":{},\"id\":\"1878\",\"type\":\"LinearScale\"},{\"attributes\":{\"below\":[{\"id\":\"1882\"}],\"center\":[{\"id\":\"1885\"},{\"id\":\"1889\"}],\"height\":300,\"left\":[{\"id\":\"1886\"}],\"margin\":[5,5,5,5],\"min_border_bottom\":10,\"min_border_left\":10,\"min_border_right\":10,\"min_border_top\":10,\"renderers\":[{\"id\":\"1909\"}],\"sizing_mode\":\"fixed\",\"title\":{\"id\":\"1874\"},\"toolbar\":{\"id\":\"1896\"},\"width\":500,\"x_range\":{\"id\":\"1870\"},\"x_scale\":{\"id\":\"1878\"},\"y_range\":{\"id\":\"1871\"},\"y_scale\":{\"id\":\"1880\"}},\"id\":\"1873\",\"subtype\":\"Figure\",\"type\":\"Plot\"},{\"attributes\":{\"end\":649.297,\"reset_end\":649.297,\"reset_start\":-59.027,\"start\":-59.027,\"tags\":[[[\"measles\",\"measles\",null]]]},\"id\":\"1871\",\"type\":\"Range1d\"},{\"attributes\":{\"margin\":[5,5,5,5],\"name\":\"VSpacer06656\",\"sizing_mode\":\"stretch_height\"},\"id\":\"1952\",\"type\":\"Spacer\"}],\"root_ids\":[\"1868\",\"1966\"]},\"title\":\"Bokeh Application\",\"version\":\"2.4.1\"}};\n",
       "    var render_items = [{\"docid\":\"30e201c6-4f7a-43d4-9e4b-1b7f19a5f477\",\"root_ids\":[\"1868\"],\"roots\":{\"1868\":\"bfa538d3-d2d4-4b1b-92ce-eee5ae0bcf59\"}}];\n",
       "    root.Bokeh.embed.embed_items_notebook(docs_json, render_items);\n",
       "  }\n",
       "  if (root.Bokeh !== undefined && root.Bokeh.Panel !== undefined) {\n",
       "    embed_document(root);\n",
       "  } else {\n",
       "    var attempts = 0;\n",
       "    var timer = setInterval(function(root) {\n",
       "      if (root.Bokeh !== undefined && root.Bokeh.Panel !== undefined) {\n",
       "        clearInterval(timer);\n",
       "        embed_document(root);\n",
       "      } else if (document.readyState == \"complete\") {\n",
       "        attempts++;\n",
       "        if (attempts > 200) {\n",
       "          clearInterval(timer);\n",
       "          console.log(\"Bokeh: ERROR: Unable to run BokehJS code because BokehJS library is missing\");\n",
       "        }\n",
       "      }\n",
       "    }, 25, root)\n",
       "  }\n",
       "})(window);</script>"
      ],
      "text/plain": [
       ":HoloMap   [State]\n",
       "   :Curve   [Year]   (measles)"
      ]
     },
     "execution_count": 23,
     "metadata": {
      "application/vnd.holoviews_exec.v0+json": {
       "id": "1868"
      }
     },
     "output_type": "execute_result"
    }
   ],
   "source": [
    "by_state = measles_agg.hvplot('Year', groupby='State', width=500, dynamic=False)\n",
    "by_state"
   ]
  },
  {
   "cell_type": "markdown",
   "metadata": {},
   "source": [
    "Instead of a dropdown, we can place charts side by side for better comparison."
   ]
  },
  {
   "cell_type": "code",
   "execution_count": 24,
   "metadata": {},
   "outputs": [
    {
     "data": {},
     "metadata": {},
     "output_type": "display_data"
    },
    {
     "data": {
      "application/vnd.holoviews_exec.v0+json": "",
      "text/html": [
       "<div id='2375'>\n",
       "\n",
       "\n",
       "\n",
       "\n",
       "\n",
       "  <div class=\"bk-root\" id=\"d9beb725-e646-4173-abf9-4975073388c1\" data-root-id=\"2375\"></div>\n",
       "</div>\n",
       "<script type=\"application/javascript\">(function(root) {\n",
       "  function embed_document(root) {\n",
       "    var docs_json = {\"fbec815c-959b-4987-8399-67ea258ac0fa\":{\"defs\":[{\"extends\":null,\"module\":null,\"name\":\"ReactiveHTML1\",\"overrides\":[],\"properties\":[]},{\"extends\":null,\"module\":null,\"name\":\"FlexBox1\",\"overrides\":[],\"properties\":[{\"default\":\"flex-start\",\"kind\":null,\"name\":\"align_content\"},{\"default\":\"flex-start\",\"kind\":null,\"name\":\"align_items\"},{\"default\":\"row\",\"kind\":null,\"name\":\"flex_direction\"},{\"default\":\"wrap\",\"kind\":null,\"name\":\"flex_wrap\"},{\"default\":\"flex-start\",\"kind\":null,\"name\":\"justify_content\"}]},{\"extends\":null,\"module\":null,\"name\":\"TemplateActions1\",\"overrides\":[],\"properties\":[{\"default\":0,\"kind\":null,\"name\":\"open_modal\"},{\"default\":0,\"kind\":null,\"name\":\"close_modal\"}]},{\"extends\":null,\"module\":null,\"name\":\"MaterialTemplateActions1\",\"overrides\":[],\"properties\":[{\"default\":0,\"kind\":null,\"name\":\"open_modal\"},{\"default\":0,\"kind\":null,\"name\":\"close_modal\"}]}],\"roots\":{\"references\":[{\"attributes\":{},\"id\":\"2444\",\"type\":\"PanTool\"},{\"attributes\":{\"line_color\":\"#30a2da\",\"line_width\":2,\"x\":{\"field\":\"Year\"},\"y\":{\"field\":\"measles\"}},\"id\":\"2464\",\"type\":\"Line\"},{\"attributes\":{\"children\":[{\"id\":\"2376\"},{\"id\":\"2496\"},{\"id\":\"2677\"}],\"margin\":[0,0,0,0],\"name\":\"Row09528\",\"tags\":[\"embedded\"]},\"id\":\"2375\",\"type\":\"Row\"},{\"attributes\":{\"axis\":{\"id\":\"2439\"},\"coordinates\":null,\"dimension\":1,\"grid_line_color\":null,\"group\":null,\"ticker\":null},\"id\":\"2442\",\"type\":\"Grid\"},{\"attributes\":{},\"id\":\"2445\",\"type\":\"WheelZoomTool\"},{\"attributes\":{\"bottom_units\":\"screen\",\"coordinates\":null,\"fill_alpha\":0.5,\"fill_color\":\"lightgrey\",\"group\":null,\"left_units\":\"screen\",\"level\":\"overlay\",\"line_alpha\":1.0,\"line_color\":\"black\",\"line_dash\":[4,4],\"line_width\":2,\"right_units\":\"screen\",\"syncable\":false,\"top_units\":\"screen\"},\"id\":\"2402\",\"type\":\"BoxAnnotation\"},{\"attributes\":{},\"id\":\"2424\",\"type\":\"AllLabels\"},{\"attributes\":{},\"id\":\"2443\",\"type\":\"SaveTool\"},{\"attributes\":{\"end\":2011.0,\"reset_end\":2011.0,\"reset_start\":1928.0,\"start\":1928.0,\"tags\":[[[\"Year\",\"Year\",null]]]},\"id\":\"2377\",\"type\":\"Range1d\"},{\"attributes\":{\"overlay\":{\"id\":\"2448\"}},\"id\":\"2446\",\"type\":\"BoxZoomTool\"},{\"attributes\":{\"line_color\":\"#30a2da\",\"line_width\":2,\"x\":{\"field\":\"Year\"},\"y\":{\"field\":\"measles\"}},\"id\":\"2413\",\"type\":\"Line\"},{\"attributes\":{},\"id\":\"2447\",\"type\":\"ResetTool\"},{\"attributes\":{\"bottom_units\":\"screen\",\"coordinates\":null,\"fill_alpha\":0.5,\"fill_color\":\"lightgrey\",\"group\":null,\"left_units\":\"screen\",\"level\":\"overlay\",\"line_alpha\":1.0,\"line_color\":\"black\",\"line_dash\":[4,4],\"line_width\":2,\"right_units\":\"screen\",\"syncable\":false,\"top_units\":\"screen\"},\"id\":\"2448\",\"type\":\"BoxAnnotation\"},{\"attributes\":{\"line_alpha\":0.1,\"line_color\":\"#30a2da\",\"line_width\":2,\"x\":{\"field\":\"Year\"},\"y\":{\"field\":\"measles\"}},\"id\":\"2414\",\"type\":\"Line\"},{\"attributes\":{},\"id\":\"2478\",\"type\":\"UnionRenderers\"},{\"attributes\":{\"source\":{\"id\":\"2456\"}},\"id\":\"2463\",\"type\":\"CDSView\"},{\"attributes\":{\"line_alpha\":0.1,\"line_color\":\"#30a2da\",\"line_width\":2,\"x\":{\"field\":\"Year\"},\"y\":{\"field\":\"measles\"}},\"id\":\"2460\",\"type\":\"Line\"},{\"attributes\":{\"margin\":[5,5,5,5],\"name\":\"HSpacer09533\",\"sizing_mode\":\"stretch_width\"},\"id\":\"2677\",\"type\":\"Spacer\"},{\"attributes\":{\"tools\":[{\"id\":\"2379\"},{\"id\":\"2397\"},{\"id\":\"2398\"},{\"id\":\"2399\"},{\"id\":\"2400\"},{\"id\":\"2401\"}]},\"id\":\"2403\",\"type\":\"Toolbar\"},{\"attributes\":{},\"id\":\"2420\",\"type\":\"BasicTickFormatter\"},{\"attributes\":{},\"id\":\"2411\",\"type\":\"Selection\"},{\"attributes\":{},\"id\":\"2457\",\"type\":\"Selection\"},{\"attributes\":{\"toolbars\":[{\"id\":\"2403\"},{\"id\":\"2449\"}],\"tools\":[{\"id\":\"2379\"},{\"id\":\"2397\"},{\"id\":\"2398\"},{\"id\":\"2399\"},{\"id\":\"2400\"},{\"id\":\"2401\"},{\"id\":\"2425\"},{\"id\":\"2443\"},{\"id\":\"2444\"},{\"id\":\"2445\"},{\"id\":\"2446\"},{\"id\":\"2447\"}]},\"id\":\"2494\",\"type\":\"ProxyToolbar\"},{\"attributes\":{\"line_alpha\":0.2,\"line_color\":\"#30a2da\",\"line_width\":2,\"x\":{\"field\":\"Year\"},\"y\":{\"field\":\"measles\"}},\"id\":\"2415\",\"type\":\"Line\"},{\"attributes\":{\"tools\":[{\"id\":\"2425\"},{\"id\":\"2443\"},{\"id\":\"2444\"},{\"id\":\"2445\"},{\"id\":\"2446\"},{\"id\":\"2447\"}]},\"id\":\"2449\",\"type\":\"Toolbar\"},{\"attributes\":{\"axis_label\":\"measles\",\"coordinates\":null,\"formatter\":{\"id\":\"2469\"},\"group\":null,\"major_label_policy\":{\"id\":\"2470\"},\"ticker\":{\"id\":\"2440\"}},\"id\":\"2439\",\"type\":\"LinearAxis\"},{\"attributes\":{\"line_color\":\"#30a2da\",\"line_width\":2,\"x\":{\"field\":\"Year\"},\"y\":{\"field\":\"measles\"}},\"id\":\"2418\",\"type\":\"Line\"},{\"attributes\":{\"coordinates\":null,\"data_source\":{\"id\":\"2410\"},\"glyph\":{\"id\":\"2413\"},\"group\":null,\"hover_glyph\":null,\"muted_glyph\":{\"id\":\"2415\"},\"nonselection_glyph\":{\"id\":\"2414\"},\"selection_glyph\":{\"id\":\"2418\"},\"view\":{\"id\":\"2417\"}},\"id\":\"2416\",\"type\":\"GlyphRenderer\"},{\"attributes\":{},\"id\":\"2470\",\"type\":\"AllLabels\"},{\"attributes\":{\"toolbar\":{\"id\":\"2494\"},\"toolbar_location\":\"above\"},\"id\":\"2495\",\"type\":\"ToolbarBox\"},{\"attributes\":{\"callback\":null,\"renderers\":[{\"id\":\"2416\"}],\"tags\":[\"hv_created\"],\"tooltips\":[[\"Year\",\"@{Year}\"],[\"measles\",\"@{measles}\"]]},\"id\":\"2379\",\"type\":\"HoverTool\"},{\"attributes\":{\"axis\":{\"id\":\"2435\"},\"coordinates\":null,\"grid_line_color\":null,\"group\":null,\"ticker\":null},\"id\":\"2438\",\"type\":\"Grid\"},{\"attributes\":{\"coordinates\":null,\"group\":null,\"text\":\"Alabama\",\"text_color\":\"black\",\"text_font_size\":\"12pt\"},\"id\":\"2381\",\"type\":\"Title\"},{\"attributes\":{\"children\":[{\"id\":\"2495\"},{\"id\":\"2493\"}]},\"id\":\"2496\",\"type\":\"Column\"},{\"attributes\":{},\"id\":\"2423\",\"type\":\"BasicTickFormatter\"},{\"attributes\":{\"coordinates\":null,\"group\":null,\"text\":\"Florida\",\"text_color\":\"black\",\"text_font_size\":\"12pt\"},\"id\":\"2427\",\"type\":\"Title\"},{\"attributes\":{},\"id\":\"2436\",\"type\":\"BasicTicker\"},{\"attributes\":{\"below\":[{\"id\":\"2389\"}],\"center\":[{\"id\":\"2392\"},{\"id\":\"2396\"}],\"height\":300,\"left\":[{\"id\":\"2393\"}],\"margin\":null,\"min_border_bottom\":10,\"min_border_left\":10,\"min_border_right\":10,\"min_border_top\":10,\"renderers\":[{\"id\":\"2416\"}],\"sizing_mode\":\"fixed\",\"title\":{\"id\":\"2381\"},\"toolbar\":{\"id\":\"2403\"},\"toolbar_location\":null,\"width\":500,\"x_range\":{\"id\":\"2377\"},\"x_scale\":{\"id\":\"2385\"},\"y_range\":{\"id\":\"2378\"},\"y_scale\":{\"id\":\"2387\"}},\"id\":\"2380\",\"subtype\":\"Figure\",\"type\":\"Plot\"},{\"attributes\":{},\"id\":\"2385\",\"type\":\"LinearScale\"},{\"attributes\":{\"axis_label\":\"Year\",\"coordinates\":null,\"formatter\":{\"id\":\"2466\"},\"group\":null,\"major_label_policy\":{\"id\":\"2467\"},\"ticker\":{\"id\":\"2436\"}},\"id\":\"2435\",\"type\":\"LinearAxis\"},{\"attributes\":{},\"id\":\"2421\",\"type\":\"AllLabels\"},{\"attributes\":{},\"id\":\"2467\",\"type\":\"AllLabels\"},{\"attributes\":{\"below\":[{\"id\":\"2435\"}],\"center\":[{\"id\":\"2438\"},{\"id\":\"2442\"}],\"height\":300,\"left\":[{\"id\":\"2439\"}],\"margin\":null,\"min_border_bottom\":10,\"min_border_left\":10,\"min_border_right\":10,\"min_border_top\":10,\"renderers\":[{\"id\":\"2462\"}],\"sizing_mode\":\"fixed\",\"title\":{\"id\":\"2427\"},\"toolbar\":{\"id\":\"2449\"},\"toolbar_location\":null,\"width\":500,\"x_range\":{\"id\":\"2377\"},\"x_scale\":{\"id\":\"2431\"},\"y_range\":{\"id\":\"2378\"},\"y_scale\":{\"id\":\"2433\"}},\"id\":\"2426\",\"subtype\":\"Figure\",\"type\":\"Plot\"},{\"attributes\":{\"line_alpha\":0.2,\"line_color\":\"#30a2da\",\"line_width\":2,\"x\":{\"field\":\"Year\"},\"y\":{\"field\":\"measles\"}},\"id\":\"2461\",\"type\":\"Line\"},{\"attributes\":{},\"id\":\"2387\",\"type\":\"LinearScale\"},{\"attributes\":{\"line_color\":\"#30a2da\",\"line_width\":2,\"x\":{\"field\":\"Year\"},\"y\":{\"field\":\"measles\"}},\"id\":\"2459\",\"type\":\"Line\"},{\"attributes\":{},\"id\":\"2401\",\"type\":\"ResetTool\"},{\"attributes\":{\"children\":[[{\"id\":\"2380\"},0,0],[{\"id\":\"2426\"},0,1]]},\"id\":\"2493\",\"type\":\"GridBox\"},{\"attributes\":{\"data\":{\"Year\":[1928,1929,1930,1931,1932,1933,1934,1935,1936,1937,1938,1939,1940,1941,1942,1943,1944,1945,1946,1947,1948,1949,1950,1951,1952,1953,1954,1955,1956,1957,1958,1959,1960,1961,1962,1963,1964,1965,1966,1967,1968,1969,1970,1971,1972,1973,1974,1975,1976,1977,1978,1979,1980,1981,1982,1983,1984,1985,1986,1987,1988,1989,1990,1991,1992,1993,1994,1995,1996,1997,1998,1999,2000,2001,2002,2003,2004,2005,2006,2007,2008,2009,2010,2011],\"measles\":{\"__ndarray__\":\"hetRuB7lXUBxPQrXo4BTQD4K16NwSXZAcT0K16NMcEDD9Shcj0IrQNejcD0K909AZmZmZmaaf0DhehSuRzFSQLgehetRODJAFK5H4XoUN0BxPQrXoy6AQClcj8L1sGNAXI/C9SiMXEBcj8L1KLx8QOtRuB6Fs2dAFK5H4XokUUBI4XoUrrdnQHE9Ctej0ENAKVyPwvU4XUDNzMzMzIxKQBSuR+F6DGNAKVyPwvUAYkDrUbgehdtUQD4K16NwDVNAj8L1KFx/W0AAAAAAAEBDQLgehetRhHNAhetRuB4FQ0AfhetRuM5fQNejcD0KF15AH4XrUbiqcEDsUbgehatSQD0K16NwnVJAXI/C9SjsX0D2KFyPwgVTQFyPwvUorFBAMzMzMzNjXkCF61G4HiVPQLgehetRGFBA61G4HoXrPEDhehSuR+EhQArXo3A9iiJAcT0K16MwNEAVrkfhetQ+QKRwPQrXozFAzczMzMzMEkCamZmZmZkFQBWuR+F6FO4/PgrXo3A9DkBmZmZmZmYKQDMzMzMzMydAzczMzMzMGEApXI/C9SgQQB+F61G4HgdAFa5H4XoUAECuR+F6FK73P3sUrkfhesQ/rkfhehSu7z8K16NwPQoLQArXo3A9Cuc/H4XrUbge9T+amZmZmZn5P/YoXI/C9QZArkfhehSuAUAzMzMzMzPTP5mZmZmZmck/exSuR+F6xD+5HoXrUbiuPwAAAAAAAAAAuR6F61G4rj97FK5H4XqEP3sUrkfheoQ/exSuR+F6lD8AAAAAAAAAAHsUrkfheoQ/AAAAAAAAAAAAAAAAAAAAAAAAAAAAAAAAAAAAAAAAAAAAAAAAAAAAAAAAAAAAAAAAAAAAAAAAAAAAAAAAAAAAAAAAAAAAAAAA\",\"dtype\":\"float64\",\"order\":\"little\",\"shape\":[84]}},\"selected\":{\"id\":\"2457\"},\"selection_policy\":{\"id\":\"2489\"}},\"id\":\"2456\",\"type\":\"ColumnDataSource\"},{\"attributes\":{\"margin\":[5,5,5,5],\"name\":\"HSpacer09532\",\"sizing_mode\":\"stretch_width\"},\"id\":\"2376\",\"type\":\"Spacer\"},{\"attributes\":{\"end\":649.297,\"reset_end\":649.297,\"reset_start\":-59.027,\"start\":-59.027,\"tags\":[[[\"measles\",\"measles\",null]]]},\"id\":\"2378\",\"type\":\"Range1d\"},{\"attributes\":{},\"id\":\"2433\",\"type\":\"LinearScale\"},{\"attributes\":{\"callback\":null,\"renderers\":[{\"id\":\"2462\"}],\"tags\":[\"hv_created\"],\"tooltips\":[[\"Year\",\"@{Year}\"],[\"measles\",\"@{measles}\"]]},\"id\":\"2425\",\"type\":\"HoverTool\"},{\"attributes\":{\"axis\":{\"id\":\"2393\"},\"coordinates\":null,\"dimension\":1,\"grid_line_color\":null,\"group\":null,\"ticker\":null},\"id\":\"2396\",\"type\":\"Grid\"},{\"attributes\":{\"axis\":{\"id\":\"2389\"},\"coordinates\":null,\"grid_line_color\":null,\"group\":null,\"ticker\":null},\"id\":\"2392\",\"type\":\"Grid\"},{\"attributes\":{},\"id\":\"2390\",\"type\":\"BasicTicker\"},{\"attributes\":{\"axis_label\":\"Year\",\"coordinates\":null,\"formatter\":{\"id\":\"2420\"},\"group\":null,\"major_label_policy\":{\"id\":\"2421\"},\"ticker\":{\"id\":\"2390\"}},\"id\":\"2389\",\"type\":\"LinearAxis\"},{\"attributes\":{},\"id\":\"2440\",\"type\":\"BasicTicker\"},{\"attributes\":{},\"id\":\"2398\",\"type\":\"PanTool\"},{\"attributes\":{\"data\":{\"Year\":[1928,1929,1930,1931,1932,1933,1934,1935,1936,1937,1938,1939,1940,1941,1942,1943,1944,1945,1946,1947,1948,1949,1950,1951,1952,1953,1954,1955,1956,1957,1958,1959,1960,1961,1962,1963,1964,1965,1966,1967,1968,1969,1970,1971,1972,1973,1974,1975,1976,1977,1978,1979,1980,1981,1982,1983,1984,1985,1986,1987,1988,1989,1990,1991,1992,1993,1994,1995,1996,1997,1998,1999,2000,2001,2002,2003,2004,2005,2006,2007,2008,2009,2010,2011],\"measles\":{\"__ndarray__\":\"pHA9CtfvdEDsUbgehftbQAAAAAAAoGNAcT0K16MUdUDsUbgehWskQK5H4XoUTlBAXI/C9ShygkA9CtejcJVwQEjhehSuxzRA9ihcj8J1NkDXo3A9Cgd/QBSuR+F61GZASOF6FK7HXEDsUbgehZdyQJqZmZmZiV9ACtejcD1aYECkcD0K15tvQBWuR+F6VDtAAAAAAACwX0BxPQrXo9BfQPYoXI/CRVFAzczMzMwMd0AzMzMzM3NJQI/C9Shcz1lA7FG4HoX7dUCPwvUoXH9XQArXo3A9hnFA7FG4HoVrUUAAAAAAAPhsQHE9CtejvHJAexSuR+FKbkBcj8L1KAxbQArXo3A9qk9AcT0K16OAU0CF61G4HuVRQB+F61G4XkFAPQrXo3CtgEDNzMzMzAxRQHE9CtejMEpAPQrXo3B9Q0CamZmZmZkSQArXo3A9Ctc/4XoUrkfhK0AfhetRuJ5LQBWuR+F6FBBA4XoUrkfh2j+QwvUoXI/iP6RwPQrXo8A/AAAAAAAAAAB7FK5H4XoAQHA9CtejcAtAzczMzMzMCkA9CtejcD3iPwAAAAAAAAAAmpmZmZmZqT+4HoXrUbiePwAAAAAAAAAAAAAAAAAAAAB7FK5H4XqUPwvXo3A9Crc/exSuR+F6lD9cj8L1KFz3P83MzMzMzOQ/exSuR+F6lD8AAAAAAAAAAHsUrkfhepQ/AAAAAAAAAAAAAAAAAAAAAAAAAAAAAAAA7FG4HoXrwT8AAAAAAAAAAAAAAAAAAAAAAAAAAAAAAAAAAAAAAAAAAHsUrkfhesQ/AAAAAAAAAAAAAAAAAAAAAAAAAAAAAAAAAAAAAAAAAAAAAAAAAAAAAAAAAAAAAAAAAAAAAAAAAAAAAAAAAAAAAAAAAAAAAAAA\",\"dtype\":\"float64\",\"order\":\"little\",\"shape\":[84]}},\"selected\":{\"id\":\"2411\"},\"selection_policy\":{\"id\":\"2478\"}},\"id\":\"2410\",\"type\":\"ColumnDataSource\"},{\"attributes\":{},\"id\":\"2466\",\"type\":\"BasicTickFormatter\"},{\"attributes\":{},\"id\":\"2489\",\"type\":\"UnionRenderers\"},{\"attributes\":{\"axis_label\":\"measles\",\"coordinates\":null,\"formatter\":{\"id\":\"2423\"},\"group\":null,\"major_label_policy\":{\"id\":\"2424\"},\"ticker\":{\"id\":\"2394\"}},\"id\":\"2393\",\"type\":\"LinearAxis\"},{\"attributes\":{},\"id\":\"2469\",\"type\":\"BasicTickFormatter\"},{\"attributes\":{},\"id\":\"2394\",\"type\":\"BasicTicker\"},{\"attributes\":{},\"id\":\"2399\",\"type\":\"WheelZoomTool\"},{\"attributes\":{\"coordinates\":null,\"data_source\":{\"id\":\"2456\"},\"glyph\":{\"id\":\"2459\"},\"group\":null,\"hover_glyph\":null,\"muted_glyph\":{\"id\":\"2461\"},\"nonselection_glyph\":{\"id\":\"2460\"},\"selection_glyph\":{\"id\":\"2464\"},\"view\":{\"id\":\"2463\"}},\"id\":\"2462\",\"type\":\"GlyphRenderer\"},{\"attributes\":{\"source\":{\"id\":\"2410\"}},\"id\":\"2417\",\"type\":\"CDSView\"},{\"attributes\":{},\"id\":\"2431\",\"type\":\"LinearScale\"},{\"attributes\":{},\"id\":\"2397\",\"type\":\"SaveTool\"},{\"attributes\":{\"overlay\":{\"id\":\"2402\"}},\"id\":\"2400\",\"type\":\"BoxZoomTool\"}],\"root_ids\":[\"2375\"]},\"title\":\"Bokeh Application\",\"version\":\"2.4.1\"}};\n",
       "    var render_items = [{\"docid\":\"fbec815c-959b-4987-8399-67ea258ac0fa\",\"root_ids\":[\"2375\"],\"roots\":{\"2375\":\"d9beb725-e646-4173-abf9-4975073388c1\"}}];\n",
       "    root.Bokeh.embed.embed_items_notebook(docs_json, render_items);\n",
       "  }\n",
       "  if (root.Bokeh !== undefined && root.Bokeh.Panel !== undefined) {\n",
       "    embed_document(root);\n",
       "  } else {\n",
       "    var attempts = 0;\n",
       "    var timer = setInterval(function(root) {\n",
       "      if (root.Bokeh !== undefined && root.Bokeh.Panel !== undefined) {\n",
       "        clearInterval(timer);\n",
       "        embed_document(root);\n",
       "      } else if (document.readyState == \"complete\") {\n",
       "        attempts++;\n",
       "        if (attempts > 200) {\n",
       "          clearInterval(timer);\n",
       "          console.log(\"Bokeh: ERROR: Unable to run BokehJS code because BokehJS library is missing\");\n",
       "        }\n",
       "      }\n",
       "    }, 25, root)\n",
       "  }\n",
       "})(window);</script>"
      ],
      "text/plain": [
       ":Layout\n",
       "   .Curve.Alabama :Curve   [Year]   (measles)\n",
       "   .Curve.Florida :Curve   [Year]   (measles)"
      ]
     },
     "execution_count": 24,
     "metadata": {
      "application/vnd.holoviews_exec.v0+json": {
       "id": "2375"
      }
     },
     "output_type": "execute_result"
    }
   ],
   "source": [
    "by_state[\"Alabama\"].relabel('Alabama')  + by_state[\"Florida\"].relabel('Florida')"
   ]
  },
  {
   "cell_type": "markdown",
   "metadata": {},
   "source": [
    "We can also change the type of plots, say to a bar chart. Let us compare the measles pattern from 1980 to 1985 across four states."
   ]
  },
  {
   "cell_type": "code",
   "execution_count": 25,
   "metadata": {},
   "outputs": [
    {
     "data": {},
     "metadata": {},
     "output_type": "display_data"
    },
    {
     "data": {
      "application/vnd.holoviews_exec.v0+json": "",
      "text/html": [
       "<div id='2779'>\n",
       "\n",
       "\n",
       "\n",
       "\n",
       "\n",
       "  <div class=\"bk-root\" id=\"5db6353e-3c1e-4c51-af4b-7ea07e8beede\" data-root-id=\"2779\"></div>\n",
       "</div>\n",
       "<script type=\"application/javascript\">(function(root) {\n",
       "  function embed_document(root) {\n",
       "    var docs_json = {\"ef2b113d-f1d5-42ed-8486-cbb0e77b0b0c\":{\"defs\":[{\"extends\":null,\"module\":null,\"name\":\"ReactiveHTML1\",\"overrides\":[],\"properties\":[]},{\"extends\":null,\"module\":null,\"name\":\"FlexBox1\",\"overrides\":[],\"properties\":[{\"default\":\"flex-start\",\"kind\":null,\"name\":\"align_content\"},{\"default\":\"flex-start\",\"kind\":null,\"name\":\"align_items\"},{\"default\":\"row\",\"kind\":null,\"name\":\"flex_direction\"},{\"default\":\"wrap\",\"kind\":null,\"name\":\"flex_wrap\"},{\"default\":\"flex-start\",\"kind\":null,\"name\":\"justify_content\"}]},{\"extends\":null,\"module\":null,\"name\":\"TemplateActions1\",\"overrides\":[],\"properties\":[{\"default\":0,\"kind\":null,\"name\":\"open_modal\"},{\"default\":0,\"kind\":null,\"name\":\"close_modal\"}]},{\"extends\":null,\"module\":null,\"name\":\"MaterialTemplateActions1\",\"overrides\":[],\"properties\":[{\"default\":0,\"kind\":null,\"name\":\"open_modal\"},{\"default\":0,\"kind\":null,\"name\":\"close_modal\"}]}],\"roots\":{\"references\":[{\"attributes\":{\"fill_alpha\":{\"value\":0.2},\"fill_color\":{\"value\":\"coral\"},\"hatch_alpha\":{\"value\":0.2},\"hatch_color\":{\"value\":\"coral\"},\"line_alpha\":{\"value\":0.2},\"line_color\":{\"value\":null},\"top\":{\"field\":\"measles\"},\"width\":{\"value\":0.8},\"x\":{\"field\":\"Year\"}},\"id\":\"2818\",\"type\":\"VBar\"},{\"attributes\":{},\"id\":\"2801\",\"type\":\"PanTool\"},{\"attributes\":{},\"id\":\"2827\",\"type\":\"AllLabels\"},{\"attributes\":{\"fill_color\":{\"value\":\"coral\"},\"hatch_color\":{\"value\":\"coral\"},\"line_color\":{\"value\":null},\"top\":{\"field\":\"measles\"},\"width\":{\"value\":0.8},\"x\":{\"field\":\"Year\"}},\"id\":\"2816\",\"type\":\"VBar\"},{\"attributes\":{},\"id\":\"2802\",\"type\":\"WheelZoomTool\"},{\"attributes\":{\"margin\":[5,5,5,5],\"name\":\"HSpacer09887\",\"sizing_mode\":\"stretch_width\"},\"id\":\"2780\",\"type\":\"Spacer\"},{\"attributes\":{},\"id\":\"2800\",\"type\":\"SaveTool\"},{\"attributes\":{\"overlay\":{\"id\":\"2805\"}},\"id\":\"2803\",\"type\":\"BoxZoomTool\"},{\"attributes\":{},\"id\":\"2804\",\"type\":\"ResetTool\"},{\"attributes\":{},\"id\":\"2789\",\"type\":\"CategoricalScale\"},{\"attributes\":{\"bottom_units\":\"screen\",\"coordinates\":null,\"fill_alpha\":0.5,\"fill_color\":\"lightgrey\",\"group\":null,\"left_units\":\"screen\",\"level\":\"overlay\",\"line_alpha\":1.0,\"line_color\":\"black\",\"line_dash\":[4,4],\"line_width\":2,\"right_units\":\"screen\",\"syncable\":false,\"top_units\":\"screen\"},\"id\":\"2805\",\"type\":\"BoxAnnotation\"},{\"attributes\":{\"coordinates\":null,\"data_source\":{\"id\":\"2813\"},\"glyph\":{\"id\":\"2816\"},\"group\":null,\"hover_glyph\":null,\"muted_glyph\":{\"id\":\"2818\"},\"nonselection_glyph\":{\"id\":\"2817\"},\"selection_glyph\":{\"id\":\"2821\"},\"view\":{\"id\":\"2820\"}},\"id\":\"2819\",\"type\":\"GlyphRenderer\"},{\"attributes\":{\"source\":{\"id\":\"2813\"}},\"id\":\"2820\",\"type\":\"CDSView\"},{\"attributes\":{},\"id\":\"2814\",\"type\":\"Selection\"},{\"attributes\":{\"margin\":[5,5,5,5],\"name\":\"HSpacer09888\",\"sizing_mode\":\"stretch_width\"},\"id\":\"2848\",\"type\":\"Spacer\"},{\"attributes\":{},\"id\":\"2826\",\"type\":\"BasicTickFormatter\"},{\"attributes\":{\"callback\":null,\"renderers\":[{\"id\":\"2819\"}],\"tags\":[\"hv_created\"],\"tooltips\":[[\"Year\",\"@{Year}\"],[\"measles\",\"@{measles}\"]]},\"id\":\"2783\",\"type\":\"HoverTool\"},{\"attributes\":{\"end\":311.61199999999997,\"reset_end\":311.61199999999997,\"reset_start\":0.0,\"tags\":[[[\"measles\",\"measles\",null]]]},\"id\":\"2782\",\"type\":\"Range1d\"},{\"attributes\":{\"below\":[{\"id\":\"2793\"}],\"center\":[{\"id\":\"2795\"},{\"id\":\"2799\"}],\"height\":300,\"left\":[{\"id\":\"2796\"}],\"margin\":[5,5,5,5],\"min_border_bottom\":10,\"min_border_left\":10,\"min_border_right\":10,\"min_border_top\":10,\"renderers\":[{\"id\":\"2819\"}],\"sizing_mode\":\"fixed\",\"title\":{\"id\":\"2785\"},\"toolbar\":{\"id\":\"2806\"},\"width\":700,\"x_range\":{\"id\":\"2781\"},\"x_scale\":{\"id\":\"2789\"},\"y_range\":{\"id\":\"2782\"},\"y_scale\":{\"id\":\"2791\"}},\"id\":\"2784\",\"subtype\":\"Figure\",\"type\":\"Plot\"},{\"attributes\":{\"tools\":[{\"id\":\"2783\"},{\"id\":\"2800\"},{\"id\":\"2801\"},{\"id\":\"2802\"},{\"id\":\"2803\"},{\"id\":\"2804\"}]},\"id\":\"2806\",\"type\":\"Toolbar\"},{\"attributes\":{\"factors\":[\"1980\",\"1981\",\"1982\",\"1983\",\"1984\",\"1985\",\"1986\",\"1987\",\"1988\",\"1989\",\"1990\"],\"tags\":[[[\"Year\",\"Year\",null]]]},\"id\":\"2781\",\"type\":\"FactorRange\"},{\"attributes\":{},\"id\":\"2824\",\"type\":\"AllLabels\"},{\"attributes\":{\"bottom\":{\"value\":0},\"fill_alpha\":{\"value\":1.0},\"fill_color\":{\"value\":\"coral\"},\"hatch_alpha\":{\"value\":1.0},\"hatch_color\":{\"value\":\"coral\"},\"hatch_scale\":{\"value\":12.0},\"hatch_weight\":{\"value\":1.0},\"line_alpha\":{\"value\":1.0},\"line_cap\":{\"value\":\"butt\"},\"line_color\":{\"value\":null},\"line_dash\":{\"value\":[]},\"line_dash_offset\":{\"value\":0},\"line_join\":{\"value\":\"bevel\"},\"line_width\":{\"value\":1},\"top\":{\"field\":\"measles\"},\"width\":{\"value\":0.8},\"x\":{\"field\":\"Year\"}},\"id\":\"2821\",\"type\":\"VBar\"},{\"attributes\":{},\"id\":\"2791\",\"type\":\"LinearScale\"},{\"attributes\":{\"children\":[{\"id\":\"2780\"},{\"id\":\"2784\"},{\"id\":\"2848\"}],\"margin\":[0,0,0,0],\"name\":\"Row09883\",\"tags\":[\"embedded\"]},\"id\":\"2779\",\"type\":\"Row\"},{\"attributes\":{\"coordinates\":null,\"group\":null,\"text_color\":\"black\",\"text_font_size\":\"12pt\"},\"id\":\"2785\",\"type\":\"Title\"},{\"attributes\":{\"data\":{\"Year\":[\"1980\",\"1981\",\"1982\",\"1983\",\"1984\",\"1985\",\"1986\",\"1987\",\"1988\",\"1989\",\"1990\"],\"measles\":{\"__ndarray__\":\"MzMzMzPLcUAzMzMzM3M/QMP1KFyPQjFAKVyPwvUoL0AfhetRuF5HQGdmZmZm5k9Aw/UoXI/yWECuR+F6FJ5TQClcj8L1yElAcT0K16PQZ0AVrkfhekxtQA==\",\"dtype\":\"float64\",\"order\":\"little\",\"shape\":[11]}},\"selected\":{\"id\":\"2814\"},\"selection_policy\":{\"id\":\"2835\"}},\"id\":\"2813\",\"type\":\"ColumnDataSource\"},{\"attributes\":{\"axis\":{\"id\":\"2793\"},\"coordinates\":null,\"grid_line_color\":null,\"group\":null,\"ticker\":null},\"id\":\"2795\",\"type\":\"Grid\"},{\"attributes\":{\"axis_label\":\"measles\",\"coordinates\":null,\"formatter\":{\"id\":\"2826\"},\"group\":null,\"major_label_policy\":{\"id\":\"2827\"},\"ticker\":{\"id\":\"2797\"}},\"id\":\"2796\",\"type\":\"LinearAxis\"},{\"attributes\":{},\"id\":\"2797\",\"type\":\"BasicTicker\"},{\"attributes\":{},\"id\":\"2823\",\"type\":\"CategoricalTickFormatter\"},{\"attributes\":{\"axis_label\":\"Year\",\"coordinates\":null,\"formatter\":{\"id\":\"2823\"},\"group\":null,\"major_label_orientation\":0.7853981633974483,\"major_label_policy\":{\"id\":\"2824\"},\"ticker\":{\"id\":\"2794\"}},\"id\":\"2793\",\"type\":\"CategoricalAxis\"},{\"attributes\":{\"fill_alpha\":{\"value\":0.1},\"fill_color\":{\"value\":\"coral\"},\"hatch_alpha\":{\"value\":0.1},\"hatch_color\":{\"value\":\"coral\"},\"line_alpha\":{\"value\":0.1},\"line_color\":{\"value\":null},\"top\":{\"field\":\"measles\"},\"width\":{\"value\":0.8},\"x\":{\"field\":\"Year\"}},\"id\":\"2817\",\"type\":\"VBar\"},{\"attributes\":{\"axis\":{\"id\":\"2796\"},\"coordinates\":null,\"dimension\":1,\"grid_line_color\":null,\"group\":null,\"ticker\":null},\"id\":\"2799\",\"type\":\"Grid\"},{\"attributes\":{},\"id\":\"2794\",\"type\":\"CategoricalTicker\"},{\"attributes\":{},\"id\":\"2835\",\"type\":\"UnionRenderers\"}],\"root_ids\":[\"2779\"]},\"title\":\"Bokeh Application\",\"version\":\"2.4.1\"}};\n",
       "    var render_items = [{\"docid\":\"ef2b113d-f1d5-42ed-8486-cbb0e77b0b0c\",\"root_ids\":[\"2779\"],\"roots\":{\"2779\":\"5db6353e-3c1e-4c51-af4b-7ea07e8beede\"}}];\n",
       "    root.Bokeh.embed.embed_items_notebook(docs_json, render_items);\n",
       "  }\n",
       "  if (root.Bokeh !== undefined && root.Bokeh.Panel !== undefined) {\n",
       "    embed_document(root);\n",
       "  } else {\n",
       "    var attempts = 0;\n",
       "    var timer = setInterval(function(root) {\n",
       "      if (root.Bokeh !== undefined && root.Bokeh.Panel !== undefined) {\n",
       "        clearInterval(timer);\n",
       "        embed_document(root);\n",
       "      } else if (document.readyState == \"complete\") {\n",
       "        attempts++;\n",
       "        if (attempts > 200) {\n",
       "          clearInterval(timer);\n",
       "          console.log(\"Bokeh: ERROR: Unable to run BokehJS code because BokehJS library is missing\");\n",
       "        }\n",
       "      }\n",
       "    }, 25, root)\n",
       "  }\n",
       "})(window);</script>"
      ],
      "text/plain": [
       ":Bars   [Year]   (measles)"
      ]
     },
     "execution_count": 25,
     "metadata": {
      "application/vnd.holoviews_exec.v0+json": {
       "id": "2779"
      }
     },
     "output_type": "execute_result"
    }
   ],
   "source": [
    "measles_year = diseases_data.groupby(diseases_data.Year)[['measles']].sum()\n",
    "\n",
    "measles_year.loc[1980:1990].hvplot.bar('Year', rot=45,color = 'coral',line_color=None)"
   ]
  },
  {
   "cell_type": "code",
   "execution_count": 26,
   "metadata": {},
   "outputs": [
    {
     "data": {},
     "metadata": {},
     "output_type": "display_data"
    },
    {
     "data": {
      "application/vnd.holoviews_exec.v0+json": "",
      "text/html": [
       "<div id='2900'>\n",
       "\n",
       "\n",
       "\n",
       "\n",
       "\n",
       "  <div class=\"bk-root\" id=\"379b86f7-33ca-4937-bba3-29e7b7aeda9c\" data-root-id=\"2900\"></div>\n",
       "</div>\n",
       "<script type=\"application/javascript\">(function(root) {\n",
       "  function embed_document(root) {\n",
       "    var docs_json = {\"0ea921c3-3810-45c5-bae7-a19d9cf9d982\":{\"defs\":[{\"extends\":null,\"module\":null,\"name\":\"ReactiveHTML1\",\"overrides\":[],\"properties\":[]},{\"extends\":null,\"module\":null,\"name\":\"FlexBox1\",\"overrides\":[],\"properties\":[{\"default\":\"flex-start\",\"kind\":null,\"name\":\"align_content\"},{\"default\":\"flex-start\",\"kind\":null,\"name\":\"align_items\"},{\"default\":\"row\",\"kind\":null,\"name\":\"flex_direction\"},{\"default\":\"wrap\",\"kind\":null,\"name\":\"flex_wrap\"},{\"default\":\"flex-start\",\"kind\":null,\"name\":\"justify_content\"}]},{\"extends\":null,\"module\":null,\"name\":\"TemplateActions1\",\"overrides\":[],\"properties\":[{\"default\":0,\"kind\":null,\"name\":\"open_modal\"},{\"default\":0,\"kind\":null,\"name\":\"close_modal\"}]},{\"extends\":null,\"module\":null,\"name\":\"MaterialTemplateActions1\",\"overrides\":[],\"properties\":[{\"default\":0,\"kind\":null,\"name\":\"open_modal\"},{\"default\":0,\"kind\":null,\"name\":\"close_modal\"}]}],\"roots\":{\"references\":[{\"attributes\":{\"margin\":[5,5,5,5],\"name\":\"HSpacer10036\",\"sizing_mode\":\"stretch_width\"},\"id\":\"2901\",\"type\":\"Spacer\"},{\"attributes\":{\"coordinates\":null,\"data_source\":{\"id\":\"2935\"},\"glyph\":{\"id\":\"2938\"},\"group\":null,\"hover_glyph\":null,\"muted_glyph\":{\"id\":\"2940\"},\"nonselection_glyph\":{\"id\":\"2939\"},\"selection_glyph\":{\"id\":\"2943\"},\"view\":{\"id\":\"2942\"}},\"id\":\"2941\",\"type\":\"GlyphRenderer\"},{\"attributes\":{},\"id\":\"2957\",\"type\":\"UnionRenderers\"},{\"attributes\":{},\"id\":\"2910\",\"type\":\"LinearScale\"},{\"attributes\":{\"data\":{\"Year\":[1928,1929,1930,1931,1932,1933,1934,1935,1936,1937,1938,1939,1940,1941,1942,1943,1944,1945,1946,1947,1948,1949,1950,1951,1952,1953,1954,1955,1956,1957,1958,1959,1960,1961,1962,1963,1964,1965,1966,1967,1968,1969,1970,1971,1972,1973,1974,1975,1976,1977,1978,1979,1980,1981,1982,1983,1984,1985,1986,1987,1988,1989,1990,1991,1992,1993,1994,1995,1996,1997,1998,1999,2000,2001,2002,2003,2004,2005,2006,2007,2008,2009,2010,2011],\"measles\":{\"__ndarray__\":\"KVyPwhWH0EAUrkfheo7HQEjhehSOd8xAKVyPwtUhzkBI4XoUjkjMQBSuR+Ea/cZASOF6FN643UAK16NwvX7YQJqZmZn5U8hAhetRuF7cxUCPwvUoDM7ZQOxRuB7lc9RAzczMzGxJyUAAAAAAgM7VQK5H4XoUeNRAUrgehUur1kDD9ShcHxbTQDMzMzNzTbVAAAAAAEAl00CkcD0K927CQMP1KFwPQs5A9ihcj1KB1UBSuB6F63LCQBSuR+F6YNFAzczMzHxB0kCF61G4nnDLQFyPwvU4BtRAMzMzM1MJ0kBmZmZmZnzSQOF6FK5nwNBAhetRuN761ECF61G4XovKQFyPwvUo5MpAmpmZmfmyxkD2KFyPIhvNQIXrUbh+ucVA16NwPSq0yUDsUbgepZ/CQBSuR+F6JLVAH4XrUbhhnUDsUbgehbd+QClcj8L1TIJAzczMzMxbkUAzMzMzM6qdQHE9CtejiohAj8L1KFzVhkBSuB6F6yl6QClcj8L15oRACtejcD2ikEDXo3A9CgqRQGZmZmZmSoNAXI/C9ShscEAzMzMzM8txQDMzMzMzcz9Aw/UoXI9CMUApXI/C9SgvQB+F61G4XkdAZ2ZmZmbmT0DD9Shcj/JYQK5H4XoUnlNAKVyPwvXISUBxPQrXo9BnQBWuR+F6TG1AAAAAAADIYEAK16NwPco8QB+F61G4niFAhetRuB6FM0AAAAAAAAAVQFyPwvUonDhApHA9CtejO0CF61G4HoUJQHE9CtejcO0/ZmZmZmZm+j+kcD0K16P4P9ejcD0K19M/AAAAAAAAAAAAAAAAAAAAAAAAAAAAAAAAAAAAAAAAAAAAAAAAAAAAAAAAAAAAAAAAAAAAAAAAAAAAAAAAAAAAAAAAAAAAAAAA\",\"dtype\":\"float64\",\"order\":\"little\",\"shape\":[84]}},\"selected\":{\"id\":\"2936\"},\"selection_policy\":{\"id\":\"2957\"}},\"id\":\"2935\",\"type\":\"ColumnDataSource\"},{\"attributes\":{\"end\":2014.557142857143,\"reset_end\":2014.557142857143,\"reset_start\":1924.442857142857,\"start\":1924.442857142857,\"tags\":[[[\"Year\",\"Year\",null]]]},\"id\":\"2902\",\"type\":\"Range1d\"},{\"attributes\":{\"source\":{\"id\":\"2935\"}},\"id\":\"2942\",\"type\":\"CDSView\"},{\"attributes\":{\"children\":[{\"id\":\"2901\"},{\"id\":\"2905\"},{\"id\":\"2970\"}],\"margin\":[0,0,0,0],\"name\":\"Row10032\",\"tags\":[\"embedded\"]},\"id\":\"2900\",\"type\":\"Row\"},{\"attributes\":{},\"id\":\"2945\",\"type\":\"BasicTickFormatter\"},{\"attributes\":{\"below\":[{\"id\":\"2914\"}],\"center\":[{\"id\":\"2917\"},{\"id\":\"2921\"}],\"height\":300,\"left\":[{\"id\":\"2918\"}],\"margin\":[5,5,5,5],\"min_border_bottom\":10,\"min_border_left\":10,\"min_border_right\":10,\"min_border_top\":10,\"renderers\":[{\"id\":\"2941\"}],\"sizing_mode\":\"fixed\",\"title\":{\"id\":\"2906\"},\"toolbar\":{\"id\":\"2928\"},\"width\":700,\"x_range\":{\"id\":\"2902\"},\"x_scale\":{\"id\":\"2910\"},\"y_range\":{\"id\":\"2903\"},\"y_scale\":{\"id\":\"2912\"}},\"id\":\"2905\",\"subtype\":\"Figure\",\"type\":\"Plot\"},{\"attributes\":{\"coordinates\":null,\"group\":null,\"text_color\":\"black\",\"text_font_size\":\"12pt\"},\"id\":\"2906\",\"type\":\"Title\"},{\"attributes\":{\"end\":33479.017,\"reset_end\":33479.017,\"reset_start\":-3043.5470000000005,\"start\":-3043.5470000000005,\"tags\":[[[\"measles\",\"measles\",null]]]},\"id\":\"2903\",\"type\":\"Range1d\"},{\"attributes\":{\"callback\":null,\"renderers\":[{\"id\":\"2941\"}],\"tags\":[\"hv_created\"],\"tooltips\":[[\"Year\",\"@{Year}\"],[\"measles\",\"@{measles}\"]]},\"id\":\"2904\",\"type\":\"HoverTool\"},{\"attributes\":{},\"id\":\"2949\",\"type\":\"AllLabels\"},{\"attributes\":{},\"id\":\"2923\",\"type\":\"PanTool\"},{\"attributes\":{\"margin\":[5,5,5,5],\"name\":\"HSpacer10037\",\"sizing_mode\":\"stretch_width\"},\"id\":\"2970\",\"type\":\"Spacer\"},{\"attributes\":{},\"id\":\"2912\",\"type\":\"LinearScale\"},{\"attributes\":{\"axis\":{\"id\":\"2918\"},\"coordinates\":null,\"dimension\":1,\"grid_line_color\":null,\"group\":null,\"ticker\":null},\"id\":\"2921\",\"type\":\"Grid\"},{\"attributes\":{\"axis\":{\"id\":\"2914\"},\"coordinates\":null,\"grid_line_color\":null,\"group\":null,\"ticker\":null},\"id\":\"2917\",\"type\":\"Grid\"},{\"attributes\":{},\"id\":\"2936\",\"type\":\"Selection\"},{\"attributes\":{\"axis_label\":\"Year\",\"coordinates\":null,\"formatter\":{\"id\":\"2945\"},\"group\":null,\"major_label_orientation\":1.5707963267948966,\"major_label_policy\":{\"id\":\"2946\"},\"ticker\":{\"id\":\"2915\"}},\"id\":\"2914\",\"type\":\"LinearAxis\"},{\"attributes\":{\"tools\":[{\"id\":\"2904\"},{\"id\":\"2922\"},{\"id\":\"2923\"},{\"id\":\"2924\"},{\"id\":\"2925\"},{\"id\":\"2926\"}]},\"id\":\"2928\",\"type\":\"Toolbar\"},{\"attributes\":{},\"id\":\"2915\",\"type\":\"BasicTicker\"},{\"attributes\":{},\"id\":\"2946\",\"type\":\"AllLabels\"},{\"attributes\":{\"axis_label\":\"measles\",\"coordinates\":null,\"formatter\":{\"id\":\"2948\"},\"group\":null,\"major_label_policy\":{\"id\":\"2949\"},\"ticker\":{\"id\":\"2919\"}},\"id\":\"2918\",\"type\":\"LinearAxis\"},{\"attributes\":{},\"id\":\"2919\",\"type\":\"BasicTicker\"},{\"attributes\":{},\"id\":\"2924\",\"type\":\"WheelZoomTool\"},{\"attributes\":{},\"id\":\"2922\",\"type\":\"SaveTool\"},{\"attributes\":{\"overlay\":{\"id\":\"2927\"}},\"id\":\"2925\",\"type\":\"BoxZoomTool\"},{\"attributes\":{},\"id\":\"2926\",\"type\":\"ResetTool\"},{\"attributes\":{\"fill_color\":{\"value\":\"#30a2da\"},\"hatch_color\":{\"value\":\"#30a2da\"},\"line_color\":{\"value\":\"#30a2da\"},\"size\":{\"value\":4.47213595499958},\"x\":{\"field\":\"Year\"},\"y\":{\"field\":\"measles\"}},\"id\":\"2938\",\"type\":\"Scatter\"},{\"attributes\":{\"fill_alpha\":{\"value\":0.1},\"fill_color\":{\"value\":\"#30a2da\"},\"hatch_alpha\":{\"value\":0.1},\"hatch_color\":{\"value\":\"#30a2da\"},\"line_alpha\":{\"value\":0.1},\"line_color\":{\"value\":\"#30a2da\"},\"size\":{\"value\":4.47213595499958},\"x\":{\"field\":\"Year\"},\"y\":{\"field\":\"measles\"}},\"id\":\"2939\",\"type\":\"Scatter\"},{\"attributes\":{\"bottom_units\":\"screen\",\"coordinates\":null,\"fill_alpha\":0.5,\"fill_color\":\"lightgrey\",\"group\":null,\"left_units\":\"screen\",\"level\":\"overlay\",\"line_alpha\":1.0,\"line_color\":\"black\",\"line_dash\":[4,4],\"line_width\":2,\"right_units\":\"screen\",\"syncable\":false,\"top_units\":\"screen\"},\"id\":\"2927\",\"type\":\"BoxAnnotation\"},{\"attributes\":{\"fill_alpha\":{\"value\":0.2},\"fill_color\":{\"value\":\"#30a2da\"},\"hatch_alpha\":{\"value\":0.2},\"hatch_color\":{\"value\":\"#30a2da\"},\"line_alpha\":{\"value\":0.2},\"line_color\":{\"value\":\"#30a2da\"},\"size\":{\"value\":4.47213595499958},\"x\":{\"field\":\"Year\"},\"y\":{\"field\":\"measles\"}},\"id\":\"2940\",\"type\":\"Scatter\"},{\"attributes\":{},\"id\":\"2948\",\"type\":\"BasicTickFormatter\"},{\"attributes\":{\"angle\":{\"value\":0.0},\"fill_alpha\":{\"value\":1.0},\"fill_color\":{\"value\":\"#30a2da\"},\"hatch_alpha\":{\"value\":1.0},\"hatch_color\":{\"value\":\"#30a2da\"},\"hatch_scale\":{\"value\":12.0},\"hatch_weight\":{\"value\":1.0},\"line_alpha\":{\"value\":1.0},\"line_cap\":{\"value\":\"butt\"},\"line_color\":{\"value\":\"#30a2da\"},\"line_dash\":{\"value\":[]},\"line_dash_offset\":{\"value\":0},\"line_join\":{\"value\":\"bevel\"},\"line_width\":{\"value\":1},\"marker\":{\"value\":\"circle\"},\"size\":{\"value\":4.47213595499958},\"x\":{\"field\":\"Year\"},\"y\":{\"field\":\"measles\"}},\"id\":\"2943\",\"type\":\"Scatter\"}],\"root_ids\":[\"2900\"]},\"title\":\"Bokeh Application\",\"version\":\"2.4.1\"}};\n",
       "    var render_items = [{\"docid\":\"0ea921c3-3810-45c5-bae7-a19d9cf9d982\",\"root_ids\":[\"2900\"],\"roots\":{\"2900\":\"379b86f7-33ca-4937-bba3-29e7b7aeda9c\"}}];\n",
       "    root.Bokeh.embed.embed_items_notebook(docs_json, render_items);\n",
       "  }\n",
       "  if (root.Bokeh !== undefined && root.Bokeh.Panel !== undefined) {\n",
       "    embed_document(root);\n",
       "  } else {\n",
       "    var attempts = 0;\n",
       "    var timer = setInterval(function(root) {\n",
       "      if (root.Bokeh !== undefined && root.Bokeh.Panel !== undefined) {\n",
       "        clearInterval(timer);\n",
       "        embed_document(root);\n",
       "      } else if (document.readyState == \"complete\") {\n",
       "        attempts++;\n",
       "        if (attempts > 200) {\n",
       "          clearInterval(timer);\n",
       "          console.log(\"Bokeh: ERROR: Unable to run BokehJS code because BokehJS library is missing\");\n",
       "        }\n",
       "      }\n",
       "    }, 25, root)\n",
       "  }\n",
       "})(window);</script>"
      ],
      "text/plain": [
       ":Scatter   [Year]   (measles)"
      ]
     },
     "execution_count": 26,
     "metadata": {
      "application/vnd.holoviews_exec.v0+json": {
       "id": "2900"
      }
     },
     "output_type": "execute_result"
    }
   ],
   "source": [
    "measles_year.hvplot.scatter('Year',rot=90,cmap='viridis',size=20)"
   ]
  },
  {
   "cell_type": "code",
   "execution_count": 33,
   "metadata": {},
   "outputs": [],
   "source": [
    "measles_agg = diseases_data.groupby(['Year', 'State'])['measles'].sum()"
   ]
  },
  {
   "cell_type": "code",
   "execution_count": 34,
   "metadata": {},
   "outputs": [
    {
     "data": {},
     "metadata": {},
     "output_type": "display_data"
    },
    {
     "data": {
      "application/vnd.holoviews_exec.v0+json": "",
      "text/html": [
       "<div id='3022'>\n",
       "\n",
       "\n",
       "\n",
       "\n",
       "\n",
       "  <div class=\"bk-root\" id=\"701efc4f-7382-4865-abe1-659a2f0cb76f\" data-root-id=\"3022\"></div>\n",
       "</div>\n",
       "<script type=\"application/javascript\">(function(root) {\n",
       "  function embed_document(root) {\n",
       "    var docs_json = {\"8b11c183-e494-4765-ad97-8720ed780436\":{\"defs\":[{\"extends\":null,\"module\":null,\"name\":\"ReactiveHTML1\",\"overrides\":[],\"properties\":[]},{\"extends\":null,\"module\":null,\"name\":\"FlexBox1\",\"overrides\":[],\"properties\":[{\"default\":\"flex-start\",\"kind\":null,\"name\":\"align_content\"},{\"default\":\"flex-start\",\"kind\":null,\"name\":\"align_items\"},{\"default\":\"row\",\"kind\":null,\"name\":\"flex_direction\"},{\"default\":\"wrap\",\"kind\":null,\"name\":\"flex_wrap\"},{\"default\":\"flex-start\",\"kind\":null,\"name\":\"justify_content\"}]},{\"extends\":null,\"module\":null,\"name\":\"TemplateActions1\",\"overrides\":[],\"properties\":[{\"default\":0,\"kind\":null,\"name\":\"open_modal\"},{\"default\":0,\"kind\":null,\"name\":\"close_modal\"}]},{\"extends\":null,\"module\":null,\"name\":\"MaterialTemplateActions1\",\"overrides\":[],\"properties\":[{\"default\":0,\"kind\":null,\"name\":\"open_modal\"},{\"default\":0,\"kind\":null,\"name\":\"close_modal\"}]}],\"roots\":{\"references\":[{\"attributes\":{},\"id\":\"3045\",\"type\":\"WheelZoomTool\"},{\"attributes\":{},\"id\":\"3071\",\"type\":\"AllLabels\"},{\"attributes\":{\"bottom\":{\"field\":\"bottom\"},\"fill_color\":{\"field\":\"State\",\"transform\":{\"id\":\"3056\"}},\"hatch_color\":{\"field\":\"State\",\"transform\":{\"id\":\"3056\"}},\"line_color\":{\"value\":null},\"top\":{\"field\":\"top\"},\"width\":{\"value\":0.8},\"x\":{\"field\":\"Year\"}},\"id\":\"3060\",\"type\":\"VBar\"},{\"attributes\":{},\"id\":\"3044\",\"type\":\"PanTool\"},{\"attributes\":{},\"id\":\"3070\",\"type\":\"CategoricalTickFormatter\"},{\"attributes\":{\"overlay\":{\"id\":\"3048\"}},\"id\":\"3046\",\"type\":\"BoxZoomTool\"},{\"attributes\":{},\"id\":\"3047\",\"type\":\"ResetTool\"},{\"attributes\":{},\"id\":\"3068\",\"type\":\"AllLabels\"},{\"attributes\":{\"bottom\":{\"field\":\"bottom\"},\"fill_alpha\":{\"value\":0.2},\"fill_color\":{\"field\":\"State\",\"transform\":{\"id\":\"3056\"}},\"hatch_alpha\":{\"value\":0.2},\"hatch_color\":{\"field\":\"State\",\"transform\":{\"id\":\"3056\"}},\"line_alpha\":{\"value\":0.2},\"line_color\":{\"value\":null},\"top\":{\"field\":\"top\"},\"width\":{\"value\":0.8},\"x\":{\"field\":\"Year\"}},\"id\":\"3062\",\"type\":\"VBar\"},{\"attributes\":{\"bottom_units\":\"screen\",\"coordinates\":null,\"fill_alpha\":0.5,\"fill_color\":\"lightgrey\",\"group\":null,\"left_units\":\"screen\",\"level\":\"overlay\",\"line_alpha\":1.0,\"line_color\":\"black\",\"line_dash\":[4,4],\"line_width\":2,\"right_units\":\"screen\",\"syncable\":false,\"top_units\":\"screen\"},\"id\":\"3048\",\"type\":\"BoxAnnotation\"},{\"attributes\":{},\"id\":\"3067\",\"type\":\"BasicTickFormatter\"},{\"attributes\":{\"coordinates\":null,\"data_source\":{\"id\":\"3057\"},\"glyph\":{\"id\":\"3060\"},\"group\":null,\"hover_glyph\":null,\"muted_glyph\":{\"id\":\"3062\"},\"nonselection_glyph\":{\"id\":\"3061\"},\"selection_glyph\":{\"id\":\"3077\"},\"view\":{\"id\":\"3064\"}},\"id\":\"3063\",\"type\":\"GlyphRenderer\"},{\"attributes\":{},\"id\":\"3072\",\"type\":\"UnionRenderers\"},{\"attributes\":{\"margin\":[5,5,5,5],\"name\":\"HSpacer10215\",\"sizing_mode\":\"stretch_width\"},\"id\":\"3023\",\"type\":\"Spacer\"},{\"attributes\":{\"source\":{\"id\":\"3057\"}},\"id\":\"3064\",\"type\":\"CDSView\"},{\"attributes\":{\"end\":43.769000000000005,\"reset_end\":43.769000000000005,\"reset_start\":0.0,\"tags\":[[[\"measles\",\"measles\",null]]]},\"id\":\"3025\",\"type\":\"Range1d\"},{\"attributes\":{\"factors\":[\"Alabama\",\"California\",\"Florida\",\"New York\"],\"palette\":[\"#1f77b4\",\"#aec7e8\",\"#ff7f0e\",\"#ffbb78\"]},\"id\":\"3056\",\"type\":\"CategoricalColorMapper\"},{\"attributes\":{\"margin\":[5,5,5,5],\"name\":\"HSpacer10216\",\"sizing_mode\":\"stretch_width\"},\"id\":\"3104\",\"type\":\"Spacer\"},{\"attributes\":{\"axis\":{\"id\":\"3036\"},\"coordinates\":null,\"grid_line_color\":null,\"group\":null,\"ticker\":null},\"id\":\"3038\",\"type\":\"Grid\"},{\"attributes\":{\"tools\":[{\"id\":\"3026\"},{\"id\":\"3043\"},{\"id\":\"3044\"},{\"id\":\"3045\"},{\"id\":\"3046\"},{\"id\":\"3047\"}]},\"id\":\"3049\",\"type\":\"Toolbar\"},{\"attributes\":{\"factors\":[\"1980\",\"1981\",\"1982\",\"1983\",\"1984\",\"1985\",\"1986\",\"1987\",\"1988\",\"1989\",\"1990\"],\"tags\":[[[\"Year\",\"Year\",null]]]},\"id\":\"3024\",\"type\":\"FactorRange\"},{\"attributes\":{\"bottom\":{\"field\":\"bottom\"},\"fill_alpha\":{\"value\":0.1},\"fill_color\":{\"field\":\"State\",\"transform\":{\"id\":\"3056\"}},\"hatch_alpha\":{\"value\":0.1},\"hatch_color\":{\"field\":\"State\",\"transform\":{\"id\":\"3056\"}},\"line_alpha\":{\"value\":0.1},\"line_color\":{\"value\":null},\"top\":{\"field\":\"top\"},\"width\":{\"value\":0.8},\"x\":{\"field\":\"Year\"}},\"id\":\"3061\",\"type\":\"VBar\"},{\"attributes\":{},\"id\":\"3043\",\"type\":\"SaveTool\"},{\"attributes\":{},\"id\":\"3058\",\"type\":\"Selection\"},{\"attributes\":{\"axis_label\":\"Year\",\"coordinates\":null,\"formatter\":{\"id\":\"3070\"},\"group\":null,\"major_label_orientation\":1.5707963267948966,\"major_label_policy\":{\"id\":\"3071\"},\"ticker\":{\"id\":\"3037\"}},\"id\":\"3036\",\"type\":\"CategoricalAxis\"},{\"attributes\":{},\"id\":\"3034\",\"type\":\"LinearScale\"},{\"attributes\":{},\"id\":\"3040\",\"type\":\"BasicTicker\"},{\"attributes\":{\"children\":[{\"id\":\"3023\"},{\"id\":\"3027\"},{\"id\":\"3104\"}],\"margin\":[0,0,0,0],\"name\":\"Row10211\",\"tags\":[\"embedded\"]},\"id\":\"3022\",\"type\":\"Row\"},{\"attributes\":{},\"id\":\"3037\",\"type\":\"CategoricalTicker\"},{\"attributes\":{\"below\":[{\"id\":\"3036\"}],\"center\":[{\"id\":\"3038\"},{\"id\":\"3042\"},{\"id\":\"3075\"}],\"height\":300,\"left\":[{\"id\":\"3039\"}],\"margin\":[5,5,5,5],\"min_border_bottom\":10,\"min_border_left\":10,\"min_border_right\":10,\"min_border_top\":10,\"renderers\":[{\"id\":\"3063\"}],\"right\":[{\"id\":\"3075\"}],\"sizing_mode\":\"fixed\",\"title\":{\"id\":\"3028\"},\"toolbar\":{\"id\":\"3049\"},\"width\":700,\"x_range\":{\"id\":\"3024\"},\"x_scale\":{\"id\":\"3032\"},\"y_range\":{\"id\":\"3025\"},\"y_scale\":{\"id\":\"3034\"}},\"id\":\"3027\",\"subtype\":\"Figure\",\"type\":\"Plot\"},{\"attributes\":{},\"id\":\"3032\",\"type\":\"CategoricalScale\"},{\"attributes\":{\"data\":{\"State\":[\"Alabama\",\"Alabama\",\"Alabama\",\"Alabama\",\"Alabama\",\"Alabama\",\"Alabama\",\"Alabama\",\"Alabama\",\"Alabama\",\"Alabama\",\"California\",\"California\",\"California\",\"California\",\"California\",\"California\",\"California\",\"California\",\"California\",\"California\",\"California\",\"Florida\",\"Florida\",\"Florida\",\"Florida\",\"Florida\",\"Florida\",\"Florida\",\"Florida\",\"Florida\",\"Florida\",\"Florida\",\"New York\",\"New York\",\"New York\",\"New York\",\"New York\",\"New York\",\"New York\",\"New York\",\"New York\",\"New York\",\"New York\"],\"Year\":[\"1980\",\"1985\",\"1986\",\"1983\",\"1987\",\"1988\",\"1982\",\"1989\",\"1981\",\"1990\",\"1984\",\"1984\",\"1987\",\"1986\",\"1989\",\"1990\",\"1988\",\"1985\",\"1980\",\"1981\",\"1983\",\"1982\",\"1984\",\"1980\",\"1989\",\"1988\",\"1981\",\"1982\",\"1987\",\"1986\",\"1985\",\"1990\",\"1983\",\"1983\",\"1987\",\"1981\",\"1982\",\"1985\",\"1988\",\"1980\",\"1989\",\"1984\",\"1986\",\"1990\"],\"bottom\":{\"__ndarray__\":\"AAAAAAAAAAAAAAAAAAAAAAAAAAAAAAAAAAAAAAAAAAAAAAAAAAAAAAAAAAAAAAAAAAAAAAAAAAAAAAAAAAAAAAAAAAAAAAAAAAAAAAAAAAAAAAAAAAAAAAAAAAAAAAAAC9ejcD0Ktz97FK5H4XqUP1yPwvUoXPc/zczMzMzM5D97FK5H4XqUPwAAAAAAAAAAPQrXo3A94j8AAAAAAAAAALgehetRuJ4/mpmZmZmZqT8zMzMzMzPzP+F6FK5H4RBAmpmZmZmZIUAAAAAAAAAEQGdmZmZmZvY/rkfhehSuCUApXI/C9SgGQKRwPQrXo/g/cT0K16Nw7T9SuB6F61FAQNejcD0K1+M/zczMzMzMAEDsUbgehesLQClcj8L1KBFA4noUrkfhFECQwvUoXI/+P5DC9Shcjw5AhetRuB6FIEDNzMzMzMwkQML1KFyPwvU/rkfhehSuE0DhehSuR8FBQA==\",\"dtype\":\"float64\",\"order\":\"little\",\"shape\":[44]},\"measles\":{\"__ndarray__\":\"PQrXo3A94j8AAAAAAAAAAHsUrkfhepQ/uB6F61G4nj8L16NwPQq3P3sUrkfhepQ/mpmZmZmZqT9cj8L1KFz3PwAAAAAAAAAAzczMzMzM5D8AAAAAAAAAADMzMzMzM/M/cT0K16NwBUBSuB6F61H4P1yPwvUoXB1APgrXo3D9P0DXo3A9CtcDQHE9CtejcO0/MzMzMzMzDUBnZmZmZmb2P+F6FK5H4eI/SOF6FK5HCUB7FK5H4XrEPylcj8L1KBBAmpmZmZmZ+T8fhetRuB71Px+F61G4HgdAFa5H4XoUAEAK16NwPQrnPwrXo3A9CgtArkfhehSu7z/2KFyPwvUGQK5H4XoUrvc/4noUrkfhyj/D9Shcj8IDQIXrUbgehf8/cT0K16Nw8T9xPQrXo3DtP0jhehSuR+E/hetRuB4FJkAUrkfhehT6P+F6FK5H4eo/PgrXo3A9FUDsUbgehesRQA==\",\"dtype\":\"float64\",\"order\":\"little\",\"shape\":[44]},\"top\":{\"__ndarray__\":\"PQrXo3A94j8AAAAAAAAAAHsUrkfhepQ/uB6F61G4nj8L16NwPQq3P3sUrkfhepQ/mpmZmZmZqT9cj8L1KFz3PwAAAAAAAAAAzczMzMzM5D8AAAAAAAAAADMzMzMzM/M/KVyPwvUoBkCkcD0K16P4P5qZmZmZmSFAUrgehetRQEAAAAAAAAAEQHE9CtejcO0/4XoUrkfhEEBnZmZmZmb2P9ejcD0K1+M/rkfhehSuCUDC9Shcj8L1P4XrUbgehSBAzczMzMzMJECQwvUoXI8OQClcj8L1KBFA4noUrkfhFEDsUbgehesLQK5H4XoUrhNAkML1KFyP/j/hehSuR8FBQM3MzMzMzABAexSuR+F6AkDYo3A9CtcXQArXo3A9ChlAPgrXo3A9GUCkcD0K16MGQHE9CtejcBFAhetRuB5FM0CQwvUoXA8oQJmZmZmZmQFA9ihcj8J1JEAehetRuP5DQA==\",\"dtype\":\"float64\",\"order\":\"little\",\"shape\":[44]}},\"selected\":{\"id\":\"3058\"},\"selection_policy\":{\"id\":\"3072\"}},\"id\":\"3057\",\"type\":\"ColumnDataSource\"},{\"attributes\":{\"callback\":null,\"renderers\":[{\"id\":\"3063\"}],\"tags\":[\"hv_created\"],\"tooltips\":[[\"Year\",\"@{Year}\"],[\"State\",\"@{State}\"],[\"measles\",\"@{measles}\"]]},\"id\":\"3026\",\"type\":\"HoverTool\"},{\"attributes\":{\"label\":{\"field\":\"State\"},\"renderers\":[{\"id\":\"3063\"}]},\"id\":\"3076\",\"type\":\"LegendItem\"},{\"attributes\":{\"axis\":{\"id\":\"3039\"},\"coordinates\":null,\"dimension\":1,\"grid_line_color\":null,\"group\":null,\"ticker\":null},\"id\":\"3042\",\"type\":\"Grid\"},{\"attributes\":{\"axis_label\":\"\",\"coordinates\":null,\"formatter\":{\"id\":\"3067\"},\"group\":null,\"major_label_policy\":{\"id\":\"3068\"},\"ticker\":{\"id\":\"3040\"}},\"id\":\"3039\",\"type\":\"LinearAxis\"},{\"attributes\":{\"bottom\":{\"field\":\"bottom\"},\"fill_alpha\":{\"value\":1.0},\"fill_color\":{\"field\":\"State\",\"transform\":{\"id\":\"3056\"}},\"hatch_alpha\":{\"value\":1.0},\"hatch_color\":{\"field\":\"State\",\"transform\":{\"id\":\"3056\"}},\"hatch_scale\":{\"value\":12.0},\"hatch_weight\":{\"value\":1.0},\"line_alpha\":{\"value\":1.0},\"line_cap\":{\"value\":\"butt\"},\"line_color\":{\"value\":null},\"line_dash\":{\"value\":[]},\"line_dash_offset\":{\"value\":0},\"line_join\":{\"value\":\"bevel\"},\"line_width\":{\"value\":1},\"top\":{\"field\":\"top\"},\"width\":{\"value\":0.8},\"x\":{\"field\":\"Year\"}},\"id\":\"3077\",\"type\":\"VBar\"},{\"attributes\":{\"coordinates\":null,\"group\":null,\"items\":[{\"id\":\"3076\"}],\"location\":[0,0]},\"id\":\"3075\",\"type\":\"Legend\"},{\"attributes\":{\"coordinates\":null,\"group\":null,\"text\":\"measles\",\"text_color\":\"black\",\"text_font_size\":\"12pt\"},\"id\":\"3028\",\"type\":\"Title\"}],\"root_ids\":[\"3022\"]},\"title\":\"Bokeh Application\",\"version\":\"2.4.1\"}};\n",
       "    var render_items = [{\"docid\":\"8b11c183-e494-4765-ad97-8720ed780436\",\"root_ids\":[\"3022\"],\"roots\":{\"3022\":\"701efc4f-7382-4865-abe1-659a2f0cb76f\"}}];\n",
       "    root.Bokeh.embed.embed_items_notebook(docs_json, render_items);\n",
       "  }\n",
       "  if (root.Bokeh !== undefined && root.Bokeh.Panel !== undefined) {\n",
       "    embed_document(root);\n",
       "  } else {\n",
       "    var attempts = 0;\n",
       "    var timer = setInterval(function(root) {\n",
       "      if (root.Bokeh !== undefined && root.Bokeh.Panel !== undefined) {\n",
       "        clearInterval(timer);\n",
       "        embed_document(root);\n",
       "      } else if (document.readyState == \"complete\") {\n",
       "        attempts++;\n",
       "        if (attempts > 200) {\n",
       "          clearInterval(timer);\n",
       "          console.log(\"Bokeh: ERROR: Unable to run BokehJS code because BokehJS library is missing\");\n",
       "        }\n",
       "      }\n",
       "    }, 25, root)\n",
       "  }\n",
       "})(window);</script>"
      ],
      "text/plain": [
       ":Bars   [Year,State]   (measles)"
      ]
     },
     "execution_count": 34,
     "metadata": {
      "application/vnd.holoviews_exec.v0+json": {
       "id": "3022"
      }
     },
     "output_type": "execute_result"
    }
   ],
   "source": [
    "states = ['New York', 'Alabama', 'California', 'Florida']\n",
    "#measles_agg.loc[1980:1990,states].hvplot.bar('Year', by='State', stacked = True, rot=90,cmap=['red','green','blue','yellow'])\n",
    "measles_agg.loc[1980:1990,states].hvplot.bar('Year', by='State', stacked = True, rot=90,cmap='tab20',line_color=None)"
   ]
  },
  {
   "cell_type": "code",
   "execution_count": 35,
   "metadata": {},
   "outputs": [
    {
     "data": {},
     "metadata": {},
     "output_type": "display_data"
    },
    {
     "data": {
      "application/vnd.holoviews_exec.v0+json": "",
      "text/html": [
       "<div id='3156'>\n",
       "\n",
       "\n",
       "\n",
       "\n",
       "\n",
       "  <div class=\"bk-root\" id=\"5d32e2fd-372a-4da7-9dd9-1c994d23efc7\" data-root-id=\"3156\"></div>\n",
       "</div>\n",
       "<script type=\"application/javascript\">(function(root) {\n",
       "  function embed_document(root) {\n",
       "    var docs_json = {\"62ce64d3-14b6-46ed-a040-5d2bd6d849f1\":{\"defs\":[{\"extends\":null,\"module\":null,\"name\":\"ReactiveHTML1\",\"overrides\":[],\"properties\":[]},{\"extends\":null,\"module\":null,\"name\":\"FlexBox1\",\"overrides\":[],\"properties\":[{\"default\":\"flex-start\",\"kind\":null,\"name\":\"align_content\"},{\"default\":\"flex-start\",\"kind\":null,\"name\":\"align_items\"},{\"default\":\"row\",\"kind\":null,\"name\":\"flex_direction\"},{\"default\":\"wrap\",\"kind\":null,\"name\":\"flex_wrap\"},{\"default\":\"flex-start\",\"kind\":null,\"name\":\"justify_content\"}]},{\"extends\":null,\"module\":null,\"name\":\"TemplateActions1\",\"overrides\":[],\"properties\":[{\"default\":0,\"kind\":null,\"name\":\"open_modal\"},{\"default\":0,\"kind\":null,\"name\":\"close_modal\"}]},{\"extends\":null,\"module\":null,\"name\":\"MaterialTemplateActions1\",\"overrides\":[],\"properties\":[{\"default\":0,\"kind\":null,\"name\":\"open_modal\"},{\"default\":0,\"kind\":null,\"name\":\"close_modal\"}]}],\"roots\":{\"references\":[{\"attributes\":{\"axis\":{\"id\":\"3173\"},\"coordinates\":null,\"dimension\":1,\"grid_line_color\":null,\"group\":null,\"ticker\":null},\"id\":\"3176\",\"type\":\"Grid\"},{\"attributes\":{\"fill_alpha\":{\"value\":0.1},\"fill_color\":{\"field\":\"State\",\"transform\":{\"id\":\"3190\"}},\"hatch_alpha\":{\"value\":0.1},\"hatch_color\":{\"field\":\"State\",\"transform\":{\"id\":\"3190\"}},\"line_alpha\":{\"value\":0.1},\"top\":{\"field\":\"measles\"},\"width\":{\"value\":0.8},\"x\":{\"field\":\"xoffsets\"}},\"id\":\"3195\",\"type\":\"VBar\"},{\"attributes\":{\"axis_label\":\"\",\"coordinates\":null,\"formatter\":{\"id\":\"3204\"},\"group\":null,\"major_label_policy\":{\"id\":\"3205\"},\"ticker\":{\"id\":\"3174\"}},\"id\":\"3173\",\"type\":\"LinearAxis\"},{\"attributes\":{},\"id\":\"3174\",\"type\":\"BasicTicker\"},{\"attributes\":{},\"id\":\"3179\",\"type\":\"WheelZoomTool\"},{\"attributes\":{},\"id\":\"3177\",\"type\":\"SaveTool\"},{\"attributes\":{\"children\":[{\"id\":\"3157\"},{\"id\":\"3161\"},{\"id\":\"3226\"}],\"margin\":[0,0,0,0],\"name\":\"Row10470\",\"tags\":[\"embedded\"]},\"id\":\"3156\",\"type\":\"Row\"},{\"attributes\":{\"margin\":[5,5,5,5],\"name\":\"HSpacer10474\",\"sizing_mode\":\"stretch_width\"},\"id\":\"3157\",\"type\":\"Spacer\"},{\"attributes\":{\"overlay\":{\"id\":\"3182\"}},\"id\":\"3180\",\"type\":\"BoxZoomTool\"},{\"attributes\":{},\"id\":\"3205\",\"type\":\"AllLabels\"},{\"attributes\":{},\"id\":\"3181\",\"type\":\"ResetTool\"},{\"attributes\":{\"source\":{\"id\":\"3191\"}},\"id\":\"3198\",\"type\":\"CDSView\"},{\"attributes\":{\"bottom_units\":\"screen\",\"coordinates\":null,\"fill_alpha\":0.5,\"fill_color\":\"lightgrey\",\"group\":null,\"left_units\":\"screen\",\"level\":\"overlay\",\"line_alpha\":1.0,\"line_color\":\"black\",\"line_dash\":[4,4],\"line_width\":2,\"right_units\":\"screen\",\"syncable\":false,\"top_units\":\"screen\"},\"id\":\"3182\",\"type\":\"BoxAnnotation\"},{\"attributes\":{},\"id\":\"3204\",\"type\":\"BasicTickFormatter\"},{\"attributes\":{},\"id\":\"3213\",\"type\":\"UnionRenderers\"},{\"attributes\":{\"end\":35.189,\"reset_end\":35.189,\"reset_start\":0.0,\"tags\":[[[\"measles\",\"measles\",null]]]},\"id\":\"3159\",\"type\":\"Range1d\"},{\"attributes\":{},\"id\":\"3202\",\"type\":\"AllLabels\"},{\"attributes\":{\"coordinates\":null,\"data_source\":{\"id\":\"3191\"},\"glyph\":{\"id\":\"3194\"},\"group\":null,\"hover_glyph\":null,\"muted_glyph\":{\"id\":\"3196\"},\"nonselection_glyph\":{\"id\":\"3195\"},\"selection_glyph\":{\"id\":\"3199\"},\"view\":{\"id\":\"3198\"}},\"id\":\"3197\",\"type\":\"GlyphRenderer\"},{\"attributes\":{\"tools\":[{\"id\":\"3160\"},{\"id\":\"3177\"},{\"id\":\"3178\"},{\"id\":\"3179\"},{\"id\":\"3180\"},{\"id\":\"3181\"}]},\"id\":\"3183\",\"type\":\"Toolbar\"},{\"attributes\":{\"data\":{\"State\":[\"Alabama\",\"Alabama\",\"Alabama\",\"Alabama\",\"Alabama\",\"Alabama\",\"Alabama\",\"Alabama\",\"Alabama\",\"Alabama\",\"Alabama\",\"California\",\"California\",\"California\",\"California\",\"California\",\"California\",\"California\",\"California\",\"California\",\"California\",\"California\",\"Florida\",\"Florida\",\"Florida\",\"Florida\",\"Florida\",\"Florida\",\"Florida\",\"Florida\",\"Florida\",\"Florida\",\"Florida\",\"New York\",\"New York\",\"New York\",\"New York\",\"New York\",\"New York\",\"New York\",\"New York\",\"New York\",\"New York\",\"New York\"],\"Year\":[\"1980\",\"1981\",\"1982\",\"1983\",\"1984\",\"1985\",\"1986\",\"1987\",\"1988\",\"1989\",\"1990\",\"1980\",\"1981\",\"1982\",\"1983\",\"1984\",\"1985\",\"1986\",\"1987\",\"1988\",\"1989\",\"1990\",\"1980\",\"1981\",\"1982\",\"1983\",\"1984\",\"1985\",\"1986\",\"1987\",\"1988\",\"1989\",\"1990\",\"1980\",\"1981\",\"1982\",\"1983\",\"1984\",\"1985\",\"1986\",\"1987\",\"1988\",\"1989\",\"1990\"],\"measles\":{\"__ndarray__\":\"PQrXo3A94j8AAAAAAAAAAJqZmZmZmak/uB6F61G4nj8AAAAAAAAAAAAAAAAAAAAAexSuR+F6lD8L16NwPQq3P3sUrkfhepQ/XI/C9Shc9z/NzMzMzMzkPzMzMzMzMw1AZ2ZmZmZm9j9I4XoUrkcJQOF6FK5H4eI/MzMzMzMz8z9xPQrXo3DtP1K4HoXrUfg/cT0K16NwBUDXo3A9CtcDQFyPwvUoXB1APgrXo3D9P0ApXI/C9SgQQB+F61G4HgdAFa5H4XoUAECuR+F6FK73P3sUrkfhesQ/rkfhehSu7z8K16NwPQoLQArXo3A9Cuc/H4XrUbge9T+amZmZmZn5P/YoXI/C9QZAhetRuB4FJkCF61G4HoX/P3E9CtejcPE/4noUrkfhyj/hehSuR+HqP3E9CtejcO0/PgrXo3A9FUDD9Shcj8IDQEjhehSuR+E/FK5H4XoU+j/sUbgehesRQA==\",\"dtype\":\"float64\",\"order\":\"little\",\"shape\":[44]},\"xoffsets\":[[\"1980\",\"Alabama\"],[\"1981\",\"Alabama\"],[\"1982\",\"Alabama\"],[\"1983\",\"Alabama\"],[\"1984\",\"Alabama\"],[\"1985\",\"Alabama\"],[\"1986\",\"Alabama\"],[\"1987\",\"Alabama\"],[\"1988\",\"Alabama\"],[\"1989\",\"Alabama\"],[\"1990\",\"Alabama\"],[\"1980\",\"California\"],[\"1981\",\"California\"],[\"1982\",\"California\"],[\"1983\",\"California\"],[\"1984\",\"California\"],[\"1985\",\"California\"],[\"1986\",\"California\"],[\"1987\",\"California\"],[\"1988\",\"California\"],[\"1989\",\"California\"],[\"1990\",\"California\"],[\"1980\",\"Florida\"],[\"1981\",\"Florida\"],[\"1982\",\"Florida\"],[\"1983\",\"Florida\"],[\"1984\",\"Florida\"],[\"1985\",\"Florida\"],[\"1986\",\"Florida\"],[\"1987\",\"Florida\"],[\"1988\",\"Florida\"],[\"1989\",\"Florida\"],[\"1990\",\"Florida\"],[\"1980\",\"New York\"],[\"1981\",\"New York\"],[\"1982\",\"New York\"],[\"1983\",\"New York\"],[\"1984\",\"New York\"],[\"1985\",\"New York\"],[\"1986\",\"New York\"],[\"1987\",\"New York\"],[\"1988\",\"New York\"],[\"1989\",\"New York\"],[\"1990\",\"New York\"]]},\"selected\":{\"id\":\"3192\"},\"selection_policy\":{\"id\":\"3213\"}},\"id\":\"3191\",\"type\":\"ColumnDataSource\"},{\"attributes\":{\"factors\":[\"Alabama\",\"California\",\"Florida\",\"New York\"],\"palette\":[\"#30a2da\",\"#fc4f30\",\"#e5ae38\",\"#6d904f\"]},\"id\":\"3190\",\"type\":\"CategoricalColorMapper\"},{\"attributes\":{\"coordinates\":null,\"group\":null,\"text\":\"measles\",\"text_color\":\"black\",\"text_font_size\":\"12pt\"},\"id\":\"3162\",\"type\":\"Title\"},{\"attributes\":{},\"id\":\"3192\",\"type\":\"Selection\"},{\"attributes\":{\"fill_alpha\":{\"value\":0.2},\"fill_color\":{\"field\":\"State\",\"transform\":{\"id\":\"3190\"}},\"hatch_alpha\":{\"value\":0.2},\"hatch_color\":{\"field\":\"State\",\"transform\":{\"id\":\"3190\"}},\"line_alpha\":{\"value\":0.2},\"top\":{\"field\":\"measles\"},\"width\":{\"value\":0.8},\"x\":{\"field\":\"xoffsets\"}},\"id\":\"3196\",\"type\":\"VBar\"},{\"attributes\":{\"bottom\":{\"value\":0},\"fill_alpha\":{\"value\":1.0},\"fill_color\":{\"field\":\"State\",\"transform\":{\"id\":\"3190\"}},\"hatch_alpha\":{\"value\":1.0},\"hatch_color\":{\"field\":\"State\",\"transform\":{\"id\":\"3190\"}},\"hatch_scale\":{\"value\":12.0},\"hatch_weight\":{\"value\":1.0},\"line_alpha\":{\"value\":1.0},\"line_cap\":{\"value\":\"butt\"},\"line_color\":{\"value\":\"black\"},\"line_dash\":{\"value\":[]},\"line_dash_offset\":{\"value\":0},\"line_join\":{\"value\":\"bevel\"},\"line_width\":{\"value\":1},\"top\":{\"field\":\"measles\"},\"width\":{\"value\":0.8},\"x\":{\"field\":\"xoffsets\"}},\"id\":\"3199\",\"type\":\"VBar\"},{\"attributes\":{},\"id\":\"3166\",\"type\":\"CategoricalScale\"},{\"attributes\":{\"callback\":null,\"renderers\":[{\"id\":\"3197\"}],\"tags\":[\"hv_created\"],\"tooltips\":[[\"Year\",\"@{Year}\"],[\"State\",\"@{State}\"],[\"measles\",\"@{measles}\"]]},\"id\":\"3160\",\"type\":\"HoverTool\"},{\"attributes\":{},\"id\":\"3168\",\"type\":\"LinearScale\"},{\"attributes\":{\"factors\":[[\"1980\",\"Alabama\"],[\"1980\",\"California\"],[\"1980\",\"Florida\"],[\"1980\",\"New York\"],[\"1981\",\"Alabama\"],[\"1981\",\"California\"],[\"1981\",\"Florida\"],[\"1981\",\"New York\"],[\"1982\",\"Alabama\"],[\"1982\",\"California\"],[\"1982\",\"Florida\"],[\"1982\",\"New York\"],[\"1983\",\"Alabama\"],[\"1983\",\"California\"],[\"1983\",\"Florida\"],[\"1983\",\"New York\"],[\"1984\",\"Alabama\"],[\"1984\",\"California\"],[\"1984\",\"Florida\"],[\"1984\",\"New York\"],[\"1985\",\"Alabama\"],[\"1985\",\"California\"],[\"1985\",\"Florida\"],[\"1985\",\"New York\"],[\"1986\",\"Alabama\"],[\"1986\",\"California\"],[\"1986\",\"Florida\"],[\"1986\",\"New York\"],[\"1987\",\"Alabama\"],[\"1987\",\"California\"],[\"1987\",\"Florida\"],[\"1987\",\"New York\"],[\"1988\",\"Alabama\"],[\"1988\",\"California\"],[\"1988\",\"Florida\"],[\"1988\",\"New York\"],[\"1989\",\"Alabama\"],[\"1989\",\"California\"],[\"1989\",\"Florida\"],[\"1989\",\"New York\"],[\"1990\",\"Alabama\"],[\"1990\",\"California\"],[\"1990\",\"Florida\"],[\"1990\",\"New York\"]],\"tags\":[[[\"Year\",\"Year\",null],[\"State\",\"State\",null]]]},\"id\":\"3158\",\"type\":\"FactorRange\"},{\"attributes\":{},\"id\":\"3201\",\"type\":\"CategoricalTickFormatter\"},{\"attributes\":{\"below\":[{\"id\":\"3170\"}],\"center\":[{\"id\":\"3172\"},{\"id\":\"3176\"}],\"height\":300,\"left\":[{\"id\":\"3173\"}],\"margin\":[5,5,5,5],\"min_border_bottom\":10,\"min_border_left\":10,\"min_border_right\":10,\"min_border_top\":10,\"renderers\":[{\"id\":\"3197\"}],\"sizing_mode\":\"fixed\",\"title\":{\"id\":\"3162\"},\"toolbar\":{\"id\":\"3183\"},\"width\":700,\"x_range\":{\"id\":\"3158\"},\"x_scale\":{\"id\":\"3166\"},\"y_range\":{\"id\":\"3159\"},\"y_scale\":{\"id\":\"3168\"}},\"id\":\"3161\",\"subtype\":\"Figure\",\"type\":\"Plot\"},{\"attributes\":{},\"id\":\"3171\",\"type\":\"CategoricalTicker\"},{\"attributes\":{\"fill_color\":{\"field\":\"State\",\"transform\":{\"id\":\"3190\"}},\"hatch_color\":{\"field\":\"State\",\"transform\":{\"id\":\"3190\"}},\"top\":{\"field\":\"measles\"},\"width\":{\"value\":0.8},\"x\":{\"field\":\"xoffsets\"}},\"id\":\"3194\",\"type\":\"VBar\"},{\"attributes\":{\"axis\":{\"id\":\"3170\"},\"coordinates\":null,\"grid_line_color\":null,\"group\":null,\"ticker\":null},\"id\":\"3172\",\"type\":\"Grid\"},{\"attributes\":{\"margin\":[5,5,5,5],\"name\":\"HSpacer10475\",\"sizing_mode\":\"stretch_width\"},\"id\":\"3226\",\"type\":\"Spacer\"},{\"attributes\":{},\"id\":\"3178\",\"type\":\"PanTool\"},{\"attributes\":{\"axis_label\":\"Year, State\",\"coordinates\":null,\"formatter\":{\"id\":\"3201\"},\"group\":null,\"major_label_orientation\":1.5707963267948966,\"major_label_policy\":{\"id\":\"3202\"},\"ticker\":{\"id\":\"3171\"}},\"id\":\"3170\",\"type\":\"CategoricalAxis\"}],\"root_ids\":[\"3156\"]},\"title\":\"Bokeh Application\",\"version\":\"2.4.1\"}};\n",
       "    var render_items = [{\"docid\":\"62ce64d3-14b6-46ed-a040-5d2bd6d849f1\",\"root_ids\":[\"3156\"],\"roots\":{\"3156\":\"5d32e2fd-372a-4da7-9dd9-1c994d23efc7\"}}];\n",
       "    root.Bokeh.embed.embed_items_notebook(docs_json, render_items);\n",
       "  }\n",
       "  if (root.Bokeh !== undefined && root.Bokeh.Panel !== undefined) {\n",
       "    embed_document(root);\n",
       "  } else {\n",
       "    var attempts = 0;\n",
       "    var timer = setInterval(function(root) {\n",
       "      if (root.Bokeh !== undefined && root.Bokeh.Panel !== undefined) {\n",
       "        clearInterval(timer);\n",
       "        embed_document(root);\n",
       "      } else if (document.readyState == \"complete\") {\n",
       "        attempts++;\n",
       "        if (attempts > 200) {\n",
       "          clearInterval(timer);\n",
       "          console.log(\"Bokeh: ERROR: Unable to run BokehJS code because BokehJS library is missing\");\n",
       "        }\n",
       "      }\n",
       "    }, 25, root)\n",
       "  }\n",
       "})(window);</script>"
      ],
      "text/plain": [
       ":Bars   [Year,State]   (measles)"
      ]
     },
     "execution_count": 35,
     "metadata": {
      "application/vnd.holoviews_exec.v0+json": {
       "id": "3156"
      }
     },
     "output_type": "execute_result"
    }
   ],
   "source": [
    "states = ['New York', 'Alabama', 'California', 'Florida']\n",
    "measles_agg.loc[1980:1990, states].hvplot.bar('Year', by='State', rot=90)"
   ]
  },
  {
   "cell_type": "code",
   "execution_count": null,
   "metadata": {},
   "outputs": [],
   "source": []
  }
 ],
 "metadata": {
  "kernelspec": {
   "display_name": "Python 3 (ipykernel)",
   "language": "python",
   "name": "python3"
  },
  "language_info": {
   "codemirror_mode": {
    "name": "ipython",
    "version": 3
   },
   "file_extension": ".py",
   "mimetype": "text/x-python",
   "name": "python",
   "nbconvert_exporter": "python",
   "pygments_lexer": "ipython3",
   "version": "3.9.7"
  }
 },
 "nbformat": 4,
 "nbformat_minor": 2
}
