{
 "cells": [
  {
   "cell_type": "code",
   "execution_count": 2,
   "metadata": {},
   "outputs": [],
   "source": [
    "import re"
   ]
  },
  {
   "attachments": {},
   "cell_type": "markdown",
   "metadata": {},
   "source": [
    "#### Extracting phone numbers from a text document:\n",
    "Problem: You have a text document containing a mix of phone numbers in different formats, such as (123) 456-7890, 123-456-7890, 123.456.7890, +31636363634, 075-63546725. Your task is to extract all phone numbers from the text and store them in a list."
   ]
  },
  {
   "cell_type": "code",
   "execution_count": 3,
   "metadata": {},
   "outputs": [
    {
     "name": "stdout",
     "output_type": "stream",
     "text": [
      "['(123) 456-7890', '123-456-7890', '123.456.7890', '+31636363634, 075-6354', '(123) 456-7890', '123-456-7890']\n"
     ]
    }
   ],
   "source": [
    "text = \"\"\"\n",
    "The phone numbers of the employees are (123) 456-7890, 123-456-7890, 123.456.7890, +31636363634, 075-63546725.\n",
    "You can also contact us on (123) 456-7890 and 123-456-7890.\n",
    "\"\"\"\n",
    "pattern = re.compile(r'[\\+\\(]*\\d*\\d{3}[)-.]*\\s*\\d{3}[-. ]*\\d{4}')\n",
    "matches = re.findall(pattern, text)\n",
    "print(matches)"
   ]
  },
  {
   "attachments": {},
   "cell_type": "markdown",
   "metadata": {},
   "source": [
    "#### Parsing email addresses:\n",
    "Problem: You have a text document containing a mix of email addresses in different formats, such as john.doe@example.com, johndoe@example.com, john_doe@example.com. Your task is to extract all email addresses from the text and store them in a list."
   ]
  },
  {
   "cell_type": "code",
   "execution_count": 4,
   "metadata": {},
   "outputs": [
    {
     "name": "stdout",
     "output_type": "stream",
     "text": [
      "['doe@example.com', 'johndoe@example.com', 'john_doe@example.com', 'info@example.com', 'contact@example.com']\n"
     ]
    }
   ],
   "source": [
    "text = \"\"\"\n",
    "The email addresses of the employees are john.doe@example.com, johndoe@example.com, john_doe@example.com.\n",
    "You can also reach us at info@example.com or contact@example.com.\n",
    "\"\"\"\n",
    "\n",
    "pattern = re.compile(r'\\w+@\\w+\\.\\w+')\n",
    "matches = re.findall(pattern, text)\n",
    "print(matches)"
   ]
  },
  {
   "attachments": {},
   "cell_type": "markdown",
   "metadata": {},
   "source": [
    "#### Finding specific words in a text:\n",
    "Problem: You have a text document containing a large amount of text, and you want to find all occurrences of a specific word, such as \"example\". Your task is to use regular expressions to find all instances of the word in the text."
   ]
  },
  {
   "cell_type": "code",
   "execution_count": 5,
   "metadata": {},
   "outputs": [
    {
     "name": "stdout",
     "output_type": "stream",
     "text": [
      "['example', 'example', 'example']\n"
     ]
    }
   ],
   "source": [
    "text = \"\"\"\n",
    "This is an example of how to use regular expressions to find specific words in a text.\n",
    "For example, you can use the word \"example\" to test the regular expression.\n",
    "\"\"\"\n",
    "\n",
    "search = input(\"What would you like to search for: \")\n",
    "print(re.findall(search, text))"
   ]
  },
  {
   "attachments": {},
   "cell_type": "markdown",
   "metadata": {},
   "source": [
    "#### Replacing text:\n",
    "Problem: You have a text document containing specific text patterns that you want to replace with new text. For example, you may want to replace all occurrences of the word \"example\" with \"instance\". Your task is to use regular expressions to replace the specific text patterns with new text."
   ]
  },
  {
   "cell_type": "code",
   "execution_count": 6,
   "metadata": {},
   "outputs": [
    {
     "name": "stdout",
     "output_type": "stream",
     "text": [
      "\n",
      "This is an instance of how to use regular expressions to find specific words in a text.\n",
      "For instance, you can use the word \"instance\" to test the regular expression.\n",
      "\n"
     ]
    }
   ],
   "source": [
    "def ReplaceText(search_word, replace_word, text_source):\n",
    "    if re.search(search_word, text_source) != None:\n",
    "        return re.sub(search_word, replace_word, text_source)\n",
    "\n",
    "        \n",
    "text = \"\"\"\n",
    "This is an example of how to use regular expressions to find specific words in a text.\n",
    "For example, you can use the word \"example\" to test the regular expression.\n",
    "\"\"\"\n",
    "\n",
    "search = input(\"What word would you like to replace?: \")\n",
    "replace = input(f\"What word would you like to replace \\\"{search}\\\" with?: \")\n",
    "print(ReplaceText(search, replace, text))"
   ]
  },
  {
   "attachments": {},
   "cell_type": "markdown",
   "metadata": {},
   "source": [
    "#### Extracting URLs from a webpage:\n",
    "Problem: You have the source code of a webpage, and you want to extract all URLs contained within it. Your task is to use regular expressions to extract all URLs from the source code and store them in a list."
   ]
  },
  {
   "cell_type": "code",
   "execution_count": 7,
   "metadata": {},
   "outputs": [
    {
     "name": "stdout",
     "output_type": "stream",
     "text": [
      "['https://www.example.com/', 'https://www.example.net/', 'https://www.example.org/']\n"
     ]
    }
   ],
   "source": [
    "text = \"\"\"\n",
    "<html>\n",
    "  <body>\n",
    "    <a href=\"https://www.example.com/\">Example</a>\n",
    "    <a href=\"https://www.example.net/\">Example</a>\n",
    "    <a href=\"https://www.example.org/\">Example</a>\n",
    "  </body>\n",
    "</html>\n",
    "\"\"\"\n",
    "print(re.findall(r'https://www\\.\\w+\\.\\w+/', text))"
   ]
  },
  {
   "attachments": {},
   "cell_type": "markdown",
   "metadata": {},
   "source": [
    "#### Validating password strength:\n",
    "Problem: You want to validate the strength of a password entered by a user. You want the password to contain at least one uppercase letter, one lowercase letter, one number, and one special character, and have a minimum length of 8 characters. Your task is to use regular expressions to check if the entered password matches the requirements."
   ]
  },
  {
   "cell_type": "code",
   "execution_count": 8,
   "metadata": {},
   "outputs": [
    {
     "name": "stdout",
     "output_type": "stream",
     "text": [
      "Password is valid.\n"
     ]
    }
   ],
   "source": [
    "# ChatGPT Solution:\n",
    "\n",
    "password = \"P@ssword1\"\n",
    "\n",
    "# Check for at least one uppercase letter\n",
    "uppercase_check = re.search(r\"[A-Z]\", password)\n",
    "# Check for at least one lowercase letter\n",
    "lowercase_check = re.search(r\"[a-z]\", password)\n",
    "# Check for at least one number\n",
    "number_check = re.search(r\"[0-9]\", password)\n",
    "# Check for at least one special character\n",
    "special_check = re.search(r\"[!@#$%^&*()_+]\", password)\n",
    "# Check for minimum length of 8 characters\n",
    "length_check = re.search(r\".{8,}\", password)\n",
    "\n",
    "if (uppercase_check and lowercase_check and number_check and special_check and length_check):\n",
    "    print(\"Password is valid.\")\n",
    "else:\n",
    "    print(\"Password is not valid.\")"
   ]
  },
  {
   "attachments": {},
   "cell_type": "markdown",
   "metadata": {},
   "source": [
    "#### Extracting IP addresses:\n",
    "Problem: You have a text document containing a mix of IP addresses in different formats, such as \"192.168.1.1\", \"10.0.0.1\", \"172.16.0.1\". Your task is to extract all IP addresses from the text and store them in a list."
   ]
  },
  {
   "cell_type": "code",
   "execution_count": 9,
   "metadata": {},
   "outputs": [
    {
     "name": "stdout",
     "output_type": "stream",
     "text": [
      "['192.168.1.1', '10.0.0.1', '172.16.0.1', '10.0.0.1', '172.16.0.1']\n"
     ]
    }
   ],
   "source": [
    "text = \"\"\"\n",
    "The IP addresses of the servers are 192.168.1.1, 10.0.0.1, 172.16.0.1. You can also connect to the servers using the IP addresses 10.0.0.1 and 172.16.0.1.\n",
    "\"\"\"\n",
    "pattern = re.compile(r'(\\d{1,3}\\.\\d{1,3}\\.\\d{1,3}\\.\\d{1,3})')\n",
    "print(re.findall(pattern, text))\n"
   ]
  },
  {
   "attachments": {},
   "cell_type": "markdown",
   "metadata": {},
   "source": [
    "#### Extracting specific information from a log file:\n",
    "Problem: You have a log file containing a mix of information, such as timestamps, error messages, and IP addresses, and you need to extract specific information from the log file and store it in a structured format. Your task is to use regular expressions to extract the specific information from the log file."
   ]
  },
  {
   "cell_type": "code",
   "execution_count": 13,
   "metadata": {},
   "outputs": [
    {
     "name": "stdout",
     "output_type": "stream",
     "text": [
      "Date:2022-01-01\n",
      "Time_Stamp:09:00:00\n",
      "Error_msg:[ERROR]\n",
      "IP_address:192.168.1.1\n",
      "\n",
      "Date:2022-01-01\n",
      "Time_Stamp:09:05:00\n",
      "Error_msg:[WARNING]\n",
      "IP_address:192.168.1.2\n",
      "\n",
      "Date:2022-01-01\n",
      "Time_Stamp:09:10:00\n",
      "Error_msg:[INFO]\n",
      "IP_address:192.168.1.3\n",
      "\n"
     ]
    }
   ],
   "source": [
    "text = \"\"\"\n",
    "[2022-01-01 09:00:00] [ERROR] [192.168.1.1] Error message 1\n",
    "[2022-01-01 09:05:00] [WARNING] [192.168.1.2] Error message 2\n",
    "[2022-01-01 09:10:00] [INFO] [192.168.1.3] Error message 3\n",
    "\"\"\"\n",
    "pattern = re.compile(r'\\[(?P<Date>\\d{4}-\\d{2}-\\d{2}) (?P<Time_Stamp>\\d{2}:\\d{2}:\\d{2})\\] (?P<Error_msg>\\[[A-Z]+\\]) \\[(?P<IP_address>\\d{1,3}\\.\\d{1,3}\\.\\d{1,3}\\.\\d{1,3})\\]')\n",
    "matches = re.finditer(pattern, text)\n",
    "for match in matches:\n",
    "    for k,v in match.groupdict().items():\n",
    "        print(f\"{k}:{v}\")\n",
    "    print()"
   ]
  },
  {
   "cell_type": "code",
   "execution_count": null,
   "metadata": {},
   "outputs": [],
   "source": []
  }
 ],
 "metadata": {
  "kernelspec": {
   "display_name": "Python 3",
   "language": "python",
   "name": "python3"
  },
  "language_info": {
   "codemirror_mode": {
    "name": "ipython",
    "version": 3
   },
   "file_extension": ".py",
   "mimetype": "text/x-python",
   "name": "python",
   "nbconvert_exporter": "python",
   "pygments_lexer": "ipython3",
   "version": "3.10.6 (tags/v3.10.6:9c7b4bd, Aug  1 2022, 21:53:49) [MSC v.1932 64 bit (AMD64)]"
  },
  "orig_nbformat": 4,
  "vscode": {
   "interpreter": {
    "hash": "52634da84371cba311ea128a5ea7cdc41ff074b781779e754b270ff9f8153cee"
   }
  }
 },
 "nbformat": 4,
 "nbformat_minor": 2
}
