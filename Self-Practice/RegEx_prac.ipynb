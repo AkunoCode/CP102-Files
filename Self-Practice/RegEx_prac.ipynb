{
 "cells": [
  {
   "attachments": {},
   "cell_type": "markdown",
   "metadata": {},
   "source": [
    "# Contact Information Fetcher"
   ]
  },
  {
   "cell_type": "code",
   "execution_count": 1,
   "metadata": {},
   "outputs": [
    {
     "name": "stdout",
     "output_type": "stream",
     "text": [
      "\n",
      "Here are the lists of phone numbers:\n",
      "\t555-555-5558\n",
      "\t555 555 5559\n",
      "\t555-555-5560\n",
      "\n",
      "Here are the lists of emails:\n",
      "\tfinance@example.com\n",
      "\tmedia@example.com\n",
      "\temergency@example.com\n"
     ]
    }
   ],
   "source": [
    "import re\n",
    "\n",
    "text = \"\"\"\n",
    "\"If you need to reach our finance department, please email finance@example.com or call 555-555-5558.\n",
    "For press and media related inquiries, please email media@example.com or call 555 555 5559.\n",
    "For any urgent matters, please contact our 24/7 hotline at 555-555-5560 or email emergency@example.com\"\n",
    "\"\"\"\n",
    "\n",
    "class InfoFetcher:\n",
    "    def __init__(self, text) -> None:\n",
    "        self.text = text\n",
    "        self.address = \"\"\n",
    "        self.phone = \"\"\n",
    "\n",
    "    def phone_fetcher(self):\n",
    "        phone_pattern = re.compile(r'\\d{3}[\\-\\s]?\\d{3}[\\-\\s]?\\d{4}')\n",
    "        matches = re.finditer(phone_pattern,self.text)\n",
    "        return [i.group() for i in matches]\n",
    "\n",
    "    def email_fetcher(self):\n",
    "        email_pattern = re.compile(r'\\w+@\\w+\\.[a-zA-Z]{2,4}')\n",
    "        matches = re.finditer(email_pattern,self.text)\n",
    "        return [i.group() for i in matches]\n",
    "\n",
    "    def summary(self):\n",
    "        print(\"\\nHere are the lists of phone numbers:\")\n",
    "        for i in self.phone_fetcher():\n",
    "            print(f\"\\t{i}\")\n",
    "        print(\"\\nHere are the lists of emails:\")\n",
    "        for i in self.email_fetcher():\n",
    "            print(f\"\\t{i}\")\n",
    "\n",
    "Contacts = InfoFetcher(text)\n",
    "Contacts.summary()\n"
   ]
  },
  {
   "cell_type": "code",
   "execution_count": 2,
   "metadata": {},
   "outputs": [
    {
     "name": "stdout",
     "output_type": "stream",
     "text": [
      "\n",
      "Here are the lists of phone numbers: 555-555-5558, 555 555 5559, 555-555-5560\n",
      "\n",
      "Here are the lists of emails: finance@example.com, media@example.com, emergency@example.com\n"
     ]
    }
   ],
   "source": [
    "#Optimized ChatGPT Version\n",
    "\n",
    "import re\n",
    "\n",
    "class InfoFetcher:\n",
    "    def __init__(self, text: str) -> None:\n",
    "        self.text = text\n",
    "        # Removed the phone and email variables as they were not used.\n",
    "\n",
    "    def fetch(self, pattern: str) -> list:\n",
    "        # Changed into a reusable pattern finder for phone and email.\n",
    "        matches = re.finditer(pattern, self.text)\n",
    "        return [match.group() for match in matches]\n",
    "\n",
    "    def phone_fetcher(self):\n",
    "        phone_pattern = re.compile(r'\\d{3}[\\-\\s]?\\d{3}[\\-\\s]?\\d{4}')\n",
    "        return self.fetch(phone_pattern) # Automatically calls the fetch() method\n",
    "\n",
    "    def email_fetcher(self):\n",
    "        email_pattern = re.compile(r'\\w+@\\w+\\.[a-zA-Z]{2,4}')\n",
    "        return self.fetch(email_pattern) # Automatically calls the fetch() method\n",
    "\n",
    "    def summary(self):\n",
    "        # Automatically calls the phone_fetcher() and email_fetcher() method\n",
    "        print(f\"\\nHere are the lists of phone numbers: {', '.join(self.phone_fetcher())}\")\n",
    "        print(f\"\\nHere are the lists of emails: {', '.join(self.email_fetcher())}\")\n",
    "\n",
    "text = \"\"\"\n",
    "\"If you need to reach our finance department, please email finance@example.com or call 555-555-5558.\n",
    "For press and media related inquiries, please email media@example.com or call 555 555 5559.\n",
    "For any urgent matters, please contact our 24/7 hotline at 555-555-5560 or email emergency@example.com\"\n",
    "\"\"\"\n",
    "\n",
    "Contacts = InfoFetcher(text)\n",
    "Contacts.summary()"
   ]
  },
  {
   "attachments": {},
   "cell_type": "markdown",
   "metadata": {},
   "source": [
    "# Invitation Summarizer"
   ]
  },
  {
   "cell_type": "code",
   "execution_count": null,
   "metadata": {},
   "outputs": [],
   "source": [
    "import re\n",
    "\n",
    "text1 = \"\"\"\n",
    "Subject: Invitation to \"The Annual Charity Gala\"\n",
    "\n",
    "Dear John,\n",
    "\n",
    "You are cordially invited to attend \"The Annual Charity Gala\" hosted by Sarah Johnson on October 15th, 2023. This event will be a night of fine dining, live entertainment, and fundraising for a worthy cause. All proceeds from the event will go towards supporting local homeless shelter.\n",
    "\n",
    "Date: October 15th, 2023\n",
    "\n",
    "Time: 7 PM\n",
    "\n",
    "Location: The Grand Ballroom, Hyatt Regency Hotel\n",
    "\n",
    "RSVP: sarahjohnson@email.com\n",
    "\n",
    "We hope to see you there!\n",
    "\n",
    "Best regards,\n",
    "Sarah Johnson\n",
    "\"\"\""
   ]
  },
  {
   "cell_type": "code",
   "execution_count": null,
   "metadata": {},
   "outputs": [],
   "source": [
    "class Events:\n",
    "    def __init__(self,text) -> None:\n",
    "        self.text = text\n",
    "        self.sender = str\n",
    "        self.send_email = str\n",
    "        self.event = str\n",
    "        self.date = str\n",
    "    \n",
    "    def find(self, pattern):\n",
    "        match = re.search(pattern, self.text)\n",
    "        return match.group()\n",
    "\n",
    "    def email(self):\n",
    "        pattern = re.compile(r'\\w+@\\w+\\.[a-zA-Z]{2,4}')"
   ]
  }
 ],
 "metadata": {
  "kernelspec": {
   "display_name": "Python 3",
   "language": "python",
   "name": "python3"
  },
  "language_info": {
   "codemirror_mode": {
    "name": "ipython",
    "version": 3
   },
   "file_extension": ".py",
   "mimetype": "text/x-python",
   "name": "python",
   "nbconvert_exporter": "python",
   "pygments_lexer": "ipython3",
   "version": "3.10.6"
  },
  "orig_nbformat": 4,
  "vscode": {
   "interpreter": {
    "hash": "52634da84371cba311ea128a5ea7cdc41ff074b781779e754b270ff9f8153cee"
   }
  }
 },
 "nbformat": 4,
 "nbformat_minor": 2
}
