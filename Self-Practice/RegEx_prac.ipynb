{
 "cells": [
  {
   "attachments": {},
   "cell_type": "markdown",
   "metadata": {},
   "source": [
    "# Contact Information Fetcher"
   ]
  },
  {
   "cell_type": "code",
   "execution_count": 1,
   "metadata": {},
   "outputs": [
    {
     "name": "stdout",
     "output_type": "stream",
     "text": [
      "\n",
      "Here are the lists of phone numbers:\n",
      "\t555-555-5558\n",
      "\t555 555 5559\n",
      "\t555-555-5560\n",
      "\n",
      "Here are the lists of emails:\n",
      "\tfinance@example.com\n",
      "\tmedia@example.com\n",
      "\temergency@example.com\n"
     ]
    }
   ],
   "source": [
    "import re\n",
    "\n",
    "text = \"\"\"\n",
    "\"If you need to reach our finance department, please email finance@example.com or call 555-555-5558.\n",
    "For press and media related inquiries, please email media@example.com or call 555 555 5559.\n",
    "For any urgent matters, please contact our 24/7 hotline at 555-555-5560 or email emergency@example.com\"\n",
    "\"\"\"\n",
    "\n",
    "class InfoFetcher:\n",
    "    def __init__(self, text) -> None:\n",
    "        self.text = text\n",
    "        self.address = \"\"\n",
    "        self.phone = \"\"\n",
    "\n",
    "    def phone_fetcher(self):\n",
    "        phone_pattern = re.compile(r'\\d{3}[\\-\\s]?\\d{3}[\\-\\s]?\\d{4}')\n",
    "        matches = re.finditer(phone_pattern,self.text)\n",
    "        return [i.group() for i in matches]\n",
    "\n",
    "    def email_fetcher(self):\n",
    "        email_pattern = re.compile(r'\\w+@\\w+\\.[a-zA-Z]{2,4}')\n",
    "        matches = re.finditer(email_pattern,self.text)\n",
    "        return [i.group() for i in matches]\n",
    "\n",
    "    def summary(self):\n",
    "        print(\"\\nHere are the lists of phone numbers:\")\n",
    "        for i in self.phone_fetcher():\n",
    "            print(f\"\\t{i}\")\n",
    "        print(\"\\nHere are the lists of emails:\")\n",
    "        for i in self.email_fetcher():\n",
    "            print(f\"\\t{i}\")\n",
    "\n",
    "Contacts = InfoFetcher(text)\n",
    "Contacts.summary()\n"
   ]
  },
  {
   "cell_type": "code",
   "execution_count": 2,
   "metadata": {},
   "outputs": [
    {
     "name": "stdout",
     "output_type": "stream",
     "text": [
      "\n",
      "Here are the lists of phone numbers: 555-555-5558, 555 555 5559, 555-555-5560\n",
      "\n",
      "Here are the lists of emails: finance@example.com, media@example.com, emergency@example.com\n"
     ]
    }
   ],
   "source": [
    "#Optimized ChatGPT Version\n",
    "\n",
    "import re\n",
    "\n",
    "class InfoFetcher:\n",
    "    def __init__(self, text: str) -> None:\n",
    "        self.text = text\n",
    "        # Removed the phone and email variables as they were not used.\n",
    "\n",
    "    def fetch(self, pattern: str) -> list:\n",
    "        # Changed into a reusable pattern finder for phone and email.\n",
    "        matches = re.finditer(pattern, self.text)\n",
    "        return [match.group() for match in matches]\n",
    "\n",
    "    def phone_fetcher(self):\n",
    "        phone_pattern = re.compile(r'\\d{3}[\\-\\s]?\\d{3}[\\-\\s]?\\d{4}')\n",
    "        return self.fetch(phone_pattern) # Automatically calls the fetch() method\n",
    "\n",
    "    def email_fetcher(self):\n",
    "        email_pattern = re.compile(r'\\w+@\\w+\\.[a-zA-Z]{2,4}')\n",
    "        return self.fetch(email_pattern) # Automatically calls the fetch() method\n",
    "\n",
    "    def summary(self):\n",
    "        # Automatically calls the phone_fetcher() and email_fetcher() method\n",
    "        print(f\"\\nHere are the lists of phone numbers: {', '.join(self.phone_fetcher())}\")\n",
    "        print(f\"\\nHere are the lists of emails: {', '.join(self.email_fetcher())}\")\n",
    "\n",
    "text = \"\"\"\n",
    "\"If you need to reach our finance department, please email finance@example.com or call 555-555-5558.\n",
    "For press and media related inquiries, please email media@example.com or call 555 555 5559.\n",
    "For any urgent matters, please contact our 24/7 hotline at 555-555-5560 or email emergency@example.com\"\n",
    "\"\"\"\n",
    "\n",
    "Contacts = InfoFetcher(text)\n",
    "Contacts.summary()"
   ]
  },
  {
   "attachments": {},
   "cell_type": "markdown",
   "metadata": {},
   "source": [
    "# Invitation Summarizer"
   ]
  },
  {
   "cell_type": "code",
   "execution_count": 4,
   "metadata": {},
   "outputs": [],
   "source": [
    "import re\n",
    "\n",
    "text1 = \"\"\"\n",
    "Subject: Invitation to \"The Annual Charity Gala\"\n",
    "\n",
    "Dear John,\n",
    "\n",
    "You are cordially invited to attend \"The Annual Charity Gala\" hosted by Sarah Johnson on October 15th, 2023. This event will be a night of fine dining, live entertainment, and fundraising for a worthy cause. All proceeds from the event will go towards supporting local homeless shelter.\n",
    "\n",
    "Date: October 15, 2023\n",
    "\n",
    "Time: 7 PM\n",
    "\n",
    "Location: The Grand Ballroom, Hyatt Regency Hotel\n",
    "\n",
    "RSVP: sarahjohnson@email.com (+63-912-346-7891)\n",
    "\n",
    "We hope to see you there!\n",
    "\n",
    "Best regards,\n",
    "Sarah Johnson\n",
    "\"\"\"\n",
    "\n",
    "text2 = \"\"\"\n",
    "Subject: Invitation to \"The Summer Garden Party\"\n",
    "\n",
    "Dear Michael,\n",
    "\n",
    "You are cordially invited to attend \"The Summer Garden Party\" hosted by Jessica Smith on June 25th, 2023. This event will be a night of lively music, delicious food and drinks, and a chance to network with other professionals. All proceeds from the event will go towards supporting the local community center\n",
    "\n",
    "Date: June 25th, 2023\n",
    "\n",
    "Time: 6 PM\n",
    "\n",
    "Location: The Smith's Estate Garden\n",
    "\n",
    "RSVP: jessicasmith@email.com\n",
    "\n",
    "We hope to see you there!\n",
    "\n",
    "Best regards,\n",
    "Jessica Smith\n",
    "\"\"\""
   ]
  },
  {
   "cell_type": "code",
   "execution_count": 10,
   "metadata": {},
   "outputs": [
    {
     "name": "stdout",
     "output_type": "stream",
     "text": [
      "Event: \"The Annual Charity Gala\"\n",
      "Schedule: October 15th, 2023\n",
      "Sender Email: sarahjohnson@email.com\n",
      "Sender Phone: +63-912-346-7891\n",
      "\n",
      "Event: \"The Summer Garden Party\"\n",
      "Schedule: June 25th, 2023\n",
      "Sender Email: jessicasmith@email.com\n",
      "Sender Phone: None\n",
      "\n"
     ]
    }
   ],
   "source": [
    "class Events:\n",
    "    def __init__(self,text) -> None:\n",
    "        self.text = text\n",
    "        self.sender = str\n",
    "        self.send_email = str\n",
    "        self.event = str\n",
    "        self.date = str\n",
    "    \n",
    "    def find(self, pattern):\n",
    "        match = re.search(pattern, self.text)\n",
    "        if match == None:\n",
    "            return \"None\"\n",
    "        else:\n",
    "            return match.group()\n",
    "\n",
    "    def email(self):\n",
    "        pattern = re.compile(r'\\w+@\\w+\\.[a-zA-Z]{2,4}')\n",
    "        return self.find(pattern)\n",
    "    \n",
    "    def phone(self):\n",
    "        pattern = re.compile(r'((\\+63)[ -]?(\\d{3})[ -]?(\\d{3})[ -]?(\\d{4}))|(09\\d{9})')\n",
    "        return self.find(pattern)\n",
    "\n",
    "    def event_catch(self):\n",
    "        pattern = re.compile(r'\\\"([A-Z0-9]\\w+\\s?)+\\\"')\n",
    "        return self.find(pattern)\n",
    "    \n",
    "    def date_catch(self):\n",
    "        pattern = re.compile(r'((0?[1-9]|[12][0-9]|3[01])[-/.](0?[1-9]|1[012])[-/.](19|20)?\\d{2})|((Jan(uary)?|Feb(ruary)?|Mar(ch)?|Apr(il)?|May|Jun(e)?|Jul(y)?|Aug(ust)?|Sep(tember)?|Oct(ober)?|Nov(ember)?|Dec(ember)?)\\s(0?[1-9][a-z]{2}|[12]\\d[a-z]{2}|3[01][a-z]{2}),?\\s(19|20)?\\d{2})')\n",
    "        return self.find(pattern)\n",
    "\n",
    "    def summary(self):\n",
    "        print(f\"Event: {self.event_catch()}\")\n",
    "        print(f\"Schedule: {self.date_catch()}\")\n",
    "        print(f\"Sender Email: {self.email()}\")\n",
    "        print(f\"Sender Phone: {self.phone()}\\n\")\n",
    "\n",
    "event_catcher = Events(text1)\n",
    "event_catcher.summary()\n",
    "\n",
    "event_catcher2 = Events(text2)\n",
    "event_catcher2.summary()\n",
    "\n"
   ]
  },
  {
   "cell_type": "code",
   "execution_count": 15,
   "metadata": {},
   "outputs": [
    {
     "name": "stdout",
     "output_type": "stream",
     "text": [
      "Event: \"The Annual Charity Gala\"\n",
      "Schedule: October 15th, 2023\n",
      "Sender Email: sarahjohnson@email.com\n",
      "Sender Phone: +63-912-346-7891\n",
      "\n",
      "Event: \"The Summer Garden Party\"\n",
      "Schedule: June 25th, 2023\n",
      "Sender Email: jessicasmith@email.com\n",
      "Sender Phone: None\n",
      "\n"
     ]
    }
   ],
   "source": [
    "import re\n",
    "\n",
    "class Events:\n",
    "    def __init__(self, text):\n",
    "        self.text = text\n",
    "        self.email_pattern = re.compile(r'\\w+@\\w+\\.[a-zA-Z]{2,4}')\n",
    "        self.phone_pattern = re.compile(r'((\\+63)[ -]?(\\d{3})[ -]?(\\d{3})[ -]?(\\d{4}))|(09\\d{9})')\n",
    "        self.event_pattern = re.compile(r'\\\"([A-Z0-9]\\w+\\s?)+\\\"')\n",
    "        self.date_pattern = re.compile(r'((0?[1-9]|[12][0-9]|3[01])[-/.](0?[1-9]|1[012])[-/.](19|20)?\\d{2})|((Jan(uary)?|Feb(ruary)?|Mar(ch)?|Apr(il)?|May|Jun(e)?|Jul(y)?|Aug(ust)?|Sep(tember)?|Oct(ober)?|Nov(ember)?|Dec(ember)?)\\s(0?[1-9][a-z]{2}|[12]\\d[a-z]{2}|3[01][a-z]{2}),?\\s(19|20)?\\d{2})')\n",
    "\n",
    "    def find(self, pattern):\n",
    "        match = pattern.search(self.text)\n",
    "        return match.group() if match else \"None\"\n",
    "\n",
    "    def summary(self):\n",
    "        print(f\"Event: {self.find(self.event_pattern)}\")\n",
    "        print(f\"Schedule: {self.find(self.date_pattern)}\")\n",
    "        print(f\"Sender Email: {self.find(self.email_pattern)}\")\n",
    "        print(f\"Sender Phone: {self.find(self.phone_pattern)}\\n\")\n",
    "\n",
    "event_catcher = Events(text1)\n",
    "event_catcher.summary()\n",
    "\n",
    "event_catcher2 = Events(text2)\n",
    "event_catcher2.summary()"
   ]
  }
 ],
 "metadata": {
  "kernelspec": {
   "display_name": "Python 3",
   "language": "python",
   "name": "python3"
  },
  "language_info": {
   "codemirror_mode": {
    "name": "ipython",
    "version": 3
   },
   "file_extension": ".py",
   "mimetype": "text/x-python",
   "name": "python",
   "nbconvert_exporter": "python",
   "pygments_lexer": "ipython3",
   "version": "3.10.6"
  },
  "orig_nbformat": 4,
  "vscode": {
   "interpreter": {
    "hash": "52634da84371cba311ea128a5ea7cdc41ff074b781779e754b270ff9f8153cee"
   }
  }
 },
 "nbformat": 4,
 "nbformat_minor": 2
}
