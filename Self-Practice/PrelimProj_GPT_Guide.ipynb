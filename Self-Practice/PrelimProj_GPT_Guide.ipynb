{
 "cells": [
  {
   "cell_type": "code",
   "execution_count": 1,
   "metadata": {},
   "outputs": [
    {
     "name": "stdout",
     "output_type": "stream",
     "text": [
      "\n",
      "From: John Smith (john@example.com)\n",
      "Event Schedule: Jan 20, 2022 at 12:30:00\n",
      "\n"
     ]
    },
    {
     "data": {
      "text/plain": [
       "'\\nThe new name_pattern regular expression uses a capturing group (enclosed in parentheses) to match the first name and surname separately. The regular expression ([A-Z][a-z]+)\\\\s([A-Z][a-z]+) matches a word that starts with a capital letter, followed by one or more lowercase letters and then a space and another word that starts with a capital letter and one or more lowercase letters.\\n\\nThe name_match.group(1) will match the first name and name_match.group(2) will match the surname.\\n'"
      ]
     },
     "execution_count": 1,
     "metadata": {},
     "output_type": "execute_result"
    }
   ],
   "source": [
    "import re\n",
    "\n",
    "class SentenceInfo:\n",
    "    def __init__(self, sentence):\n",
    "        self.sentence = sentence\n",
    "        self.name = None\n",
    "        self.email = None\n",
    "        self.date = None\n",
    "        self.time = None\n",
    "        \n",
    "    def extract_info(self):\n",
    "        name_pattern = r'([A-Z][a-z]+)\\s([A-Z][a-z]+)'\n",
    "        email_pattern = r'([a-zA-Z0-9_.+-]+@[a-zA-Z0-9-]+\\.[a-zA-Z0-9-.]+)'\n",
    "        date_pattern = r'((\\d{1,2}[/-]\\d{1,2}[/-]\\d{4})|(Jan(uary)?|Feb(ruary)?|Mar(ch)?|Apr(il)?|May|Jun(e)?|Jul(y)?|Aug(ust)?|Sep(tember)?|Oct(ober)?|Nov(ember)?|Dec(ember)?)\\s\\d{1,2},\\s\\d{4})'\n",
    "        time_pattern = r'(\\d{1,2}:\\d{1,2}:\\d{1,2})'\n",
    "\n",
    "        name_match = re.search(name_pattern, self.sentence)\n",
    "        self.first_name = name_match.group(1)\n",
    "        self.surname = name_match.group(2)\n",
    "        self.email = re.search(email_pattern, self.sentence).group()\n",
    "        self.date = re.search(date_pattern, self.sentence).group()\n",
    "        self.time = re.search(time_pattern, self.sentence).group()\n",
    "    \n",
    "    def print_summary(self):\n",
    "        print(f\"\\nFrom: {self.first_name} {self.surname} ({self.email})\\nEvent Schedule: {self.date} at {self.time}\\n\")\n",
    "\n",
    "sentence = \"My name is John Smith and my email is john@example.com, I will meet you on Jan 20, 2022 at 12:30:00\"\n",
    "sentence_info = SentenceInfo(sentence)\n",
    "sentence_info.extract_info()\n",
    "sentence_info.print_summary()\n",
    "\n",
    "\n",
    "\"\"\"\n",
    "The new name_pattern regular expression uses a capturing group (enclosed in parentheses) to match the first name and surname separately. The regular expression ([A-Z][a-z]+)\\s([A-Z][a-z]+) matches a word that starts with a capital letter, followed by one or more lowercase letters and then a space and another word that starts with a capital letter and one or more lowercase letters.\n",
    "\n",
    "The name_match.group(1) will match the first name and name_match.group(2) will match the surname.\n",
    "\"\"\""
   ]
  },
  {
   "cell_type": "code",
   "execution_count": 2,
   "metadata": {},
   "outputs": [
    {
     "name": "stdout",
     "output_type": "stream",
     "text": [
      "Event: Party, Host: Jane Doe, Date: 2022-01-19, Time: 20:00:00\n",
      "Event: Meeting, Host: John Smith, Date: 2022-01-20, Time: 10:00:00\n",
      "Event: Conference, Host: Bob Johnson, Date: 2022-01-21, Time: 09:00:00\n"
     ]
    }
   ],
   "source": [
    "import re\n",
    "from datetime import datetime\n",
    "\n",
    "class Event:\n",
    "    def __init__(self, sender, email, event_name, event_date, event_time):\n",
    "        self.sender = sender\n",
    "        self.email = email\n",
    "        self.event_name = event_name\n",
    "        self.event_date = datetime.strptime(event_date, '%m/%d/%Y').date()\n",
    "        self.event_time = datetime.strptime(event_time, '%I:%M %p').time()\n",
    "\n",
    "    def __str__(self):\n",
    "        return f'Event: {self.event_name}, Host: {self.sender}, Date: {self.event_date}, Time: {self.event_time}'\n",
    "\n",
    "def extract_data(invitation):\n",
    "    sender_pattern = r'From: (.*)'\n",
    "    email_pattern = r'Email: (.*)'\n",
    "    event_name_pattern = r'Event Name: (.*)'\n",
    "    event_date_pattern = r'Date: (.*)'\n",
    "    event_time_pattern = r'Time: (.*)'\n",
    "    \n",
    "    sender = re.search(sender_pattern, invitation).group(1)\n",
    "    email = re.search(email_pattern, invitation).group(1)\n",
    "    event_name = re.search(event_name_pattern, invitation).group(1)\n",
    "    event_date = re.search(event_date_pattern, invitation).group(1)\n",
    "    event_time = re.search(event_time_pattern, invitation).group(1)\n",
    "    \n",
    "    return Event(sender, email, event_name, event_date, event_time)\n",
    "\n",
    "invitations = [\n",
    "    'From: John Smith\\nEmail: johnsmith@example.com\\nEvent Name: Meeting\\nDate: 01/20/2022\\nTime: 10:00 AM',\n",
    "    'From: Jane Doe\\nEmail: janedoe@example.com\\nEvent Name: Party\\nDate: 01/19/2022\\nTime: 8:00 PM',\n",
    "    'From: Bob Johnson\\nEmail: bobjohnson@example.com\\nEvent Name: Conference\\nDate: 01/21/2022\\nTime: 9:00 AM'\n",
    "]\n",
    "\n",
    "events = [extract_data(invitation) for invitation in invitations]\n",
    "events.sort(key=lambda x: (x.event_date, x.event_time))\n",
    "\n",
    "for event in events:\n",
    "    print(event)"
   ]
  }
 ],
 "metadata": {
  "kernelspec": {
   "display_name": "Python 3",
   "language": "python",
   "name": "python3"
  },
  "language_info": {
   "codemirror_mode": {
    "name": "ipython",
    "version": 3
   },
   "file_extension": ".py",
   "mimetype": "text/x-python",
   "name": "python",
   "nbconvert_exporter": "python",
   "pygments_lexer": "ipython3",
   "version": "3.10.6"
  },
  "orig_nbformat": 4,
  "vscode": {
   "interpreter": {
    "hash": "52634da84371cba311ea128a5ea7cdc41ff074b781779e754b270ff9f8153cee"
   }
  }
 },
 "nbformat": 4,
 "nbformat_minor": 2
}
